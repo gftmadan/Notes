{
 "cells": [
  {
   "cell_type": "code",
   "execution_count": 1,
   "id": "414902f9",
   "metadata": {},
   "outputs": [],
   "source": [
    "import pandas as pd\n",
    "import numpy as np"
   ]
  },
  {
   "cell_type": "code",
   "execution_count": 2,
   "id": "e3589c0a",
   "metadata": {},
   "outputs": [],
   "source": [
    "dt = pd.read_csv(r\"D:\\Machine Learning\\Sample Project1\\Notes Notebooks\\Working_Data\\diabetes_dataset.csv\")"
   ]
  },
  {
   "cell_type": "code",
   "execution_count": 3,
   "id": "d9898740",
   "metadata": {},
   "outputs": [
    {
     "data": {
      "text/plain": [
       "100000"
      ]
     },
     "execution_count": 3,
     "metadata": {},
     "output_type": "execute_result"
    }
   ],
   "source": [
    "len(dt)"
   ]
  },
  {
   "cell_type": "code",
   "execution_count": 4,
   "id": "33cf4852",
   "metadata": {},
   "outputs": [
    {
     "data": {
      "text/html": [
       "<div>\n",
       "<style scoped>\n",
       "    .dataframe tbody tr th:only-of-type {\n",
       "        vertical-align: middle;\n",
       "    }\n",
       "\n",
       "    .dataframe tbody tr th {\n",
       "        vertical-align: top;\n",
       "    }\n",
       "\n",
       "    .dataframe thead th {\n",
       "        text-align: right;\n",
       "    }\n",
       "</style>\n",
       "<table border=\"1\" class=\"dataframe\">\n",
       "  <thead>\n",
       "    <tr style=\"text-align: right;\">\n",
       "      <th></th>\n",
       "      <th>gender</th>\n",
       "      <th>age</th>\n",
       "      <th>hypertension</th>\n",
       "      <th>heart_disease</th>\n",
       "      <th>smoking_history</th>\n",
       "      <th>bmi</th>\n",
       "      <th>HbA1c_level</th>\n",
       "      <th>blood_glucose_level</th>\n",
       "      <th>diabetes</th>\n",
       "    </tr>\n",
       "  </thead>\n",
       "  <tbody>\n",
       "    <tr>\n",
       "      <th>0</th>\n",
       "      <td>Female</td>\n",
       "      <td>80.0</td>\n",
       "      <td>0</td>\n",
       "      <td>1</td>\n",
       "      <td>never</td>\n",
       "      <td>25.19</td>\n",
       "      <td>6.6</td>\n",
       "      <td>140</td>\n",
       "      <td>0</td>\n",
       "    </tr>\n",
       "    <tr>\n",
       "      <th>1</th>\n",
       "      <td>Female</td>\n",
       "      <td>54.0</td>\n",
       "      <td>0</td>\n",
       "      <td>0</td>\n",
       "      <td>No Info</td>\n",
       "      <td>27.32</td>\n",
       "      <td>6.6</td>\n",
       "      <td>80</td>\n",
       "      <td>0</td>\n",
       "    </tr>\n",
       "    <tr>\n",
       "      <th>2</th>\n",
       "      <td>Male</td>\n",
       "      <td>28.0</td>\n",
       "      <td>0</td>\n",
       "      <td>0</td>\n",
       "      <td>never</td>\n",
       "      <td>27.32</td>\n",
       "      <td>5.7</td>\n",
       "      <td>158</td>\n",
       "      <td>0</td>\n",
       "    </tr>\n",
       "    <tr>\n",
       "      <th>3</th>\n",
       "      <td>Female</td>\n",
       "      <td>36.0</td>\n",
       "      <td>0</td>\n",
       "      <td>0</td>\n",
       "      <td>current</td>\n",
       "      <td>23.45</td>\n",
       "      <td>5.0</td>\n",
       "      <td>155</td>\n",
       "      <td>0</td>\n",
       "    </tr>\n",
       "    <tr>\n",
       "      <th>4</th>\n",
       "      <td>Male</td>\n",
       "      <td>76.0</td>\n",
       "      <td>1</td>\n",
       "      <td>1</td>\n",
       "      <td>current</td>\n",
       "      <td>20.14</td>\n",
       "      <td>4.8</td>\n",
       "      <td>155</td>\n",
       "      <td>0</td>\n",
       "    </tr>\n",
       "  </tbody>\n",
       "</table>\n",
       "</div>"
      ],
      "text/plain": [
       "   gender   age  hypertension  heart_disease smoking_history    bmi  \\\n",
       "0  Female  80.0             0              1           never  25.19   \n",
       "1  Female  54.0             0              0         No Info  27.32   \n",
       "2    Male  28.0             0              0           never  27.32   \n",
       "3  Female  36.0             0              0         current  23.45   \n",
       "4    Male  76.0             1              1         current  20.14   \n",
       "\n",
       "   HbA1c_level  blood_glucose_level  diabetes  \n",
       "0          6.6                  140         0  \n",
       "1          6.6                   80         0  \n",
       "2          5.7                  158         0  \n",
       "3          5.0                  155         0  \n",
       "4          4.8                  155         0  "
      ]
     },
     "execution_count": 4,
     "metadata": {},
     "output_type": "execute_result"
    }
   ],
   "source": [
    "dt.head()"
   ]
  },
  {
   "cell_type": "code",
   "execution_count": 5,
   "id": "a6e153c2",
   "metadata": {},
   "outputs": [],
   "source": [
    "X = dt.drop(\"diabetes\",axis=1)\n",
    "y = dt[\"diabetes\"]"
   ]
  },
  {
   "cell_type": "code",
   "execution_count": 6,
   "id": "66bdc015",
   "metadata": {},
   "outputs": [
    {
     "data": {
      "text/plain": [
       "0    91500\n",
       "1     8500\n",
       "Name: diabetes, dtype: int64"
      ]
     },
     "execution_count": 6,
     "metadata": {},
     "output_type": "execute_result"
    }
   ],
   "source": [
    "y.value_counts()"
   ]
  },
  {
   "cell_type": "code",
   "execution_count": 7,
   "id": "e2b2edb7",
   "metadata": {},
   "outputs": [
    {
     "data": {
      "text/html": [
       "<div>\n",
       "<style scoped>\n",
       "    .dataframe tbody tr th:only-of-type {\n",
       "        vertical-align: middle;\n",
       "    }\n",
       "\n",
       "    .dataframe tbody tr th {\n",
       "        vertical-align: top;\n",
       "    }\n",
       "\n",
       "    .dataframe thead th {\n",
       "        text-align: right;\n",
       "    }\n",
       "</style>\n",
       "<table border=\"1\" class=\"dataframe\">\n",
       "  <thead>\n",
       "    <tr style=\"text-align: right;\">\n",
       "      <th></th>\n",
       "      <th>ohe__gender_Female</th>\n",
       "      <th>ohe__gender_Male</th>\n",
       "      <th>ohe__gender_Other</th>\n",
       "      <th>ohe__smoking_history_No Info</th>\n",
       "      <th>ohe__smoking_history_current</th>\n",
       "      <th>ohe__smoking_history_ever</th>\n",
       "      <th>ohe__smoking_history_former</th>\n",
       "      <th>ohe__smoking_history_never</th>\n",
       "      <th>ohe__smoking_history_not current</th>\n",
       "      <th>remainder__age</th>\n",
       "      <th>remainder__hypertension</th>\n",
       "      <th>remainder__heart_disease</th>\n",
       "      <th>remainder__bmi</th>\n",
       "      <th>remainder__HbA1c_level</th>\n",
       "      <th>remainder__blood_glucose_level</th>\n",
       "    </tr>\n",
       "  </thead>\n",
       "  <tbody>\n",
       "    <tr>\n",
       "      <th>0</th>\n",
       "      <td>1.0</td>\n",
       "      <td>0.0</td>\n",
       "      <td>0.0</td>\n",
       "      <td>0.0</td>\n",
       "      <td>0.0</td>\n",
       "      <td>0.0</td>\n",
       "      <td>0.0</td>\n",
       "      <td>1.0</td>\n",
       "      <td>0.0</td>\n",
       "      <td>80.0</td>\n",
       "      <td>0</td>\n",
       "      <td>1</td>\n",
       "      <td>25.19</td>\n",
       "      <td>6.6</td>\n",
       "      <td>140</td>\n",
       "    </tr>\n",
       "    <tr>\n",
       "      <th>1</th>\n",
       "      <td>1.0</td>\n",
       "      <td>0.0</td>\n",
       "      <td>0.0</td>\n",
       "      <td>1.0</td>\n",
       "      <td>0.0</td>\n",
       "      <td>0.0</td>\n",
       "      <td>0.0</td>\n",
       "      <td>0.0</td>\n",
       "      <td>0.0</td>\n",
       "      <td>54.0</td>\n",
       "      <td>0</td>\n",
       "      <td>0</td>\n",
       "      <td>27.32</td>\n",
       "      <td>6.6</td>\n",
       "      <td>80</td>\n",
       "    </tr>\n",
       "    <tr>\n",
       "      <th>2</th>\n",
       "      <td>0.0</td>\n",
       "      <td>1.0</td>\n",
       "      <td>0.0</td>\n",
       "      <td>0.0</td>\n",
       "      <td>0.0</td>\n",
       "      <td>0.0</td>\n",
       "      <td>0.0</td>\n",
       "      <td>1.0</td>\n",
       "      <td>0.0</td>\n",
       "      <td>28.0</td>\n",
       "      <td>0</td>\n",
       "      <td>0</td>\n",
       "      <td>27.32</td>\n",
       "      <td>5.7</td>\n",
       "      <td>158</td>\n",
       "    </tr>\n",
       "    <tr>\n",
       "      <th>3</th>\n",
       "      <td>1.0</td>\n",
       "      <td>0.0</td>\n",
       "      <td>0.0</td>\n",
       "      <td>0.0</td>\n",
       "      <td>1.0</td>\n",
       "      <td>0.0</td>\n",
       "      <td>0.0</td>\n",
       "      <td>0.0</td>\n",
       "      <td>0.0</td>\n",
       "      <td>36.0</td>\n",
       "      <td>0</td>\n",
       "      <td>0</td>\n",
       "      <td>23.45</td>\n",
       "      <td>5.0</td>\n",
       "      <td>155</td>\n",
       "    </tr>\n",
       "    <tr>\n",
       "      <th>4</th>\n",
       "      <td>0.0</td>\n",
       "      <td>1.0</td>\n",
       "      <td>0.0</td>\n",
       "      <td>0.0</td>\n",
       "      <td>1.0</td>\n",
       "      <td>0.0</td>\n",
       "      <td>0.0</td>\n",
       "      <td>0.0</td>\n",
       "      <td>0.0</td>\n",
       "      <td>76.0</td>\n",
       "      <td>1</td>\n",
       "      <td>1</td>\n",
       "      <td>20.14</td>\n",
       "      <td>4.8</td>\n",
       "      <td>155</td>\n",
       "    </tr>\n",
       "  </tbody>\n",
       "</table>\n",
       "</div>"
      ],
      "text/plain": [
       "   ohe__gender_Female  ohe__gender_Male  ohe__gender_Other  \\\n",
       "0                 1.0               0.0                0.0   \n",
       "1                 1.0               0.0                0.0   \n",
       "2                 0.0               1.0                0.0   \n",
       "3                 1.0               0.0                0.0   \n",
       "4                 0.0               1.0                0.0   \n",
       "\n",
       "   ohe__smoking_history_No Info  ohe__smoking_history_current  \\\n",
       "0                           0.0                           0.0   \n",
       "1                           1.0                           0.0   \n",
       "2                           0.0                           0.0   \n",
       "3                           0.0                           1.0   \n",
       "4                           0.0                           1.0   \n",
       "\n",
       "   ohe__smoking_history_ever  ohe__smoking_history_former  \\\n",
       "0                        0.0                          0.0   \n",
       "1                        0.0                          0.0   \n",
       "2                        0.0                          0.0   \n",
       "3                        0.0                          0.0   \n",
       "4                        0.0                          0.0   \n",
       "\n",
       "   ohe__smoking_history_never  ohe__smoking_history_not current  \\\n",
       "0                         1.0                               0.0   \n",
       "1                         0.0                               0.0   \n",
       "2                         1.0                               0.0   \n",
       "3                         0.0                               0.0   \n",
       "4                         0.0                               0.0   \n",
       "\n",
       "   remainder__age  remainder__hypertension  remainder__heart_disease  \\\n",
       "0            80.0                        0                         1   \n",
       "1            54.0                        0                         0   \n",
       "2            28.0                        0                         0   \n",
       "3            36.0                        0                         0   \n",
       "4            76.0                        1                         1   \n",
       "\n",
       "   remainder__bmi  remainder__HbA1c_level  remainder__blood_glucose_level  \n",
       "0           25.19                     6.6                             140  \n",
       "1           27.32                     6.6                              80  \n",
       "2           27.32                     5.7                             158  \n",
       "3           23.45                     5.0                             155  \n",
       "4           20.14                     4.8                             155  "
      ]
     },
     "execution_count": 7,
     "metadata": {},
     "output_type": "execute_result"
    }
   ],
   "source": [
    "from sklearn.preprocessing import OneHotEncoder\n",
    "from sklearn.compose import ColumnTransformer\n",
    "\n",
    "ohe = OneHotEncoder(sparse_output=False)\n",
    "clt = ColumnTransformer([(\"ohe\",ohe,[\"gender\",\"smoking_history\"])],remainder=\"passthrough\")\n",
    "clt.fit(X)\n",
    "clt.set_output(transform=\"pandas\")\n",
    "X = clt.transform(X)\n",
    "X.head()"
   ]
  },
  {
   "cell_type": "code",
   "execution_count": 8,
   "id": "fbbccdc8",
   "metadata": {},
   "outputs": [],
   "source": [
    "from sklearn.model_selection import train_test_split\n",
    "\n",
    "np.random.seed(42)\n",
    "X_first,X_test,y_first,y_test = train_test_split(X,y,test_size=0.15)"
   ]
  },
  {
   "cell_type": "code",
   "execution_count": 9,
   "id": "5412485b",
   "metadata": {},
   "outputs": [
    {
     "data": {
      "text/html": [
       "<div>\n",
       "<style scoped>\n",
       "    .dataframe tbody tr th:only-of-type {\n",
       "        vertical-align: middle;\n",
       "    }\n",
       "\n",
       "    .dataframe tbody tr th {\n",
       "        vertical-align: top;\n",
       "    }\n",
       "\n",
       "    .dataframe thead th {\n",
       "        text-align: right;\n",
       "    }\n",
       "</style>\n",
       "<table border=\"1\" class=\"dataframe\">\n",
       "  <thead>\n",
       "    <tr style=\"text-align: right;\">\n",
       "      <th></th>\n",
       "      <th>ohe__gender_Female</th>\n",
       "      <th>ohe__gender_Male</th>\n",
       "      <th>ohe__gender_Other</th>\n",
       "      <th>ohe__smoking_history_No Info</th>\n",
       "      <th>ohe__smoking_history_current</th>\n",
       "      <th>ohe__smoking_history_ever</th>\n",
       "      <th>ohe__smoking_history_former</th>\n",
       "      <th>ohe__smoking_history_never</th>\n",
       "      <th>ohe__smoking_history_not current</th>\n",
       "      <th>remainder__age</th>\n",
       "      <th>remainder__hypertension</th>\n",
       "      <th>remainder__heart_disease</th>\n",
       "      <th>remainder__bmi</th>\n",
       "      <th>remainder__HbA1c_level</th>\n",
       "      <th>remainder__blood_glucose_level</th>\n",
       "    </tr>\n",
       "  </thead>\n",
       "  <tbody>\n",
       "    <tr>\n",
       "      <th>71584</th>\n",
       "      <td>0.0</td>\n",
       "      <td>1.0</td>\n",
       "      <td>0.0</td>\n",
       "      <td>1.0</td>\n",
       "      <td>0.0</td>\n",
       "      <td>0.0</td>\n",
       "      <td>0.0</td>\n",
       "      <td>0.0</td>\n",
       "      <td>0.0</td>\n",
       "      <td>72.0</td>\n",
       "      <td>0</td>\n",
       "      <td>0</td>\n",
       "      <td>27.32</td>\n",
       "      <td>5.7</td>\n",
       "      <td>159</td>\n",
       "    </tr>\n",
       "    <tr>\n",
       "      <th>98962</th>\n",
       "      <td>1.0</td>\n",
       "      <td>0.0</td>\n",
       "      <td>0.0</td>\n",
       "      <td>0.0</td>\n",
       "      <td>0.0</td>\n",
       "      <td>0.0</td>\n",
       "      <td>0.0</td>\n",
       "      <td>1.0</td>\n",
       "      <td>0.0</td>\n",
       "      <td>21.0</td>\n",
       "      <td>0</td>\n",
       "      <td>0</td>\n",
       "      <td>27.32</td>\n",
       "      <td>6.1</td>\n",
       "      <td>130</td>\n",
       "    </tr>\n",
       "    <tr>\n",
       "      <th>74509</th>\n",
       "      <td>0.0</td>\n",
       "      <td>1.0</td>\n",
       "      <td>0.0</td>\n",
       "      <td>1.0</td>\n",
       "      <td>0.0</td>\n",
       "      <td>0.0</td>\n",
       "      <td>0.0</td>\n",
       "      <td>0.0</td>\n",
       "      <td>0.0</td>\n",
       "      <td>9.0</td>\n",
       "      <td>0</td>\n",
       "      <td>0</td>\n",
       "      <td>15.97</td>\n",
       "      <td>4.5</td>\n",
       "      <td>85</td>\n",
       "    </tr>\n",
       "    <tr>\n",
       "      <th>86798</th>\n",
       "      <td>1.0</td>\n",
       "      <td>0.0</td>\n",
       "      <td>0.0</td>\n",
       "      <td>0.0</td>\n",
       "      <td>0.0</td>\n",
       "      <td>0.0</td>\n",
       "      <td>0.0</td>\n",
       "      <td>1.0</td>\n",
       "      <td>0.0</td>\n",
       "      <td>35.0</td>\n",
       "      <td>0</td>\n",
       "      <td>0</td>\n",
       "      <td>27.32</td>\n",
       "      <td>4.0</td>\n",
       "      <td>90</td>\n",
       "    </tr>\n",
       "    <tr>\n",
       "      <th>54930</th>\n",
       "      <td>1.0</td>\n",
       "      <td>0.0</td>\n",
       "      <td>0.0</td>\n",
       "      <td>0.0</td>\n",
       "      <td>0.0</td>\n",
       "      <td>0.0</td>\n",
       "      <td>0.0</td>\n",
       "      <td>1.0</td>\n",
       "      <td>0.0</td>\n",
       "      <td>22.0</td>\n",
       "      <td>0</td>\n",
       "      <td>0</td>\n",
       "      <td>27.32</td>\n",
       "      <td>4.0</td>\n",
       "      <td>140</td>\n",
       "    </tr>\n",
       "  </tbody>\n",
       "</table>\n",
       "</div>"
      ],
      "text/plain": [
       "       ohe__gender_Female  ohe__gender_Male  ohe__gender_Other  \\\n",
       "71584                 0.0               1.0                0.0   \n",
       "98962                 1.0               0.0                0.0   \n",
       "74509                 0.0               1.0                0.0   \n",
       "86798                 1.0               0.0                0.0   \n",
       "54930                 1.0               0.0                0.0   \n",
       "\n",
       "       ohe__smoking_history_No Info  ohe__smoking_history_current  \\\n",
       "71584                           1.0                           0.0   \n",
       "98962                           0.0                           0.0   \n",
       "74509                           1.0                           0.0   \n",
       "86798                           0.0                           0.0   \n",
       "54930                           0.0                           0.0   \n",
       "\n",
       "       ohe__smoking_history_ever  ohe__smoking_history_former  \\\n",
       "71584                        0.0                          0.0   \n",
       "98962                        0.0                          0.0   \n",
       "74509                        0.0                          0.0   \n",
       "86798                        0.0                          0.0   \n",
       "54930                        0.0                          0.0   \n",
       "\n",
       "       ohe__smoking_history_never  ohe__smoking_history_not current  \\\n",
       "71584                         0.0                               0.0   \n",
       "98962                         1.0                               0.0   \n",
       "74509                         0.0                               0.0   \n",
       "86798                         1.0                               0.0   \n",
       "54930                         1.0                               0.0   \n",
       "\n",
       "       remainder__age  remainder__hypertension  remainder__heart_disease  \\\n",
       "71584            72.0                        0                         0   \n",
       "98962            21.0                        0                         0   \n",
       "74509             9.0                        0                         0   \n",
       "86798            35.0                        0                         0   \n",
       "54930            22.0                        0                         0   \n",
       "\n",
       "       remainder__bmi  remainder__HbA1c_level  remainder__blood_glucose_level  \n",
       "71584           27.32                     5.7                             159  \n",
       "98962           27.32                     6.1                             130  \n",
       "74509           15.97                     4.5                              85  \n",
       "86798           27.32                     4.0                              90  \n",
       "54930           27.32                     4.0                             140  "
      ]
     },
     "execution_count": 9,
     "metadata": {},
     "output_type": "execute_result"
    }
   ],
   "source": [
    "X_first.head()"
   ]
  },
  {
   "cell_type": "code",
   "execution_count": 10,
   "id": "fe87efdd",
   "metadata": {},
   "outputs": [
    {
     "data": {
      "text/plain": [
       "0    77784\n",
       "1     7216\n",
       "Name: diabetes, dtype: int64"
      ]
     },
     "execution_count": 10,
     "metadata": {},
     "output_type": "execute_result"
    }
   ],
   "source": [
    "y_first.value_counts()"
   ]
  },
  {
   "cell_type": "code",
   "execution_count": 11,
   "id": "dd8739c3",
   "metadata": {},
   "outputs": [],
   "source": [
    "np.random.seed(42)\n",
    "X_train,X_valid,y_train,y_valid = train_test_split(X_first,y_first,test_size=0.15)"
   ]
  },
  {
   "cell_type": "code",
   "execution_count": 25,
   "id": "a604de23",
   "metadata": {},
   "outputs": [
    {
     "data": {
      "text/plain": [
       "0    11711\n",
       "1     1039\n",
       "Name: diabetes, dtype: int64"
      ]
     },
     "execution_count": 25,
     "metadata": {},
     "output_type": "execute_result"
    }
   ],
   "source": [
    "y_valid.value_counts()"
   ]
  },
  {
   "cell_type": "code",
   "execution_count": 26,
   "id": "f713a205",
   "metadata": {},
   "outputs": [
    {
     "name": "stdout",
     "output_type": "stream",
     "text": [
      "0.960156862745098\n"
     ]
    }
   ],
   "source": [
    "np.random.seed(4100)\n",
    "from sklearn.linear_model import SGDClassifier\n",
    "\n",
    "sget = SGDClassifier()\n",
    "sget.fit(X_train,y_train)\n",
    "y_preds = sget.predict(X_valid)\n",
    "print(sget.score(X_valid,y_valid))"
   ]
  },
  {
   "cell_type": "code",
   "execution_count": 29,
   "id": "fb53176c",
   "metadata": {},
   "outputs": [
    {
     "name": "stdout",
     "output_type": "stream",
     "text": [
      "0.9479647058823529\n"
     ]
    }
   ],
   "source": [
    "from sklearn.model_selection import cross_val_score\n",
    "\n",
    "cv = cross_val_score(sget,X_first,y_first,cv=10)\n",
    "print(np.mean(cv))"
   ]
  },
  {
   "cell_type": "code",
   "execution_count": 24,
   "id": "e12255ea",
   "metadata": {},
   "outputs": [
    {
     "name": "stdout",
     "output_type": "stream",
     "text": [
      "0.960156862745098\n",
      "              precision    recall  f1-score   support\n",
      "\n",
      "           0       0.97      0.99      0.98     11711\n",
      "           1       0.83      0.64      0.72      1039\n",
      "\n",
      "    accuracy                           0.96     12750\n",
      "   macro avg       0.90      0.81      0.85     12750\n",
      "weighted avg       0.96      0.96      0.96     12750\n",
      "\n"
     ]
    },
    {
     "data": {
      "text/plain": [
       "<sklearn.metrics._plot.confusion_matrix.ConfusionMatrixDisplay at 0x19d2a91c640>"
      ]
     },
     "execution_count": 24,
     "metadata": {},
     "output_type": "execute_result"
    },
    {
     "data": {
      "image/png": "[encoded data removed]",
      "text/plain": [
       "<Figure size 640x480 with 2 Axes>"
      ]
     },
     "metadata": {},
     "output_type": "display_data"
    }
   ],
   "source": [
    "from sklearn.metrics import classification_report,ConfusionMatrixDisplay\n",
    "from sklearn.model_selection import cross_val_score\n",
    "\n",
    "print(classification_report(y_valid,y_preds))\n",
    "ConfusionMatrixDisplay.from_predictions(y_valid,y_preds)"
   ]
  },
  {
   "cell_type": "code",
   "execution_count": 42,
   "id": "bcda36f1",
   "metadata": {},
   "outputs": [
    {
     "name": "stdout",
     "output_type": "stream",
     "text": [
      "0.9539529411764706\n",
      "              precision    recall  f1-score   support\n",
      "\n",
      "           0       0.97      0.98      0.98     11711\n",
      "           1       0.74      0.71      0.72      1039\n",
      "\n",
      "    accuracy                           0.96     12750\n",
      "   macro avg       0.86      0.84      0.85     12750\n",
      "weighted avg       0.96      0.96      0.96     12750\n",
      "\n"
     ]
    },
    {
     "data": {
      "text/plain": [
       "<sklearn.metrics._plot.confusion_matrix.ConfusionMatrixDisplay at 0x19d30455480>"
      ]
     },
     "execution_count": 42,
     "metadata": {},
     "output_type": "execute_result"
    },
    {
     "data": {
      "image/png": "[encoded data removed]",
      "text/plain": [
       "<Figure size 640x480 with 2 Axes>"
      ]
     },
     "metadata": {},
     "output_type": "display_data"
    }
   ],
   "source": [
    " np.random.seed(4100)\n",
    "from sklearn.linear_model import SGDClassifier\n",
    "from sklearn.model_selection import cross_val_score\n",
    "\n",
    "sget = SGDClassifier(learning_rate='adaptive',eta0=0.01)\n",
    "sget.fit(X_train,y_train)\n",
    "y_preds = sget.predict(X_valid)\n",
    "cv = cross_val_score(sget,X_first,y_first,cv=10)\n",
    "print(np.mean(cv))\n",
    "from sklearn.metrics import classification_report,ConfusionMatrixDisplay\n",
    "from sklearn.model_selection import cross_val_score\n",
    "\n",
    "print(classification_report(y_valid,y_preds))\n",
    "ConfusionMatrixDisplay.from_predictions(y_valid,y_preds)"
   ]
  },
  {
   "cell_type": "code",
   "execution_count": 48,
   "id": "5724fc10",
   "metadata": {},
   "outputs": [
    {
     "name": "stdout",
     "output_type": "stream",
     "text": [
      "0.9463647058823529\n",
      "              precision    recall  f1-score   support\n",
      "\n",
      "           0       0.97      0.99      0.98     11711\n",
      "           1       0.83      0.64      0.72      1039\n",
      "\n",
      "    accuracy                           0.96     12750\n",
      "   macro avg       0.90      0.81      0.85     12750\n",
      "weighted avg       0.96      0.96      0.96     12750\n",
      "\n"
     ]
    },
    {
     "data": {
      "text/plain": [
       "<sklearn.metrics._plot.confusion_matrix.ConfusionMatrixDisplay at 0x19d2e1dba00>"
      ]
     },
     "execution_count": 48,
     "metadata": {},
     "output_type": "execute_result"
    },
    {
     "data": {
      "image/png": "[encoded data removed]",
      "text/plain": [
       "<Figure size 640x480 with 2 Axes>"
      ]
     },
     "metadata": {},
     "output_type": "display_data"
    }
   ],
   "source": [
    "np.random.seed(4100)\n",
    "from sklearn.linear_model import SGDClassifier\n",
    "from sklearn.model_selection import cross_val_score\n",
    "\n",
    "sget = SGDClassifier(warm_start=True)\n",
    "sget.fit(X_train,y_train)\n",
    "y_preds = sget.predict(X_valid)\n",
    "cv = cross_val_score(sget,X_first,y_first,cv=10)\n",
    "print(np.mean(cv))\n",
    "from sklearn.metrics import classification_report,ConfusionMatrixDisplay\n",
    "from sklearn.model_selection import cross_val_score\n",
    "\n",
    "print(classification_report(y_valid,y_preds))\n",
    "ConfusionMatrixDisplay.from_predictions(y_valid,y_preds)"
   ]
  },
  {
   "cell_type": "code",
   "execution_count": 53,
   "id": "d8be7ea3",
   "metadata": {},
   "outputs": [
    {
     "name": "stdout",
     "output_type": "stream",
     "text": [
      "0.9501058823529412\n",
      "              precision    recall  f1-score   support\n",
      "\n",
      "           0       0.97      0.97      0.97     11711\n",
      "           1       0.68      0.72      0.70      1039\n",
      "\n",
      "    accuracy                           0.95     12750\n",
      "   macro avg       0.83      0.84      0.83     12750\n",
      "weighted avg       0.95      0.95      0.95     12750\n",
      "\n"
     ]
    },
    {
     "data": {
      "text/plain": [
       "<sklearn.metrics._plot.confusion_matrix.ConfusionMatrixDisplay at 0x19d30a35e40>"
      ]
     },
     "execution_count": 53,
     "metadata": {},
     "output_type": "execute_result"
    },
    {
     "data": {
      "image/png": "[encoded data removed]",
      "text/plain": [
       "<Figure size 640x480 with 2 Axes>"
      ]
     },
     "metadata": {},
     "output_type": "display_data"
    }
   ],
   "source": [
    "np.random.seed(4100)\n",
    "from sklearn.linear_model import SGDClassifier\n",
    "from sklearn.model_selection import cross_val_score\n",
    "\n",
    "sget = SGDClassifier(alpha=0.001)\n",
    "sget.fit(X_train,y_train)\n",
    "y_preds = sget.predict(X_valid)\n",
    "cv = cross_val_score(sget,X_first,y_first,cv=10)\n",
    "print(np.mean(cv))\n",
    "from sklearn.metrics import classification_report,ConfusionMatrixDisplay\n",
    "from sklearn.model_selection import cross_val_score\n",
    "\n",
    "print(classification_report(y_valid,y_preds))\n",
    "ConfusionMatrixDisplay.from_predictions(y_valid,y_preds)"
   ]
  },
  {
   "cell_type": "code",
   "execution_count": 55,
   "id": "d4c96c56",
   "metadata": {},
   "outputs": [
    {
     "name": "stdout",
     "output_type": "stream",
     "text": [
      "0.9474117647058824\n",
      "              precision    recall  f1-score   support\n",
      "\n",
      "           0       0.97      0.97      0.97     11711\n",
      "           1       0.69      0.65      0.67      1039\n",
      "\n",
      "    accuracy                           0.95     12750\n",
      "   macro avg       0.83      0.81      0.82     12750\n",
      "weighted avg       0.95      0.95      0.95     12750\n",
      "\n"
     ]
    },
    {
     "data": {
      "text/plain": [
       "<sklearn.metrics._plot.confusion_matrix.ConfusionMatrixDisplay at 0x19d30a36950>"
      ]
     },
     "execution_count": 55,
     "metadata": {},
     "output_type": "execute_result"
    },
    {
     "data": {
      "image/png": "[encoded data removed]",
      "text/plain": [
       "<Figure size 640x480 with 2 Axes>"
      ]
     },
     "metadata": {},
     "output_type": "display_data"
    }
   ],
   "source": [
    "np.random.seed(4100)\n",
    "from sklearn.linear_model import SGDClassifier\n",
    "from sklearn.model_selection import cross_val_score\n",
    "\n",
    "sget = SGDClassifier(learning_rate='adaptive',eta0=0.01,alpha=0.001,warm_start=True)\n",
    "sget.fit(X_train,y_train)\n",
    "y_preds = sget.predict(X_valid)\n",
    "cv = cross_val_score(sget,X_first,y_first,cv=10)\n",
    "print(np.mean(cv))\n",
    "from sklearn.metrics import classification_report,ConfusionMatrixDisplay\n",
    "from sklearn.model_selection import cross_val_score\n",
    "\n",
    "print(classification_report(y_valid,y_preds))\n",
    "ConfusionMatrixDisplay.from_predictions(y_valid,y_preds)"
   ]
  },
  {
   "cell_type": "code",
   "execution_count": 78,
   "id": "0f480662",
   "metadata": {},
   "outputs": [
    {
     "name": "stdout",
     "output_type": "stream",
     "text": [
      "Fitting 5 folds for each of 6 candidates, totalling 30 fits\n",
      "[CV 1/5] END ...max_iter=15000, warm_start=True;, score=0.951 total time=   0.5s\n",
      "[CV 2/5] END ...max_iter=15000, warm_start=True;, score=0.956 total time=   0.7s\n",
      "[CV 3/5] END ...max_iter=15000, warm_start=True;, score=0.956 total time=   0.6s\n",
      "[CV 4/5] END ...max_iter=15000, warm_start=True;, score=0.952 total time=   0.6s\n",
      "[CV 5/5] END ...max_iter=15000, warm_start=True;, score=0.955 total time=   0.5s\n",
      "[CV 1/5] END ..max_iter=15000, warm_start=False;, score=0.951 total time=   0.5s\n",
      "[CV 2/5] END ..max_iter=15000, warm_start=False;, score=0.956 total time=   0.5s\n",
      "[CV 3/5] END ..max_iter=15000, warm_start=False;, score=0.956 total time=   0.5s\n",
      "[CV 4/5] END ..max_iter=15000, warm_start=False;, score=0.952 total time=   0.4s\n",
      "[CV 5/5] END ..max_iter=15000, warm_start=False;, score=0.953 total time=   0.6s\n",
      "[CV 1/5] END ...max_iter=20000, warm_start=True;, score=0.951 total time=   0.7s\n",
      "[CV 2/5] END ...max_iter=20000, warm_start=True;, score=0.956 total time=   0.5s\n",
      "[CV 3/5] END ...max_iter=20000, warm_start=True;, score=0.956 total time=   0.7s\n",
      "[CV 4/5] END ...max_iter=20000, warm_start=True;, score=0.953 total time=   0.6s\n",
      "[CV 5/5] END ...max_iter=20000, warm_start=True;, score=0.954 total time=   0.7s\n",
      "[CV 1/5] END ..max_iter=20000, warm_start=False;, score=0.952 total time=   0.6s\n",
      "[CV 2/5] END ..max_iter=20000, warm_start=False;, score=0.956 total time=   0.5s\n",
      "[CV 3/5] END ..max_iter=20000, warm_start=False;, score=0.956 total time=   0.5s\n",
      "[CV 4/5] END ..max_iter=20000, warm_start=False;, score=0.952 total time=   0.6s\n",
      "[CV 5/5] END ..max_iter=20000, warm_start=False;, score=0.954 total time=   0.5s\n",
      "[CV 1/5] END ...max_iter=30000, warm_start=True;, score=0.951 total time=   0.4s\n",
      "[CV 2/5] END ...max_iter=30000, warm_start=True;, score=0.955 total time=   0.4s\n",
      "[CV 3/5] END ...max_iter=30000, warm_start=True;, score=0.956 total time=   0.6s\n",
      "[CV 4/5] END ...max_iter=30000, warm_start=True;, score=0.952 total time=   0.5s\n",
      "[CV 5/5] END ...max_iter=30000, warm_start=True;, score=0.953 total time=   0.6s\n",
      "[CV 1/5] END ..max_iter=30000, warm_start=False;, score=0.951 total time=   0.5s\n",
      "[CV 2/5] END ..max_iter=30000, warm_start=False;, score=0.955 total time=   0.5s\n",
      "[CV 3/5] END ..max_iter=30000, warm_start=False;, score=0.956 total time=   0.5s\n",
      "[CV 4/5] END ..max_iter=30000, warm_start=False;, score=0.952 total time=   0.4s\n",
      "[CV 5/5] END ..max_iter=30000, warm_start=False;, score=0.954 total time=   0.5s\n"
     ]
    },
    {
     "data": {
      "text/html": [
       "<style>#sk-container-id-9 {color: black;background-color: white;}#sk-container-id-9 pre{padding: 0;}#sk-container-id-9 div.sk-toggleable {background-color: white;}#sk-container-id-9 label.sk-toggleable__label {cursor: pointer;display: block;width: 100%;margin-bottom: 0;padding: 0.3em;box-sizing: border-box;text-align: center;}#sk-container-id-9 label.sk-toggleable__label-arrow:before {content: \"▸\";float: left;margin-right: 0.25em;color: #696969;}#sk-container-id-9 label.sk-toggleable__label-arrow:hover:before {color: black;}#sk-container-id-9 div.sk-estimator:hover label.sk-toggleable__label-arrow:before {color: black;}#sk-container-id-9 div.sk-toggleable__content {max-height: 0;max-width: 0;overflow: hidden;text-align: left;background-color: #f0f8ff;}#sk-container-id-9 div.sk-toggleable__content pre {margin: 0.2em;color: black;border-radius: 0.25em;background-color: #f0f8ff;}#sk-container-id-9 input.sk-toggleable__control:checked~div.sk-toggleable__content {max-height: 200px;max-width: 100%;overflow: auto;}#sk-container-id-9 input.sk-toggleable__control:checked~label.sk-toggleable__label-arrow:before {content: \"▾\";}#sk-container-id-9 div.sk-estimator input.sk-toggleable__control:checked~label.sk-toggleable__label {background-color: #d4ebff;}#sk-container-id-9 div.sk-label input.sk-toggleable__control:checked~label.sk-toggleable__label {background-color: #d4ebff;}#sk-container-id-9 input.sk-hidden--visually {border: 0;clip: rect(1px 1px 1px 1px);clip: rect(1px, 1px, 1px, 1px);height: 1px;margin: -1px;overflow: hidden;padding: 0;position: absolute;width: 1px;}#sk-container-id-9 div.sk-estimator {font-family: monospace;background-color: #f0f8ff;border: 1px dotted black;border-radius: 0.25em;box-sizing: border-box;margin-bottom: 0.5em;}#sk-container-id-9 div.sk-estimator:hover {background-color: #d4ebff;}#sk-container-id-9 div.sk-parallel-item::after {content: \"\";width: 100%;border-bottom: 1px solid gray;flex-grow: 1;}#sk-container-id-9 div.sk-label:hover label.sk-toggleable__label {background-color: #d4ebff;}#sk-container-id-9 div.sk-serial::before {content: \"\";position: absolute;border-left: 1px solid gray;box-sizing: border-box;top: 0;bottom: 0;left: 50%;z-index: 0;}#sk-container-id-9 div.sk-serial {display: flex;flex-direction: column;align-items: center;background-color: white;padding-right: 0.2em;padding-left: 0.2em;position: relative;}#sk-container-id-9 div.sk-item {position: relative;z-index: 1;}#sk-container-id-9 div.sk-parallel {display: flex;align-items: stretch;justify-content: center;background-color: white;position: relative;}#sk-container-id-9 div.sk-item::before, #sk-container-id-9 div.sk-parallel-item::before {content: \"\";position: absolute;border-left: 1px solid gray;box-sizing: border-box;top: 0;bottom: 0;left: 50%;z-index: -1;}#sk-container-id-9 div.sk-parallel-item {display: flex;flex-direction: column;z-index: 1;position: relative;background-color: white;}#sk-container-id-9 div.sk-parallel-item:first-child::after {align-self: flex-end;width: 50%;}#sk-container-id-9 div.sk-parallel-item:last-child::after {align-self: flex-start;width: 50%;}#sk-container-id-9 div.sk-parallel-item:only-child::after {width: 0;}#sk-container-id-9 div.sk-dashed-wrapped {border: 1px dashed gray;margin: 0 0.4em 0.5em 0.4em;box-sizing: border-box;padding-bottom: 0.4em;background-color: white;}#sk-container-id-9 div.sk-label label {font-family: monospace;font-weight: bold;display: inline-block;line-height: 1.2em;}#sk-container-id-9 div.sk-label-container {text-align: center;}#sk-container-id-9 div.sk-container {/* jupyter's `normalize.less` sets `[hidden] { display: none; }` but bootstrap.min.css set `[hidden] { display: none !important; }` so we also need the `!important` here to be able to override the default hidden behavior on the sphinx rendered scikit-learn.org. See: https://github.com/scikit-learn/scikit-learn/issues/21755 */display: inline-block !important;position: relative;}#sk-container-id-9 div.sk-text-repr-fallback {display: none;}</style><div id=\"sk-container-id-9\" class=\"sk-top-container\"><div class=\"sk-text-repr-fallback\"><pre>GridSearchCV(estimator=SGDClassifier(eta0=0.01, learning_rate=&#x27;adaptive&#x27;),\n",
       "             param_grid={&#x27;max_iter&#x27;: [15000, 20000, 30000],\n",
       "                         &#x27;warm_start&#x27;: [True, False]},\n",
       "             verbose=3)</pre><b>In a Jupyter environment, please rerun this cell to show the HTML representation or trust the notebook. <br />On GitHub, the HTML representation is unable to render, please try loading this page with nbviewer.org.</b></div><div class=\"sk-container\" hidden><div class=\"sk-item sk-dashed-wrapped\"><div class=\"sk-label-container\"><div class=\"sk-label sk-toggleable\"><input class=\"sk-toggleable__control sk-hidden--visually\" id=\"sk-estimator-id-21\" type=\"checkbox\" ><label for=\"sk-estimator-id-21\" class=\"sk-toggleable__label sk-toggleable__label-arrow\">GridSearchCV</label><div class=\"sk-toggleable__content\"><pre>GridSearchCV(estimator=SGDClassifier(eta0=0.01, learning_rate=&#x27;adaptive&#x27;),\n",
       "             param_grid={&#x27;max_iter&#x27;: [15000, 20000, 30000],\n",
       "                         &#x27;warm_start&#x27;: [True, False]},\n",
       "             verbose=3)</pre></div></div></div><div class=\"sk-parallel\"><div class=\"sk-parallel-item\"><div class=\"sk-item\"><div class=\"sk-label-container\"><div class=\"sk-label sk-toggleable\"><input class=\"sk-toggleable__control sk-hidden--visually\" id=\"sk-estimator-id-22\" type=\"checkbox\" ><label for=\"sk-estimator-id-22\" class=\"sk-toggleable__label sk-toggleable__label-arrow\">estimator: SGDClassifier</label><div class=\"sk-toggleable__content\"><pre>SGDClassifier(eta0=0.01, learning_rate=&#x27;adaptive&#x27;)</pre></div></div></div><div class=\"sk-serial\"><div class=\"sk-item\"><div class=\"sk-estimator sk-toggleable\"><input class=\"sk-toggleable__control sk-hidden--visually\" id=\"sk-estimator-id-23\" type=\"checkbox\" ><label for=\"sk-estimator-id-23\" class=\"sk-toggleable__label sk-toggleable__label-arrow\">SGDClassifier</label><div class=\"sk-toggleable__content\"><pre>SGDClassifier(eta0=0.01, learning_rate=&#x27;adaptive&#x27;)</pre></div></div></div></div></div></div></div></div></div></div>"
      ],
      "text/plain": [
       "GridSearchCV(estimator=SGDClassifier(eta0=0.01, learning_rate='adaptive'),\n",
       "             param_grid={'max_iter': [15000, 20000, 30000],\n",
       "                         'warm_start': [True, False]},\n",
       "             verbose=3)"
      ]
     },
     "execution_count": 78,
     "metadata": {},
     "output_type": "execute_result"
    }
   ],
   "source": [
    "from sklearn.model_selection import GridSearchCV\n",
    "from sklearn.linear_model import SGDClassifier\n",
    "\n",
    "params = {\"max_iter\":[15000,20000,30000],\n",
    "          \"warm_start\":[True,False]}\n",
    "\n",
    "sgd = SGDClassifier(learning_rate='adaptive',alpha=0.0001,eta0=0.01)\n",
    "\n",
    "est = GridSearchCV(estimator=sgd,\n",
    "                   param_grid=params,\n",
    "                   verbose = 3)\n",
    "\n",
    "est.fit(X_train,y_train)"
   ]
  },
  {
   "cell_type": "code",
   "execution_count": 79,
   "id": "09ddcff5",
   "metadata": {},
   "outputs": [
    {
     "data": {
      "text/plain": [
       "{'max_iter': 20000, 'warm_start': True}"
      ]
     },
     "execution_count": 79,
     "metadata": {},
     "output_type": "execute_result"
    }
   ],
   "source": [
    "est.best_params_"
   ]
  },
  {
   "cell_type": "code",
   "execution_count": 80,
   "id": "afe300f3",
   "metadata": {},
   "outputs": [
    {
     "name": "stdout",
     "output_type": "stream",
     "text": [
      "              precision    recall  f1-score   support\n",
      "\n",
      "           0       0.97      0.98      0.98     11711\n",
      "           1       0.74      0.71      0.72      1039\n",
      "\n",
      "    accuracy                           0.96     12750\n",
      "   macro avg       0.86      0.84      0.85     12750\n",
      "weighted avg       0.96      0.96      0.96     12750\n",
      "\n"
     ]
    },
    {
     "data": {
      "text/plain": [
       "<sklearn.metrics._plot.confusion_matrix.ConfusionMatrixDisplay at 0x19d30cf9fc0>"
      ]
     },
     "execution_count": 80,
     "metadata": {},
     "output_type": "execute_result"
    },
    {
     "data": {
      "image/png": "[encoded data removed]",
      "text/plain": [
       "<Figure size 640x480 with 2 Axes>"
      ]
     },
     "metadata": {},
     "output_type": "display_data"
    }
   ],
   "source": [
    "from sklearn.metrics import classification_report,ConfusionMatrixDisplay\n",
    "from sklearn.model_selection import cross_val_score\n",
    "\n",
    "y_preds = est.predict(X_valid)\n",
    "print(classification_report(y_valid,y_preds))\n",
    "ConfusionMatrixDisplay.from_predictions(y_valid,y_preds)"
   ]
  },
  {
   "cell_type": "code",
   "execution_count": 81,
   "id": "5c6bfb77",
   "metadata": {},
   "outputs": [
    {
     "data": {
      "text/plain": [
       "(72250, 12750, 15000, 72250, 12750, 15000)"
      ]
     },
     "execution_count": 81,
     "metadata": {},
     "output_type": "execute_result"
    }
   ],
   "source": [
    "len(X_train),len(X_valid),len(X_test),len(y_train),len(y_valid),len(y_test)"
   ]
  },
  {
   "cell_type": "code",
   "execution_count": 82,
   "id": "74137743",
   "metadata": {},
   "outputs": [
    {
     "data": {
      "text/plain": [
       "0    66073\n",
       "1     6177\n",
       "Name: diabetes, dtype: int64"
      ]
     },
     "execution_count": 82,
     "metadata": {},
     "output_type": "execute_result"
    }
   ],
   "source": [
    "y_train.value_counts()"
   ]
  },
  {
   "cell_type": "code",
   "execution_count": 83,
   "id": "ab342daa",
   "metadata": {},
   "outputs": [
    {
     "data": {
      "text/plain": [
       "0    11711\n",
       "1     1039\n",
       "Name: diabetes, dtype: int64"
      ]
     },
     "execution_count": 83,
     "metadata": {},
     "output_type": "execute_result"
    }
   ],
   "source": [
    "y_valid.value_counts()"
   ]
  },
  {
   "cell_type": "code",
   "execution_count": null,
   "id": "cbd6e885",
   "metadata": {},
   "outputs": [],
   "source": []
  }
 ],
 "metadata": {
  "kernelspec": {
   "display_name": "Python 3 (ipykernel)",
   "language": "python",
   "name": "python3"
  },
  "language_info": {
   "codemirror_mode": {
    "name": "ipython",
    "version": 3
   },
   "file_extension": ".py",
   "mimetype": "text/x-python",
   "name": "python",
   "nbconvert_exporter": "python",
   "pygments_lexer": "ipython3",
   "version": "3.10.9"
  }
 },
 "nbformat": 4,
 "nbformat_minor": 5
}
