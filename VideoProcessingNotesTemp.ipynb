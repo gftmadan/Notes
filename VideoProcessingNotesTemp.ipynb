{
 "cells": [
  {
   "cell_type": "code",
   "execution_count": 1,
   "id": "e4eb743a-c730-4229-a4a6-70a0797f55e8",
   "metadata": {},
   "outputs": [],
   "source": [
    "import cv2\n",
    "import os"
   ]
  },
  {
   "cell_type": "code",
   "execution_count": 17,
   "id": "79c0b1e3-391e-49b5-ac34-63e7e0caeb46",
   "metadata": {},
   "outputs": [],
   "source": [
    "def list_all_files_locations(location):\n",
    "    print(\"[INFO] Analysing The Locations\")\n",
    "    no_dir = 0\n",
    "    files_list = list()\n",
    "    for file in os.listdir(location):\n",
    "        file_path = os.path.join(location,file)\n",
    "        if os.path.isdir(file_path):\n",
    "            no_dir += 1\n",
    "        else:\n",
    "            files_list.append(file_path)\n",
    "    if no_dir > 0:\n",
    "        print(f\"[INFO] INCORRECT FILE STRUCTURE!!!\\nWe have {no_dir} of Directories and {len(files_list)} of Files\\nPLEASE CLEAN THE DIRECTORIES!!!\")\n",
    "    else:\n",
    "        print(f\"[INFO] CORRECT FILE STRUCTURE!!!\\nWe have {len(files_list)} of Files\")\n",
    "    return files_list"
   ]
  },
  {
   "cell_type": "code",
   "execution_count": 2,
   "id": "bdfb074d-42df-4644-9bb4-62e63587df63",
   "metadata": {},
   "outputs": [],
   "source": [
    "TRAIN_DATA_DIR = r\"E:\\PyImage_ComputerVision\\OpenCVBasic\\Video Processing\\InstagramTrendAI\\WorkingData\\InputData\\InstaTrend\"\n",
    "OUTPUT_DATA_DIR = r\"E:\\PyImage_ComputerVision\\OpenCVBasic\\Video Processing\\InstagramTrendAI\\WorkingData\\OutputData\\InstaTrend\""
   ]
  },
  {
   "cell_type": "code",
   "execution_count": 16,
   "id": "98fb18db-809e-4be7-bd58-546c807b1f32",
   "metadata": {},
   "outputs": [
    {
     "name": "stdout",
     "output_type": "stream",
     "text": [
      "[INFO] Analysing The Locations\n",
      "[INFO] CORRECT FILE STRUCTURE!!!\n",
      "We ahve 10 of Files\n"
     ]
    }
   ],
   "source": [
    "fg = list_all_files_locations(TRAIN_DATA_DIR)"
   ]
  },
  {
   "cell_type": "code",
   "execution_count": 20,
   "id": "8bdaf0f8-0f53-4730-a2ed-43f9ba546a18",
   "metadata": {},
   "outputs": [
    {
     "data": {
      "text/plain": [
       "str"
      ]
     },
     "execution_count": 20,
     "metadata": {},
     "output_type": "execute_result"
    }
   ],
   "source": [
    "type(fg[0])"
   ]
  },
  {
   "cell_type": "code",
   "execution_count": 24,
   "id": "dd204e18-14cf-49da-8163-045b190e433d",
   "metadata": {},
   "outputs": [],
   "source": [
    "z = os.path.basename(fg[0])\n",
    "z = os.path.splitext(z)[0]"
   ]
  },
  {
   "cell_type": "code",
   "execution_count": 25,
   "id": "43501b2f-b3a3-44d8-b7f8-353e6a2505b6",
   "metadata": {},
   "outputs": [
    {
     "data": {
      "text/plain": [
       "'Video1'"
      ]
     },
     "execution_count": 25,
     "metadata": {},
     "output_type": "execute_result"
    }
   ],
   "source": [
    "z"
   ]
  },
  {
   "cell_type": "code",
   "execution_count": 23,
   "id": "59b7d52f-9a2a-4ba8-b21f-963fbbc5cbe7",
   "metadata": {},
   "outputs": [
    {
     "data": {
      "text/plain": [
       "['Video1.mp4']"
      ]
     },
     "execution_count": 23,
     "metadata": {},
     "output_type": "execute_result"
    }
   ],
   "source": []
  },
  {
   "cell_type": "code",
   "execution_count": null,
   "id": "e299d9c9-f933-40cf-9a32-b5affeddf587",
   "metadata": {},
   "outputs": [],
   "source": [
    "class Time():\n",
    "    def milli"
   ]
  },
  {
   "cell_type": "code",
   "execution_count": 9,
   "id": "0842c71d-a3c2-419f-8f43-be1084b23c69",
   "metadata": {},
   "outputs": [
    {
     "data": {
      "text/plain": [
       "597.9166666666666"
      ]
     },
     "execution_count": 9,
     "metadata": {},
     "output_type": "execute_result"
    }
   ],
   "source": [
    "35875 / 60"
   ]
  },
  {
   "cell_type": "code",
   "execution_count": 10,
   "id": "24f53441-5e3a-4e3a-a396-04722fef9111",
   "metadata": {},
   "outputs": [
    {
     "data": {
      "text/plain": [
       "597"
      ]
     },
     "execution_count": 10,
     "metadata": {},
     "output_type": "execute_result"
    }
   ],
   "source": [
    "35875 // 60"
   ]
  },
  {
   "cell_type": "code",
   "execution_count": 12,
   "id": "a33b887e-9a4c-4dcf-94d6-896bdee7e348",
   "metadata": {},
   "outputs": [
    {
     "data": {
      "text/plain": [
       "55"
      ]
     },
     "execution_count": 12,
     "metadata": {},
     "output_type": "execute_result"
    }
   ],
   "source": [
    "35875 - (597*60)"
   ]
  },
  {
   "cell_type": "code",
   "execution_count": 146,
   "id": "c29b5658-026a-4233-a2b6-763164a71011",
   "metadata": {},
   "outputs": [],
   "source": [
    "vd = cv2.VideoCapture(r\"E:\\PyImage_ComputerVision\\OpenCVBasic\\Video Processing\\InstagramTrendAI\\WorkingData\\InputData\\InstaTrend\\Video1.mp4\")"
   ]
  },
  {
   "cell_type": "code",
   "execution_count": 147,
   "id": "9d46b276-ba27-478b-9399-478467b7756c",
   "metadata": {},
   "outputs": [
    {
     "data": {
      "text/plain": [
       "True"
      ]
     },
     "execution_count": 147,
     "metadata": {},
     "output_type": "execute_result"
    }
   ],
   "source": [
    "vd.isOpened()"
   ]
  },
  {
   "cell_type": "code",
   "execution_count": 154,
   "id": "63620feb-504c-44e2-b30c-4b11998410d7",
   "metadata": {},
   "outputs": [
    {
     "data": {
      "text/plain": [
       "2.0"
      ]
     },
     "execution_count": 154,
     "metadata": {},
     "output_type": "execute_result"
    }
   ],
   "source": [
    "vd.get(cv2.CAP_PROP_POS_FRAMES)"
   ]
  },
  {
   "cell_type": "code",
   "execution_count": 155,
   "id": "1aaf60cc-26fc-454a-8a97-f4e2f2df42a8",
   "metadata": {},
   "outputs": [
    {
     "data": {
      "text/plain": [
       "33.333333333333336"
      ]
     },
     "execution_count": 155,
     "metadata": {},
     "output_type": "execute_result"
    }
   ],
   "source": [
    "vd.get(cv2.CAP_PROP_POS_MSEC)"
   ]
  },
  {
   "cell_type": "code",
   "execution_count": 153,
   "id": "e6920dce-efb3-403f-851d-77d7b40ee3a2",
   "metadata": {},
   "outputs": [],
   "source": [
    "fg = vd.read()"
   ]
  },
  {
   "cell_type": "code",
   "execution_count": 145,
   "id": "a163d31e-76df-485c-9108-f6e13b185fc1",
   "metadata": {},
   "outputs": [
    {
     "data": {
      "text/plain": [
       "30.0"
      ]
     },
     "execution_count": 145,
     "metadata": {},
     "output_type": "execute_result"
    }
   ],
   "source": [
    "vd.get(cv2.CAP_PROP_FPS)"
   ]
  },
  {
   "cell_type": "code",
   "execution_count": 109,
   "id": "a8b086f8-536d-4805-ba69-4318190b5166",
   "metadata": {},
   "outputs": [
    {
     "ename": "SyntaxError",
     "evalue": "invalid syntax (4096780521.py, line 1)",
     "output_type": "error",
     "traceback": [
      "\u001b[1;36m  Cell \u001b[1;32mIn[109], line 1\u001b[1;36m\u001b[0m\n\u001b[1;33m    4--->100\u001b[0m\n\u001b[1;37m       ^\u001b[0m\n\u001b[1;31mSyntaxError\u001b[0m\u001b[1;31m:\u001b[0m invalid syntax\n"
     ]
    }
   ],
   "source": [
    "4--->100\n",
    "7--->200\n",
    "10-->200\n",
    "13-->400\n",
    "16-->500\n",
    "19-->600\n",
    "25-->800\n",
    "28-->900\n",
    "31-->1000"
   ]
  },
  {
   "cell_type": "code",
   "execution_count": null,
   "id": "96df4cbc-9ab3-43fb-89ac-5b51f119ca6d",
   "metadata": {},
   "outputs": [],
   "source": [
    "24 -----> 1\n",
    "1 ------> x"
   ]
  },
  {
   "cell_type": "code",
   "execution_count": 160,
   "id": "694ccfd0-9551-4d93-92c3-5868b6a9d4a4",
   "metadata": {},
   "outputs": [
    {
     "data": {
      "text/plain": [
       "33.333333333333336"
      ]
     },
     "execution_count": 160,
     "metadata": {},
     "output_type": "execute_result"
    }
   ],
   "source": [
    "1000 /30"
   ]
  },
  {
   "cell_type": "code",
   "execution_count": 158,
   "id": "b78fe36b-0dc5-4143-bf33-5a609d463450",
   "metadata": {},
   "outputs": [
    {
     "data": {
      "text/plain": [
       "4.1666666666666665e-05"
      ]
     },
     "execution_count": 158,
     "metadata": {},
     "output_type": "execute_result"
    }
   ],
   "source": [
    "0.041666666666666664 /1000"
   ]
  },
  {
   "cell_type": "code",
   "execution_count": null,
   "id": "0a6ccad9-3c1c-44a5-9331-1ff3dfaffa9b",
   "metadata": {},
   "outputs": [],
   "source": []
  },
  {
   "cell_type": "code",
   "execution_count": null,
   "id": "f2d6947f-cdb0-4cb0-b5ea-f34437dbac08",
   "metadata": {},
   "outputs": [],
   "source": []
  },
  {
   "cell_type": "code",
   "execution_count": null,
   "id": "f1cdfca9-baad-4d8a-b8c3-394c89e5ea8f",
   "metadata": {},
   "outputs": [],
   "source": []
  },
  {
   "cell_type": "code",
   "execution_count": null,
   "id": "aa07ad95-3f22-4f0f-ae1a-039f0993ab97",
   "metadata": {},
   "outputs": [],
   "source": []
  },
  {
   "cell_type": "code",
   "execution_count": 165,
   "id": "af34b81f-9ad0-4aba-9bb8-437b8cde2bc8",
   "metadata": {},
   "outputs": [],
   "source": [
    "def video_analysis(video_file_location):\n",
    "    video_name = os.path.splitext(os.path.basename(video_file_location))[0]\n",
    "    video_output_loc = os.path.join(OUTPUT_DATA_DIR,video_name)\n",
    "    if os.path.exists(video_output_loc) == False:\n",
    "        os.mkdir(video_output_loc)\n",
    "    video = cv2.VideoCapture(video_file_location)\n",
    "    while video.isOpened():\n",
    "        ret,frame = video.read()\n",
    "        if ret == False:\n",
    "            break\n",
    "        frame_no = int(video.get(cv2.CAP_PROP_POS_FRAMES))\n",
    "        frame_ms = int(video.get(cv2.CAP_PROP_POS_MSEC))\n",
    "        frame_loc = os.path.join(video_output_loc,f\"FM{frame_no}__MS{frame_ms}.jpg\")\n",
    "        cv2.imwrite(frame_loc,frame)"
   ]
  },
  {
   "cell_type": "code",
   "execution_count": null,
   "id": "e2857ac9-4e2e-4639-a37a-63007244e3c5",
   "metadata": {},
   "outputs": [],
   "source": []
  },
  {
   "cell_type": "code",
   "execution_count": 175,
   "id": "e2a58158-0c6c-438e-ae27-916a226f3174",
   "metadata": {},
   "outputs": [],
   "source": [
    "video_analysis(r\"E:\\PyImage_ComputerVision\\OpenCVBasic\\Video Processing\\InstagramTrendAI\\WorkingData\\InputData\\InstaTrend\\Video6.mp4\")"
   ]
  },
  {
   "cell_type": "code",
   "execution_count": null,
   "id": "b1f03e4b-f981-497e-8913-d76cc4a28568",
   "metadata": {},
   "outputs": [],
   "source": []
  },
  {
   "cell_type": "code",
   "execution_count": null,
   "id": "83f7c637-e767-4547-ab1f-5c9c80ecc75d",
   "metadata": {},
   "outputs": [],
   "source": []
  },
  {
   "cell_type": "code",
   "execution_count": 233,
   "id": "0d6d95e1-af5e-4159-aac1-774ba40b121d",
   "metadata": {},
   "outputs": [],
   "source": [
    "vd = cv2.VideoCapture(r\"E:\\PyImage_ComputerVision\\OpenCVBasic\\WorkingData\\InputData\\Videos\\song.mp4\")"
   ]
  },
  {
   "cell_type": "code",
   "execution_count": 187,
   "id": "3bd66842-ccc6-4d77-a7f8-4f483df49eb9",
   "metadata": {},
   "outputs": [
    {
     "data": {
      "text/plain": [
       "24.0"
      ]
     },
     "execution_count": 187,
     "metadata": {},
     "output_type": "execute_result"
    }
   ],
   "source": [
    "vd.get(cv2.CAP_PROP_FPS)"
   ]
  },
  {
   "cell_type": "code",
   "execution_count": 188,
   "id": "bf7998cd-5689-49ed-a3b2-efedf2220c24",
   "metadata": {},
   "outputs": [
    {
     "data": {
      "text/plain": [
       "41.666666666666664"
      ]
     },
     "execution_count": 188,
     "metadata": {},
     "output_type": "execute_result"
    }
   ],
   "source": [
    "1000/24"
   ]
  },
  {
   "cell_type": "code",
   "execution_count": 234,
   "id": "e4bd4f70-13b0-4db8-b6a6-83ad8a8f8e1d",
   "metadata": {},
   "outputs": [
    {
     "data": {
      "text/plain": [
       "True"
      ]
     },
     "execution_count": 234,
     "metadata": {},
     "output_type": "execute_result"
    }
   ],
   "source": [
    "vd.set(cv2.CAP_PROP_POS_FRAMES,201)"
   ]
  },
  {
   "cell_type": "code",
   "execution_count": 245,
   "id": "d17366ce-bc85-49fd-b9f2-cb3334329e18",
   "metadata": {},
   "outputs": [
    {
     "data": {
      "text/plain": [
       "8416.666666666533"
      ]
     },
     "execution_count": 245,
     "metadata": {},
     "output_type": "execute_result"
    }
   ],
   "source": [
    "41.666666666666*202"
   ]
  },
  {
   "cell_type": "code",
   "execution_count": 243,
   "id": "0f98ef2c-2541-4abf-95a6-1b5870307d6e",
   "metadata": {},
   "outputs": [
    {
     "data": {
      "text/plain": [
       "203.0"
      ]
     },
     "execution_count": 243,
     "metadata": {},
     "output_type": "execute_result"
    }
   ],
   "source": [
    "vd.get(cv2.CAP_PROP_POS_FRAMES)"
   ]
  },
  {
   "cell_type": "code",
   "execution_count": 244,
   "id": "8530eee9-3b1f-401a-9cf3-c4e44a248df8",
   "metadata": {},
   "outputs": [
    {
     "data": {
      "text/plain": [
       "8416.666666666666"
      ]
     },
     "execution_count": 244,
     "metadata": {},
     "output_type": "execute_result"
    }
   ],
   "source": [
    "vd.get(cv2.CAP_PROP_POS_MSEC)"
   ]
  },
  {
   "cell_type": "code",
   "execution_count": 242,
   "id": "0a0f792b-e508-41f5-991c-8bff76f30b0c",
   "metadata": {},
   "outputs": [],
   "source": [
    "ret,frame = vd.read()\n",
    "cv2.imshow(\"Frame\",frame)\n",
    "cv2.waitKey(0)\n",
    "cv2.destroyAllWindows()"
   ]
  },
  {
   "cell_type": "code",
   "execution_count": 210,
   "id": "777d7958-6181-4f53-8982-f5a39e2fc663",
   "metadata": {},
   "outputs": [
    {
     "data": {
      "text/plain": [
       "41.666666666666664"
      ]
     },
     "execution_count": 210,
     "metadata": {},
     "output_type": "execute_result"
    }
   ],
   "source": [
    "1000/24"
   ]
  },
  {
   "cell_type": "code",
   "execution_count": 211,
   "id": "3ab602c0-899c-472a-ba60-fa64f1127f9b",
   "metadata": {},
   "outputs": [
    {
     "data": {
      "text/plain": [
       "4208.333333333333"
      ]
     },
     "execution_count": 211,
     "metadata": {},
     "output_type": "execute_result"
    }
   ],
   "source": [
    "41.666666666666664 * 101"
   ]
  },
  {
   "cell_type": "code",
   "execution_count": null,
   "id": "fd33073a-f0c9-4f9f-95bc-5caf77e60079",
   "metadata": {},
   "outputs": [],
   "source": []
  },
  {
   "cell_type": "code",
   "execution_count": null,
   "id": "a6bd5bc3-fb87-4b0c-a0f8-8ac5a0f575d7",
   "metadata": {},
   "outputs": [],
   "source": []
  },
  {
   "cell_type": "code",
   "execution_count": 217,
   "id": "d88b2c76-de55-4845-a446-3c2fd1fc5784",
   "metadata": {},
   "outputs": [],
   "source": [
    "vd = cv2.VideoCapture(r\"E:\\PyImage_ComputerVision\\OpenCVBasic\\WorkingData\\InputData\\Videos\\song.mp4\")"
   ]
  },
  {
   "cell_type": "code",
   "execution_count": 229,
   "id": "3f553b1f-5fb0-4e08-ac09-5cb0bde6eede",
   "metadata": {},
   "outputs": [
    {
     "data": {
      "text/plain": [
       "3.0"
      ]
     },
     "execution_count": 229,
     "metadata": {},
     "output_type": "execute_result"
    }
   ],
   "source": [
    "vd.get(cv2.CAP_PROP_POS_FRAMES)"
   ]
  },
  {
   "cell_type": "code",
   "execution_count": 230,
   "id": "fccd8961-0d22-4341-aeb2-966c7a95e4e8",
   "metadata": {},
   "outputs": [
    {
     "data": {
      "text/plain": [
       "83.33333333333333"
      ]
     },
     "execution_count": 230,
     "metadata": {},
     "output_type": "execute_result"
    }
   ],
   "source": [
    "vd.get(cv2.CAP_PROP_POS_MSEC)"
   ]
  },
  {
   "cell_type": "code",
   "execution_count": 228,
   "id": "f085c0e0-5f83-4606-9bb1-41a72450585d",
   "metadata": {},
   "outputs": [],
   "source": [
    "fg = vd.read()"
   ]
  },
  {
   "cell_type": "code",
   "execution_count": 232,
   "id": "4ab27b1a-19c3-4771-9a2b-092cbcbce04e",
   "metadata": {},
   "outputs": [
    {
     "data": {
      "text/plain": [
       "83.32"
      ]
     },
     "execution_count": 232,
     "metadata": {},
     "output_type": "execute_result"
    }
   ],
   "source": [
    "41.66*2"
   ]
  },
  {
   "cell_type": "code",
   "execution_count": 248,
   "id": "99faf2a6-2d52-4b0a-8a76-f1bf29daf11e",
   "metadata": {},
   "outputs": [
    {
     "data": {
      "text/plain": [
       "249.95999999999998"
      ]
     },
     "execution_count": 248,
     "metadata": {},
     "output_type": "execute_result"
    }
   ],
   "source": [
    "41.66*6"
   ]
  },
  {
   "cell_type": "code",
   "execution_count": null,
   "id": "710fcc8c-b390-4efa-a0da-086b1b7c0ac5",
   "metadata": {},
   "outputs": [],
   "source": []
  },
  {
   "cell_type": "code",
   "execution_count": 246,
   "id": "283a708c-605d-4ac9-bf9e-8cab69948f86",
   "metadata": {},
   "outputs": [],
   "source": [
    "vd = cv2.VideoCapture(r\"E:\\PyImage_ComputerVision\\OpenCVBasic\\WorkingData\\InputData\\Videos\\song.mp4\")"
   ]
  },
  {
   "cell_type": "code",
   "execution_count": 247,
   "id": "6170fad3-4a2f-4f36-8aca-45a4bb9b8c3f",
   "metadata": {},
   "outputs": [
    {
     "data": {
      "text/plain": [
       "True"
      ]
     },
     "execution_count": 247,
     "metadata": {},
     "output_type": "execute_result"
    }
   ],
   "source": [
    "vd.isOpened()"
   ]
  },
  {
   "cell_type": "code",
   "execution_count": 270,
   "id": "4f8c8d32-7ac0-43fd-a4ec-d5ac7190975a",
   "metadata": {},
   "outputs": [
    {
     "data": {
      "text/plain": [
       "True"
      ]
     },
     "execution_count": 270,
     "metadata": {},
     "output_type": "execute_result"
    }
   ],
   "source": [
    "vd.set(cv2.CAP_PROP_POS_MSEC,3500)"
   ]
  },
  {
   "cell_type": "code",
   "execution_count": 277,
   "id": "ff53b91d-89f9-40b6-be05-5d44f9d70727",
   "metadata": {},
   "outputs": [
    {
     "data": {
      "text/plain": [
       "3541.6666666666665"
      ]
     },
     "execution_count": 277,
     "metadata": {},
     "output_type": "execute_result"
    }
   ],
   "source": [
    "vd.get(cv2.CAP_PROP_POS_MSEC)"
   ]
  },
  {
   "cell_type": "code",
   "execution_count": 278,
   "id": "11ff3ee6-bfa7-4bc9-a03c-cdca4365db1c",
   "metadata": {},
   "outputs": [
    {
     "data": {
      "text/plain": [
       "86.0"
      ]
     },
     "execution_count": 278,
     "metadata": {},
     "output_type": "execute_result"
    }
   ],
   "source": [
    "vd.get(cv2.CAP_PROP_POS_FRAMES)"
   ]
  },
  {
   "cell_type": "code",
   "execution_count": 279,
   "id": "3b7d7fe8-01af-4249-be63-5e55c90c5dd8",
   "metadata": {},
   "outputs": [],
   "source": [
    "fg = vd.read()"
   ]
  },
  {
   "cell_type": "code",
   "execution_count": 261,
   "id": "ecfebc78-4876-4f16-b884-c6b6e9673c9c",
   "metadata": {},
   "outputs": [
    {
     "data": {
      "text/plain": [
       "84.01344215074413"
      ]
     },
     "execution_count": 261,
     "metadata": {},
     "output_type": "execute_result"
    }
   ],
   "source": [
    "3500/41.66"
   ]
  },
  {
   "cell_type": "code",
   "execution_count": 280,
   "id": "e2981884-711d-4043-b655-2518d26fe203",
   "metadata": {},
   "outputs": [
    {
     "data": {
      "text/plain": [
       "3541.1"
      ]
     },
     "execution_count": 280,
     "metadata": {},
     "output_type": "execute_result"
    }
   ],
   "source": [
    "41.66*85"
   ]
  },
  {
   "cell_type": "code",
   "execution_count": 281,
   "id": "7b07d964-016f-484c-8204-3efb1ab5e8c9",
   "metadata": {},
   "outputs": [],
   "source": [
    "vd1 = cv2.VideoCapture(r\"E:\\PyImage_ComputerVision\\OpenCVBasic\\Video Processing\\InstagramTrendAI\\WorkingData\\InputData\\InstaTrend\\Video1.mp4\")"
   ]
  },
  {
   "cell_type": "code",
   "execution_count": 282,
   "id": "73b2ec30-5eed-4ec2-a412-e816c8b7a745",
   "metadata": {},
   "outputs": [
    {
     "data": {
      "text/plain": [
       "True"
      ]
     },
     "execution_count": 282,
     "metadata": {},
     "output_type": "execute_result"
    }
   ],
   "source": [
    "vd1.isOpened()"
   ]
  },
  {
   "cell_type": "code",
   "execution_count": 283,
   "id": "ab66bc2d-d1ce-47e5-a84b-c3eca2a34a9d",
   "metadata": {},
   "outputs": [
    {
     "data": {
      "text/plain": [
       "129.0"
      ]
     },
     "execution_count": 283,
     "metadata": {},
     "output_type": "execute_result"
    }
   ],
   "source": [
    "vd1.get(cv2.CAP_PROP_FRAME_COUNT)"
   ]
  },
  {
   "cell_type": "code",
   "execution_count": null,
   "id": "c43143ac-8141-43a5-acb3-ea6e68d2785e",
   "metadata": {},
   "outputs": [],
   "source": []
  },
  {
   "cell_type": "code",
   "execution_count": null,
   "id": "a20ee6bb-a6a9-476a-b097-b2211ad45622",
   "metadata": {},
   "outputs": [],
   "source": []
  },
  {
   "cell_type": "code",
   "execution_count": null,
   "id": "667cfa08-fad5-4e1f-ae66-d22543276e61",
   "metadata": {},
   "outputs": [],
   "source": []
  },
  {
   "cell_type": "code",
   "execution_count": 5,
   "id": "3ed05402-5b95-4db1-8228-1aa248057bfd",
   "metadata": {},
   "outputs": [
    {
     "name": "stdout",
     "output_type": "stream",
     "text": [
      "E:\\PyImage_ComputerVision\\OpenCVBasic\\Video Processing\\InstagramTrendAI\\WorkingData\\InputData\\fg\\1.jpg---------->(1280,720)\n",
      "E:\\PyImage_ComputerVision\\OpenCVBasic\\Video Processing\\InstagramTrendAI\\WorkingData\\InputData\\fg\\10.jpg---------->(1278,720)\n",
      "E:\\PyImage_ComputerVision\\OpenCVBasic\\Video Processing\\InstagramTrendAI\\WorkingData\\InputData\\fg\\2.jpg---------->(1920,1080)\n",
      "E:\\PyImage_ComputerVision\\OpenCVBasic\\Video Processing\\InstagramTrendAI\\WorkingData\\InputData\\fg\\3.jpg---------->(1280,720)\n",
      "E:\\PyImage_ComputerVision\\OpenCVBasic\\Video Processing\\InstagramTrendAI\\WorkingData\\InputData\\fg\\4.jpg---------->(1280,720)\n",
      "E:\\PyImage_ComputerVision\\OpenCVBasic\\Video Processing\\InstagramTrendAI\\WorkingData\\InputData\\fg\\5.jpg---------->(1920,1080)\n",
      "E:\\PyImage_ComputerVision\\OpenCVBasic\\Video Processing\\InstagramTrendAI\\WorkingData\\InputData\\fg\\6.jpg---------->(1920,1080)\n",
      "E:\\PyImage_ComputerVision\\OpenCVBasic\\Video Processing\\InstagramTrendAI\\WorkingData\\InputData\\fg\\7.jpg---------->(1920,1080)\n",
      "E:\\PyImage_ComputerVision\\OpenCVBasic\\Video Processing\\InstagramTrendAI\\WorkingData\\InputData\\fg\\8.jpg---------->(1280,720)\n",
      "E:\\PyImage_ComputerVision\\OpenCVBasic\\Video Processing\\InstagramTrendAI\\WorkingData\\InputData\\fg\\9.jpg---------->(1920,1080)\n"
     ]
    }
   ],
   "source": [
    "for img in os.listdir(fg_dir):\n",
    "    img_loc = os.path.join(fg_dir,img)\n",
    "    img = cv2.imread(img_loc)\n",
    "    h,w,_ = img.shape\n",
    "    print(f\"{img_loc}---------->({h},{w})\")"
   ]
  },
  {
   "cell_type": "code",
   "execution_count": 6,
   "id": "08fa4b9c-32ee-4de0-83e7-14286bac53db",
   "metadata": {},
   "outputs": [],
   "source": [
    "fg_dir = r\"E:\\PyImage_ComputerVision\\OpenCVBasic\\Video Processing\\InstagramTrendAI\\WorkingData\\InputData\\fg\"\n",
    "fg_output_dir = r\"E:\\PyImage_ComputerVision\\OpenCVBasic\\Video Processing\\InstagramTrendAI\\WorkingData\\OutputData\\VideoFG.avi\""
   ]
  },
  {
   "cell_type": "code",
   "execution_count": 17,
   "id": "de6f1114-2e55-4359-971c-687171dc82a1",
   "metadata": {},
   "outputs": [],
   "source": [
    "def output_video(fps,sec_each_img):\n",
    "    fg_output_dir = r\"E:\\PyImage_ComputerVision\\OpenCVBasic\\Video Processing\\InstagramTrendAI\\WorkingData\\OutputData\\VideoFG.avi\"\n",
    "    h = 1280\n",
    "    w = 720\n",
    "    fourcc = cv2.VideoWriter_fourcc('P','I','M','1')\n",
    "    video_wrt = cv2.VideoWriter(fg_output_dir,fourcc,fps,(w,h),isColor=True)\n",
    "    for img in os.listdir(fg_dir):\n",
    "        img_loc = os.path.join(fg_dir,img)\n",
    "        img = cv2.imread(img_loc)\n",
    "        img = cv2.resize(img,(w,h))\n",
    "        for _ in range(int(sec_each_img*fps)):\n",
    "            video_wrt.write(img)\n",
    "    video_wrt.release()"
   ]
  },
  {
   "cell_type": "code",
   "execution_count": 41,
   "id": "30246b37-67f1-45dd-93aa-faeb596ea08b",
   "metadata": {},
   "outputs": [],
   "source": [
    "output_video(90,1)"
   ]
  },
  {
   "cell_type": "code",
   "execution_count": 38,
   "id": "5c190b24-2839-41ec-8fed-1c499ec0d406",
   "metadata": {},
   "outputs": [],
   "source": [
    "def calculate_video_duration(video):\n",
    "    frame_count = video.get(cv2.CAP_PROP_FRAME_COUNT)\n",
    "    fps = video.get(cv2.CAP_PROP_FPS)\n",
    "    print(frame_count)\n",
    "    print(fps)\n",
    "    return frame_count//fps"
   ]
  },
  {
   "cell_type": "code",
   "execution_count": 42,
   "id": "57cd3246-e006-4696-89c8-9b33c1cfb20c",
   "metadata": {},
   "outputs": [],
   "source": [
    "video = cv2.VideoCapture(r\"E:\\PyImage_ComputerVision\\OpenCVBasic\\Video Processing\\InstagramTrendAI\\WorkingData\\OutputData\\VideoFG.avi\")"
   ]
  },
  {
   "cell_type": "code",
   "execution_count": 43,
   "id": "92ad9248-48aa-4ca5-a184-f1f10001f902",
   "metadata": {},
   "outputs": [
    {
     "name": "stdout",
     "output_type": "stream",
     "text": [
      "900.0\n",
      "60.0\n"
     ]
    },
    {
     "data": {
      "text/plain": [
       "15.0"
      ]
     },
     "execution_count": 43,
     "metadata": {},
     "output_type": "execute_result"
    }
   ],
   "source": [
    "calculate_video_duration(video)"
   ]
  },
  {
   "cell_type": "code",
   "execution_count": 44,
   "id": "8e0cd782-2b9d-45ef-b132-189dcc757f30",
   "metadata": {},
   "outputs": [],
   "source": [
    "video.release()"
   ]
  },
  {
   "cell_type": "code",
   "execution_count": null,
   "id": "b588dd2f-53e6-490b-9321-a2333a131df7",
   "metadata": {},
   "outputs": [],
   "source": []
  }
 ],
 "metadata": {
  "kernelspec": {
   "display_name": "Python 3 (ipykernel)",
   "language": "python",
   "name": "python3"
  },
  "language_info": {
   "codemirror_mode": {
    "name": "ipython",
    "version": 3
   },
   "file_extension": ".py",
   "mimetype": "text/x-python",
   "name": "python",
   "nbconvert_exporter": "python",
   "pygments_lexer": "ipython3",
   "version": "3.11.5"
  }
 },
 "nbformat": 4,
 "nbformat_minor": 5
}
