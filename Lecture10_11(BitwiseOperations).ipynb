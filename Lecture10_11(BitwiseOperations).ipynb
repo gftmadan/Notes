{
 "cells": [
  {
   "cell_type": "code",
   "execution_count": 1,
   "id": "a709dca3",
   "metadata": {},
   "outputs": [],
   "source": [
    "import cv2\n",
    "import numpy as np"
   ]
  },
  {
   "cell_type": "markdown",
   "id": "5696f330",
   "metadata": {},
   "source": [
    "## Creating Single Channel Binary Type Image for Bitwise Operations Examples"
   ]
  },
  {
   "cell_type": "code",
   "execution_count": 2,
   "id": "6d6a8cea",
   "metadata": {},
   "outputs": [
    {
     "data": {
      "text/plain": [
       "array([[0, 0, 0, ..., 0, 0, 0],\n",
       "       [0, 0, 0, ..., 0, 0, 0],\n",
       "       [0, 0, 0, ..., 0, 0, 0],\n",
       "       ...,\n",
       "       [0, 0, 0, ..., 0, 0, 0],\n",
       "       [0, 0, 0, ..., 0, 0, 0],\n",
       "       [0, 0, 0, ..., 0, 0, 0]], dtype=uint8)"
      ]
     },
     "execution_count": 2,
     "metadata": {},
     "output_type": "execute_result"
    }
   ],
   "source": [
    "# Drawing a Rectangle\n",
    "rectangle = np.zeros((300, 300), dtype=\"uint8\")\n",
    "cv2.rectangle(rectangle, (25, 25), (275, 275), 255, -1)\n",
    "\n",
    "# Drawing a Circle\n",
    "circle = np.zeros((300, 300), dtype = \"uint8\")\n",
    "cv2.circle(circle, (150, 150), 150, 255, -1)"
   ]
  },
  {
   "cell_type": "code",
   "execution_count": 3,
   "id": "ee7ec927",
   "metadata": {},
   "outputs": [],
   "source": [
    "cv2.imshow(\"Rectangle\",rectangle)\n",
    "cv2.imshow(\"Circle\",circle)\n",
    "cv2.waitKey(0)\n",
    "cv2.destroyAllWindows()"
   ]
  },
  {
   "cell_type": "markdown",
   "id": "ba1fd9b6",
   "metadata": {},
   "source": [
    "## Creating Colored Images for Bitwise Operations Examples"
   ]
  },
  {
   "cell_type": "code",
   "execution_count": 4,
   "id": "88ba74a8",
   "metadata": {},
   "outputs": [],
   "source": [
    "color1 = np.zeros((600,600,3),dtype=np.uint8)\n",
    "color2 = np.zeros((600,600,3),dtype=np.uint8)\n",
    "\n",
    "color1[0:300,0:200] = (190,190,190)\n",
    "color1[0:300,200:400] = (0,0,255)\n",
    "color1[0:300,400:] = (178,255,102)\n",
    "color1[300:,0:200] = (0,0,0)\n",
    "color1[300:,200:400] = (255,0,0)\n",
    "color1[300:,400:] = (255,0,255)\n",
    "\n",
    "color2[0:300,0:200] = (0,0,255)\n",
    "color2[0:300,200:400] = (255,0,0)\n",
    "color2[0:300,400:] = (0,0,0)\n",
    "color2[300:,0:200] = (0,255,0)\n",
    "color2[300:,200:400] = (255,255,255)\n",
    "color2[300:,400:] = (0,255,255)"
   ]
  },
  {
   "cell_type": "code",
   "execution_count": 5,
   "id": "6d7381c4",
   "metadata": {},
   "outputs": [],
   "source": [
    "cv2.imshow(\"Color1\",color1)\n",
    "cv2.imshow(\"Color2\",color2)\n",
    "cv2.waitKey(0)\n",
    "cv2.destroyAllWindows()"
   ]
  },
  {
   "cell_type": "markdown",
   "id": "5c68d41f",
   "metadata": {},
   "source": [
    "## Creating Mask(Binary Image) for Applying Masking Operation in the Bitwise Operation"
   ]
  },
  {
   "cell_type": "code",
   "execution_count": 13,
   "id": "9d3d69f8",
   "metadata": {},
   "outputs": [],
   "source": [
    "msk1 = np.zeros((300,300),dtype=np.uint8)\n",
    "msk1[50:90,125:250] = 255\n",
    "ret,msk1 = cv2.threshold(msk1,125,255,cv2.THRESH_BINARY)"
   ]
  },
  {
   "cell_type": "code",
   "execution_count": 14,
   "id": "aac1d702",
   "metadata": {},
   "outputs": [],
   "source": [
    "msk2= np.zeros((600,600,3),dtype=np.uint8)\n",
    "msk2[:,200:400] = (255,255,255)\n",
    "msk2 = cv2.cvtColor(msk2,cv2.COLOR_BGR2GRAY)\n",
    "ret,msk2 = cv2.threshold(msk2,125,255,cv2.THRESH_BINARY)"
   ]
  },
  {
   "cell_type": "code",
   "execution_count": 32,
   "id": "ab764f2e",
   "metadata": {},
   "outputs": [],
   "source": [
    "msk3= np.zeros((600,600),dtype=np.uint8)\n",
    "msk3[:,200:400] = 12"
   ]
  },
  {
   "cell_type": "code",
   "execution_count": null,
   "id": "39bff8a6",
   "metadata": {},
   "outputs": [],
   "source": []
  },
  {
   "cell_type": "code",
   "execution_count": 16,
   "id": "dd61124c",
   "metadata": {},
   "outputs": [],
   "source": [
    "adrian = cv2.imread(r\"E:\\PyImage_ComputerVision\\OpenCVBasic\\WorkingData\\InputData\\adrian.png\")\n",
    "adrian=cv2.resize(adrian,(600,600))"
   ]
  },
  {
   "cell_type": "markdown",
   "id": "63848c06",
   "metadata": {},
   "source": [
    "# --------------------------------------------------------------------------------------------------------------"
   ]
  },
  {
   "cell_type": "markdown",
   "id": "e3a35859",
   "metadata": {},
   "source": [
    "# Bitwise Operations On Images\n",
    "\n",
    "## OpenCv allow us to perform all basic Bitwise Operations(AND,OR,NOT,XOR) on Images.\n",
    "## Normal Working of Bitwise Methods can be defined as follows:-\n",
    "### 1)It performs the Pixel Wise Bitwise Operations between the Integer value of their Intensity for both Images.\n",
    "### 2)Then performs the Masking Operation of Mask is present.\n",
    "\n",
    "## **Note:-It will Work Better for Binary Images and Produce Predictable Results. "
   ]
  },
  {
   "cell_type": "markdown",
   "id": "134a6d20",
   "metadata": {},
   "source": [
    "### -----------------------------------------------------------------------------------------------------------------------------------------------------------"
   ]
  },
  {
   "cell_type": "markdown",
   "id": "0bf7f6fc",
   "metadata": {},
   "source": [
    "## Bitwise AND Operations\n",
    "\n",
    "### It performs the Pixel Wise Bitwise AND Operation between the Integer value of their Intensity for both Images.And then apply Mask Operation of mask,If Mask is present.\n",
    "\n",
    "### We use `cv2.bitwise_and()` Method for performing Bitwise AND Operation.\n",
    "\n",
    "#### cv2.bitwise_and():-[LINK](https://docs.opencv.org/4.x/d2/de8/group__core__array.html#ga60b4d04b251ba5eb1392c34425497e14)"
   ]
  },
  {
   "cell_type": "code",
   "execution_count": 6,
   "id": "25aad827",
   "metadata": {},
   "outputs": [],
   "source": [
    "RAC1 = cv2.bitwise_and(rectangle,circle)\n",
    "CAR1 = cv2.bitwise_and(circle,rectangle)"
   ]
  },
  {
   "cell_type": "code",
   "execution_count": 7,
   "id": "6e83fcad",
   "metadata": {},
   "outputs": [],
   "source": [
    "cv2.imshow(\"Rectangle\",rectangle)\n",
    "cv2.imshow(\"Circle\",circle)\n",
    "cv2.imshow(\"RAC1\",RAC1)\n",
    "cv2.imshow(\"CAR1\",CAR1)\n",
    "cv2.waitKey(0)\n",
    "cv2.destroyAllWindows()"
   ]
  },
  {
   "cell_type": "markdown",
   "id": "0d77ae96",
   "metadata": {},
   "source": [
    "### We can see that in Above Cell we performed Bitwise AND operation On Single Channel Binary Type Images and we can observe in the results that it worked as expected .\n",
    "\n",
    "### Working Example:-\n",
    "\n",
    "### -->Regions containing 255 on both Images on getting AND Operation remained 255. (As 255 & 255 = 255)\n",
    "### -->Regions containing 0 on both Images on getting AND Operation remained 0. (As 0 & 0 = 0)\n",
    "### -->Regions containing 0 or 255 on one Side and 255 or 0 on another Side on getting AND Operation became 0.(As 0 & 255 = 0) "
   ]
  },
  {
   "cell_type": "code",
   "execution_count": 8,
   "id": "2d641236",
   "metadata": {},
   "outputs": [],
   "source": [
    "CAC1 = cv2.bitwise_and(color1,color2)"
   ]
  },
  {
   "cell_type": "code",
   "execution_count": 19,
   "id": "e17a52df",
   "metadata": {},
   "outputs": [],
   "source": [
    "cv2.imshow(\"Color1\",color1)\n",
    "cv2.imshow(\"Color2\",color2)\n",
    "cv2.imshow(\"CAC1\",CAC1)\n",
    "cv2.waitKey(0)\n",
    "cv2.destroyAllWindows()"
   ]
  },
  {
   "cell_type": "markdown",
   "id": "90a23ebf",
   "metadata": {},
   "source": [
    "### We can see that in Above Cells we performed Bitwise AND Operation Between Colored Images and it worked as follows:-\n",
    "\n",
    "### -->White Color Pixel Intensity =(255,255,255) ,Blue Color Pixel Intensity = (255,0,0) Hence And Operation Between them will yeild=(255,0,0)\n",
    "\n",
    "### -->Hence it will work the same for all the Other Color and Integer Pixel Values."
   ]
  },
  {
   "cell_type": "code",
   "execution_count": 30,
   "id": "66c8fc06",
   "metadata": {},
   "outputs": [],
   "source": [
    "RACM = cv2.bitwise_and(rectangle,circle,mask=msk1)\n",
    "CACM = cv2.bitwise_and(color1,color2,mask=msk2)"
   ]
  },
  {
   "cell_type": "code",
   "execution_count": 31,
   "id": "de2d4d6f",
   "metadata": {},
   "outputs": [],
   "source": [
    "cv2.imshow(\"RAC Masked\",RACM)\n",
    "cv2.imshow(\"CAC Masked\",CACM)\n",
    "cv2.waitKey(0)\n",
    "cv2.destroyAllWindows()"
   ]
  },
  {
   "cell_type": "markdown",
   "id": "62d10eee",
   "metadata": {},
   "source": [
    "### We can see that we performed Masking in the Bitwise AND Operations and we can observe that:-\n",
    "\n",
    "### -->First it performed the Bitwise AND Operation between the Images and Generated an Output(Result) Image.\n",
    "### -->As Mask was applied so Only those Pixels were Displayed(of Output Image) whose Corresponding pixels in the Mask were Non-Zero."
   ]
  },
  {
   "cell_type": "markdown",
   "id": "118398a6",
   "metadata": {},
   "source": [
    "## Image Masking can be Applied on Single Image and can be used to Modify Colors,Contrast,Lighting,Add or Remove Noise and even Add or Remove Specfic parts of an Image."
   ]
  },
  {
   "cell_type": "code",
   "execution_count": 24,
   "id": "02d6819b",
   "metadata": {},
   "outputs": [],
   "source": [
    "adrmsk_and = cv2.bitwise_and(adrian,adrian,mask=msk2)"
   ]
  },
  {
   "cell_type": "code",
   "execution_count": 25,
   "id": "183f21a8",
   "metadata": {},
   "outputs": [],
   "source": [
    "cv2.imshow(\"Adrian Colored\",adrian)\n",
    "cv2.imshow(\"Adrian Masked And\",adrmsk_and)\n",
    "cv2.waitKey(0)\n",
    "cv2.destroyAllWindows()"
   ]
  },
  {
   "cell_type": "markdown",
   "id": "a6d8cb10",
   "metadata": {},
   "source": [
    "### -------------------------------------------------------------------------------------------------------------------------------------------------------------"
   ]
  },
  {
   "cell_type": "markdown",
   "id": "662d8c75",
   "metadata": {},
   "source": [
    "## Bitwise OR Operations\n",
    "\n",
    "### It performs the Pixel Wise Bitwise OR Operation between the Integer value of their Intensity for both Images.And then apply Mask Operation of mask,If Mask is present.\n",
    "\n",
    "### We use `cv2.bitwise_or()` Method for performing Bitwise OR Operation.\n",
    "\n",
    "#### cv2.bitwise_or():-[LINK](https://docs.opencv.org/4.x/d2/de8/group__core__array.html#gab85523db362a4e26ff0c703793a719b4)"
   ]
  },
  {
   "cell_type": "code",
   "execution_count": 32,
   "id": "f931262a",
   "metadata": {},
   "outputs": [],
   "source": [
    "ROC1 = cv2.bitwise_or(rectangle,circle)\n",
    "COR1 = cv2.bitwise_or(circle,rectangle)"
   ]
  },
  {
   "cell_type": "code",
   "execution_count": 33,
   "id": "226f7e26",
   "metadata": {},
   "outputs": [],
   "source": [
    "cv2.imshow(\"Rectangle\",rectangle)\n",
    "cv2.imshow(\"Circle\",circle)\n",
    "cv2.imshow(\"ROC1\",ROC1)\n",
    "cv2.imshow(\"COR1\",COR1)\n",
    "cv2.waitKey(0)\n",
    "cv2.destroyAllWindows()"
   ]
  },
  {
   "cell_type": "markdown",
   "id": "225a4ab8",
   "metadata": {},
   "source": [
    "### We can see that in Above Cell we performed Bitwise OR operation On Single Channel Binary Type Images and we can observe in the results that it worked as expected .\n",
    "\n",
    "### Working Example:-\n",
    "\n",
    "### -->Regions containing 255 on both Images on getting OR Operation remained 255. (As 255 | 255 = 255)\n",
    "### -->Regions containing 0 on both Images on getting OR Operation remained 0. (As 0 | 0 = 0)\n",
    "### -->Regions containing 0 or 255 on one Side and 255 or 0 on another Side on getting OR Operation became 255.(As 0 | 255 = 0) "
   ]
  },
  {
   "cell_type": "code",
   "execution_count": 35,
   "id": "aeeb5314",
   "metadata": {},
   "outputs": [],
   "source": [
    "COC1 = cv2.bitwise_or(color1,color2)"
   ]
  },
  {
   "cell_type": "code",
   "execution_count": 38,
   "id": "fd91d224",
   "metadata": {},
   "outputs": [],
   "source": [
    "cv2.imshow(\"Color1\",color1)\n",
    "cv2.imshow(\"Color2\",color2)\n",
    "cv2.imshow(\"COC1\",COC1)\n",
    "cv2.waitKey(0)\n",
    "cv2.destroyAllWindows()"
   ]
  },
  {
   "cell_type": "markdown",
   "id": "33c7d3b4",
   "metadata": {},
   "source": [
    "### We can see that in Above Cells we performed Bitwise OR Operation Between Colored Images and it worked as follows:-\n",
    "\n",
    "### -->White Color Pixel Intensity =(255,255,255) ,Blue Color Pixel Intensity = (255,0,0) Hence OR Operation Between them will yeild=(255,255,255)\n",
    "\n",
    "### -->Hence it will work the same for all the Other Color and Integer Pixel Values."
   ]
  },
  {
   "cell_type": "code",
   "execution_count": 41,
   "id": "7c5f60ed",
   "metadata": {},
   "outputs": [],
   "source": [
    "ROCM = cv2.bitwise_or(rectangle,circle,mask=msk1)\n",
    "COCM = cv2.bitwise_or(color1,color2,mask=msk2)"
   ]
  },
  {
   "cell_type": "code",
   "execution_count": 42,
   "id": "48834426",
   "metadata": {},
   "outputs": [],
   "source": [
    "cv2.imshow(\"ROCM\",ROCM)\n",
    "cv2.imshow(\"COCM\",COCM)\n",
    "cv2.waitKey(0)\n",
    "cv2.destroyAllWindows()"
   ]
  },
  {
   "cell_type": "markdown",
   "id": "332f9cd4",
   "metadata": {},
   "source": [
    "### We can see that we performed Masking in the Bitwise OR Operations and we can observe that:-\n",
    "\n",
    "### -->First it performed the Bitwise OR Operation between the Images and Generated an Output(Result) Image.\n",
    "### -->As Mask was applied so Only those Pixels were Displayed(of Output Image) whose Corresponding pixels in the Mask were Non-Zero."
   ]
  },
  {
   "cell_type": "code",
   "execution_count": 23,
   "id": "5ee51eb5",
   "metadata": {},
   "outputs": [],
   "source": [
    "adrmsk_or = cv2.bitwise_or(adrian,adrian,mask=msk2)"
   ]
  },
  {
   "cell_type": "code",
   "execution_count": 26,
   "id": "346f8e92",
   "metadata": {},
   "outputs": [],
   "source": [
    "cv2.imshow(\"Adrian Color\",adrian)\n",
    "cv2.imshow(\"Adrian Mask Or\",adrmsk_or)\n",
    "cv2.waitKey(0)\n",
    "cv2.destroyAllWindows()"
   ]
  },
  {
   "cell_type": "markdown",
   "id": "aa2b0992",
   "metadata": {},
   "source": [
    "### -------------------------------------------------------------------------------------------------------------------------------------------------------------"
   ]
  },
  {
   "cell_type": "markdown",
   "id": "045810fa",
   "metadata": {},
   "source": [
    "## Bitwise NOT Operations\n",
    "\n",
    "### Its the Only Operation that works on a Single Image.\n",
    "### It performs the Pixel Wise Bitwise NOT Operation on Integer value of the Intensity ,of the Input Image.And then apply Mask Operation of mask,If Mask is present.\n",
    "\n",
    "### We use `cv2.bitwise_not()` Method for performing Bitwise NOT Operation.\n",
    "\n",
    "#### cv2.bitwise_not():-[LINK](https://docs.opencv.org/4.x/d2/de8/group__core__array.html#ga0002cf8b418479f4cb49a75442baee2f)"
   ]
  },
  {
   "cell_type": "code",
   "execution_count": 43,
   "id": "e5c25f49",
   "metadata": {},
   "outputs": [],
   "source": [
    "RN1 = cv2.bitwise_not(rectangle)\n",
    "CN1 = cv2.bitwise_not(circle)"
   ]
  },
  {
   "cell_type": "code",
   "execution_count": 44,
   "id": "f72387c7",
   "metadata": {},
   "outputs": [],
   "source": [
    "cv2.imshow(\"Rectangle\",rectangle)\n",
    "cv2.imshow(\"Circle\",circle)\n",
    "cv2.imshow(\"RN1\",RN1)\n",
    "cv2.imshow(\"CN1\",CN1)\n",
    "cv2.waitKey(0)\n",
    "cv2.destroyAllWindows()"
   ]
  },
  {
   "cell_type": "markdown",
   "id": "6c65bc70",
   "metadata": {},
   "source": [
    "### We can see that in Above Cell we performed Bitwise NOT operation On Single Channel Binary Type Image and we can observe in the results that it worked as expected .\n",
    "\n",
    "### Working Example:-\n",
    "\n",
    "### -->Regions containing 255 on the Input Image on getting NOT Operation became 0. (As !255 = 0)\n",
    "### -->Regions containing 0 on the Input Image on getting NOT Operation became 255. (As !0 = 255)"
   ]
  },
  {
   "cell_type": "code",
   "execution_count": 45,
   "id": "a9cf8b3d",
   "metadata": {},
   "outputs": [],
   "source": [
    "C1N = cv2.bitwise_not(color1)\n",
    "C2N = cv2.bitwise_not(color2)"
   ]
  },
  {
   "cell_type": "code",
   "execution_count": 46,
   "id": "85c99e6e",
   "metadata": {},
   "outputs": [],
   "source": [
    "cv2.imshow(\"Color1\",color1)\n",
    "cv2.imshow(\"Color2\",color2)\n",
    "cv2.imshow(\"C1N\",C1N)\n",
    "cv2.imshow(\"C2N\",C2N)\n",
    "cv2.waitKey(0)\n",
    "cv2.destroyAllWindows()"
   ]
  },
  {
   "cell_type": "markdown",
   "id": "57c459f4",
   "metadata": {},
   "source": [
    "### We can see that in Above Cells we performed Bitwise Not Operation on Colored Images and it worked as follows:-\n",
    "\n",
    "### -->White Color Pixel Intensity =(255,255,255) after NOT Operation yeild = (0,0,0) \n",
    "### -->Blue Color Pixel Intensity =(255,0,0) after NOT Operation yeild = (0,255,255)\n",
    "\n",
    "### -->Hence it will work the same for all the Other Color and Integer Pixel Values."
   ]
  },
  {
   "cell_type": "code",
   "execution_count": 47,
   "id": "267c40a3",
   "metadata": {},
   "outputs": [],
   "source": [
    "RNM = cv2.bitwise_not(rectangle,mask=msk1)\n",
    "C2M = cv2.bitwise_not(color2,mask=msk2)"
   ]
  },
  {
   "cell_type": "code",
   "execution_count": 48,
   "id": "36298654",
   "metadata": {},
   "outputs": [],
   "source": [
    "cv2.imshow(\"RNM\",RNM)\n",
    "cv2.imshow(\"C2M\",C2M)\n",
    "cv2.waitKey(0)\n",
    "cv2.destroyAllWindows()"
   ]
  },
  {
   "cell_type": "markdown",
   "id": "d5bea2ae",
   "metadata": {},
   "source": [
    "### We can see that we performed Masking in the Bitwise AND Operations and we can observe that:-\n",
    "\n",
    "### -->First it performed the Bitwise NOT Operation on the Input Image and Generated an Output(Result) Image.\n",
    "### -->As Mask was applied so Only those Pixels were Displayed(of Output Image) whose Corresponding pixels in the Mask were Non-Zero."
   ]
  },
  {
   "cell_type": "code",
   "execution_count": 27,
   "id": "d60ae4f3",
   "metadata": {},
   "outputs": [],
   "source": [
    "adrmsk_not = cv2.bitwise_not(adrian,mask=msk2)"
   ]
  },
  {
   "cell_type": "code",
   "execution_count": 28,
   "id": "5bb4bbe7",
   "metadata": {},
   "outputs": [],
   "source": [
    "cv2.imshow(\"Adrian Colored Image\",adrian)\n",
    "cv2.imshow(\"Adrian Masked Not\",adrmsk_not)\n",
    "cv2.waitKey(0)\n",
    "cv2.destroyAllWindows()"
   ]
  },
  {
   "cell_type": "markdown",
   "id": "23b76db8",
   "metadata": {},
   "source": [
    "### -------------------------------------------------------------------------------------------------------------------------------------------------------------"
   ]
  },
  {
   "cell_type": "markdown",
   "id": "9117f4e1",
   "metadata": {},
   "source": [
    "## Bitwise XOR Operations\n",
    "\n",
    "### It performs the Pixel Wise Bitwise XOR Operation between the Integer value of their Intensity for both Images.And then apply Mask Operation of mask ,If MASK is present.\n",
    "\n",
    "### We use `cv2.bitwise_xor()` Method for performing Bitwise XOR Operation.\n",
    "\n",
    "#### cv2.bitwise_xor():-[LINK](https://docs.opencv.org/4.x/d2/de8/group__core__array.html#ga84b2d8188ce506593dcc3f8cd00e8e2c)"
   ]
  },
  {
   "cell_type": "code",
   "execution_count": 49,
   "id": "bb318bab",
   "metadata": {},
   "outputs": [],
   "source": [
    "RXC = cv2.bitwise_xor(rectangle,circle)\n",
    "CXR = cv2.bitwise_xor(circle,rectangle)"
   ]
  },
  {
   "cell_type": "code",
   "execution_count": 51,
   "id": "37874c88",
   "metadata": {},
   "outputs": [],
   "source": [
    "cv2.imshow(\"Rectangle\",rectangle)\n",
    "cv2.imshow(\"Circle\",circle)\n",
    "cv2.imshow(\"RXC\",RXC)\n",
    "cv2.imshow(\"CXR\",CXR)\n",
    "cv2.waitKey(0)\n",
    "cv2.destroyAllWindows()"
   ]
  },
  {
   "cell_type": "markdown",
   "id": "11ba49ba",
   "metadata": {},
   "source": [
    "### We can see that in Above Cell we performed Bitwise XOR operation On Single Channel Binary Type Images and we can observe in the results that it worked as expected .\n",
    "\n",
    "### Working Example:-\n",
    "\n",
    "### -->Regions containing 255 on both Images on getting XOR Operation becomes 0. (As 255 XOR 255 = o)\n",
    "### -->Regions containing 0 on both Images on getting XOR Operation remained 0. (As 0 XOR 0 = 0)\n",
    "### -->Regions containing 0 or 255 on one Side and 255 or 0 on another Side on getting XOR Operation became 255.(As 0 XOR 255 = 255) "
   ]
  },
  {
   "cell_type": "code",
   "execution_count": 52,
   "id": "16b11fd1",
   "metadata": {},
   "outputs": [],
   "source": [
    "CXC = cv2.bitwise_xor(color1,color2)"
   ]
  },
  {
   "cell_type": "code",
   "execution_count": 54,
   "id": "e2fdb3af",
   "metadata": {},
   "outputs": [],
   "source": [
    "cv2.imshow(\"Color1\",color1)\n",
    "cv2.imshow(\"Color2\",color2)\n",
    "cv2.imshow(\"CXC\",CXC)\n",
    "cv2.waitKey(0)\n",
    "cv2.destroyAllWindows()"
   ]
  },
  {
   "cell_type": "markdown",
   "id": "c44d293e",
   "metadata": {},
   "source": [
    "### We can see that in Above Cells we performed Bitwise XOR Operation Between Colored Images and it worked as follows:-\n",
    "\n",
    "### -->White Color Pixel Intensity =(255,255,255) ,Blue Color Pixel Intensity = (255,0,0) Hence XOR Operation Between them will yeild=(0,255,255)\n",
    "\n",
    "### -->Hence it will work the same for all the Other Color and Integer Pixel Values."
   ]
  },
  {
   "cell_type": "code",
   "execution_count": 7,
   "id": "776ad8fd",
   "metadata": {},
   "outputs": [],
   "source": [
    "RXCM = cv2.bitwise_xor(rectangle,circle,mask=msk1)\n",
    "CXCM = cv2.bitwise_xor(color1,color2,mask=msk2)"
   ]
  },
  {
   "cell_type": "code",
   "execution_count": null,
   "id": "7262eb3e",
   "metadata": {},
   "outputs": [],
   "source": [
    "cv2.imshow(\"RXCM\",RXCM)\n",
    "cv2.imshow(\"CXCM\",CXCM)\n",
    "cv2.waitKey(0)\n",
    "cv2.destroyAllWindows()"
   ]
  },
  {
   "cell_type": "markdown",
   "id": "e5aa7dcd",
   "metadata": {},
   "source": [
    "### We can see that we performed Masking in the Bitwise XOR Operations and we can observe that:-\n",
    "\n",
    "### -->First it performed the Bitwise X Operation between the Images and Generated an Output(Result) Image.\n",
    "### -->As Mask was applied so Only those Pixels were Displayed(of Output Image) whose Corresponding pixels in the Mask were Non-Zero."
   ]
  },
  {
   "cell_type": "code",
   "execution_count": 29,
   "id": "07b0e621",
   "metadata": {},
   "outputs": [],
   "source": [
    "adrmsk_xor = cv2.bitwise_xor(adrian,adrian,mask=msk2)"
   ]
  },
  {
   "cell_type": "code",
   "execution_count": 30,
   "id": "4a83a19f",
   "metadata": {},
   "outputs": [],
   "source": [
    "cv2.imshow(\"Adiran Colored Image\",adrian)\n",
    "cv2.imshow(\"Adrian Masked XOR\",adrmsk_xor)\n",
    "cv2.waitKey(0)\n",
    "cv2.destroyAllWindows()"
   ]
  }
 ],
 "metadata": {
  "kernelspec": {
   "display_name": "Python 3 (ipykernel)",
   "language": "python",
   "name": "python3"
  },
  "language_info": {
   "codemirror_mode": {
    "name": "ipython",
    "version": 3
   },
   "file_extension": ".py",
   "mimetype": "text/x-python",
   "name": "python",
   "nbconvert_exporter": "python",
   "pygments_lexer": "ipython3",
   "version": "3.11.5"
  }
 },
 "nbformat": 4,
 "nbformat_minor": 5
}
