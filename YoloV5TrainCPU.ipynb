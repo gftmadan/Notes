{
 "cells": [
  {
   "cell_type": "code",
   "execution_count": 1,
   "id": "e862ff61-aaf0-4597-9ea0-7cda854159bb",
   "metadata": {},
   "outputs": [],
   "source": [
    "import os"
   ]
  },
  {
   "cell_type": "code",
   "execution_count": 2,
   "id": "02cbfdd9-a6ef-4ca6-965b-c241fbb3da42",
   "metadata": {},
   "outputs": [],
   "source": [
    "def info_YoloData(LOC):\n",
    "    image_folder_loc = os.path.join(LOC,\"images\")\n",
    "    Files_Count = dict()\n",
    "    for files in os.listdir(image_folder_loc):\n",
    "        file_full_path = os.path.join(image_folder_loc,files)\n",
    "        ext = os.path.splitext(file_full_path)[1]\n",
    "        if ext in Files_Count:\n",
    "            Files_Count[ext] += 1\n",
    "        else:\n",
    "            Files_Count[ext] = 1\n",
    "    for key,item in Files_Count.items():\n",
    "        print(f\"There are {item} of {key} Extension\")\n",
    "    label_folder_loc = os.path.join(LOC,\"labels\")\n",
    "    Labels_Count = dict()\n",
    "    for file in os.listdir(label_folder_loc):\n",
    "        file_loc = os.path.join(label_folder_loc,file)\n",
    "        file = open(file_loc,\"r\")\n",
    "        for line in file.readlines():\n",
    "            cls = line.split()[0]\n",
    "            if cls in Labels_Count:\n",
    "                Labels_Count[cls] += 1\n",
    "            else:\n",
    "                Labels_Count[cls] = 1\n",
    "        file.close()\n",
    "    print(\"\\n-----------------------------------------------\\n\")\n",
    "    for key in sorted(Labels_Count.keys()):\n",
    "        print(f\"There are {Labels_Count[key]} Instances of {key} Class\")"
   ]
  },
  {
   "cell_type": "code",
   "execution_count": 3,
   "id": "bbed1bb9-6b9f-494a-a213-ca6fc0da4de2",
   "metadata": {},
   "outputs": [],
   "source": [
    "TRAIN_DATA_LOC = r\"E:\\PyImage_ComputerVision\\ObjectDetectionYolo\\YoloCustomDetection\\Aqurium Dataset\\train\"\n",
    "VALID_DATA_LOC = r\"E:\\PyImage_ComputerVision\\ObjectDetectionYolo\\YoloCustomDetection\\Aqurium Dataset\\valid\"\n",
    "TEST_DATA_LOC = r\"E:\\PyImage_ComputerVision\\ObjectDetectionYolo\\YoloCustomDetection\\Aqurium Dataset\\test\""
   ]
  },
  {
   "cell_type": "code",
   "execution_count": 37,
   "id": "580d2195-8218-4a99-ae41-5f01adda9e5d",
   "metadata": {},
   "outputs": [
    {
     "name": "stdout",
     "output_type": "stream",
     "text": [
      "There are 448 of .jpg Extension\n",
      "\n",
      "-----------------------------------------------\n",
      "\n",
      "There are 1961 Instances of 0 Class\n",
      "There are 385 Instances of 1 Class\n",
      "There are 330 Instances of 2 Class\n",
      "There are 175 Instances of 3 Class\n",
      "There are 259 Instances of 4 Class\n",
      "There are 78 Instances of 5 Class\n",
      "There are 136 Instances of 6 Class\n"
     ]
    }
   ],
   "source": [
    "info_YoloData(TRAIN_DATA_LOC)"
   ]
  },
  {
   "cell_type": "code",
   "execution_count": 38,
   "id": "b4040ada-c676-4e27-bd78-c7f224334172",
   "metadata": {},
   "outputs": [
    {
     "name": "stdout",
     "output_type": "stream",
     "text": [
      "There are 63 of .jpg Extension\n",
      "\n",
      "-----------------------------------------------\n",
      "\n",
      "There are 249 Instances of 0 Class\n",
      "There are 154 Instances of 1 Class\n",
      "There are 82 Instances of 2 Class\n",
      "There are 35 Instances of 3 Class\n",
      "There are 38 Instances of 4 Class\n",
      "There are 11 Instances of 5 Class\n",
      "There are 15 Instances of 6 Class\n"
     ]
    }
   ],
   "source": [
    "info_YoloData(TEST_DATA_LOC)"
   ]
  },
  {
   "cell_type": "code",
   "execution_count": 39,
   "id": "d5bf0004-1bf9-4561-951a-135a3eedf5e9",
   "metadata": {},
   "outputs": [
    {
     "name": "stdout",
     "output_type": "stream",
     "text": [
      "There are 127 of .jpg Extension\n",
      "\n",
      "-----------------------------------------------\n",
      "\n",
      "There are 459 Instances of 0 Class\n",
      "There are 155 Instances of 1 Class\n",
      "There are 104 Instances of 2 Class\n",
      "There are 74 Instances of 3 Class\n",
      "There are 57 Instances of 4 Class\n",
      "There are 27 Instances of 5 Class\n",
      "There are 33 Instances of 6 Class\n"
     ]
    }
   ],
   "source": [
    "info_YoloData(VALID_DATA_LOC)"
   ]
  },
  {
   "cell_type": "code",
   "execution_count": 17,
   "id": "e4a94412-0e5f-4a14-9cec-3a9e9ed225db",
   "metadata": {},
   "outputs": [
    {
     "name": "stdout",
     "output_type": "stream",
     "text": [
      "Collecting opencv-python\n",
      "  Using cached opencv_python-4.8.1.78-cp37-abi3-win_amd64.whl.metadata (20 kB)\n",
      "Requirement already satisfied: numpy>=1.21.2 in e:\\pyimage_computervision\\objectdetectionyolo\\yolocustomdetection\\env\\lib\\site-packages (from opencv-python) (1.26.2)\n",
      "Using cached opencv_python-4.8.1.78-cp37-abi3-win_amd64.whl (38.1 MB)\n",
      "Installing collected packages: opencv-python\n",
      "Successfully installed opencv-python-4.8.1.78\n"
     ]
    }
   ],
   "source": [
    "! pip install opencv-python"
   ]
  },
  {
   "cell_type": "code",
   "execution_count": 18,
   "id": "d8918554-3176-41ce-8c0a-171052bbf382",
   "metadata": {},
   "outputs": [
    {
     "name": "stderr",
     "output_type": "stream",
     "text": [
      "Cloning into 'yolov5'...\n"
     ]
    }
   ],
   "source": [
    "! git clone https://github.com/ultralytics/yolov5"
   ]
  },
  {
   "cell_type": "code",
   "execution_count": 19,
   "id": "07787418-48ee-42d5-b962-04d92f19ab64",
   "metadata": {},
   "outputs": [],
   "source": [
    "! cd yolov5"
   ]
  },
  {
   "cell_type": "code",
   "execution_count": 27,
   "id": "bb8cd644-97ca-4d17-b68e-bf819935d496",
   "metadata": {},
   "outputs": [
    {
     "name": "stderr",
     "output_type": "stream",
     "text": [
      "ERROR: Could not open requirements file: [Errno 2] No such file or directory: 'requirements.txt'\n"
     ]
    }
   ],
   "source": [
    "!cd yolov5\n",
    "!pip install -r requirements.txt"
   ]
  },
  {
   "cell_type": "code",
   "execution_count": 4,
   "id": "b2ceabd7-b5bc-4454-b9f1-e59dcc92111b",
   "metadata": {},
   "outputs": [],
   "source": [
    "os.chdir(\"./yolov5\")"
   ]
  },
  {
   "cell_type": "code",
   "execution_count": 5,
   "id": "277880af-0e02-4942-be0f-e2e8cc227dae",
   "metadata": {},
   "outputs": [
    {
     "name": "stdout",
     "output_type": "stream",
     "text": [
      "E:\\PyImage_ComputerVision\\ObjectDetectionYolo\\YoloCustomDetection\\yolov5\n"
     ]
    }
   ],
   "source": [
    "!cd"
   ]
  },
  {
   "cell_type": "code",
   "execution_count": 30,
   "id": "de9c06dd-40c1-4e2c-9b51-8720faf8d383",
   "metadata": {},
   "outputs": [
    {
     "name": "stdout",
     "output_type": "stream",
     "text": [
      "Collecting gitpython>=3.1.30 (from -r requirements.txt (line 5))\n",
      "  Using cached GitPython-3.1.40-py3-none-any.whl.metadata (12 kB)\n",
      "Requirement already satisfied: matplotlib>=3.3 in e:\\pyimage_computervision\\objectdetectionyolo\\yolocustomdetection\\env\\lib\\site-packages (from -r requirements.txt (line 6)) (3.8.0)\n",
      "Requirement already satisfied: numpy>=1.22.2 in e:\\pyimage_computervision\\objectdetectionyolo\\yolocustomdetection\\env\\lib\\site-packages (from -r requirements.txt (line 7)) (1.26.2)\n",
      "Requirement already satisfied: opencv-python>=4.1.1 in e:\\pyimage_computervision\\objectdetectionyolo\\yolocustomdetection\\env\\lib\\site-packages (from -r requirements.txt (line 8)) (4.8.1.78)\n",
      "Requirement already satisfied: Pillow>=10.0.1 in e:\\pyimage_computervision\\objectdetectionyolo\\yolocustomdetection\\env\\lib\\site-packages (from -r requirements.txt (line 9)) (10.0.1)\n",
      "Requirement already satisfied: psutil in e:\\pyimage_computervision\\objectdetectionyolo\\yolocustomdetection\\env\\lib\\site-packages (from -r requirements.txt (line 10)) (5.9.0)\n",
      "Requirement already satisfied: PyYAML>=5.3.1 in e:\\pyimage_computervision\\objectdetectionyolo\\yolocustomdetection\\env\\lib\\site-packages (from -r requirements.txt (line 11)) (6.0.1)\n",
      "Requirement already satisfied: requests>=2.23.0 in e:\\pyimage_computervision\\objectdetectionyolo\\yolocustomdetection\\env\\lib\\site-packages (from -r requirements.txt (line 12)) (2.31.0)\n",
      "Collecting scipy>=1.4.1 (from -r requirements.txt (line 13))\n",
      "  Using cached scipy-1.11.4-cp311-cp311-win_amd64.whl.metadata (60 kB)\n",
      "Collecting thop>=0.1.1 (from -r requirements.txt (line 14))\n",
      "  Using cached thop-0.1.1.post2209072238-py3-none-any.whl (15 kB)\n",
      "Collecting torch>=1.8.0 (from -r requirements.txt (line 15))\n",
      "  Using cached torch-2.1.2-cp311-cp311-win_amd64.whl.metadata (26 kB)\n",
      "Collecting torchvision>=0.9.0 (from -r requirements.txt (line 16))\n",
      "  Using cached torchvision-0.16.2-cp311-cp311-win_amd64.whl.metadata (6.6 kB)\n",
      "Collecting tqdm>=4.64.0 (from -r requirements.txt (line 17))\n",
      "  Using cached tqdm-4.66.1-py3-none-any.whl.metadata (57 kB)\n",
      "Collecting ultralytics>=8.0.147 (from -r requirements.txt (line 18))\n",
      "  Downloading ultralytics-8.0.230-py3-none-any.whl.metadata (32 kB)\n",
      "Requirement already satisfied: pandas>=1.1.4 in e:\\pyimage_computervision\\objectdetectionyolo\\yolocustomdetection\\env\\lib\\site-packages (from -r requirements.txt (line 27)) (2.1.4)\n",
      "Collecting seaborn>=0.11.0 (from -r requirements.txt (line 28))\n",
      "  Using cached seaborn-0.13.0-py3-none-any.whl.metadata (5.3 kB)\n",
      "Requirement already satisfied: setuptools>=65.5.1 in e:\\pyimage_computervision\\objectdetectionyolo\\yolocustomdetection\\env\\lib\\site-packages (from -r requirements.txt (line 42)) (68.2.2)\n",
      "Collecting gitdb<5,>=4.0.1 (from gitpython>=3.1.30->-r requirements.txt (line 5))\n",
      "  Using cached gitdb-4.0.11-py3-none-any.whl.metadata (1.2 kB)\n",
      "Requirement already satisfied: contourpy>=1.0.1 in e:\\pyimage_computervision\\objectdetectionyolo\\yolocustomdetection\\env\\lib\\site-packages (from matplotlib>=3.3->-r requirements.txt (line 6)) (1.2.0)\n",
      "Requirement already satisfied: cycler>=0.10 in e:\\pyimage_computervision\\objectdetectionyolo\\yolocustomdetection\\env\\lib\\site-packages (from matplotlib>=3.3->-r requirements.txt (line 6)) (0.11.0)\n",
      "Requirement already satisfied: fonttools>=4.22.0 in e:\\pyimage_computervision\\objectdetectionyolo\\yolocustomdetection\\env\\lib\\site-packages (from matplotlib>=3.3->-r requirements.txt (line 6)) (4.25.0)\n",
      "Requirement already satisfied: kiwisolver>=1.0.1 in e:\\pyimage_computervision\\objectdetectionyolo\\yolocustomdetection\\env\\lib\\site-packages (from matplotlib>=3.3->-r requirements.txt (line 6)) (1.4.4)\n",
      "Requirement already satisfied: packaging>=20.0 in e:\\pyimage_computervision\\objectdetectionyolo\\yolocustomdetection\\env\\lib\\site-packages (from matplotlib>=3.3->-r requirements.txt (line 6)) (23.1)\n",
      "Requirement already satisfied: pyparsing>=2.3.1 in e:\\pyimage_computervision\\objectdetectionyolo\\yolocustomdetection\\env\\lib\\site-packages (from matplotlib>=3.3->-r requirements.txt (line 6)) (3.0.9)\n",
      "Requirement already satisfied: python-dateutil>=2.7 in e:\\pyimage_computervision\\objectdetectionyolo\\yolocustomdetection\\env\\lib\\site-packages (from matplotlib>=3.3->-r requirements.txt (line 6)) (2.8.2)\n",
      "Requirement already satisfied: charset-normalizer<4,>=2 in e:\\pyimage_computervision\\objectdetectionyolo\\yolocustomdetection\\env\\lib\\site-packages (from requests>=2.23.0->-r requirements.txt (line 12)) (2.0.4)\n",
      "Requirement already satisfied: idna<4,>=2.5 in e:\\pyimage_computervision\\objectdetectionyolo\\yolocustomdetection\\env\\lib\\site-packages (from requests>=2.23.0->-r requirements.txt (line 12)) (3.4)\n",
      "Requirement already satisfied: urllib3<3,>=1.21.1 in e:\\pyimage_computervision\\objectdetectionyolo\\yolocustomdetection\\env\\lib\\site-packages (from requests>=2.23.0->-r requirements.txt (line 12)) (1.26.18)\n",
      "Requirement already satisfied: certifi>=2017.4.17 in e:\\pyimage_computervision\\objectdetectionyolo\\yolocustomdetection\\env\\lib\\site-packages (from requests>=2.23.0->-r requirements.txt (line 12)) (2023.11.17)\n",
      "Collecting filelock (from torch>=1.8.0->-r requirements.txt (line 15))\n",
      "  Using cached filelock-3.13.1-py3-none-any.whl.metadata (2.8 kB)\n",
      "Requirement already satisfied: typing-extensions in e:\\pyimage_computervision\\objectdetectionyolo\\yolocustomdetection\\env\\lib\\site-packages (from torch>=1.8.0->-r requirements.txt (line 15)) (4.7.1)\n",
      "Collecting sympy (from torch>=1.8.0->-r requirements.txt (line 15))\n",
      "  Using cached sympy-1.12-py3-none-any.whl (5.7 MB)\n",
      "Collecting networkx (from torch>=1.8.0->-r requirements.txt (line 15))\n",
      "  Using cached networkx-3.2.1-py3-none-any.whl.metadata (5.2 kB)\n",
      "Requirement already satisfied: jinja2 in e:\\pyimage_computervision\\objectdetectionyolo\\yolocustomdetection\\env\\lib\\site-packages (from torch>=1.8.0->-r requirements.txt (line 15)) (3.1.2)\n",
      "Collecting fsspec (from torch>=1.8.0->-r requirements.txt (line 15))\n",
      "  Using cached fsspec-2023.12.2-py3-none-any.whl.metadata (6.8 kB)\n",
      "Requirement already satisfied: colorama in e:\\pyimage_computervision\\objectdetectionyolo\\yolocustomdetection\\env\\lib\\site-packages (from tqdm>=4.64.0->-r requirements.txt (line 17)) (0.4.6)\n",
      "Collecting py-cpuinfo (from ultralytics>=8.0.147->-r requirements.txt (line 18))\n",
      "  Using cached py_cpuinfo-9.0.0-py3-none-any.whl (22 kB)\n",
      "Requirement already satisfied: pytz>=2020.1 in e:\\pyimage_computervision\\objectdetectionyolo\\yolocustomdetection\\env\\lib\\site-packages (from pandas>=1.1.4->-r requirements.txt (line 27)) (2023.3.post1)\n",
      "Requirement already satisfied: tzdata>=2022.1 in e:\\pyimage_computervision\\objectdetectionyolo\\yolocustomdetection\\env\\lib\\site-packages (from pandas>=1.1.4->-r requirements.txt (line 27)) (2023.3)\n",
      "Collecting smmap<6,>=3.0.1 (from gitdb<5,>=4.0.1->gitpython>=3.1.30->-r requirements.txt (line 5))\n",
      "  Using cached smmap-5.0.1-py3-none-any.whl.metadata (4.3 kB)\n",
      "Requirement already satisfied: six>=1.5 in e:\\pyimage_computervision\\objectdetectionyolo\\yolocustomdetection\\env\\lib\\site-packages (from python-dateutil>=2.7->matplotlib>=3.3->-r requirements.txt (line 6)) (1.16.0)\n",
      "Requirement already satisfied: MarkupSafe>=2.0 in e:\\pyimage_computervision\\objectdetectionyolo\\yolocustomdetection\\env\\lib\\site-packages (from jinja2->torch>=1.8.0->-r requirements.txt (line 15)) (2.1.1)\n",
      "Collecting mpmath>=0.19 (from sympy->torch>=1.8.0->-r requirements.txt (line 15))\n",
      "  Using cached mpmath-1.3.0-py3-none-any.whl (536 kB)\n",
      "Using cached GitPython-3.1.40-py3-none-any.whl (190 kB)\n",
      "Using cached scipy-1.11.4-cp311-cp311-win_amd64.whl (44.1 MB)\n",
      "Using cached torch-2.1.2-cp311-cp311-win_amd64.whl (192.3 MB)\n",
      "Using cached torchvision-0.16.2-cp311-cp311-win_amd64.whl (1.1 MB)\n",
      "Using cached tqdm-4.66.1-py3-none-any.whl (78 kB)\n",
      "Downloading ultralytics-8.0.230-py3-none-any.whl (663 kB)\n",
      "   ---------------------------------------- 0.0/663.2 kB ? eta -:--:--\n",
      "   - -------------------------------------- 30.7/663.2 kB 1.4 MB/s eta 0:00:01\n",
      "   ---- ---------------------------------- 71.7/663.2 kB 991.0 kB/s eta 0:00:01\n",
      "   ------- -------------------------------- 122.9/663.2 kB 1.0 MB/s eta 0:00:01\n",
      "   ---------- ----------------------------- 174.1/663.2 kB 1.1 MB/s eta 0:00:01\n",
      "   -------------- ------------------------- 235.5/663.2 kB 1.1 MB/s eta 0:00:01\n",
      "   ----------------- ---------------------- 286.7/663.2 kB 1.1 MB/s eta 0:00:01\n",
      "   -------------------- ------------------- 337.9/663.2 kB 1.1 MB/s eta 0:00:01\n",
      "   ------------------------ --------------- 399.4/663.2 kB 1.1 MB/s eta 0:00:01\n",
      "   --------------------------- ------------ 460.8/663.2 kB 1.2 MB/s eta 0:00:01\n",
      "   -------------------------------- ------- 532.5/663.2 kB 1.2 MB/s eta 0:00:01\n",
      "   ---------------------------------- ----- 573.4/663.2 kB 1.2 MB/s eta 0:00:01\n",
      "   -------------------------------------- - 645.1/663.2 kB 1.2 MB/s eta 0:00:01\n",
      "   ---------------------------------------- 663.2/663.2 kB 1.2 MB/s eta 0:00:00\n",
      "Using cached seaborn-0.13.0-py3-none-any.whl (294 kB)\n",
      "Using cached gitdb-4.0.11-py3-none-any.whl (62 kB)\n",
      "Using cached filelock-3.13.1-py3-none-any.whl (11 kB)\n",
      "Using cached fsspec-2023.12.2-py3-none-any.whl (168 kB)\n",
      "Using cached networkx-3.2.1-py3-none-any.whl (1.6 MB)\n",
      "Using cached smmap-5.0.1-py3-none-any.whl (24 kB)\n",
      "Installing collected packages: py-cpuinfo, mpmath, tqdm, sympy, smmap, scipy, networkx, fsspec, filelock, torch, gitdb, torchvision, thop, seaborn, gitpython, ultralytics\n",
      "Successfully installed filelock-3.13.1 fsspec-2023.12.2 gitdb-4.0.11 gitpython-3.1.40 mpmath-1.3.0 networkx-3.2.1 py-cpuinfo-9.0.0 scipy-1.11.4 seaborn-0.13.0 smmap-5.0.1 sympy-1.12 thop-0.1.1.post2209072238 torch-2.1.2 torchvision-0.16.2 tqdm-4.66.1 ultralytics-8.0.230\n"
     ]
    }
   ],
   "source": [
    "!pip install -r requirements.txt"
   ]
  },
  {
   "cell_type": "code",
   "execution_count": 31,
   "id": "451bd36b-4625-4af3-b2a4-043b0f8a62ab",
   "metadata": {},
   "outputs": [],
   "source": [
    "import torch"
   ]
  },
  {
   "cell_type": "code",
   "execution_count": 33,
   "id": "27400dde-ca03-4c82-bfd5-b64205c07daa",
   "metadata": {},
   "outputs": [
    {
     "data": {
      "text/plain": [
       "False"
      ]
     },
     "execution_count": 33,
     "metadata": {},
     "output_type": "execute_result"
    }
   ],
   "source": [
    "torch.cuda.is_available()"
   ]
  },
  {
   "cell_type": "code",
   "execution_count": 41,
   "id": "6668db77-10c7-4602-8c49-3452bea37054",
   "metadata": {},
   "outputs": [
    {
     "name": "stderr",
     "output_type": "stream",
     "text": [
      "'os.chdir' is not recognized as an internal or external command,\n",
      "operable program or batch file.\n"
     ]
    }
   ],
   "source": [
    "!os.chdir(\"./yolov5\")"
   ]
  },
  {
   "cell_type": "code",
   "execution_count": 42,
   "id": "a97736fb-958e-4646-b399-7e7246cd0936",
   "metadata": {},
   "outputs": [
    {
     "name": "stdout",
     "output_type": "stream",
     "text": [
      "E:\\PyImage_ComputerVision\\ObjectDetectionYolo\\YoloCustomDetection\\yolov5\n"
     ]
    }
   ],
   "source": [
    "!cd"
   ]
  },
  {
   "cell_type": "code",
   "execution_count": 43,
   "id": "cf369a7d-5183-45a5-99fc-217910584ae6",
   "metadata": {},
   "outputs": [],
   "source": [
    "!python train.py --img 640 --epochs 10 --data Aquarium.yaml --weights yolov5s.pt --name Aquarium"
   ]
  },
  {
   "cell_type": "code",
   "execution_count": null,
   "id": "32be41c1-e028-4049-a81c-a352054537be",
   "metadata": {},
   "outputs": [
    {
     "name": "stderr",
     "output_type": "stream",
     "text": [
      "\u001b[34m\u001b[1mtrain: \u001b[0mweights=yolov5s.pt, cfg=, data=Aquarium.yaml, hyp=data\\hyps\\hyp.scratch-low.yaml, epochs=10, batch_size=-1, imgsz=640, rect=False, resume=False, nosave=False, noval=False, noautoanchor=False, noplots=False, evolve=None, bucket=, cache=None, image_weights=False, device=, multi_scale=False, single_cls=False, optimizer=SGD, sync_bn=False, workers=8, project=runs\\train, name=Aquarium, exist_ok=False, quad=False, cos_lr=False, label_smoothing=0.0, patience=100, freeze=[0], save_period=-1, seed=0, local_rank=-1, entity=None, upload_dataset=False, bbox_interval=-1, artifact_alias=latest\n",
      "\u001b[34m\u001b[1mgithub: \u001b[0mup to date with https://github.com/ultralytics/yolov5 \n",
      "YOLOv5  v7.0-254-gba63208 Python-3.11.5 torch-2.1.2+cpu CPU\n",
      "\n",
      "\u001b[34m\u001b[1mhyperparameters: \u001b[0mlr0=0.01, lrf=0.01, momentum=0.937, weight_decay=0.0005, warmup_epochs=3.0, warmup_momentum=0.8, warmup_bias_lr=0.1, box=0.05, cls=0.5, cls_pw=1.0, obj=1.0, obj_pw=1.0, iou_t=0.2, anchor_t=4.0, fl_gamma=0.0, hsv_h=0.015, hsv_s=0.7, hsv_v=0.4, degrees=0.0, translate=0.1, scale=0.5, shear=0.0, perspective=0.0, flipud=0.0, fliplr=0.5, mosaic=1.0, mixup=0.0, copy_paste=0.0\n",
      "\u001b[34m\u001b[1mComet: \u001b[0mrun 'pip install comet_ml' to automatically track and visualize YOLOv5  runs in Comet\n",
      "\u001b[34m\u001b[1mTensorBoard: \u001b[0mStart with 'tensorboard --logdir runs\\train', view at http://localhost:6006/\n",
      "Overriding model.yaml nc=80 with nc=7\n",
      "\n",
      "                 from  n    params  module                                  arguments                     \n",
      "  0                -1  1      3520  models.common.Conv                      [3, 32, 6, 2, 2]              \n",
      "  1                -1  1     18560  models.common.Conv                      [32, 64, 3, 2]                \n",
      "  2                -1  1     18816  models.common.C3                        [64, 64, 1]                   \n",
      "  3                -1  1     73984  models.common.Conv                      [64, 128, 3, 2]               \n",
      "  4                -1  2    115712  models.common.C3                        [128, 128, 2]                 \n",
      "  5                -1  1    295424  models.common.Conv                      [128, 256, 3, 2]              \n",
      "  6                -1  3    625152  models.common.C3                        [256, 256, 3]                 \n",
      "  7                -1  1   1180672  models.common.Conv                      [256, 512, 3, 2]              \n",
      "  8                -1  1   1182720  models.common.C3                        [512, 512, 1]                 \n",
      "  9                -1  1    656896  models.common.SPPF                      [512, 512, 5]                 \n",
      " 10                -1  1    131584  models.common.Conv                      [512, 256, 1, 1]              \n",
      " 11                -1  1         0  torch.nn.modules.upsampling.Upsample    [None, 2, 'nearest']          \n",
      " 12           [-1, 6]  1         0  models.common.Concat                    [1]                           \n",
      " 13                -1  1    361984  models.common.C3                        [512, 256, 1, False]          \n",
      " 14                -1  1     33024  models.common.Conv                      [256, 128, 1, 1]              \n",
      " 15                -1  1         0  torch.nn.modules.upsampling.Upsample    [None, 2, 'nearest']          \n",
      " 16           [-1, 4]  1         0  models.common.Concat                    [1]                           \n",
      " 17                -1  1     90880  models.common.C3                        [256, 128, 1, False]          \n",
      " 18                -1  1    147712  models.common.Conv                      [128, 128, 3, 2]              \n",
      " 19          [-1, 14]  1         0  models.common.Concat                    [1]                           \n",
      " 20                -1  1    296448  models.common.C3                        [256, 256, 1, False]          \n",
      " 21                -1  1    590336  models.common.Conv                      [256, 256, 3, 2]              \n",
      " 22          [-1, 10]  1         0  models.common.Concat                    [1]                           \n",
      " 23                -1  1   1182720  models.common.C3                        [512, 512, 1, False]          \n",
      " 24      [17, 20, 23]  1     32364  models.yolo.Detect                      [7, [[10, 13, 16, 30, 33, 23], [30, 61, 62, 45, 59, 119], [116, 90, 156, 198, 373, 326]], [128, 256, 512]]\n",
      "Model summary: 214 layers, 7038508 parameters, 7038508 gradients, 16.0 GFLOPs\n",
      "\n",
      "Transferred 343/349 items from yolov5s.pt\n",
      "\u001b[34m\u001b[1mAutoBatch: \u001b[0mComputing optimal batch size for --imgsz 640\n",
      "\u001b[34m\u001b[1mAutoBatch: \u001b[0mCUDA not detected, using default CPU batch-size 16\n",
      "\u001b[34m\u001b[1moptimizer:\u001b[0m SGD(lr=0.01) with parameter groups 57 weight(decay=0.0), 60 weight(decay=0.0005), 60 bias\n",
      "\u001b[34m\u001b[1mtrain: \u001b[0mScanning E:\\PyImage_ComputerVision\\ObjectDetectionYolo\\YoloCustomDetection\\Aqurium Dataset\\train\\labels.cache...\u001b[0m\n",
      "\u001b[34m\u001b[1mval: \u001b[0mScanning E:\\PyImage_ComputerVision\\ObjectDetectionYolo\\YoloCustomDetection\\Aqurium Dataset\\valid\\labels.cache... 1\u001b[0m\n"
     ]
    }
   ],
   "source": [
    "%run -i train.py --img 640 --epochs 10 --batch-size -1 --data Aquarium.yaml --weights yolov5s.pt --name Aquarium"
   ]
  },
  {
   "cell_type": "code",
   "execution_count": null,
   "id": "42bbb20c-fc45-41ba-a2f0-c5377cef2490",
   "metadata": {},
   "outputs": [],
   "source": []
  }
 ],
 "metadata": {
  "kernelspec": {
   "display_name": "Python 3 (ipykernel)",
   "language": "python",
   "name": "python3"
  },
  "language_info": {
   "codemirror_mode": {
    "name": "ipython",
    "version": 3
   },
   "file_extension": ".py",
   "mimetype": "text/x-python",
   "name": "python",
   "nbconvert_exporter": "python",
   "pygments_lexer": "ipython3",
   "version": "3.11.5"
  }
 },
 "nbformat": 4,
 "nbformat_minor": 5
}
