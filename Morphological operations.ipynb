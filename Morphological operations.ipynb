{
 "cells": [
  {
   "cell_type": "code",
   "execution_count": 1,
   "id": "a71acdd5",
   "metadata": {},
   "outputs": [],
   "source": [
    "import numpy as np\n",
    "import cv2"
   ]
  },
  {
   "cell_type": "markdown",
   "id": "3719d1cd",
   "metadata": {},
   "source": [
    "## Reading and Displaying the Images Required for the Experiments"
   ]
  },
  {
   "cell_type": "code",
   "execution_count": 2,
   "id": "45a8f81f",
   "metadata": {},
   "outputs": [],
   "source": [
    "OrgImg = cv2.imread(r\"E:\\PyImage_ComputerVision\\OpenCVBasic\\WorkingData\\InputData\\logo.png\")"
   ]
  },
  {
   "cell_type": "code",
   "execution_count": 3,
   "id": "358f5a47",
   "metadata": {},
   "outputs": [],
   "source": [
    "car= cv2.imread(r\"E:\\PyImage_ComputerVision\\OpenCVBasic\\WorkingData\\InputData\\car.png\")\n",
    "car = cv2.cvtColor(car,cv2.COLOR_BGR2GRAY)"
   ]
  },
  {
   "cell_type": "code",
   "execution_count": 4,
   "id": "3a587f2a",
   "metadata": {},
   "outputs": [],
   "source": [
    "cv2.imshow(\"Image\",OrgImg)\n",
    "cv2.imshow(\"Car Gray\",car)\n",
    "cv2.waitKey(0)\n",
    "cv2.destroyAllWindows()"
   ]
  },
  {
   "cell_type": "markdown",
   "id": "81baebaa",
   "metadata": {},
   "source": [
    "###  -------------------------------------------------------------------------------------------------------------------------------------------------------------"
   ]
  },
  {
   "cell_type": "markdown",
   "id": "43bf53e6",
   "metadata": {},
   "source": [
    "# Morphological Operations\n",
    "\n",
    "### Morphological Operations are Simple Transformation applied to Binary and GrayScale Images.More Specfically they are applied to the Shapes and Structures Inside the Image.\n",
    "\n",
    "### We can use the Morphological Operations to Increase the Size of some objects in the Image as well as Decrease them.\n",
    "\n",
    "### We can even Utilize the Morphological Operations to Close Gaps Between Objects as well as Open Gaps.\n",
    "\n",
    "## `Morphological Operations are performed Using STRUCTURING Element`\n",
    "\n",
    "### --->Structuring Element defines the Neighborhood to be Examined around each Pixel.\n",
    "### --->With the Size of the Structuring Element we are able to Adjust the Image. "
   ]
  },
  {
   "cell_type": "markdown",
   "id": "02980d42",
   "metadata": {},
   "source": [
    "\n"
   ]
  },
  {
   "cell_type": "markdown",
   "id": "f863fb57",
   "metadata": {},
   "source": [
    "\n"
   ]
  },
  {
   "cell_type": "markdown",
   "id": "17f51f0f",
   "metadata": {},
   "source": [
    "### There are many Types of Morphological Operations.But we will be covering mainly seven operations:-\n",
    "### `Erosion` , `Dilation` , `Opening` , `Closing` , `Morphological Gradient` , `Black Hat` , `Top Hat(White Hat)`"
   ]
  },
  {
   "cell_type": "markdown",
   "id": "94f88d5d",
   "metadata": {},
   "source": [
    "###  -------------------------------------------------------------------------------------------------------------------------------------------------------------"
   ]
  },
  {
   "cell_type": "markdown",
   "id": "7ce8ee03",
   "metadata": {},
   "source": [
    "# Erosion Morphlogical Operations\n",
    "\n",
    "### -->Erosion in an Image erodes the Foreground Object(assuming foreground object is white) and makes it smaller.Simply,it Discards the Pixels near the Boundary of the Foreground Object."
   ]
  },
  {
   "cell_type": "markdown",
   "id": "e48c03bd",
   "metadata": {},
   "source": [
    "## Computation Process of Erosion\n",
    "\n",
    "### --->Erosion works by defining a Structuring Element,which is then Slided from Left to Right and Top to Bottom of the Image Array.\n",
    "\n",
    "### --->A ForeGround Pixel will be Kept `Only If all its Neighbourhood Pixels inside the Structuring Element are > 0`. "
   ]
  },
  {
   "cell_type": "markdown",
   "id": "63b372db",
   "metadata": {},
   "source": [
    "\n"
   ]
  },
  {
   "cell_type": "markdown",
   "id": "1fc76506",
   "metadata": {},
   "source": [
    "### ~> We use `cv2.erode()` Method in OpenCV to Perform Erosion Morphological Operation\n",
    "\n",
    "## For `cv2.erode()` Method:-\n",
    "\n",
    "### < First Argument > :-It takes the Numpy Array of the Image on which we want to apply Erosion.\n",
    "### < Second Argumnet > :-It takes the STRUCTURING Element which will be used for Erosion.If None,then (3,3) Rectangular Structuring Element will be used.\n",
    "### < Fourth Argumnet >(iterations) :-It takes the Number of times the Erosion will be applied.\n",
    "\n",
    "#### cv2.erode():- [LINK](https://docs.opencv.org/4.x/d4/d86/group__imgproc__filter.html#gaeb1e0c1033e3f6b891a25d0511362aeb)"
   ]
  },
  {
   "cell_type": "markdown",
   "id": "caea154c",
   "metadata": {},
   "source": [
    "#### --------------------------------------------------------------------------------------------------------------------------------------------"
   ]
  },
  {
   "cell_type": "markdown",
   "id": "0428a995",
   "metadata": {},
   "source": [
    "## *Experiment 1*"
   ]
  },
  {
   "cell_type": "code",
   "execution_count": 5,
   "id": "75f15a28",
   "metadata": {},
   "outputs": [],
   "source": [
    "out_O_1 = cv2.erode(OrgImg,None,iterations=1)\n",
    "out_O_2 = cv2.erode(OrgImg,None,iterations=2)\n",
    "out_O_3 = cv2.erode(OrgImg,None,iterations=3)"
   ]
  },
  {
   "cell_type": "code",
   "execution_count": 6,
   "id": "74f877e9",
   "metadata": {},
   "outputs": [],
   "source": [
    "cv2.imshow(\"Image\",OrgImg)\n",
    "cv2.imshow(\"Erosion O_1\",out_O_1)\n",
    "cv2.imshow(\"Erosion O_2\",out_O_2)\n",
    "cv2.imshow(\"Erosion O_3\",out_O_3)\n",
    "cv2.waitKey(0)\n",
    "cv2.destroyAllWindows()"
   ]
  },
  {
   "cell_type": "markdown",
   "id": "19233d72",
   "metadata": {},
   "source": [
    "### We can see that we performed Different Level of Erosion(using Different Values for Iteration Argument) on the Original Image.\n",
    "\n",
    "### We can notice that the White(ForeGround) Area was Decreased after applying the Erosion.\n",
    "\n",
    "## `~>We can notice On Increasing the Number of Erosion Iterations the Image get More Eroded.`"
   ]
  },
  {
   "cell_type": "markdown",
   "id": "e37e385a",
   "metadata": {},
   "source": [
    "\n"
   ]
  },
  {
   "cell_type": "code",
   "execution_count": 7,
   "id": "d1a45990",
   "metadata": {},
   "outputs": [],
   "source": [
    "out_O1_1 = cv2.erode(out_O_1,None,iterations=1)"
   ]
  },
  {
   "cell_type": "markdown",
   "id": "e7f6fc7d",
   "metadata": {},
   "source": [
    "### We can see performed Level(Iteration) 1 Erosion on out_O_1(Level 1 Eroded Original Image)."
   ]
  },
  {
   "cell_type": "code",
   "execution_count": 8,
   "id": "62b07594",
   "metadata": {},
   "outputs": [],
   "source": [
    "cv2.imshow(\"Image\",OrgImg)\n",
    "cv2.imshow(\"Erosion O_2\",out_O_2)\n",
    "cv2.imshow(\"Erosion O1_1\",out_O1_1)\n",
    "cv2.waitKey(0)\n",
    "cv2.destroyAllWindows()"
   ]
  },
  {
   "cell_type": "markdown",
   "id": "540feb93",
   "metadata": {},
   "source": [
    "### -->We can Observe that we get the Same Output for `Level 2 Erosion on Original Image` and \n",
    "\n",
    "### `Level 1 Erosion on Out_O_1(Level 1 Erosion on Original Image)`. "
   ]
  },
  {
   "cell_type": "markdown",
   "id": "431a0534",
   "metadata": {},
   "source": [
    "\n"
   ]
  },
  {
   "cell_type": "code",
   "execution_count": 9,
   "id": "bb5fd6a2",
   "metadata": {},
   "outputs": [],
   "source": [
    "out_O1_2 = cv2.erode(out_O_1,None,iterations=2)\n",
    "out_O11_1 = cv2.erode(out_O1_1,None,iterations=1)"
   ]
  },
  {
   "cell_type": "code",
   "execution_count": 10,
   "id": "4720e887",
   "metadata": {},
   "outputs": [],
   "source": [
    "cv2.imshow(\"Normal Image\",OrgImg)\n",
    "cv2.imshow(\"Out O_3\",out_O_3)\n",
    "cv2.imshow(\"Out O1_2\",out_O1_2)\n",
    "cv2.imshow(\"Out O11__1\",out_O11_1)\n",
    "cv2.waitKey(0)\n",
    "cv2.destroyAllWindows()"
   ]
  },
  {
   "cell_type": "markdown",
   "id": "8359b109",
   "metadata": {},
   "source": [
    "### --->We can Obeserve that we get the Same Output for `Level 3 Erosion on Original Image` and \n",
    "\n",
    "### `Level 2 Erosion on out_O_1(Level 1 Erosion on Original Image)` and \n",
    "\n",
    "### `Level 1 Erosion on out_O1_1(Level 1 Erosion on (Level1 Erosion on Original Image)`. "
   ]
  },
  {
   "cell_type": "markdown",
   "id": "cefe699c",
   "metadata": {},
   "source": [
    "#### --------------------------------------------------------------------------------------------------------------------------------------------"
   ]
  },
  {
   "cell_type": "markdown",
   "id": "71d82c82",
   "metadata": {},
   "source": [
    "## Using Custom `Structuring Element` \n",
    "\n",
    "### In the Above Examples we can see we used None for Kernel Argument,which means (3,3) Recangular Structuring Elment was used\n",
    "\n",
    "### We use `cv2.getStructuringElement()` Method to Create the Custom Structuring Element\n",
    "\n",
    "## For `cv2.getStructuringElement()` Method:-\n",
    "\n",
    "### < First Argument >:- It takes the MORPH Shape Flags which specifies the Shape of the Structuring Element.\n",
    "### < Second Argumnet >:-It takes a tuple which specifies the Size of Structuring Element.(Width,Height)\n",
    "\n",
    "#### cv2.getStructuringElement():- [LINK](https://docs.opencv.org/4.x/d4/d86/group__imgproc__filter.html#gac342a1bb6eabf6f55c803b09268e36dc)\n",
    "\n",
    "#### MORPH Shape Flags:-[LINK](https://docs.opencv.org/4.x/d4/d86/group__imgproc__filter.html#gac2db39b56866583a95a5680313c314ad)\n",
    "\n",
    "### **Note:-Mainly Rectangle Shaped Structuring Elements are used."
   ]
  },
  {
   "cell_type": "markdown",
   "id": "63dfb784",
   "metadata": {},
   "source": [
    "## *Experiment 2*"
   ]
  },
  {
   "cell_type": "code",
   "execution_count": 4,
   "id": "a0cd2720",
   "metadata": {},
   "outputs": [],
   "source": [
    "R5 = cv2.getStructuringElement(cv2.MORPH_RECT,(5,5))\n",
    "R7 = cv2.getStructuringElement(cv2.MORPH_RECT,(7,7))"
   ]
  },
  {
   "cell_type": "code",
   "execution_count": 12,
   "id": "f74236c7",
   "metadata": {},
   "outputs": [
    {
     "data": {
      "text/plain": [
       "array([[1, 1, 1, 1, 1],\n",
       "       [1, 1, 1, 1, 1],\n",
       "       [1, 1, 1, 1, 1],\n",
       "       [1, 1, 1, 1, 1],\n",
       "       [1, 1, 1, 1, 1]], dtype=uint8)"
      ]
     },
     "execution_count": 12,
     "metadata": {},
     "output_type": "execute_result"
    }
   ],
   "source": [
    "R5"
   ]
  },
  {
   "cell_type": "code",
   "execution_count": 13,
   "id": "717e1b58",
   "metadata": {},
   "outputs": [
    {
     "data": {
      "text/plain": [
       "array([[1, 1, 1, 1, 1, 1, 1],\n",
       "       [1, 1, 1, 1, 1, 1, 1],\n",
       "       [1, 1, 1, 1, 1, 1, 1],\n",
       "       [1, 1, 1, 1, 1, 1, 1],\n",
       "       [1, 1, 1, 1, 1, 1, 1],\n",
       "       [1, 1, 1, 1, 1, 1, 1],\n",
       "       [1, 1, 1, 1, 1, 1, 1]], dtype=uint8)"
      ]
     },
     "execution_count": 13,
     "metadata": {},
     "output_type": "execute_result"
    }
   ],
   "source": [
    "R7"
   ]
  },
  {
   "cell_type": "markdown",
   "id": "ddeea185",
   "metadata": {},
   "source": [
    "### In the Above Cell we can see we have Created `(5,5) Rectangular Structuring Element`and \n",
    "\n",
    "### `(7,7) Rectangular Structuring Element`"
   ]
  },
  {
   "cell_type": "markdown",
   "id": "fc2963e9",
   "metadata": {},
   "source": [
    "\n"
   ]
  },
  {
   "cell_type": "code",
   "execution_count": 14,
   "id": "a0f7c47b",
   "metadata": {},
   "outputs": [],
   "source": [
    "out_R5_1 = cv2.erode(OrgImg,R5,iterations=1)\n",
    "out_R5_2 = cv2.erode(OrgImg,R5,iterations=2)\n",
    "out_R5_3 = cv2.erode(OrgImg,R5,iterations=3)"
   ]
  },
  {
   "cell_type": "markdown",
   "id": "ff2246da",
   "metadata": {},
   "source": [
    "### In the Above Cells we have Peformed Level(Iteration) 1,2,3 on Original Image using (5,5) Rectangular Structuring Element"
   ]
  },
  {
   "cell_type": "code",
   "execution_count": 15,
   "id": "afb8eae5",
   "metadata": {},
   "outputs": [],
   "source": [
    "out_R7_1 = cv2.erode(OrgImg,R7,iterations=1)\n",
    "out_R7_2 = cv2.erode(OrgImg,R7,iterations=2)\n",
    "out_R7_3 = cv2.erode(OrgImg,R7,iterations=3)"
   ]
  },
  {
   "cell_type": "markdown",
   "id": "d7795d52",
   "metadata": {},
   "source": [
    "### In the Above Cells we have Performed Level(Iteration) 1,2,3 on Original Image using (7,7) Rectangular Structuring Element"
   ]
  },
  {
   "cell_type": "code",
   "execution_count": 16,
   "id": "3c843fa4",
   "metadata": {},
   "outputs": [],
   "source": [
    "cv2.imshow(\"Original Image\",OrgImg)\n",
    "cv2.imshow(\"Erosion1 R5\",out_R5_1)\n",
    "cv2.imshow(\"Erosion2 R5\",out_R5_2)\n",
    "cv2.imshow(\"Erosion3 R5\",out_R5_3)\n",
    "cv2.imshow(\"Erosion1 R7\",out_R7_1)\n",
    "cv2.imshow(\"Erosion2 R7\",out_R7_2)\n",
    "cv2.imshow(\"Erosion3 R7\",out_R7_3)\n",
    "cv2.waitKey(0)\n",
    "cv2.destroyAllWindows()"
   ]
  },
  {
   "cell_type": "markdown",
   "id": "c757f36b",
   "metadata": {},
   "source": [
    "### -->After Observing the Above Results we can see `More the Size of Structuring Element More the Image gets Eroded`"
   ]
  },
  {
   "cell_type": "markdown",
   "id": "e1419486",
   "metadata": {},
   "source": [
    "#### --------------------------------------------------------------------------------------------------------------------------------------------"
   ]
  },
  {
   "cell_type": "markdown",
   "id": "f3c720cb",
   "metadata": {},
   "source": [
    "## *Experiment 3*"
   ]
  },
  {
   "cell_type": "code",
   "execution_count": 17,
   "id": "243d2ea1",
   "metadata": {},
   "outputs": [],
   "source": [
    "R6 = cv2.getStructuringElement(cv2.MORPH_RECT,(6,6))"
   ]
  },
  {
   "cell_type": "code",
   "execution_count": 18,
   "id": "3edc14fd",
   "metadata": {},
   "outputs": [],
   "source": [
    "out_R6_1 = cv2.erode(OrgImg,R6,iterations=1)"
   ]
  },
  {
   "cell_type": "code",
   "execution_count": 19,
   "id": "3e99f91e",
   "metadata": {},
   "outputs": [],
   "source": [
    "cv2.imshow(\"Normal Image\",OrgImg)\n",
    "cv2.imshow(\"Erosion1 R6\",out_R6_1)\n",
    "cv2.imshow(\"Erosion1\",out_O_1)\n",
    "cv2.waitKey(0)\n",
    "cv2.destroyAllWindows()"
   ]
  },
  {
   "cell_type": "markdown",
   "id": "9c993475",
   "metadata": {},
   "source": [
    "### In the Above Cell we can see that we used an Even Sized Structuring Element for Erosion and it worked the Normal Way"
   ]
  },
  {
   "cell_type": "markdown",
   "id": "87112bc6",
   "metadata": {},
   "source": [
    "#### --------------------------------------------------------------------------------------------------------------------------------------------"
   ]
  },
  {
   "cell_type": "markdown",
   "id": "20cc0bce",
   "metadata": {},
   "source": [
    "## *Experiment 4*"
   ]
  },
  {
   "cell_type": "code",
   "execution_count": 5,
   "id": "e5185e1b",
   "metadata": {},
   "outputs": [],
   "source": [
    "rect = np.zeros((600,600),dtype=np.uint8)\n",
    "rect[150:450,150:450] = 255"
   ]
  },
  {
   "cell_type": "code",
   "execution_count": 21,
   "id": "2d1ea56a",
   "metadata": {},
   "outputs": [],
   "source": [
    "cv2.imshow(\"rect\",rect)\n",
    "cv2.waitKey(0)\n",
    "cv2.destroyAllWindows()"
   ]
  },
  {
   "cell_type": "markdown",
   "id": "f8a8518b",
   "metadata": {},
   "source": [
    "### In the Above Cell we have a created a Sample Black-White Image containing a White Rectangle Between a Black Background"
   ]
  },
  {
   "cell_type": "code",
   "execution_count": 6,
   "id": "aaf581a7",
   "metadata": {},
   "outputs": [],
   "source": [
    "R7_3 = cv2.getStructuringElement(cv2.MORPH_RECT,(7,3))\n",
    "R7_7 = cv2.getStructuringElement(cv2.MORPH_RECT,(7,7))\n",
    "R3_7 = cv2.getStructuringElement(cv2.MORPH_RECT,(3,7))"
   ]
  },
  {
   "cell_type": "code",
   "execution_count": 23,
   "id": "c535eafe",
   "metadata": {},
   "outputs": [
    {
     "data": {
      "text/plain": [
       "array([[1, 1, 1, 1, 1, 1, 1],\n",
       "       [1, 1, 1, 1, 1, 1, 1],\n",
       "       [1, 1, 1, 1, 1, 1, 1]], dtype=uint8)"
      ]
     },
     "execution_count": 23,
     "metadata": {},
     "output_type": "execute_result"
    }
   ],
   "source": [
    "R7_3"
   ]
  },
  {
   "cell_type": "code",
   "execution_count": 24,
   "id": "17016b7e",
   "metadata": {},
   "outputs": [
    {
     "data": {
      "text/plain": [
       "array([[1, 1, 1],\n",
       "       [1, 1, 1],\n",
       "       [1, 1, 1],\n",
       "       [1, 1, 1],\n",
       "       [1, 1, 1],\n",
       "       [1, 1, 1],\n",
       "       [1, 1, 1]], dtype=uint8)"
      ]
     },
     "execution_count": 24,
     "metadata": {},
     "output_type": "execute_result"
    }
   ],
   "source": [
    "R3_7"
   ]
  },
  {
   "cell_type": "code",
   "execution_count": 25,
   "id": "47363198",
   "metadata": {},
   "outputs": [
    {
     "data": {
      "text/plain": [
       "array([[1, 1, 1, 1, 1, 1, 1],\n",
       "       [1, 1, 1, 1, 1, 1, 1],\n",
       "       [1, 1, 1, 1, 1, 1, 1],\n",
       "       [1, 1, 1, 1, 1, 1, 1],\n",
       "       [1, 1, 1, 1, 1, 1, 1],\n",
       "       [1, 1, 1, 1, 1, 1, 1],\n",
       "       [1, 1, 1, 1, 1, 1, 1]], dtype=uint8)"
      ]
     },
     "execution_count": 25,
     "metadata": {},
     "output_type": "execute_result"
    }
   ],
   "source": [
    "R7_7"
   ]
  },
  {
   "cell_type": "markdown",
   "id": "c095201d",
   "metadata": {},
   "source": [
    "### Creating some Un-Even Sized Structuring Elements:-\n",
    "\n",
    "### `(7,7) Rectangular Structuring Element`\n",
    "### `(7,3) Rectangular Structuring Element`\n",
    "### `(3,7) Rectangular Structuring Element`"
   ]
  },
  {
   "cell_type": "code",
   "execution_count": 26,
   "id": "31ad4102",
   "metadata": {},
   "outputs": [],
   "source": [
    "def LB_dimensions(arr):\n",
    "    fg = np.where(arr == 255)\n",
    "    lmax = fg[0].max()\n",
    "    lmin = fg[0].min()\n",
    "    wmax = fg[1].max()\n",
    "    wmin = fg[1].min()\n",
    "    print(f\"Length Starting Coordinate :- {lmin}\")\n",
    "    print(f\"Length Ending Coordinate :- {lmax}\\n\")\n",
    "    print(f\"Width Starting Coordinate :- {wmin}\")\n",
    "    print(f\"Width Ending Coordinate :- {wmax}\")"
   ]
  },
  {
   "cell_type": "code",
   "execution_count": 27,
   "id": "6776aa15",
   "metadata": {},
   "outputs": [
    {
     "name": "stdout",
     "output_type": "stream",
     "text": [
      "Length Starting Coordinate :- 150\n",
      "Length Ending Coordinate :- 449\n",
      "\n",
      "Width Starting Coordinate :- 150\n",
      "Width Ending Coordinate :- 449\n"
     ]
    }
   ],
   "source": [
    "LB_dimensions(rect)"
   ]
  },
  {
   "cell_type": "markdown",
   "id": "3f7cc40d",
   "metadata": {},
   "source": [
    "### In the Above we created a Method which will Display the Length and Width Coordinate of the White(ForeGround) Rectangle.\n",
    "\n",
    "### Hence this will help us in Observing the Effect of Different type of Erosion and Compare them."
   ]
  },
  {
   "cell_type": "markdown",
   "id": "0ea8cd04",
   "metadata": {},
   "source": [
    "\n"
   ]
  },
  {
   "cell_type": "code",
   "execution_count": 28,
   "id": "c8c6964e",
   "metadata": {},
   "outputs": [],
   "source": [
    "out_1_7_7 = cv2.erode(rect,R7_7,iterations=1)\n",
    "out_1_7_3 = cv2.erode(rect,R7_3,iterations=1)\n",
    "out_1_3_7 = cv2.erode(rect,R3_7,iterations=1)"
   ]
  },
  {
   "cell_type": "markdown",
   "id": "ffad3393",
   "metadata": {},
   "source": [
    "### In the Above Cell we performed the Level(Iteration) 1 Erosion with all the three Structuring Elements on the Rectangle Image "
   ]
  },
  {
   "cell_type": "code",
   "execution_count": 29,
   "id": "cc95c23d",
   "metadata": {},
   "outputs": [],
   "source": [
    "out_3_7_7 = cv2.erode(rect,R7_7,iterations=3)\n",
    "out_3_7_3 = cv2.erode(rect,R7_3,iterations=3)\n",
    "out_3_3_7 = cv2.erode(rect,R3_7,iterations=3)"
   ]
  },
  {
   "cell_type": "markdown",
   "id": "ff6b0235",
   "metadata": {},
   "source": [
    "### In the Above Cell we performed the Level(Iteration) 3 Erosion with all the three Structuring Elements on the Rectangle Image "
   ]
  },
  {
   "cell_type": "code",
   "execution_count": 57,
   "id": "0b5d7f3a",
   "metadata": {},
   "outputs": [
    {
     "name": "stdout",
     "output_type": "stream",
     "text": [
      "Length Starting Coordinate :- 150\n",
      "Length Ending Coordinate :- 449\n",
      "\n",
      "Width Starting Coordinate :- 150\n",
      "Width Ending Coordinate :- 449\n"
     ]
    }
   ],
   "source": [
    "LB_dimensions(rect)"
   ]
  },
  {
   "cell_type": "code",
   "execution_count": 30,
   "id": "c73ab5e3",
   "metadata": {},
   "outputs": [
    {
     "name": "stdout",
     "output_type": "stream",
     "text": [
      "Length Starting Coordinate :- 153\n",
      "Length Ending Coordinate :- 446\n",
      "\n",
      "Width Starting Coordinate :- 153\n",
      "Width Ending Coordinate :- 446\n"
     ]
    }
   ],
   "source": [
    "LB_dimensions(out_1_7_7)"
   ]
  },
  {
   "cell_type": "code",
   "execution_count": 31,
   "id": "6b8a6f7e",
   "metadata": {},
   "outputs": [
    {
     "name": "stdout",
     "output_type": "stream",
     "text": [
      "Length Starting Coordinate :- 151\n",
      "Length Ending Coordinate :- 448\n",
      "\n",
      "Width Starting Coordinate :- 153\n",
      "Width Ending Coordinate :- 446\n"
     ]
    }
   ],
   "source": [
    "LB_dimensions(out_1_7_3)"
   ]
  },
  {
   "cell_type": "code",
   "execution_count": 32,
   "id": "f4271b37",
   "metadata": {},
   "outputs": [
    {
     "name": "stdout",
     "output_type": "stream",
     "text": [
      "Length Starting Coordinate :- 153\n",
      "Length Ending Coordinate :- 446\n",
      "\n",
      "Width Starting Coordinate :- 151\n",
      "Width Ending Coordinate :- 448\n"
     ]
    }
   ],
   "source": [
    "LB_dimensions(out_1_3_7)"
   ]
  },
  {
   "cell_type": "code",
   "execution_count": 33,
   "id": "56e60f67",
   "metadata": {},
   "outputs": [
    {
     "name": "stdout",
     "output_type": "stream",
     "text": [
      "Length Starting Coordinate :- 159\n",
      "Length Ending Coordinate :- 440\n",
      "\n",
      "Width Starting Coordinate :- 159\n",
      "Width Ending Coordinate :- 440\n"
     ]
    }
   ],
   "source": [
    "LB_dimensions(out_3_7_7)"
   ]
  },
  {
   "cell_type": "code",
   "execution_count": 34,
   "id": "f46569f0",
   "metadata": {},
   "outputs": [
    {
     "name": "stdout",
     "output_type": "stream",
     "text": [
      "Length Starting Coordinate :- 153\n",
      "Length Ending Coordinate :- 446\n",
      "\n",
      "Width Starting Coordinate :- 159\n",
      "Width Ending Coordinate :- 440\n"
     ]
    }
   ],
   "source": [
    "LB_dimensions(out_3_7_3)"
   ]
  },
  {
   "cell_type": "code",
   "execution_count": 35,
   "id": "c98d006b",
   "metadata": {},
   "outputs": [
    {
     "name": "stdout",
     "output_type": "stream",
     "text": [
      "Length Starting Coordinate :- 159\n",
      "Length Ending Coordinate :- 440\n",
      "\n",
      "Width Starting Coordinate :- 153\n",
      "Width Ending Coordinate :- 446\n"
     ]
    }
   ],
   "source": [
    "LB_dimensions(out_3_3_7)"
   ]
  },
  {
   "cell_type": "markdown",
   "id": "34b87763",
   "metadata": {},
   "source": [
    "### From the Above Obeservation we can see that :-\n",
    "\n",
    "### --->The Structuring Element (7,3)(width,height) affects more on Width than Length(According to the internal erosion  working its right)\n",
    "\n",
    "### --->The Structuring Element (3,7)(width,height) affects more on Length than Width(According to the internal erosion working is right)\n",
    "\n",
    "## `~>Hence we can say that Bigger the Height of Structuring Element more it will effect Length and Bigger the Width of Structuring Element more it will effect the Width for the Erosion`"
   ]
  },
  {
   "cell_type": "code",
   "execution_count": 36,
   "id": "9c90c925",
   "metadata": {},
   "outputs": [],
   "source": [
    "rect1 = np.zeros((600,600))\n",
    "rect1[350:400,350:400] = 255"
   ]
  },
  {
   "cell_type": "code",
   "execution_count": 37,
   "id": "ede8bdf6",
   "metadata": {},
   "outputs": [
    {
     "name": "stdout",
     "output_type": "stream",
     "text": [
      "Length Starting Coordinate :- 350\n",
      "Length Ending Coordinate :- 399\n",
      "\n",
      "Width Starting Coordinate :- 350\n",
      "Width Ending Coordinate :- 399\n"
     ]
    }
   ],
   "source": [
    "LB_dimensions(rect1)"
   ]
  },
  {
   "cell_type": "markdown",
   "id": "48db0adf",
   "metadata": {},
   "source": [
    "### We can see in the above Cell we have Created a Smaller White Rectangle between a Black BackGround. "
   ]
  },
  {
   "cell_type": "code",
   "execution_count": 38,
   "id": "7280999e",
   "metadata": {},
   "outputs": [],
   "source": [
    "out_R_3_7 = cv2.erode(rect,R7,iterations=3)"
   ]
  },
  {
   "cell_type": "code",
   "execution_count": 39,
   "id": "070ce925",
   "metadata": {},
   "outputs": [],
   "source": [
    "out_R1_3_7 = cv2.erode(rect1,R7,iterations=3)"
   ]
  },
  {
   "cell_type": "markdown",
   "id": "0f903071",
   "metadata": {},
   "source": [
    "### We performed the Same Erosion Operation on both the Bigger and Smaller Rectangle Image"
   ]
  },
  {
   "cell_type": "code",
   "execution_count": 40,
   "id": "44a4a7c4",
   "metadata": {},
   "outputs": [
    {
     "name": "stdout",
     "output_type": "stream",
     "text": [
      "Length Starting Coordinate :- 159\n",
      "Length Ending Coordinate :- 440\n",
      "\n",
      "Width Starting Coordinate :- 159\n",
      "Width Ending Coordinate :- 440\n"
     ]
    }
   ],
   "source": [
    "LB_dimensions(out_R_3_7)"
   ]
  },
  {
   "cell_type": "code",
   "execution_count": 41,
   "id": "05112bee",
   "metadata": {},
   "outputs": [
    {
     "name": "stdout",
     "output_type": "stream",
     "text": [
      "Length Starting Coordinate :- 359\n",
      "Length Ending Coordinate :- 390\n",
      "\n",
      "Width Starting Coordinate :- 359\n",
      "Width Ending Coordinate :- 390\n"
     ]
    }
   ],
   "source": [
    "LB_dimensions(out_R1_3_7)"
   ]
  },
  {
   "cell_type": "markdown",
   "id": "7b1eb130",
   "metadata": {},
   "source": [
    "### We can observe in the Above Cells that Same amount of ForeGround Pixels were Eroded for both the Images.\n",
    "\n",
    "### -->Hence we can say that the Size of White Area doesnot matter for the Erosion Process.It will affect the same irrespective of the size of the White Image"
   ]
  },
  {
   "cell_type": "markdown",
   "id": "a1a58882",
   "metadata": {},
   "source": [
    "\n"
   ]
  },
  {
   "cell_type": "markdown",
   "id": "320d4179",
   "metadata": {},
   "source": [
    "## Main Practical Use of Erosion:-\n",
    "\n",
    "## --->`If we want to Decrease the White Area of a Binary Image.`"
   ]
  },
  {
   "cell_type": "markdown",
   "id": "90637d8d",
   "metadata": {},
   "source": [
    "###  -------------------------------------------------------------------------------------------------------------------------------------------------------------"
   ]
  },
  {
   "cell_type": "markdown",
   "id": "cf40935d",
   "metadata": {},
   "source": [
    "# Dilation\n",
    "\n",
    "### Dilation is the opposite of Erosion.It will increse the ForeGround Pixels(assuming the foreground pixels are in white).\n",
    "\n",
    "### Dilation are especially used to Connect Broken parts of the Image."
   ]
  },
  {
   "cell_type": "markdown",
   "id": "999b6196",
   "metadata": {},
   "source": [
    "\n"
   ]
  },
  {
   "cell_type": "markdown",
   "id": "89480d70",
   "metadata": {},
   "source": [
    "## Computation Process of Dilation\n",
    "\n",
    "### ---Dilation Erosion works by defining a Structuring Element,which is then Slided from Left to Right and Top to Bottom of the Image Array.\n",
    "\n",
    "### --->A Center Pixel will be turned to white `If any one of  its Neighbourhood Pixels inside the Structuring Element is > 0`. "
   ]
  },
  {
   "cell_type": "markdown",
   "id": "c57caee0",
   "metadata": {},
   "source": [
    "\n"
   ]
  },
  {
   "cell_type": "markdown",
   "id": "6d00c7fe",
   "metadata": {},
   "source": [
    "### We use `cv2.dilate()` Method to Perform dilation in OpenCV.\n",
    "\n",
    "## For `cv2.dilate()` Method:-\n",
    "\n",
    "### < First Argument > :- It takes the Numpy Array of the Image on which we want to perform Dilation.\n",
    "### < Second Argument > :- It takes the STRUCTURING Element which will be used for the Dilation Process.If None then (3,3) Rectangular STRUCTURING Element will be used.\n",
    "### < Fourth Argument >(iterations) :-It takes the number of times Dilation will be applied."
   ]
  },
  {
   "cell_type": "markdown",
   "id": "f528f8b6",
   "metadata": {},
   "source": [
    "#### --------------------------------------------------------------------------------------------------------------------------------------------"
   ]
  },
  {
   "cell_type": "markdown",
   "id": "ebfb62a0",
   "metadata": {},
   "source": [
    "## *Experiment 1*"
   ]
  },
  {
   "cell_type": "code",
   "execution_count": 44,
   "id": "7228fd03",
   "metadata": {},
   "outputs": [],
   "source": [
    "d_O_1 = cv2.dilate(OrgImg,None,iterations=1)\n",
    "d_O_2 = cv2.dilate(OrgImg,None,iterations=2)\n",
    "d_O_3 = cv2.dilate(OrgImg,None,iterations=3)"
   ]
  },
  {
   "cell_type": "code",
   "execution_count": 45,
   "id": "f518b36a",
   "metadata": {},
   "outputs": [],
   "source": [
    "cv2.imshow(\"Normal Image\",OrgImg)\n",
    "cv2.imshow(\"Dilate_O_1\",d_O_1)\n",
    "cv2.imshow(\"Dilate_O_2\",d_O_2)\n",
    "cv2.imshow(\"Dilate_O_3\",d_O_3)\n",
    "cv2.waitKey(0)\n",
    "cv2.destroyAllWindows()"
   ]
  },
  {
   "cell_type": "markdown",
   "id": "14ffc3d5",
   "metadata": {},
   "source": [
    "### We can see that we performed Different Level of Dilations(using Different Values for Iteration Argument) on the Original Image.\n",
    "\n",
    "### We can notice that the White(ForeGround) Area was Increased after Applying Dilation.\n",
    "\n",
    "## `~>We can notice On Increasing the Number of Dilation Iterations the Image get More Dilated.`"
   ]
  },
  {
   "cell_type": "markdown",
   "id": "22a1c290",
   "metadata": {},
   "source": [
    "\n"
   ]
  },
  {
   "cell_type": "markdown",
   "id": "54b9ceee",
   "metadata": {},
   "source": [
    "### We are not repeating the Full Experiment 1 for Dilation as it will produce the Same Results as Erosion"
   ]
  },
  {
   "cell_type": "markdown",
   "id": "e1d7e3eb",
   "metadata": {},
   "source": [
    "#### --------------------------------------------------------------------------------------------------------------------------------------------"
   ]
  },
  {
   "cell_type": "markdown",
   "id": "ddff997d",
   "metadata": {},
   "source": [
    "## *Experiment 2*"
   ]
  },
  {
   "cell_type": "markdown",
   "id": "0a399c05",
   "metadata": {},
   "source": [
    "### We will not Repeat Experiment 2 for Dilation as it will Yield Same Result as Erosion.\n",
    "\n",
    "## -->Hence we can say that  `More the Size of STRUCTURING Element more the Image will get Dilated` "
   ]
  },
  {
   "cell_type": "markdown",
   "id": "e8a7e993",
   "metadata": {},
   "source": [
    "#### --------------------------------------------------------------------------------------------------------------------------------------------"
   ]
  },
  {
   "cell_type": "markdown",
   "id": "05cbcbb8",
   "metadata": {},
   "source": [
    "## *Experiment 3*"
   ]
  },
  {
   "cell_type": "markdown",
   "id": "fc151d43",
   "metadata": {},
   "source": [
    "### We will not Repeat Experiment 3 for Dilation as it will Yeild Same Results as Erosion.\n",
    "\n",
    "### -->Hence we can say we can use Even Sized STRUCTURING Elements"
   ]
  },
  {
   "cell_type": "markdown",
   "id": "518b9016",
   "metadata": {},
   "source": [
    "#### --------------------------------------------------------------------------------------------------------------------------------------------"
   ]
  },
  {
   "cell_type": "markdown",
   "id": "89ef6ae9",
   "metadata": {},
   "source": [
    "## *Experiment 4*"
   ]
  },
  {
   "cell_type": "code",
   "execution_count": 46,
   "id": "8da83777",
   "metadata": {},
   "outputs": [],
   "source": [
    "D_1_7_7 = cv2.dilate(rect,R7_7,iterations=1)\n",
    "D_1_7_3 = cv2.dilate(rect,R7_3,iterations=1)\n",
    "D_1_3_7 = cv2.dilate(rect,R3_7,iterations=1)"
   ]
  },
  {
   "cell_type": "markdown",
   "id": "bb07f428",
   "metadata": {},
   "source": [
    "### In the Above Cell we performed the Level(Iteration) 1 Dilation with all the three Structuring Elements on the Rectangle Image "
   ]
  },
  {
   "cell_type": "code",
   "execution_count": 48,
   "id": "2af7d97d",
   "metadata": {},
   "outputs": [],
   "source": [
    "D_5_7_7 = cv2.dilate(rect,R7_7,iterations=5)\n",
    "D_5_7_3 = cv2.dilate(rect,R7_3,iterations=5)\n",
    "D_5_3_7 = cv2.dilate(rect,R3_7,iterations=5)"
   ]
  },
  {
   "cell_type": "markdown",
   "id": "c564b68a",
   "metadata": {},
   "source": [
    "### In the Above Cell we performed the Level(Iteration) 5 Dilation with all the three Structuring Elements on the Rectangle Image "
   ]
  },
  {
   "cell_type": "code",
   "execution_count": 56,
   "id": "4852c67a",
   "metadata": {},
   "outputs": [
    {
     "name": "stdout",
     "output_type": "stream",
     "text": [
      "Length Starting Coordinate :- 150\n",
      "Length Ending Coordinate :- 449\n",
      "\n",
      "Width Starting Coordinate :- 150\n",
      "Width Ending Coordinate :- 449\n"
     ]
    }
   ],
   "source": [
    "LB_dimensions(rect)"
   ]
  },
  {
   "cell_type": "code",
   "execution_count": 50,
   "id": "5f3f0d36",
   "metadata": {},
   "outputs": [
    {
     "name": "stdout",
     "output_type": "stream",
     "text": [
      "Length Starting Coordinate :- 147\n",
      "Length Ending Coordinate :- 452\n",
      "\n",
      "Width Starting Coordinate :- 147\n",
      "Width Ending Coordinate :- 452\n"
     ]
    }
   ],
   "source": [
    "LB_dimensions(D_1_7_7)"
   ]
  },
  {
   "cell_type": "code",
   "execution_count": 51,
   "id": "64ffe0b4",
   "metadata": {},
   "outputs": [
    {
     "name": "stdout",
     "output_type": "stream",
     "text": [
      "Length Starting Coordinate :- 149\n",
      "Length Ending Coordinate :- 450\n",
      "\n",
      "Width Starting Coordinate :- 147\n",
      "Width Ending Coordinate :- 452\n"
     ]
    }
   ],
   "source": [
    "LB_dimensions(D_1_7_3)"
   ]
  },
  {
   "cell_type": "code",
   "execution_count": 52,
   "id": "fbbd93c8",
   "metadata": {},
   "outputs": [
    {
     "name": "stdout",
     "output_type": "stream",
     "text": [
      "Length Starting Coordinate :- 147\n",
      "Length Ending Coordinate :- 452\n",
      "\n",
      "Width Starting Coordinate :- 149\n",
      "Width Ending Coordinate :- 450\n"
     ]
    }
   ],
   "source": [
    "LB_dimensions(D_1_3_7)"
   ]
  },
  {
   "cell_type": "code",
   "execution_count": 53,
   "id": "af3da2a0",
   "metadata": {},
   "outputs": [
    {
     "name": "stdout",
     "output_type": "stream",
     "text": [
      "Length Starting Coordinate :- 135\n",
      "Length Ending Coordinate :- 464\n",
      "\n",
      "Width Starting Coordinate :- 135\n",
      "Width Ending Coordinate :- 464\n"
     ]
    }
   ],
   "source": [
    "LB_dimensions(D_5_7_7)"
   ]
  },
  {
   "cell_type": "code",
   "execution_count": 54,
   "id": "8c95e752",
   "metadata": {},
   "outputs": [
    {
     "name": "stdout",
     "output_type": "stream",
     "text": [
      "Length Starting Coordinate :- 145\n",
      "Length Ending Coordinate :- 454\n",
      "\n",
      "Width Starting Coordinate :- 135\n",
      "Width Ending Coordinate :- 464\n"
     ]
    }
   ],
   "source": [
    "LB_dimensions(D_5_7_3)"
   ]
  },
  {
   "cell_type": "code",
   "execution_count": 55,
   "id": "21c85b9f",
   "metadata": {},
   "outputs": [
    {
     "name": "stdout",
     "output_type": "stream",
     "text": [
      "Length Starting Coordinate :- 135\n",
      "Length Ending Coordinate :- 464\n",
      "\n",
      "Width Starting Coordinate :- 145\n",
      "Width Ending Coordinate :- 454\n"
     ]
    }
   ],
   "source": [
    "LB_dimensions(D_5_3_7)"
   ]
  },
  {
   "cell_type": "markdown",
   "id": "da848576",
   "metadata": {},
   "source": [
    "### From the Above Obeservation we can see that :-\n",
    "\n",
    "### --->The Structuring Element (7,3)(width,height) affects more on Width than Length(According to the internal dilation working its right)\n",
    "\n",
    "### --->The Structuring Element (3,7)(width,height) affects more on Length than Width(According to the internal dilation working is right)\n",
    "\n",
    "## `~>Hence we can say that Bigger the Height of Structuring Element more it will effect Length and Bigger the Width of Structuring Element more it will effect the Width for the Dilation`"
   ]
  },
  {
   "cell_type": "code",
   "execution_count": 59,
   "id": "4828f61e",
   "metadata": {},
   "outputs": [],
   "source": [
    "D_7_R7 = cv2.dilate(rect,R7,iterations=7)\n",
    "D1_7_R7 = cv2.dilate(rect1,R7,iterations=7)"
   ]
  },
  {
   "cell_type": "code",
   "execution_count": 61,
   "id": "030709a6",
   "metadata": {},
   "outputs": [
    {
     "name": "stdout",
     "output_type": "stream",
     "text": [
      "Length Starting Coordinate :- 129\n",
      "Length Ending Coordinate :- 470\n",
      "\n",
      "Width Starting Coordinate :- 129\n",
      "Width Ending Coordinate :- 470\n"
     ]
    }
   ],
   "source": [
    "LB_dimensions(D_7_R7)"
   ]
  },
  {
   "cell_type": "code",
   "execution_count": 62,
   "id": "e2677480",
   "metadata": {},
   "outputs": [
    {
     "name": "stdout",
     "output_type": "stream",
     "text": [
      "Length Starting Coordinate :- 329\n",
      "Length Ending Coordinate :- 420\n",
      "\n",
      "Width Starting Coordinate :- 329\n",
      "Width Ending Coordinate :- 420\n"
     ]
    }
   ],
   "source": [
    "LB_dimensions(D1_7_R7)"
   ]
  },
  {
   "cell_type": "markdown",
   "id": "0bed70e3",
   "metadata": {},
   "source": [
    "### We can observe in the Above Cells that Same amount of ForeGround Pixels were Dilated for both the Images.\n",
    "\n",
    "### -->Hence we can say that the Size of White Area doesnot matter for the Dilation Process.It will affect the same irrespective of the size of the White Image."
   ]
  },
  {
   "cell_type": "markdown",
   "id": "84bd9670",
   "metadata": {},
   "source": [
    "\n"
   ]
  },
  {
   "cell_type": "markdown",
   "id": "b647f5b7",
   "metadata": {},
   "source": [
    "## Main Practical Use of Dilation:-\n",
    "\n",
    "## `-->If we want to Increse the Size of White Area in a Binary Image.`"
   ]
  },
  {
   "cell_type": "markdown",
   "id": "267a5e05",
   "metadata": {},
   "source": [
    "###  -------------------------------------------------------------------------------------------------------------------------------------------------------------"
   ]
  },
  {
   "cell_type": "markdown",
   "id": "41766fe5",
   "metadata": {},
   "source": [
    "# Opening\n",
    "\n",
    "### Opening Morphological Operation can be defined as Erosion followed by Dilation.\n",
    "\n",
    "### Performing an Opening Morphological Operation help us to Remove Small White Blobs from the Image.\n",
    "### -->First Erosion will be applied to Remove the Small Blobs from the Image,Then Dilation is applied to Re-Grow the Size of the Original Image."
   ]
  },
  {
   "cell_type": "code",
   "execution_count": 9,
   "id": "8932e620",
   "metadata": {},
   "outputs": [],
   "source": [
    "imgblob = cv2.imread(r\"E:\\PyImage_ComputerVision\\OpenCVBasic\\WorkingData\\InputData\\logoN.png\")"
   ]
  },
  {
   "cell_type": "code",
   "execution_count": 64,
   "id": "a7eaceee",
   "metadata": {},
   "outputs": [],
   "source": [
    "cv2.imshow(\"Blob Image\",imgblob)\n",
    "cv2.waitKey(0)\n",
    "cv2.destroyAllWindows()"
   ]
  },
  {
   "cell_type": "markdown",
   "id": "551a4d41",
   "metadata": {},
   "source": [
    "### In the Above Image we Read an Image that contains Small White Blobs with A White Large Main Object ."
   ]
  },
  {
   "cell_type": "code",
   "execution_count": 68,
   "id": "7d78525b",
   "metadata": {},
   "outputs": [],
   "source": [
    "Ob_1_3 = cv2.morphologyEx(imgblob,cv2.MORPH_OPEN,None,iterations=1)\n",
    "Ob_2_3 = cv2.morphologyEx(imgblob,cv2.MORPH_OPEN,None,iterations=2)\n",
    "Ob_3_3 = cv2.morphologyEx(imgblob,cv2.MORPH_OPEN,None,iterations=3)"
   ]
  },
  {
   "cell_type": "markdown",
   "id": "a25912c2",
   "metadata": {},
   "source": [
    "### In the Above Cell we peformed Level(Iteration) 1,2,3 Open Operation Using (3,3) Rectangular STRUCTURING Element on the Blobled Image"
   ]
  },
  {
   "cell_type": "code",
   "execution_count": 107,
   "id": "df064469",
   "metadata": {},
   "outputs": [],
   "source": [
    "cv2.imshow(\"Blob Image\",imgblob)\n",
    "cv2.imshow(\"Open 1 3\",Ob_1_3)\n",
    "cv2.imshow(\"Open 2 3\",Ob_2_3)\n",
    "cv2.imshow(\"open 3 3\",Ob_3_3)\n",
    "cv2.waitKey(0)\n",
    "cv2.destroyAllWindows()"
   ]
  },
  {
   "cell_type": "markdown",
   "id": "cf89600a",
   "metadata": {},
   "source": [
    "### We can notice that the Small White were getting Removed after Applying Open Morphological Operation.\n",
    "\n",
    "## `~>We can notice On Increasing the Number of Open Iterations ,More Small White Blobs were Removed.`"
   ]
  },
  {
   "cell_type": "markdown",
   "id": "6e4130c6",
   "metadata": {},
   "source": [
    "\n"
   ]
  },
  {
   "cell_type": "markdown",
   "id": "9832ce10",
   "metadata": {},
   "source": [
    "### We can also Notice that in Ob_3_3 all the White Blobs were Removed but it Left Gaps in Letter P and A of the Main Object."
   ]
  },
  {
   "cell_type": "code",
   "execution_count": 108,
   "id": "6296a164",
   "metadata": {},
   "outputs": [],
   "source": [
    "restore = cv2.dilate(Ob_3_3,None,iterations=2)"
   ]
  },
  {
   "cell_type": "code",
   "execution_count": 109,
   "id": "57b70277",
   "metadata": {},
   "outputs": [],
   "source": [
    "cv2.imshow(\"Blob Image\",imgblob)\n",
    "cv2.imshow(\"Open 3 3\",Ob_3_3)\n",
    "cv2.imshow(\"Restored Image\",restore)\n",
    "cv2.waitKey(0)\n",
    "cv2.destroyAllWindows()"
   ]
  },
  {
   "cell_type": "markdown",
   "id": "95161196",
   "metadata": {},
   "source": [
    "### We can see that we tried to Close the Gap formed By Opening Operation Using Dilation,still we didnot got the Satisfied Results.\n",
    "\n",
    "### -->Hence we can say that `Be Very Careful with Method Parameters while Performing Opening Morphological Operation`."
   ]
  },
  {
   "cell_type": "markdown",
   "id": "100af1b0",
   "metadata": {},
   "source": [
    "\n"
   ]
  },
  {
   "cell_type": "code",
   "execution_count": 10,
   "id": "1426d0fb",
   "metadata": {},
   "outputs": [],
   "source": [
    "Ob_1_5 = cv2.morphologyEx(imgblob,cv2.MORPH_OPEN,R5,iterations=1)\n",
    "Ob_2_5 = cv2.morphologyEx(imgblob,cv2.MORPH_OPEN,R5,iterations=2)\n",
    "Ob_3_5 = cv2.morphologyEx(imgblob,cv2.MORPH_OPEN,R5,iterations=3)"
   ]
  },
  {
   "cell_type": "markdown",
   "id": "a63f93ce",
   "metadata": {},
   "source": [
    "### In the Above Cell we performed Level(Iteration) 1,2,3 Open Operation Using (5,5) Rectangular STRUCTURING Element on the Blobed Image. "
   ]
  },
  {
   "cell_type": "code",
   "execution_count": 11,
   "id": "e2f0f96c",
   "metadata": {},
   "outputs": [],
   "source": [
    "Ob_1_7 = cv2.morphologyEx(imgblob,cv2.MORPH_OPEN,R7,iterations=1)\n",
    "Ob_2_7 = cv2.morphologyEx(imgblob,cv2.MORPH_OPEN,R7,iterations=2)\n",
    "Ob_3_7 = cv2.morphologyEx(imgblob,cv2.MORPH_OPEN,R7,iterations=3)"
   ]
  },
  {
   "cell_type": "markdown",
   "id": "1172449c",
   "metadata": {},
   "source": [
    "### In the Above Cell we performed Level(Iteration) 1,2,3 Open Operation Using (7,7) Rectangular STRUCTURING Element on the Blobed Image. "
   ]
  },
  {
   "cell_type": "code",
   "execution_count": 12,
   "id": "17cb0f5f",
   "metadata": {},
   "outputs": [],
   "source": [
    "cv2.imshow(\"Blob Image\",imgblob)\n",
    "cv2.imshow(\"Open 1 5\",Ob_1_5)\n",
    "cv2.imshow(\"Open 2 5\",Ob_2_5)\n",
    "cv2.imshow(\"Open 3 5\",Ob_3_5)\n",
    "cv2.imshow(\"Open 1 7\",Ob_1_7)\n",
    "cv2.imshow(\"Open 2 7\",Ob_2_7)\n",
    "cv2.imshow(\"open 3 7\",Ob_3_7)\n",
    "cv2.waitKey(0)\n",
    "cv2.destroyAllWindows()"
   ]
  },
  {
   "cell_type": "markdown",
   "id": "f8cb1e35",
   "metadata": {},
   "source": [
    "### We can observe from the Above Results that Bigger Sized STRUCTURING ELEMENT even removed the Main White Object along with Small White Blobs.\n",
    "\n",
    "### Hence we should be carefull with the Number of Iterations and Size of STRUCTURING Element we used in the Open Morphological Operations\n",
    "\n",
    "## ~>`Hence we can say that More the Size of STRUCTURING Element more the Image will get Opened`"
   ]
  },
  {
   "cell_type": "code",
   "execution_count": 13,
   "id": "d090b7e1",
   "metadata": {},
   "outputs": [],
   "source": [
    "imgblobrev = cv2.bitwise_not(imgblob)"
   ]
  },
  {
   "cell_type": "markdown",
   "id": "36c76ed2",
   "metadata": {},
   "source": [
    "### In the Above Cells we created The Reverse Image of BlobImage,Which contains Blobs in Black and Main Object in Black and BackGround in White"
   ]
  },
  {
   "cell_type": "code",
   "execution_count": 14,
   "id": "469be620",
   "metadata": {},
   "outputs": [],
   "source": [
    "cv2.imshow(\"Image Blob\",imgblob)\n",
    "cv2.imshow(\"Image Blob Reverse\",imgblobrev)\n",
    "cv2.waitKey(0)\n",
    "cv2.destroyAllWindows()"
   ]
  },
  {
   "cell_type": "code",
   "execution_count": 15,
   "id": "1d4aa505",
   "metadata": {},
   "outputs": [],
   "source": [
    "Obr_1_5 = cv2.morphologyEx(imgblobrev,cv2.MORPH_OPEN,R5,iterations=1)"
   ]
  },
  {
   "cell_type": "code",
   "execution_count": 16,
   "id": "301e1d89",
   "metadata": {},
   "outputs": [],
   "source": [
    "cv2.imshow(\"Image Blob reverse\",imgblobrev)\n",
    "cv2.imshow(\"Open Reverse 2 7\",Obr_1_5)\n",
    "cv2.waitKey(0)\n",
    "cv2.destroyAllWindows()"
   ]
  },
  {
   "cell_type": "markdown",
   "id": "0460f39b",
   "metadata": {},
   "source": [
    "### In the Above Cells we performed Opening Operation on the Reversed Blob Image,Hence we can see it Failed to Remove Black Blobs and connected the Black Foreground Object.(Its Right according to Internal Working of Opening Operation)"
   ]
  },
  {
   "cell_type": "markdown",
   "id": "927808d3",
   "metadata": {},
   "source": [
    "## Main Practical Use of Opening:-\n",
    "\n",
    "## `-->If we want to Remove White Blobs from a Noisy Binary Image`\n",
    "\n",
    "## `-->If we want to Remove Noise from Image which has Same Color Intensity as ForeGround Object`"
   ]
  },
  {
   "cell_type": "markdown",
   "id": "dd5dd303",
   "metadata": {},
   "source": [
    "###  -------------------------------------------------------------------------------------------------------------------------------------------------------------"
   ]
  },
  {
   "cell_type": "markdown",
   "id": "6a398f53",
   "metadata": {},
   "source": [
    "# CLOSING\n",
    "\n",
    "### Closing Morphological Operation can be defined as Dilation followed by Erosion.\n",
    "### Performing Closing Help us to Connect or Close Holes Inside of Objects.\n",
    "\n",
    "### -->First Dilation is Applied to Increase the White Area and Connect the Holes,then Erosion is applied to Cut the Extended Boundary of the ForeGround Object hence keeping it in Original Size."
   ]
  },
  {
   "cell_type": "code",
   "execution_count": 20,
   "id": "7f3cbe41",
   "metadata": {},
   "outputs": [],
   "source": [
    "C_O_1 = cv2.morphologyEx(OrgImg,cv2.MORPH_CLOSE,None,iterations=1)\n",
    "C_O_2 = cv2.morphologyEx(OrgImg,cv2.MORPH_CLOSE,None,iterations=2)\n",
    "C_O_3 = cv2.morphologyEx(OrgImg,cv2.MORPH_CLOSE,None,iterations=3)"
   ]
  },
  {
   "cell_type": "markdown",
   "id": "385c784c",
   "metadata": {},
   "source": [
    "### In the Above Cell we Performed Level(Iteration) 1,2,3 Closing Morphological Operation using (3,3) Rectangular STRUCTURING Element on the Original Image."
   ]
  },
  {
   "cell_type": "code",
   "execution_count": 23,
   "id": "13b07799",
   "metadata": {},
   "outputs": [],
   "source": [
    "cv2.imshow(\"Orginal Image\",OrgImg)\n",
    "cv2.imshow(\"Close 1\",C_O_1)\n",
    "cv2.imshow(\"Closs 2\",C_O_2)\n",
    "cv2.imshow(\"Closs 3\",C_O_3)\n",
    "cv2.waitKey(0)\n",
    "cv2.destroyAllWindows()"
   ]
  },
  {
   "cell_type": "markdown",
   "id": "8c778a62",
   "metadata": {},
   "source": [
    "### We can see in the Above Cells that Holes and Gaps in the ForeGround(White) Object Gets Conected as we apply Closing Morphological Operation\n",
    "\n",
    "## -->We can see that `On Increasing the Number of Iterations ,More the White Gaps were Filled of the ForeGround Object`."
   ]
  },
  {
   "cell_type": "code",
   "execution_count": 28,
   "id": "39dcf8b6",
   "metadata": {},
   "outputs": [],
   "source": [
    "C_O_1_5 = cv2.morphologyEx(OrgImg,cv2.MORPH_CLOSE,R5,iterations=1)\n",
    "C_O_2_5 = cv2.morphologyEx(OrgImg,cv2.MORPH_CLOSE,R5,iterations=2)\n",
    "C_O_3_5 = cv2.morphologyEx(OrgImg,cv2.MORPH_CLOSE,R5,iterations=3)"
   ]
  },
  {
   "cell_type": "markdown",
   "id": "6e44c739",
   "metadata": {},
   "source": [
    "### In the Above Cells we performed Level(Iterations) 1,2,3 Closing Morphological Operation using (5,5) Rectangular STRUCTURING Element on the Original Image."
   ]
  },
  {
   "cell_type": "code",
   "execution_count": 29,
   "id": "a88963e5",
   "metadata": {},
   "outputs": [],
   "source": [
    "C_O_1_7 = cv2.morphologyEx(OrgImg,cv2.MORPH_CLOSE,R7,iterations=1)\n",
    "C_O_2_7 = cv2.morphologyEx(OrgImg,cv2.MORPH_CLOSE,R7,iterations=2)\n",
    "C_O_3_7 = cv2.morphologyEx(OrgImg,cv2.MORPH_CLOSE,R7,iterations=3)"
   ]
  },
  {
   "cell_type": "markdown",
   "id": "fa5dcf93",
   "metadata": {},
   "source": [
    "### In the above Cells we performed Level(Iterations) 1,2,3 Closing Morphological Operation using (7,7) Rectangular STRUCTURING Element on the Original Image. "
   ]
  },
  {
   "cell_type": "code",
   "execution_count": 30,
   "id": "279094fc",
   "metadata": {},
   "outputs": [],
   "source": [
    "cv2.imshow(\"Original Image\",OrgImg)\n",
    "cv2.imshow(\"Close 1 5\",C_O_1_5)\n",
    "cv2.imshow(\"Close 2 5\",C_O_2_5)\n",
    "cv2.imshow(\"Close 3 5\",C_O_3_5)\n",
    "cv2.imshow(\"Close 1 7\",C_O_1_7)\n",
    "cv2.imshow(\"Close 2 7\",C_O_2_7)\n",
    "cv2.imshow(\"Close 3 7\",C_O_3_7)\n",
    "cv2.waitKey(0)\n",
    "cv2.destroyAllWindows()"
   ]
  },
  {
   "cell_type": "markdown",
   "id": "cc5b05b6",
   "metadata": {},
   "source": [
    "### We can observe from the Above Results that Bigger Sized STRUCTURING ELEMENT even removed the Main Black Object\n",
    "\n",
    "## ~>`Hence we can say that More the Size of STRUCTURING Element more the Image will get Opened`"
   ]
  },
  {
   "cell_type": "code",
   "execution_count": 31,
   "id": "e483f0ed",
   "metadata": {},
   "outputs": [],
   "source": [
    "C_R_1 = cv2.morphologyEx(imgblobrev,cv2.MORPH_CLOSE,None,iterations=1)\n",
    "C_R_2 = cv2.morphologyEx(imgblobrev,cv2.MORPH_CLOSE,None,iterations=2)\n",
    "C_R_3 = cv2.morphologyEx(imgblobrev,cv2.MORPH_CLOSE,None,iterations=3)"
   ]
  },
  {
   "cell_type": "markdown",
   "id": "1f08d6c2",
   "metadata": {},
   "source": [
    "### In the Above Cell we performed Level(Iterations) 1,2,3 Closing Morphological Operation using (3,3) Rectangular STRUCTURING Element on Reversed Blobed Image(Containing Black Blobs with Black ForeGround Object and White BackGround)"
   ]
  },
  {
   "cell_type": "code",
   "execution_count": 33,
   "id": "e4d3deec",
   "metadata": {},
   "outputs": [],
   "source": [
    "cv2.imshow(\"Reversed Blobed Image\",imgblobrev)\n",
    "cv2.imshow(\"Close 1\",C_R_1)\n",
    "cv2.imshow(\"Close 2\",C_R_2)\n",
    "cv2.imshow(\"Close 3\",C_R_3)\n",
    "cv2.waitKey(0)\n",
    "cv2.destroyAllWindows()"
   ]
  },
  {
   "cell_type": "markdown",
   "id": "e443e9be",
   "metadata": {},
   "source": [
    "### In the Above Cell we can see that Closing Operation helped us removed Black Blobs from the Image,But we have to be very Careful with Method Parameters as Closing also Degrades our Main Black Object."
   ]
  },
  {
   "cell_type": "code",
   "execution_count": 34,
   "id": "91a39af7",
   "metadata": {},
   "outputs": [],
   "source": [
    "C_B_1 = cv2.morphologyEx(imgblob,cv2.MORPH_CLOSE,None,iterations=1)\n",
    "C_B_2 = cv2.morphologyEx(imgblob,cv2.MORPH_CLOSE,None,iterations=2)\n",
    "C_B_3 = cv2.morphologyEx(imgblob,cv2.MORPH_CLOSE,None,iterations=3)"
   ]
  },
  {
   "cell_type": "markdown",
   "id": "56951186",
   "metadata": {},
   "source": [
    "### In the Above Cell we performed Level(Iterations) 1,2,3 Closing Morphological Operations using (3,3) Rectangular STRUCTURING Element on the Original Blobed Image."
   ]
  },
  {
   "cell_type": "code",
   "execution_count": 36,
   "id": "82e458cd",
   "metadata": {},
   "outputs": [],
   "source": [
    "cv2.imshow(\"Original Blobed Image\",imgblob)\n",
    "cv2.imshow(\"Close 1\",C_B_1)\n",
    "cv2.imshow(\"Close 2\",C_B_2)\n",
    "cv2.imshow(\"Close 3\",C_B_3)\n",
    "cv2.waitKey(0)\n",
    "cv2.destroyAllWindows()"
   ]
  },
  {
   "cell_type": "markdown",
   "id": "c4e06339",
   "metadata": {},
   "source": [
    "### As the above Image has White Blobs hence we can see that\n",
    "\n",
    "### --->After Performing Closing Operation we can see that The Gaps in White Foreground and White Blobs started to get Filled."
   ]
  },
  {
   "cell_type": "markdown",
   "id": "b7cf12b0",
   "metadata": {},
   "source": [
    "## Main Practical Use of Closing:-\n",
    "\n",
    "## `-->If we want to Remove Black Blobs from a Noisy Binary Image`\n",
    "\n",
    "## `-->If we want to Fill White Gaps in the Image`"
   ]
  },
  {
   "cell_type": "markdown",
   "id": "874976f5",
   "metadata": {},
   "source": [
    "###  -------------------------------------------------------------------------------------------------------------------------------------------------------------"
   ]
  },
  {
   "cell_type": "markdown",
   "id": "57726ba5",
   "metadata": {},
   "source": [
    "# Morphological Gradient\n",
    "\n",
    "### Its the Difference Between a Dilation and a Gradient.\n",
    "\n",
    "### Its a Cheap Computation method used for Determining Outlines of an Object in Image."
   ]
  },
  {
   "cell_type": "code",
   "execution_count": 6,
   "id": "295cbbc3",
   "metadata": {},
   "outputs": [],
   "source": [
    "MG_O_1 = cv2.morphologyEx(OrgImg,cv2.MORPH_GRADIENT,None,iterations=1)\n",
    "MG_O_2 = cv2.morphologyEx(OrgImg,cv2.MORPH_GRADIENT,None,iterations=2)\n",
    "MG_O_3 = cv2.morphologyEx(OrgImg,cv2.MORPH_GRADIENT,None,iterations=3)"
   ]
  },
  {
   "cell_type": "markdown",
   "id": "2401f5f5",
   "metadata": {},
   "source": [
    "### In the Above Cells we Performed Level(Iterations) 1,2,3 Morphological Gradient Using (3,3) Rectangular STRUCTURING Element on the Original Logo Image."
   ]
  },
  {
   "cell_type": "code",
   "execution_count": 8,
   "id": "973214c4",
   "metadata": {},
   "outputs": [],
   "source": [
    "cv2.imshow(\"Original Image\",OrgImg)\n",
    "cv2.imshow(\"MG 1\",MG_O_1)\n",
    "cv2.imshow(\"MG 2\",MG_O_2)\n",
    "cv2.imshow(\"MG 3\",MG_O_3)\n",
    "cv2.waitKey(0)\n",
    "cv2.destroyAllWindows()"
   ]
  },
  {
   "cell_type": "markdown",
   "id": "d2a4b368",
   "metadata": {},
   "source": [
    "### In the Above Cells we can notice that Morphological Gradient Created Outlines of the White Object.\n",
    "\n",
    "### -->We can see that ,`More the Number of Iterations,More the Thick Outlines are.` "
   ]
  },
  {
   "cell_type": "code",
   "execution_count": 11,
   "id": "02ec4ea9",
   "metadata": {},
   "outputs": [],
   "source": [
    "MG_R_1 = cv2.morphologyEx(rect,cv2.MORPH_GRADIENT,None,iterations=1)\n",
    "MG_R_2 = cv2.morphologyEx(rect,cv2.MORPH_GRADIENT,None,iterations=2)\n",
    "MG_R_3 = cv2.morphologyEx(rect,cv2.MORPH_GRADIENT,None,iterations=3)"
   ]
  },
  {
   "cell_type": "markdown",
   "id": "e872955a",
   "metadata": {},
   "source": [
    "### In the Above Cell we Performed Level(Iteration) 1,2,3 Morphological Gradient Using (3,3) Rectangular STRUCTURING Element on the Rectangle Image."
   ]
  },
  {
   "cell_type": "code",
   "execution_count": 12,
   "id": "de93bf75",
   "metadata": {},
   "outputs": [],
   "source": [
    "cv2.imshow(\"Rect\",rect)\n",
    "cv2.imshow(\"MG 1\",MG_R_1)\n",
    "cv2.imshow(\"MG 2\",MG_R_2)\n",
    "cv2.imshow(\"MG 3\",MG_R_3)\n",
    "cv2.waitKey(0)\n",
    "cv2.destroyAllWindows()"
   ]
  },
  {
   "cell_type": "markdown",
   "id": "74962e31",
   "metadata": {},
   "source": [
    "### In the Above Cells we can see that Morphological Gradient Successfully Created Outlines for the Big White Rectangle.\n",
    "\n",
    "### We can notice that ,`More the Number of Iterations,More the Thick Outines are.`"
   ]
  },
  {
   "cell_type": "code",
   "execution_count": 6,
   "id": "4e44d91b",
   "metadata": {},
   "outputs": [],
   "source": [
    "MG_O_1_5 = cv2.morphologyEx(OrgImg,cv2.MORPH_GRADIENT,R5,iterations=1)\n",
    "MG_O_2_5 = cv2.morphologyEx(OrgImg,cv2.MORPH_GRADIENT,R5,iterations=2)\n",
    "MG_O_3_5 = cv2.morphologyEx(OrgImg,cv2.MORPH_GRADIENT,R5,iterations=3)"
   ]
  },
  {
   "cell_type": "markdown",
   "id": "d52bf515",
   "metadata": {},
   "source": [
    "### In the Above Cells we Performed Level(Iterations) 1,2,3 Morphological Gradient Using (5,5) Rectangular STRUCTURING Element on the Original Logo Image."
   ]
  },
  {
   "cell_type": "code",
   "execution_count": 7,
   "id": "0deb6f8b",
   "metadata": {},
   "outputs": [],
   "source": [
    "MG_O_1_7 = cv2.morphologyEx(OrgImg,cv2.MORPH_GRADIENT,R7,iterations=1)\n",
    "MG_O_2_7 = cv2.morphologyEx(OrgImg,cv2.MORPH_GRADIENT,R7,iterations=2)\n",
    "MG_O_3_7 = cv2.morphologyEx(OrgImg,cv2.MORPH_GRADIENT,R7,iterations=3)"
   ]
  },
  {
   "cell_type": "markdown",
   "id": "eee46159",
   "metadata": {},
   "source": [
    "### In the Above Cells we Performed Level(Iterations) 1,2,3 Morphological Gradient Using (7,7) Rectangular STRUCTURING Element on the Original Logo Image. "
   ]
  },
  {
   "cell_type": "code",
   "execution_count": 8,
   "id": "784fe90c",
   "metadata": {},
   "outputs": [],
   "source": [
    "cv2.imshow(\"Original Logo Image\",OrgImg)\n",
    "cv2.imshow(\"MG 1 5\",MG_O_1_5)\n",
    "cv2.imshow(\"MG 2 5\",MG_O_2_5)\n",
    "cv2.imshow(\"MG 3 5\",MG_O_3_5)\n",
    "cv2.imshow(\"MG 1 7\",MG_O_1_7)\n",
    "cv2.imshow(\"MG 2 7\",MG_O_2_7)\n",
    "cv2.imshow(\"MG 3 7\",MG_O_3_7)\n",
    "cv2.waitKey(0)\n",
    "cv2.destroyAllWindows()"
   ]
  },
  {
   "cell_type": "markdown",
   "id": "b7d3bb32",
   "metadata": {},
   "source": [
    "### In the Above Results we can Observe that \n",
    "\n",
    "### -->`On Increasing the Size of the STRUCTURING Element we got Thicker Outlines.`\n",
    "\n",
    "### -->We can even Notice that in Some Cases(With Bigger Iteration Value and Bigger Size of STRUCTURING Element) , that Outlines become so THICK that we it even Filles the Full Object\n",
    "\n",
    "## **Note:-Hence we can say that be Carefull with Method Parameters While Performing Morphological Gradient"
   ]
  },
  {
   "cell_type": "code",
   "execution_count": 10,
   "id": "054ea78a",
   "metadata": {},
   "outputs": [],
   "source": [
    "MG_R_1_7 = cv2.morphologyEx(rect,cv2.MORPH_GRADIENT,R7,iterations=1)\n",
    "MG_R_2_7 = cv2.morphologyEx(rect,cv2.MORPH_GRADIENT,R7,iterations=2)\n",
    "MG_R_3_7 = cv2.morphologyEx(rect,cv2.MORPH_GRADIENT,R7,iterations=3)"
   ]
  },
  {
   "cell_type": "code",
   "execution_count": 11,
   "id": "9fb85353",
   "metadata": {},
   "outputs": [],
   "source": [
    "cv2.imshow(\"Orginal Rectangle\",rect)\n",
    "cv2.imshow(\"MG 1 7\",MG_R_1_7)\n",
    "cv2.imshow(\"MG 2 7\",MG_R_2_7)\n",
    "cv2.imshow(\"MG 3 7\",MG_R_3_7)\n",
    "cv2.waitKey(0)\n",
    "cv2.destroyAllWindows()"
   ]
  },
  {
   "cell_type": "markdown",
   "id": "1a33fc9d",
   "metadata": {},
   "source": [
    "### In the Above Cell we can see that the Big White Rectangle did not get Filled with above Lines of Code and it worked properly.\n",
    "\n",
    "### But If we Increased the Number of Iterations or the Size of the STRUCTURING Element then the White Rectangle will also get Filled and produce INACCURATE Results"
   ]
  },
  {
   "cell_type": "code",
   "execution_count": 5,
   "id": "41a6c1f8",
   "metadata": {},
   "outputs": [],
   "source": [
    "OrgImgRev = cv2.bitwise_not(OrgImg)"
   ]
  },
  {
   "cell_type": "code",
   "execution_count": 6,
   "id": "2f64a48d",
   "metadata": {},
   "outputs": [],
   "source": [
    "cv2.imshow(\"Original Logo Image\",OrgImg)\n",
    "cv2.imshow(\"Original Reversed Logo Image\",OrgImgRev)\n",
    "cv2.waitKey(0)\n",
    "cv2.destroyAllWindows()"
   ]
  },
  {
   "cell_type": "markdown",
   "id": "48c51d4f",
   "metadata": {},
   "source": [
    "### In the Above Cells we can see that we Reversed The Original Logo Image with White Foreground and Main Obejct in Black."
   ]
  },
  {
   "cell_type": "code",
   "execution_count": 7,
   "id": "5fedbbdd",
   "metadata": {},
   "outputs": [],
   "source": [
    "MG_RV_1_5 = cv2.morphologyEx(OrgImgRev,cv2.MORPH_GRADIENT,R5,iterations=1)\n",
    "MG_RV_2_5 = cv2.morphologyEx(OrgImgRev,cv2.MORPH_GRADIENT,R5,iterations=2)\n",
    "MG_RV_3_5 = cv2.morphologyEx(OrgImgRev,cv2.MORPH_GRADIENT,R5,iterations=3)"
   ]
  },
  {
   "cell_type": "code",
   "execution_count": 8,
   "id": "b2d9e03e",
   "metadata": {},
   "outputs": [],
   "source": [
    "cv2.imshow(\"Original Reversed Logo Image\",OrgImgRev)\n",
    "cv2.imshow(\"MG Rev 1 5\",MG_RV_1_5)\n",
    "cv2.imshow(\"MG Rev 2 5\",MG_RV_2_5)\n",
    "cv2.imshow(\"MG Rev 3 5\",MG_RV_3_5)\n",
    "cv2.waitKey(0)\n",
    "cv2.destroyAllWindows()"
   ]
  },
  {
   "cell_type": "markdown",
   "id": "367523f4",
   "metadata": {},
   "source": [
    "### In the Above Cell we can Observe that It Worked Properly for the Reversed logo Image,Hence it can be used for Both Cases."
   ]
  },
  {
   "cell_type": "markdown",
   "id": "abc50fda",
   "metadata": {},
   "source": [
    "## Main Practical Use of Morphological Gradient:-\n",
    "\n",
    "## `-->If we want Outlines for the ForeGround Object of an Image.`"
   ]
  },
  {
   "cell_type": "markdown",
   "id": "6346fb61",
   "metadata": {},
   "source": [
    "###  -------------------------------------------------------------------------------------------------------------------------------------------------------------"
   ]
  },
  {
   "cell_type": "markdown",
   "id": "199dc9b6",
   "metadata": {},
   "source": [
    "# Top/White Hat\n",
    "\n",
    "### Its the Difference Between Original(Input Image) and Opening Operation of the Image.\n",
    "\n",
    "### Its used to reveal Bright Regions of an Image present on Dark BackGround.\n",
    "\n",
    "## **Note:-Top/White Hat Operations Works better on GrayScale Images.It Produces  Unpredictable Results on Binary Images "
   ]
  },
  {
   "cell_type": "code",
   "execution_count": 43,
   "id": "eeb9488c",
   "metadata": {},
   "outputs": [],
   "source": [
    "TP_C_1 = cv2.morphologyEx(car,cv2.MORPH_TOPHAT,None,iterations=1)\n",
    "TP_C_2 = cv2.morphologyEx(car,cv2.MORPH_TOPHAT,None,iterations=2)\n",
    "TP_C_3 = cv2.morphologyEx(car,cv2.MORPH_TOPHAT,None,iterations=3)"
   ]
  },
  {
   "cell_type": "markdown",
   "id": "e14f1688",
   "metadata": {},
   "source": [
    "### In the Above Image we performed Level(Iteration) 1,2,3 Top Hat Operation using (3,3) rectangular STRUCTURING Element on the Car Gray Scale Image"
   ]
  },
  {
   "cell_type": "code",
   "execution_count": 47,
   "id": "06ba0163",
   "metadata": {},
   "outputs": [],
   "source": [
    "cv2.imshow(\"Original Image\",car)\n",
    "cv2.imshow(\"TopHat 1\",TP_C_1)\n",
    "cv2.imshow(\"TopHat 2\",TP_C_2)\n",
    "cv2.imshow(\"TopHat 3\",TP_C_3)\n",
    "cv2.waitKey(0)\n",
    "cv2.destroyAllWindows()"
   ]
  },
  {
   "cell_type": "markdown",
   "id": "52498095",
   "metadata": {},
   "source": [
    "### We can observe in the Above Cells that Top Hat Tries to Reveal Bright Areas(on Dark BackGround) of the Image.\n",
    "\n",
    "### -->We can Observe that ,`More the Iterations More the Bright Areas are Revealed in Better Way`."
   ]
  },
  {
   "cell_type": "code",
   "execution_count": 48,
   "id": "0a665b38",
   "metadata": {},
   "outputs": [],
   "source": [
    "TP_C_1_7 = cv2.morphologyEx(car,cv2.MORPH_TOPHAT,R7,iterations=1)\n",
    "TP_C_2_7 = cv2.morphologyEx(car,cv2.MORPH_TOPHAT,R7,iterations=2)\n",
    "TP_C_3_7 = cv2.morphologyEx(car,cv2.MORPH_TOPHAT,R7,iterations=3)"
   ]
  },
  {
   "cell_type": "markdown",
   "id": "a848b650",
   "metadata": {},
   "source": [
    "### In the Above Cells we Performed Level(Iterations) 1,2,3 Top Hat Operation using (7,7) Rectangular Structuring Element on the Car Gray Scale Image."
   ]
  },
  {
   "cell_type": "code",
   "execution_count": 51,
   "id": "048add49",
   "metadata": {},
   "outputs": [],
   "source": [
    "cv2.imshow(\"Original Image\",car)\n",
    "cv2.imshow(\"TopHat 1\",TP_C_1_7)\n",
    "cv2.imshow(\"TopHat 2\",TP_C_2_7)\n",
    "cv2.imshow(\"TopHat 3\",TP_C_3_7)\n",
    "cv2.waitKey(0)\n",
    "cv2.destroyAllWindows()"
   ]
  },
  {
   "cell_type": "markdown",
   "id": "694b0e09",
   "metadata": {},
   "source": [
    "### In the Above Cells we can Observe that \n",
    "\n",
    "### -->`On Increasing the Size of the STRUCTURING Element more Bright Areas are Revealed`"
   ]
  },
  {
   "cell_type": "code",
   "execution_count": 7,
   "id": "bfb5f759",
   "metadata": {},
   "outputs": [],
   "source": [
    "R25 = cv2.getStructuringElement(cv2.MORPH_RECT,(25,25))"
   ]
  },
  {
   "cell_type": "code",
   "execution_count": 53,
   "id": "70c5ff5f",
   "metadata": {},
   "outputs": [],
   "source": [
    "TP_C_1_25 = cv2.morphologyEx(car,cv2.MORPH_TOPHAT,R25,iterations=1)\n",
    "TP_C_2_25 = cv2.morphologyEx(car,cv2.MORPH_TOPHAT,R25,iterations=2)\n",
    "TP_C_3_25 = cv2.morphologyEx(car,cv2.MORPH_TOPHAT,R25,iterations=3)"
   ]
  },
  {
   "cell_type": "code",
   "execution_count": 54,
   "id": "1c4a5730",
   "metadata": {},
   "outputs": [],
   "source": [
    "cv2.imshow(\"Normal Car Image\",car)\n",
    "cv2.imshow(\"Top Hat 1 25\",TP_C_1_25)\n",
    "cv2.imshow(\"Top Hat 2 25\",TP_C_2_25)\n",
    "cv2.imshow(\"Top Hat 3 25\",TP_C_3_25)\n",
    "cv2.waitKey(0)\n",
    "cv2.destroyAllWindows()"
   ]
  },
  {
   "cell_type": "markdown",
   "id": "8d4530a3",
   "metadata": {},
   "source": [
    "### We used a very Big Sized STRUCTURING Element for Performing Top Hat Operation\n",
    "\n",
    "### -->`We can Observe that More Brighter Area were Revealed ,But the Image Started to Look Normal`."
   ]
  },
  {
   "cell_type": "code",
   "execution_count": 59,
   "id": "9a1d48b9",
   "metadata": {},
   "outputs": [],
   "source": [
    "TP_O_1 = cv2.morphologyEx(OrgImg,cv2.MORPH_TOPHAT,None,iterations=1)\n",
    "TP_O_2 = cv2.morphologyEx(OrgImg,cv2.MORPH_TOPHAT,None,iterations=2)\n",
    "TP_O_3 = cv2.morphologyEx(OrgImg,cv2.MORPH_TOPHAT,None,iterations=3)\n",
    "TP_O_1_25 = cv2.morphologyEx(OrgImg,cv2.MORPH_TOPHAT,R25,iterations=1)"
   ]
  },
  {
   "cell_type": "markdown",
   "id": "66b56d39",
   "metadata": {},
   "source": [
    "### In the Above Cell we Performed Level(Iterations) 1,2,3 Top Hat Operations using (3,3) Rectangular STRUCTURING Element on the Original Logo Image."
   ]
  },
  {
   "cell_type": "code",
   "execution_count": 60,
   "id": "e06812d2",
   "metadata": {},
   "outputs": [],
   "source": [
    "cv2.imshow(\"Original Logo Image\",OrgImg)\n",
    "cv2.imshow(\"Top Hat 1\",TP_O_1)\n",
    "cv2.imshow(\"Top Hat 2\",TP_O_2)\n",
    "cv2.imshow(\"Top Hat 3\",TP_O_3)\n",
    "cv2.imshow(\"Top Hat 1 25\",TP_O_1_25)\n",
    "cv2.waitKey(0)\n",
    "cv2.destroyAllWindows()"
   ]
  },
  {
   "cell_type": "markdown",
   "id": "d3267e98",
   "metadata": {},
   "source": [
    "### In the Above Cell we can Observe that \n",
    "\n",
    "### Top Hat is a Bit Unpredictable when used on a Binary Image as Above.\n",
    "\n",
    "### When we Used Big Sized STRUCTURING Element it returned the Same Image ,Hence its Better to use on a Normal GrayScale Image."
   ]
  },
  {
   "cell_type": "code",
   "execution_count": 13,
   "id": "bc68a59e",
   "metadata": {},
   "outputs": [],
   "source": [
    "dog = cv2.imread(r\"E:\\PyImage_ComputerVision\\OpenCVBasic\\WorkingData\\InputData\\dog.png\")\n",
    "dog = cv2.cvtColor(dog,cv2.COLOR_BGR2GRAY)"
   ]
  },
  {
   "cell_type": "code",
   "execution_count": 21,
   "id": "c1783eae",
   "metadata": {},
   "outputs": [],
   "source": [
    "TP_D_1 = cv2.morphologyEx(dog,cv2.MORPH_TOPHAT,None,iterations=1)\n",
    "TP_D_2 = cv2.morphologyEx(dog,cv2.MORPH_TOPHAT,None,iterations=2)\n",
    "TP_D_3 = cv2.morphologyEx(dog,cv2.MORPH_TOPHAT,None,iterations=3)"
   ]
  },
  {
   "cell_type": "markdown",
   "id": "c385da16",
   "metadata": {},
   "source": [
    "### In the Above Cells we Performed Level(Iterations) 1,2,3 Top Hat Operation Using (3,3) Rectangular STRUCTURING Element on the Dog Gray Scale Image."
   ]
  },
  {
   "cell_type": "code",
   "execution_count": 22,
   "id": "52e1eadc",
   "metadata": {},
   "outputs": [],
   "source": [
    "TP_D_1_7 = cv2.morphologyEx(dog,cv2.MORPH_TOPHAT,R7,iterations=1)\n",
    "TP_D_2_7 = cv2.morphologyEx(dog,cv2.MORPH_TOPHAT,R7,iterations=2)\n",
    "TP_D_3_7 = cv2.morphologyEx(dog,cv2.MORPH_TOPHAT,R7,iterations=3)"
   ]
  },
  {
   "cell_type": "markdown",
   "id": "8f8d8bc8",
   "metadata": {},
   "source": [
    "### In the Above Cells we Performed Level(Iterations) 1,2,3 Top Hat Operation Using (7,7) Rectangular STRUCTURING Element on the Dog Gray Scale Image."
   ]
  },
  {
   "cell_type": "code",
   "execution_count": 61,
   "id": "a2ff6f6f",
   "metadata": {},
   "outputs": [],
   "source": [
    "cv2.imshow(\"Original Image\",OrgImg)\n",
    "cv2.imshow(\"Top Hat 1\",TP_D_1)\n",
    "cv2.imshow(\"Top Hat 2\",TP_D_2)\n",
    "cv2.imshow(\"Top Hat 3\",TP_D_3)\n",
    "cv2.imshow(\"Top Hat 1 7\",TP_D_1_7)\n",
    "cv2.imshow(\"Top Hat 2 7\",TP_D_2_7)\n",
    "cv2.imshow(\"Top Hat 3 7\",TP_D_3_7)\n",
    "cv2.waitKey(0)\n",
    "cv2.destroyAllWindows()"
   ]
  },
  {
   "cell_type": "markdown",
   "id": "c6302ecc",
   "metadata": {},
   "source": [
    "### In The Above Cell we can Observe that Slowly On Increase in the Iterations and the Size of STRUCTURING Element ,More Bright Areas were Revealed."
   ]
  },
  {
   "cell_type": "code",
   "execution_count": 62,
   "id": "0204af90",
   "metadata": {},
   "outputs": [],
   "source": [
    "TP_D_1_25 = cv2.morphologyEx(dog,cv2.MORPH_TOPHAT,R25,iterations=1)\n",
    "TP_D_2_25 = cv2.morphologyEx(dog,cv2.MORPH_TOPHAT,R25,iterations=2)\n",
    "TP_D_3_25 = cv2.morphologyEx(dog,cv2.MORPH_TOPHAT,R25,iterations=3)"
   ]
  },
  {
   "cell_type": "code",
   "execution_count": 63,
   "id": "969c318b",
   "metadata": {},
   "outputs": [],
   "source": [
    "cv2.imshow(\"Original Image\",OrgImg)\n",
    "cv2.imshow(\"Top Hat 1 25\",TP_D_1_25)\n",
    "cv2.imshow(\"Top Hat 2 25\",TP_D_2_25)\n",
    "cv2.imshow(\"Top Hat 3 25\",TP_D_3_25)\n",
    "cv2.waitKey(0)\n",
    "cv2.destroyAllWindows()"
   ]
  },
  {
   "cell_type": "code",
   "execution_count": 64,
   "id": "bf71da44",
   "metadata": {},
   "outputs": [],
   "source": [
    "TP_D_7_25 = cv2.morphologyEx(dog,cv2.MORPH_TOPHAT,R25,iterations=7)"
   ]
  },
  {
   "cell_type": "code",
   "execution_count": 65,
   "id": "bb547bd1",
   "metadata": {},
   "outputs": [],
   "source": [
    "cv2.imshow(\"Top Hat 7 25\",TP_D_7_25)\n",
    "cv2.waitKey(0)\n",
    "cv2.destroyAllWindows()"
   ]
  },
  {
   "cell_type": "markdown",
   "id": "af1c23e6",
   "metadata": {},
   "source": [
    "### In the Above Cells we can Observe that\n",
    "\n",
    "### `Bigger STRUCTURING Element,Reveled More Bright Areas but Also Restored The Original Gray Scale Image`'\n",
    "\n",
    "## **Note:-Medium Size STRUCTURING Element and Low Number of Iterations yeild the Best Results"
   ]
  },
  {
   "cell_type": "code",
   "execution_count": 39,
   "id": "4fd8ca47",
   "metadata": {},
   "outputs": [],
   "source": [
    "coins1 = cv2.imread(r\"E:\\PyImage_ComputerVision\\OpenCVBasic\\WorkingData\\InputData\\coins1.png\")\n",
    "coins1 = cv2.cvtColor(coins1,cv2.COLOR_BGR2GRAY)"
   ]
  },
  {
   "cell_type": "code",
   "execution_count": 69,
   "id": "4cd35249",
   "metadata": {},
   "outputs": [],
   "source": [
    "cv2.imshow(\"Coins 1\",coins1)\n",
    "cv2.waitKey(0)\n",
    "cv2.destroyAllWindows()"
   ]
  },
  {
   "cell_type": "markdown",
   "id": "a907c1a9",
   "metadata": {},
   "source": [
    "### Read an Coins1 Gray Scale Image which has White BackGround and Black BackGround"
   ]
  },
  {
   "cell_type": "code",
   "execution_count": 71,
   "id": "0f8f02d8",
   "metadata": {},
   "outputs": [],
   "source": [
    "TP_C_3_5 = cv2.morphologyEx(coins1,cv2.MORPH_TOPHAT,R5,iterations=3)\n",
    "TP_C_3_7 = cv2.morphologyEx(coins1,cv2.MORPH_TOPHAT,R7,iterations=3)\n",
    "TP_C_3_25 = cv2.morphologyEx(coins1,cv2.MORPH_TOPHAT,R25,iterations=3)"
   ]
  },
  {
   "cell_type": "markdown",
   "id": "b96998bb",
   "metadata": {},
   "source": [
    "### In the Above Cell we Performed Level 3 Top Hat Using (3,3) , (7,7) , (25,25) Rectangular STRUCTURING Element on the Coins Image. "
   ]
  },
  {
   "cell_type": "code",
   "execution_count": 72,
   "id": "05ca0c07",
   "metadata": {},
   "outputs": [],
   "source": [
    "cv2.imshow(\"Coins1\",coins1)\n",
    "cv2.imshow(\"Top Hat 3 5\",TP_C_3_5)\n",
    "cv2.imshow(\"Top Hat 3 7\",TP_C_3_7)\n",
    "cv2.imshow(\"Top Hat 3 25\",TP_C_3_25)\n",
    "cv2.waitKey(0)\n",
    "cv2.destroyAllWindows()"
   ]
  },
  {
   "cell_type": "markdown",
   "id": "9282e50b",
   "metadata": {},
   "source": [
    "### As we Know Coins1 Image has White BackGround Hence On Applying Top Hat Slowly The White BackGround Area was Visible."
   ]
  },
  {
   "cell_type": "markdown",
   "id": "aaab4dbb",
   "metadata": {},
   "source": [
    "## Main Practical Use of Top Hat:-\n",
    "\n",
    "## `-->If we want to reveal Bright Area or Region With Dark BarkGround Behind Them.`"
   ]
  },
  {
   "cell_type": "markdown",
   "id": "2d12f802",
   "metadata": {},
   "source": [
    "###  -------------------------------------------------------------------------------------------------------------------------------------------------------------"
   ]
  },
  {
   "cell_type": "markdown",
   "id": "aa7b0282",
   "metadata": {},
   "source": [
    "# Black Hat\n",
    "\n",
    "### Its the Difference Between the Original(Input) Image and Closing Operation of the Image.\n",
    "\n",
    "### Its used to Reveal Dark Regions of an Image present on Bright Region.\n",
    "\n",
    "## **Note:-It produces Better Results on the GrayScale Images.It produces Un-Predictable Results on the Binary Images."
   ]
  },
  {
   "cell_type": "code",
   "execution_count": 5,
   "id": "ed961c61",
   "metadata": {},
   "outputs": [],
   "source": [
    "BH_C_1 = cv2.morphologyEx(car,cv2.MORPH_BLACKHAT,None,iterations=1)\n",
    "BH_C_2 = cv2.morphologyEx(car,cv2.MORPH_BLACKHAT,None,iterations=2)\n",
    "BH_C_3 = cv2.morphologyEx(car,cv2.MORPH_BLACKHAT,None,iterations=3)"
   ]
  },
  {
   "cell_type": "markdown",
   "id": "2635d317",
   "metadata": {},
   "source": [
    "### In the Above Cell we Performed Level(Iterations) 1,2,3 Black Hat Operation using (3,3) Rectangular STRUCTURING Element on the Car GrayScale Image."
   ]
  },
  {
   "cell_type": "code",
   "execution_count": 6,
   "id": "ba2298e2",
   "metadata": {},
   "outputs": [],
   "source": [
    "cv2.imshow(\"Original Car Image\",car)\n",
    "cv2.imshow(\"Black Hat 1\",BH_C_1)\n",
    "cv2.imshow(\"Black Hat 2\",BH_C_2)\n",
    "cv2.imshow(\"Black Hat 3\",BH_C_3)\n",
    "cv2.waitKey(0)\n",
    "cv2.destroyAllWindows()"
   ]
  },
  {
   "cell_type": "markdown",
   "id": "ea1f90fa",
   "metadata": {},
   "source": [
    "### We can observe in the Above Cells that Black Hat Tries to Reveal Dark Areas(On Bright BackGround) of the Image.\n",
    "\n",
    "### -->We can Observe that ,`More the Iterations More the Dark Areas are Revealed in Better Way`."
   ]
  },
  {
   "cell_type": "code",
   "execution_count": 8,
   "id": "5b5109d2",
   "metadata": {},
   "outputs": [],
   "source": [
    "BH_C_1_7 = cv2.morphologyEx(car,cv2.MORPH_BLACKHAT,R7,iterations=1)\n",
    "BH_C_2_7 = cv2.morphologyEx(car,cv2.MORPH_BLACKHAT,R7,iterations=2)\n",
    "BH_C_3_7 = cv2.morphologyEx(car,cv2.MORPH_BLACKHAT,R7,iterations=3)"
   ]
  },
  {
   "cell_type": "markdown",
   "id": "3afc66c7",
   "metadata": {},
   "source": [
    "### In the Above Cell we Performed Level(Iterations) 1,2,3 Black Hat Operation Using (7,7) Rectangular STRUCTURING Element on the Car Gray Scale Image."
   ]
  },
  {
   "cell_type": "code",
   "execution_count": 10,
   "id": "37fee808",
   "metadata": {},
   "outputs": [],
   "source": [
    "cv2.imshow(\"Original Car Image\",car)\n",
    "cv2.imshow(\"Black Hat 1 7\",BH_C_1_7)\n",
    "cv2.imshow(\"Black Hat 2 7\",BH_C_2_7)\n",
    "cv2.imshow(\"Black Hat 3 7\",BH_C_3_7)\n",
    "cv2.waitKey(0)\n",
    "cv2.destroyAllWindows()"
   ]
  },
  {
   "cell_type": "markdown",
   "id": "d507d056",
   "metadata": {},
   "source": [
    "### In the Above Cells we can Observe that \n",
    "\n",
    "### -->`On Increasing the Size of the STRUCTURING Element more Dark Areas are Revealed`"
   ]
  },
  {
   "cell_type": "code",
   "execution_count": 15,
   "id": "3bc8c4dc",
   "metadata": {},
   "outputs": [],
   "source": [
    "BH_C_1_25 = cv2.morphologyEx(car,cv2.MORPH_BLACKHAT,R25,iterations=1)\n",
    "BH_C_2_25 = cv2.morphologyEx(car,cv2.MORPH_BLACKHAT,R25,iterations=2)\n",
    "BH_C_3_25 = cv2.morphologyEx(car,cv2.MORPH_BLACKHAT,R25,iterations=3)\n",
    "BH_C_7_25 = cv2.morphologyEx(car,cv2.MORPH_BLACKHAT,R25,iterations=7)"
   ]
  },
  {
   "cell_type": "markdown",
   "id": "6b843ddb",
   "metadata": {},
   "source": [
    "### In the Above Cell we Performed Level (Iterations) 1,2,3 Black Hat Operation Using (25,25) Rectangular STRUCTURING Element on the Car GrayScale Image."
   ]
  },
  {
   "cell_type": "code",
   "execution_count": 16,
   "id": "5e5e78b2",
   "metadata": {},
   "outputs": [],
   "source": [
    "cv2.imshow(\"Original Car Image\",car)\n",
    "cv2.imshow(\"Black Hat 1 25\",BH_C_1_25)\n",
    "cv2.imshow(\"Black Hat 2 25\",BH_C_2_25)\n",
    "cv2.imshow(\"Black Hat 3 25\",BH_C_3_25)\n",
    "cv2.imshow(\"Black Hat 7 25\",BH_C_7_25)\n",
    "cv2.waitKey(0)\n",
    "cv2.destroyAllWindows()"
   ]
  },
  {
   "cell_type": "markdown",
   "id": "d5494615",
   "metadata": {},
   "source": [
    "### We used a very Big Sized STRUCTURING Element for Performing Black Hat Operation\n",
    "\n",
    "### -->`We can Observe that More Dark Area were Revealed ,But the Image Started to become more White Washed`."
   ]
  },
  {
   "cell_type": "code",
   "execution_count": 17,
   "id": "73d89387",
   "metadata": {},
   "outputs": [],
   "source": [
    "BH_D_1_3 = cv2.morphologyEx(dog,cv2.MORPH_BLACKHAT,None,iterations=1)\n",
    "BH_D_2_3 = cv2.morphologyEx(dog,cv2.MORPH_BLACKHAT,None,iterations=2)\n",
    "BH_D_3_3 = cv2.morphologyEx(dog,cv2.MORPH_BLACKHAT,None,iterations=3)"
   ]
  },
  {
   "cell_type": "markdown",
   "id": "f41b952a",
   "metadata": {},
   "source": [
    "### In the Above Cells we Performed Level(Iterations) 1,2,3 Using (3,3) Rectangular STRUCTURING Element on the Dog GrayScale Image."
   ]
  },
  {
   "cell_type": "code",
   "execution_count": 19,
   "id": "be80bc23",
   "metadata": {},
   "outputs": [],
   "source": [
    "BH_D_1_7 = cv2.morphologyEx(dog,cv2.MORPH_BLACKHAT,R7,iterations=1)\n",
    "BH_D_2_7 = cv2.morphologyEx(dog,cv2.MORPH_BLACKHAT,R7,iterations=2)\n",
    "BH_D_3_7 = cv2.morphologyEx(dog,cv2.MORPH_BLACKHAT,R7,iterations=3)"
   ]
  },
  {
   "cell_type": "code",
   "execution_count": 20,
   "id": "9b66f505",
   "metadata": {},
   "outputs": [],
   "source": [
    "cv2.imshow(\"Normal Dog Image\",dog)\n",
    "cv2.imshow(\"Black Hat 1 3\",BH_D_1_3)\n",
    "cv2.imshow(\"Black Hat 2 3\",BH_D_2_3)\n",
    "cv2.imshow(\"Black Hat 3 3\",BH_D_3_3)\n",
    "cv2.imshow(\"Black Hat 1 7\",BH_D_1_7)\n",
    "cv2.imshow(\"Black Hat 2 7\",BH_D_2_7)\n",
    "cv2.imshow(\"Black Hat 3 7\",BH_D_3_7)\n",
    "cv2.waitKey(0)\n",
    "cv2.destroyAllWindows()"
   ]
  },
  {
   "cell_type": "code",
   "execution_count": null,
   "id": "0becaa8e",
   "metadata": {},
   "outputs": [],
   "source": []
  },
  {
   "cell_type": "code",
   "execution_count": null,
   "id": "0a261e74",
   "metadata": {},
   "outputs": [],
   "source": []
  },
  {
   "cell_type": "code",
   "execution_count": null,
   "id": "9f814c1f",
   "metadata": {},
   "outputs": [],
   "source": []
  },
  {
   "cell_type": "code",
   "execution_count": 40,
   "id": "0d5c4118",
   "metadata": {},
   "outputs": [],
   "source": [
    "MR = cv2.getStructuringElement(cv2.MORPH_RECT,(3,3))\n",
    "MC = cv2.getStructuringElement(cv2.MORPH_CROSS,(3,3))\n",
    "ME = cv2.getStructuringElement(cv2.MORPH_ELLIPSE,(3,3))"
   ]
  },
  {
   "cell_type": "code",
   "execution_count": 41,
   "id": "9121542b",
   "metadata": {},
   "outputs": [
    {
     "data": {
      "text/plain": [
       "array([[1, 1, 1],\n",
       "       [1, 1, 1],\n",
       "       [1, 1, 1]], dtype=uint8)"
      ]
     },
     "execution_count": 41,
     "metadata": {},
     "output_type": "execute_result"
    }
   ],
   "source": [
    "MR"
   ]
  },
  {
   "cell_type": "code",
   "execution_count": 42,
   "id": "22c298e2",
   "metadata": {},
   "outputs": [
    {
     "data": {
      "text/plain": [
       "array([[0, 1, 0],\n",
       "       [1, 1, 1],\n",
       "       [0, 1, 0]], dtype=uint8)"
      ]
     },
     "execution_count": 42,
     "metadata": {},
     "output_type": "execute_result"
    }
   ],
   "source": [
    "MC"
   ]
  },
  {
   "cell_type": "code",
   "execution_count": 43,
   "id": "da7f8e18",
   "metadata": {},
   "outputs": [
    {
     "data": {
      "text/plain": [
       "array([[0, 1, 0],\n",
       "       [1, 1, 1],\n",
       "       [0, 1, 0]], dtype=uint8)"
      ]
     },
     "execution_count": 43,
     "metadata": {},
     "output_type": "execute_result"
    }
   ],
   "source": [
    "ME"
   ]
  },
  {
   "cell_type": "code",
   "execution_count": 44,
   "id": "f9250fd2",
   "metadata": {},
   "outputs": [],
   "source": [
    "outR1 =cv2.erode(img1,MR,iterations=1)\n",
    "outR2 =cv2.erode(img1,MR,iterations=2)\n",
    "outR3 =cv2.erode(img1,MR,iterations=3)\n",
    "\n",
    "outC1 =cv2.erode(img1,MC,iterations=1)\n",
    "outC2 =cv2.erode(img1,MC,iterations=2)\n",
    "outC3 =cv2.erode(img1,MC,iterations=3)\n",
    "\n",
    "outE1 =cv2.erode(img1,ME,iterations=1)\n",
    "outE2 =cv2.erode(img1,ME,iterations=2)\n",
    "outE3 =cv2.erode(img1,ME,iterations=3)"
   ]
  },
  {
   "cell_type": "code",
   "execution_count": 45,
   "id": "106cc4d3",
   "metadata": {},
   "outputs": [],
   "source": [
    "cv2.imshow(\"Normal Image\",img1)\n",
    "cv2.imshow(\"OutR1\",outR1)\n",
    "cv2.imshow(\"OutE1\",outE1)\n",
    "cv2.imshow(\"OutC1\",outC1)\n",
    "cv2.waitKey(0)\n",
    "cv2.destroyAllWindows()"
   ]
  },
  {
   "cell_type": "code",
   "execution_count": 46,
   "id": "a5930a11",
   "metadata": {},
   "outputs": [],
   "source": [
    "cv2.imshow(\"Normal Image\",img1)\n",
    "cv2.imshow(\"OutR2\",outR2)\n",
    "cv2.imshow(\"OutE2\",outE2)\n",
    "cv2.imshow(\"OutC2\",outC2)\n",
    "cv2.waitKey(0)\n",
    "cv2.destroyAllWindows()"
   ]
  },
  {
   "cell_type": "code",
   "execution_count": 47,
   "id": "5e61e6fe",
   "metadata": {},
   "outputs": [],
   "source": [
    "cv2.imshow(\"Normal Image\",img1)\n",
    "cv2.imshow(\"OutR3\",outR3)\n",
    "cv2.imshow(\"OutE3\",outE3)\n",
    "cv2.imshow(\"OutC3\",outC3)\n",
    "cv2.waitKey(0)\n",
    "cv2.destroyAllWindows()"
   ]
  },
  {
   "cell_type": "code",
   "execution_count": 48,
   "id": "b81e5b6c",
   "metadata": {},
   "outputs": [],
   "source": [
    "outR4 =cv2.erode(img1,MR,iterations=4)\n",
    "outR5 =cv2.erode(img1,MR,iterations=5)\n",
    "\n",
    "outC4 =cv2.erode(img1,MC,iterations=4)\n",
    "outC5 =cv2.erode(img1,MC,iterations=5)\n",
    "\n",
    "outE4 =cv2.erode(img1,ME,iterations=4)\n",
    "outE5 =cv2.erode(img1,ME,iterations=5)"
   ]
  },
  {
   "cell_type": "code",
   "execution_count": 50,
   "id": "06e4cd59",
   "metadata": {},
   "outputs": [],
   "source": [
    "cv2.imshow(\"Normal Image\",img1)\n",
    "cv2.imshow(\"OutR4\",outR4)\n",
    "cv2.imshow(\"OutE4\",outE4)\n",
    "cv2.imshow(\"OutC4\",outC4)\n",
    "cv2.waitKey(0)\n",
    "cv2.destroyAllWindows()"
   ]
  },
  {
   "cell_type": "code",
   "execution_count": 51,
   "id": "b0a2a5df",
   "metadata": {},
   "outputs": [],
   "source": [
    "cv2.imshow(\"Normal Image\",img1)\n",
    "cv2.imshow(\"OutR5\",outR5)\n",
    "cv2.imshow(\"OutE5\",outE5)\n",
    "cv2.imshow(\"OutC5\",outC5)\n",
    "cv2.waitKey(0)\n",
    "cv2.destroyAllWindows()"
   ]
  },
  {
   "cell_type": "code",
   "execution_count": null,
   "id": "3cac24d8",
   "metadata": {},
   "outputs": [],
   "source": []
  },
  {
   "cell_type": "code",
   "execution_count": 53,
   "id": "cc86d7b8",
   "metadata": {},
   "outputs": [],
   "source": [
    "car = cv2.imread(r\"E:\\PyImage_ComputerVision\\OpenCVBasic\\WorkingData\\InputData\\car.png\")"
   ]
  },
  {
   "cell_type": "code",
   "execution_count": 54,
   "id": "363dfcb5",
   "metadata": {},
   "outputs": [],
   "source": [
    "cv2.imshow(\"Image\",car)\n",
    "cv2.waitKey(0)\n",
    "cv2.destroyAllWindows()"
   ]
  },
  {
   "cell_type": "code",
   "execution_count": 57,
   "id": "61a0bd53",
   "metadata": {},
   "outputs": [],
   "source": [
    "car1R = cv2.erode(car,MR,iterations=1)\n",
    "car2R = cv2.erode(car,MR,iterations=2)\n",
    "car3R = cv2.erode(car,MR,iterations=3)\n",
    "\n",
    "car1E = cv2.erode(car,ME,iterations=1)\n",
    "car2E = cv2.erode(car,ME,iterations=2)\n",
    "car3E = cv2.erode(car,ME,iterations=3)\n",
    "\n",
    "car1C = cv2.erode(car,MC,iterations=1)\n",
    "car2C = cv2.erode(car,MC,iterations=2)\n",
    "car3C = cv2.erode(car,MC,iterations=2)"
   ]
  },
  {
   "cell_type": "code",
   "execution_count": 58,
   "id": "ab18e236",
   "metadata": {},
   "outputs": [],
   "source": [
    "cv2.imshow(\"Normal Image\",car)\n",
    "cv2.imshow(\"Car1R\",car1R)\n",
    "cv2.imshow(\"Car1E\",car1E)\n",
    "cv2.imshow(\"Car1C\",car1C)\n",
    "cv2.waitKey(0)\n",
    "cv2.destroyAllWindows()"
   ]
  },
  {
   "cell_type": "code",
   "execution_count": 59,
   "id": "010f0612",
   "metadata": {},
   "outputs": [],
   "source": [
    "cv2.imshow(\"Normal Image\",car)\n",
    "cv2.imshow(\"Car2R\",car2R)\n",
    "cv2.imshow(\"Car2E\",car2E)\n",
    "cv2.imshow(\"Car2C\",car2C)\n",
    "cv2.waitKey(0)\n",
    "cv2.destroyAllWindows()"
   ]
  },
  {
   "cell_type": "code",
   "execution_count": null,
   "id": "dc0e49c6",
   "metadata": {},
   "outputs": [],
   "source": []
  }
 ],
 "metadata": {
  "kernelspec": {
   "display_name": "Python 3 (ipykernel)",
   "language": "python",
   "name": "python3"
  },
  "language_info": {
   "codemirror_mode": {
    "name": "ipython",
    "version": 3
   },
   "file_extension": ".py",
   "mimetype": "text/x-python",
   "name": "python",
   "nbconvert_exporter": "python",
   "pygments_lexer": "ipython3",
   "version": "3.11.5"
  }
 },
 "nbformat": 4,
 "nbformat_minor": 5
}
