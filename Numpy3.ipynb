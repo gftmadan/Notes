{
 "cells": [
  {
   "cell_type": "code",
   "execution_count": 1,
   "id": "c17417fe",
   "metadata": {},
   "outputs": [],
   "source": [
    "import numpy as np"
   ]
  },
  {
   "cell_type": "code",
   "execution_count": 2,
   "id": "5ec64d55",
   "metadata": {},
   "outputs": [
    {
     "data": {
      "text/plain": [
       "array([7, 5, 6, 2, 9, 3, 5, 7, 9, 2])"
      ]
     },
     "execution_count": 2,
     "metadata": {},
     "output_type": "execute_result"
    }
   ],
   "source": [
    "np.random.seed(1)\n",
    "a = np.random.randint(2,10,size=(10,))\n",
    "a"
   ]
  },
  {
   "cell_type": "code",
   "execution_count": 3,
   "id": "6d7573c4",
   "metadata": {},
   "outputs": [
    {
     "data": {
      "text/plain": [
       "array([[ 11,   2,   3,  44,   5,   6,  77],\n",
       "       [ 21,  23,  43,  54,  66,   7,   0],\n",
       "       [  1,  44,  82,  36,  77,   9, 100],\n",
       "       [111, 444,  52,  16, 779,  91,  10]])"
      ]
     },
     "execution_count": 3,
     "metadata": {},
     "output_type": "execute_result"
    }
   ],
   "source": [
    "b = np.array([[11,2,3,44,5,6,77],[21,23,43,54,66,7,0],[1,44,82,36,77,9,100],[111,444,52,16,779,91,10]])\n",
    "b"
   ]
  },
  {
   "cell_type": "code",
   "execution_count": 4,
   "id": "143e18a7",
   "metadata": {},
   "outputs": [
    {
     "data": {
      "text/plain": [
       "array([[[0.54340494, 0.27836939, 0.42451759, 0.84477613, 0.00471886],\n",
       "        [0.12156912, 0.67074908, 0.82585276, 0.13670659, 0.57509333],\n",
       "        [0.89132195, 0.20920212, 0.18532822, 0.10837689, 0.21969749],\n",
       "        [0.97862378, 0.81168315, 0.17194101, 0.81622475, 0.27407375]],\n",
       "\n",
       "       [[0.43170418, 0.94002982, 0.81764938, 0.33611195, 0.17541045],\n",
       "        [0.37283205, 0.00568851, 0.25242635, 0.79566251, 0.01525497],\n",
       "        [0.59884338, 0.60380454, 0.10514769, 0.38194344, 0.03647606],\n",
       "        [0.89041156, 0.98092086, 0.05994199, 0.89054594, 0.5769015 ]]])"
      ]
     },
     "execution_count": 4,
     "metadata": {},
     "output_type": "execute_result"
    }
   ],
   "source": [
    "np.random.seed(100)\n",
    "c = np.random.rand(2,4,5)\n",
    "c"
   ]
  },
  {
   "cell_type": "markdown",
   "id": "490a8a08",
   "metadata": {},
   "source": [
    "# Demonstrating important ndarray's Attributes"
   ]
  },
  {
   "cell_type": "markdown",
   "id": "9003eab4",
   "metadata": {},
   "source": [
    "## 1)`.ndim` Attribute:-"
   ]
  },
  {
   "cell_type": "code",
   "execution_count": 5,
   "id": "f7ec8e1b",
   "metadata": {},
   "outputs": [
    {
     "data": {
      "text/plain": [
       "1"
      ]
     },
     "execution_count": 5,
     "metadata": {},
     "output_type": "execute_result"
    }
   ],
   "source": [
    "a.ndim"
   ]
  },
  {
   "cell_type": "code",
   "execution_count": 6,
   "id": "b7421b7c",
   "metadata": {},
   "outputs": [
    {
     "data": {
      "text/plain": [
       "2"
      ]
     },
     "execution_count": 6,
     "metadata": {},
     "output_type": "execute_result"
    }
   ],
   "source": [
    "b.ndim"
   ]
  },
  {
   "cell_type": "code",
   "execution_count": 7,
   "id": "5b6f29f8",
   "metadata": {},
   "outputs": [
    {
     "data": {
      "text/plain": [
       "3"
      ]
     },
     "execution_count": 7,
     "metadata": {},
     "output_type": "execute_result"
    }
   ],
   "source": [
    "c.ndim"
   ]
  },
  {
   "cell_type": "markdown",
   "id": "33536f0f",
   "metadata": {},
   "source": [
    "## 2)`.shape` Attribute:-"
   ]
  },
  {
   "cell_type": "code",
   "execution_count": 8,
   "id": "e142fa2e",
   "metadata": {},
   "outputs": [
    {
     "data": {
      "text/plain": [
       "(10,)"
      ]
     },
     "execution_count": 8,
     "metadata": {},
     "output_type": "execute_result"
    }
   ],
   "source": [
    "a.shape"
   ]
  },
  {
   "cell_type": "code",
   "execution_count": 9,
   "id": "7e810583",
   "metadata": {},
   "outputs": [
    {
     "data": {
      "text/plain": [
       "(4, 7)"
      ]
     },
     "execution_count": 9,
     "metadata": {},
     "output_type": "execute_result"
    }
   ],
   "source": [
    "b.shape"
   ]
  },
  {
   "cell_type": "code",
   "execution_count": 10,
   "id": "07651e46",
   "metadata": {},
   "outputs": [
    {
     "data": {
      "text/plain": [
       "(2, 4, 5)"
      ]
     },
     "execution_count": 10,
     "metadata": {},
     "output_type": "execute_result"
    }
   ],
   "source": [
    "c.shape"
   ]
  },
  {
   "cell_type": "markdown",
   "id": "ac44c18a",
   "metadata": {},
   "source": [
    "## 3)`.size` Attribute:-"
   ]
  },
  {
   "cell_type": "code",
   "execution_count": 11,
   "id": "8088572e",
   "metadata": {},
   "outputs": [
    {
     "data": {
      "text/plain": [
       "10"
      ]
     },
     "execution_count": 11,
     "metadata": {},
     "output_type": "execute_result"
    }
   ],
   "source": [
    "a.size"
   ]
  },
  {
   "cell_type": "code",
   "execution_count": 12,
   "id": "ef75827c",
   "metadata": {},
   "outputs": [
    {
     "data": {
      "text/plain": [
       "28"
      ]
     },
     "execution_count": 12,
     "metadata": {},
     "output_type": "execute_result"
    }
   ],
   "source": [
    "b.size"
   ]
  },
  {
   "cell_type": "code",
   "execution_count": 13,
   "id": "2eb131f4",
   "metadata": {},
   "outputs": [
    {
     "data": {
      "text/plain": [
       "40"
      ]
     },
     "execution_count": 13,
     "metadata": {},
     "output_type": "execute_result"
    }
   ],
   "source": [
    "c.size"
   ]
  },
  {
   "cell_type": "markdown",
   "id": "f25a15bc",
   "metadata": {},
   "source": [
    "## 4)`.itemsize` Attribute:-"
   ]
  },
  {
   "cell_type": "code",
   "execution_count": 14,
   "id": "e1445a00",
   "metadata": {},
   "outputs": [
    {
     "data": {
      "text/plain": [
       "4"
      ]
     },
     "execution_count": 14,
     "metadata": {},
     "output_type": "execute_result"
    }
   ],
   "source": [
    "a.itemsize"
   ]
  },
  {
   "cell_type": "code",
   "execution_count": 15,
   "id": "30beab1e",
   "metadata": {},
   "outputs": [
    {
     "data": {
      "text/plain": [
       "4"
      ]
     },
     "execution_count": 15,
     "metadata": {},
     "output_type": "execute_result"
    }
   ],
   "source": [
    "b.itemsize"
   ]
  },
  {
   "cell_type": "code",
   "execution_count": 16,
   "id": "4e38d8ec",
   "metadata": {},
   "outputs": [
    {
     "data": {
      "text/plain": [
       "8"
      ]
     },
     "execution_count": 16,
     "metadata": {},
     "output_type": "execute_result"
    }
   ],
   "source": [
    "c.itemsize"
   ]
  },
  {
   "cell_type": "markdown",
   "id": "431d0ff7",
   "metadata": {},
   "source": [
    "## 5)`.nbytes` Attribute:-"
   ]
  },
  {
   "cell_type": "code",
   "execution_count": 17,
   "id": "08970630",
   "metadata": {},
   "outputs": [
    {
     "data": {
      "text/plain": [
       "40"
      ]
     },
     "execution_count": 17,
     "metadata": {},
     "output_type": "execute_result"
    }
   ],
   "source": [
    "a.nbytes"
   ]
  },
  {
   "cell_type": "code",
   "execution_count": 18,
   "id": "3aa3f597",
   "metadata": {},
   "outputs": [
    {
     "data": {
      "text/plain": [
       "112"
      ]
     },
     "execution_count": 18,
     "metadata": {},
     "output_type": "execute_result"
    }
   ],
   "source": [
    "b.nbytes"
   ]
  },
  {
   "cell_type": "code",
   "execution_count": 19,
   "id": "640c26a4",
   "metadata": {},
   "outputs": [
    {
     "data": {
      "text/plain": [
       "320"
      ]
     },
     "execution_count": 19,
     "metadata": {},
     "output_type": "execute_result"
    }
   ],
   "source": [
    "c.nbytes"
   ]
  },
  {
   "cell_type": "markdown",
   "id": "5e7aac1f",
   "metadata": {},
   "source": [
    "## 6)`.dtype` Attribute:-"
   ]
  },
  {
   "cell_type": "code",
   "execution_count": 20,
   "id": "b9c0609b",
   "metadata": {},
   "outputs": [
    {
     "data": {
      "text/plain": [
       "dtype('int32')"
      ]
     },
     "execution_count": 20,
     "metadata": {},
     "output_type": "execute_result"
    }
   ],
   "source": [
    "a.dtype"
   ]
  },
  {
   "cell_type": "code",
   "execution_count": 21,
   "id": "4d46e006",
   "metadata": {},
   "outputs": [
    {
     "data": {
      "text/plain": [
       "dtype('int32')"
      ]
     },
     "execution_count": 21,
     "metadata": {},
     "output_type": "execute_result"
    }
   ],
   "source": [
    "b.dtype"
   ]
  },
  {
   "cell_type": "code",
   "execution_count": 22,
   "id": "1b4f8dc1",
   "metadata": {},
   "outputs": [
    {
     "data": {
      "text/plain": [
       "dtype('float64')"
      ]
     },
     "execution_count": 22,
     "metadata": {},
     "output_type": "execute_result"
    }
   ],
   "source": [
    "c.dtype"
   ]
  },
  {
   "cell_type": "markdown",
   "id": "46b56b96",
   "metadata": {},
   "source": [
    "## 7)`.strides` Attribute:-"
   ]
  },
  {
   "cell_type": "code",
   "execution_count": 23,
   "id": "691d3e67",
   "metadata": {},
   "outputs": [
    {
     "data": {
      "text/plain": [
       "(4,)"
      ]
     },
     "execution_count": 23,
     "metadata": {},
     "output_type": "execute_result"
    }
   ],
   "source": [
    "a.strides"
   ]
  },
  {
   "cell_type": "code",
   "execution_count": 24,
   "id": "d12df5de",
   "metadata": {},
   "outputs": [
    {
     "data": {
      "text/plain": [
       "(28, 4)"
      ]
     },
     "execution_count": 24,
     "metadata": {},
     "output_type": "execute_result"
    }
   ],
   "source": [
    "b.strides"
   ]
  },
  {
   "cell_type": "code",
   "execution_count": 25,
   "id": "676256f4",
   "metadata": {},
   "outputs": [
    {
     "data": {
      "text/plain": [
       "(160, 40, 8)"
      ]
     },
     "execution_count": 25,
     "metadata": {},
     "output_type": "execute_result"
    }
   ],
   "source": [
    "c.strides"
   ]
  },
  {
   "cell_type": "markdown",
   "id": "11fb6614",
   "metadata": {},
   "source": [
    "## 8)`.flat` Attribute:-"
   ]
  },
  {
   "cell_type": "code",
   "execution_count": 26,
   "id": "13c1afdb",
   "metadata": {},
   "outputs": [
    {
     "data": {
      "text/plain": [
       "array([7, 5, 6, 2, 9, 3, 5, 7, 9, 2])"
      ]
     },
     "execution_count": 26,
     "metadata": {},
     "output_type": "execute_result"
    }
   ],
   "source": [
    "a"
   ]
  },
  {
   "cell_type": "code",
   "execution_count": 27,
   "id": "9f2fef8a",
   "metadata": {},
   "outputs": [
    {
     "name": "stdout",
     "output_type": "stream",
     "text": [
      "7\n",
      "5\n",
      "2\n"
     ]
    }
   ],
   "source": [
    "fga = a.flat\n",
    "print(next(fga))\n",
    "print(next(fga))\n",
    "next(fga)\n",
    "print(next(fga))"
   ]
  },
  {
   "cell_type": "code",
   "execution_count": 28,
   "id": "62691834",
   "metadata": {},
   "outputs": [
    {
     "data": {
      "text/plain": [
       "array([[ 11,   2,   3,  44,   5,   6,  77],\n",
       "       [ 21,  23,  43,  54,  66,   7,   0],\n",
       "       [  1,  44,  82,  36,  77,   9, 100],\n",
       "       [111, 444,  52,  16, 779,  91,  10]])"
      ]
     },
     "execution_count": 28,
     "metadata": {},
     "output_type": "execute_result"
    }
   ],
   "source": [
    "b"
   ]
  },
  {
   "cell_type": "code",
   "execution_count": 29,
   "id": "370d365c",
   "metadata": {},
   "outputs": [
    {
     "name": "stdout",
     "output_type": "stream",
     "text": [
      "11\n",
      "2\n",
      "54\n"
     ]
    }
   ],
   "source": [
    "fgb = b.flat\n",
    "print(next(fgb))\n",
    "print(next(fgb))\n",
    "next(fgb)\n",
    "next(fgb)\n",
    "next(fgb)\n",
    "next(fgb)\n",
    "next(fgb)\n",
    "next(fgb)\n",
    "next(fgb)\n",
    "next(fgb)\n",
    "print(next(fgb))"
   ]
  },
  {
   "cell_type": "code",
   "execution_count": 30,
   "id": "2e3cc700",
   "metadata": {},
   "outputs": [
    {
     "data": {
      "text/plain": [
       "array([[[0.54340494, 0.27836939, 0.42451759, 0.84477613, 0.00471886],\n",
       "        [0.12156912, 0.67074908, 0.82585276, 0.13670659, 0.57509333],\n",
       "        [0.89132195, 0.20920212, 0.18532822, 0.10837689, 0.21969749],\n",
       "        [0.97862378, 0.81168315, 0.17194101, 0.81622475, 0.27407375]],\n",
       "\n",
       "       [[0.43170418, 0.94002982, 0.81764938, 0.33611195, 0.17541045],\n",
       "        [0.37283205, 0.00568851, 0.25242635, 0.79566251, 0.01525497],\n",
       "        [0.59884338, 0.60380454, 0.10514769, 0.38194344, 0.03647606],\n",
       "        [0.89041156, 0.98092086, 0.05994199, 0.89054594, 0.5769015 ]]])"
      ]
     },
     "execution_count": 30,
     "metadata": {},
     "output_type": "execute_result"
    }
   ],
   "source": [
    "c"
   ]
  },
  {
   "cell_type": "code",
   "execution_count": 31,
   "id": "878d3d79",
   "metadata": {},
   "outputs": [
    {
     "name": "stdout",
     "output_type": "stream",
     "text": [
      "0.5434049417909654\n",
      "0.27836938509379616\n",
      "0.891321954312264\n"
     ]
    }
   ],
   "source": [
    "fgc = c.flat\n",
    "print(next(fgc))\n",
    "print(next(fgc))\n",
    "next(fgc)\n",
    "next(fgc)\n",
    "next(fgc)\n",
    "next(fgc)\n",
    "next(fgc)\n",
    "next(fgc)\n",
    "next(fgc)\n",
    "next(fgc)\n",
    "print(next(fgc))"
   ]
  },
  {
   "cell_type": "markdown",
   "id": "85287aa9",
   "metadata": {},
   "source": [
    "# Demonstrating important ndarray Methods(Utility)"
   ]
  },
  {
   "cell_type": "markdown",
   "id": "9323c421",
   "metadata": {},
   "source": [
    "## 1)`.reshape()` Method:-"
   ]
  },
  {
   "cell_type": "code",
   "execution_count": 32,
   "id": "ad6956f0",
   "metadata": {},
   "outputs": [
    {
     "data": {
      "text/plain": [
       "array([7, 5, 6, 2, 9, 3, 5, 7, 9, 2])"
      ]
     },
     "execution_count": 32,
     "metadata": {},
     "output_type": "execute_result"
    }
   ],
   "source": [
    "a"
   ]
  },
  {
   "cell_type": "code",
   "execution_count": 33,
   "id": "7ab9c531",
   "metadata": {},
   "outputs": [
    {
     "data": {
      "text/plain": [
       "array([[7, 5, 6, 2, 9],\n",
       "       [3, 5, 7, 9, 2]])"
      ]
     },
     "execution_count": 33,
     "metadata": {},
     "output_type": "execute_result"
    }
   ],
   "source": [
    "a1 = a.reshape(2,5)\n",
    "a1"
   ]
  },
  {
   "cell_type": "code",
   "execution_count": 34,
   "id": "22a50ebf",
   "metadata": {},
   "outputs": [
    {
     "ename": "ValueError",
     "evalue": "cannot reshape array of size 10 into shape (3,4)",
     "output_type": "error",
     "traceback": [
      "\u001b[1;31m---------------------------------------------------------------------------\u001b[0m",
      "\u001b[1;31mValueError\u001b[0m                                Traceback (most recent call last)",
      "Cell \u001b[1;32mIn[34], line 1\u001b[0m\n\u001b[1;32m----> 1\u001b[0m a2 \u001b[38;5;241m=\u001b[39m a\u001b[38;5;241m.\u001b[39mreshape(\u001b[38;5;241m3\u001b[39m,\u001b[38;5;241m4\u001b[39m)\n",
      "\u001b[1;31mValueError\u001b[0m: cannot reshape array of size 10 into shape (3,4)"
     ]
    }
   ],
   "source": [
    "a2 = a.reshape(3,4)"
   ]
  },
  {
   "cell_type": "code",
   "execution_count": 35,
   "id": "31d2c035",
   "metadata": {},
   "outputs": [
    {
     "data": {
      "text/plain": [
       "(array([[ 11,   2,   3,  44,   5,   6,  77],\n",
       "        [ 21,  23,  43,  54,  66,   7,   0],\n",
       "        [  1,  44,  82,  36,  77,   9, 100],\n",
       "        [111, 444,  52,  16, 779,  91,  10]]),\n",
       " (4, 7))"
      ]
     },
     "execution_count": 35,
     "metadata": {},
     "output_type": "execute_result"
    }
   ],
   "source": [
    "b,b.shape"
   ]
  },
  {
   "cell_type": "code",
   "execution_count": 36,
   "id": "42d1dfde",
   "metadata": {},
   "outputs": [
    {
     "data": {
      "text/plain": [
       "array([[[ 11,   2,   3,  44,   5,   6,  77],\n",
       "        [ 21,  23,  43,  54,  66,   7,   0]],\n",
       "\n",
       "       [[  1,  44,  82,  36,  77,   9, 100],\n",
       "        [111, 444,  52,  16, 779,  91,  10]]])"
      ]
     },
     "execution_count": 36,
     "metadata": {},
     "output_type": "execute_result"
    }
   ],
   "source": [
    "b1 = b.reshape(2,2,7)\n",
    "b1"
   ]
  },
  {
   "cell_type": "code",
   "execution_count": 37,
   "id": "439b1ff3",
   "metadata": {},
   "outputs": [
    {
     "data": {
      "text/plain": [
       "array([[ 11,   2,   3,  44,   5,   6,  77,  21,  23,  43,  54,  66,   7,\n",
       "          0],\n",
       "       [  1,  44,  82,  36,  77,   9, 100, 111, 444,  52,  16, 779,  91,\n",
       "         10]])"
      ]
     },
     "execution_count": 37,
     "metadata": {},
     "output_type": "execute_result"
    }
   ],
   "source": [
    "b2 = b.reshape(2,14)\n",
    "b2"
   ]
  },
  {
   "cell_type": "code",
   "execution_count": 38,
   "id": "b9d92ee4",
   "metadata": {},
   "outputs": [
    {
     "ename": "ValueError",
     "evalue": "cannot reshape array of size 28 into shape (3,4,2)",
     "output_type": "error",
     "traceback": [
      "\u001b[1;31m---------------------------------------------------------------------------\u001b[0m",
      "\u001b[1;31mValueError\u001b[0m                                Traceback (most recent call last)",
      "Cell \u001b[1;32mIn[38], line 1\u001b[0m\n\u001b[1;32m----> 1\u001b[0m b3 \u001b[38;5;241m=\u001b[39m b\u001b[38;5;241m.\u001b[39mreshape(\u001b[38;5;241m3\u001b[39m,\u001b[38;5;241m4\u001b[39m,\u001b[38;5;241m2\u001b[39m)\n",
      "\u001b[1;31mValueError\u001b[0m: cannot reshape array of size 28 into shape (3,4,2)"
     ]
    }
   ],
   "source": [
    "b3 = b.reshape(3,4,2)"
   ]
  },
  {
   "cell_type": "markdown",
   "id": "1645049a",
   "metadata": {},
   "source": [
    "## 2)`.transpose()` Method:-"
   ]
  },
  {
   "cell_type": "code",
   "execution_count": 39,
   "id": "77143701",
   "metadata": {},
   "outputs": [
    {
     "data": {
      "text/plain": [
       "array([7, 5, 6, 2, 9, 3, 5, 7, 9, 2])"
      ]
     },
     "execution_count": 39,
     "metadata": {},
     "output_type": "execute_result"
    }
   ],
   "source": [
    "a"
   ]
  },
  {
   "cell_type": "code",
   "execution_count": 40,
   "id": "9ac6881d",
   "metadata": {},
   "outputs": [
    {
     "data": {
      "text/plain": [
       "array([7, 5, 6, 2, 9, 3, 5, 7, 9, 2])"
      ]
     },
     "execution_count": 40,
     "metadata": {},
     "output_type": "execute_result"
    }
   ],
   "source": [
    "at1 = a.transpose()\n",
    "at1"
   ]
  },
  {
   "cell_type": "code",
   "execution_count": 41,
   "id": "bb184576",
   "metadata": {},
   "outputs": [
    {
     "data": {
      "text/plain": [
       "array([[ 11,   2,   3,  44,   5,   6,  77],\n",
       "       [ 21,  23,  43,  54,  66,   7,   0],\n",
       "       [  1,  44,  82,  36,  77,   9, 100],\n",
       "       [111, 444,  52,  16, 779,  91,  10]])"
      ]
     },
     "execution_count": 41,
     "metadata": {},
     "output_type": "execute_result"
    }
   ],
   "source": [
    "b"
   ]
  },
  {
   "cell_type": "code",
   "execution_count": 42,
   "id": "562f83d5",
   "metadata": {},
   "outputs": [
    {
     "data": {
      "text/plain": [
       "array([[ 11,  21,   1, 111],\n",
       "       [  2,  23,  44, 444],\n",
       "       [  3,  43,  82,  52],\n",
       "       [ 44,  54,  36,  16],\n",
       "       [  5,  66,  77, 779],\n",
       "       [  6,   7,   9,  91],\n",
       "       [ 77,   0, 100,  10]])"
      ]
     },
     "execution_count": 42,
     "metadata": {},
     "output_type": "execute_result"
    }
   ],
   "source": [
    "bt1 = b.transpose()\n",
    "bt1"
   ]
  },
  {
   "cell_type": "code",
   "execution_count": 43,
   "id": "27a39371",
   "metadata": {},
   "outputs": [
    {
     "data": {
      "text/plain": [
       "array([[ 11,  21,   1, 111],\n",
       "       [  2,  23,  44, 444],\n",
       "       [  3,  43,  82,  52],\n",
       "       [ 44,  54,  36,  16],\n",
       "       [  5,  66,  77, 779],\n",
       "       [  6,   7,   9,  91],\n",
       "       [ 77,   0, 100,  10]])"
      ]
     },
     "execution_count": 43,
     "metadata": {},
     "output_type": "execute_result"
    }
   ],
   "source": [
    "bt2 = b.transpose((1,0))\n",
    "bt2"
   ]
  },
  {
   "cell_type": "code",
   "execution_count": 44,
   "id": "3e298d17",
   "metadata": {},
   "outputs": [
    {
     "data": {
      "text/plain": [
       "array([[ 11,   2,   3,  44,   5,   6,  77],\n",
       "       [ 21,  23,  43,  54,  66,   7,   0],\n",
       "       [  1,  44,  82,  36,  77,   9, 100],\n",
       "       [111, 444,  52,  16, 779,  91,  10]])"
      ]
     },
     "execution_count": 44,
     "metadata": {},
     "output_type": "execute_result"
    }
   ],
   "source": [
    "bt3 = b.transpose((0,1))\n",
    "bt3"
   ]
  },
  {
   "cell_type": "code",
   "execution_count": 45,
   "id": "f40c502d",
   "metadata": {},
   "outputs": [
    {
     "data": {
      "text/plain": [
       "array([[ 11,  21,   1, 111],\n",
       "       [  2,  23,  44, 444],\n",
       "       [  3,  43,  82,  52],\n",
       "       [ 44,  54,  36,  16],\n",
       "       [  5,  66,  77, 779],\n",
       "       [  6,   7,   9,  91],\n",
       "       [ 77,   0, 100,  10]])"
      ]
     },
     "execution_count": 45,
     "metadata": {},
     "output_type": "execute_result"
    }
   ],
   "source": [
    "bt4 = b.transpose(1,0)\n",
    "bt4"
   ]
  },
  {
   "cell_type": "code",
   "execution_count": 46,
   "id": "bfd66bff",
   "metadata": {},
   "outputs": [
    {
     "ename": "ValueError",
     "evalue": "repeated axis in transpose",
     "output_type": "error",
     "traceback": [
      "\u001b[1;31m---------------------------------------------------------------------------\u001b[0m",
      "\u001b[1;31mValueError\u001b[0m                                Traceback (most recent call last)",
      "Cell \u001b[1;32mIn[46], line 1\u001b[0m\n\u001b[1;32m----> 1\u001b[0m bt5 \u001b[38;5;241m=\u001b[39m b\u001b[38;5;241m.\u001b[39mtranspose(\u001b[38;5;241m0\u001b[39m,\u001b[38;5;241m0\u001b[39m)\n\u001b[0;32m      2\u001b[0m bt5\n",
      "\u001b[1;31mValueError\u001b[0m: repeated axis in transpose"
     ]
    }
   ],
   "source": [
    "bt5 = b.transpose(0,0)\n",
    "bt5"
   ]
  },
  {
   "cell_type": "code",
   "execution_count": 47,
   "id": "8acd1a88",
   "metadata": {},
   "outputs": [
    {
     "ename": "ValueError",
     "evalue": "axes don't match array",
     "output_type": "error",
     "traceback": [
      "\u001b[1;31m---------------------------------------------------------------------------\u001b[0m",
      "\u001b[1;31mValueError\u001b[0m                                Traceback (most recent call last)",
      "Cell \u001b[1;32mIn[47], line 1\u001b[0m\n\u001b[1;32m----> 1\u001b[0m bt6 \u001b[38;5;241m=\u001b[39m b\u001b[38;5;241m.\u001b[39mtranspose(\u001b[38;5;241m0\u001b[39m,\u001b[38;5;241m1\u001b[39m,\u001b[38;5;241m2\u001b[39m)\n\u001b[0;32m      2\u001b[0m bt6\n",
      "\u001b[1;31mValueError\u001b[0m: axes don't match array"
     ]
    }
   ],
   "source": [
    "bt6 = b.transpose(0,1,2)\n",
    "bt6"
   ]
  },
  {
   "cell_type": "code",
   "execution_count": 48,
   "id": "d91053cf",
   "metadata": {},
   "outputs": [
    {
     "data": {
      "text/plain": [
       "array([[[0.54340494, 0.27836939, 0.42451759, 0.84477613, 0.00471886],\n",
       "        [0.12156912, 0.67074908, 0.82585276, 0.13670659, 0.57509333],\n",
       "        [0.89132195, 0.20920212, 0.18532822, 0.10837689, 0.21969749],\n",
       "        [0.97862378, 0.81168315, 0.17194101, 0.81622475, 0.27407375]],\n",
       "\n",
       "       [[0.43170418, 0.94002982, 0.81764938, 0.33611195, 0.17541045],\n",
       "        [0.37283205, 0.00568851, 0.25242635, 0.79566251, 0.01525497],\n",
       "        [0.59884338, 0.60380454, 0.10514769, 0.38194344, 0.03647606],\n",
       "        [0.89041156, 0.98092086, 0.05994199, 0.89054594, 0.5769015 ]]])"
      ]
     },
     "execution_count": 48,
     "metadata": {},
     "output_type": "execute_result"
    }
   ],
   "source": [
    "c"
   ]
  },
  {
   "cell_type": "code",
   "execution_count": 49,
   "id": "d62a0ad8",
   "metadata": {},
   "outputs": [
    {
     "data": {
      "text/plain": [
       "array([[[0.54340494, 0.43170418],\n",
       "        [0.12156912, 0.37283205],\n",
       "        [0.89132195, 0.59884338],\n",
       "        [0.97862378, 0.89041156]],\n",
       "\n",
       "       [[0.27836939, 0.94002982],\n",
       "        [0.67074908, 0.00568851],\n",
       "        [0.20920212, 0.60380454],\n",
       "        [0.81168315, 0.98092086]],\n",
       "\n",
       "       [[0.42451759, 0.81764938],\n",
       "        [0.82585276, 0.25242635],\n",
       "        [0.18532822, 0.10514769],\n",
       "        [0.17194101, 0.05994199]],\n",
       "\n",
       "       [[0.84477613, 0.33611195],\n",
       "        [0.13670659, 0.79566251],\n",
       "        [0.10837689, 0.38194344],\n",
       "        [0.81622475, 0.89054594]],\n",
       "\n",
       "       [[0.00471886, 0.17541045],\n",
       "        [0.57509333, 0.01525497],\n",
       "        [0.21969749, 0.03647606],\n",
       "        [0.27407375, 0.5769015 ]]])"
      ]
     },
     "execution_count": 49,
     "metadata": {},
     "output_type": "execute_result"
    }
   ],
   "source": [
    "ct1 = c.transpose()\n",
    "ct1"
   ]
  },
  {
   "cell_type": "code",
   "execution_count": 50,
   "id": "87792112",
   "metadata": {},
   "outputs": [
    {
     "data": {
      "text/plain": [
       "array([[[0.54340494, 0.27836939, 0.42451759, 0.84477613, 0.00471886],\n",
       "        [0.43170418, 0.94002982, 0.81764938, 0.33611195, 0.17541045]],\n",
       "\n",
       "       [[0.12156912, 0.67074908, 0.82585276, 0.13670659, 0.57509333],\n",
       "        [0.37283205, 0.00568851, 0.25242635, 0.79566251, 0.01525497]],\n",
       "\n",
       "       [[0.89132195, 0.20920212, 0.18532822, 0.10837689, 0.21969749],\n",
       "        [0.59884338, 0.60380454, 0.10514769, 0.38194344, 0.03647606]],\n",
       "\n",
       "       [[0.97862378, 0.81168315, 0.17194101, 0.81622475, 0.27407375],\n",
       "        [0.89041156, 0.98092086, 0.05994199, 0.89054594, 0.5769015 ]]])"
      ]
     },
     "execution_count": 50,
     "metadata": {},
     "output_type": "execute_result"
    }
   ],
   "source": [
    "ct2 = c.transpose((1,0,2))\n",
    "ct2"
   ]
  },
  {
   "cell_type": "code",
   "execution_count": 51,
   "id": "1751c48f",
   "metadata": {},
   "outputs": [
    {
     "data": {
      "text/plain": [
       "array([[[0.54340494, 0.12156912, 0.89132195, 0.97862378],\n",
       "        [0.43170418, 0.37283205, 0.59884338, 0.89041156]],\n",
       "\n",
       "       [[0.27836939, 0.67074908, 0.20920212, 0.81168315],\n",
       "        [0.94002982, 0.00568851, 0.60380454, 0.98092086]],\n",
       "\n",
       "       [[0.42451759, 0.82585276, 0.18532822, 0.17194101],\n",
       "        [0.81764938, 0.25242635, 0.10514769, 0.05994199]],\n",
       "\n",
       "       [[0.84477613, 0.13670659, 0.10837689, 0.81622475],\n",
       "        [0.33611195, 0.79566251, 0.38194344, 0.89054594]],\n",
       "\n",
       "       [[0.00471886, 0.57509333, 0.21969749, 0.27407375],\n",
       "        [0.17541045, 0.01525497, 0.03647606, 0.5769015 ]]])"
      ]
     },
     "execution_count": 51,
     "metadata": {},
     "output_type": "execute_result"
    }
   ],
   "source": [
    "ct3 = c.transpose(2,0,1)\n",
    "ct3"
   ]
  },
  {
   "cell_type": "markdown",
   "id": "1daa1d41",
   "metadata": {},
   "source": [
    "## 3)`.ravel()` Method:-"
   ]
  },
  {
   "cell_type": "code",
   "execution_count": 52,
   "id": "fb4863de",
   "metadata": {},
   "outputs": [
    {
     "data": {
      "text/plain": [
       "array([7, 5, 6, 2, 9, 3, 5, 7, 9, 2])"
      ]
     },
     "execution_count": 52,
     "metadata": {},
     "output_type": "execute_result"
    }
   ],
   "source": [
    "rv1 = a.ravel()\n",
    "rv1"
   ]
  },
  {
   "cell_type": "code",
   "execution_count": 53,
   "id": "9fc033c3",
   "metadata": {},
   "outputs": [
    {
     "data": {
      "text/plain": [
       "array([ 11,   2,   3,  44,   5,   6,  77,  21,  23,  43,  54,  66,   7,\n",
       "         0,   1,  44,  82,  36,  77,   9, 100, 111, 444,  52,  16, 779,\n",
       "        91,  10])"
      ]
     },
     "execution_count": 53,
     "metadata": {},
     "output_type": "execute_result"
    }
   ],
   "source": [
    "rv2 = b.ravel()\n",
    "rv2"
   ]
  },
  {
   "cell_type": "code",
   "execution_count": 54,
   "id": "6fc525e1",
   "metadata": {},
   "outputs": [
    {
     "data": {
      "text/plain": [
       "array([0.54340494, 0.27836939, 0.42451759, 0.84477613, 0.00471886,\n",
       "       0.12156912, 0.67074908, 0.82585276, 0.13670659, 0.57509333,\n",
       "       0.89132195, 0.20920212, 0.18532822, 0.10837689, 0.21969749,\n",
       "       0.97862378, 0.81168315, 0.17194101, 0.81622475, 0.27407375,\n",
       "       0.43170418, 0.94002982, 0.81764938, 0.33611195, 0.17541045,\n",
       "       0.37283205, 0.00568851, 0.25242635, 0.79566251, 0.01525497,\n",
       "       0.59884338, 0.60380454, 0.10514769, 0.38194344, 0.03647606,\n",
       "       0.89041156, 0.98092086, 0.05994199, 0.89054594, 0.5769015 ])"
      ]
     },
     "execution_count": 54,
     "metadata": {},
     "output_type": "execute_result"
    }
   ],
   "source": [
    "rv3 = c.ravel()\n",
    "rv3"
   ]
  },
  {
   "cell_type": "markdown",
   "id": "b2db4571",
   "metadata": {},
   "source": [
    "## 4)`.max()` Method:-"
   ]
  },
  {
   "cell_type": "code",
   "execution_count": 55,
   "id": "de26ab23",
   "metadata": {},
   "outputs": [
    {
     "data": {
      "text/plain": [
       "9"
      ]
     },
     "execution_count": 55,
     "metadata": {},
     "output_type": "execute_result"
    }
   ],
   "source": [
    "mx1 = a.max()\n",
    "mx1"
   ]
  },
  {
   "cell_type": "code",
   "execution_count": 56,
   "id": "b80f3b74",
   "metadata": {},
   "outputs": [
    {
     "data": {
      "text/plain": [
       "779"
      ]
     },
     "execution_count": 56,
     "metadata": {},
     "output_type": "execute_result"
    }
   ],
   "source": [
    "mx2 = b.max()\n",
    "mx2"
   ]
  },
  {
   "cell_type": "code",
   "execution_count": 57,
   "id": "53ca4d6e",
   "metadata": {},
   "outputs": [
    {
     "data": {
      "text/plain": [
       "0.9809208570123115"
      ]
     },
     "execution_count": 57,
     "metadata": {},
     "output_type": "execute_result"
    }
   ],
   "source": [
    "mx3 = c.max()\n",
    "mx3"
   ]
  },
  {
   "cell_type": "code",
   "execution_count": 58,
   "id": "5fffdc1f",
   "metadata": {},
   "outputs": [
    {
     "data": {
      "text/plain": [
       "array([[ 11,   2,   3,  44,   5,   6,  77],\n",
       "       [ 21,  23,  43,  54,  66,   7,   0],\n",
       "       [  1,  44,  82,  36,  77,   9, 100],\n",
       "       [111, 444,  52,  16, 779,  91,  10]])"
      ]
     },
     "execution_count": 58,
     "metadata": {},
     "output_type": "execute_result"
    }
   ],
   "source": [
    "b"
   ]
  },
  {
   "cell_type": "code",
   "execution_count": 59,
   "id": "77cf177d",
   "metadata": {},
   "outputs": [
    {
     "data": {
      "text/plain": [
       "array([ 77,  66, 100, 779])"
      ]
     },
     "execution_count": 59,
     "metadata": {},
     "output_type": "execute_result"
    }
   ],
   "source": [
    "mx4 = b.max(axis=1)\n",
    "mx4"
   ]
  },
  {
   "cell_type": "code",
   "execution_count": 60,
   "id": "d0b34966",
   "metadata": {},
   "outputs": [
    {
     "data": {
      "text/plain": [
       "array([111, 444,  82,  54, 779,  91, 100])"
      ]
     },
     "execution_count": 60,
     "metadata": {},
     "output_type": "execute_result"
    }
   ],
   "source": [
    "mx5 = b.max(axis=0)\n",
    "mx5"
   ]
  },
  {
   "cell_type": "code",
   "execution_count": 61,
   "id": "2c2b04d4",
   "metadata": {},
   "outputs": [
    {
     "data": {
      "text/plain": [
       "779"
      ]
     },
     "execution_count": 61,
     "metadata": {},
     "output_type": "execute_result"
    }
   ],
   "source": [
    "mx6 = b.max(axis=(0,1))\n",
    "mx6"
   ]
  },
  {
   "cell_type": "code",
   "execution_count": 62,
   "id": "45a1ca91",
   "metadata": {},
   "outputs": [
    {
     "data": {
      "text/plain": [
       "array([[[0.54340494, 0.27836939, 0.42451759, 0.84477613, 0.00471886],\n",
       "        [0.12156912, 0.67074908, 0.82585276, 0.13670659, 0.57509333],\n",
       "        [0.89132195, 0.20920212, 0.18532822, 0.10837689, 0.21969749],\n",
       "        [0.97862378, 0.81168315, 0.17194101, 0.81622475, 0.27407375]],\n",
       "\n",
       "       [[0.43170418, 0.94002982, 0.81764938, 0.33611195, 0.17541045],\n",
       "        [0.37283205, 0.00568851, 0.25242635, 0.79566251, 0.01525497],\n",
       "        [0.59884338, 0.60380454, 0.10514769, 0.38194344, 0.03647606],\n",
       "        [0.89041156, 0.98092086, 0.05994199, 0.89054594, 0.5769015 ]]])"
      ]
     },
     "execution_count": 62,
     "metadata": {},
     "output_type": "execute_result"
    }
   ],
   "source": [
    "c"
   ]
  },
  {
   "cell_type": "code",
   "execution_count": 63,
   "id": "326e4f67",
   "metadata": {},
   "outputs": [
    {
     "data": {
      "text/plain": [
       "array([[0.54340494, 0.94002982, 0.81764938, 0.84477613, 0.17541045],\n",
       "       [0.37283205, 0.67074908, 0.82585276, 0.79566251, 0.57509333],\n",
       "       [0.89132195, 0.60380454, 0.18532822, 0.38194344, 0.21969749],\n",
       "       [0.97862378, 0.98092086, 0.17194101, 0.89054594, 0.5769015 ]])"
      ]
     },
     "execution_count": 63,
     "metadata": {},
     "output_type": "execute_result"
    }
   ],
   "source": [
    "mx7 = c.max(axis=0)\n",
    "mx7"
   ]
  },
  {
   "cell_type": "code",
   "execution_count": 64,
   "id": "8ad09a9a",
   "metadata": {},
   "outputs": [
    {
     "data": {
      "text/plain": [
       "array([[0.97862378, 0.81168315, 0.82585276, 0.84477613, 0.57509333],\n",
       "       [0.89041156, 0.98092086, 0.81764938, 0.89054594, 0.5769015 ]])"
      ]
     },
     "execution_count": 64,
     "metadata": {},
     "output_type": "execute_result"
    }
   ],
   "source": [
    "mx8 = c.max(axis=1)\n",
    "mx8"
   ]
  },
  {
   "cell_type": "code",
   "execution_count": 65,
   "id": "c3e82425",
   "metadata": {},
   "outputs": [
    {
     "data": {
      "text/plain": [
       "array([[0.84477613, 0.82585276, 0.89132195, 0.97862378],\n",
       "       [0.94002982, 0.79566251, 0.60380454, 0.98092086]])"
      ]
     },
     "execution_count": 65,
     "metadata": {},
     "output_type": "execute_result"
    }
   ],
   "source": [
    "mx9 = c.max(axis=2)\n",
    "mx9"
   ]
  },
  {
   "cell_type": "code",
   "execution_count": 66,
   "id": "51093056",
   "metadata": {},
   "outputs": [
    {
     "data": {
      "text/plain": [
       "array([[[0.54340494, 0.27836939, 0.42451759, 0.84477613, 0.00471886],\n",
       "        [0.12156912, 0.67074908, 0.82585276, 0.13670659, 0.57509333],\n",
       "        [0.89132195, 0.20920212, 0.18532822, 0.10837689, 0.21969749],\n",
       "        [0.97862378, 0.81168315, 0.17194101, 0.81622475, 0.27407375]],\n",
       "\n",
       "       [[0.43170418, 0.94002982, 0.81764938, 0.33611195, 0.17541045],\n",
       "        [0.37283205, 0.00568851, 0.25242635, 0.79566251, 0.01525497],\n",
       "        [0.59884338, 0.60380454, 0.10514769, 0.38194344, 0.03647606],\n",
       "        [0.89041156, 0.98092086, 0.05994199, 0.89054594, 0.5769015 ]]])"
      ]
     },
     "execution_count": 66,
     "metadata": {},
     "output_type": "execute_result"
    }
   ],
   "source": [
    "c"
   ]
  },
  {
   "cell_type": "code",
   "execution_count": 67,
   "id": "bd91b414",
   "metadata": {},
   "outputs": [
    {
     "data": {
      "text/plain": [
       "array([0.97862378, 0.98092086, 0.82585276, 0.89054594, 0.5769015 ])"
      ]
     },
     "execution_count": 67,
     "metadata": {},
     "output_type": "execute_result"
    }
   ],
   "source": [
    "mx10 = c.max(axis=(0,1))\n",
    "mx10"
   ]
  },
  {
   "cell_type": "code",
   "execution_count": 68,
   "id": "e5b65988",
   "metadata": {},
   "outputs": [
    {
     "data": {
      "text/plain": [
       "array([0.97862378, 0.98092086, 0.82585276, 0.89054594, 0.5769015 ])"
      ]
     },
     "execution_count": 68,
     "metadata": {},
     "output_type": "execute_result"
    }
   ],
   "source": [
    "mx10 = c.max(axis=(1,0))\n",
    "mx10"
   ]
  },
  {
   "cell_type": "code",
   "execution_count": 69,
   "id": "5a586a5e",
   "metadata": {},
   "outputs": [
    {
     "data": {
      "text/plain": [
       "array([0.94002982, 0.82585276, 0.89132195, 0.98092086])"
      ]
     },
     "execution_count": 69,
     "metadata": {},
     "output_type": "execute_result"
    }
   ],
   "source": [
    "mx11 = c.max(axis=(0,2))\n",
    "mx11"
   ]
  },
  {
   "cell_type": "code",
   "execution_count": 70,
   "id": "9afa7341",
   "metadata": {},
   "outputs": [
    {
     "data": {
      "text/plain": [
       "array([0.97862378, 0.98092086])"
      ]
     },
     "execution_count": 70,
     "metadata": {},
     "output_type": "execute_result"
    }
   ],
   "source": [
    "mx12 = c.max(axis=(1,2))\n",
    "mx12"
   ]
  },
  {
   "cell_type": "code",
   "execution_count": 71,
   "id": "352a42c6",
   "metadata": {},
   "outputs": [
    {
     "data": {
      "text/plain": [
       "0.9809208570123115"
      ]
     },
     "execution_count": 71,
     "metadata": {},
     "output_type": "execute_result"
    }
   ],
   "source": [
    "mx13 = c.max(axis=(2,1,0))\n",
    "mx13"
   ]
  },
  {
   "cell_type": "markdown",
   "id": "487e6a57",
   "metadata": {},
   "source": [
    "## 5)`.min()` Method:-"
   ]
  },
  {
   "cell_type": "code",
   "execution_count": 72,
   "id": "80e61cab",
   "metadata": {},
   "outputs": [
    {
     "data": {
      "text/plain": [
       "2"
      ]
     },
     "execution_count": 72,
     "metadata": {},
     "output_type": "execute_result"
    }
   ],
   "source": [
    "mn1 = a.min()\n",
    "mn1"
   ]
  },
  {
   "cell_type": "code",
   "execution_count": 73,
   "id": "4782dcce",
   "metadata": {},
   "outputs": [
    {
     "data": {
      "text/plain": [
       "0"
      ]
     },
     "execution_count": 73,
     "metadata": {},
     "output_type": "execute_result"
    }
   ],
   "source": [
    "mn2 = b.min()\n",
    "mn2"
   ]
  },
  {
   "cell_type": "code",
   "execution_count": 74,
   "id": "c2ff044f",
   "metadata": {},
   "outputs": [
    {
     "data": {
      "text/plain": [
       "0.004718856190972565"
      ]
     },
     "execution_count": 74,
     "metadata": {},
     "output_type": "execute_result"
    }
   ],
   "source": [
    "mn3 = c.min()\n",
    "mn3"
   ]
  },
  {
   "cell_type": "code",
   "execution_count": 75,
   "id": "0f77289e",
   "metadata": {},
   "outputs": [
    {
     "data": {
      "text/plain": [
       "array([[ 11,   2,   3,  44,   5,   6,  77],\n",
       "       [ 21,  23,  43,  54,  66,   7,   0],\n",
       "       [  1,  44,  82,  36,  77,   9, 100],\n",
       "       [111, 444,  52,  16, 779,  91,  10]])"
      ]
     },
     "execution_count": 75,
     "metadata": {},
     "output_type": "execute_result"
    }
   ],
   "source": [
    "b"
   ]
  },
  {
   "cell_type": "code",
   "execution_count": 76,
   "id": "443ac674",
   "metadata": {},
   "outputs": [
    {
     "data": {
      "text/plain": [
       "array([ 2,  0,  1, 10])"
      ]
     },
     "execution_count": 76,
     "metadata": {},
     "output_type": "execute_result"
    }
   ],
   "source": [
    "mn3 = b.min(axis=1)\n",
    "mn3"
   ]
  },
  {
   "cell_type": "code",
   "execution_count": 77,
   "id": "33beb5dc",
   "metadata": {},
   "outputs": [
    {
     "data": {
      "text/plain": [
       "array([ 1,  2,  3, 16,  5,  6,  0])"
      ]
     },
     "execution_count": 77,
     "metadata": {},
     "output_type": "execute_result"
    }
   ],
   "source": [
    "mn4 = b.min(axis=0)\n",
    "mn4"
   ]
  },
  {
   "cell_type": "code",
   "execution_count": 78,
   "id": "d5866f21",
   "metadata": {},
   "outputs": [
    {
     "data": {
      "text/plain": [
       "0"
      ]
     },
     "execution_count": 78,
     "metadata": {},
     "output_type": "execute_result"
    }
   ],
   "source": [
    "mn5 = b.min(axis=(1,0))\n",
    "mn5"
   ]
  },
  {
   "cell_type": "code",
   "execution_count": 79,
   "id": "d51455ff",
   "metadata": {},
   "outputs": [
    {
     "data": {
      "text/plain": [
       "array([[[0.54340494, 0.27836939, 0.42451759, 0.84477613, 0.00471886],\n",
       "        [0.12156912, 0.67074908, 0.82585276, 0.13670659, 0.57509333],\n",
       "        [0.89132195, 0.20920212, 0.18532822, 0.10837689, 0.21969749],\n",
       "        [0.97862378, 0.81168315, 0.17194101, 0.81622475, 0.27407375]],\n",
       "\n",
       "       [[0.43170418, 0.94002982, 0.81764938, 0.33611195, 0.17541045],\n",
       "        [0.37283205, 0.00568851, 0.25242635, 0.79566251, 0.01525497],\n",
       "        [0.59884338, 0.60380454, 0.10514769, 0.38194344, 0.03647606],\n",
       "        [0.89041156, 0.98092086, 0.05994199, 0.89054594, 0.5769015 ]]])"
      ]
     },
     "execution_count": 79,
     "metadata": {},
     "output_type": "execute_result"
    }
   ],
   "source": [
    "c"
   ]
  },
  {
   "cell_type": "code",
   "execution_count": 80,
   "id": "9b2a169a",
   "metadata": {},
   "outputs": [
    {
     "data": {
      "text/plain": [
       "array([[0.43170418, 0.27836939, 0.42451759, 0.33611195, 0.00471886],\n",
       "       [0.12156912, 0.00568851, 0.25242635, 0.13670659, 0.01525497],\n",
       "       [0.59884338, 0.20920212, 0.10514769, 0.10837689, 0.03647606],\n",
       "       [0.89041156, 0.81168315, 0.05994199, 0.81622475, 0.27407375]])"
      ]
     },
     "execution_count": 80,
     "metadata": {},
     "output_type": "execute_result"
    }
   ],
   "source": [
    "mn6 = c.min(axis=0)\n",
    "mn6"
   ]
  },
  {
   "cell_type": "code",
   "execution_count": 81,
   "id": "a15df198",
   "metadata": {},
   "outputs": [
    {
     "data": {
      "text/plain": [
       "array([[0.12156912, 0.20920212, 0.17194101, 0.10837689, 0.00471886],\n",
       "       [0.37283205, 0.00568851, 0.05994199, 0.33611195, 0.01525497]])"
      ]
     },
     "execution_count": 81,
     "metadata": {},
     "output_type": "execute_result"
    }
   ],
   "source": [
    "mn7 = c.min(axis=1)\n",
    "mn7"
   ]
  },
  {
   "cell_type": "code",
   "execution_count": 82,
   "id": "fcea3007",
   "metadata": {},
   "outputs": [
    {
     "data": {
      "text/plain": [
       "array([[0.00471886, 0.12156912, 0.10837689, 0.17194101],\n",
       "       [0.17541045, 0.00568851, 0.03647606, 0.05994199]])"
      ]
     },
     "execution_count": 82,
     "metadata": {},
     "output_type": "execute_result"
    }
   ],
   "source": [
    "mn8 = c.min(axis=2)\n",
    "mn8"
   ]
  },
  {
   "cell_type": "code",
   "execution_count": 83,
   "id": "113b0015",
   "metadata": {},
   "outputs": [
    {
     "data": {
      "text/plain": [
       "array([0.12156912, 0.00568851, 0.05994199, 0.10837689, 0.00471886])"
      ]
     },
     "execution_count": 83,
     "metadata": {},
     "output_type": "execute_result"
    }
   ],
   "source": [
    "mn9 = c.min(axis=(0,1))\n",
    "mn9"
   ]
  },
  {
   "cell_type": "code",
   "execution_count": 84,
   "id": "2a404d75",
   "metadata": {},
   "outputs": [
    {
     "data": {
      "text/plain": [
       "array([0.00471886, 0.00568851, 0.03647606, 0.05994199])"
      ]
     },
     "execution_count": 84,
     "metadata": {},
     "output_type": "execute_result"
    }
   ],
   "source": [
    "mn10 = c.min(axis=(2,0))\n",
    "mn10"
   ]
  },
  {
   "cell_type": "code",
   "execution_count": 85,
   "id": "03fd879d",
   "metadata": {},
   "outputs": [
    {
     "data": {
      "text/plain": [
       "array([0.00471886, 0.00568851])"
      ]
     },
     "execution_count": 85,
     "metadata": {},
     "output_type": "execute_result"
    }
   ],
   "source": [
    "mn11 = c.min(axis=(1,2))\n",
    "mn11"
   ]
  },
  {
   "cell_type": "code",
   "execution_count": 86,
   "id": "17ec767c",
   "metadata": {},
   "outputs": [
    {
     "data": {
      "text/plain": [
       "0.004718856190972565"
      ]
     },
     "execution_count": 86,
     "metadata": {},
     "output_type": "execute_result"
    }
   ],
   "source": [
    "mn12 = c.min(axis=(2,0,1))\n",
    "mn12"
   ]
  },
  {
   "cell_type": "markdown",
   "id": "005fcb07",
   "metadata": {},
   "source": [
    "## 6)`.mean()` Method:-"
   ]
  },
  {
   "cell_type": "code",
   "execution_count": 87,
   "id": "17f70b9b",
   "metadata": {},
   "outputs": [
    {
     "data": {
      "text/plain": [
       "5.5"
      ]
     },
     "execution_count": 87,
     "metadata": {},
     "output_type": "execute_result"
    }
   ],
   "source": [
    "me1 = a.mean()\n",
    "me1"
   ]
  },
  {
   "cell_type": "code",
   "execution_count": 88,
   "id": "a609c3f3",
   "metadata": {},
   "outputs": [
    {
     "data": {
      "text/plain": [
       "79.07142857142857"
      ]
     },
     "execution_count": 88,
     "metadata": {},
     "output_type": "execute_result"
    }
   ],
   "source": [
    "me2 = b.mean()\n",
    "me2"
   ]
  },
  {
   "cell_type": "code",
   "execution_count": 89,
   "id": "08f8203d",
   "metadata": {},
   "outputs": [
    {
     "data": {
      "text/plain": [
       "0.45899845090724956"
      ]
     },
     "execution_count": 89,
     "metadata": {},
     "output_type": "execute_result"
    }
   ],
   "source": [
    "me3 = c.mean()\n",
    "me3"
   ]
  },
  {
   "cell_type": "code",
   "execution_count": 90,
   "id": "25fa59d3",
   "metadata": {},
   "outputs": [
    {
     "data": {
      "text/plain": [
       "array([[ 11,   2,   3,  44,   5,   6,  77],\n",
       "       [ 21,  23,  43,  54,  66,   7,   0],\n",
       "       [  1,  44,  82,  36,  77,   9, 100],\n",
       "       [111, 444,  52,  16, 779,  91,  10]])"
      ]
     },
     "execution_count": 90,
     "metadata": {},
     "output_type": "execute_result"
    }
   ],
   "source": [
    "b"
   ]
  },
  {
   "cell_type": "code",
   "execution_count": 91,
   "id": "97561306",
   "metadata": {},
   "outputs": [
    {
     "data": {
      "text/plain": [
       "array([ 21.14285714,  30.57142857,  49.85714286, 214.71428571])"
      ]
     },
     "execution_count": 91,
     "metadata": {},
     "output_type": "execute_result"
    }
   ],
   "source": [
    "me4 = b.mean(axis=1)\n",
    "me4"
   ]
  },
  {
   "cell_type": "code",
   "execution_count": 92,
   "id": "2f17911f",
   "metadata": {},
   "outputs": [
    {
     "data": {
      "text/plain": [
       "array([ 36.  , 128.25,  45.  ,  37.5 , 231.75,  28.25,  46.75])"
      ]
     },
     "execution_count": 92,
     "metadata": {},
     "output_type": "execute_result"
    }
   ],
   "source": [
    "me5 = b.mean(axis=0)\n",
    "me5"
   ]
  },
  {
   "cell_type": "code",
   "execution_count": 93,
   "id": "51b09965",
   "metadata": {},
   "outputs": [
    {
     "data": {
      "text/plain": [
       "79.07142857142857"
      ]
     },
     "execution_count": 93,
     "metadata": {},
     "output_type": "execute_result"
    }
   ],
   "source": [
    "me6 = b.mean(axis=(1,0))\n",
    "me6"
   ]
  },
  {
   "cell_type": "code",
   "execution_count": 94,
   "id": "11531a29",
   "metadata": {},
   "outputs": [
    {
     "data": {
      "text/plain": [
       "array([[[0.54340494, 0.27836939, 0.42451759, 0.84477613, 0.00471886],\n",
       "        [0.12156912, 0.67074908, 0.82585276, 0.13670659, 0.57509333],\n",
       "        [0.89132195, 0.20920212, 0.18532822, 0.10837689, 0.21969749],\n",
       "        [0.97862378, 0.81168315, 0.17194101, 0.81622475, 0.27407375]],\n",
       "\n",
       "       [[0.43170418, 0.94002982, 0.81764938, 0.33611195, 0.17541045],\n",
       "        [0.37283205, 0.00568851, 0.25242635, 0.79566251, 0.01525497],\n",
       "        [0.59884338, 0.60380454, 0.10514769, 0.38194344, 0.03647606],\n",
       "        [0.89041156, 0.98092086, 0.05994199, 0.89054594, 0.5769015 ]]])"
      ]
     },
     "execution_count": 94,
     "metadata": {},
     "output_type": "execute_result"
    }
   ],
   "source": [
    "c"
   ]
  },
  {
   "cell_type": "code",
   "execution_count": 95,
   "id": "5e974307",
   "metadata": {},
   "outputs": [
    {
     "data": {
      "text/plain": [
       "array([[0.48755456, 0.6091996 , 0.62108348, 0.59044404, 0.09006465],\n",
       "       [0.24720058, 0.3382188 , 0.53913955, 0.46618455, 0.29517415],\n",
       "       [0.74508267, 0.40650333, 0.14523795, 0.24516017, 0.12808677],\n",
       "       [0.93451767, 0.896302  , 0.1159415 , 0.85338535, 0.42548762]])"
      ]
     },
     "execution_count": 95,
     "metadata": {},
     "output_type": "execute_result"
    }
   ],
   "source": [
    "me7 = c.mean(axis=0)\n",
    "me7"
   ]
  },
  {
   "cell_type": "code",
   "execution_count": 96,
   "id": "6f8d2e7b",
   "metadata": {},
   "outputs": [
    {
     "data": {
      "text/plain": [
       "array([[0.63372995, 0.49250094, 0.40190989, 0.47652109, 0.26839586],\n",
       "       [0.57344779, 0.63261093, 0.30879135, 0.60106596, 0.20101075]])"
      ]
     },
     "execution_count": 96,
     "metadata": {},
     "output_type": "execute_result"
    }
   ],
   "source": [
    "me8 = c.mean(axis=1)\n",
    "me8"
   ]
  },
  {
   "cell_type": "code",
   "execution_count": 97,
   "id": "b65e28a8",
   "metadata": {},
   "outputs": [
    {
     "data": {
      "text/plain": [
       "array([[0.41915738, 0.46599418, 0.32278534, 0.61050929],\n",
       "       [0.54018116, 0.28837288, 0.34524302, 0.67974437]])"
      ]
     },
     "execution_count": 97,
     "metadata": {},
     "output_type": "execute_result"
    }
   ],
   "source": [
    "me9 = c.mean(axis=2)\n",
    "me9"
   ]
  },
  {
   "cell_type": "code",
   "execution_count": 98,
   "id": "d645c359",
   "metadata": {},
   "outputs": [
    {
     "data": {
      "text/plain": [
       "array([0.60358887, 0.56255593, 0.35535062, 0.53879353, 0.2347033 ])"
      ]
     },
     "execution_count": 98,
     "metadata": {},
     "output_type": "execute_result"
    }
   ],
   "source": [
    "me10 = c.mean(axis=(1,0))\n",
    "me10"
   ]
  },
  {
   "cell_type": "code",
   "execution_count": 99,
   "id": "4c38f499",
   "metadata": {},
   "outputs": [
    {
     "data": {
      "text/plain": [
       "array([0.47966927, 0.37718353, 0.33401418, 0.64512683])"
      ]
     },
     "execution_count": 99,
     "metadata": {},
     "output_type": "execute_result"
    }
   ],
   "source": [
    "me11 = c.mean(axis=(0,2))\n",
    "me11"
   ]
  },
  {
   "cell_type": "code",
   "execution_count": 100,
   "id": "17f2247d",
   "metadata": {},
   "outputs": [
    {
     "data": {
      "text/plain": [
       "array([0.45461155, 0.46338536])"
      ]
     },
     "execution_count": 100,
     "metadata": {},
     "output_type": "execute_result"
    }
   ],
   "source": [
    "me12 = c.mean(axis=(1,2))\n",
    "me12"
   ]
  },
  {
   "cell_type": "code",
   "execution_count": 101,
   "id": "f93d0c7c",
   "metadata": {},
   "outputs": [
    {
     "data": {
      "text/plain": [
       "0.45899845090724956"
      ]
     },
     "execution_count": 101,
     "metadata": {},
     "output_type": "execute_result"
    }
   ],
   "source": [
    "me13 = c.mean(axis=(0,1,2))\n",
    "me13"
   ]
  },
  {
   "cell_type": "markdown",
   "id": "f428264c",
   "metadata": {},
   "source": [
    "## 7)`.std()` Method:-"
   ]
  },
  {
   "cell_type": "code",
   "execution_count": 102,
   "id": "11dabcd2",
   "metadata": {},
   "outputs": [
    {
     "data": {
      "text/plain": [
       "2.4596747752497685"
      ]
     },
     "execution_count": 102,
     "metadata": {},
     "output_type": "execute_result"
    }
   ],
   "source": [
    "st1 = a.std()\n",
    "st1"
   ]
  },
  {
   "cell_type": "code",
   "execution_count": 103,
   "id": "98fe9a6c",
   "metadata": {},
   "outputs": [
    {
     "data": {
      "text/plain": [
       "157.74548410367265"
      ]
     },
     "execution_count": 103,
     "metadata": {},
     "output_type": "execute_result"
    }
   ],
   "source": [
    "st2 = b.std()\n",
    "st2"
   ]
  },
  {
   "cell_type": "code",
   "execution_count": 104,
   "id": "88b6c257",
   "metadata": {},
   "outputs": [
    {
     "data": {
      "text/plain": [
       "0.3217139478081803"
      ]
     },
     "execution_count": 104,
     "metadata": {},
     "output_type": "execute_result"
    }
   ],
   "source": [
    "st3 = c.std()\n",
    "st3"
   ]
  },
  {
   "cell_type": "code",
   "execution_count": 105,
   "id": "89fd3021",
   "metadata": {},
   "outputs": [
    {
     "data": {
      "text/plain": [
       "array([[ 11,   2,   3,  44,   5,   6,  77],\n",
       "       [ 21,  23,  43,  54,  66,   7,   0],\n",
       "       [  1,  44,  82,  36,  77,   9, 100],\n",
       "       [111, 444,  52,  16, 779,  91,  10]])"
      ]
     },
     "execution_count": 105,
     "metadata": {},
     "output_type": "execute_result"
    }
   ],
   "source": [
    "b"
   ]
  },
  {
   "cell_type": "code",
   "execution_count": 106,
   "id": "e7c7b20e",
   "metadata": {},
   "outputs": [
    {
     "data": {
      "text/plain": [
       "array([ 43.87482194, 182.90212547,  28.22233158,  13.95528574,\n",
       "       317.14300796,  36.24482722,  42.68123124])"
      ]
     },
     "execution_count": 106,
     "metadata": {},
     "output_type": "execute_result"
    }
   ],
   "source": [
    "st4 = b.std(axis=0)\n",
    "st4"
   ]
  },
  {
   "cell_type": "code",
   "execution_count": 107,
   "id": "3b5f6865",
   "metadata": {},
   "outputs": [
    {
     "data": {
      "text/plain": [
       "array([ 26.54068882,  22.67066791,  34.98337798, 268.57386017])"
      ]
     },
     "execution_count": 107,
     "metadata": {},
     "output_type": "execute_result"
    }
   ],
   "source": [
    "st5 = b.std(axis=1)\n",
    "st5"
   ]
  },
  {
   "cell_type": "code",
   "execution_count": 108,
   "id": "408f31b1",
   "metadata": {},
   "outputs": [
    {
     "data": {
      "text/plain": [
       "157.74548410367265"
      ]
     },
     "execution_count": 108,
     "metadata": {},
     "output_type": "execute_result"
    }
   ],
   "source": [
    "st6 = b.std(axis=(1,0))\n",
    "st6"
   ]
  },
  {
   "cell_type": "code",
   "execution_count": 109,
   "id": "0eaf52f5",
   "metadata": {},
   "outputs": [
    {
     "data": {
      "text/plain": [
       "array([[[0.54340494, 0.27836939, 0.42451759, 0.84477613, 0.00471886],\n",
       "        [0.12156912, 0.67074908, 0.82585276, 0.13670659, 0.57509333],\n",
       "        [0.89132195, 0.20920212, 0.18532822, 0.10837689, 0.21969749],\n",
       "        [0.97862378, 0.81168315, 0.17194101, 0.81622475, 0.27407375]],\n",
       "\n",
       "       [[0.43170418, 0.94002982, 0.81764938, 0.33611195, 0.17541045],\n",
       "        [0.37283205, 0.00568851, 0.25242635, 0.79566251, 0.01525497],\n",
       "        [0.59884338, 0.60380454, 0.10514769, 0.38194344, 0.03647606],\n",
       "        [0.89041156, 0.98092086, 0.05994199, 0.89054594, 0.5769015 ]]])"
      ]
     },
     "execution_count": 109,
     "metadata": {},
     "output_type": "execute_result"
    }
   ],
   "source": [
    "c"
   ]
  },
  {
   "cell_type": "code",
   "execution_count": 110,
   "id": "b0e79dca",
   "metadata": {},
   "outputs": [
    {
     "data": {
      "text/plain": [
       "array([[0.05585038, 0.33083022, 0.19656589, 0.25433209, 0.0853458 ],\n",
       "       [0.12563146, 0.33253029, 0.2867132 , 0.32947796, 0.27991918],\n",
       "       [0.14623929, 0.19730121, 0.04009027, 0.13678328, 0.09161072],\n",
       "       [0.04410611, 0.08461885, 0.05599951, 0.0371606 , 0.15141388]])"
      ]
     },
     "execution_count": 110,
     "metadata": {},
     "output_type": "execute_result"
    }
   ],
   "source": [
    "st7 = c.std(axis=0)\n",
    "st7"
   ]
  },
  {
   "cell_type": "code",
   "execution_count": 111,
   "id": "8b4f9502",
   "metadata": {},
   "outputs": [
    {
     "data": {
      "text/plain": [
       "array([[0.33755471, 0.25483339, 0.26459023, 0.35426487, 0.20371099],\n",
       "       [0.20090352, 0.39041251, 0.30228722, 0.24488864, 0.22556934]])"
      ]
     },
     "execution_count": 111,
     "metadata": {},
     "output_type": "execute_result"
    }
   ],
   "source": [
    "st8 = c.std(axis=1)\n",
    "st8"
   ]
  },
  {
   "cell_type": "code",
   "execution_count": 112,
   "id": "0c5ee161",
   "metadata": {},
   "outputs": [
    {
     "data": {
      "text/plain": [
       "array([[0.27863886, 0.2864906 , 0.28692423, 0.32367547],\n",
       "       [0.29097654, 0.28992141, 0.23895478, 0.3388973 ]])"
      ]
     },
     "execution_count": 112,
     "metadata": {},
     "output_type": "execute_result"
    }
   ],
   "source": [
    "st9 = c.std(axis=2)\n",
    "st9"
   ]
  },
  {
   "cell_type": "code",
   "execution_count": 113,
   "id": "b3f708b6",
   "metadata": {},
   "outputs": [
    {
     "data": {
      "text/plain": [
       "array([0.27939432, 0.33702922, 0.28785507, 0.31082934, 0.21754318])"
      ]
     },
     "execution_count": 113,
     "metadata": {},
     "output_type": "execute_result"
    }
   ],
   "source": [
    "st10 = c.std(axis=(0,1))\n",
    "st10"
   ]
  },
  {
   "cell_type": "code",
   "execution_count": 114,
   "id": "db49f3fe",
   "metadata": {},
   "outputs": [
    {
     "data": {
      "text/plain": [
       "array([0.29123044, 0.30158411, 0.26426982, 0.33317708])"
      ]
     },
     "execution_count": 114,
     "metadata": {},
     "output_type": "execute_result"
    }
   ],
   "source": [
    "st11 = c.std(axis=(2,0))\n",
    "st11"
   ]
  },
  {
   "cell_type": "code",
   "execution_count": 115,
   "id": "05011ca5",
   "metadata": {},
   "outputs": [
    {
     "data": {
      "text/plain": [
       "array([0.31220051, 0.33089588])"
      ]
     },
     "execution_count": 115,
     "metadata": {},
     "output_type": "execute_result"
    }
   ],
   "source": [
    "st12  = c.std(axis=(1,2))\n",
    "st12"
   ]
  },
  {
   "cell_type": "code",
   "execution_count": 116,
   "id": "bdc55ba0",
   "metadata": {},
   "outputs": [
    {
     "data": {
      "text/plain": [
       "0.3217139478081803"
      ]
     },
     "execution_count": 116,
     "metadata": {},
     "output_type": "execute_result"
    }
   ],
   "source": [
    "st13 = c.std(axis=(0,1,2))\n",
    "st13"
   ]
  },
  {
   "cell_type": "markdown",
   "id": "dd085590",
   "metadata": {},
   "source": [
    "## 8)`.argmax()` Method:-"
   ]
  },
  {
   "cell_type": "code",
   "execution_count": 117,
   "id": "1c1aca09",
   "metadata": {},
   "outputs": [
    {
     "data": {
      "text/plain": [
       "array([7, 5, 6, 2, 9, 3, 5, 7, 9, 2])"
      ]
     },
     "execution_count": 117,
     "metadata": {},
     "output_type": "execute_result"
    }
   ],
   "source": [
    "a"
   ]
  },
  {
   "cell_type": "code",
   "execution_count": 118,
   "id": "d029fd64",
   "metadata": {},
   "outputs": [
    {
     "data": {
      "text/plain": [
       "4"
      ]
     },
     "execution_count": 118,
     "metadata": {},
     "output_type": "execute_result"
    }
   ],
   "source": [
    "agmx1 = a.argmax()\n",
    "agmx1"
   ]
  },
  {
   "cell_type": "code",
   "execution_count": 119,
   "id": "fb1511e9",
   "metadata": {},
   "outputs": [
    {
     "data": {
      "text/plain": [
       "25"
      ]
     },
     "execution_count": 119,
     "metadata": {},
     "output_type": "execute_result"
    }
   ],
   "source": [
    "agmx3 = b.argmax()\n",
    "agmx3"
   ]
  },
  {
   "cell_type": "code",
   "execution_count": 120,
   "id": "77eab376",
   "metadata": {},
   "outputs": [
    {
     "data": {
      "text/plain": [
       "36"
      ]
     },
     "execution_count": 120,
     "metadata": {},
     "output_type": "execute_result"
    }
   ],
   "source": [
    "agmx4 = c.argmax()\n",
    "agmx4"
   ]
  },
  {
   "cell_type": "code",
   "execution_count": 121,
   "id": "606e4389",
   "metadata": {},
   "outputs": [
    {
     "data": {
      "text/plain": [
       "5"
      ]
     },
     "execution_count": 121,
     "metadata": {},
     "output_type": "execute_result"
    }
   ],
   "source": [
    "a1 = np.array([1,2,3,4,7,92,3,4,7])\n",
    "agmx2 = a1.argmax()\n",
    "agmx2"
   ]
  },
  {
   "cell_type": "code",
   "execution_count": 122,
   "id": "76ce359d",
   "metadata": {},
   "outputs": [
    {
     "data": {
      "text/plain": [
       "array([[ 11,   2,   3,  44,   5,   6,  77],\n",
       "       [ 21,  23,  43,  54,  66,   7,   0],\n",
       "       [  1,  44,  82,  36,  77,   9, 100],\n",
       "       [111, 444,  52,  16, 779,  91,  10]])"
      ]
     },
     "execution_count": 122,
     "metadata": {},
     "output_type": "execute_result"
    }
   ],
   "source": [
    "b"
   ]
  },
  {
   "cell_type": "code",
   "execution_count": 123,
   "id": "4ddc5562",
   "metadata": {},
   "outputs": [
    {
     "data": {
      "text/plain": [
       "array([3, 3, 2, 1, 3, 3, 2], dtype=int64)"
      ]
     },
     "execution_count": 123,
     "metadata": {},
     "output_type": "execute_result"
    }
   ],
   "source": [
    "agmx5 = b.argmax(axis=0)\n",
    "agmx5"
   ]
  },
  {
   "cell_type": "code",
   "execution_count": 124,
   "id": "5ee234f9",
   "metadata": {},
   "outputs": [
    {
     "data": {
      "text/plain": [
       "array([6, 4, 6, 4], dtype=int64)"
      ]
     },
     "execution_count": 124,
     "metadata": {},
     "output_type": "execute_result"
    }
   ],
   "source": [
    "agmx6 = b.argmax(axis=1)\n",
    "agmx6"
   ]
  },
  {
   "cell_type": "code",
   "execution_count": 125,
   "id": "0632b549",
   "metadata": {},
   "outputs": [
    {
     "data": {
      "text/plain": [
       "array([0, 3, 0, 0], dtype=int64)"
      ]
     },
     "execution_count": 125,
     "metadata": {},
     "output_type": "execute_result"
    }
   ],
   "source": [
    "b1 =np.array([[9,8,9,9],[8,1,2,5],[7,7,8,6],[9,9,9,9]])\n",
    "b1.argmax(axis=0)"
   ]
  },
  {
   "cell_type": "code",
   "execution_count": 126,
   "id": "5b40b1e3",
   "metadata": {},
   "outputs": [
    {
     "data": {
      "text/plain": [
       "array([[[0.54340494, 0.27836939, 0.42451759, 0.84477613, 0.00471886],\n",
       "        [0.12156912, 0.67074908, 0.82585276, 0.13670659, 0.57509333],\n",
       "        [0.89132195, 0.20920212, 0.18532822, 0.10837689, 0.21969749],\n",
       "        [0.97862378, 0.81168315, 0.17194101, 0.81622475, 0.27407375]],\n",
       "\n",
       "       [[0.43170418, 0.94002982, 0.81764938, 0.33611195, 0.17541045],\n",
       "        [0.37283205, 0.00568851, 0.25242635, 0.79566251, 0.01525497],\n",
       "        [0.59884338, 0.60380454, 0.10514769, 0.38194344, 0.03647606],\n",
       "        [0.89041156, 0.98092086, 0.05994199, 0.89054594, 0.5769015 ]]])"
      ]
     },
     "execution_count": 126,
     "metadata": {},
     "output_type": "execute_result"
    }
   ],
   "source": [
    "c"
   ]
  },
  {
   "cell_type": "code",
   "execution_count": 127,
   "id": "bd7f403c",
   "metadata": {},
   "outputs": [
    {
     "data": {
      "text/plain": [
       "array([[0, 1, 1, 0, 1],\n",
       "       [1, 0, 0, 1, 0],\n",
       "       [0, 1, 0, 1, 0],\n",
       "       [0, 1, 0, 1, 1]], dtype=int64)"
      ]
     },
     "execution_count": 127,
     "metadata": {},
     "output_type": "execute_result"
    }
   ],
   "source": [
    "agmx7 = c.argmax(axis=0)\n",
    "agmx7"
   ]
  },
  {
   "cell_type": "code",
   "execution_count": 128,
   "id": "cffdc7a9",
   "metadata": {},
   "outputs": [
    {
     "data": {
      "text/plain": [
       "array([[3, 3, 1, 0, 1],\n",
       "       [3, 3, 0, 3, 3]], dtype=int64)"
      ]
     },
     "execution_count": 128,
     "metadata": {},
     "output_type": "execute_result"
    }
   ],
   "source": [
    "agmx8 = c.argmax(axis=1)\n",
    "agmx8"
   ]
  },
  {
   "cell_type": "code",
   "execution_count": 129,
   "id": "49ee7488",
   "metadata": {},
   "outputs": [
    {
     "data": {
      "text/plain": [
       "array([[3, 2, 0, 0],\n",
       "       [1, 3, 1, 1]], dtype=int64)"
      ]
     },
     "execution_count": 129,
     "metadata": {},
     "output_type": "execute_result"
    }
   ],
   "source": [
    "agmx9 = c.argmax(axis=2)\n",
    "agmx9"
   ]
  },
  {
   "cell_type": "code",
   "execution_count": 130,
   "id": "0c9e5a99",
   "metadata": {},
   "outputs": [
    {
     "ename": "TypeError",
     "evalue": "'tuple' object cannot be interpreted as an integer",
     "output_type": "error",
     "traceback": [
      "\u001b[1;31m---------------------------------------------------------------------------\u001b[0m",
      "\u001b[1;31mTypeError\u001b[0m                                 Traceback (most recent call last)",
      "Cell \u001b[1;32mIn[130], line 1\u001b[0m\n\u001b[1;32m----> 1\u001b[0m agmx10 \u001b[38;5;241m=\u001b[39m c\u001b[38;5;241m.\u001b[39margmax(axis\u001b[38;5;241m=\u001b[39m(\u001b[38;5;241m1\u001b[39m,\u001b[38;5;241m0\u001b[39m))\n\u001b[0;32m      2\u001b[0m agmx10\n",
      "\u001b[1;31mTypeError\u001b[0m: 'tuple' object cannot be interpreted as an integer"
     ]
    }
   ],
   "source": [
    "agmx10 = c.argmax(axis=(1,0))\n",
    "agmx10"
   ]
  },
  {
   "cell_type": "markdown",
   "id": "356c230f",
   "metadata": {},
   "source": [
    "## 9)`.argmin()` Method:-"
   ]
  },
  {
   "cell_type": "code",
   "execution_count": 131,
   "id": "040369cf",
   "metadata": {},
   "outputs": [
    {
     "data": {
      "text/plain": [
       "array([7, 5, 6, 2, 9, 3, 5, 7, 9, 2])"
      ]
     },
     "execution_count": 131,
     "metadata": {},
     "output_type": "execute_result"
    }
   ],
   "source": [
    "a"
   ]
  },
  {
   "cell_type": "code",
   "execution_count": 132,
   "id": "0408d2a2",
   "metadata": {},
   "outputs": [
    {
     "data": {
      "text/plain": [
       "3"
      ]
     },
     "execution_count": 132,
     "metadata": {},
     "output_type": "execute_result"
    }
   ],
   "source": [
    "agmn1 = a.argmin()\n",
    "agmn1"
   ]
  },
  {
   "cell_type": "code",
   "execution_count": 133,
   "id": "8572c1a1",
   "metadata": {},
   "outputs": [
    {
     "data": {
      "text/plain": [
       "13"
      ]
     },
     "execution_count": 133,
     "metadata": {},
     "output_type": "execute_result"
    }
   ],
   "source": [
    "agmn2 = b.argmin()\n",
    "agmn2"
   ]
  },
  {
   "cell_type": "code",
   "execution_count": 134,
   "id": "ea15006f",
   "metadata": {},
   "outputs": [
    {
     "data": {
      "text/plain": [
       "4"
      ]
     },
     "execution_count": 134,
     "metadata": {},
     "output_type": "execute_result"
    }
   ],
   "source": [
    "agmn3 = c.argmin()\n",
    "agmn3"
   ]
  },
  {
   "cell_type": "code",
   "execution_count": 135,
   "id": "4572417b",
   "metadata": {},
   "outputs": [
    {
     "data": {
      "text/plain": [
       "0"
      ]
     },
     "execution_count": 135,
     "metadata": {},
     "output_type": "execute_result"
    }
   ],
   "source": [
    "a1 = np.array([1,2,3,4,7,92,3,4,1])\n",
    "agmn2 = a1.argmin()\n",
    "agmn2"
   ]
  },
  {
   "cell_type": "code",
   "execution_count": 136,
   "id": "acc2147e",
   "metadata": {},
   "outputs": [
    {
     "data": {
      "text/plain": [
       "array([[ 11,   2,   3,  44,   5,   6,  77],\n",
       "       [ 21,  23,  43,  54,  66,   7,   0],\n",
       "       [  1,  44,  82,  36,  77,   9, 100],\n",
       "       [111, 444,  52,  16, 779,  91,  10]])"
      ]
     },
     "execution_count": 136,
     "metadata": {},
     "output_type": "execute_result"
    }
   ],
   "source": [
    "b"
   ]
  },
  {
   "cell_type": "code",
   "execution_count": 137,
   "id": "2a350a85",
   "metadata": {},
   "outputs": [
    {
     "data": {
      "text/plain": [
       "array([2, 0, 0, 3, 0, 0, 1], dtype=int64)"
      ]
     },
     "execution_count": 137,
     "metadata": {},
     "output_type": "execute_result"
    }
   ],
   "source": [
    "agmn4 = b.argmin(axis=0)\n",
    "agmn4"
   ]
  },
  {
   "cell_type": "code",
   "execution_count": 138,
   "id": "c3108a43",
   "metadata": {},
   "outputs": [
    {
     "data": {
      "text/plain": [
       "array([1, 6, 0, 6], dtype=int64)"
      ]
     },
     "execution_count": 138,
     "metadata": {},
     "output_type": "execute_result"
    }
   ],
   "source": [
    "agmn5 = b.argmin(axis=1)\n",
    "agmn5"
   ]
  },
  {
   "cell_type": "code",
   "execution_count": 139,
   "id": "b918176b",
   "metadata": {},
   "outputs": [
    {
     "data": {
      "text/plain": [
       "array([1, 1, 1, 2], dtype=int64)"
      ]
     },
     "execution_count": 139,
     "metadata": {},
     "output_type": "execute_result"
    }
   ],
   "source": [
    "b1 =np.array([[7,8,7,7],[88,11,22,15],[9,9,8,16],[7,7,7,7]])\n",
    "b1.argmax(axis=0)"
   ]
  },
  {
   "cell_type": "code",
   "execution_count": 140,
   "id": "754cdba8",
   "metadata": {},
   "outputs": [
    {
     "data": {
      "text/plain": [
       "array([[[0.54340494, 0.27836939, 0.42451759, 0.84477613, 0.00471886],\n",
       "        [0.12156912, 0.67074908, 0.82585276, 0.13670659, 0.57509333],\n",
       "        [0.89132195, 0.20920212, 0.18532822, 0.10837689, 0.21969749],\n",
       "        [0.97862378, 0.81168315, 0.17194101, 0.81622475, 0.27407375]],\n",
       "\n",
       "       [[0.43170418, 0.94002982, 0.81764938, 0.33611195, 0.17541045],\n",
       "        [0.37283205, 0.00568851, 0.25242635, 0.79566251, 0.01525497],\n",
       "        [0.59884338, 0.60380454, 0.10514769, 0.38194344, 0.03647606],\n",
       "        [0.89041156, 0.98092086, 0.05994199, 0.89054594, 0.5769015 ]]])"
      ]
     },
     "execution_count": 140,
     "metadata": {},
     "output_type": "execute_result"
    }
   ],
   "source": [
    "c"
   ]
  },
  {
   "cell_type": "code",
   "execution_count": 141,
   "id": "f295f412",
   "metadata": {},
   "outputs": [
    {
     "data": {
      "text/plain": [
       "array([[1, 0, 0, 1, 0],\n",
       "       [0, 1, 1, 0, 1],\n",
       "       [1, 0, 1, 0, 1],\n",
       "       [1, 0, 1, 0, 0]], dtype=int64)"
      ]
     },
     "execution_count": 141,
     "metadata": {},
     "output_type": "execute_result"
    }
   ],
   "source": [
    "agmn6 = c.argmin(axis=0)\n",
    "agmn6"
   ]
  },
  {
   "cell_type": "code",
   "execution_count": 142,
   "id": "f398ce19",
   "metadata": {},
   "outputs": [
    {
     "data": {
      "text/plain": [
       "array([[1, 2, 3, 2, 0],\n",
       "       [1, 1, 3, 0, 1]], dtype=int64)"
      ]
     },
     "execution_count": 142,
     "metadata": {},
     "output_type": "execute_result"
    }
   ],
   "source": [
    "agmn7 = c.argmin(axis=1)\n",
    "agmn7"
   ]
  },
  {
   "cell_type": "code",
   "execution_count": 143,
   "id": "18e21d65",
   "metadata": {},
   "outputs": [
    {
     "data": {
      "text/plain": [
       "array([[4, 0, 3, 2],\n",
       "       [4, 1, 4, 2]], dtype=int64)"
      ]
     },
     "execution_count": 143,
     "metadata": {},
     "output_type": "execute_result"
    }
   ],
   "source": [
    "agmn8 = c.argmin(axis=2)\n",
    "agmn8"
   ]
  },
  {
   "cell_type": "code",
   "execution_count": 144,
   "id": "38be3fb5",
   "metadata": {},
   "outputs": [
    {
     "ename": "TypeError",
     "evalue": "'tuple' object cannot be interpreted as an integer",
     "output_type": "error",
     "traceback": [
      "\u001b[1;31m---------------------------------------------------------------------------\u001b[0m",
      "\u001b[1;31mTypeError\u001b[0m                                 Traceback (most recent call last)",
      "Cell \u001b[1;32mIn[144], line 1\u001b[0m\n\u001b[1;32m----> 1\u001b[0m agmn9 \u001b[38;5;241m=\u001b[39m c\u001b[38;5;241m.\u001b[39margmin(axis\u001b[38;5;241m=\u001b[39m(\u001b[38;5;241m1\u001b[39m,\u001b[38;5;241m0\u001b[39m))\n\u001b[0;32m      2\u001b[0m agmn9\n",
      "\u001b[1;31mTypeError\u001b[0m: 'tuple' object cannot be interpreted as an integer"
     ]
    }
   ],
   "source": [
    "agmn9 = c.argmin(axis=(1,0))\n",
    "agmn9"
   ]
  },
  {
   "cell_type": "markdown",
   "id": "6fb8349e",
   "metadata": {},
   "source": [
    "## 10)`.sum()` Method:-"
   ]
  },
  {
   "cell_type": "code",
   "execution_count": 145,
   "id": "0d7e7606",
   "metadata": {},
   "outputs": [
    {
     "data": {
      "text/plain": [
       "55"
      ]
     },
     "execution_count": 145,
     "metadata": {},
     "output_type": "execute_result"
    }
   ],
   "source": [
    "sm1 = a.sum()\n",
    "sm1"
   ]
  },
  {
   "cell_type": "code",
   "execution_count": 146,
   "id": "3e48c98b",
   "metadata": {},
   "outputs": [
    {
     "data": {
      "text/plain": [
       "2214"
      ]
     },
     "execution_count": 146,
     "metadata": {},
     "output_type": "execute_result"
    }
   ],
   "source": [
    "sm2 = b.sum()\n",
    "sm2"
   ]
  },
  {
   "cell_type": "code",
   "execution_count": 147,
   "id": "5d4e6cdf",
   "metadata": {},
   "outputs": [
    {
     "data": {
      "text/plain": [
       "18.359938036289982"
      ]
     },
     "execution_count": 147,
     "metadata": {},
     "output_type": "execute_result"
    }
   ],
   "source": [
    "sm3 = c.sum()\n",
    "sm3"
   ]
  },
  {
   "cell_type": "code",
   "execution_count": 148,
   "id": "46b322ff",
   "metadata": {},
   "outputs": [
    {
     "data": {
      "text/plain": [
       "60"
      ]
     },
     "execution_count": 148,
     "metadata": {},
     "output_type": "execute_result"
    }
   ],
   "source": [
    "sm4 = a.sum(initial=5)\n",
    "sm4"
   ]
  },
  {
   "cell_type": "code",
   "execution_count": 149,
   "id": "5dfb08ed",
   "metadata": {},
   "outputs": [
    {
     "data": {
      "text/plain": [
       "319"
      ]
     },
     "execution_count": 149,
     "metadata": {},
     "output_type": "execute_result"
    }
   ],
   "source": [
    "ws1 = b % 11 == 0\n",
    "sm5 = b.sum(where=ws1)\n",
    "sm5"
   ]
  },
  {
   "cell_type": "code",
   "execution_count": 150,
   "id": "8c91373f",
   "metadata": {},
   "outputs": [
    {
     "data": {
      "text/plain": [
       "array([[ 11,   2,   3,  44,   5,   6,  77],\n",
       "       [ 21,  23,  43,  54,  66,   7,   0],\n",
       "       [  1,  44,  82,  36,  77,   9, 100],\n",
       "       [111, 444,  52,  16, 779,  91,  10]])"
      ]
     },
     "execution_count": 150,
     "metadata": {},
     "output_type": "execute_result"
    }
   ],
   "source": [
    "b"
   ]
  },
  {
   "cell_type": "code",
   "execution_count": 151,
   "id": "bcac5848",
   "metadata": {},
   "outputs": [
    {
     "data": {
      "text/plain": [
       "array([144, 513, 180, 150, 927, 113, 187])"
      ]
     },
     "execution_count": 151,
     "metadata": {},
     "output_type": "execute_result"
    }
   ],
   "source": [
    "sm6 = b.sum(axis=0)\n",
    "sm6"
   ]
  },
  {
   "cell_type": "code",
   "execution_count": 152,
   "id": "e340aa5d",
   "metadata": {},
   "outputs": [
    {
     "data": {
      "text/plain": [
       "array([ 148,  214,  349, 1503])"
      ]
     },
     "execution_count": 152,
     "metadata": {},
     "output_type": "execute_result"
    }
   ],
   "source": [
    "sm7 = b.sum(axis=1)\n",
    "sm7"
   ]
  },
  {
   "cell_type": "code",
   "execution_count": 153,
   "id": "f70c24aa",
   "metadata": {},
   "outputs": [
    {
     "data": {
      "text/plain": [
       "2214"
      ]
     },
     "execution_count": 153,
     "metadata": {},
     "output_type": "execute_result"
    }
   ],
   "source": [
    "sm8 = b.sum(axis=(0,1))\n",
    "sm8"
   ]
  },
  {
   "cell_type": "code",
   "execution_count": 154,
   "id": "a5b55ea1",
   "metadata": {},
   "outputs": [
    {
     "data": {
      "text/plain": [
       "array([ 11,  44,   0,  44, 143,   0,  77])"
      ]
     },
     "execution_count": 154,
     "metadata": {},
     "output_type": "execute_result"
    }
   ],
   "source": [
    "sm9 = b.sum(axis=0,where=ws1)\n",
    "sm9"
   ]
  },
  {
   "cell_type": "code",
   "execution_count": 155,
   "id": "0aa5de62",
   "metadata": {},
   "outputs": [
    {
     "data": {
      "text/plain": [
       "array([[[0.54340494, 0.27836939, 0.42451759, 0.84477613, 0.00471886],\n",
       "        [0.12156912, 0.67074908, 0.82585276, 0.13670659, 0.57509333],\n",
       "        [0.89132195, 0.20920212, 0.18532822, 0.10837689, 0.21969749],\n",
       "        [0.97862378, 0.81168315, 0.17194101, 0.81622475, 0.27407375]],\n",
       "\n",
       "       [[0.43170418, 0.94002982, 0.81764938, 0.33611195, 0.17541045],\n",
       "        [0.37283205, 0.00568851, 0.25242635, 0.79566251, 0.01525497],\n",
       "        [0.59884338, 0.60380454, 0.10514769, 0.38194344, 0.03647606],\n",
       "        [0.89041156, 0.98092086, 0.05994199, 0.89054594, 0.5769015 ]]])"
      ]
     },
     "execution_count": 155,
     "metadata": {},
     "output_type": "execute_result"
    }
   ],
   "source": [
    "c"
   ]
  },
  {
   "cell_type": "code",
   "execution_count": 156,
   "id": "9308bee6",
   "metadata": {},
   "outputs": [
    {
     "data": {
      "text/plain": [
       "array([[0.97510913, 1.2183992 , 1.24216697, 1.18088808, 0.18012931],\n",
       "       [0.49440117, 0.67643759, 1.07827911, 0.9323691 , 0.5903483 ],\n",
       "       [1.49016533, 0.81300666, 0.2904759 , 0.49032034, 0.25617355],\n",
       "       [1.86903535, 1.79260401, 0.231883  , 1.70677069, 0.85097525]])"
      ]
     },
     "execution_count": 156,
     "metadata": {},
     "output_type": "execute_result"
    }
   ],
   "source": [
    "sm10 = c.sum(axis=0)\n",
    "sm10"
   ]
  },
  {
   "cell_type": "code",
   "execution_count": 157,
   "id": "bfbbcbe5",
   "metadata": {},
   "outputs": [
    {
     "data": {
      "text/plain": [
       "array([[2.5349198 , 1.97000374, 1.60763958, 1.90608436, 1.07358343],\n",
       "       [2.29379117, 2.53044372, 1.23516541, 2.40426385, 0.80404298]])"
      ]
     },
     "execution_count": 157,
     "metadata": {},
     "output_type": "execute_result"
    }
   ],
   "source": [
    "sm11 = c.sum(axis=1)\n",
    "sm11"
   ]
  },
  {
   "cell_type": "code",
   "execution_count": 158,
   "id": "45cc4cd7",
   "metadata": {},
   "outputs": [
    {
     "data": {
      "text/plain": [
       "array([[2.09578691, 2.32997088, 1.61392668, 3.05254644],\n",
       "       [2.70090579, 1.44186439, 1.7262151 , 3.39872185]])"
      ]
     },
     "execution_count": 158,
     "metadata": {},
     "output_type": "execute_result"
    }
   ],
   "source": [
    "sm12 = c.sum(axis=2)\n",
    "sm12"
   ]
  },
  {
   "cell_type": "code",
   "execution_count": 159,
   "id": "b10a78b2",
   "metadata": {},
   "outputs": [
    {
     "data": {
      "text/plain": [
       "array([[[0.54340494, 0.27836939, 0.42451759, 0.84477613, 0.00471886],\n",
       "        [0.12156912, 0.67074908, 0.82585276, 0.13670659, 0.57509333],\n",
       "        [0.89132195, 0.20920212, 0.18532822, 0.10837689, 0.21969749],\n",
       "        [0.97862378, 0.81168315, 0.17194101, 0.81622475, 0.27407375]],\n",
       "\n",
       "       [[0.43170418, 0.94002982, 0.81764938, 0.33611195, 0.17541045],\n",
       "        [0.37283205, 0.00568851, 0.25242635, 0.79566251, 0.01525497],\n",
       "        [0.59884338, 0.60380454, 0.10514769, 0.38194344, 0.03647606],\n",
       "        [0.89041156, 0.98092086, 0.05994199, 0.89054594, 0.5769015 ]]])"
      ]
     },
     "execution_count": 159,
     "metadata": {},
     "output_type": "execute_result"
    }
   ],
   "source": [
    "c"
   ]
  },
  {
   "cell_type": "code",
   "execution_count": 160,
   "id": "1a0fb082",
   "metadata": {},
   "outputs": [
    {
     "data": {
      "text/plain": [
       "array([4.82871097, 4.50044746, 2.84280498, 4.31034821, 1.87762641])"
      ]
     },
     "execution_count": 160,
     "metadata": {},
     "output_type": "execute_result"
    }
   ],
   "source": [
    "sm13 = c.sum(axis=(0,1))\n",
    "sm13"
   ]
  },
  {
   "cell_type": "code",
   "execution_count": 161,
   "id": "e75b04d2",
   "metadata": {},
   "outputs": [
    {
     "data": {
      "text/plain": [
       "array([4.79669269, 3.77183527, 3.34014178, 6.4512683 ])"
      ]
     },
     "execution_count": 161,
     "metadata": {},
     "output_type": "execute_result"
    }
   ],
   "source": [
    "sm14 = c.sum(axis=(0,2))\n",
    "sm14"
   ]
  },
  {
   "cell_type": "code",
   "execution_count": 162,
   "id": "0facbd8a",
   "metadata": {},
   "outputs": [
    {
     "data": {
      "text/plain": [
       "array([9.09223091, 9.26770713])"
      ]
     },
     "execution_count": 162,
     "metadata": {},
     "output_type": "execute_result"
    }
   ],
   "source": [
    "sm15 = c.sum(axis=(1,2))\n",
    "sm15"
   ]
  },
  {
   "cell_type": "code",
   "execution_count": 163,
   "id": "5ec47235",
   "metadata": {},
   "outputs": [
    {
     "data": {
      "text/plain": [
       "18.359938036289982"
      ]
     },
     "execution_count": 163,
     "metadata": {},
     "output_type": "execute_result"
    }
   ],
   "source": [
    "sm16 = c.sum(axis=(0,1,2))\n",
    "sm16"
   ]
  },
  {
   "cell_type": "markdown",
   "id": "d376be5a",
   "metadata": {},
   "source": [
    "## 11)`.prod()` Method:-"
   ]
  },
  {
   "cell_type": "code",
   "execution_count": 164,
   "id": "b646e45b",
   "metadata": {},
   "outputs": [
    {
     "data": {
      "text/plain": [
       "array([7, 5, 6, 2, 9, 3, 5, 7, 9, 2])"
      ]
     },
     "execution_count": 164,
     "metadata": {},
     "output_type": "execute_result"
    }
   ],
   "source": [
    "a"
   ]
  },
  {
   "cell_type": "code",
   "execution_count": 165,
   "id": "3d73a049",
   "metadata": {},
   "outputs": [
    {
     "data": {
      "text/plain": [
       "7144200"
      ]
     },
     "execution_count": 165,
     "metadata": {},
     "output_type": "execute_result"
    }
   ],
   "source": [
    "pd1 = a.prod()\n",
    "pd1"
   ]
  },
  {
   "cell_type": "code",
   "execution_count": 166,
   "id": "699e39bc",
   "metadata": {},
   "outputs": [
    {
     "data": {
      "text/plain": [
       "0"
      ]
     },
     "execution_count": 166,
     "metadata": {},
     "output_type": "execute_result"
    }
   ],
   "source": [
    "pd2 = b.prod()\n",
    "pd2"
   ]
  },
  {
   "cell_type": "code",
   "execution_count": 167,
   "id": "f040ff34",
   "metadata": {},
   "outputs": [
    {
     "data": {
      "text/plain": [
       "6.170879202991875e-23"
      ]
     },
     "execution_count": 167,
     "metadata": {},
     "output_type": "execute_result"
    }
   ],
   "source": [
    "pd3 = c.prod()\n",
    "pd3"
   ]
  },
  {
   "cell_type": "code",
   "execution_count": 168,
   "id": "01533cb5",
   "metadata": {},
   "outputs": [
    {
     "data": {
      "text/plain": [
       "14288400"
      ]
     },
     "execution_count": 168,
     "metadata": {},
     "output_type": "execute_result"
    }
   ],
   "source": [
    "pd4 = a.prod(initial=2)\n",
    "pd4 "
   ]
  },
  {
   "cell_type": "code",
   "execution_count": 169,
   "id": "9e57241d",
   "metadata": {},
   "outputs": [
    {
     "data": {
      "text/plain": [
       "1902247936"
      ]
     },
     "execution_count": 169,
     "metadata": {},
     "output_type": "execute_result"
    }
   ],
   "source": [
    "wp1 = b % 11 !=0 \n",
    "pd5 = b.prod(where=wp1)\n",
    "pd5"
   ]
  },
  {
   "cell_type": "code",
   "execution_count": 170,
   "id": "92355b56",
   "metadata": {},
   "outputs": [
    {
     "data": {
      "text/plain": [
       "array([[ 11,   2,   3,  44,   5,   6,  77],\n",
       "       [ 21,  23,  43,  54,  66,   7,   0],\n",
       "       [  1,  44,  82,  36,  77,   9, 100],\n",
       "       [111, 444,  52,  16, 779,  91,  10]])"
      ]
     },
     "execution_count": 170,
     "metadata": {},
     "output_type": "execute_result"
    }
   ],
   "source": [
    "b"
   ]
  },
  {
   "cell_type": "code",
   "execution_count": 171,
   "id": "b70b13ca",
   "metadata": {},
   "outputs": [
    {
     "data": {
      "text/plain": [
       "array([   25641,   898656,   550056,  1368576, 19794390,    34398,\n",
       "              0])"
      ]
     },
     "execution_count": 171,
     "metadata": {},
     "output_type": "execute_result"
    }
   ],
   "source": [
    "pd6 = b.prod(axis=0)\n",
    "pd6"
   ]
  },
  {
   "cell_type": "code",
   "execution_count": 172,
   "id": "fe51137e",
   "metadata": {},
   "outputs": [
    {
     "data": {
      "text/plain": [
       "array([   6708240,          0,  411303808, -808939008])"
      ]
     },
     "execution_count": 172,
     "metadata": {},
     "output_type": "execute_result"
    }
   ],
   "source": [
    "pd7 = b.prod(axis=1)\n",
    "pd7"
   ]
  },
  {
   "cell_type": "code",
   "execution_count": 173,
   "id": "33d243b8",
   "metadata": {},
   "outputs": [
    {
     "data": {
      "text/plain": [
       "0"
      ]
     },
     "execution_count": 173,
     "metadata": {},
     "output_type": "execute_result"
    }
   ],
   "source": [
    "pd8 = b.prod(axis=(0,1))\n",
    "pd8"
   ]
  },
  {
   "cell_type": "code",
   "execution_count": 174,
   "id": "9518f672",
   "metadata": {},
   "outputs": [
    {
     "data": {
      "text/plain": [
       "array([       180,    7850682,    2656800, -808939008])"
      ]
     },
     "execution_count": 174,
     "metadata": {},
     "output_type": "execute_result"
    }
   ],
   "source": [
    "pd9 = b.prod(axis=1,where=wp1)\n",
    "pd9"
   ]
  },
  {
   "cell_type": "code",
   "execution_count": 175,
   "id": "2140417b",
   "metadata": {},
   "outputs": [
    {
     "data": {
      "text/plain": [
       "array([[[0.54340494, 0.27836939, 0.42451759, 0.84477613, 0.00471886],\n",
       "        [0.12156912, 0.67074908, 0.82585276, 0.13670659, 0.57509333],\n",
       "        [0.89132195, 0.20920212, 0.18532822, 0.10837689, 0.21969749],\n",
       "        [0.97862378, 0.81168315, 0.17194101, 0.81622475, 0.27407375]],\n",
       "\n",
       "       [[0.43170418, 0.94002982, 0.81764938, 0.33611195, 0.17541045],\n",
       "        [0.37283205, 0.00568851, 0.25242635, 0.79566251, 0.01525497],\n",
       "        [0.59884338, 0.60380454, 0.10514769, 0.38194344, 0.03647606],\n",
       "        [0.89041156, 0.98092086, 0.05994199, 0.89054594, 0.5769015 ]]])"
      ]
     },
     "execution_count": 175,
     "metadata": {},
     "output_type": "execute_result"
    }
   ],
   "source": [
    "c"
   ]
  },
  {
   "cell_type": "code",
   "execution_count": 176,
   "id": "acbd3511",
   "metadata": {},
   "outputs": [
    {
     "data": {
      "text/plain": [
       "array([[2.34590187e-01, 2.61675523e-01, 3.47106544e-01, 2.83939353e-01,\n",
       "        8.27736706e-04],\n",
       "       [4.53248641e-02, 3.81556110e-03, 2.08466999e-01, 1.08772308e-01,\n",
       "        8.77303220e-03],\n",
       "       [5.33762249e-01, 1.26317191e-01, 1.94868333e-02, 4.13938429e-02,\n",
       "        8.01369817e-03],\n",
       "       [8.71377934e-01, 7.96196930e-01, 1.03064863e-02, 7.26885640e-01,\n",
       "        1.58113556e-01]])"
      ]
     },
     "execution_count": 176,
     "metadata": {},
     "output_type": "execute_result"
    }
   ],
   "source": [
    "pd10 = c.prod(axis=0)\n",
    "pd10"
   ]
  },
  {
   "cell_type": "code",
   "execution_count": 177,
   "id": "a3bf1f3b",
   "metadata": {},
   "outputs": [
    {
     "data": {
      "text/plain": [
       "array([[5.76231811e-02, 3.17054685e-02, 1.11717021e-02, 1.02159211e-02,\n",
       "        1.63405854e-04],\n",
       "       [8.58229689e-02, 3.16716214e-03, 1.30086632e-03, 9.09637256e-02,\n",
       "        5.63088184e-05]])"
      ]
     },
     "execution_count": 177,
     "metadata": {},
     "output_type": "execute_result"
    }
   ],
   "source": [
    "pd11 = c.prod(axis=1)\n",
    "pd11"
   ]
  },
  {
   "cell_type": "code",
   "execution_count": 178,
   "id": "0e061bc9",
   "metadata": {},
   "outputs": [
    {
     "data": {
      "text/plain": [
       "array([[2.55987714e-04, 5.29436363e-03, 8.22818466e-04, 3.05533597e-02],\n",
       "       [1.95629536e-02, 6.49810223e-06, 5.29683303e-04, 2.68976233e-02]])"
      ]
     },
     "execution_count": 178,
     "metadata": {},
     "output_type": "execute_result"
    }
   ],
   "source": [
    "pd12 = c.prod(axis=2)\n",
    "pd12"
   ]
  },
  {
   "cell_type": "code",
   "execution_count": 179,
   "id": "f86aa6fe",
   "metadata": {},
   "outputs": [
    {
     "data": {
      "text/plain": [
       "array([4.94539248e-03, 1.00416359e-04, 1.45328910e-05, 9.29278243e-04,\n",
       "       9.20119054e-09])"
      ]
     },
     "execution_count": 179,
     "metadata": {},
     "output_type": "execute_result"
    }
   ],
   "source": [
    "pd13 = c.prod(axis=(0,1))\n",
    "pd13"
   ]
  },
  {
   "cell_type": "code",
   "execution_count": 180,
   "id": "6945c437",
   "metadata": {},
   "outputs": [
    {
     "data": {
      "text/plain": [
       "array([5.00787577e-06, 3.44033161e-08, 4.35833203e-07, 8.21812760e-04])"
      ]
     },
     "execution_count": 180,
     "metadata": {},
     "output_type": "execute_result"
    }
   ],
   "source": [
    "pd14 = c.prod(axis=(0,2))\n",
    "pd14"
   ]
  },
  {
   "cell_type": "code",
   "execution_count": 181,
   "id": "8b779832",
   "metadata": {},
   "outputs": [
    {
     "data": {
      "text/plain": [
       "array([3.40718638e-11, 1.81113638e-12])"
      ]
     },
     "execution_count": 181,
     "metadata": {},
     "output_type": "execute_result"
    }
   ],
   "source": [
    "pd15 = c.prod(axis=(1,2))\n",
    "pd15"
   ]
  },
  {
   "cell_type": "code",
   "execution_count": 182,
   "id": "42965dab",
   "metadata": {},
   "outputs": [
    {
     "data": {
      "text/plain": [
       "6.170879202991875e-23"
      ]
     },
     "execution_count": 182,
     "metadata": {},
     "output_type": "execute_result"
    }
   ],
   "source": [
    "pd16 = c.prod(axis=(0,1,2))\n",
    "pd16"
   ]
  },
  {
   "cell_type": "markdown",
   "id": "2cf8cd15",
   "metadata": {},
   "source": [
    "## 12)`.cumsum()` Method:-"
   ]
  },
  {
   "cell_type": "code",
   "execution_count": 183,
   "id": "35dd8b61",
   "metadata": {},
   "outputs": [
    {
     "data": {
      "text/plain": [
       "array([7, 5, 6, 2, 9, 3, 5, 7, 9, 2])"
      ]
     },
     "execution_count": 183,
     "metadata": {},
     "output_type": "execute_result"
    }
   ],
   "source": [
    "a"
   ]
  },
  {
   "cell_type": "code",
   "execution_count": 184,
   "id": "2964f8c9",
   "metadata": {},
   "outputs": [
    {
     "data": {
      "text/plain": [
       "array([ 7, 12, 18, 20, 29, 32, 37, 44, 53, 55])"
      ]
     },
     "execution_count": 184,
     "metadata": {},
     "output_type": "execute_result"
    }
   ],
   "source": [
    "csm1 = a.cumsum()\n",
    "csm1"
   ]
  },
  {
   "cell_type": "code",
   "execution_count": 185,
   "id": "858412dc",
   "metadata": {},
   "outputs": [
    {
     "data": {
      "text/plain": [
       "array([  11,   13,   16,   60,   65,   71,  148,  169,  192,  235,  289,\n",
       "        355,  362,  362,  363,  407,  489,  525,  602,  611,  711,  822,\n",
       "       1266, 1318, 1334, 2113, 2204, 2214])"
      ]
     },
     "execution_count": 185,
     "metadata": {},
     "output_type": "execute_result"
    }
   ],
   "source": [
    "csm2 = b.cumsum()\n",
    "csm2"
   ]
  },
  {
   "cell_type": "code",
   "execution_count": 186,
   "id": "99ff2933",
   "metadata": {},
   "outputs": [
    {
     "data": {
      "text/plain": [
       "array([ 0.54340494,  0.82177433,  1.24629192,  2.09106805,  2.09578691,\n",
       "        2.21735603,  2.88810511,  3.71395787,  3.85066446,  4.42575779,\n",
       "        5.31707974,  5.52628186,  5.71161008,  5.81998697,  6.03968446,\n",
       "        7.01830825,  7.8299914 ,  8.00193241,  8.81815716,  9.09223091,\n",
       "        9.52393509, 10.46396491, 11.28161429, 11.61772624, 11.79313669,\n",
       "       12.16596874, 12.17165725, 12.4240836 , 13.21974611, 13.23500108,\n",
       "       13.83384446, 14.437649  , 14.54279668, 14.92474013, 14.96121618,\n",
       "       15.85162775, 16.8325486 , 16.89249059, 17.78303654, 18.35993804])"
      ]
     },
     "execution_count": 186,
     "metadata": {},
     "output_type": "execute_result"
    }
   ],
   "source": [
    "csm3 = c.cumsum()\n",
    "csm3"
   ]
  },
  {
   "cell_type": "code",
   "execution_count": 187,
   "id": "ea4636f1",
   "metadata": {},
   "outputs": [
    {
     "data": {
      "text/plain": [
       "array([[ 11,   2,   3,  44,   5,   6,  77],\n",
       "       [ 21,  23,  43,  54,  66,   7,   0],\n",
       "       [  1,  44,  82,  36,  77,   9, 100],\n",
       "       [111, 444,  52,  16, 779,  91,  10]])"
      ]
     },
     "execution_count": 187,
     "metadata": {},
     "output_type": "execute_result"
    }
   ],
   "source": [
    "b"
   ]
  },
  {
   "cell_type": "code",
   "execution_count": 188,
   "id": "3bff1f2d",
   "metadata": {},
   "outputs": [
    {
     "data": {
      "text/plain": [
       "array([[ 11,   2,   3,  44,   5,   6,  77],\n",
       "       [ 32,  25,  46,  98,  71,  13,  77],\n",
       "       [ 33,  69, 128, 134, 148,  22, 177],\n",
       "       [144, 513, 180, 150, 927, 113, 187]])"
      ]
     },
     "execution_count": 188,
     "metadata": {},
     "output_type": "execute_result"
    }
   ],
   "source": [
    "csm4 = b.cumsum(axis=0)\n",
    "csm4"
   ]
  },
  {
   "cell_type": "code",
   "execution_count": 189,
   "id": "68d4ba75",
   "metadata": {},
   "outputs": [
    {
     "data": {
      "text/plain": [
       "array([[  11,   13,   16,   60,   65,   71,  148],\n",
       "       [  21,   44,   87,  141,  207,  214,  214],\n",
       "       [   1,   45,  127,  163,  240,  249,  349],\n",
       "       [ 111,  555,  607,  623, 1402, 1493, 1503]])"
      ]
     },
     "execution_count": 189,
     "metadata": {},
     "output_type": "execute_result"
    }
   ],
   "source": [
    "csm5 = b.cumsum(axis=1)\n",
    "csm5"
   ]
  },
  {
   "cell_type": "code",
   "execution_count": 190,
   "id": "1827017a",
   "metadata": {},
   "outputs": [
    {
     "ename": "TypeError",
     "evalue": "'tuple' object cannot be interpreted as an integer",
     "output_type": "error",
     "traceback": [
      "\u001b[1;31m---------------------------------------------------------------------------\u001b[0m",
      "\u001b[1;31mTypeError\u001b[0m                                 Traceback (most recent call last)",
      "Cell \u001b[1;32mIn[190], line 1\u001b[0m\n\u001b[1;32m----> 1\u001b[0m csm6 \u001b[38;5;241m=\u001b[39m b\u001b[38;5;241m.\u001b[39mcumsum(axis\u001b[38;5;241m=\u001b[39m(\u001b[38;5;241m0\u001b[39m,\u001b[38;5;241m1\u001b[39m))\n\u001b[0;32m      2\u001b[0m csm6\n",
      "\u001b[1;31mTypeError\u001b[0m: 'tuple' object cannot be interpreted as an integer"
     ]
    }
   ],
   "source": [
    "csm6 = b.cumsum(axis=(0,1))\n",
    "csm6"
   ]
  },
  {
   "cell_type": "code",
   "execution_count": 191,
   "id": "26d9e20a",
   "metadata": {},
   "outputs": [
    {
     "data": {
      "text/plain": [
       "array([[[0.54340494, 0.27836939, 0.42451759, 0.84477613, 0.00471886],\n",
       "        [0.12156912, 0.67074908, 0.82585276, 0.13670659, 0.57509333],\n",
       "        [0.89132195, 0.20920212, 0.18532822, 0.10837689, 0.21969749],\n",
       "        [0.97862378, 0.81168315, 0.17194101, 0.81622475, 0.27407375]],\n",
       "\n",
       "       [[0.43170418, 0.94002982, 0.81764938, 0.33611195, 0.17541045],\n",
       "        [0.37283205, 0.00568851, 0.25242635, 0.79566251, 0.01525497],\n",
       "        [0.59884338, 0.60380454, 0.10514769, 0.38194344, 0.03647606],\n",
       "        [0.89041156, 0.98092086, 0.05994199, 0.89054594, 0.5769015 ]]])"
      ]
     },
     "execution_count": 191,
     "metadata": {},
     "output_type": "execute_result"
    }
   ],
   "source": [
    "c"
   ]
  },
  {
   "cell_type": "code",
   "execution_count": 192,
   "id": "ab6994c0",
   "metadata": {},
   "outputs": [
    {
     "data": {
      "text/plain": [
       "array([[[0.54340494, 0.27836939, 0.42451759, 0.84477613, 0.00471886],\n",
       "        [0.12156912, 0.67074908, 0.82585276, 0.13670659, 0.57509333],\n",
       "        [0.89132195, 0.20920212, 0.18532822, 0.10837689, 0.21969749],\n",
       "        [0.97862378, 0.81168315, 0.17194101, 0.81622475, 0.27407375]],\n",
       "\n",
       "       [[0.97510913, 1.2183992 , 1.24216697, 1.18088808, 0.18012931],\n",
       "        [0.49440117, 0.67643759, 1.07827911, 0.9323691 , 0.5903483 ],\n",
       "        [1.49016533, 0.81300666, 0.2904759 , 0.49032034, 0.25617355],\n",
       "        [1.86903535, 1.79260401, 0.231883  , 1.70677069, 0.85097525]]])"
      ]
     },
     "execution_count": 192,
     "metadata": {},
     "output_type": "execute_result"
    }
   ],
   "source": [
    "csm7 = c.cumsum(axis=0)\n",
    "csm7"
   ]
  },
  {
   "cell_type": "code",
   "execution_count": 193,
   "id": "ad46f1ae",
   "metadata": {},
   "outputs": [
    {
     "data": {
      "text/plain": [
       "array([[[0.54340494, 0.27836939, 0.42451759, 0.84477613, 0.00471886],\n",
       "        [0.66497406, 0.94911847, 1.25037035, 0.98148272, 0.57981219],\n",
       "        [1.55629602, 1.15832059, 1.43569857, 1.08985961, 0.79950968],\n",
       "        [2.5349198 , 1.97000374, 1.60763958, 1.90608436, 1.07358343]],\n",
       "\n",
       "       [[0.43170418, 0.94002982, 0.81764938, 0.33611195, 0.17541045],\n",
       "        [0.80453623, 0.94571833, 1.07007573, 1.13177446, 0.19066542],\n",
       "        [1.40337961, 1.54952287, 1.17522342, 1.5137179 , 0.22714148],\n",
       "        [2.29379117, 2.53044372, 1.23516541, 2.40426385, 0.80404298]]])"
      ]
     },
     "execution_count": 193,
     "metadata": {},
     "output_type": "execute_result"
    }
   ],
   "source": [
    "csm8 = c.cumsum(axis=1)\n",
    "csm8"
   ]
  },
  {
   "cell_type": "code",
   "execution_count": 194,
   "id": "eb5fb8c9",
   "metadata": {},
   "outputs": [
    {
     "data": {
      "text/plain": [
       "array([[[0.54340494, 0.82177433, 1.24629192, 2.09106805, 2.09578691],\n",
       "        [0.12156912, 0.79231821, 1.61817096, 1.75487755, 2.32997088],\n",
       "        [0.89132195, 1.10052408, 1.2858523 , 1.39422919, 1.61392668],\n",
       "        [0.97862378, 1.79030693, 1.96224795, 2.7784727 , 3.05254644]],\n",
       "\n",
       "       [[0.43170418, 1.371734  , 2.18938338, 2.52549533, 2.70090579],\n",
       "        [0.37283205, 0.37852055, 0.63094691, 1.42660942, 1.44186439],\n",
       "        [0.59884338, 1.20264792, 1.3077956 , 1.68973905, 1.7262151 ],\n",
       "        [0.89041156, 1.87133242, 1.93127441, 2.82182035, 3.39872185]]])"
      ]
     },
     "execution_count": 194,
     "metadata": {},
     "output_type": "execute_result"
    }
   ],
   "source": [
    "csm9 = c.cumsum(axis=2)\n",
    "csm9"
   ]
  },
  {
   "cell_type": "code",
   "execution_count": 195,
   "id": "fe433a8d",
   "metadata": {},
   "outputs": [
    {
     "ename": "TypeError",
     "evalue": "'tuple' object cannot be interpreted as an integer",
     "output_type": "error",
     "traceback": [
      "\u001b[1;31m---------------------------------------------------------------------------\u001b[0m",
      "\u001b[1;31mTypeError\u001b[0m                                 Traceback (most recent call last)",
      "Cell \u001b[1;32mIn[195], line 1\u001b[0m\n\u001b[1;32m----> 1\u001b[0m csm10 \u001b[38;5;241m=\u001b[39m c\u001b[38;5;241m.\u001b[39mcumsum(axis\u001b[38;5;241m=\u001b[39m(\u001b[38;5;241m0\u001b[39m,\u001b[38;5;241m1\u001b[39m))\n\u001b[0;32m      2\u001b[0m csm10\n",
      "\u001b[1;31mTypeError\u001b[0m: 'tuple' object cannot be interpreted as an integer"
     ]
    }
   ],
   "source": [
    "csm10 = c.cumsum(axis=(0,1))\n",
    "csm10"
   ]
  },
  {
   "cell_type": "markdown",
   "id": "73983dee",
   "metadata": {},
   "source": [
    "## 13)`.cumprod()` Method:-"
   ]
  },
  {
   "cell_type": "code",
   "execution_count": 196,
   "id": "0c179ba0",
   "metadata": {},
   "outputs": [
    {
     "data": {
      "text/plain": [
       "array([7, 5, 6, 2, 9, 3, 5, 7, 9, 2])"
      ]
     },
     "execution_count": 196,
     "metadata": {},
     "output_type": "execute_result"
    }
   ],
   "source": [
    "a"
   ]
  },
  {
   "cell_type": "code",
   "execution_count": 197,
   "id": "f95da4be",
   "metadata": {},
   "outputs": [
    {
     "data": {
      "text/plain": [
       "array([      7,      35,     210,     420,    3780,   11340,   56700,\n",
       "        396900, 3572100, 7144200])"
      ]
     },
     "execution_count": 197,
     "metadata": {},
     "output_type": "execute_result"
    }
   ],
   "source": [
    "cpd1 = a.cumprod()\n",
    "cpd1"
   ]
  },
  {
   "cell_type": "code",
   "execution_count": 198,
   "id": "b3707fec",
   "metadata": {},
   "outputs": [
    {
     "data": {
      "text/plain": [
       "array([         11,          22,          66,        2904,       14520,\n",
       "             87120,     6708240,   140873040, -1054887376,  1884483088,\n",
       "       -1317128352, -1031125312,  1372057408,           0,           0,\n",
       "                 0,           0,           0,           0,           0,\n",
       "                 0,           0,           0,           0,           0,\n",
       "                 0,           0,           0])"
      ]
     },
     "execution_count": 198,
     "metadata": {},
     "output_type": "execute_result"
    }
   ],
   "source": [
    "cpd2 = b.cumprod()\n",
    "cpd2"
   ]
  },
  {
   "cell_type": "code",
   "execution_count": 199,
   "id": "23859734",
   "metadata": {},
   "outputs": [
    {
     "data": {
      "text/plain": [
       "array([5.43404942e-01, 1.51267300e-01, 6.42156295e-02, 5.42478312e-02,\n",
       "       2.55987714e-04, 3.11202013e-05, 2.08738465e-05, 1.72387237e-05,\n",
       "       2.35664712e-06, 1.35529204e-06, 1.20800155e-06, 2.52716488e-07,\n",
       "       4.68354968e-08, 5.07588550e-09, 1.11515932e-09, 1.09132143e-09,\n",
       "       8.85807217e-10, 1.52306590e-10, 1.24316408e-10, 3.40718638e-11,\n",
       "       1.47089661e-11, 1.38268668e-11, 1.13055290e-11, 3.79992341e-12,\n",
       "       6.66546290e-13, 2.48509817e-13, 1.41364992e-15, 3.56842495e-16,\n",
       "       2.83926195e-16, 4.33128594e-18, 2.59376190e-18, 1.56612521e-18,\n",
       "       1.64674441e-19, 6.28963231e-20, 2.29420984e-21, 2.04279097e-21,\n",
       "       2.00381627e-21, 1.20112732e-22, 1.06965907e-22, 6.17087920e-23])"
      ]
     },
     "execution_count": 199,
     "metadata": {},
     "output_type": "execute_result"
    }
   ],
   "source": [
    "cpd3 = c.cumprod()\n",
    "cpd3"
   ]
  },
  {
   "cell_type": "code",
   "execution_count": 200,
   "id": "c5862614",
   "metadata": {},
   "outputs": [
    {
     "data": {
      "text/plain": [
       "array([[ 11,   2,   3,  44,   5,   6,  77],\n",
       "       [ 21,  23,  43,  54,  66,   7,   0],\n",
       "       [  1,  44,  82,  36,  77,   9, 100],\n",
       "       [111, 444,  52,  16, 779,  91,  10]])"
      ]
     },
     "execution_count": 200,
     "metadata": {},
     "output_type": "execute_result"
    }
   ],
   "source": [
    "b"
   ]
  },
  {
   "cell_type": "code",
   "execution_count": 201,
   "id": "1181145a",
   "metadata": {},
   "outputs": [
    {
     "data": {
      "text/plain": [
       "array([[      11,        2,        3,       44,        5,        6,\n",
       "              77],\n",
       "       [     231,       46,      129,     2376,      330,       42,\n",
       "               0],\n",
       "       [     231,     2024,    10578,    85536,    25410,      378,\n",
       "               0],\n",
       "       [   25641,   898656,   550056,  1368576, 19794390,    34398,\n",
       "               0]])"
      ]
     },
     "execution_count": 201,
     "metadata": {},
     "output_type": "execute_result"
    }
   ],
   "source": [
    "cpd4 = b.cumprod(axis=0)\n",
    "cpd4"
   ]
  },
  {
   "cell_type": "code",
   "execution_count": 202,
   "id": "6207888d",
   "metadata": {},
   "outputs": [
    {
     "data": {
      "text/plain": [
       "array([[        11,         22,         66,       2904,      14520,\n",
       "             87120,    6708240],\n",
       "       [        21,        483,      20769,    1121526,   74020716,\n",
       "         518145012,          0],\n",
       "       [         1,         44,       3608,     129888,   10001376,\n",
       "          90012384,  411303808],\n",
       "       [       111,      49284,    2562768,   41004288, 1877569280,\n",
       "        -939887360, -808939008]])"
      ]
     },
     "execution_count": 202,
     "metadata": {},
     "output_type": "execute_result"
    }
   ],
   "source": [
    "cpd5 = b.cumprod(axis=1)\n",
    "cpd5"
   ]
  },
  {
   "cell_type": "code",
   "execution_count": 203,
   "id": "ccf4c248",
   "metadata": {},
   "outputs": [
    {
     "ename": "TypeError",
     "evalue": "'tuple' object cannot be interpreted as an integer",
     "output_type": "error",
     "traceback": [
      "\u001b[1;31m---------------------------------------------------------------------------\u001b[0m",
      "\u001b[1;31mTypeError\u001b[0m                                 Traceback (most recent call last)",
      "Cell \u001b[1;32mIn[203], line 1\u001b[0m\n\u001b[1;32m----> 1\u001b[0m cpd6 \u001b[38;5;241m=\u001b[39m b\u001b[38;5;241m.\u001b[39mcumprod(axis\u001b[38;5;241m=\u001b[39m(\u001b[38;5;241m0\u001b[39m,\u001b[38;5;241m1\u001b[39m))\n\u001b[0;32m      2\u001b[0m cpd6\n",
      "\u001b[1;31mTypeError\u001b[0m: 'tuple' object cannot be interpreted as an integer"
     ]
    }
   ],
   "source": [
    "cpd6 = b.cumprod(axis=(0,1))\n",
    "cpd6"
   ]
  },
  {
   "cell_type": "code",
   "execution_count": 204,
   "id": "5b521b8e",
   "metadata": {},
   "outputs": [
    {
     "data": {
      "text/plain": [
       "array([[[0.54340494, 0.27836939, 0.42451759, 0.84477613, 0.00471886],\n",
       "        [0.12156912, 0.67074908, 0.82585276, 0.13670659, 0.57509333],\n",
       "        [0.89132195, 0.20920212, 0.18532822, 0.10837689, 0.21969749],\n",
       "        [0.97862378, 0.81168315, 0.17194101, 0.81622475, 0.27407375]],\n",
       "\n",
       "       [[0.43170418, 0.94002982, 0.81764938, 0.33611195, 0.17541045],\n",
       "        [0.37283205, 0.00568851, 0.25242635, 0.79566251, 0.01525497],\n",
       "        [0.59884338, 0.60380454, 0.10514769, 0.38194344, 0.03647606],\n",
       "        [0.89041156, 0.98092086, 0.05994199, 0.89054594, 0.5769015 ]]])"
      ]
     },
     "execution_count": 204,
     "metadata": {},
     "output_type": "execute_result"
    }
   ],
   "source": [
    "c"
   ]
  },
  {
   "cell_type": "code",
   "execution_count": 205,
   "id": "b4047e49",
   "metadata": {},
   "outputs": [
    {
     "data": {
      "text/plain": [
       "array([[[5.43404942e-01, 2.78369385e-01, 4.24517591e-01, 8.44776132e-01,\n",
       "         4.71885619e-03],\n",
       "        [1.21569121e-01, 6.70749085e-01, 8.25852755e-01, 1.36706590e-01,\n",
       "         5.75093329e-01],\n",
       "        [8.91321954e-01, 2.09202122e-01, 1.85328220e-01, 1.08376890e-01,\n",
       "         2.19697493e-01],\n",
       "        [9.78623785e-01, 8.11683149e-01, 1.71941013e-01, 8.16224749e-01,\n",
       "         2.74073747e-01]],\n",
       "\n",
       "       [[2.34590187e-01, 2.61675523e-01, 3.47106544e-01, 2.83939353e-01,\n",
       "         8.27736706e-04],\n",
       "        [4.53248641e-02, 3.81556110e-03, 2.08466999e-01, 1.08772308e-01,\n",
       "         8.77303220e-03],\n",
       "        [5.33762249e-01, 1.26317191e-01, 1.94868333e-02, 4.13938429e-02,\n",
       "         8.01369817e-03],\n",
       "        [8.71377934e-01, 7.96196930e-01, 1.03064863e-02, 7.26885640e-01,\n",
       "         1.58113556e-01]]])"
      ]
     },
     "execution_count": 205,
     "metadata": {},
     "output_type": "execute_result"
    }
   ],
   "source": [
    "cpd7 = c.cumprod(axis=0)\n",
    "cpd7"
   ]
  },
  {
   "cell_type": "code",
   "execution_count": 206,
   "id": "9c593cd2",
   "metadata": {},
   "outputs": [
    {
     "data": {
      "text/plain": [
       "array([[[5.43404942e-01, 2.78369385e-01, 4.24517591e-01, 8.44776132e-01,\n",
       "         4.71885619e-03],\n",
       "        [6.60612610e-02, 1.86716010e-01, 3.50589022e-01, 1.15486464e-01,\n",
       "         2.71378272e-03],\n",
       "        [5.88818523e-02, 3.90613856e-02, 6.49740392e-02, 1.25160639e-02,\n",
       "         5.96211259e-04],\n",
       "        [5.76231811e-02, 3.17054685e-02, 1.11717021e-02, 1.02159211e-02,\n",
       "         1.63405854e-04]],\n",
       "\n",
       "       [[4.31704184e-01, 9.40029820e-01, 8.17649379e-01, 3.36111950e-01,\n",
       "         1.75410454e-01],\n",
       "        [1.60953154e-01, 5.34736654e-03, 2.06396251e-01, 2.67431677e-01,\n",
       "         2.67588143e-03],\n",
       "        [9.63857304e-02, 3.22876419e-03, 2.17020881e-02, 1.02143776e-01,\n",
       "         9.76056024e-05],\n",
       "        [8.58229689e-02, 3.16716214e-03, 1.30086632e-03, 9.09637256e-02,\n",
       "         5.63088184e-05]]])"
      ]
     },
     "execution_count": 206,
     "metadata": {},
     "output_type": "execute_result"
    }
   ],
   "source": [
    "cpd8 = c.cumprod(axis=1)\n",
    "cpd8"
   ]
  },
  {
   "cell_type": "code",
   "execution_count": 207,
   "id": "fbff57f9",
   "metadata": {},
   "outputs": [
    {
     "data": {
      "text/plain": [
       "array([[[5.43404942e-01, 1.51267300e-01, 6.42156295e-02, 5.42478312e-02,\n",
       "         2.55987714e-04],\n",
       "        [1.21569121e-01, 8.15423765e-02, 6.73419963e-02, 9.20609466e-03,\n",
       "         5.29436363e-03],\n",
       "        [8.91321954e-01, 1.86466444e-01, 3.45574941e-02, 3.74523376e-03,\n",
       "         8.22818466e-04],\n",
       "        [9.78623785e-01, 7.94332435e-01, 1.36578323e-01, 1.11478608e-01,\n",
       "         3.05533597e-02]],\n",
       "\n",
       "       [[4.31704184e-01, 4.05814806e-01, 3.31814224e-01, 1.11526726e-01,\n",
       "         1.95629536e-02],\n",
       "        [3.72832046e-01, 2.12085784e-03, 5.35360410e-04, 4.25966207e-04,\n",
       "         6.49810223e-06],\n",
       "        [5.98843377e-01, 3.61584349e-01, 3.80197574e-02, 1.45213971e-02,\n",
       "         5.29683303e-04],\n",
       "        [8.90411563e-01, 8.73423274e-01, 5.23547281e-02, 4.66242908e-02,\n",
       "         2.68976233e-02]]])"
      ]
     },
     "execution_count": 207,
     "metadata": {},
     "output_type": "execute_result"
    }
   ],
   "source": [
    "cpd9 = c.cumprod(axis=2)\n",
    "cpd9"
   ]
  },
  {
   "cell_type": "code",
   "execution_count": 208,
   "id": "bc2c0e11",
   "metadata": {},
   "outputs": [
    {
     "ename": "TypeError",
     "evalue": "'tuple' object cannot be interpreted as an integer",
     "output_type": "error",
     "traceback": [
      "\u001b[1;31m---------------------------------------------------------------------------\u001b[0m",
      "\u001b[1;31mTypeError\u001b[0m                                 Traceback (most recent call last)",
      "Cell \u001b[1;32mIn[208], line 1\u001b[0m\n\u001b[1;32m----> 1\u001b[0m cpd10 \u001b[38;5;241m=\u001b[39m c\u001b[38;5;241m.\u001b[39mcumprod(axis\u001b[38;5;241m=\u001b[39m(\u001b[38;5;241m0\u001b[39m,\u001b[38;5;241m1\u001b[39m))\n\u001b[0;32m      2\u001b[0m cpd10\n",
      "\u001b[1;31mTypeError\u001b[0m: 'tuple' object cannot be interpreted as an integer"
     ]
    }
   ],
   "source": [
    "cpd10 = c.cumprod(axis=(0,1))\n",
    "cpd10"
   ]
  },
  {
   "cell_type": "markdown",
   "id": "045ea28e",
   "metadata": {},
   "source": [
    "## 14)`.astype()` Method:-"
   ]
  },
  {
   "cell_type": "code",
   "execution_count": null,
   "id": "3746914f",
   "metadata": {},
   "outputs": [],
   "source": [
    "a,a.dtype"
   ]
  },
  {
   "cell_type": "code",
   "execution_count": null,
   "id": "201a893c",
   "metadata": {},
   "outputs": [],
   "source": [
    "a1 = a.astype(np.float32)\n",
    "a1"
   ]
  },
  {
   "cell_type": "code",
   "execution_count": null,
   "id": "73b41648",
   "metadata": {},
   "outputs": [],
   "source": [
    "b"
   ]
  },
  {
   "cell_type": "code",
   "execution_count": null,
   "id": "8c179981",
   "metadata": {},
   "outputs": [],
   "source": [
    "b1 = b.astype(str)\n",
    "b1"
   ]
  },
  {
   "cell_type": "code",
   "execution_count": null,
   "id": "503e1cd6",
   "metadata": {},
   "outputs": [],
   "source": []
  },
  {
   "cell_type": "code",
   "execution_count": null,
   "id": "7c2496f4",
   "metadata": {},
   "outputs": [],
   "source": []
  },
  {
   "cell_type": "code",
   "execution_count": null,
   "id": "4437b634",
   "metadata": {},
   "outputs": [],
   "source": []
  },
  {
   "cell_type": "code",
   "execution_count": null,
   "id": "2e0e56a0",
   "metadata": {},
   "outputs": [],
   "source": []
  },
  {
   "cell_type": "code",
   "execution_count": null,
   "id": "c78e54bc",
   "metadata": {},
   "outputs": [],
   "source": [
    "a[0]"
   ]
  },
  {
   "cell_type": "code",
   "execution_count": null,
   "id": "1af3a27e",
   "metadata": {},
   "outputs": [],
   "source": [
    "a"
   ]
  },
  {
   "cell_type": "code",
   "execution_count": null,
   "id": "daeda468",
   "metadata": {},
   "outputs": [],
   "source": [
    "a[-1]"
   ]
  },
  {
   "cell_type": "code",
   "execution_count": null,
   "id": "ff3b054d",
   "metadata": {},
   "outputs": [],
   "source": [
    "a[[1,2,3]]"
   ]
  },
  {
   "cell_type": "code",
   "execution_count": null,
   "id": "d7670b6f",
   "metadata": {},
   "outputs": [],
   "source": [
    "a[(1,3,5)]"
   ]
  },
  {
   "cell_type": "code",
   "execution_count": null,
   "id": "b1f11054",
   "metadata": {},
   "outputs": [],
   "source": [
    "a[[1,3,-3,-1]]"
   ]
  },
  {
   "cell_type": "code",
   "execution_count": null,
   "id": "f42445b5",
   "metadata": {},
   "outputs": [],
   "source": [
    "a[[True,False,True,False,True,False,True,False,True]]"
   ]
  },
  {
   "cell_type": "code",
   "execution_count": null,
   "id": "84b16cef",
   "metadata": {},
   "outputs": [],
   "source": [
    "b"
   ]
  },
  {
   "cell_type": "code",
   "execution_count": null,
   "id": "a2c6addc",
   "metadata": {},
   "outputs": [],
   "source": [
    "b[1,5]"
   ]
  },
  {
   "cell_type": "code",
   "execution_count": null,
   "id": "f6126438",
   "metadata": {},
   "outputs": [],
   "source": [
    "b[2,6]"
   ]
  },
  {
   "cell_type": "code",
   "execution_count": null,
   "id": "283bbd96",
   "metadata": {},
   "outputs": [],
   "source": [
    "b[2]"
   ]
  },
  {
   "cell_type": "code",
   "execution_count": null,
   "id": "68ca67c5",
   "metadata": {},
   "outputs": [],
   "source": [
    "b[1]"
   ]
  },
  {
   "cell_type": "code",
   "execution_count": null,
   "id": "e1ae8cf3",
   "metadata": {},
   "outputs": [],
   "source": [
    "b[-1,-1]"
   ]
  },
  {
   "cell_type": "code",
   "execution_count": null,
   "id": "ee1e3ebc",
   "metadata": {},
   "outputs": [],
   "source": [
    "b[-1]"
   ]
  },
  {
   "cell_type": "code",
   "execution_count": null,
   "id": "e5f6d011",
   "metadata": {},
   "outputs": [],
   "source": [
    "b[[[2,3],[1,1]]]"
   ]
  },
  {
   "cell_type": "code",
   "execution_count": null,
   "id": "78672140",
   "metadata": {},
   "outputs": [],
   "source": [
    "lst1 = [1,-1,-5,2]\n",
    "a[lst1]"
   ]
  },
  {
   "cell_type": "code",
   "execution_count": null,
   "id": "f98357fe",
   "metadata": {},
   "outputs": [],
   "source": [
    "b[2,3]"
   ]
  },
  {
   "cell_type": "code",
   "execution_count": null,
   "id": "06682b1f",
   "metadata": {},
   "outputs": [],
   "source": [
    "b[[1,2],[1,2]]"
   ]
  },
  {
   "cell_type": "code",
   "execution_count": null,
   "id": "c2d773c0",
   "metadata": {},
   "outputs": [],
   "source": [
    "b[[1,2]]"
   ]
  },
  {
   "cell_type": "code",
   "execution_count": null,
   "id": "f39d874c",
   "metadata": {},
   "outputs": [],
   "source": [
    "c"
   ]
  },
  {
   "cell_type": "code",
   "execution_count": null,
   "id": "aaaba949",
   "metadata": {},
   "outputs": [],
   "source": [
    "c[0,1,3]"
   ]
  },
  {
   "cell_type": "code",
   "execution_count": null,
   "id": "800b6244",
   "metadata": {},
   "outputs": [],
   "source": [
    "c[0]"
   ]
  },
  {
   "cell_type": "code",
   "execution_count": null,
   "id": "35c59d76",
   "metadata": {},
   "outputs": [],
   "source": [
    "c[0,1]"
   ]
  },
  {
   "cell_type": "code",
   "execution_count": null,
   "id": "8c2af2ce",
   "metadata": {},
   "outputs": [],
   "source": [
    "c[0,1][2]"
   ]
  },
  {
   "cell_type": "code",
   "execution_count": null,
   "id": "f3879f96",
   "metadata": {},
   "outputs": [],
   "source": [
    "c[0][1,4]"
   ]
  },
  {
   "cell_type": "code",
   "execution_count": null,
   "id": "30f0da09",
   "metadata": {},
   "outputs": [],
   "source": [
    "c[[0,1,1],[2,3,1],[2,3,2]]"
   ]
  },
  {
   "cell_type": "code",
   "execution_count": null,
   "id": "45dfe1c8",
   "metadata": {},
   "outputs": [],
   "source": [
    "a"
   ]
  },
  {
   "cell_type": "code",
   "execution_count": null,
   "id": "e3bb5b9b",
   "metadata": {},
   "outputs": [],
   "source": [
    "a[0:4]"
   ]
  },
  {
   "cell_type": "code",
   "execution_count": null,
   "id": "31016159",
   "metadata": {},
   "outputs": [],
   "source": [
    "a[-6:-1]"
   ]
  },
  {
   "cell_type": "code",
   "execution_count": null,
   "id": "01d1478d",
   "metadata": {},
   "outputs": [],
   "source": [
    "b"
   ]
  },
  {
   "cell_type": "code",
   "execution_count": null,
   "id": "1b5cddd3",
   "metadata": {},
   "outputs": [],
   "source": [
    "b[0:2,3:7]"
   ]
  },
  {
   "cell_type": "code",
   "execution_count": null,
   "id": "d3572a91",
   "metadata": {},
   "outputs": [],
   "source": [
    "b[:,-7:-2]"
   ]
  },
  {
   "cell_type": "code",
   "execution_count": null,
   "id": "6a417b8d",
   "metadata": {},
   "outputs": [],
   "source": [
    "b[0:2,0:7:2]"
   ]
  },
  {
   "cell_type": "code",
   "execution_count": null,
   "id": "8436fad3",
   "metadata": {},
   "outputs": [],
   "source": [
    "b[:,[1,5,6]]"
   ]
  },
  {
   "cell_type": "code",
   "execution_count": null,
   "id": "58af940a",
   "metadata": {},
   "outputs": [],
   "source": [
    "b[:,[0,1,2]]"
   ]
  },
  {
   "cell_type": "code",
   "execution_count": null,
   "id": "eb377177",
   "metadata": {},
   "outputs": [],
   "source": [
    "c"
   ]
  },
  {
   "cell_type": "code",
   "execution_count": null,
   "id": "97aa745f",
   "metadata": {},
   "outputs": [],
   "source": [
    "c[0:1,1:3,2:4]"
   ]
  },
  {
   "cell_type": "code",
   "execution_count": null,
   "id": "7fca3ff5",
   "metadata": {},
   "outputs": [],
   "source": [
    "c[0:2,:,1:3]"
   ]
  },
  {
   "cell_type": "code",
   "execution_count": null,
   "id": "0487a3d8",
   "metadata": {},
   "outputs": [],
   "source": [
    "c[0,:,[1,3,4]]"
   ]
  },
  {
   "cell_type": "code",
   "execution_count": null,
   "id": "86ea1191",
   "metadata": {},
   "outputs": [],
   "source": [
    "bt1"
   ]
  },
  {
   "cell_type": "code",
   "execution_count": null,
   "id": "29d023bf",
   "metadata": {},
   "outputs": [],
   "source": [
    "bt1[2,2]"
   ]
  },
  {
   "cell_type": "code",
   "execution_count": null,
   "id": "f7176e29",
   "metadata": {},
   "outputs": [],
   "source": [
    "type(bt1)"
   ]
  },
  {
   "cell_type": "code",
   "execution_count": null,
   "id": "3f41c764",
   "metadata": {},
   "outputs": [],
   "source": [
    "id(b)"
   ]
  },
  {
   "cell_type": "code",
   "execution_count": null,
   "id": "09d187b8",
   "metadata": {},
   "outputs": [],
   "source": [
    "id(bt1)"
   ]
  },
  {
   "cell_type": "code",
   "execution_count": null,
   "id": "8b26ef5d",
   "metadata": {},
   "outputs": [],
   "source": [
    "b"
   ]
  },
  {
   "cell_type": "code",
   "execution_count": null,
   "id": "c433adf2",
   "metadata": {},
   "outputs": [],
   "source": [
    "b.argmax()"
   ]
  },
  {
   "cell_type": "code",
   "execution_count": null,
   "id": "5bfa41e2",
   "metadata": {},
   "outputs": [],
   "source": [
    "b.argmax(keepdims=True)"
   ]
  },
  {
   "cell_type": "code",
   "execution_count": null,
   "id": "cef57840",
   "metadata": {},
   "outputs": [],
   "source": [
    "a1 = np.array([1,2,3,4,5,1,7,8,9,1])\n",
    "a1.argmin()"
   ]
  },
  {
   "cell_type": "code",
   "execution_count": null,
   "id": "8b07b3b2",
   "metadata": {},
   "outputs": [],
   "source": [
    "b1 = np.array([[9,9,9,9],[8,8,8,8],[7,7,7,7],[9,9,9,9]])\n",
    "b1"
   ]
  },
  {
   "cell_type": "code",
   "execution_count": null,
   "id": "d888d3d0",
   "metadata": {},
   "outputs": [],
   "source": [
    "b1.argmax(axis=0)"
   ]
  },
  {
   "cell_type": "code",
   "execution_count": null,
   "id": "91ac1d5e",
   "metadata": {},
   "outputs": [],
   "source": []
  }
 ],
 "metadata": {
  "kernelspec": {
   "display_name": "Python 3 (ipykernel)",
   "language": "python",
   "name": "python3"
  },
  "language_info": {
   "codemirror_mode": {
    "name": "ipython",
    "version": 3
   },
   "file_extension": ".py",
   "mimetype": "text/x-python",
   "name": "python",
   "nbconvert_exporter": "python",
   "pygments_lexer": "ipython3",
   "version": "3.11.3"
  }
 },
 "nbformat": 4,
 "nbformat_minor": 5
}
