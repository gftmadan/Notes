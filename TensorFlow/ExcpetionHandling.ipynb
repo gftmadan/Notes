{
 "cells": [
  {
   "cell_type": "code",
   "execution_count": 7,
   "id": "a97341ec",
   "metadata": {},
   "outputs": [
    {
     "name": "stdout",
     "output_type": "stream",
     "text": [
      "division by zero\n",
      "Traceback (most recent call last):\n",
      "  File \"C:\\Users\\pc\\AppData\\Local\\Temp\\ipykernel_28220\\847281644.py\", line 4, in <module>\n",
      "    num=190/0\n",
      "ZeroDivisionError: division by zero\n",
      "\n",
      "\n",
      "\n",
      "\n",
      "<traceback object at 0x0000020EF00D65C0>\n"
     ]
    }
   ],
   "source": [
    "import traceback\n",
    "import sys\n",
    "try:\n",
    "    num=190/0\n",
    "    list=[1,2,3,4,5]\n",
    "    print(a[100])\n",
    "except Exception as e:\n",
    "    print(e)\n",
    "    print(traceback.format_exc())\n",
    "    print(\"\\n\\n\")\n",
    "    print(sys.exc_info()[2])"
   ]
  },
  {
   "cell_type": "code",
   "execution_count": 16,
   "id": "5d4b270f",
   "metadata": {},
   "outputs": [
    {
     "name": "stdout",
     "output_type": "stream",
     "text": [
      "list index out of range\n",
      "(<class 'IndexError'>, IndexError('list index out of range'), <traceback object at 0x0000020EF012EB40>)\n",
      "division by zero\n",
      "(<class 'ZeroDivisionError'>, ZeroDivisionError('division by zero'), <traceback object at 0x0000020EF0107180>)\n"
     ]
    }
   ],
   "source": [
    "import traceback\n",
    "import sys\n",
    "try:\n",
    "    a=[1,2,3,4,5]\n",
    "    print(a[100])\n",
    "except Exception as e:\n",
    "    print(e)\n",
    "    exec_info = sys.exc_info()\n",
    "    print(exec_info)\n",
    "    del exec_info\n",
    "    \n",
    "try:\n",
    "    a = 190/0\n",
    "except Exception as e:\n",
    "    print(e)\n",
    "    exec_info = sys.exc_info()\n",
    "    print(exec_info)"
   ]
  },
  {
   "cell_type": "code",
   "execution_count": 17,
   "id": "c24c71ab",
   "metadata": {},
   "outputs": [
    {
     "name": "stdout",
     "output_type": "stream",
     "text": [
      "Exception Block\n"
     ]
    }
   ],
   "source": [
    "try:\n",
    "    a =190/0\n",
    "except Exception as e:\n",
    "    print(\"Exception Block\")\n",
    "except ZeroDivisionError as e1:\n",
    "    print(\"ZeroDivisionError Block\")"
   ]
  },
  {
   "cell_type": "code",
   "execution_count": 20,
   "id": "9b27f5b4",
   "metadata": {},
   "outputs": [
    {
     "name": "stdout",
     "output_type": "stream",
     "text": [
      "ZeroDivisionError Block\n"
     ]
    }
   ],
   "source": [
    "try:\n",
    "    a =190/0\n",
    "except ZeroDivisionError as e1:\n",
    "    print(\"ZeroDivisionError Block\")\n",
    "except Exception as e:\n",
    "    print(\"Exception Block\")"
   ]
  },
  {
   "cell_type": "code",
   "execution_count": 21,
   "id": "21f9cd77",
   "metadata": {},
   "outputs": [
    {
     "name": "stdout",
     "output_type": "stream",
     "text": [
      "ZeroDivisionError Block\n"
     ]
    }
   ],
   "source": [
    "try:\n",
    "    a =10/0\n",
    "except ZeroDivisionError as e1:\n",
    "    print(\"ZeroDivisionError Block\")\n",
    "except ArithmeticError as e2:\n",
    "    print(\"Arithmetic Error BLock\")\n",
    "except Exception as e3:\n",
    "    print(\"Exception Block\")"
   ]
  },
  {
   "cell_type": "code",
   "execution_count": 22,
   "id": "f71a70a0",
   "metadata": {},
   "outputs": [
    {
     "name": "stdout",
     "output_type": "stream",
     "text": [
      "Arithmetic Error BLock\n"
     ]
    }
   ],
   "source": [
    "try:\n",
    "    a =10/0\n",
    "except ArithmeticError as e2:\n",
    "    print(\"Arithmetic Error BLock\")\n",
    "except ZeroDivisionError as e1:\n",
    "    print(\"ZeroDivisionError Block\")\n",
    "except Exception as e3:\n",
    "    print(\"Exception Block\")"
   ]
  },
  {
   "cell_type": "code",
   "execution_count": 27,
   "id": "3e6c8709",
   "metadata": {},
   "outputs": [
    {
     "name": "stdout",
     "output_type": "stream",
     "text": [
      "division by zero\n"
     ]
    }
   ],
   "source": [
    "try:\n",
    "    a=190/0\n",
    "except ArithmeticError as e:\n",
    "    print(e)"
   ]
  },
  {
   "cell_type": "code",
   "execution_count": 29,
   "id": "3dea3828",
   "metadata": {},
   "outputs": [
    {
     "name": "stdout",
     "output_type": "stream",
     "text": [
      "division by zero\n",
      "Done\n"
     ]
    }
   ],
   "source": [
    "try:\n",
    "    a=190/0\n",
    "except ArithmeticError as e:\n",
    "    print(e)\n",
    "else:\n",
    "    print(a)\n",
    "finally:\n",
    "    print(\"Done\")"
   ]
  },
  {
   "cell_type": "code",
   "execution_count": 33,
   "id": "50a2e6f4",
   "metadata": {},
   "outputs": [
    {
     "name": "stdout",
     "output_type": "stream",
     "text": [
      "Fuck Off\n",
      "Fuck Off\n"
     ]
    }
   ],
   "source": [
    "class MyException(ArithmeticError):\n",
    "    def __init__(self,str):\n",
    "        print(str)\n",
    "        \n",
    "try:\n",
    "    raise MyException(\"Fuck Off\")\n",
    "except MyException as e:\n",
    "    print(e)"
   ]
  },
  {
   "cell_type": "code",
   "execution_count": null,
   "id": "aab0ee5b",
   "metadata": {},
   "outputs": [],
   "source": []
  }
 ],
 "metadata": {
  "kernelspec": {
   "display_name": "Python 3 (ipykernel)",
   "language": "python",
   "name": "python3"
  },
  "language_info": {
   "codemirror_mode": {
    "name": "ipython",
    "version": 3
   },
   "file_extension": ".py",
   "mimetype": "text/x-python",
   "name": "python",
   "nbconvert_exporter": "python",
   "pygments_lexer": "ipython3",
   "version": "3.10.9"
  }
 },
 "nbformat": 4,
 "nbformat_minor": 5
}
