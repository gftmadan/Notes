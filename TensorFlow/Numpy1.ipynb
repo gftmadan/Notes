{
 "cells": [
  {
   "cell_type": "code",
   "execution_count": 29,
   "id": "b9da0108",
   "metadata": {},
   "outputs": [],
   "source": [
    "import numpy as np"
   ]
  },
  {
   "cell_type": "code",
   "execution_count": 33,
   "id": "3559b40a",
   "metadata": {},
   "outputs": [
    {
     "data": {
      "text/plain": [
       "array([[[0.54340494, 0.27836939, 0.42451759, 0.84477613, 0.00471886],\n",
       "        [0.12156912, 0.67074908, 0.82585276, 0.13670659, 0.57509333],\n",
       "        [0.89132195, 0.20920212, 0.18532822, 0.10837689, 0.21969749],\n",
       "        [0.97862378, 0.81168315, 0.17194101, 0.81622475, 0.27407375]],\n",
       "\n",
       "       [[0.43170418, 0.94002982, 0.81764938, 0.33611195, 0.17541045],\n",
       "        [0.37283205, 0.00568851, 0.25242635, 0.79566251, 0.01525497],\n",
       "        [0.59884338, 0.60380454, 0.10514769, 0.38194344, 0.03647606],\n",
       "        [0.89041156, 0.98092086, 0.05994199, 0.89054594, 0.5769015 ]]])"
      ]
     },
     "execution_count": 33,
     "metadata": {},
     "output_type": "execute_result"
    }
   ],
   "source": [
    "np.random.seed(100)\n",
    "c = np.random.rand(2,4,5)\n",
    "c"
   ]
  },
  {
   "cell_type": "code",
   "execution_count": 34,
   "id": "36248e78",
   "metadata": {},
   "outputs": [
    {
     "ename": "ValueError",
     "evalue": "axes don't match array",
     "output_type": "error",
     "traceback": [
      "\u001b[1;31m---------------------------------------------------------------------------\u001b[0m",
      "\u001b[1;31mValueError\u001b[0m                                Traceback (most recent call last)",
      "Cell \u001b[1;32mIn[34], line 1\u001b[0m\n\u001b[1;32m----> 1\u001b[0m \u001b[43mc\u001b[49m\u001b[38;5;241;43m.\u001b[39;49m\u001b[43mtranspose\u001b[49m\u001b[43m(\u001b[49m\u001b[43m(\u001b[49m\u001b[38;5;241;43m0\u001b[39;49m\u001b[43m,\u001b[49m\u001b[38;5;241;43m2\u001b[39;49m\u001b[43m)\u001b[49m\u001b[43m)\u001b[49m\n",
      "\u001b[1;31mValueError\u001b[0m: axes don't match array"
     ]
    }
   ],
   "source": [
    "c.transpose((0,2))"
   ]
  },
  {
   "cell_type": "code",
   "execution_count": null,
   "id": "3c617121",
   "metadata": {},
   "outputs": [],
   "source": []
  },
  {
   "cell_type": "code",
   "execution_count": 30,
   "id": "2776f1d6",
   "metadata": {},
   "outputs": [],
   "source": [
    "a =np.array([1,2,3,4])"
   ]
  },
  {
   "cell_type": "code",
   "execution_count": 32,
   "id": "ce519357",
   "metadata": {},
   "outputs": [
    {
     "data": {
      "text/plain": [
       "array([1, 2, 3, 4])"
      ]
     },
     "execution_count": 32,
     "metadata": {},
     "output_type": "execute_result"
    }
   ],
   "source": [
    "a1= a.reshape(-1)\n",
    "a1"
   ]
  },
  {
   "cell_type": "code",
   "execution_count": 36,
   "id": "0b255adc",
   "metadata": {},
   "outputs": [
    {
     "ename": "TypeError",
     "evalue": "ones() missing 1 required positional argument: 'shape'",
     "output_type": "error",
     "traceback": [
      "\u001b[1;31m---------------------------------------------------------------------------\u001b[0m",
      "\u001b[1;31mTypeError\u001b[0m                                 Traceback (most recent call last)",
      "Cell \u001b[1;32mIn[36], line 1\u001b[0m\n\u001b[1;32m----> 1\u001b[0m a \u001b[38;5;241m=\u001b[39m \u001b[43mnp\u001b[49m\u001b[38;5;241;43m.\u001b[39;49m\u001b[43mones\u001b[49m\u001b[43m(\u001b[49m\u001b[43m)\u001b[49m\n",
      "\u001b[1;31mTypeError\u001b[0m: ones() missing 1 required positional argument: 'shape'"
     ]
    }
   ],
   "source": [
    "a = np.ones()"
   ]
  },
  {
   "cell_type": "code",
   "execution_count": 58,
   "id": "f7781fd5",
   "metadata": {},
   "outputs": [
    {
     "data": {
      "text/plain": [
       "array([ 0,  5, 10, 15, 20, 25, 30, 35])"
      ]
     },
     "execution_count": 58,
     "metadata": {},
     "output_type": "execute_result"
    }
   ],
   "source": [
    "a = np.arange(40,step=5)\n",
    "a"
   ]
  },
  {
   "cell_type": "code",
   "execution_count": 3,
   "id": "fa5ac781",
   "metadata": {},
   "outputs": [
    {
     "data": {
      "text/plain": [
       "array([1, 2, 3, 4])"
      ]
     },
     "execution_count": 3,
     "metadata": {},
     "output_type": "execute_result"
    }
   ],
   "source": [
    "a"
   ]
  },
  {
   "cell_type": "code",
   "execution_count": 4,
   "id": "9b7ae500",
   "metadata": {},
   "outputs": [
    {
     "data": {
      "text/plain": [
       "numpy.ndarray"
      ]
     },
     "execution_count": 4,
     "metadata": {},
     "output_type": "execute_result"
    }
   ],
   "source": [
    "type(a)"
   ]
  },
  {
   "cell_type": "code",
   "execution_count": 5,
   "id": "062870d8",
   "metadata": {},
   "outputs": [],
   "source": [
    "b =np.array([[1,2,3],\n",
    "             [11,22,33]])"
   ]
  },
  {
   "cell_type": "code",
   "execution_count": 6,
   "id": "dce7299c",
   "metadata": {},
   "outputs": [
    {
     "data": {
      "text/plain": [
       "numpy.ndarray"
      ]
     },
     "execution_count": 6,
     "metadata": {},
     "output_type": "execute_result"
    }
   ],
   "source": [
    "type(b)"
   ]
  },
  {
   "cell_type": "code",
   "execution_count": 7,
   "id": "832bdf3a",
   "metadata": {},
   "outputs": [],
   "source": [
    "c = np.array([[[1,2,3],\n",
    "               [4,5,6]],\n",
    "               [[7,8,9],\n",
    "                [10,11,12]],\n",
    "                [[11,12,13],\n",
    "                [14,15,16]]])"
   ]
  },
  {
   "cell_type": "code",
   "execution_count": 8,
   "id": "8a84f6ad",
   "metadata": {},
   "outputs": [
    {
     "data": {
      "text/plain": [
       "array([[[ 1,  2,  3],\n",
       "        [ 4,  5,  6]],\n",
       "\n",
       "       [[ 7,  8,  9],\n",
       "        [10, 11, 12]],\n",
       "\n",
       "       [[11, 12, 13],\n",
       "        [14, 15, 16]]])"
      ]
     },
     "execution_count": 8,
     "metadata": {},
     "output_type": "execute_result"
    }
   ],
   "source": [
    "c"
   ]
  },
  {
   "cell_type": "code",
   "execution_count": 9,
   "id": "a2353fe1",
   "metadata": {},
   "outputs": [
    {
     "data": {
      "text/plain": [
       "1"
      ]
     },
     "execution_count": 9,
     "metadata": {},
     "output_type": "execute_result"
    }
   ],
   "source": [
    "a.ndim"
   ]
  },
  {
   "cell_type": "code",
   "execution_count": 10,
   "id": "16d3aed0",
   "metadata": {},
   "outputs": [
    {
     "data": {
      "text/plain": [
       "2"
      ]
     },
     "execution_count": 10,
     "metadata": {},
     "output_type": "execute_result"
    }
   ],
   "source": [
    "b.ndim"
   ]
  },
  {
   "cell_type": "code",
   "execution_count": 11,
   "id": "164e9323",
   "metadata": {},
   "outputs": [
    {
     "data": {
      "text/plain": [
       "3"
      ]
     },
     "execution_count": 11,
     "metadata": {},
     "output_type": "execute_result"
    }
   ],
   "source": [
    "c.ndim"
   ]
  },
  {
   "cell_type": "code",
   "execution_count": 12,
   "id": "dc9a784c",
   "metadata": {},
   "outputs": [
    {
     "data": {
      "text/plain": [
       "(4,)"
      ]
     },
     "execution_count": 12,
     "metadata": {},
     "output_type": "execute_result"
    }
   ],
   "source": [
    "a.shape"
   ]
  },
  {
   "cell_type": "code",
   "execution_count": 13,
   "id": "c91f2e6c",
   "metadata": {},
   "outputs": [
    {
     "data": {
      "text/plain": [
       "(2, 3)"
      ]
     },
     "execution_count": 13,
     "metadata": {},
     "output_type": "execute_result"
    }
   ],
   "source": [
    "b.shape"
   ]
  },
  {
   "cell_type": "code",
   "execution_count": 14,
   "id": "84f3a29f",
   "metadata": {},
   "outputs": [
    {
     "data": {
      "text/plain": [
       "(3, 2, 3)"
      ]
     },
     "execution_count": 14,
     "metadata": {},
     "output_type": "execute_result"
    }
   ],
   "source": [
    "c.shape"
   ]
  },
  {
   "cell_type": "code",
   "execution_count": 15,
   "id": "a2b9697b",
   "metadata": {},
   "outputs": [],
   "source": [
    "np.array?"
   ]
  },
  {
   "cell_type": "code",
   "execution_count": 16,
   "id": "5ac86e3f",
   "metadata": {},
   "outputs": [],
   "source": [
    "import pandas as pd"
   ]
  },
  {
   "cell_type": "code",
   "execution_count": 17,
   "id": "4b34f312",
   "metadata": {},
   "outputs": [],
   "source": [
    "pa = pd.DataFrame(a)"
   ]
  },
  {
   "cell_type": "code",
   "execution_count": 18,
   "id": "08bbd12f",
   "metadata": {},
   "outputs": [
    {
     "data": {
      "text/html": [
       "<div>\n",
       "<style scoped>\n",
       "    .dataframe tbody tr th:only-of-type {\n",
       "        vertical-align: middle;\n",
       "    }\n",
       "\n",
       "    .dataframe tbody tr th {\n",
       "        vertical-align: top;\n",
       "    }\n",
       "\n",
       "    .dataframe thead th {\n",
       "        text-align: right;\n",
       "    }\n",
       "</style>\n",
       "<table border=\"1\" class=\"dataframe\">\n",
       "  <thead>\n",
       "    <tr style=\"text-align: right;\">\n",
       "      <th></th>\n",
       "      <th>0</th>\n",
       "    </tr>\n",
       "  </thead>\n",
       "  <tbody>\n",
       "    <tr>\n",
       "      <th>0</th>\n",
       "      <td>1</td>\n",
       "    </tr>\n",
       "    <tr>\n",
       "      <th>1</th>\n",
       "      <td>2</td>\n",
       "    </tr>\n",
       "    <tr>\n",
       "      <th>2</th>\n",
       "      <td>3</td>\n",
       "    </tr>\n",
       "    <tr>\n",
       "      <th>3</th>\n",
       "      <td>4</td>\n",
       "    </tr>\n",
       "  </tbody>\n",
       "</table>\n",
       "</div>"
      ],
      "text/plain": [
       "   0\n",
       "0  1\n",
       "1  2\n",
       "2  3\n",
       "3  4"
      ]
     },
     "execution_count": 18,
     "metadata": {},
     "output_type": "execute_result"
    }
   ],
   "source": [
    "pa"
   ]
  },
  {
   "cell_type": "code",
   "execution_count": 19,
   "id": "e180a6db",
   "metadata": {},
   "outputs": [],
   "source": [
    "pb = pd.DataFrame(b)"
   ]
  },
  {
   "cell_type": "code",
   "execution_count": 20,
   "id": "b8ec3f97",
   "metadata": {},
   "outputs": [
    {
     "data": {
      "text/html": [
       "<div>\n",
       "<style scoped>\n",
       "    .dataframe tbody tr th:only-of-type {\n",
       "        vertical-align: middle;\n",
       "    }\n",
       "\n",
       "    .dataframe tbody tr th {\n",
       "        vertical-align: top;\n",
       "    }\n",
       "\n",
       "    .dataframe thead th {\n",
       "        text-align: right;\n",
       "    }\n",
       "</style>\n",
       "<table border=\"1\" class=\"dataframe\">\n",
       "  <thead>\n",
       "    <tr style=\"text-align: right;\">\n",
       "      <th></th>\n",
       "      <th>0</th>\n",
       "      <th>1</th>\n",
       "      <th>2</th>\n",
       "    </tr>\n",
       "  </thead>\n",
       "  <tbody>\n",
       "    <tr>\n",
       "      <th>0</th>\n",
       "      <td>1</td>\n",
       "      <td>2</td>\n",
       "      <td>3</td>\n",
       "    </tr>\n",
       "    <tr>\n",
       "      <th>1</th>\n",
       "      <td>11</td>\n",
       "      <td>22</td>\n",
       "      <td>33</td>\n",
       "    </tr>\n",
       "  </tbody>\n",
       "</table>\n",
       "</div>"
      ],
      "text/plain": [
       "    0   1   2\n",
       "0   1   2   3\n",
       "1  11  22  33"
      ]
     },
     "execution_count": 20,
     "metadata": {},
     "output_type": "execute_result"
    }
   ],
   "source": [
    "pb"
   ]
  },
  {
   "cell_type": "code",
   "execution_count": 24,
   "id": "228cc850",
   "metadata": {},
   "outputs": [
    {
     "ename": "ValueError",
     "evalue": "Must pass 2-d input. shape=(3, 2, 3)",
     "output_type": "error",
     "traceback": [
      "\u001b[1;31m---------------------------------------------------------------------------\u001b[0m",
      "\u001b[1;31mValueError\u001b[0m                                Traceback (most recent call last)",
      "Cell \u001b[1;32mIn[24], line 1\u001b[0m\n\u001b[1;32m----> 1\u001b[0m pc \u001b[38;5;241m=\u001b[39m\u001b[43mpd\u001b[49m\u001b[38;5;241;43m.\u001b[39;49m\u001b[43mDataFrame\u001b[49m\u001b[43m(\u001b[49m\u001b[43mc\u001b[49m\u001b[43m)\u001b[49m\n",
      "File \u001b[1;32mD:\\Machine Learning\\Sample Project1\\env\\lib\\site-packages\\pandas\\core\\frame.py:722\u001b[0m, in \u001b[0;36mDataFrame.__init__\u001b[1;34m(self, data, index, columns, dtype, copy)\u001b[0m\n\u001b[0;32m    712\u001b[0m         mgr \u001b[38;5;241m=\u001b[39m dict_to_mgr(\n\u001b[0;32m    713\u001b[0m             \u001b[38;5;66;03m# error: Item \"ndarray\" of \"Union[ndarray, Series, Index]\" has no\u001b[39;00m\n\u001b[0;32m    714\u001b[0m             \u001b[38;5;66;03m# attribute \"name\"\u001b[39;00m\n\u001b[1;32m   (...)\u001b[0m\n\u001b[0;32m    719\u001b[0m             typ\u001b[38;5;241m=\u001b[39mmanager,\n\u001b[0;32m    720\u001b[0m         )\n\u001b[0;32m    721\u001b[0m     \u001b[38;5;28;01melse\u001b[39;00m:\n\u001b[1;32m--> 722\u001b[0m         mgr \u001b[38;5;241m=\u001b[39m \u001b[43mndarray_to_mgr\u001b[49m\u001b[43m(\u001b[49m\n\u001b[0;32m    723\u001b[0m \u001b[43m            \u001b[49m\u001b[43mdata\u001b[49m\u001b[43m,\u001b[49m\n\u001b[0;32m    724\u001b[0m \u001b[43m            \u001b[49m\u001b[43mindex\u001b[49m\u001b[43m,\u001b[49m\n\u001b[0;32m    725\u001b[0m \u001b[43m            \u001b[49m\u001b[43mcolumns\u001b[49m\u001b[43m,\u001b[49m\n\u001b[0;32m    726\u001b[0m \u001b[43m            \u001b[49m\u001b[43mdtype\u001b[49m\u001b[38;5;241;43m=\u001b[39;49m\u001b[43mdtype\u001b[49m\u001b[43m,\u001b[49m\n\u001b[0;32m    727\u001b[0m \u001b[43m            \u001b[49m\u001b[43mcopy\u001b[49m\u001b[38;5;241;43m=\u001b[39;49m\u001b[43mcopy\u001b[49m\u001b[43m,\u001b[49m\n\u001b[0;32m    728\u001b[0m \u001b[43m            \u001b[49m\u001b[43mtyp\u001b[49m\u001b[38;5;241;43m=\u001b[39;49m\u001b[43mmanager\u001b[49m\u001b[43m,\u001b[49m\n\u001b[0;32m    729\u001b[0m \u001b[43m        \u001b[49m\u001b[43m)\u001b[49m\n\u001b[0;32m    731\u001b[0m \u001b[38;5;66;03m# For data is list-like, or Iterable (will consume into list)\u001b[39;00m\n\u001b[0;32m    732\u001b[0m \u001b[38;5;28;01melif\u001b[39;00m is_list_like(data):\n",
      "File \u001b[1;32mD:\\Machine Learning\\Sample Project1\\env\\lib\\site-packages\\pandas\\core\\internals\\construction.py:329\u001b[0m, in \u001b[0;36mndarray_to_mgr\u001b[1;34m(values, index, columns, dtype, copy, typ)\u001b[0m\n\u001b[0;32m    324\u001b[0m         values \u001b[38;5;241m=\u001b[39m values\u001b[38;5;241m.\u001b[39mreshape(\u001b[38;5;241m-\u001b[39m\u001b[38;5;241m1\u001b[39m, \u001b[38;5;241m1\u001b[39m)\n\u001b[0;32m    326\u001b[0m \u001b[38;5;28;01melse\u001b[39;00m:\n\u001b[0;32m    327\u001b[0m     \u001b[38;5;66;03m# by definition an array here\u001b[39;00m\n\u001b[0;32m    328\u001b[0m     \u001b[38;5;66;03m# the dtypes will be coerced to a single dtype\u001b[39;00m\n\u001b[1;32m--> 329\u001b[0m     values \u001b[38;5;241m=\u001b[39m \u001b[43m_prep_ndarraylike\u001b[49m\u001b[43m(\u001b[49m\u001b[43mvalues\u001b[49m\u001b[43m,\u001b[49m\u001b[43m \u001b[49m\u001b[43mcopy\u001b[49m\u001b[38;5;241;43m=\u001b[39;49m\u001b[43mcopy_on_sanitize\u001b[49m\u001b[43m)\u001b[49m\n\u001b[0;32m    331\u001b[0m \u001b[38;5;28;01mif\u001b[39;00m dtype \u001b[38;5;129;01mis\u001b[39;00m \u001b[38;5;129;01mnot\u001b[39;00m \u001b[38;5;28;01mNone\u001b[39;00m \u001b[38;5;129;01mand\u001b[39;00m \u001b[38;5;129;01mnot\u001b[39;00m is_dtype_equal(values\u001b[38;5;241m.\u001b[39mdtype, dtype):\n\u001b[0;32m    332\u001b[0m     \u001b[38;5;66;03m# GH#40110 see similar check inside sanitize_array\u001b[39;00m\n\u001b[0;32m    333\u001b[0m     rcf \u001b[38;5;241m=\u001b[39m \u001b[38;5;129;01mnot\u001b[39;00m (is_integer_dtype(dtype) \u001b[38;5;129;01mand\u001b[39;00m values\u001b[38;5;241m.\u001b[39mdtype\u001b[38;5;241m.\u001b[39mkind \u001b[38;5;241m==\u001b[39m \u001b[38;5;124m\"\u001b[39m\u001b[38;5;124mf\u001b[39m\u001b[38;5;124m\"\u001b[39m)\n",
      "File \u001b[1;32mD:\\Machine Learning\\Sample Project1\\env\\lib\\site-packages\\pandas\\core\\internals\\construction.py:583\u001b[0m, in \u001b[0;36m_prep_ndarraylike\u001b[1;34m(values, copy)\u001b[0m\n\u001b[0;32m    581\u001b[0m     values \u001b[38;5;241m=\u001b[39m values\u001b[38;5;241m.\u001b[39mreshape((values\u001b[38;5;241m.\u001b[39mshape[\u001b[38;5;241m0\u001b[39m], \u001b[38;5;241m1\u001b[39m))\n\u001b[0;32m    582\u001b[0m \u001b[38;5;28;01melif\u001b[39;00m values\u001b[38;5;241m.\u001b[39mndim \u001b[38;5;241m!=\u001b[39m \u001b[38;5;241m2\u001b[39m:\n\u001b[1;32m--> 583\u001b[0m     \u001b[38;5;28;01mraise\u001b[39;00m \u001b[38;5;167;01mValueError\u001b[39;00m(\u001b[38;5;124mf\u001b[39m\u001b[38;5;124m\"\u001b[39m\u001b[38;5;124mMust pass 2-d input. shape=\u001b[39m\u001b[38;5;132;01m{\u001b[39;00mvalues\u001b[38;5;241m.\u001b[39mshape\u001b[38;5;132;01m}\u001b[39;00m\u001b[38;5;124m\"\u001b[39m)\n\u001b[0;32m    585\u001b[0m \u001b[38;5;28;01mreturn\u001b[39;00m values\n",
      "\u001b[1;31mValueError\u001b[0m: Must pass 2-d input. shape=(3, 2, 3)"
     ]
    }
   ],
   "source": [
    "pc =pd.DataFrame(c)"
   ]
  },
  {
   "cell_type": "code",
   "execution_count": 27,
   "id": "f007f972",
   "metadata": {},
   "outputs": [],
   "source": [
    "np.ones?"
   ]
  },
  {
   "cell_type": "code",
   "execution_count": 17,
   "id": "5aa92682",
   "metadata": {},
   "outputs": [],
   "source": [
    "ones1 = np.ones((3,6))"
   ]
  },
  {
   "cell_type": "code",
   "execution_count": 18,
   "id": "d3467677",
   "metadata": {},
   "outputs": [
    {
     "data": {
      "text/plain": [
       "array([[1., 1., 1., 1., 1., 1.],\n",
       "       [1., 1., 1., 1., 1., 1.],\n",
       "       [1., 1., 1., 1., 1., 1.]])"
      ]
     },
     "execution_count": 18,
     "metadata": {},
     "output_type": "execute_result"
    }
   ],
   "source": [
    "ones1"
   ]
  },
  {
   "cell_type": "code",
   "execution_count": 19,
   "id": "293cf1c2",
   "metadata": {},
   "outputs": [],
   "source": [
    "ones2 = np.ones((4,6),dtype = np.int32)"
   ]
  },
  {
   "cell_type": "code",
   "execution_count": 20,
   "id": "de2873c5",
   "metadata": {},
   "outputs": [
    {
     "data": {
      "text/plain": [
       "array([[1, 1, 1, 1, 1, 1],\n",
       "       [1, 1, 1, 1, 1, 1],\n",
       "       [1, 1, 1, 1, 1, 1],\n",
       "       [1, 1, 1, 1, 1, 1]])"
      ]
     },
     "execution_count": 20,
     "metadata": {},
     "output_type": "execute_result"
    }
   ],
   "source": [
    "ones2"
   ]
  },
  {
   "cell_type": "markdown",
   "id": "7af37fae",
   "metadata": {},
   "source": [
    "## Find the Difference between C style and Fortan Style"
   ]
  },
  {
   "cell_type": "code",
   "execution_count": 24,
   "id": "e0f1ccaf",
   "metadata": {},
   "outputs": [],
   "source": [
    "ones3 = np.ones((3,6,6),order = 'F')"
   ]
  },
  {
   "cell_type": "code",
   "execution_count": 25,
   "id": "54a8492f",
   "metadata": {},
   "outputs": [
    {
     "data": {
      "text/plain": [
       "array([[1., 1., 1., 1., 1., 1.],\n",
       "       [1., 1., 1., 1., 1., 1.],\n",
       "       [1., 1., 1., 1., 1., 1.]])"
      ]
     },
     "execution_count": 25,
     "metadata": {},
     "output_type": "execute_result"
    }
   ],
   "source": [
    "ones3"
   ]
  },
  {
   "cell_type": "code",
   "execution_count": 28,
   "id": "f0ed1646",
   "metadata": {},
   "outputs": [],
   "source": [
    "ones4 = np.ones((3,6),order = \"C\")"
   ]
  },
  {
   "cell_type": "code",
   "execution_count": 29,
   "id": "0af12788",
   "metadata": {},
   "outputs": [
    {
     "data": {
      "text/plain": [
       "array([[1., 1., 1., 1., 1., 1.],\n",
       "       [1., 1., 1., 1., 1., 1.],\n",
       "       [1., 1., 1., 1., 1., 1.]])"
      ]
     },
     "execution_count": 29,
     "metadata": {},
     "output_type": "execute_result"
    }
   ],
   "source": [
    "ones4"
   ]
  },
  {
   "cell_type": "code",
   "execution_count": 21,
   "id": "72d84e09",
   "metadata": {},
   "outputs": [],
   "source": [
    "zero1 = np.zeros((3,4))"
   ]
  },
  {
   "cell_type": "code",
   "execution_count": 22,
   "id": "b8ad6732",
   "metadata": {},
   "outputs": [
    {
     "data": {
      "text/plain": [
       "array([[0., 0., 0., 0.],\n",
       "       [0., 0., 0., 0.],\n",
       "       [0., 0., 0., 0.]])"
      ]
     },
     "execution_count": 22,
     "metadata": {},
     "output_type": "execute_result"
    }
   ],
   "source": [
    "zero1"
   ]
  },
  {
   "cell_type": "code",
   "execution_count": 23,
   "id": "c6f6dbfd",
   "metadata": {},
   "outputs": [],
   "source": [
    "zero2 = np.zeros((2,5),dtype='bool')"
   ]
  },
  {
   "cell_type": "code",
   "execution_count": 24,
   "id": "4244e49e",
   "metadata": {},
   "outputs": [
    {
     "data": {
      "text/plain": [
       "array([[False, False, False, False, False],\n",
       "       [False, False, False, False, False]])"
      ]
     },
     "execution_count": 24,
     "metadata": {},
     "output_type": "execute_result"
    }
   ],
   "source": [
    "zero2"
   ]
  },
  {
   "cell_type": "code",
   "execution_count": 25,
   "id": "bf824f26",
   "metadata": {},
   "outputs": [
    {
     "data": {
      "text/plain": [
       "dtype('bool')"
      ]
     },
     "execution_count": 25,
     "metadata": {},
     "output_type": "execute_result"
    }
   ],
   "source": [
    "zero2.dtype"
   ]
  },
  {
   "cell_type": "markdown",
   "id": "322498dd",
   "metadata": {},
   "source": [
    "## New Thing\n"
   ]
  },
  {
   "cell_type": "code",
   "execution_count": 86,
   "id": "06924950",
   "metadata": {},
   "outputs": [],
   "source": [
    "np.arange?"
   ]
  },
  {
   "cell_type": "code",
   "execution_count": 26,
   "id": "cc35ce64",
   "metadata": {},
   "outputs": [],
   "source": [
    "ara1 = np.arange(5.0,dtype=\"i\")"
   ]
  },
  {
   "cell_type": "code",
   "execution_count": 27,
   "id": "a3b323b1",
   "metadata": {},
   "outputs": [
    {
     "data": {
      "text/plain": [
       "array([0, 1, 2, 3, 4], dtype=int32)"
      ]
     },
     "execution_count": 27,
     "metadata": {},
     "output_type": "execute_result"
    }
   ],
   "source": [
    "ara1"
   ]
  },
  {
   "cell_type": "code",
   "execution_count": 28,
   "id": "d7fb0ac5",
   "metadata": {},
   "outputs": [],
   "source": [
    "ara2 = np.arange(stop = -5,step =-1,dtype= \"i\")"
   ]
  },
  {
   "cell_type": "code",
   "execution_count": 29,
   "id": "6e1e1bc8",
   "metadata": {},
   "outputs": [
    {
     "data": {
      "text/plain": [
       "array([ 0, -1, -2, -3, -4], dtype=int32)"
      ]
     },
     "execution_count": 29,
     "metadata": {},
     "output_type": "execute_result"
    }
   ],
   "source": [
    "ara2"
   ]
  },
  {
   "cell_type": "code",
   "execution_count": 30,
   "id": "8238d57f",
   "metadata": {},
   "outputs": [],
   "source": [
    "ara3 = np.arange(start=1,stop=7.0,step=0.5)"
   ]
  },
  {
   "cell_type": "code",
   "execution_count": 31,
   "id": "de5313be",
   "metadata": {},
   "outputs": [
    {
     "data": {
      "text/plain": [
       "array([1. , 1.5, 2. , 2.5, 3. , 3.5, 4. , 4.5, 5. , 5.5, 6. , 6.5])"
      ]
     },
     "execution_count": 31,
     "metadata": {},
     "output_type": "execute_result"
    }
   ],
   "source": [
    "ara3"
   ]
  },
  {
   "cell_type": "code",
   "execution_count": 32,
   "id": "0487da06",
   "metadata": {},
   "outputs": [],
   "source": [
    "ara4 = np.arange(start=2.0,stop=7.0,step=1)"
   ]
  },
  {
   "cell_type": "code",
   "execution_count": 33,
   "id": "f6692af3",
   "metadata": {},
   "outputs": [
    {
     "data": {
      "text/plain": [
       "array([2., 3., 4., 5., 6.])"
      ]
     },
     "execution_count": 33,
     "metadata": {},
     "output_type": "execute_result"
    }
   ],
   "source": [
    "ara4"
   ]
  },
  {
   "cell_type": "code",
   "execution_count": 34,
   "id": "aa614fec",
   "metadata": {},
   "outputs": [],
   "source": [
    "ara5 = np.arange(start=-9,stop =-0.9,step=1)"
   ]
  },
  {
   "cell_type": "code",
   "execution_count": 35,
   "id": "21c88cc2",
   "metadata": {},
   "outputs": [
    {
     "data": {
      "text/plain": [
       "array([-9., -8., -7., -6., -5., -4., -3., -2., -1.])"
      ]
     },
     "execution_count": 35,
     "metadata": {},
     "output_type": "execute_result"
    }
   ],
   "source": [
    "ara5"
   ]
  },
  {
   "cell_type": "code",
   "execution_count": 36,
   "id": "07287568",
   "metadata": {},
   "outputs": [],
   "source": [
    "ara6 = np.arange(start=-9,stop=9,step=1.5,dtype=\"i\")"
   ]
  },
  {
   "cell_type": "code",
   "execution_count": 37,
   "id": "dec20fdf",
   "metadata": {},
   "outputs": [
    {
     "data": {
      "text/plain": [
       "array([-9, -7, -5, -3, -1,  1,  3,  5,  7,  9, 11, 13], dtype=int32)"
      ]
     },
     "execution_count": 37,
     "metadata": {},
     "output_type": "execute_result"
    }
   ],
   "source": [
    "ara6"
   ]
  },
  {
   "cell_type": "code",
   "execution_count": 38,
   "id": "34d868f6",
   "metadata": {},
   "outputs": [],
   "source": [
    "ara7 = np.arange(start=0.1,stop=1.3,step=0.2)"
   ]
  },
  {
   "cell_type": "code",
   "execution_count": 39,
   "id": "1abfe3a5",
   "metadata": {},
   "outputs": [
    {
     "data": {
      "text/plain": [
       "array([0.1, 0.3, 0.5, 0.7, 0.9, 1.1])"
      ]
     },
     "execution_count": 39,
     "metadata": {},
     "output_type": "execute_result"
    }
   ],
   "source": [
    "ara7"
   ]
  },
  {
   "cell_type": "code",
   "execution_count": 40,
   "id": "10527415",
   "metadata": {},
   "outputs": [
    {
     "data": {
      "text/plain": [
       "array([0, 0, 0, 0, 0, 0, 0, 0, 0, 0])"
      ]
     },
     "execution_count": 40,
     "metadata": {},
     "output_type": "execute_result"
    }
   ],
   "source": [
    "np.arange(start=0, stop=5, step=0.5, dtype=int)"
   ]
  },
  {
   "cell_type": "markdown",
   "id": "bff954c5",
   "metadata": {},
   "source": [
    "## Errors are in np.arange so we should use linespace for real value steps\n"
   ]
  },
  {
   "cell_type": "code",
   "execution_count": 87,
   "id": "87447ecb",
   "metadata": {},
   "outputs": [],
   "source": [
    "np.linspace?"
   ]
  },
  {
   "cell_type": "code",
   "execution_count": 39,
   "id": "eb160cc1",
   "metadata": {},
   "outputs": [
    {
     "data": {
      "text/plain": [
       "array([ 1.,  2.,  3.,  4.,  5.,  6.,  7.,  8.,  9., 10., 11., 12., 13.,\n",
       "       14., 15., 16., 17., 18., 19., 20.])"
      ]
     },
     "execution_count": 39,
     "metadata": {},
     "output_type": "execute_result"
    }
   ],
   "source": [
    "a1 = np.linspace(start=1,stop=20,num=20)\n",
    "a1"
   ]
  },
  {
   "cell_type": "code",
   "execution_count": 23,
   "id": "58756a6e",
   "metadata": {},
   "outputs": [
    {
     "data": {
      "text/plain": [
       "(array([ 1,  2,  3,  4,  5,  6,  7,  8,  9, 10, 11, 12, 13, 14, 15, 16, 17,\n",
       "        18, 19, 20]),\n",
       " 1.0)"
      ]
     },
     "execution_count": 23,
     "metadata": {},
     "output_type": "execute_result"
    }
   ],
   "source": [
    "a2 = np.linspace(start=1,stop=20,num=20,dtype=np.int32,retstep=True)\n",
    "a2"
   ]
  },
  {
   "cell_type": "code",
   "execution_count": 43,
   "id": "852711ba",
   "metadata": {},
   "outputs": [
    {
     "data": {
      "text/plain": [
       "array([ 2.5  ,  6.875, 11.25 , 15.625, 20.   ])"
      ]
     },
     "execution_count": 43,
     "metadata": {},
     "output_type": "execute_result"
    }
   ],
   "source": [
    "a3 = np.linspace(start=2.5,stop=20.0,num=5)\n",
    "a3"
   ]
  },
  {
   "cell_type": "code",
   "execution_count": 20,
   "id": "14cf3c10",
   "metadata": {},
   "outputs": [
    {
     "data": {
      "text/plain": [
       "numpy.ndarray"
      ]
     },
     "execution_count": 20,
     "metadata": {},
     "output_type": "execute_result"
    }
   ],
   "source": [
    "a4 = np.linspace(start=-1,stop=-10,num=20)\n",
    "a4\n",
    "type(a4)"
   ]
  },
  {
   "cell_type": "code",
   "execution_count": 49,
   "id": "ed3b680e",
   "metadata": {},
   "outputs": [
    {
     "data": {
      "text/plain": [
       "array([67. , 66.5, 66. , 65.5, 65. ])"
      ]
     },
     "execution_count": 49,
     "metadata": {},
     "output_type": "execute_result"
    }
   ],
   "source": [
    "a5 = np.linspace(start=67,stop=65,num=5)\n",
    "a5"
   ]
  },
  {
   "cell_type": "code",
   "execution_count": 51,
   "id": "47a895d4",
   "metadata": {},
   "outputs": [
    {
     "ename": "TypeError",
     "evalue": "'float' object cannot be interpreted as an integer",
     "output_type": "error",
     "traceback": [
      "\u001b[1;31m---------------------------------------------------------------------------\u001b[0m",
      "\u001b[1;31mTypeError\u001b[0m                                 Traceback (most recent call last)",
      "Cell \u001b[1;32mIn[51], line 1\u001b[0m\n\u001b[1;32m----> 1\u001b[0m a6 \u001b[38;5;241m=\u001b[39m \u001b[43mnp\u001b[49m\u001b[38;5;241;43m.\u001b[39;49m\u001b[43mlinspace\u001b[49m\u001b[43m(\u001b[49m\u001b[43mstart\u001b[49m\u001b[38;5;241;43m=\u001b[39;49m\u001b[38;5;241;43m50\u001b[39;49m\u001b[43m,\u001b[49m\u001b[43mstop\u001b[49m\u001b[38;5;241;43m=\u001b[39;49m\u001b[38;5;241;43m60\u001b[39;49m\u001b[43m,\u001b[49m\u001b[43mnum\u001b[49m\u001b[38;5;241;43m=\u001b[39;49m\u001b[38;5;241;43m3.4\u001b[39;49m\u001b[43m)\u001b[49m\n",
      "File \u001b[1;32m<__array_function__ internals>:180\u001b[0m, in \u001b[0;36mlinspace\u001b[1;34m(*args, **kwargs)\u001b[0m\n",
      "File \u001b[1;32mD:\\Machine Learning\\Sample Project1\\env\\lib\\site-packages\\numpy\\core\\function_base.py:120\u001b[0m, in \u001b[0;36mlinspace\u001b[1;34m(start, stop, num, endpoint, retstep, dtype, axis)\u001b[0m\n\u001b[0;32m     23\u001b[0m \u001b[38;5;129m@array_function_dispatch\u001b[39m(_linspace_dispatcher)\n\u001b[0;32m     24\u001b[0m \u001b[38;5;28;01mdef\u001b[39;00m \u001b[38;5;21mlinspace\u001b[39m(start, stop, num\u001b[38;5;241m=\u001b[39m\u001b[38;5;241m50\u001b[39m, endpoint\u001b[38;5;241m=\u001b[39m\u001b[38;5;28;01mTrue\u001b[39;00m, retstep\u001b[38;5;241m=\u001b[39m\u001b[38;5;28;01mFalse\u001b[39;00m, dtype\u001b[38;5;241m=\u001b[39m\u001b[38;5;28;01mNone\u001b[39;00m,\n\u001b[0;32m     25\u001b[0m              axis\u001b[38;5;241m=\u001b[39m\u001b[38;5;241m0\u001b[39m):\n\u001b[0;32m     26\u001b[0m     \u001b[38;5;124;03m\"\"\"\u001b[39;00m\n\u001b[0;32m     27\u001b[0m \u001b[38;5;124;03m    Return evenly spaced numbers over a specified interval.\u001b[39;00m\n\u001b[0;32m     28\u001b[0m \n\u001b[1;32m   (...)\u001b[0m\n\u001b[0;32m    118\u001b[0m \n\u001b[0;32m    119\u001b[0m \u001b[38;5;124;03m    \"\"\"\u001b[39;00m\n\u001b[1;32m--> 120\u001b[0m     num \u001b[38;5;241m=\u001b[39m \u001b[43moperator\u001b[49m\u001b[38;5;241;43m.\u001b[39;49m\u001b[43mindex\u001b[49m\u001b[43m(\u001b[49m\u001b[43mnum\u001b[49m\u001b[43m)\u001b[49m\n\u001b[0;32m    121\u001b[0m     \u001b[38;5;28;01mif\u001b[39;00m num \u001b[38;5;241m<\u001b[39m \u001b[38;5;241m0\u001b[39m:\n\u001b[0;32m    122\u001b[0m         \u001b[38;5;28;01mraise\u001b[39;00m \u001b[38;5;167;01mValueError\u001b[39;00m(\u001b[38;5;124m\"\u001b[39m\u001b[38;5;124mNumber of samples, \u001b[39m\u001b[38;5;132;01m%s\u001b[39;00m\u001b[38;5;124m, must be non-negative.\u001b[39m\u001b[38;5;124m\"\u001b[39m \u001b[38;5;241m%\u001b[39m num)\n",
      "\u001b[1;31mTypeError\u001b[0m: 'float' object cannot be interpreted as an integer"
     ]
    }
   ],
   "source": [
    "a6 = np.linspace(start=50,stop=60,num=3.4)"
   ]
  },
  {
   "cell_type": "code",
   "execution_count": 55,
   "id": "414ba45f",
   "metadata": {},
   "outputs": [
    {
     "data": {
      "text/plain": [
       "(array([ 1.,  9., 17., 25.]), 8.0)"
      ]
     },
     "execution_count": 55,
     "metadata": {},
     "output_type": "execute_result"
    }
   ],
   "source": [
    "a7 = np.linspace(start=1,stop=25,num=4,retstep=True)\n",
    "a7"
   ]
  },
  {
   "cell_type": "code",
   "execution_count": 16,
   "id": "b53ff3c2",
   "metadata": {},
   "outputs": [
    {
     "data": {
      "text/plain": [
       "array([[ 1.        ,  9.        ,  2.        ],\n",
       "       [ 3.66666667, 18.        ,  5.11111111],\n",
       "       [ 6.33333333, 27.        ,  8.22222222],\n",
       "       [ 9.        , 36.        , 11.33333333],\n",
       "       [11.66666667, 45.        , 14.44444444],\n",
       "       [14.33333333, 54.        , 17.55555556],\n",
       "       [17.        , 63.        , 20.66666667],\n",
       "       [19.66666667, 72.        , 23.77777778],\n",
       "       [22.33333333, 81.        , 26.88888889],\n",
       "       [25.        , 90.        , 30.        ]])"
      ]
     },
     "execution_count": 16,
     "metadata": {},
     "output_type": "execute_result"
    }
   ],
   "source": [
    "a8 = np.linspace(start=[1,9,2],stop=[25,90,30],num=10,axis=0)\n",
    "a8"
   ]
  },
  {
   "cell_type": "code",
   "execution_count": 19,
   "id": "c141edce",
   "metadata": {},
   "outputs": [
    {
     "data": {
      "text/plain": [
       "array([[[ 1.,  2.,  3.],\n",
       "        [ 4.,  5.,  6.]],\n",
       "\n",
       "       [[ 2.,  4.,  6.],\n",
       "        [ 8., 10., 12.]],\n",
       "\n",
       "       [[ 3.,  6.,  9.],\n",
       "        [12., 15., 18.]],\n",
       "\n",
       "       [[ 4.,  8., 12.],\n",
       "        [16., 20., 24.]],\n",
       "\n",
       "       [[ 5., 10., 15.],\n",
       "        [20., 25., 30.]],\n",
       "\n",
       "       [[ 6., 12., 18.],\n",
       "        [24., 30., 36.]],\n",
       "\n",
       "       [[ 7., 14., 21.],\n",
       "        [28., 35., 42.]],\n",
       "\n",
       "       [[ 8., 16., 24.],\n",
       "        [32., 40., 48.]],\n",
       "\n",
       "       [[ 9., 18., 27.],\n",
       "        [36., 45., 54.]],\n",
       "\n",
       "       [[10., 20., 30.],\n",
       "        [40., 50., 60.]]])"
      ]
     },
     "execution_count": 19,
     "metadata": {},
     "output_type": "execute_result"
    }
   ],
   "source": [
    "a9 = np.linspace(start=[[1,2,3],[4,5,6]],stop=[[10,20,30],[40,50,60]],num=10)\n",
    "a9"
   ]
  },
  {
   "cell_type": "code",
   "execution_count": 28,
   "id": "aea00c72",
   "metadata": {},
   "outputs": [
    {
     "ename": "NameError",
     "evalue": "name 'a' is not defined",
     "output_type": "error",
     "traceback": [
      "\u001b[1;31m---------------------------------------------------------------------------\u001b[0m",
      "\u001b[1;31mNameError\u001b[0m                                 Traceback (most recent call last)",
      "Cell \u001b[1;32mIn[28], line 1\u001b[0m\n\u001b[1;32m----> 1\u001b[0m \u001b[43ma\u001b[49m\n",
      "\u001b[1;31mNameError\u001b[0m: name 'a' is not defined"
     ]
    }
   ],
   "source": [
    "a"
   ]
  },
  {
   "cell_type": "code",
   "execution_count": null,
   "id": "0fe65797",
   "metadata": {},
   "outputs": [],
   "source": []
  },
  {
   "cell_type": "code",
   "execution_count": null,
   "id": "0eb8d138",
   "metadata": {},
   "outputs": [],
   "source": []
  },
  {
   "cell_type": "code",
   "execution_count": null,
   "id": "cdd76270",
   "metadata": {},
   "outputs": [],
   "source": []
  },
  {
   "cell_type": "code",
   "execution_count": null,
   "id": "d435339c",
   "metadata": {},
   "outputs": [],
   "source": []
  },
  {
   "cell_type": "markdown",
   "id": "7096ee96",
   "metadata": {},
   "source": [
    "## Random Numbers"
   ]
  },
  {
   "cell_type": "code",
   "execution_count": 72,
   "id": "f16647d5",
   "metadata": {},
   "outputs": [],
   "source": [
    "np.random.randint?"
   ]
  },
  {
   "cell_type": "code",
   "execution_count": 52,
   "id": "4171db2e",
   "metadata": {},
   "outputs": [],
   "source": [
    "rar1 = np.random.randint(0,5,size=(2,3,4))"
   ]
  },
  {
   "cell_type": "code",
   "execution_count": 53,
   "id": "0a0b5923",
   "metadata": {},
   "outputs": [
    {
     "data": {
      "text/plain": [
       "array([[[0, 2, 4, 1],\n",
       "        [4, 4, 2, 1],\n",
       "        [3, 4, 0, 0]],\n",
       "\n",
       "       [[4, 1, 3, 4],\n",
       "        [1, 3, 1, 1],\n",
       "        [1, 0, 2, 4]]])"
      ]
     },
     "execution_count": 53,
     "metadata": {},
     "output_type": "execute_result"
    }
   ],
   "source": [
    "rar1"
   ]
  },
  {
   "cell_type": "code",
   "execution_count": 54,
   "id": "3892ae95",
   "metadata": {},
   "outputs": [],
   "source": [
    "rar2 = np.random.randint(3,size=(4,8))"
   ]
  },
  {
   "cell_type": "code",
   "execution_count": 55,
   "id": "ae89874f",
   "metadata": {},
   "outputs": [
    {
     "data": {
      "text/plain": [
       "array([[2, 1, 2, 2, 1, 2, 0, 0],\n",
       "       [2, 1, 1, 0, 2, 2, 2, 2],\n",
       "       [2, 0, 1, 1, 1, 1, 0, 1],\n",
       "       [0, 1, 2, 0, 0, 0, 2, 1]])"
      ]
     },
     "execution_count": 55,
     "metadata": {},
     "output_type": "execute_result"
    }
   ],
   "source": [
    "rar2"
   ]
  },
  {
   "cell_type": "code",
   "execution_count": 57,
   "id": "0a2679b2",
   "metadata": {},
   "outputs": [],
   "source": [
    "rar3 = np.random.randint(-3,0,size=10)"
   ]
  },
  {
   "cell_type": "code",
   "execution_count": 58,
   "id": "65ef36f7",
   "metadata": {},
   "outputs": [
    {
     "data": {
      "text/plain": [
       "array([-2, -3, -2, -2, -3, -1, -2, -3, -2, -2])"
      ]
     },
     "execution_count": 58,
     "metadata": {},
     "output_type": "execute_result"
    }
   ],
   "source": [
    "rar3"
   ]
  },
  {
   "cell_type": "code",
   "execution_count": 21,
   "id": "5f7f912b",
   "metadata": {},
   "outputs": [
    {
     "ename": "ValueError",
     "evalue": "high <= 0",
     "output_type": "error",
     "traceback": [
      "\u001b[1;31m---------------------------------------------------------------------------\u001b[0m",
      "\u001b[1;31mValueError\u001b[0m                                Traceback (most recent call last)",
      "Cell \u001b[1;32mIn[21], line 1\u001b[0m\n\u001b[1;32m----> 1\u001b[0m rar4 \u001b[38;5;241m=\u001b[39m \u001b[43mnp\u001b[49m\u001b[38;5;241;43m.\u001b[39;49m\u001b[43mrandom\u001b[49m\u001b[38;5;241;43m.\u001b[39;49m\u001b[43mrandint\u001b[49m\u001b[43m(\u001b[49m\u001b[38;5;241;43m-\u001b[39;49m\u001b[38;5;241;43m4\u001b[39;49m\u001b[43m,\u001b[49m\u001b[43msize\u001b[49m\u001b[38;5;241;43m=\u001b[39;49m\u001b[38;5;241;43m10\u001b[39;49m\u001b[43m)\u001b[49m\n",
      "File \u001b[1;32mmtrand.pyx:746\u001b[0m, in \u001b[0;36mnumpy.random.mtrand.RandomState.randint\u001b[1;34m()\u001b[0m\n",
      "File \u001b[1;32m_bounded_integers.pyx:1338\u001b[0m, in \u001b[0;36mnumpy.random._bounded_integers._rand_int32\u001b[1;34m()\u001b[0m\n",
      "\u001b[1;31mValueError\u001b[0m: high <= 0"
     ]
    }
   ],
   "source": [
    "rar4 = np.random.randint(-4,size=10)"
   ]
  },
  {
   "cell_type": "code",
   "execution_count": 23,
   "id": "7c5ceee8",
   "metadata": {},
   "outputs": [
    {
     "ename": "TypeError",
     "evalue": "Unsupported dtype dtype('float32') for randint",
     "output_type": "error",
     "traceback": [
      "\u001b[1;31m---------------------------------------------------------------------------\u001b[0m",
      "\u001b[1;31mTypeError\u001b[0m                                 Traceback (most recent call last)",
      "Cell \u001b[1;32mIn[23], line 1\u001b[0m\n\u001b[1;32m----> 1\u001b[0m rar4 \u001b[38;5;241m=\u001b[39m \u001b[43mnp\u001b[49m\u001b[38;5;241;43m.\u001b[39;49m\u001b[43mrandom\u001b[49m\u001b[38;5;241;43m.\u001b[39;49m\u001b[43mrandint\u001b[49m\u001b[43m(\u001b[49m\u001b[38;5;241;43m0\u001b[39;49m\u001b[43m,\u001b[49m\u001b[38;5;241;43m10\u001b[39;49m\u001b[43m,\u001b[49m\u001b[43msize\u001b[49m\u001b[38;5;241;43m=\u001b[39;49m\u001b[43m(\u001b[49m\u001b[38;5;241;43m2\u001b[39;49m\u001b[43m,\u001b[49m\u001b[38;5;241;43m6\u001b[39;49m\u001b[43m)\u001b[49m\u001b[43m,\u001b[49m\u001b[43mdtype\u001b[49m\u001b[38;5;241;43m=\u001b[39;49m\u001b[43mnp\u001b[49m\u001b[38;5;241;43m.\u001b[39;49m\u001b[43mfloat32\u001b[49m\u001b[43m)\u001b[49m\n",
      "File \u001b[1;32mmtrand.pyx:764\u001b[0m, in \u001b[0;36mnumpy.random.mtrand.RandomState.randint\u001b[1;34m()\u001b[0m\n",
      "\u001b[1;31mTypeError\u001b[0m: Unsupported dtype dtype('float32') for randint"
     ]
    }
   ],
   "source": [
    "rar4 = np.random.randint(0,10,size=(2,6),dtype=np.float32)"
   ]
  },
  {
   "cell_type": "code",
   "execution_count": 24,
   "id": "0d9d186a",
   "metadata": {},
   "outputs": [],
   "source": [
    "rar5 = np.random.randint(0,1,size=10)"
   ]
  },
  {
   "cell_type": "code",
   "execution_count": 63,
   "id": "2840854a",
   "metadata": {},
   "outputs": [
    {
     "data": {
      "text/plain": [
       "array([0, 0, 0, 0, 0, 0, 0, 0, 0, 0])"
      ]
     },
     "execution_count": 63,
     "metadata": {},
     "output_type": "execute_result"
    }
   ],
   "source": [
    "rar5"
   ]
  },
  {
   "cell_type": "code",
   "execution_count": 64,
   "id": "1b21ce9e",
   "metadata": {},
   "outputs": [],
   "source": [
    "rar6 = np.random.randint(-8,-4,size=(2,5))"
   ]
  },
  {
   "cell_type": "code",
   "execution_count": 65,
   "id": "3f75aef3",
   "metadata": {},
   "outputs": [
    {
     "data": {
      "text/plain": [
       "array([[-8, -8, -5, -6, -6],\n",
       "       [-5, -6, -7, -8, -5]])"
      ]
     },
     "execution_count": 65,
     "metadata": {},
     "output_type": "execute_result"
    }
   ],
   "source": [
    "rar6"
   ]
  },
  {
   "cell_type": "code",
   "execution_count": 34,
   "id": "77dda5de",
   "metadata": {},
   "outputs": [
    {
     "ename": "ValueError",
     "evalue": "shape mismatch: objects cannot be broadcast to a single shape.  Mismatch is between arg 0 with shape (3,) and arg 2 with shape (3, 7).",
     "output_type": "error",
     "traceback": [
      "\u001b[1;31m---------------------------------------------------------------------------\u001b[0m",
      "\u001b[1;31mValueError\u001b[0m                                Traceback (most recent call last)",
      "Cell \u001b[1;32mIn[34], line 1\u001b[0m\n\u001b[1;32m----> 1\u001b[0m nar7 \u001b[38;5;241m=\u001b[39m \u001b[43mnp\u001b[49m\u001b[38;5;241;43m.\u001b[39;49m\u001b[43mrandom\u001b[49m\u001b[38;5;241;43m.\u001b[39;49m\u001b[43mrandint\u001b[49m\u001b[43m(\u001b[49m\u001b[43mlow\u001b[49m\u001b[38;5;241;43m=\u001b[39;49m\u001b[43m[\u001b[49m\u001b[38;5;241;43m1\u001b[39;49m\u001b[43m,\u001b[49m\u001b[38;5;241;43m2\u001b[39;49m\u001b[43m,\u001b[49m\u001b[38;5;241;43m3\u001b[39;49m\u001b[43m]\u001b[49m\u001b[43m,\u001b[49m\u001b[43mhigh\u001b[49m\u001b[38;5;241;43m=\u001b[39;49m\u001b[38;5;241;43m7\u001b[39;49m\u001b[43m,\u001b[49m\u001b[43msize\u001b[49m\u001b[38;5;241;43m=\u001b[39;49m\u001b[43m[\u001b[49m\u001b[38;5;241;43m3\u001b[39;49m\u001b[43m,\u001b[49m\u001b[38;5;241;43m7\u001b[39;49m\u001b[43m]\u001b[49m\u001b[43m)\u001b[49m\n\u001b[0;32m      2\u001b[0m nar7\n",
      "File \u001b[1;32mmtrand.pyx:746\u001b[0m, in \u001b[0;36mnumpy.random.mtrand.RandomState.randint\u001b[1;34m()\u001b[0m\n",
      "File \u001b[1;32m_bounded_integers.pyx:1353\u001b[0m, in \u001b[0;36mnumpy.random._bounded_integers._rand_int32\u001b[1;34m()\u001b[0m\n",
      "File \u001b[1;32m_bounded_integers.pyx:387\u001b[0m, in \u001b[0;36mnumpy.random._bounded_integers._rand_int32_broadcast\u001b[1;34m()\u001b[0m\n",
      "File \u001b[1;32m__init__.pxd:741\u001b[0m, in \u001b[0;36mnumpy.PyArray_MultiIterNew3\u001b[1;34m()\u001b[0m\n",
      "\u001b[1;31mValueError\u001b[0m: shape mismatch: objects cannot be broadcast to a single shape.  Mismatch is between arg 0 with shape (3,) and arg 2 with shape (3, 7)."
     ]
    }
   ],
   "source": [
    "nar7 = np.random.randint(low=[1,2,3],high=7,size=[3,7])\n",
    "nar7"
   ]
  },
  {
   "cell_type": "code",
   "execution_count": 33,
   "id": "7829daa2",
   "metadata": {},
   "outputs": [],
   "source": [
    "nar8 = np.random.randint([1,2,3,4,5],20)"
   ]
  },
  {
   "cell_type": "code",
   "execution_count": 74,
   "id": "a52bacdc",
   "metadata": {},
   "outputs": [
    {
     "data": {
      "text/plain": [
       "array([18, 10,  7, 17, 12])"
      ]
     },
     "execution_count": 74,
     "metadata": {},
     "output_type": "execute_result"
    }
   ],
   "source": [
    "nar8"
   ]
  },
  {
   "cell_type": "code",
   "execution_count": 76,
   "id": "6daaeb0e",
   "metadata": {},
   "outputs": [],
   "source": [
    "nar8 = np.random.randint([1,10,25,2,3,4,5,6],30)"
   ]
  },
  {
   "cell_type": "code",
   "execution_count": 77,
   "id": "cbd0fdf2",
   "metadata": {},
   "outputs": [
    {
     "data": {
      "text/plain": [
       "array([ 7, 17, 25, 26, 11, 15, 28, 25])"
      ]
     },
     "execution_count": 77,
     "metadata": {},
     "output_type": "execute_result"
    }
   ],
   "source": [
    "nar8"
   ]
  },
  {
   "cell_type": "code",
   "execution_count": 83,
   "id": "98fff1be",
   "metadata": {},
   "outputs": [],
   "source": [
    "nar9 = np.random.randint(0,[11,12,33,4,55])"
   ]
  },
  {
   "cell_type": "code",
   "execution_count": 84,
   "id": "35354811",
   "metadata": {},
   "outputs": [
    {
     "data": {
      "text/plain": [
       "array([ 9,  0, 26,  1, 11])"
      ]
     },
     "execution_count": 84,
     "metadata": {},
     "output_type": "execute_result"
    }
   ],
   "source": [
    "nar9"
   ]
  },
  {
   "cell_type": "markdown",
   "id": "8c9c78b0",
   "metadata": {},
   "source": [
    "## its not fully complete we can use braodcasting in random.randint"
   ]
  },
  {
   "cell_type": "markdown",
   "id": "6cf79114",
   "metadata": {},
   "source": [
    "# Using random.random"
   ]
  },
  {
   "cell_type": "code",
   "execution_count": 26,
   "id": "c2914d0e",
   "metadata": {},
   "outputs": [],
   "source": [
    "np.random.random?"
   ]
  },
  {
   "cell_type": "code",
   "execution_count": 27,
   "id": "6d7a830b",
   "metadata": {},
   "outputs": [],
   "source": [
    "ran1 = np.random.random((2,3))"
   ]
  },
  {
   "cell_type": "code",
   "execution_count": 87,
   "id": "9d30a536",
   "metadata": {},
   "outputs": [
    {
     "data": {
      "text/plain": [
       "array([[0.94890741, 0.85744814, 0.42849487],\n",
       "       [0.76474449, 0.04334231, 0.83112802]])"
      ]
     },
     "execution_count": 87,
     "metadata": {},
     "output_type": "execute_result"
    }
   ],
   "source": [
    "ran1"
   ]
  },
  {
   "cell_type": "code",
   "execution_count": 88,
   "id": "161f5705",
   "metadata": {},
   "outputs": [],
   "source": [
    "ran1 = np.random.random()"
   ]
  },
  {
   "cell_type": "code",
   "execution_count": 89,
   "id": "cdf2462b",
   "metadata": {},
   "outputs": [
    {
     "data": {
      "text/plain": [
       "0.7509293388688143"
      ]
     },
     "execution_count": 89,
     "metadata": {},
     "output_type": "execute_result"
    }
   ],
   "source": [
    "ran1"
   ]
  },
  {
   "cell_type": "markdown",
   "id": "55f10c78",
   "metadata": {},
   "source": [
    "# Using random.rand"
   ]
  },
  {
   "cell_type": "code",
   "execution_count": 25,
   "id": "b0069c24",
   "metadata": {},
   "outputs": [],
   "source": [
    "np.random.rand?"
   ]
  },
  {
   "cell_type": "code",
   "execution_count": 94,
   "id": "65e749c5",
   "metadata": {},
   "outputs": [],
   "source": [
    "nar2 = np.random.rand(2,3,4)"
   ]
  },
  {
   "cell_type": "code",
   "execution_count": 95,
   "id": "3c926cc9",
   "metadata": {},
   "outputs": [
    {
     "data": {
      "text/plain": [
       "array([[[0.1545313 , 0.41871332, 0.07525094, 0.60072039],\n",
       "        [0.67347028, 0.96724128, 0.78619603, 0.76031284],\n",
       "        [0.73332202, 0.03112371, 0.76556701, 0.6821802 ]],\n",
       "\n",
       "       [[0.01321485, 0.57118721, 0.3573134 , 0.74340464],\n",
       "        [0.10639457, 0.03723897, 0.7800595 , 0.52789508],\n",
       "        [0.26816535, 0.48320485, 0.34266374, 0.98176713]]])"
      ]
     },
     "execution_count": 95,
     "metadata": {},
     "output_type": "execute_result"
    }
   ],
   "source": [
    "nar2"
   ]
  },
  {
   "cell_type": "code",
   "execution_count": 96,
   "id": "e31792b9",
   "metadata": {},
   "outputs": [],
   "source": [
    "nar3 = np.random.rand(3,5)"
   ]
  },
  {
   "cell_type": "code",
   "execution_count": 97,
   "id": "6f118439",
   "metadata": {},
   "outputs": [
    {
     "data": {
      "text/plain": [
       "array([[0.59415825, 0.79122291, 0.65584005, 0.19113742, 0.05240118],\n",
       "       [0.49868955, 0.22021824, 0.82448034, 0.33757047, 0.68664085],\n",
       "       [0.83651414, 0.16421433, 0.35293593, 0.21490465, 0.2995127 ]])"
      ]
     },
     "execution_count": 97,
     "metadata": {},
     "output_type": "execute_result"
    }
   ],
   "source": [
    "nar3"
   ]
  },
  {
   "cell_type": "code",
   "execution_count": 98,
   "id": "cf7961e0",
   "metadata": {},
   "outputs": [
    {
     "ename": "TypeError",
     "evalue": "'tuple' object cannot be interpreted as an integer",
     "output_type": "error",
     "traceback": [
      "\u001b[1;31m---------------------------------------------------------------------------\u001b[0m",
      "\u001b[1;31mTypeError\u001b[0m                                 Traceback (most recent call last)",
      "Cell \u001b[1;32mIn[98], line 1\u001b[0m\n\u001b[1;32m----> 1\u001b[0m nar4 \u001b[38;5;241m=\u001b[39m \u001b[43mnp\u001b[49m\u001b[38;5;241;43m.\u001b[39;49m\u001b[43mrandom\u001b[49m\u001b[38;5;241;43m.\u001b[39;49m\u001b[43mrand\u001b[49m\u001b[43m(\u001b[49m\u001b[43m(\u001b[49m\u001b[38;5;241;43m1\u001b[39;49m\u001b[43m,\u001b[49m\u001b[38;5;241;43m2\u001b[39;49m\u001b[43m)\u001b[49m\u001b[43m)\u001b[49m\n",
      "File \u001b[1;32mmtrand.pyx:1182\u001b[0m, in \u001b[0;36mnumpy.random.mtrand.RandomState.rand\u001b[1;34m()\u001b[0m\n",
      "File \u001b[1;32mmtrand.pyx:425\u001b[0m, in \u001b[0;36mnumpy.random.mtrand.RandomState.random_sample\u001b[1;34m()\u001b[0m\n",
      "File \u001b[1;32m_common.pyx:307\u001b[0m, in \u001b[0;36mnumpy.random._common.double_fill\u001b[1;34m()\u001b[0m\n",
      "\u001b[1;31mTypeError\u001b[0m: 'tuple' object cannot be interpreted as an integer"
     ]
    }
   ],
   "source": [
    "nar4 = np.random.rand((1,2))"
   ]
  },
  {
   "cell_type": "code",
   "execution_count": 99,
   "id": "58168ac1",
   "metadata": {},
   "outputs": [],
   "source": [
    "tup1= (2,5)"
   ]
  },
  {
   "cell_type": "code",
   "execution_count": 101,
   "id": "49e44d14",
   "metadata": {},
   "outputs": [
    {
     "ename": "TypeError",
     "evalue": "'tuple' object cannot be interpreted as an integer",
     "output_type": "error",
     "traceback": [
      "\u001b[1;31m---------------------------------------------------------------------------\u001b[0m",
      "\u001b[1;31mTypeError\u001b[0m                                 Traceback (most recent call last)",
      "Cell \u001b[1;32mIn[101], line 1\u001b[0m\n\u001b[1;32m----> 1\u001b[0m nar5 \u001b[38;5;241m=\u001b[39m\u001b[43mnp\u001b[49m\u001b[38;5;241;43m.\u001b[39;49m\u001b[43mrandom\u001b[49m\u001b[38;5;241;43m.\u001b[39;49m\u001b[43mrand\u001b[49m\u001b[43m(\u001b[49m\u001b[43mtup1\u001b[49m\u001b[43m)\u001b[49m\n",
      "File \u001b[1;32mmtrand.pyx:1182\u001b[0m, in \u001b[0;36mnumpy.random.mtrand.RandomState.rand\u001b[1;34m()\u001b[0m\n",
      "File \u001b[1;32mmtrand.pyx:425\u001b[0m, in \u001b[0;36mnumpy.random.mtrand.RandomState.random_sample\u001b[1;34m()\u001b[0m\n",
      "File \u001b[1;32m_common.pyx:307\u001b[0m, in \u001b[0;36mnumpy.random._common.double_fill\u001b[1;34m()\u001b[0m\n",
      "\u001b[1;31mTypeError\u001b[0m: 'tuple' object cannot be interpreted as an integer"
     ]
    }
   ],
   "source": [
    "nar5 =np.random.rand(tup1)"
   ]
  },
  {
   "cell_type": "code",
   "execution_count": 102,
   "id": "c54ee607",
   "metadata": {},
   "outputs": [],
   "source": [
    "nar6 = np.random.rand(*tup1)"
   ]
  },
  {
   "cell_type": "code",
   "execution_count": 103,
   "id": "2e28beb4",
   "metadata": {},
   "outputs": [
    {
     "data": {
      "text/plain": [
       "array([[0.90313195, 0.93436694, 0.25811345, 0.85331154, 0.84676496],\n",
       "       [0.04882641, 0.21150082, 0.75786589, 0.61722718, 0.33126491]])"
      ]
     },
     "execution_count": 103,
     "metadata": {},
     "output_type": "execute_result"
    }
   ],
   "source": [
    "nar6"
   ]
  },
  {
   "cell_type": "markdown",
   "id": "1817c8cf",
   "metadata": {},
   "source": [
    "# USing random.seed"
   ]
  },
  {
   "cell_type": "code",
   "execution_count": 113,
   "id": "b34bfc2a",
   "metadata": {},
   "outputs": [
    {
     "data": {
      "text/plain": [
       "array([4, 9, 6, 3, 3, 7, 7, 9, 7, 8])"
      ]
     },
     "execution_count": 113,
     "metadata": {},
     "output_type": "execute_result"
    }
   ],
   "source": [
    "np.random.seed(7)\n",
    "ara1 = np.random.randint(0,10,size=10)\n",
    "ara1"
   ]
  },
  {
   "cell_type": "code",
   "execution_count": 117,
   "id": "e7a652da",
   "metadata": {},
   "outputs": [
    {
     "data": {
      "text/plain": [
       "array([[0.95791373, 0.17957689, 0.14271575, 0.0835081 , 0.54723513],\n",
       "       [0.31020924, 0.28271973, 0.92099354, 0.43334216, 0.41875723]])"
      ]
     },
     "execution_count": 117,
     "metadata": {},
     "output_type": "execute_result"
    }
   ],
   "source": [
    "ara2 = np.random.rand(2,5)\n",
    "ara2"
   ]
  },
  {
   "cell_type": "code",
   "execution_count": 120,
   "id": "fe2345f9",
   "metadata": {},
   "outputs": [
    {
     "data": {
      "text/plain": [
       "array([4, 9, 6, 3, 3, 7, 7, 9, 7, 8])"
      ]
     },
     "execution_count": 120,
     "metadata": {},
     "output_type": "execute_result"
    }
   ],
   "source": [
    "np.random.seed(seed=7)\n",
    "ara3 = np.random.randint(0,10,size=10)\n",
    "ara3"
   ]
  },
  {
   "cell_type": "code",
   "execution_count": 125,
   "id": "db4d53db",
   "metadata": {},
   "outputs": [],
   "source": [
    "np.random.seed(seed=11)\n",
    "ara10 = np.random.randint(0,5,size=10)\n",
    "ara11 = np.random.rand(1,4)\n",
    "ara12 = np.random.random((2,4))"
   ]
  },
  {
   "cell_type": "code",
   "execution_count": 126,
   "id": "95173926",
   "metadata": {},
   "outputs": [
    {
     "data": {
      "text/plain": [
       "array([1, 0, 3, 1, 4, 1, 2, 0, 4, 0])"
      ]
     },
     "execution_count": 126,
     "metadata": {},
     "output_type": "execute_result"
    }
   ],
   "source": [
    "ara10"
   ]
  },
  {
   "cell_type": "code",
   "execution_count": 127,
   "id": "ad919416",
   "metadata": {},
   "outputs": [
    {
     "data": {
      "text/plain": [
       "array([[0.82618135, 0.09281249, 0.88970819, 0.71376193]])"
      ]
     },
     "execution_count": 127,
     "metadata": {},
     "output_type": "execute_result"
    }
   ],
   "source": [
    "ara11"
   ]
  },
  {
   "cell_type": "code",
   "execution_count": 128,
   "id": "a7393dfa",
   "metadata": {},
   "outputs": [
    {
     "data": {
      "text/plain": [
       "array([[0.51789854, 0.78538872, 0.58766585, 0.73683621],\n",
       "       [0.67251024, 0.97007099, 0.98857911, 0.7781032 ]])"
      ]
     },
     "execution_count": 128,
     "metadata": {},
     "output_type": "execute_result"
    }
   ],
   "source": [
    "ara12"
   ]
  },
  {
   "cell_type": "code",
   "execution_count": 129,
   "id": "1a1750cf",
   "metadata": {},
   "outputs": [],
   "source": [
    "np.random.seed(seed=11)\n",
    "ara13 = np.random.randint(0,5,size=10)\n",
    "ara14 = np.random.rand(1,4)\n",
    "ara15 = np.random.random((2,4))"
   ]
  },
  {
   "cell_type": "code",
   "execution_count": 130,
   "id": "61486af7",
   "metadata": {},
   "outputs": [
    {
     "data": {
      "text/plain": [
       "array([1, 0, 3, 1, 4, 1, 2, 0, 4, 0])"
      ]
     },
     "execution_count": 130,
     "metadata": {},
     "output_type": "execute_result"
    }
   ],
   "source": [
    "ara13"
   ]
  },
  {
   "cell_type": "code",
   "execution_count": 131,
   "id": "7fa33d3d",
   "metadata": {},
   "outputs": [
    {
     "data": {
      "text/plain": [
       "array([[0.82618135, 0.09281249, 0.88970819, 0.71376193]])"
      ]
     },
     "execution_count": 131,
     "metadata": {},
     "output_type": "execute_result"
    }
   ],
   "source": [
    "ara14"
   ]
  },
  {
   "cell_type": "code",
   "execution_count": 132,
   "id": "f46b1ff3",
   "metadata": {},
   "outputs": [
    {
     "data": {
      "text/plain": [
       "array([[0.51789854, 0.78538872, 0.58766585, 0.73683621],\n",
       "       [0.67251024, 0.97007099, 0.98857911, 0.7781032 ]])"
      ]
     },
     "execution_count": 132,
     "metadata": {},
     "output_type": "execute_result"
    }
   ],
   "source": [
    "ara15"
   ]
  },
  {
   "cell_type": "markdown",
   "id": "f740e7fe",
   "metadata": {},
   "source": [
    "# Viewing  Arrays\n",
    "\n"
   ]
  },
  {
   "cell_type": "markdown",
   "id": "2e90f31f",
   "metadata": {},
   "source": [
    "## Acessing Elements of the array"
   ]
  },
  {
   "cell_type": "code",
   "execution_count": 134,
   "id": "6f73e9bd",
   "metadata": {},
   "outputs": [
    {
     "data": {
      "text/plain": [
       "array([1, 2, 3, 4])"
      ]
     },
     "execution_count": 134,
     "metadata": {},
     "output_type": "execute_result"
    }
   ],
   "source": [
    "a"
   ]
  },
  {
   "cell_type": "code",
   "execution_count": 137,
   "id": "f24790db",
   "metadata": {},
   "outputs": [
    {
     "data": {
      "text/plain": [
       "2"
      ]
     },
     "execution_count": 137,
     "metadata": {},
     "output_type": "execute_result"
    }
   ],
   "source": [
    "a[1]"
   ]
  },
  {
   "cell_type": "code",
   "execution_count": 138,
   "id": "7624e29d",
   "metadata": {},
   "outputs": [
    {
     "data": {
      "text/plain": [
       "1"
      ]
     },
     "execution_count": 138,
     "metadata": {},
     "output_type": "execute_result"
    }
   ],
   "source": [
    "a[0]"
   ]
  },
  {
   "cell_type": "code",
   "execution_count": 139,
   "id": "66b58ee0",
   "metadata": {},
   "outputs": [
    {
     "data": {
      "text/plain": [
       "4"
      ]
     },
     "execution_count": 139,
     "metadata": {},
     "output_type": "execute_result"
    }
   ],
   "source": [
    "a[3]"
   ]
  },
  {
   "cell_type": "code",
   "execution_count": 140,
   "id": "68033734",
   "metadata": {},
   "outputs": [
    {
     "ename": "IndexError",
     "evalue": "index 4 is out of bounds for axis 0 with size 4",
     "output_type": "error",
     "traceback": [
      "\u001b[1;31m---------------------------------------------------------------------------\u001b[0m",
      "\u001b[1;31mIndexError\u001b[0m                                Traceback (most recent call last)",
      "Cell \u001b[1;32mIn[140], line 1\u001b[0m\n\u001b[1;32m----> 1\u001b[0m \u001b[43ma\u001b[49m\u001b[43m[\u001b[49m\u001b[38;5;241;43m4\u001b[39;49m\u001b[43m]\u001b[49m\n",
      "\u001b[1;31mIndexError\u001b[0m: index 4 is out of bounds for axis 0 with size 4"
     ]
    }
   ],
   "source": [
    "a[4]"
   ]
  },
  {
   "cell_type": "code",
   "execution_count": 135,
   "id": "573e4475",
   "metadata": {},
   "outputs": [
    {
     "data": {
      "text/plain": [
       "array([[ 1,  2,  3],\n",
       "       [11, 22, 33]])"
      ]
     },
     "execution_count": 135,
     "metadata": {},
     "output_type": "execute_result"
    }
   ],
   "source": [
    "b"
   ]
  },
  {
   "cell_type": "code",
   "execution_count": 141,
   "id": "6997953e",
   "metadata": {},
   "outputs": [
    {
     "data": {
      "text/plain": [
       "1"
      ]
     },
     "execution_count": 141,
     "metadata": {},
     "output_type": "execute_result"
    }
   ],
   "source": [
    "b[0][0]"
   ]
  },
  {
   "cell_type": "code",
   "execution_count": 142,
   "id": "3c0e2fb8",
   "metadata": {},
   "outputs": [
    {
     "data": {
      "text/plain": [
       "1"
      ]
     },
     "execution_count": 142,
     "metadata": {},
     "output_type": "execute_result"
    }
   ],
   "source": [
    "b[0,0]"
   ]
  },
  {
   "cell_type": "code",
   "execution_count": 143,
   "id": "5c197903",
   "metadata": {},
   "outputs": [
    {
     "ename": "IndexError",
     "evalue": "too many indices for array: array is 2-dimensional, but 3 were indexed",
     "output_type": "error",
     "traceback": [
      "\u001b[1;31m---------------------------------------------------------------------------\u001b[0m",
      "\u001b[1;31mIndexError\u001b[0m                                Traceback (most recent call last)",
      "Cell \u001b[1;32mIn[143], line 1\u001b[0m\n\u001b[1;32m----> 1\u001b[0m \u001b[43mb\u001b[49m\u001b[43m[\u001b[49m\u001b[38;5;241;43m1\u001b[39;49m\u001b[43m,\u001b[49m\u001b[38;5;241;43m0\u001b[39;49m\u001b[43m,\u001b[49m\u001b[38;5;241;43m2\u001b[39;49m\u001b[43m]\u001b[49m\n",
      "\u001b[1;31mIndexError\u001b[0m: too many indices for array: array is 2-dimensional, but 3 were indexed"
     ]
    }
   ],
   "source": [
    "b[1,0,2]"
   ]
  },
  {
   "cell_type": "code",
   "execution_count": 144,
   "id": "fb2faca8",
   "metadata": {},
   "outputs": [
    {
     "ename": "IndexError",
     "evalue": "index 2 is out of bounds for axis 0 with size 2",
     "output_type": "error",
     "traceback": [
      "\u001b[1;31m---------------------------------------------------------------------------\u001b[0m",
      "\u001b[1;31mIndexError\u001b[0m                                Traceback (most recent call last)",
      "Cell \u001b[1;32mIn[144], line 1\u001b[0m\n\u001b[1;32m----> 1\u001b[0m \u001b[43mb\u001b[49m\u001b[43m[\u001b[49m\u001b[38;5;241;43m2\u001b[39;49m\u001b[43m,\u001b[49m\u001b[38;5;241;43m4\u001b[39;49m\u001b[43m]\u001b[49m\n",
      "\u001b[1;31mIndexError\u001b[0m: index 2 is out of bounds for axis 0 with size 2"
     ]
    }
   ],
   "source": [
    "b[2,4]"
   ]
  },
  {
   "cell_type": "code",
   "execution_count": 136,
   "id": "6d928760",
   "metadata": {},
   "outputs": [
    {
     "data": {
      "text/plain": [
       "array([[[ 1,  2,  3],\n",
       "        [ 4,  5,  6]],\n",
       "\n",
       "       [[ 7,  8,  9],\n",
       "        [10, 11, 12]],\n",
       "\n",
       "       [[11, 12, 13],\n",
       "        [14, 15, 16]]])"
      ]
     },
     "execution_count": 136,
     "metadata": {},
     "output_type": "execute_result"
    }
   ],
   "source": [
    "c"
   ]
  },
  {
   "cell_type": "code",
   "execution_count": 146,
   "id": "bbe13528",
   "metadata": {},
   "outputs": [
    {
     "data": {
      "text/plain": [
       "10"
      ]
     },
     "execution_count": 146,
     "metadata": {},
     "output_type": "execute_result"
    }
   ],
   "source": [
    "c[1,1,0]"
   ]
  },
  {
   "cell_type": "code",
   "execution_count": 147,
   "id": "eff2361d",
   "metadata": {},
   "outputs": [
    {
     "data": {
      "text/plain": [
       "10"
      ]
     },
     "execution_count": 147,
     "metadata": {},
     "output_type": "execute_result"
    }
   ],
   "source": [
    "c[1][1][0]"
   ]
  },
  {
   "cell_type": "code",
   "execution_count": 148,
   "id": "13af6219",
   "metadata": {},
   "outputs": [
    {
     "ename": "IndexError",
     "evalue": "index 3 is out of bounds for axis 1 with size 2",
     "output_type": "error",
     "traceback": [
      "\u001b[1;31m---------------------------------------------------------------------------\u001b[0m",
      "\u001b[1;31mIndexError\u001b[0m                                Traceback (most recent call last)",
      "Cell \u001b[1;32mIn[148], line 1\u001b[0m\n\u001b[1;32m----> 1\u001b[0m \u001b[43mc\u001b[49m\u001b[43m[\u001b[49m\u001b[38;5;241;43m2\u001b[39;49m\u001b[43m,\u001b[49m\u001b[38;5;241;43m3\u001b[39;49m\u001b[43m,\u001b[49m\u001b[38;5;241;43m4\u001b[39;49m\u001b[43m]\u001b[49m\n",
      "\u001b[1;31mIndexError\u001b[0m: index 3 is out of bounds for axis 1 with size 2"
     ]
    }
   ],
   "source": [
    "c[2,3,4]"
   ]
  },
  {
   "cell_type": "code",
   "execution_count": 149,
   "id": "805a8b80",
   "metadata": {},
   "outputs": [
    {
     "data": {
      "text/plain": [
       "array([[ 7,  8,  9],\n",
       "       [10, 11, 12]])"
      ]
     },
     "execution_count": 149,
     "metadata": {},
     "output_type": "execute_result"
    }
   ],
   "source": [
    "c[1]"
   ]
  },
  {
   "cell_type": "code",
   "execution_count": 150,
   "id": "4d9372d9",
   "metadata": {},
   "outputs": [
    {
     "data": {
      "text/plain": [
       "array([1, 2, 3])"
      ]
     },
     "execution_count": 150,
     "metadata": {},
     "output_type": "execute_result"
    }
   ],
   "source": [
    "b[0]"
   ]
  },
  {
   "cell_type": "code",
   "execution_count": 151,
   "id": "57f6a764",
   "metadata": {},
   "outputs": [
    {
     "data": {
      "text/plain": [
       "8"
      ]
     },
     "execution_count": 151,
     "metadata": {},
     "output_type": "execute_result"
    }
   ],
   "source": [
    "c[1][0,1]"
   ]
  },
  {
   "cell_type": "code",
   "execution_count": 152,
   "id": "9ab52843",
   "metadata": {},
   "outputs": [
    {
     "data": {
      "text/plain": [
       "10"
      ]
     },
     "execution_count": 152,
     "metadata": {},
     "output_type": "execute_result"
    }
   ],
   "source": [
    "c[1][1,0]"
   ]
  },
  {
   "cell_type": "markdown",
   "id": "2f7e882e",
   "metadata": {},
   "source": [
    "## Slicing With Indexes"
   ]
  },
  {
   "cell_type": "code",
   "execution_count": 154,
   "id": "60e8c325",
   "metadata": {},
   "outputs": [
    {
     "data": {
      "text/plain": [
       "array([1, 2, 3, 4])"
      ]
     },
     "execution_count": 154,
     "metadata": {},
     "output_type": "execute_result"
    }
   ],
   "source": [
    "a"
   ]
  },
  {
   "cell_type": "code",
   "execution_count": 155,
   "id": "64dc4e81",
   "metadata": {},
   "outputs": [
    {
     "data": {
      "text/plain": [
       "array([2, 3, 4])"
      ]
     },
     "execution_count": 155,
     "metadata": {},
     "output_type": "execute_result"
    }
   ],
   "source": [
    "a[1:4]"
   ]
  },
  {
   "cell_type": "code",
   "execution_count": 157,
   "id": "eb1cd9b8",
   "metadata": {},
   "outputs": [
    {
     "data": {
      "text/plain": [
       "array([1, 2, 3])"
      ]
     },
     "execution_count": 157,
     "metadata": {},
     "output_type": "execute_result"
    }
   ],
   "source": [
    "a[:3]"
   ]
  },
  {
   "cell_type": "code",
   "execution_count": 158,
   "id": "81fb81d9",
   "metadata": {},
   "outputs": [
    {
     "data": {
      "text/plain": [
       "array([3, 4])"
      ]
     },
     "execution_count": 158,
     "metadata": {},
     "output_type": "execute_result"
    }
   ],
   "source": [
    "a[2:]"
   ]
  },
  {
   "cell_type": "code",
   "execution_count": 156,
   "id": "91718534",
   "metadata": {},
   "outputs": [
    {
     "data": {
      "text/plain": [
       "array([[[ 1,  2,  3],\n",
       "        [ 4,  5,  6]],\n",
       "\n",
       "       [[ 7,  8,  9],\n",
       "        [10, 11, 12]],\n",
       "\n",
       "       [[11, 12, 13],\n",
       "        [14, 15, 16]]])"
      ]
     },
     "execution_count": 156,
     "metadata": {},
     "output_type": "execute_result"
    }
   ],
   "source": [
    "c"
   ]
  },
  {
   "cell_type": "code",
   "execution_count": 159,
   "id": "3967c932",
   "metadata": {},
   "outputs": [
    {
     "data": {
      "text/plain": [
       "array([[10, 11, 12]])"
      ]
     },
     "execution_count": 159,
     "metadata": {},
     "output_type": "execute_result"
    }
   ],
   "source": [
    "c[1,1:,:]"
   ]
  },
  {
   "cell_type": "code",
   "execution_count": 160,
   "id": "66a816da",
   "metadata": {},
   "outputs": [],
   "source": [
    "d = np.random.randint(0,20,size=(4,6,7,4))"
   ]
  },
  {
   "cell_type": "code",
   "execution_count": 161,
   "id": "f292e17e",
   "metadata": {},
   "outputs": [
    {
     "data": {
      "text/plain": [
       "array([[[[ 0, 15,  0,  6],\n",
       "         [11, 10, 12, 14],\n",
       "         [ 7, 15,  0,  8],\n",
       "         [16,  5,  7, 18],\n",
       "         [ 3,  1, 16,  3],\n",
       "         [ 8, 17,  4,  8],\n",
       "         [18,  0, 14, 19]],\n",
       "\n",
       "        [[ 6, 17, 11, 18],\n",
       "         [16, 10, 15, 14],\n",
       "         [ 0, 12,  8,  8],\n",
       "         [ 4,  1,  1,  9],\n",
       "         [11,  2,  8, 19],\n",
       "         [ 0, 18, 18, 13],\n",
       "         [ 8,  6,  7,  2]],\n",
       "\n",
       "        [[ 4,  4, 13,  1],\n",
       "         [10, 17, 15, 17],\n",
       "         [ 4, 10, 14,  7],\n",
       "         [ 3,  3,  3, 17],\n",
       "         [ 6,  8, 17,  1],\n",
       "         [ 7,  4,  8,  5],\n",
       "         [ 5, 18, 15, 10]],\n",
       "\n",
       "        [[ 0, 17, 16, 11],\n",
       "         [12,  4,  2,  4],\n",
       "         [12,  2, 17, 17],\n",
       "         [12,  1, 19,  3],\n",
       "         [14,  2, 19, 19],\n",
       "         [18, 16, 11, 18],\n",
       "         [19, 15,  0, 11]],\n",
       "\n",
       "        [[19, 18,  9,  7],\n",
       "         [13,  2, 12, 13],\n",
       "         [18, 10, 10, 17],\n",
       "         [17, 12, 11, 11],\n",
       "         [17, 17,  6, 18],\n",
       "         [ 1,  6,  9, 18],\n",
       "         [14, 15, 15,  3]],\n",
       "\n",
       "        [[ 4,  5, 19,  1],\n",
       "         [10, 12,  2,  0],\n",
       "         [ 7,  1, 16, 16],\n",
       "         [14, 17,  2,  2],\n",
       "         [ 3,  1, 11, 10],\n",
       "         [11, 16,  0,  1],\n",
       "         [11,  7, 19, 13]]],\n",
       "\n",
       "\n",
       "       [[[14,  0,  1,  9],\n",
       "         [ 6,  7,  7,  5],\n",
       "         [16,  9,  3, 13],\n",
       "         [14,  1,  4, 19],\n",
       "         [11, 11, 11, 16],\n",
       "         [ 3, 14, 16,  3],\n",
       "         [ 9,  1,  3,  5]],\n",
       "\n",
       "        [[15,  1, 14, 12],\n",
       "         [ 2,  4, 13, 12],\n",
       "         [16, 15,  1, 17],\n",
       "         [ 5,  3, 11,  8],\n",
       "         [ 9, 10, 14,  4],\n",
       "         [18,  6, 11,  0],\n",
       "         [ 3, 14,  5, 19]],\n",
       "\n",
       "        [[11, 17, 13,  4],\n",
       "         [ 2,  6,  8, 16],\n",
       "         [13, 17,  7,  9],\n",
       "         [ 4,  9,  2, 19],\n",
       "         [ 8,  7, 11, 15],\n",
       "         [ 2,  7,  2,  6],\n",
       "         [18,  6, 11,  1]],\n",
       "\n",
       "        [[ 2,  2, 10,  1],\n",
       "         [ 4,  6, 18, 13],\n",
       "         [ 6, 16,  0, 15],\n",
       "         [10, 12, 12,  7],\n",
       "         [ 4,  2, 11, 19],\n",
       "         [16, 19, 17, 12],\n",
       "         [17,  0, 15, 18]],\n",
       "\n",
       "        [[16, 19,  1,  4],\n",
       "         [ 6,  1, 13, 11],\n",
       "         [15, 18, 16,  9],\n",
       "         [ 4,  5,  9,  6],\n",
       "         [ 5, 14, 17, 17],\n",
       "         [19, 14, 12, 17],\n",
       "         [ 7, 12, 11,  7]],\n",
       "\n",
       "        [[ 8,  5,  5,  5],\n",
       "         [11, 10,  5,  0],\n",
       "         [ 0, 15, 17, 10],\n",
       "         [13, 10,  8,  2],\n",
       "         [16, 13,  7, 14],\n",
       "         [ 8,  2,  5, 19],\n",
       "         [ 4,  7, 16,  2]]],\n",
       "\n",
       "\n",
       "       [[[12,  5, 13,  5],\n",
       "         [ 8,  9, 10, 15],\n",
       "         [ 1, 14,  5, 11],\n",
       "         [ 5, 13, 18, 10],\n",
       "         [12,  6, 13, 12],\n",
       "         [ 3, 10, 14,  7],\n",
       "         [17, 19,  4, 16]],\n",
       "\n",
       "        [[ 8,  5,  2, 16],\n",
       "         [ 4,  6, 12, 18],\n",
       "         [ 4,  3,  2, 18],\n",
       "         [ 4,  6, 13,  1],\n",
       "         [ 3,  7, 17, 16],\n",
       "         [ 0,  0, 19,  8],\n",
       "         [10,  2,  1,  6]],\n",
       "\n",
       "        [[ 7, 14, 16, 15],\n",
       "         [ 3, 13,  3,  7],\n",
       "         [19,  5,  6,  3],\n",
       "         [14,  4, 14,  6],\n",
       "         [ 4,  4,  4,  9],\n",
       "         [11,  6, 11, 18],\n",
       "         [ 0,  2,  2, 11]],\n",
       "\n",
       "        [[16, 15, 13, 14],\n",
       "         [12, 15,  8,  7],\n",
       "         [16, 18, 12,  6],\n",
       "         [ 8,  8, 10,  1],\n",
       "         [19,  1, 13, 14],\n",
       "         [12,  9,  2, 15],\n",
       "         [13,  3,  6,  8]],\n",
       "\n",
       "        [[19,  7, 10,  2],\n",
       "         [19,  0, 15, 10],\n",
       "         [ 6,  4,  1, 10],\n",
       "         [19, 11, 11,  5],\n",
       "         [10,  2, 13,  7],\n",
       "         [11, 19, 15, 19],\n",
       "         [ 4, 17, 14,  8]],\n",
       "\n",
       "        [[15,  5, 12,  3],\n",
       "         [16, 13, 11,  4],\n",
       "         [10,  0, 18, 13],\n",
       "         [12,  9,  8, 11],\n",
       "         [11, 11,  4, 12],\n",
       "         [ 5, 10,  8, 15],\n",
       "         [ 3,  8,  9,  7]]],\n",
       "\n",
       "\n",
       "       [[[17, 15,  0, 13],\n",
       "         [17, 14,  2, 12],\n",
       "         [ 9,  1, 14, 17],\n",
       "         [12, 18,  4,  1],\n",
       "         [ 3, 16,  1,  8],\n",
       "         [ 1, 10,  1, 14],\n",
       "         [ 0,  0, 12,  7]],\n",
       "\n",
       "        [[ 3, 18, 16, 14],\n",
       "         [ 5,  5, 10, 15],\n",
       "         [13, 10, 18,  9],\n",
       "         [16, 10,  8, 10],\n",
       "         [ 7, 16, 16, 14],\n",
       "         [17, 17, 15, 14],\n",
       "         [15,  6,  6, 14]],\n",
       "\n",
       "        [[ 1,  7,  7,  9],\n",
       "         [18, 13, 12, 11],\n",
       "         [ 1, 11,  2, 14],\n",
       "         [12,  0, 12,  3],\n",
       "         [17, 11,  2, 12],\n",
       "         [10,  5, 14,  9],\n",
       "         [10,  0, 10,  0]],\n",
       "\n",
       "        [[ 1,  6,  7,  0],\n",
       "         [18, 11,  8, 13],\n",
       "         [ 1,  5,  3,  1],\n",
       "         [ 9,  8, 15, 13],\n",
       "         [11,  7, 16,  2],\n",
       "         [ 9, 11, 14,  9],\n",
       "         [19,  0, 12, 14]],\n",
       "\n",
       "        [[14,  7, 14, 12],\n",
       "         [12, 11, 15,  9],\n",
       "         [10,  8,  1,  2],\n",
       "         [ 0, 14,  3,  9],\n",
       "         [ 7, 12,  3, 14],\n",
       "         [13,  9, 17,  8],\n",
       "         [ 0, 13, 17, 18]],\n",
       "\n",
       "        [[ 7, 10,  8,  3],\n",
       "         [11,  8,  2, 14],\n",
       "         [ 9, 10, 14, 14],\n",
       "         [11,  2,  5,  7],\n",
       "         [11, 11,  0, 10],\n",
       "         [11, 12, 12, 12],\n",
       "         [11,  9, 13,  0]]]])"
      ]
     },
     "execution_count": 161,
     "metadata": {},
     "output_type": "execute_result"
    }
   ],
   "source": [
    "d"
   ]
  },
  {
   "cell_type": "code",
   "execution_count": 162,
   "id": "cc655037",
   "metadata": {},
   "outputs": [
    {
     "data": {
      "text/plain": [
       "array([[[[ 3,  2, 18],\n",
       "         [ 6, 13,  1]],\n",
       "\n",
       "        [[ 5,  6,  3],\n",
       "         [ 4, 14,  6]]],\n",
       "\n",
       "\n",
       "       [[[10, 18,  9],\n",
       "         [10,  8, 10]],\n",
       "\n",
       "        [[11,  2, 14],\n",
       "         [ 0, 12,  3]]]])"
      ]
     },
     "execution_count": 162,
     "metadata": {},
     "output_type": "execute_result"
    }
   ],
   "source": [
    "d[2:5,1:3,2:4,1:7]"
   ]
  },
  {
   "cell_type": "code",
   "execution_count": 163,
   "id": "e787b075",
   "metadata": {},
   "outputs": [
    {
     "data": {
      "text/plain": [
       "array([[[[ 0, 15,  0,  6],\n",
       "         [11, 10, 12, 14],\n",
       "         [ 7, 15,  0,  8],\n",
       "         [16,  5,  7, 18],\n",
       "         [ 3,  1, 16,  3],\n",
       "         [ 8, 17,  4,  8],\n",
       "         [18,  0, 14, 19]],\n",
       "\n",
       "        [[ 6, 17, 11, 18],\n",
       "         [16, 10, 15, 14],\n",
       "         [ 0, 12,  8,  8],\n",
       "         [ 4,  1,  1,  9],\n",
       "         [11,  2,  8, 19],\n",
       "         [ 0, 18, 18, 13],\n",
       "         [ 8,  6,  7,  2]],\n",
       "\n",
       "        [[ 4,  4, 13,  1],\n",
       "         [10, 17, 15, 17],\n",
       "         [ 4, 10, 14,  7],\n",
       "         [ 3,  3,  3, 17],\n",
       "         [ 6,  8, 17,  1],\n",
       "         [ 7,  4,  8,  5],\n",
       "         [ 5, 18, 15, 10]],\n",
       "\n",
       "        [[ 0, 17, 16, 11],\n",
       "         [12,  4,  2,  4],\n",
       "         [12,  2, 17, 17],\n",
       "         [12,  1, 19,  3],\n",
       "         [14,  2, 19, 19],\n",
       "         [18, 16, 11, 18],\n",
       "         [19, 15,  0, 11]],\n",
       "\n",
       "        [[19, 18,  9,  7],\n",
       "         [13,  2, 12, 13],\n",
       "         [18, 10, 10, 17],\n",
       "         [17, 12, 11, 11],\n",
       "         [17, 17,  6, 18],\n",
       "         [ 1,  6,  9, 18],\n",
       "         [14, 15, 15,  3]],\n",
       "\n",
       "        [[ 4,  5, 19,  1],\n",
       "         [10, 12,  2,  0],\n",
       "         [ 7,  1, 16, 16],\n",
       "         [14, 17,  2,  2],\n",
       "         [ 3,  1, 11, 10],\n",
       "         [11, 16,  0,  1],\n",
       "         [11,  7, 19, 13]]],\n",
       "\n",
       "\n",
       "       [[[14,  0,  1,  9],\n",
       "         [ 6,  7,  7,  5],\n",
       "         [16,  9,  3, 13],\n",
       "         [14,  1,  4, 19],\n",
       "         [11, 11, 11, 16],\n",
       "         [ 3, 14, 16,  3],\n",
       "         [ 9,  1,  3,  5]],\n",
       "\n",
       "        [[15,  1, 14, 12],\n",
       "         [ 2,  4, 13, 12],\n",
       "         [16, 15,  1, 17],\n",
       "         [ 5,  3, 11,  8],\n",
       "         [ 9, 10, 14,  4],\n",
       "         [18,  6, 11,  0],\n",
       "         [ 3, 14,  5, 19]],\n",
       "\n",
       "        [[11, 17, 13,  4],\n",
       "         [ 2,  6,  8, 16],\n",
       "         [13, 17,  7,  9],\n",
       "         [ 4,  9,  2, 19],\n",
       "         [ 8,  7, 11, 15],\n",
       "         [ 2,  7,  2,  6],\n",
       "         [18,  6, 11,  1]],\n",
       "\n",
       "        [[ 2,  2, 10,  1],\n",
       "         [ 4,  6, 18, 13],\n",
       "         [ 6, 16,  0, 15],\n",
       "         [10, 12, 12,  7],\n",
       "         [ 4,  2, 11, 19],\n",
       "         [16, 19, 17, 12],\n",
       "         [17,  0, 15, 18]],\n",
       "\n",
       "        [[16, 19,  1,  4],\n",
       "         [ 6,  1, 13, 11],\n",
       "         [15, 18, 16,  9],\n",
       "         [ 4,  5,  9,  6],\n",
       "         [ 5, 14, 17, 17],\n",
       "         [19, 14, 12, 17],\n",
       "         [ 7, 12, 11,  7]],\n",
       "\n",
       "        [[ 8,  5,  5,  5],\n",
       "         [11, 10,  5,  0],\n",
       "         [ 0, 15, 17, 10],\n",
       "         [13, 10,  8,  2],\n",
       "         [16, 13,  7, 14],\n",
       "         [ 8,  2,  5, 19],\n",
       "         [ 4,  7, 16,  2]]],\n",
       "\n",
       "\n",
       "       [[[12,  5, 13,  5],\n",
       "         [ 8,  9, 10, 15],\n",
       "         [ 1, 14,  5, 11],\n",
       "         [ 5, 13, 18, 10],\n",
       "         [12,  6, 13, 12],\n",
       "         [ 3, 10, 14,  7],\n",
       "         [17, 19,  4, 16]],\n",
       "\n",
       "        [[ 8,  5,  2, 16],\n",
       "         [ 4,  6, 12, 18],\n",
       "         [ 4,  3,  2, 18],\n",
       "         [ 4,  6, 13,  1],\n",
       "         [ 3,  7, 17, 16],\n",
       "         [ 0,  0, 19,  8],\n",
       "         [10,  2,  1,  6]],\n",
       "\n",
       "        [[ 7, 14, 16, 15],\n",
       "         [ 3, 13,  3,  7],\n",
       "         [19,  5,  6,  3],\n",
       "         [14,  4, 14,  6],\n",
       "         [ 4,  4,  4,  9],\n",
       "         [11,  6, 11, 18],\n",
       "         [ 0,  2,  2, 11]],\n",
       "\n",
       "        [[16, 15, 13, 14],\n",
       "         [12, 15,  8,  7],\n",
       "         [16, 18, 12,  6],\n",
       "         [ 8,  8, 10,  1],\n",
       "         [19,  1, 13, 14],\n",
       "         [12,  9,  2, 15],\n",
       "         [13,  3,  6,  8]],\n",
       "\n",
       "        [[19,  7, 10,  2],\n",
       "         [19,  0, 15, 10],\n",
       "         [ 6,  4,  1, 10],\n",
       "         [19, 11, 11,  5],\n",
       "         [10,  2, 13,  7],\n",
       "         [11, 19, 15, 19],\n",
       "         [ 4, 17, 14,  8]],\n",
       "\n",
       "        [[15,  5, 12,  3],\n",
       "         [16, 13, 11,  4],\n",
       "         [10,  0, 18, 13],\n",
       "         [12,  9,  8, 11],\n",
       "         [11, 11,  4, 12],\n",
       "         [ 5, 10,  8, 15],\n",
       "         [ 3,  8,  9,  7]]],\n",
       "\n",
       "\n",
       "       [[[17, 15,  0, 13],\n",
       "         [17, 14,  2, 12],\n",
       "         [ 9,  1, 14, 17],\n",
       "         [12, 18,  4,  1],\n",
       "         [ 3, 16,  1,  8],\n",
       "         [ 1, 10,  1, 14],\n",
       "         [ 0,  0, 12,  7]],\n",
       "\n",
       "        [[ 3, 18, 16, 14],\n",
       "         [ 5,  5, 10, 15],\n",
       "         [13, 10, 18,  9],\n",
       "         [16, 10,  8, 10],\n",
       "         [ 7, 16, 16, 14],\n",
       "         [17, 17, 15, 14],\n",
       "         [15,  6,  6, 14]],\n",
       "\n",
       "        [[ 1,  7,  7,  9],\n",
       "         [18, 13, 12, 11],\n",
       "         [ 1, 11,  2, 14],\n",
       "         [12,  0, 12,  3],\n",
       "         [17, 11,  2, 12],\n",
       "         [10,  5, 14,  9],\n",
       "         [10,  0, 10,  0]],\n",
       "\n",
       "        [[ 1,  6,  7,  0],\n",
       "         [18, 11,  8, 13],\n",
       "         [ 1,  5,  3,  1],\n",
       "         [ 9,  8, 15, 13],\n",
       "         [11,  7, 16,  2],\n",
       "         [ 9, 11, 14,  9],\n",
       "         [19,  0, 12, 14]],\n",
       "\n",
       "        [[14,  7, 14, 12],\n",
       "         [12, 11, 15,  9],\n",
       "         [10,  8,  1,  2],\n",
       "         [ 0, 14,  3,  9],\n",
       "         [ 7, 12,  3, 14],\n",
       "         [13,  9, 17,  8],\n",
       "         [ 0, 13, 17, 18]],\n",
       "\n",
       "        [[ 7, 10,  8,  3],\n",
       "         [11,  8,  2, 14],\n",
       "         [ 9, 10, 14, 14],\n",
       "         [11,  2,  5,  7],\n",
       "         [11, 11,  0, 10],\n",
       "         [11, 12, 12, 12],\n",
       "         [11,  9, 13,  0]]]])"
      ]
     },
     "execution_count": 163,
     "metadata": {},
     "output_type": "execute_result"
    }
   ],
   "source": [
    "d[:,:,:,:4]"
   ]
  },
  {
   "cell_type": "markdown",
   "id": "1b8c3764",
   "metadata": {},
   "source": [
    "# Manuplating Arrays"
   ]
  },
  {
   "cell_type": "markdown",
   "id": "f5e80a53",
   "metadata": {},
   "source": [
    "## Arthematic Operations!"
   ]
  },
  {
   "cell_type": "code",
   "execution_count": 164,
   "id": "faf85a39",
   "metadata": {},
   "outputs": [
    {
     "data": {
      "text/plain": [
       "array([1, 2, 3, 4])"
      ]
     },
     "execution_count": 164,
     "metadata": {},
     "output_type": "execute_result"
    }
   ],
   "source": [
    "a"
   ]
  },
  {
   "cell_type": "code",
   "execution_count": 166,
   "id": "983c98c4",
   "metadata": {},
   "outputs": [],
   "source": [
    "a1 = np.array([2,4,6,8])\n",
    "a2 = np.array([1,3,5,7,9])"
   ]
  },
  {
   "cell_type": "code",
   "execution_count": 167,
   "id": "6912f2e1",
   "metadata": {},
   "outputs": [
    {
     "data": {
      "text/plain": [
       "array([2, 4, 6, 8])"
      ]
     },
     "execution_count": 167,
     "metadata": {},
     "output_type": "execute_result"
    }
   ],
   "source": [
    "a1"
   ]
  },
  {
   "cell_type": "code",
   "execution_count": 168,
   "id": "cca516e0",
   "metadata": {},
   "outputs": [
    {
     "data": {
      "text/plain": [
       "array([1, 3, 5, 7, 9])"
      ]
     },
     "execution_count": 168,
     "metadata": {},
     "output_type": "execute_result"
    }
   ],
   "source": [
    "a2"
   ]
  },
  {
   "cell_type": "code",
   "execution_count": 170,
   "id": "d9eccb0b",
   "metadata": {},
   "outputs": [
    {
     "data": {
      "text/plain": [
       "array([ 3,  6,  9, 12])"
      ]
     },
     "execution_count": 170,
     "metadata": {},
     "output_type": "execute_result"
    }
   ],
   "source": [
    "fg1 = a + a1\n",
    "fg1"
   ]
  },
  {
   "cell_type": "code",
   "execution_count": 171,
   "id": "bc588197",
   "metadata": {},
   "outputs": [
    {
     "ename": "ValueError",
     "evalue": "operands could not be broadcast together with shapes (4,) (5,) ",
     "output_type": "error",
     "traceback": [
      "\u001b[1;31m---------------------------------------------------------------------------\u001b[0m",
      "\u001b[1;31mValueError\u001b[0m                                Traceback (most recent call last)",
      "Cell \u001b[1;32mIn[171], line 1\u001b[0m\n\u001b[1;32m----> 1\u001b[0m fg2 \u001b[38;5;241m=\u001b[39m \u001b[43ma\u001b[49m\u001b[43m \u001b[49m\u001b[38;5;241;43m+\u001b[39;49m\u001b[43m \u001b[49m\u001b[43ma2\u001b[49m\n",
      "\u001b[1;31mValueError\u001b[0m: operands could not be broadcast together with shapes (4,) (5,) "
     ]
    }
   ],
   "source": [
    "fg2 = a + a2"
   ]
  },
  {
   "cell_type": "code",
   "execution_count": 173,
   "id": "bf9c1b46",
   "metadata": {},
   "outputs": [
    {
     "data": {
      "text/plain": [
       "array([2, 3, 4, 5])"
      ]
     },
     "execution_count": 173,
     "metadata": {},
     "output_type": "execute_result"
    }
   ],
   "source": [
    "fg3 = a + 1\n",
    "fg3"
   ]
  },
  {
   "cell_type": "code",
   "execution_count": 176,
   "id": "5c98bff7",
   "metadata": {},
   "outputs": [
    {
     "data": {
      "text/plain": [
       "array([ 6,  9, 12, 15])"
      ]
     },
     "execution_count": 176,
     "metadata": {},
     "output_type": "execute_result"
    }
   ],
   "source": [
    "fg4 = a + a1 + 3\n",
    "fg4"
   ]
  },
  {
   "cell_type": "code",
   "execution_count": 177,
   "id": "1a1c3eb6",
   "metadata": {},
   "outputs": [],
   "source": [
    "np.add?"
   ]
  },
  {
   "cell_type": "code",
   "execution_count": 182,
   "id": "4bc9619c",
   "metadata": {},
   "outputs": [
    {
     "data": {
      "text/plain": [
       "array([ 3,  6,  9, 12])"
      ]
     },
     "execution_count": 182,
     "metadata": {},
     "output_type": "execute_result"
    }
   ],
   "source": [
    "fga = np.add(a1,a)\n",
    "fga"
   ]
  },
  {
   "cell_type": "code",
   "execution_count": 184,
   "id": "742b7671",
   "metadata": {},
   "outputs": [
    {
     "data": {
      "text/plain": [
       "array([-1, -2, -3, -4])"
      ]
     },
     "execution_count": 184,
     "metadata": {},
     "output_type": "execute_result"
    }
   ],
   "source": [
    "fg5 = a-a1\n",
    "fg5"
   ]
  },
  {
   "cell_type": "code",
   "execution_count": 185,
   "id": "65ccef8f",
   "metadata": {},
   "outputs": [
    {
     "ename": "ValueError",
     "evalue": "operands could not be broadcast together with shapes (5,) (4,) ",
     "output_type": "error",
     "traceback": [
      "\u001b[1;31m---------------------------------------------------------------------------\u001b[0m",
      "\u001b[1;31mValueError\u001b[0m                                Traceback (most recent call last)",
      "Cell \u001b[1;32mIn[185], line 1\u001b[0m\n\u001b[1;32m----> 1\u001b[0m fg6 \u001b[38;5;241m=\u001b[39m \u001b[43ma2\u001b[49m\u001b[43m \u001b[49m\u001b[38;5;241;43m-\u001b[39;49m\u001b[43m \u001b[49m\u001b[43ma\u001b[49m\n",
      "\u001b[1;31mValueError\u001b[0m: operands could not be broadcast together with shapes (5,) (4,) "
     ]
    }
   ],
   "source": [
    "fg6 = a2 - a"
   ]
  },
  {
   "cell_type": "code",
   "execution_count": 187,
   "id": "faa08851",
   "metadata": {},
   "outputs": [
    {
     "data": {
      "text/plain": [
       "array([1, 2, 3, 4])"
      ]
     },
     "execution_count": 187,
     "metadata": {},
     "output_type": "execute_result"
    }
   ],
   "source": [
    "fg7 = a1 - a\n",
    "fg7"
   ]
  },
  {
   "cell_type": "code",
   "execution_count": 189,
   "id": "8c24a63d",
   "metadata": {},
   "outputs": [
    {
     "data": {
      "text/plain": [
       "array([ 2,  8, 18, 32])"
      ]
     },
     "execution_count": 189,
     "metadata": {},
     "output_type": "execute_result"
    }
   ],
   "source": [
    "fg8 = a1 * a\n",
    "fg8"
   ]
  },
  {
   "cell_type": "code",
   "execution_count": 191,
   "id": "6fab93d5",
   "metadata": {},
   "outputs": [
    {
     "data": {
      "text/plain": [
       "array([2., 2., 2., 2.])"
      ]
     },
     "execution_count": 191,
     "metadata": {},
     "output_type": "execute_result"
    }
   ],
   "source": [
    "fg9 = a1 / a\n",
    "fg9"
   ]
  },
  {
   "cell_type": "code",
   "execution_count": 193,
   "id": "0ec0e6d6",
   "metadata": {},
   "outputs": [
    {
     "data": {
      "text/plain": [
       "array([0, 0, 0, 0])"
      ]
     },
     "execution_count": 193,
     "metadata": {},
     "output_type": "execute_result"
    }
   ],
   "source": [
    "fg10 = a1 % a \n",
    "fg10"
   ]
  },
  {
   "cell_type": "code",
   "execution_count": 200,
   "id": "3187e55a",
   "metadata": {},
   "outputs": [
    {
     "data": {
      "text/plain": [
       "array([ 3,  6,  9, 12])"
      ]
     },
     "execution_count": 200,
     "metadata": {},
     "output_type": "execute_result"
    }
   ],
   "source": [
    "fg1"
   ]
  },
  {
   "cell_type": "code",
   "execution_count": 201,
   "id": "a7dd4d7e",
   "metadata": {},
   "outputs": [
    {
     "data": {
      "text/plain": [
       "array([1, 2, 3, 4])"
      ]
     },
     "execution_count": 201,
     "metadata": {},
     "output_type": "execute_result"
    }
   ],
   "source": [
    "a"
   ]
  },
  {
   "cell_type": "code",
   "execution_count": 202,
   "id": "2256d037",
   "metadata": {},
   "outputs": [
    {
     "data": {
      "text/plain": [
       "array([ 3,  6,  9, 12])"
      ]
     },
     "execution_count": 202,
     "metadata": {},
     "output_type": "execute_result"
    }
   ],
   "source": [
    "np.lcm(a,fg1)"
   ]
  },
  {
   "cell_type": "code",
   "execution_count": 209,
   "id": "3fbfeaf0",
   "metadata": {},
   "outputs": [
    {
     "data": {
      "text/plain": [
       "array([1.        , 0.33333334, 0.2       , 0.14285715, 0.11111111],\n",
       "      dtype=float32)"
      ]
     },
     "execution_count": 209,
     "metadata": {},
     "output_type": "execute_result"
    }
   ],
   "source": [
    "np.reciprocal(a2,dtype=np.float32)"
   ]
  },
  {
   "cell_type": "markdown",
   "id": "22686025",
   "metadata": {},
   "source": [
    "### We can find all the mathematical functions in https://numpy.org/doc/stable/reference/generated/numpy.modf.html"
   ]
  },
  {
   "cell_type": "markdown",
   "id": "8aa08aca",
   "metadata": {},
   "source": [
    "## Practincing BROADCASTING"
   ]
  },
  {
   "cell_type": "code",
   "execution_count": 210,
   "id": "628ef117",
   "metadata": {},
   "outputs": [
    {
     "data": {
      "text/plain": [
       "array([1, 2, 3, 4])"
      ]
     },
     "execution_count": 210,
     "metadata": {},
     "output_type": "execute_result"
    }
   ],
   "source": [
    "a"
   ]
  },
  {
   "cell_type": "code",
   "execution_count": 211,
   "id": "e87aae21",
   "metadata": {},
   "outputs": [
    {
     "data": {
      "text/plain": [
       "array([[ 1,  2,  3],\n",
       "       [11, 22, 33]])"
      ]
     },
     "execution_count": 211,
     "metadata": {},
     "output_type": "execute_result"
    }
   ],
   "source": [
    "b "
   ]
  },
  {
   "cell_type": "code",
   "execution_count": 212,
   "id": "2383dbbd",
   "metadata": {},
   "outputs": [
    {
     "data": {
      "text/plain": [
       "array([[[ 1,  2,  3],\n",
       "        [ 4,  5,  6]],\n",
       "\n",
       "       [[ 7,  8,  9],\n",
       "        [10, 11, 12]],\n",
       "\n",
       "       [[11, 12, 13],\n",
       "        [14, 15, 16]]])"
      ]
     },
     "execution_count": 212,
     "metadata": {},
     "output_type": "execute_result"
    }
   ],
   "source": [
    "c"
   ]
  },
  {
   "cell_type": "code",
   "execution_count": 216,
   "id": "872befd2",
   "metadata": {},
   "outputs": [
    {
     "ename": "ValueError",
     "evalue": "operands could not be broadcast together with shapes (4,) (2,3) ",
     "output_type": "error",
     "traceback": [
      "\u001b[1;31m---------------------------------------------------------------------------\u001b[0m",
      "\u001b[1;31mValueError\u001b[0m                                Traceback (most recent call last)",
      "Cell \u001b[1;32mIn[216], line 1\u001b[0m\n\u001b[1;32m----> 1\u001b[0m fga \u001b[38;5;241m=\u001b[39m \u001b[43ma\u001b[49m\u001b[43m \u001b[49m\u001b[38;5;241;43m*\u001b[39;49m\u001b[43m \u001b[49m\u001b[43mb\u001b[49m\n",
      "\u001b[1;31mValueError\u001b[0m: operands could not be broadcast together with shapes (4,) (2,3) "
     ]
    }
   ],
   "source": [
    "fga = a * b"
   ]
  },
  {
   "cell_type": "code",
   "execution_count": 220,
   "id": "bbcc2599",
   "metadata": {},
   "outputs": [
    {
     "data": {
      "text/plain": [
       "array([[6, 5, 9, 6, 6, 3, 5, 8],\n",
       "       [5, 3, 4, 9, 6, 7, 8, 5],\n",
       "       [1, 0, 6, 8, 5, 1, 0, 7],\n",
       "       [3, 3, 5, 4, 7, 8, 8, 7],\n",
       "       [0, 1, 8, 1, 1, 7, 5, 9],\n",
       "       [4, 5, 6, 8, 7, 5, 1, 0]])"
      ]
     },
     "execution_count": 220,
     "metadata": {},
     "output_type": "execute_result"
    }
   ],
   "source": [
    "b1 = np.random.randint(0,10,size=(6,8))\n",
    "b1"
   ]
  },
  {
   "cell_type": "code",
   "execution_count": 223,
   "id": "f06b97bd",
   "metadata": {},
   "outputs": [
    {
     "ename": "ValueError",
     "evalue": "operands could not be broadcast together with shapes (4,) (3,2,3) ",
     "output_type": "error",
     "traceback": [
      "\u001b[1;31m---------------------------------------------------------------------------\u001b[0m",
      "\u001b[1;31mValueError\u001b[0m                                Traceback (most recent call last)",
      "Cell \u001b[1;32mIn[223], line 1\u001b[0m\n\u001b[1;32m----> 1\u001b[0m fga \u001b[38;5;241m=\u001b[39m \u001b[43ma\u001b[49m\u001b[43m \u001b[49m\u001b[38;5;241;43m*\u001b[39;49m\u001b[43m \u001b[49m\u001b[43mc\u001b[49m\n",
      "\u001b[1;31mValueError\u001b[0m: operands could not be broadcast together with shapes (4,) (3,2,3) "
     ]
    }
   ],
   "source": [
    "fga = a * c"
   ]
  },
  {
   "cell_type": "code",
   "execution_count": 233,
   "id": "995cacd2",
   "metadata": {},
   "outputs": [],
   "source": [
    "a1 = np.random.randint(0,10,size=5)\n",
    "a2 = np.random.randint(0,10,size=(10,5))"
   ]
  },
  {
   "cell_type": "code",
   "execution_count": 234,
   "id": "57baa534",
   "metadata": {},
   "outputs": [
    {
     "data": {
      "text/plain": [
       "array([7, 3, 2, 2, 5])"
      ]
     },
     "execution_count": 234,
     "metadata": {},
     "output_type": "execute_result"
    }
   ],
   "source": [
    "a1"
   ]
  },
  {
   "cell_type": "code",
   "execution_count": 235,
   "id": "348c2535",
   "metadata": {},
   "outputs": [
    {
     "data": {
      "text/plain": [
       "array([[1, 2, 4, 1, 9],\n",
       "       [0, 5, 3, 2, 1],\n",
       "       [6, 3, 7, 8, 4],\n",
       "       [0, 2, 4, 7, 5],\n",
       "       [9, 4, 1, 5, 9],\n",
       "       [8, 9, 6, 6, 1],\n",
       "       [8, 9, 1, 8, 7],\n",
       "       [7, 8, 3, 2, 3],\n",
       "       [0, 6, 3, 9, 9],\n",
       "       [8, 1, 2, 4, 9]])"
      ]
     },
     "execution_count": 235,
     "metadata": {},
     "output_type": "execute_result"
    }
   ],
   "source": [
    "a2"
   ]
  },
  {
   "cell_type": "code",
   "execution_count": 236,
   "id": "bfda4515",
   "metadata": {},
   "outputs": [],
   "source": [
    "fga = a2 * a1"
   ]
  },
  {
   "cell_type": "code",
   "execution_count": 237,
   "id": "f99034d5",
   "metadata": {},
   "outputs": [
    {
     "data": {
      "text/plain": [
       "array([[ 7,  6,  8,  2, 45],\n",
       "       [ 0, 15,  6,  4,  5],\n",
       "       [42,  9, 14, 16, 20],\n",
       "       [ 0,  6,  8, 14, 25],\n",
       "       [63, 12,  2, 10, 45],\n",
       "       [56, 27, 12, 12,  5],\n",
       "       [56, 27,  2, 16, 35],\n",
       "       [49, 24,  6,  4, 15],\n",
       "       [ 0, 18,  6, 18, 45],\n",
       "       [56,  3,  4,  8, 45]])"
      ]
     },
     "execution_count": 237,
     "metadata": {},
     "output_type": "execute_result"
    }
   ],
   "source": [
    "fga"
   ]
  },
  {
   "cell_type": "code",
   "execution_count": 242,
   "id": "2a8d7118",
   "metadata": {},
   "outputs": [],
   "source": [
    "c1 = np.random.randint(0,10,size=(3,2,5))"
   ]
  },
  {
   "cell_type": "code",
   "execution_count": 243,
   "id": "57aa518a",
   "metadata": {},
   "outputs": [
    {
     "data": {
      "text/plain": [
       "array([[[4, 8, 6, 7, 7],\n",
       "        [1, 9, 6, 4, 8]],\n",
       "\n",
       "       [[2, 7, 8, 2, 7],\n",
       "        [3, 8, 3, 0, 2]],\n",
       "\n",
       "       [[5, 3, 1, 1, 9],\n",
       "        [3, 3, 2, 1, 2]]])"
      ]
     },
     "execution_count": 243,
     "metadata": {},
     "output_type": "execute_result"
    }
   ],
   "source": [
    "c1"
   ]
  },
  {
   "cell_type": "code",
   "execution_count": 246,
   "id": "e1cb2d18",
   "metadata": {},
   "outputs": [
    {
     "data": {
      "text/plain": [
       "array([7, 3, 2, 2, 5])"
      ]
     },
     "execution_count": 246,
     "metadata": {},
     "output_type": "execute_result"
    }
   ],
   "source": [
    "a1"
   ]
  },
  {
   "cell_type": "code",
   "execution_count": 249,
   "id": "cb891d37",
   "metadata": {},
   "outputs": [
    {
     "data": {
      "text/plain": [
       "array([[[11, 11,  8,  9, 12],\n",
       "        [ 8, 12,  8,  6, 13]],\n",
       "\n",
       "       [[ 9, 10, 10,  4, 12],\n",
       "        [10, 11,  5,  2,  7]],\n",
       "\n",
       "       [[12,  6,  3,  3, 14],\n",
       "        [10,  6,  4,  3,  7]]])"
      ]
     },
     "execution_count": 249,
     "metadata": {},
     "output_type": "execute_result"
    }
   ],
   "source": [
    "fgc = c1 + a1\n",
    "fgc"
   ]
  },
  {
   "cell_type": "code",
   "execution_count": 251,
   "id": "ab35640e",
   "metadata": {},
   "outputs": [
    {
     "data": {
      "text/plain": [
       "array([[2, 4, 8, 9, 7],\n",
       "       [0, 7, 9, 4, 6]])"
      ]
     },
     "execution_count": 251,
     "metadata": {},
     "output_type": "execute_result"
    }
   ],
   "source": [
    "b1 = np.random.randint(0,10,size=(2,5))\n",
    "b1"
   ]
  },
  {
   "cell_type": "code",
   "execution_count": 252,
   "id": "e87e1981",
   "metadata": {},
   "outputs": [
    {
     "data": {
      "text/plain": [
       "array([[[4, 8, 6, 7, 7],\n",
       "        [1, 9, 6, 4, 8]],\n",
       "\n",
       "       [[2, 7, 8, 2, 7],\n",
       "        [3, 8, 3, 0, 2]],\n",
       "\n",
       "       [[5, 3, 1, 1, 9],\n",
       "        [3, 3, 2, 1, 2]]])"
      ]
     },
     "execution_count": 252,
     "metadata": {},
     "output_type": "execute_result"
    }
   ],
   "source": [
    "c1"
   ]
  },
  {
   "cell_type": "code",
   "execution_count": 255,
   "id": "3ba5359e",
   "metadata": {},
   "outputs": [
    {
     "data": {
      "text/plain": [
       "array([[[ 6, 12, 14, 16, 14],\n",
       "        [ 1, 16, 15,  8, 14]],\n",
       "\n",
       "       [[ 4, 11, 16, 11, 14],\n",
       "        [ 3, 15, 12,  4,  8]],\n",
       "\n",
       "       [[ 7,  7,  9, 10, 16],\n",
       "        [ 3, 10, 11,  5,  8]]])"
      ]
     },
     "execution_count": 255,
     "metadata": {},
     "output_type": "execute_result"
    }
   ],
   "source": [
    "fgbc = c1 + b1\n",
    "fgbc"
   ]
  },
  {
   "cell_type": "code",
   "execution_count": 256,
   "id": "6eb437e7",
   "metadata": {},
   "outputs": [
    {
     "data": {
      "text/plain": [
       "array([[[4, 8, 6, 7, 7],\n",
       "        [1, 9, 6, 4, 8]],\n",
       "\n",
       "       [[2, 7, 8, 2, 7],\n",
       "        [3, 8, 3, 0, 2]],\n",
       "\n",
       "       [[5, 3, 1, 1, 9],\n",
       "        [3, 3, 2, 1, 2]]])"
      ]
     },
     "execution_count": 256,
     "metadata": {},
     "output_type": "execute_result"
    }
   ],
   "source": [
    "c1"
   ]
  },
  {
   "cell_type": "code",
   "execution_count": 258,
   "id": "e1c019c8",
   "metadata": {},
   "outputs": [
    {
     "data": {
      "text/plain": [
       "array([[1, 3, 0, 5, 1]])"
      ]
     },
     "execution_count": 258,
     "metadata": {},
     "output_type": "execute_result"
    }
   ],
   "source": [
    "b2 = np.random.randint(0,10,size=(1,5))\n",
    "b2"
   ]
  },
  {
   "cell_type": "code",
   "execution_count": 261,
   "id": "6f9784ef",
   "metadata": {},
   "outputs": [
    {
     "data": {
      "text/plain": [
       "array([[[ 5, 11,  6, 12,  8],\n",
       "        [ 2, 12,  6,  9,  9]],\n",
       "\n",
       "       [[ 3, 10,  8,  7,  8],\n",
       "        [ 4, 11,  3,  5,  3]],\n",
       "\n",
       "       [[ 6,  6,  1,  6, 10],\n",
       "        [ 4,  6,  2,  6,  3]]])"
      ]
     },
     "execution_count": 261,
     "metadata": {},
     "output_type": "execute_result"
    }
   ],
   "source": [
    "fgz = c1 + b2\n",
    "fgz"
   ]
  },
  {
   "cell_type": "code",
   "execution_count": 262,
   "id": "0e2ed092",
   "metadata": {},
   "outputs": [],
   "source": [
    "y = np.random.randint(0,10,size=(4,1))\n",
    "z = np.random.randint(0,10,size=7)"
   ]
  },
  {
   "cell_type": "code",
   "execution_count": 263,
   "id": "73323186",
   "metadata": {},
   "outputs": [
    {
     "data": {
      "text/plain": [
       "array([[3],\n",
       "       [0],\n",
       "       [5],\n",
       "       [1]])"
      ]
     },
     "execution_count": 263,
     "metadata": {},
     "output_type": "execute_result"
    }
   ],
   "source": [
    "y"
   ]
  },
  {
   "cell_type": "code",
   "execution_count": 264,
   "id": "16a0a6d3",
   "metadata": {},
   "outputs": [
    {
     "data": {
      "text/plain": [
       "array([9, 7, 3, 1, 8, 6, 0])"
      ]
     },
     "execution_count": 264,
     "metadata": {},
     "output_type": "execute_result"
    }
   ],
   "source": [
    "z"
   ]
  },
  {
   "cell_type": "code",
   "execution_count": 266,
   "id": "8d2ed7a6",
   "metadata": {},
   "outputs": [
    {
     "data": {
      "text/plain": [
       "array([[27, 21,  9,  3, 24, 18,  0],\n",
       "       [ 0,  0,  0,  0,  0,  0,  0],\n",
       "       [45, 35, 15,  5, 40, 30,  0],\n",
       "       [ 9,  7,  3,  1,  8,  6,  0]])"
      ]
     },
     "execution_count": 266,
     "metadata": {},
     "output_type": "execute_result"
    }
   ],
   "source": [
    "fgzy =z * y\n",
    "fgzy"
   ]
  },
  {
   "cell_type": "code",
   "execution_count": 267,
   "id": "5ce54f3e",
   "metadata": {},
   "outputs": [],
   "source": [
    "z1 = np.random.randint(0,10,size=(3,5,1))"
   ]
  },
  {
   "cell_type": "code",
   "execution_count": 268,
   "id": "bdd2b7ca",
   "metadata": {},
   "outputs": [
    {
     "data": {
      "text/plain": [
       "array([[[2],\n",
       "        [3],\n",
       "        [0],\n",
       "        [0],\n",
       "        [4]],\n",
       "\n",
       "       [[1],\n",
       "        [0],\n",
       "        [3],\n",
       "        [8],\n",
       "        [7]],\n",
       "\n",
       "       [[8],\n",
       "        [9],\n",
       "        [4],\n",
       "        [5],\n",
       "        [2]]])"
      ]
     },
     "execution_count": 268,
     "metadata": {},
     "output_type": "execute_result"
    }
   ],
   "source": [
    "z1"
   ]
  },
  {
   "cell_type": "code",
   "execution_count": 272,
   "id": "f39acce6",
   "metadata": {},
   "outputs": [
    {
     "data": {
      "text/plain": [
       "array([9, 7, 3, 1, 8, 6, 0])"
      ]
     },
     "execution_count": 272,
     "metadata": {},
     "output_type": "execute_result"
    }
   ],
   "source": [
    "z"
   ]
  },
  {
   "cell_type": "code",
   "execution_count": 274,
   "id": "9634c959",
   "metadata": {},
   "outputs": [
    {
     "data": {
      "text/plain": [
       "array([[[18, 14,  6,  2, 16, 12,  0],\n",
       "        [27, 21,  9,  3, 24, 18,  0],\n",
       "        [ 0,  0,  0,  0,  0,  0,  0],\n",
       "        [ 0,  0,  0,  0,  0,  0,  0],\n",
       "        [36, 28, 12,  4, 32, 24,  0]],\n",
       "\n",
       "       [[ 9,  7,  3,  1,  8,  6,  0],\n",
       "        [ 0,  0,  0,  0,  0,  0,  0],\n",
       "        [27, 21,  9,  3, 24, 18,  0],\n",
       "        [72, 56, 24,  8, 64, 48,  0],\n",
       "        [63, 49, 21,  7, 56, 42,  0]],\n",
       "\n",
       "       [[72, 56, 24,  8, 64, 48,  0],\n",
       "        [81, 63, 27,  9, 72, 54,  0],\n",
       "        [36, 28, 12,  4, 32, 24,  0],\n",
       "        [45, 35, 15,  5, 40, 30,  0],\n",
       "        [18, 14,  6,  2, 16, 12,  0]]])"
      ]
     },
     "execution_count": 274,
     "metadata": {},
     "output_type": "execute_result"
    }
   ],
   "source": [
    "fg1 =  z *z1\n",
    "fg1"
   ]
  },
  {
   "cell_type": "code",
   "execution_count": 275,
   "id": "4bf1057c",
   "metadata": {},
   "outputs": [
    {
     "data": {
      "text/plain": [
       "array([[[2],\n",
       "        [3],\n",
       "        [0],\n",
       "        [0],\n",
       "        [4]],\n",
       "\n",
       "       [[1],\n",
       "        [0],\n",
       "        [3],\n",
       "        [8],\n",
       "        [7]],\n",
       "\n",
       "       [[8],\n",
       "        [9],\n",
       "        [4],\n",
       "        [5],\n",
       "        [2]]])"
      ]
     },
     "execution_count": 275,
     "metadata": {},
     "output_type": "execute_result"
    }
   ],
   "source": [
    "z1"
   ]
  },
  {
   "cell_type": "code",
   "execution_count": 276,
   "id": "2a29b5a5",
   "metadata": {},
   "outputs": [
    {
     "data": {
      "text/plain": [
       "array([[3],\n",
       "       [0],\n",
       "       [5],\n",
       "       [1]])"
      ]
     },
     "execution_count": 276,
     "metadata": {},
     "output_type": "execute_result"
    }
   ],
   "source": [
    "y"
   ]
  },
  {
   "cell_type": "code",
   "execution_count": 279,
   "id": "c8bb5a9f",
   "metadata": {},
   "outputs": [
    {
     "ename": "ValueError",
     "evalue": "operands could not be broadcast together with shapes (3,5,1) (4,1) ",
     "output_type": "error",
     "traceback": [
      "\u001b[1;31m---------------------------------------------------------------------------\u001b[0m",
      "\u001b[1;31mValueError\u001b[0m                                Traceback (most recent call last)",
      "Cell \u001b[1;32mIn[279], line 1\u001b[0m\n\u001b[1;32m----> 1\u001b[0m fg2 \u001b[38;5;241m=\u001b[39m \u001b[43mz1\u001b[49m\u001b[43m \u001b[49m\u001b[38;5;241;43m*\u001b[39;49m\u001b[43m \u001b[49m\u001b[43my\u001b[49m\n\u001b[0;32m      2\u001b[0m fg2\n",
      "\u001b[1;31mValueError\u001b[0m: operands could not be broadcast together with shapes (3,5,1) (4,1) "
     ]
    }
   ],
   "source": [
    "fg2 = z1 * y\n",
    "fg2"
   ]
  },
  {
   "cell_type": "markdown",
   "id": "95a9f5dd",
   "metadata": {},
   "source": [
    "## Rules to BroadCasting :- https://numpy.org/doc/stable/user/basics.broadcasting.html#broadcastable-arrays"
   ]
  },
  {
   "cell_type": "markdown",
   "id": "149d8920",
   "metadata": {},
   "source": [
    "# AGGREGATION"
   ]
  },
  {
   "cell_type": "code",
   "execution_count": 280,
   "id": "9e48a970",
   "metadata": {},
   "outputs": [],
   "source": [
    "np.sum?"
   ]
  },
  {
   "cell_type": "code",
   "execution_count": 283,
   "id": "5ee80a64",
   "metadata": {},
   "outputs": [
    {
     "data": {
      "text/plain": [
       "array([[3, 8, 1, 1, 6, 2, 0, 0],\n",
       "       [9, 0, 1, 7, 9, 1, 2, 5],\n",
       "       [7, 8, 4, 7, 7, 6, 1, 4],\n",
       "       [0, 1, 8, 6, 7, 3, 9, 2]])"
      ]
     },
     "execution_count": 283,
     "metadata": {},
     "output_type": "execute_result"
    }
   ],
   "source": [
    "b1 = np.random.randint(0,10,size = (4,8))\n",
    "b1"
   ]
  },
  {
   "cell_type": "code",
   "execution_count": 284,
   "id": "7dfb67b6",
   "metadata": {},
   "outputs": [
    {
     "data": {
      "text/plain": [
       "135"
      ]
     },
     "execution_count": 284,
     "metadata": {},
     "output_type": "execute_result"
    }
   ],
   "source": [
    "np.sum(b1)"
   ]
  },
  {
   "cell_type": "code",
   "execution_count": 285,
   "id": "66ed2862",
   "metadata": {},
   "outputs": [
    {
     "data": {
      "text/plain": [
       "array([19, 17, 14, 21, 29, 12, 12, 11])"
      ]
     },
     "execution_count": 285,
     "metadata": {},
     "output_type": "execute_result"
    }
   ],
   "source": [
    "np.sum(b1,axis=0)"
   ]
  },
  {
   "cell_type": "code",
   "execution_count": 287,
   "id": "23ff2d70",
   "metadata": {},
   "outputs": [
    {
     "data": {
      "text/plain": [
       "array([21, 34, 44, 36])"
      ]
     },
     "execution_count": 287,
     "metadata": {},
     "output_type": "execute_result"
    }
   ],
   "source": [
    "np.sum(b1,axis=1)"
   ]
  },
  {
   "cell_type": "code",
   "execution_count": 297,
   "id": "e0c8cbdc",
   "metadata": {},
   "outputs": [
    {
     "data": {
      "text/plain": [
       "array([[[5, 7, 6, 1, 8, 1, 6, 9],\n",
       "        [0, 9, 0, 9, 1, 1, 6, 7],\n",
       "        [4, 1, 2, 0, 4, 4, 9, 3],\n",
       "        [9, 2, 7, 4, 5, 6, 8, 6],\n",
       "        [0, 2, 0, 7, 2, 8, 0, 4]],\n",
       "\n",
       "       [[9, 5, 9, 5, 4, 1, 7, 7],\n",
       "        [7, 3, 5, 0, 5, 5, 9, 6],\n",
       "        [9, 2, 7, 0, 9, 3, 3, 1],\n",
       "        [0, 3, 8, 1, 9, 3, 8, 0],\n",
       "        [9, 9, 5, 5, 1, 4, 1, 5]],\n",
       "\n",
       "       [[0, 4, 1, 4, 2, 2, 1, 3],\n",
       "        [5, 9, 9, 0, 2, 0, 9, 9],\n",
       "        [8, 4, 3, 6, 7, 8, 3, 3],\n",
       "        [6, 9, 9, 2, 2, 9, 6, 4],\n",
       "        [8, 3, 0, 9, 8, 8, 2, 5]],\n",
       "\n",
       "       [[9, 4, 4, 6, 9, 4, 4, 1],\n",
       "        [8, 5, 8, 9, 0, 9, 1, 0],\n",
       "        [2, 8, 1, 5, 6, 8, 7, 3],\n",
       "        [8, 5, 5, 2, 6, 3, 5, 7],\n",
       "        [9, 2, 3, 4, 0, 6, 2, 4]]])"
      ]
     },
     "execution_count": 297,
     "metadata": {},
     "output_type": "execute_result"
    }
   ],
   "source": [
    "c1 = np.random.randint(0,10,size=(4,5,8))\n",
    "c1"
   ]
  },
  {
   "cell_type": "code",
   "execution_count": 305,
   "id": "eff0c9b0",
   "metadata": {},
   "outputs": [
    {
     "data": {
      "text/plain": [
       "array([[23, 20, 20, 16, 23,  8, 18, 20],\n",
       "       [20, 26, 22, 18,  8, 15, 25, 22],\n",
       "       [23, 15, 13, 11, 26, 23, 22, 10],\n",
       "       [23, 19, 29,  9, 22, 21, 27, 17],\n",
       "       [26, 16,  8, 25, 11, 26,  5, 18]])"
      ]
     },
     "execution_count": 305,
     "metadata": {},
     "output_type": "execute_result"
    }
   ],
   "source": [
    "np.sum(c1,axis=0)"
   ]
  },
  {
   "cell_type": "code",
   "execution_count": 306,
   "id": "3fc35163",
   "metadata": {},
   "outputs": [
    {
     "data": {
      "text/plain": [
       "array([[18, 21, 15, 21, 20, 20, 29, 29],\n",
       "       [34, 22, 34, 11, 28, 16, 28, 19],\n",
       "       [27, 29, 22, 21, 21, 27, 21, 24],\n",
       "       [36, 24, 21, 26, 21, 30, 19, 15]])"
      ]
     },
     "execution_count": 306,
     "metadata": {},
     "output_type": "execute_result"
    }
   ],
   "source": [
    "np.sum(c1,axis=1)"
   ]
  },
  {
   "cell_type": "code",
   "execution_count": 307,
   "id": "07105a00",
   "metadata": {},
   "outputs": [
    {
     "data": {
      "text/plain": [
       "array([[43, 33, 27, 47, 23],\n",
       "       [47, 40, 34, 32, 39],\n",
       "       [17, 43, 42, 47, 43],\n",
       "       [41, 40, 40, 41, 30]])"
      ]
     },
     "execution_count": 307,
     "metadata": {},
     "output_type": "execute_result"
    }
   ],
   "source": [
    "np.sum(c1,axis=2)"
   ]
  },
  {
   "cell_type": "code",
   "execution_count": 310,
   "id": "45d32249",
   "metadata": {},
   "outputs": [],
   "source": [
    "np.max?"
   ]
  },
  {
   "cell_type": "code",
   "execution_count": 309,
   "id": "73dc573e",
   "metadata": {},
   "outputs": [],
   "source": [
    "np.amax?"
   ]
  },
  {
   "cell_type": "code",
   "execution_count": 312,
   "id": "b051b334",
   "metadata": {},
   "outputs": [],
   "source": [
    "np.std?"
   ]
  },
  {
   "cell_type": "code",
   "execution_count": 313,
   "id": "c813769e",
   "metadata": {},
   "outputs": [],
   "source": [
    "np.var?"
   ]
  },
  {
   "cell_type": "markdown",
   "id": "f75c2302",
   "metadata": {},
   "source": [
    "## All the Other Available Aggrigation functions are in the above documentaiton link as arthematic operations\n"
   ]
  },
  {
   "cell_type": "code",
   "execution_count": null,
   "id": "04588c47",
   "metadata": {},
   "outputs": [],
   "source": []
  }
 ],
 "metadata": {
  "kernelspec": {
   "display_name": "Python 3 (ipykernel)",
   "language": "python",
   "name": "python3"
  },
  "language_info": {
   "codemirror_mode": {
    "name": "ipython",
    "version": 3
   },
   "file_extension": ".py",
   "mimetype": "text/x-python",
   "name": "python",
   "nbconvert_exporter": "python",
   "pygments_lexer": "ipython3",
   "version": "3.10.9"
  }
 },
 "nbformat": 4,
 "nbformat_minor": 5
}
