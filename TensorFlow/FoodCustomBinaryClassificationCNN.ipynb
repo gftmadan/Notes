{
 "cells": [
  {
   "cell_type": "code",
   "execution_count": 2,
   "id": "ef1cc291",
   "metadata": {},
   "outputs": [],
   "source": [
    "import tensorflow as tf\n",
    "import sys"
   ]
  },
  {
   "cell_type": "markdown",
   "id": "126808c0",
   "metadata": {},
   "source": [
    "### Checking Python and Tf Version and if GPU is installed and used properly\n",
    "\n",
    "And we can check the comptability of versions with :- https://www.tensorflow.org/install/source_windows#gpu"
   ]
  },
  {
   "cell_type": "code",
   "execution_count": 3,
   "id": "cf22fdb8",
   "metadata": {},
   "outputs": [
    {
     "name": "stdout",
     "output_type": "stream",
     "text": [
      "2.10.0\n",
      "[PhysicalDevice(name='/physical_device:GPU:0', device_type='GPU')]\n",
      "3.10.0 | packaged by conda-forge | (default, Nov 10 2021, 13:20:59) [MSC v.1916 64 bit (AMD64)]\n"
     ]
    }
   ],
   "source": [
    "print(tf.__version__)\n",
    "print(tf.config.list_physical_devices(\"GPU\"))\n",
    "print(sys.version)"
   ]
  },
  {
   "cell_type": "markdown",
   "id": "d32cf1af",
   "metadata": {},
   "source": [
    "# Start to Create the CNN"
   ]
  },
  {
   "cell_type": "markdown",
   "id": "1d8595d3",
   "metadata": {},
   "source": [
    "## 1) Pre-process data and make it ready for the CNN Model"
   ]
  },
  {
   "cell_type": "markdown",
   "id": "ee76bb56",
   "metadata": {},
   "source": [
    "## ROUGH WORK!!!!!"
   ]
  },
  {
   "cell_type": "code",
   "execution_count": 3,
   "id": "7340b7e5",
   "metadata": {},
   "outputs": [],
   "source": [
    "data_dir_train = r\"D:\\Machine Learning\\Sample Project1\\Notes Notebooks\\Working_Data\\pizza_steak\\train\"\n",
    "data_dir_test = r\"D:\\Machine Learning\\Sample Project1\\Notes Notebooks\\Working_Data\\pizza_steak\\test\""
   ]
  },
  {
   "cell_type": "code",
   "execution_count": 20,
   "id": "1ccf7693",
   "metadata": {},
   "outputs": [
    {
     "name": "stdout",
     "output_type": "stream",
     "text": [
      "Found 1500 files belonging to 2 classes.\n",
      "Using 1275 files for training.\n",
      "Using 225 files for validation.\n"
     ]
    }
   ],
   "source": [
    "train_ds,valid_ds = tf.keras.utils.image_dataset_from_directory(data_dir_train,\n",
    "                                                       validation_split=0.15,\n",
    "                                                       subset=\"both\",\n",
    "                                                       seed=42,\n",
    "                                                       image_size=(224,224),\n",
    "                                                       batch_size=32\n",
    "                                                        )"
   ]
  },
  {
   "cell_type": "code",
   "execution_count": 21,
   "id": "432afebf",
   "metadata": {},
   "outputs": [
    {
     "data": {
      "text/plain": [
       "(tensorflow.python.data.ops.dataset_ops.BatchDataset,\n",
       " tensorflow.python.data.ops.dataset_ops.BatchDataset)"
      ]
     },
     "execution_count": 21,
     "metadata": {},
     "output_type": "execute_result"
    }
   ],
   "source": [
    "type(train_ds),type(valid_ds)"
   ]
  },
  {
   "cell_type": "code",
   "execution_count": 24,
   "id": "2d33939d",
   "metadata": {},
   "outputs": [],
   "source": [
    "rescale = tf.keras.Sequential([\n",
    "                                tf.keras.layers.Rescaling(scale=1.0/255.0)])"
   ]
  },
  {
   "cell_type": "code",
   "execution_count": 26,
   "id": "a46a4afe",
   "metadata": {},
   "outputs": [
    {
     "name": "stdout",
     "output_type": "stream",
     "text": [
      "WARNING:tensorflow:Layers in a Sequential model should only have a single input tensor. Received: inputs=<BatchDataset element_spec=(TensorSpec(shape=(None, 224, 224, 3), dtype=tf.float32, name=None), TensorSpec(shape=(None,), dtype=tf.int32, name=None))>. Consider rewriting this model with the Functional API.\n"
     ]
    },
    {
     "ename": "ValueError",
     "evalue": "Exception encountered when calling layer \"rescaling_1\" \"                 f\"(type Rescaling).\n\nAttempt to convert a value (<BatchDataset element_spec=(TensorSpec(shape=(None, 224, 224, 3), dtype=tf.float32, name=None), TensorSpec(shape=(None,), dtype=tf.int32, name=None))>) with an unsupported type (<class 'tensorflow.python.data.ops.dataset_ops.BatchDataset'>) to a Tensor.\n\nCall arguments received by layer \"rescaling_1\" \"                 f\"(type Rescaling):\n  • inputs=<BatchDataset element_spec=(TensorSpec(shape=(None, 224, 224, 3), dtype=tf.float32, name=None), TensorSpec(shape=(None,), dtype=tf.int32, name=None))>",
     "output_type": "error",
     "traceback": [
      "\u001b[1;31m---------------------------------------------------------------------------\u001b[0m",
      "\u001b[1;31mValueError\u001b[0m                                Traceback (most recent call last)",
      "Cell \u001b[1;32mIn[26], line 1\u001b[0m\n\u001b[1;32m----> 1\u001b[0m train_ds1 \u001b[38;5;241m=\u001b[39m \u001b[43mrescale\u001b[49m\u001b[43m(\u001b[49m\u001b[43mtrain_ds\u001b[49m\u001b[43m)\u001b[49m\n",
      "File \u001b[1;32mD:\\CNNtest\\env\\lib\\site-packages\\keras\\utils\\traceback_utils.py:70\u001b[0m, in \u001b[0;36mfilter_traceback.<locals>.error_handler\u001b[1;34m(*args, **kwargs)\u001b[0m\n\u001b[0;32m     67\u001b[0m     filtered_tb \u001b[38;5;241m=\u001b[39m _process_traceback_frames(e\u001b[38;5;241m.\u001b[39m__traceback__)\n\u001b[0;32m     68\u001b[0m     \u001b[38;5;66;03m# To get the full stack trace, call:\u001b[39;00m\n\u001b[0;32m     69\u001b[0m     \u001b[38;5;66;03m# `tf.debugging.disable_traceback_filtering()`\u001b[39;00m\n\u001b[1;32m---> 70\u001b[0m     \u001b[38;5;28;01mraise\u001b[39;00m e\u001b[38;5;241m.\u001b[39mwith_traceback(filtered_tb) \u001b[38;5;28;01mfrom\u001b[39;00m \u001b[38;5;28;01mNone\u001b[39;00m\n\u001b[0;32m     71\u001b[0m \u001b[38;5;28;01mfinally\u001b[39;00m:\n\u001b[0;32m     72\u001b[0m     \u001b[38;5;28;01mdel\u001b[39;00m filtered_tb\n",
      "File \u001b[1;32mD:\\CNNtest\\env\\lib\\site-packages\\tensorflow\\python\\framework\\constant_op.py:102\u001b[0m, in \u001b[0;36mconvert_to_eager_tensor\u001b[1;34m(value, ctx, dtype)\u001b[0m\n\u001b[0;32m    100\u001b[0m     dtype \u001b[38;5;241m=\u001b[39m dtypes\u001b[38;5;241m.\u001b[39mas_dtype(dtype)\u001b[38;5;241m.\u001b[39mas_datatype_enum\n\u001b[0;32m    101\u001b[0m ctx\u001b[38;5;241m.\u001b[39mensure_initialized()\n\u001b[1;32m--> 102\u001b[0m \u001b[38;5;28;01mreturn\u001b[39;00m \u001b[43mops\u001b[49m\u001b[38;5;241;43m.\u001b[39;49m\u001b[43mEagerTensor\u001b[49m\u001b[43m(\u001b[49m\u001b[43mvalue\u001b[49m\u001b[43m,\u001b[49m\u001b[43m \u001b[49m\u001b[43mctx\u001b[49m\u001b[38;5;241;43m.\u001b[39;49m\u001b[43mdevice_name\u001b[49m\u001b[43m,\u001b[49m\u001b[43m \u001b[49m\u001b[43mdtype\u001b[49m\u001b[43m)\u001b[49m\n",
      "\u001b[1;31mValueError\u001b[0m: Exception encountered when calling layer \"rescaling_1\" \"                 f\"(type Rescaling).\n\nAttempt to convert a value (<BatchDataset element_spec=(TensorSpec(shape=(None, 224, 224, 3), dtype=tf.float32, name=None), TensorSpec(shape=(None,), dtype=tf.int32, name=None))>) with an unsupported type (<class 'tensorflow.python.data.ops.dataset_ops.BatchDataset'>) to a Tensor.\n\nCall arguments received by layer \"rescaling_1\" \"                 f\"(type Rescaling):\n  • inputs=<BatchDataset element_spec=(TensorSpec(shape=(None, 224, 224, 3), dtype=tf.float32, name=None), TensorSpec(shape=(None,), dtype=tf.int32, name=None))>"
     ]
    }
   ],
   "source": [
    "train_ds1 = rescale(train_ds)"
   ]
  },
  {
   "cell_type": "code",
   "execution_count": 27,
   "id": "f7345c6e",
   "metadata": {},
   "outputs": [],
   "source": [
    "images,labels = next(iter(train_ds))\n",
    "image = images[0]"
   ]
  },
  {
   "cell_type": "code",
   "execution_count": 28,
   "id": "2f1de8a7",
   "metadata": {},
   "outputs": [],
   "source": [
    "res_img = rescale(image)"
   ]
  },
  {
   "cell_type": "code",
   "execution_count": 29,
   "id": "2d5a11dc",
   "metadata": {},
   "outputs": [
    {
     "data": {
      "text/plain": [
       "<tf.Tensor: shape=(224, 224, 3), dtype=float32, numpy=\n",
       "array([[[0.0670068 , 0.05916367, 0.07877152],\n",
       "        [0.08093238, 0.07308923, 0.09269708],\n",
       "        [0.07444979, 0.06660665, 0.08621449],\n",
       "        ...,\n",
       "        [0.1485387 , 0.11548565, 0.07150814],\n",
       "        [0.13893564, 0.10756309, 0.06442583],\n",
       "        [0.15652308, 0.12122896, 0.08593483]],\n",
       "\n",
       "       [[0.09765907, 0.08981593, 0.10942377],\n",
       "        [0.08291317, 0.07507003, 0.09467787],\n",
       "        [0.06576631, 0.05792318, 0.07753102],\n",
       "        ...,\n",
       "        [0.13463368, 0.10158062, 0.05928361],\n",
       "        [0.14871955, 0.117347  , 0.07420974],\n",
       "        [0.14911966, 0.11382554, 0.07853143]],\n",
       "\n",
       "       [[0.07847139, 0.07062826, 0.0902361 ],\n",
       "        [0.07781113, 0.06996799, 0.08957583],\n",
       "        [0.07909164, 0.0712485 , 0.08917567],\n",
       "        ...,\n",
       "        [0.15210094, 0.11856766, 0.07777127],\n",
       "        [0.14341737, 0.10812326, 0.07282913],\n",
       "        [0.12745057, 0.09215645, 0.05686234]],\n",
       "\n",
       "       ...,\n",
       "\n",
       "       [[0.5613245 , 0.4907362 , 0.40614218],\n",
       "        [0.73641455, 0.6658263 , 0.5795518 ],\n",
       "        [0.85014004, 0.7797318 , 0.68525404],\n",
       "        ...,\n",
       "        [0.29411766, 0.26666668, 0.24145676],\n",
       "        [0.32044846, 0.2890759 , 0.27737123],\n",
       "        [0.31910717, 0.28689435, 0.28157198]],\n",
       "\n",
       "       [[0.570028  , 0.48767507, 0.4053221 ],\n",
       "        [0.7467987 , 0.66444576, 0.5820928 ],\n",
       "        [0.86190486, 0.7803922 , 0.69551826],\n",
       "        ...,\n",
       "        [0.31002408, 0.2825731 , 0.24952003],\n",
       "        [0.3019608 , 0.27450982, 0.2509804 ],\n",
       "        [0.31326574, 0.2818932 , 0.2701285 ]],\n",
       "\n",
       "       [[0.55344105, 0.47108808, 0.38873515],\n",
       "        [0.73249274, 0.6501398 , 0.5677869 ],\n",
       "        [0.8512603 , 0.76890737, 0.68655443],\n",
       "        ...,\n",
       "        [0.31740707, 0.28211296, 0.25298145],\n",
       "        [0.3217491 , 0.28645498, 0.26684713],\n",
       "        [0.31816673, 0.27895105, 0.2711079 ]]], dtype=float32)>"
      ]
     },
     "execution_count": 29,
     "metadata": {},
     "output_type": "execute_result"
    }
   ],
   "source": [
    "res_img"
   ]
  },
  {
   "cell_type": "code",
   "execution_count": 31,
   "id": "3f1336f4",
   "metadata": {},
   "outputs": [],
   "source": [
    "train_ds1 = train_ds.map(map_func= lambda x,y:(rescale(x),y),\n",
    "                         num_parallel_calls=tf.data.AUTOTUNE)"
   ]
  },
  {
   "cell_type": "code",
   "execution_count": 32,
   "id": "b25ae544",
   "metadata": {},
   "outputs": [],
   "source": [
    "images,labels = next(iter(train_ds1))"
   ]
  },
  {
   "cell_type": "code",
   "execution_count": 36,
   "id": "44fb1990",
   "metadata": {},
   "outputs": [
    {
     "data": {
      "text/plain": [
       "<tf.Tensor: shape=(224, 224, 3), dtype=float32, numpy=\n",
       "array([[[0.06112446, 0.04151661, 0.05820328],\n",
       "        [0.04865947, 0.03295318, 0.05014006],\n",
       "        [0.04733894, 0.0394958 , 0.05910365],\n",
       "        ...,\n",
       "        [0.12382916, 0.0672467 , 0.02134862],\n",
       "        [0.10672265, 0.05564219, 0.02773114],\n",
       "        [0.09293696, 0.03803499, 0.03551399]],\n",
       "\n",
       "       [[0.04863946, 0.03921569, 0.06218488],\n",
       "        [0.04367747, 0.03191276, 0.05992397],\n",
       "        [0.03915566, 0.03523409, 0.05932373],\n",
       "        ...,\n",
       "        [0.12352891, 0.06296485, 0.03579407],\n",
       "        [0.0943777 , 0.03919562, 0.0367347 ],\n",
       "        [0.08319301, 0.02408936, 0.04509777]],\n",
       "\n",
       "       [[0.04789916, 0.04119648, 0.07563026],\n",
       "        [0.04419768, 0.03551421, 0.07697079],\n",
       "        [0.03837535, 0.03269308, 0.07264906],\n",
       "        ...,\n",
       "        [0.14611802, 0.08235269, 0.08207266],\n",
       "        [0.11328514, 0.05138037, 0.08517396],\n",
       "        [0.07845101, 0.01460535, 0.06636639]],\n",
       "\n",
       "       ...,\n",
       "\n",
       "       [[0.6156459 , 0.5770304 , 0.3344334 ],\n",
       "        [0.6265503 , 0.555722  , 0.3239093 ],\n",
       "        [0.64891946, 0.5420967 , 0.3217486 ],\n",
       "        ...,\n",
       "        [0.16374515, 0.25256068, 0.3151255 ],\n",
       "        [0.15904367, 0.25866345, 0.31658658],\n",
       "        [0.15742236, 0.25998348, 0.3106637 ]],\n",
       "\n",
       "       [[0.5314717 , 0.4950572 , 0.25444096],\n",
       "        [0.56196415, 0.50027955, 0.26864687],\n",
       "        [0.572788  , 0.46276397, 0.25598142],\n",
       "        ...,\n",
       "        [0.15900342, 0.23053183, 0.27821076],\n",
       "        [0.14177658, 0.22943178, 0.28067222],\n",
       "        [0.13799454, 0.24743842, 0.2946773 ]],\n",
       "\n",
       "       [[0.5373749 , 0.49955976, 0.2681872 ],\n",
       "        [0.53323334, 0.46796718, 0.24779913],\n",
       "        [0.56010395, 0.44693863, 0.25170052],\n",
       "        ...,\n",
       "        [0.18129244, 0.24905959, 0.28719497],\n",
       "        [0.14893933, 0.23651461, 0.2871348 ],\n",
       "        [0.11534569, 0.22655031, 0.27965164]]], dtype=float32)>"
      ]
     },
     "execution_count": 36,
     "metadata": {},
     "output_type": "execute_result"
    }
   ],
   "source": [
    "images[3]"
   ]
  },
  {
   "cell_type": "code",
   "execution_count": 205,
   "id": "61bd9a82",
   "metadata": {},
   "outputs": [],
   "source": [
    "# Creating Function for Visualizing Data Augmentation\n",
    "\n",
    "import matplotlib.pyplot as plt\n",
    "import random\n",
    "\n",
    "def vis_augmen_img(normal,augmen):\n",
    "    rand = random.randint(0,31)\n",
    "    print(rand)\n",
    "    plt.figure()\n",
    "    normal =normal/255.0\n",
    "    plt.imshow(normal[rand])\n",
    "    plt.title(\"Original Image\")\n",
    "    plt.axis(False)\n",
    "    plt.figure()\n",
    "    plt.imshow(augmen[rand])\n",
    "    plt.title(\"Augumentated Image\")\n",
    "    plt.axis(False)\n",
    "    plt.show()"
   ]
  },
  {
   "cell_type": "markdown",
   "id": "fabd3591",
   "metadata": {},
   "source": [
    "## NORMAL WORK Without Data Augmentation"
   ]
  },
  {
   "cell_type": "code",
   "execution_count": 30,
   "id": "2df1da7d",
   "metadata": {},
   "outputs": [
    {
     "name": "stdout",
     "output_type": "stream",
     "text": [
      "Found 1500 files belonging to 2 classes.\n",
      "Using 1275 files for training.\n",
      "Using 225 files for validation.\n",
      "Found 500 files belonging to 2 classes.\n"
     ]
    }
   ],
   "source": [
    "# Loading Images From Directory To A Suitable Tensorflow DataSets\n",
    "\n",
    "\n",
    "train_ds_mn,valid_ds_mn = tf.keras.utils.image_dataset_from_directory(data_dir_train,\n",
    "                                                                validation_split=0.15,\n",
    "                                                                subset=\"both\",\n",
    "                                                                shuffle=True,\n",
    "                                                                seed=42,\n",
    "                                                                image_size=(224,224),\n",
    "                                                                batch_size=32)\n",
    "\n",
    "test_ds_mn = tf.keras.utils.image_dataset_from_directory(data_dir_test,\n",
    "                                                         batch_size=32,\n",
    "                                                         shuffle=True,\n",
    "                                                         seed =42,\n",
    "                                                         image_size=(224,224))"
   ]
  },
  {
   "cell_type": "code",
   "execution_count": 31,
   "id": "ff2c1713",
   "metadata": {},
   "outputs": [],
   "source": [
    "images,labels= next(iter(train_ds_mn))"
   ]
  },
  {
   "cell_type": "code",
   "execution_count": 32,
   "id": "c2dd036a",
   "metadata": {},
   "outputs": [
    {
     "data": {
      "text/plain": [
       "<tf.Tensor: shape=(32,), dtype=int32, numpy=\n",
       "array([0, 1, 1, 1, 1, 0, 1, 0, 1, 1, 1, 1, 0, 1, 0, 0, 0, 0, 0, 0, 0, 0,\n",
       "       0, 0, 1, 1, 0, 1, 1, 0, 1, 0])>"
      ]
     },
     "execution_count": 32,
     "metadata": {},
     "output_type": "execute_result"
    }
   ],
   "source": [
    "labels"
   ]
  },
  {
   "cell_type": "code",
   "execution_count": 53,
   "id": "9b6fc80b",
   "metadata": {},
   "outputs": [],
   "source": [
    "model1 = tf.keras.Sequential([\n",
    "                                tf.keras.layers.Rescaling(1.0/255.0),\n",
    "                                tf.keras.layers.Conv2D(10,3,activation=\"relu\",input_shape=(224,224,3)),\n",
    "                                tf.keras.layers.Conv2D(10,3,activation=\"relu\"),\n",
    "                                tf.keras.layers.MaxPool2D(pool_size=2,padding=\"valid\"),\n",
    "                                tf.keras.layers.Conv2D(10,3,activation=\"relu\"),\n",
    "                                tf.keras.layers.MaxPool2D(pool_size=2,padding=\"valid\"),\n",
    "                                tf.keras.layers.Conv2D(10,3,activation=\"relu\"),\n",
    "                                tf.keras.layers.MaxPool2D(pool_size=2,padding=\"valid\"),\n",
    "                                tf.keras.layers.Flatten(),\n",
    "                                tf.keras.layers.Dense(1,activation=\"sigmoid\")\n",
    "])\n",
    "\n",
    "\n",
    "model1.compile(loss=\"binary_crossentropy\",optimizer=tf.keras.optimizers.Adam(),metrics=[\"accuracy\"])"
   ]
  },
  {
   "cell_type": "code",
   "execution_count": 54,
   "id": "2200d622",
   "metadata": {},
   "outputs": [
    {
     "name": "stdout",
     "output_type": "stream",
     "text": [
      "Epoch 1/10\n",
      "40/40 [==============================] - 3s 43ms/step - loss: 0.6133 - accuracy: 0.6549 - val_loss: 0.5279 - val_accuracy: 0.7556\n",
      "Epoch 2/10\n",
      "40/40 [==============================] - 2s 40ms/step - loss: 0.4634 - accuracy: 0.7875 - val_loss: 0.4695 - val_accuracy: 0.8044\n",
      "Epoch 3/10\n",
      "40/40 [==============================] - 2s 40ms/step - loss: 0.4359 - accuracy: 0.8055 - val_loss: 0.5165 - val_accuracy: 0.7600\n",
      "Epoch 4/10\n",
      "40/40 [==============================] - 2s 39ms/step - loss: 0.4117 - accuracy: 0.8188 - val_loss: 0.4188 - val_accuracy: 0.8178\n",
      "Epoch 5/10\n",
      "40/40 [==============================] - 2s 39ms/step - loss: 0.3742 - accuracy: 0.8416 - val_loss: 0.4432 - val_accuracy: 0.8044\n",
      "Epoch 6/10\n",
      "40/40 [==============================] - 2s 39ms/step - loss: 0.3719 - accuracy: 0.8431 - val_loss: 0.4229 - val_accuracy: 0.8044\n",
      "Epoch 7/10\n",
      "40/40 [==============================] - 2s 39ms/step - loss: 0.3443 - accuracy: 0.8557 - val_loss: 0.4278 - val_accuracy: 0.8044\n",
      "Epoch 8/10\n",
      "40/40 [==============================] - 2s 39ms/step - loss: 0.3510 - accuracy: 0.8541 - val_loss: 0.4549 - val_accuracy: 0.7867\n",
      "Epoch 9/10\n",
      "40/40 [==============================] - 2s 40ms/step - loss: 0.3291 - accuracy: 0.8651 - val_loss: 0.3988 - val_accuracy: 0.8178\n",
      "Epoch 10/10\n",
      "40/40 [==============================] - 2s 39ms/step - loss: 0.3192 - accuracy: 0.8729 - val_loss: 0.4127 - val_accuracy: 0.8178\n"
     ]
    }
   ],
   "source": [
    "hist = model1.fit(train_ds_mn,\n",
    "           epochs=10,\n",
    "           validation_data=valid_ds_mn,\n",
    "           steps_per_epoch=len(train_ds_mn),\n",
    "           validation_steps=len(valid_ds_mn))"
   ]
  },
  {
   "cell_type": "code",
   "execution_count": 55,
   "id": "827f973d",
   "metadata": {},
   "outputs": [
    {
     "data": {
      "text/plain": [
       "{'loss': [0.6133077144622803,\n",
       "  0.4633752107620239,\n",
       "  0.4359036684036255,\n",
       "  0.41171151399612427,\n",
       "  0.3742154836654663,\n",
       "  0.3718888461589813,\n",
       "  0.34431084990501404,\n",
       "  0.35103878378868103,\n",
       "  0.32914626598358154,\n",
       "  0.3191666603088379],\n",
       " 'accuracy': [0.6549019813537598,\n",
       "  0.7874509692192078,\n",
       "  0.8054901957511902,\n",
       "  0.818823516368866,\n",
       "  0.841568648815155,\n",
       "  0.843137264251709,\n",
       "  0.8556862473487854,\n",
       "  0.8541176319122314,\n",
       "  0.8650980591773987,\n",
       "  0.8729411959648132],\n",
       " 'val_loss': [0.527945339679718,\n",
       "  0.4694926142692566,\n",
       "  0.5165278911590576,\n",
       "  0.41881120204925537,\n",
       "  0.4432220160961151,\n",
       "  0.42293867468833923,\n",
       "  0.4278086721897125,\n",
       "  0.45488792657852173,\n",
       "  0.3988136053085327,\n",
       "  0.41269350051879883],\n",
       " 'val_accuracy': [0.7555555701255798,\n",
       "  0.804444432258606,\n",
       "  0.7599999904632568,\n",
       "  0.8177777528762817,\n",
       "  0.804444432258606,\n",
       "  0.804444432258606,\n",
       "  0.804444432258606,\n",
       "  0.7866666913032532,\n",
       "  0.8177777528762817,\n",
       "  0.8177777528762817]}"
      ]
     },
     "execution_count": 55,
     "metadata": {},
     "output_type": "execute_result"
    }
   ],
   "source": [
    "hist.history"
   ]
  },
  {
   "cell_type": "code",
   "execution_count": 56,
   "id": "412e1d75",
   "metadata": {},
   "outputs": [
    {
     "data": {
      "image/png": "[encoded data removed]",
      "text/plain": [
       "<Figure size 640x480 with 1 Axes>"
      ]
     },
     "metadata": {},
     "output_type": "display_data"
    },
    {
     "data": {
      "image/png": "[encoded data removed]",
      "text/plain": [
       "<Figure size 640x480 with 1 Axes>"
      ]
     },
     "metadata": {},
     "output_type": "display_data"
    }
   ],
   "source": [
    "import matplotlib.pyplot as plt\n",
    "\n",
    "plt.figure()\n",
    "plt.plot(hist.history[\"loss\"],label=\"Training Loss\")\n",
    "plt.plot(hist.history[\"val_loss\"],label=\"Validation Loss\")\n",
    "plt.legend()\n",
    "plt.show()\n",
    "\n",
    "plt.figure()\n",
    "plt.plot(hist.history[\"accuracy\"],label=\"Training Accuracy\")\n",
    "plt.plot(hist.history[\"val_accuracy\"],label=\"Validation Accuracy\")\n",
    "plt.legend()\n",
    "plt.show()"
   ]
  },
  {
   "cell_type": "markdown",
   "id": "a57f14db",
   "metadata": {},
   "source": [
    "# Normal Work with Data Augmentation"
   ]
  },
  {
   "cell_type": "code",
   "execution_count": 33,
   "id": "cbb77587",
   "metadata": {},
   "outputs": [],
   "source": [
    "# Creating a Data Augmentation Keras Sequential Model\n",
    "\n",
    "augmen_model = tf.keras.Sequential([\n",
    "                                    tf.keras.layers.RandomRotation(factor=0.15),\n",
    "                                    tf.keras.layers.RandomHeight(factor=0.15),\n",
    "                                    tf.keras.layers.RandomWidth(factor=0.15),\n",
    "                                    tf.keras.layers.RandomZoom(height_factor=0.15),\n",
    "                                    tf.keras.layers.Resizing(224,224)\n",
    "])"
   ]
  },
  {
   "cell_type": "code",
   "execution_count": 34,
   "id": "a2063563",
   "metadata": {},
   "outputs": [
    {
     "name": "stdout",
     "output_type": "stream",
     "text": [
      "Found 1500 files belonging to 2 classes.\n",
      "Using 1275 files for training.\n",
      "Found 1500 files belonging to 2 classes.\n",
      "Using 225 files for validation.\n"
     ]
    }
   ],
   "source": [
    "train_ds_new = tf.keras.utils.image_dataset_from_directory(data_dir_train,\n",
    "                                                           validation_split=0.15,\n",
    "                                                           seed=42,\n",
    "                                                           subset=\"training\",\n",
    "                                                           image_size=(224,224),\n",
    "                                                           batch_size=None)\n",
    "\n",
    "valid_ds_new = tf.keras.utils.image_dataset_from_directory(data_dir_train,\n",
    "                                                           validation_split=0.15,\n",
    "                                                           seed=42,\n",
    "                                                           subset=\"validation\",\n",
    "                                                           image_size=(224,224),\n",
    "                                                           batch_size=32)"
   ]
  },
  {
   "cell_type": "code",
   "execution_count": 35,
   "id": "0deabb7c",
   "metadata": {},
   "outputs": [
    {
     "data": {
      "text/plain": [
       "<ShuffleDataset element_spec=(TensorSpec(shape=(224, 224, 3), dtype=tf.float32, name=None), TensorSpec(shape=(), dtype=tf.int32, name=None))>"
      ]
     },
     "execution_count": 35,
     "metadata": {},
     "output_type": "execute_result"
    }
   ],
   "source": [
    "train_ds_new"
   ]
  },
  {
   "cell_type": "code",
   "execution_count": 36,
   "id": "5aa65e60",
   "metadata": {},
   "outputs": [],
   "source": [
    "images,labels= next(iter(train_ds_new))"
   ]
  },
  {
   "cell_type": "code",
   "execution_count": 37,
   "id": "2322e4b4",
   "metadata": {},
   "outputs": [
    {
     "data": {
      "text/plain": [
       "<tf.Tensor: shape=(), dtype=int32, numpy=0>"
      ]
     },
     "execution_count": 37,
     "metadata": {},
     "output_type": "execute_result"
    }
   ],
   "source": [
    "labels"
   ]
  },
  {
   "cell_type": "code",
   "execution_count": 38,
   "id": "6dab6d7a",
   "metadata": {},
   "outputs": [
    {
     "data": {
      "text/plain": [
       "<BatchDataset element_spec=(TensorSpec(shape=(None, 224, 224, 3), dtype=tf.float32, name=None), TensorSpec(shape=(None,), dtype=tf.int32, name=None))>"
      ]
     },
     "execution_count": 38,
     "metadata": {},
     "output_type": "execute_result"
    }
   ],
   "source": [
    "valid_ds_new"
   ]
  },
  {
   "cell_type": "code",
   "execution_count": 39,
   "id": "e83ec9ed",
   "metadata": {},
   "outputs": [],
   "source": [
    "images,labels= next(iter(valid_ds_new))"
   ]
  },
  {
   "cell_type": "code",
   "execution_count": 40,
   "id": "ed62971b",
   "metadata": {},
   "outputs": [
    {
     "data": {
      "text/plain": [
       "<tf.Tensor: shape=(32,), dtype=int32, numpy=\n",
       "array([0, 1, 1, 0, 0, 0, 1, 0, 0, 1, 1, 0, 0, 1, 1, 0, 0, 0, 0, 1, 0, 0,\n",
       "       1, 0, 0, 0, 0, 1, 1, 1, 1, 0])>"
      ]
     },
     "execution_count": 40,
     "metadata": {},
     "output_type": "execute_result"
    }
   ],
   "source": [
    "labels"
   ]
  },
  {
   "cell_type": "code",
   "execution_count": 41,
   "id": "cb83428e",
   "metadata": {},
   "outputs": [],
   "source": [
    "train_ds_augmen = train_ds_new.map(map_func=(lambda x,y:(augmen_model(x),y)),\n",
    "                                   num_parallel_calls=tf.data.AUTOTUNE)"
   ]
  },
  {
   "cell_type": "code",
   "execution_count": 42,
   "id": "f7a391f5",
   "metadata": {},
   "outputs": [],
   "source": [
    "images,labels= next(iter(train_ds_augmen))"
   ]
  },
  {
   "cell_type": "code",
   "execution_count": 43,
   "id": "a010257a",
   "metadata": {},
   "outputs": [
    {
     "data": {
      "text/plain": [
       "<tf.Tensor: shape=(), dtype=int32, numpy=1>"
      ]
     },
     "execution_count": 43,
     "metadata": {},
     "output_type": "execute_result"
    }
   ],
   "source": [
    "labels"
   ]
  },
  {
   "cell_type": "code",
   "execution_count": 14,
   "id": "b0e72164",
   "metadata": {},
   "outputs": [
    {
     "data": {
      "text/plain": [
       "<BatchDataset element_spec=(TensorSpec(shape=(None, 224, 224, 3), dtype=tf.float32, name=None), TensorSpec(shape=(None,), dtype=tf.int32, name=None))>"
      ]
     },
     "execution_count": 14,
     "metadata": {},
     "output_type": "execute_result"
    }
   ],
   "source": [
    "train_ds_augmen1 = train_ds_augmen.batch(32)\n",
    "train_ds_augmen"
   ]
  },
  {
   "cell_type": "code",
   "execution_count": 15,
   "id": "0b757495",
   "metadata": {},
   "outputs": [],
   "source": [
    "images,labels = next(iter(train_ds_augmen))"
   ]
  },
  {
   "cell_type": "code",
   "execution_count": 19,
   "id": "e63c8782",
   "metadata": {},
   "outputs": [
    {
     "data": {
      "text/plain": [
       "<tf.Tensor: shape=(), dtype=int32, numpy=0>"
      ]
     },
     "execution_count": 19,
     "metadata": {},
     "output_type": "execute_result"
    }
   ],
   "source": [
    "labels[3]"
   ]
  },
  {
   "cell_type": "code",
   "execution_count": 9,
   "id": "c37a8315",
   "metadata": {},
   "outputs": [],
   "source": [
    "model1 = tf.keras.Sequential([\n",
    "                                tf.keras.layers.Rescaling(1.0/255.0),\n",
    "                                tf.keras.layers.Conv2D(10,3,activation=\"relu\",input_shape=(224,224,3)),\n",
    "                                tf.keras.layers.Conv2D(10,3,activation=\"relu\"),\n",
    "                                tf.keras.layers.MaxPool2D(pool_size=2,padding=\"valid\"),\n",
    "                                tf.keras.layers.Conv2D(10,3,activation=\"relu\"),\n",
    "                                tf.keras.layers.MaxPool2D(pool_size=2,padding=\"valid\"),\n",
    "                                tf.keras.layers.Conv2D(10,3,activation=\"relu\"),\n",
    "                                tf.keras.layers.MaxPool2D(pool_size=2,padding=\"valid\"),\n",
    "                                tf.keras.layers.Flatten(),\n",
    "                                tf.keras.layers.Dense(1,activation=\"sigmoid\")\n",
    "])\n",
    "\n",
    "\n",
    "model1.compile(loss=\"binary_crossentropy\",optimizer=tf.keras.optimizers.Adam(),metrics=[\"accuracy\"])"
   ]
  },
  {
   "cell_type": "code",
   "execution_count": 10,
   "id": "d3851042",
   "metadata": {},
   "outputs": [
    {
     "name": "stdout",
     "output_type": "stream",
     "text": [
      "Epoch 1/100\n",
      "40/40 [==============================] - 23s 88ms/step - loss: 0.6396 - accuracy: 0.6110 - val_loss: 0.5479 - val_accuracy: 0.7378\n",
      "Epoch 2/100\n",
      "40/40 [==============================] - 2s 54ms/step - loss: 0.5402 - accuracy: 0.7302 - val_loss: 0.5055 - val_accuracy: 0.7911\n",
      "Epoch 3/100\n",
      "40/40 [==============================] - 2s 53ms/step - loss: 0.4888 - accuracy: 0.7663 - val_loss: 0.4629 - val_accuracy: 0.7822\n",
      "Epoch 4/100\n",
      "40/40 [==============================] - 3s 54ms/step - loss: 0.4498 - accuracy: 0.7922 - val_loss: 0.5467 - val_accuracy: 0.7422\n",
      "Epoch 5/100\n",
      "40/40 [==============================] - 2s 53ms/step - loss: 0.4262 - accuracy: 0.8078 - val_loss: 0.4678 - val_accuracy: 0.8089\n",
      "Epoch 6/100\n",
      "40/40 [==============================] - 3s 55ms/step - loss: 0.4213 - accuracy: 0.8102 - val_loss: 0.4568 - val_accuracy: 0.8000\n",
      "Epoch 7/100\n",
      "40/40 [==============================] - 3s 54ms/step - loss: 0.4274 - accuracy: 0.8086 - val_loss: 0.4320 - val_accuracy: 0.8089\n",
      "Epoch 8/100\n",
      "40/40 [==============================] - 3s 55ms/step - loss: 0.4035 - accuracy: 0.8173 - val_loss: 0.4516 - val_accuracy: 0.8178\n",
      "Epoch 9/100\n",
      "40/40 [==============================] - 3s 56ms/step - loss: 0.3958 - accuracy: 0.8345 - val_loss: 0.4599 - val_accuracy: 0.8089\n",
      "Epoch 10/100\n",
      "40/40 [==============================] - 3s 63ms/step - loss: 0.3835 - accuracy: 0.8275 - val_loss: 0.4157 - val_accuracy: 0.8178\n",
      "Epoch 11/100\n",
      "40/40 [==============================] - 3s 56ms/step - loss: 0.3679 - accuracy: 0.8518 - val_loss: 0.4108 - val_accuracy: 0.8222\n",
      "Epoch 12/100\n",
      "40/40 [==============================] - 3s 57ms/step - loss: 0.3863 - accuracy: 0.8322 - val_loss: 0.4081 - val_accuracy: 0.8133\n",
      "Epoch 13/100\n",
      "40/40 [==============================] - 3s 53ms/step - loss: 0.3891 - accuracy: 0.8369 - val_loss: 0.4283 - val_accuracy: 0.7822\n",
      "Epoch 14/100\n",
      "40/40 [==============================] - 3s 56ms/step - loss: 0.3645 - accuracy: 0.8502 - val_loss: 0.4178 - val_accuracy: 0.8133\n",
      "Epoch 15/100\n",
      "40/40 [==============================] - 3s 54ms/step - loss: 0.3367 - accuracy: 0.8659 - val_loss: 0.3990 - val_accuracy: 0.8222\n",
      "Epoch 16/100\n",
      "40/40 [==============================] - 3s 57ms/step - loss: 0.3335 - accuracy: 0.8439 - val_loss: 0.4458 - val_accuracy: 0.8000\n",
      "Epoch 17/100\n",
      "40/40 [==============================] - 3s 56ms/step - loss: 0.3474 - accuracy: 0.8478 - val_loss: 0.4194 - val_accuracy: 0.8222\n",
      "Epoch 18/100\n",
      "40/40 [==============================] - 3s 57ms/step - loss: 0.3444 - accuracy: 0.8580 - val_loss: 0.3790 - val_accuracy: 0.8444\n",
      "Epoch 19/100\n",
      "40/40 [==============================] - 3s 56ms/step - loss: 0.3231 - accuracy: 0.8722 - val_loss: 0.3838 - val_accuracy: 0.8356\n",
      "Epoch 20/100\n",
      "40/40 [==============================] - 3s 56ms/step - loss: 0.3237 - accuracy: 0.8588 - val_loss: 0.4064 - val_accuracy: 0.8044\n",
      "Epoch 21/100\n",
      "40/40 [==============================] - 3s 55ms/step - loss: 0.3308 - accuracy: 0.8533 - val_loss: 0.3734 - val_accuracy: 0.8533\n",
      "Epoch 22/100\n",
      "40/40 [==============================] - 3s 58ms/step - loss: 0.3032 - accuracy: 0.8698 - val_loss: 0.3853 - val_accuracy: 0.8356\n",
      "Epoch 23/100\n",
      "40/40 [==============================] - 3s 58ms/step - loss: 0.3070 - accuracy: 0.8737 - val_loss: 0.3536 - val_accuracy: 0.8578\n",
      "Epoch 24/100\n",
      "40/40 [==============================] - 3s 57ms/step - loss: 0.2933 - accuracy: 0.8792 - val_loss: 0.3608 - val_accuracy: 0.8622\n",
      "Epoch 25/100\n",
      "40/40 [==============================] - 3s 56ms/step - loss: 0.2868 - accuracy: 0.8769 - val_loss: 0.3698 - val_accuracy: 0.8489\n",
      "Epoch 26/100\n",
      "40/40 [==============================] - 3s 57ms/step - loss: 0.2837 - accuracy: 0.8863 - val_loss: 0.3813 - val_accuracy: 0.8533\n",
      "Epoch 27/100\n",
      "40/40 [==============================] - 3s 57ms/step - loss: 0.2920 - accuracy: 0.8722 - val_loss: 0.4257 - val_accuracy: 0.8400\n",
      "Epoch 28/100\n",
      "40/40 [==============================] - 3s 57ms/step - loss: 0.2979 - accuracy: 0.8698 - val_loss: 0.4173 - val_accuracy: 0.8533\n",
      "Epoch 29/100\n",
      "40/40 [==============================] - 3s 56ms/step - loss: 0.2785 - accuracy: 0.8894 - val_loss: 0.3824 - val_accuracy: 0.8667\n",
      "Epoch 30/100\n",
      "40/40 [==============================] - 3s 57ms/step - loss: 0.2853 - accuracy: 0.8729 - val_loss: 0.3911 - val_accuracy: 0.8578\n",
      "Epoch 31/100\n",
      "40/40 [==============================] - 3s 57ms/step - loss: 0.2656 - accuracy: 0.8878 - val_loss: 0.4643 - val_accuracy: 0.8311\n",
      "Epoch 32/100\n",
      "40/40 [==============================] - 3s 56ms/step - loss: 0.2930 - accuracy: 0.8722 - val_loss: 0.4412 - val_accuracy: 0.8311\n",
      "Epoch 33/100\n",
      "40/40 [==============================] - 3s 56ms/step - loss: 0.3116 - accuracy: 0.8682 - val_loss: 0.3893 - val_accuracy: 0.8622\n",
      "Epoch 34/100\n",
      "40/40 [==============================] - 3s 57ms/step - loss: 0.2773 - accuracy: 0.8816 - val_loss: 0.3949 - val_accuracy: 0.8622\n",
      "Epoch 35/100\n",
      "40/40 [==============================] - 3s 56ms/step - loss: 0.2734 - accuracy: 0.8863 - val_loss: 0.3860 - val_accuracy: 0.8489\n",
      "Epoch 36/100\n",
      "40/40 [==============================] - 3s 57ms/step - loss: 0.2679 - accuracy: 0.8886 - val_loss: 0.3717 - val_accuracy: 0.8711\n",
      "Epoch 37/100\n",
      "40/40 [==============================] - 3s 57ms/step - loss: 0.2591 - accuracy: 0.8894 - val_loss: 0.3846 - val_accuracy: 0.8356\n",
      "Epoch 38/100\n",
      "40/40 [==============================] - 3s 57ms/step - loss: 0.2620 - accuracy: 0.8918 - val_loss: 0.3592 - val_accuracy: 0.8622\n",
      "Epoch 39/100\n",
      "40/40 [==============================] - 3s 56ms/step - loss: 0.2405 - accuracy: 0.9098 - val_loss: 0.4338 - val_accuracy: 0.8578\n",
      "Epoch 40/100\n",
      "40/40 [==============================] - 3s 56ms/step - loss: 0.2656 - accuracy: 0.8941 - val_loss: 0.4187 - val_accuracy: 0.8622\n",
      "Epoch 41/100\n",
      "40/40 [==============================] - 3s 56ms/step - loss: 0.2741 - accuracy: 0.8831 - val_loss: 0.4009 - val_accuracy: 0.8356\n",
      "Epoch 42/100\n",
      "40/40 [==============================] - 3s 57ms/step - loss: 0.2660 - accuracy: 0.8925 - val_loss: 0.3774 - val_accuracy: 0.8711\n",
      "Epoch 43/100\n",
      "40/40 [==============================] - 3s 56ms/step - loss: 0.2430 - accuracy: 0.8988 - val_loss: 0.3790 - val_accuracy: 0.8533\n",
      "Epoch 44/100\n",
      "40/40 [==============================] - 3s 56ms/step - loss: 0.2638 - accuracy: 0.8941 - val_loss: 0.4175 - val_accuracy: 0.8489\n",
      "Epoch 45/100\n",
      "40/40 [==============================] - 3s 58ms/step - loss: 0.2642 - accuracy: 0.8824 - val_loss: 0.3983 - val_accuracy: 0.8711\n",
      "Epoch 46/100\n",
      "40/40 [==============================] - 3s 56ms/step - loss: 0.2253 - accuracy: 0.9145 - val_loss: 0.3839 - val_accuracy: 0.8578\n",
      "Epoch 47/100\n",
      "40/40 [==============================] - 3s 58ms/step - loss: 0.2228 - accuracy: 0.9090 - val_loss: 0.4615 - val_accuracy: 0.8578\n",
      "Epoch 48/100\n",
      "40/40 [==============================] - 3s 58ms/step - loss: 0.2471 - accuracy: 0.8980 - val_loss: 0.4103 - val_accuracy: 0.8444\n",
      "Epoch 49/100\n",
      "40/40 [==============================] - 3s 57ms/step - loss: 0.2620 - accuracy: 0.8933 - val_loss: 0.3660 - val_accuracy: 0.8622\n",
      "Epoch 50/100\n",
      "40/40 [==============================] - 3s 57ms/step - loss: 0.2639 - accuracy: 0.8973 - val_loss: 0.3911 - val_accuracy: 0.8578\n",
      "Epoch 51/100\n",
      "40/40 [==============================] - 3s 57ms/step - loss: 0.2316 - accuracy: 0.9043 - val_loss: 0.3938 - val_accuracy: 0.8667\n",
      "Epoch 52/100\n",
      "40/40 [==============================] - 3s 57ms/step - loss: 0.2391 - accuracy: 0.9059 - val_loss: 0.4162 - val_accuracy: 0.8489\n",
      "Epoch 53/100\n",
      "40/40 [==============================] - 3s 57ms/step - loss: 0.2406 - accuracy: 0.9067 - val_loss: 0.3684 - val_accuracy: 0.8756\n",
      "Epoch 54/100\n",
      "40/40 [==============================] - 3s 57ms/step - loss: 0.2372 - accuracy: 0.9129 - val_loss: 0.4548 - val_accuracy: 0.8489\n",
      "Epoch 55/100\n",
      "40/40 [==============================] - 3s 56ms/step - loss: 0.2509 - accuracy: 0.8957 - val_loss: 0.3849 - val_accuracy: 0.8489\n",
      "Epoch 56/100\n",
      "40/40 [==============================] - 3s 58ms/step - loss: 0.2271 - accuracy: 0.9145 - val_loss: 0.3813 - val_accuracy: 0.8711\n",
      "Epoch 57/100\n",
      "40/40 [==============================] - 3s 56ms/step - loss: 0.2182 - accuracy: 0.9067 - val_loss: 0.4238 - val_accuracy: 0.8578\n",
      "Epoch 58/100\n",
      "40/40 [==============================] - 3s 57ms/step - loss: 0.2328 - accuracy: 0.9075 - val_loss: 0.5304 - val_accuracy: 0.8222\n",
      "Epoch 59/100\n",
      "40/40 [==============================] - 3s 57ms/step - loss: 0.2356 - accuracy: 0.9059 - val_loss: 0.4442 - val_accuracy: 0.8711\n",
      "Epoch 60/100\n",
      "40/40 [==============================] - 3s 57ms/step - loss: 0.2091 - accuracy: 0.9184 - val_loss: 0.4212 - val_accuracy: 0.8711\n",
      "Epoch 61/100\n",
      "40/40 [==============================] - 3s 57ms/step - loss: 0.2095 - accuracy: 0.9247 - val_loss: 0.4248 - val_accuracy: 0.8533\n",
      "Epoch 62/100\n",
      "40/40 [==============================] - 3s 58ms/step - loss: 0.2229 - accuracy: 0.9145 - val_loss: 0.4379 - val_accuracy: 0.8400\n",
      "Epoch 63/100\n",
      "40/40 [==============================] - 3s 57ms/step - loss: 0.2090 - accuracy: 0.9216 - val_loss: 0.3947 - val_accuracy: 0.8578\n",
      "Epoch 64/100\n",
      "40/40 [==============================] - 3s 57ms/step - loss: 0.2065 - accuracy: 0.9169 - val_loss: 0.4024 - val_accuracy: 0.8578\n",
      "Epoch 65/100\n",
      "40/40 [==============================] - 3s 58ms/step - loss: 0.2054 - accuracy: 0.9192 - val_loss: 0.4468 - val_accuracy: 0.8756\n",
      "Epoch 66/100\n",
      "40/40 [==============================] - 3s 57ms/step - loss: 0.2339 - accuracy: 0.9059 - val_loss: 0.3936 - val_accuracy: 0.8844\n",
      "Epoch 67/100\n",
      "40/40 [==============================] - 3s 59ms/step - loss: 0.2107 - accuracy: 0.9137 - val_loss: 0.3990 - val_accuracy: 0.8578\n",
      "Epoch 68/100\n",
      "40/40 [==============================] - 3s 58ms/step - loss: 0.2160 - accuracy: 0.9129 - val_loss: 0.4640 - val_accuracy: 0.8533\n",
      "Epoch 69/100\n",
      "40/40 [==============================] - 3s 58ms/step - loss: 0.2301 - accuracy: 0.9035 - val_loss: 0.4405 - val_accuracy: 0.8489\n",
      "Epoch 70/100\n",
      "40/40 [==============================] - 3s 58ms/step - loss: 0.2268 - accuracy: 0.9106 - val_loss: 0.3971 - val_accuracy: 0.8578\n",
      "Epoch 71/100\n",
      "40/40 [==============================] - 3s 57ms/step - loss: 0.2178 - accuracy: 0.9145 - val_loss: 0.4767 - val_accuracy: 0.8356\n",
      "Epoch 72/100\n",
      "40/40 [==============================] - 3s 57ms/step - loss: 0.2020 - accuracy: 0.9192 - val_loss: 0.4079 - val_accuracy: 0.8622\n",
      "Epoch 73/100\n",
      "40/40 [==============================] - 3s 58ms/step - loss: 0.1978 - accuracy: 0.9208 - val_loss: 0.4581 - val_accuracy: 0.8667\n",
      "Epoch 74/100\n",
      "40/40 [==============================] - 3s 60ms/step - loss: 0.2017 - accuracy: 0.9184 - val_loss: 0.5694 - val_accuracy: 0.8400\n",
      "Epoch 75/100\n",
      "40/40 [==============================] - 3s 58ms/step - loss: 0.2041 - accuracy: 0.9208 - val_loss: 0.4261 - val_accuracy: 0.8622\n",
      "Epoch 76/100\n",
      "40/40 [==============================] - 3s 60ms/step - loss: 0.2010 - accuracy: 0.9247 - val_loss: 0.4646 - val_accuracy: 0.8400\n",
      "Epoch 77/100\n",
      "40/40 [==============================] - 3s 57ms/step - loss: 0.2209 - accuracy: 0.9114 - val_loss: 0.3974 - val_accuracy: 0.8844\n",
      "Epoch 78/100\n",
      "40/40 [==============================] - 3s 58ms/step - loss: 0.2222 - accuracy: 0.9098 - val_loss: 0.4226 - val_accuracy: 0.8756\n",
      "Epoch 79/100\n",
      "40/40 [==============================] - 3s 58ms/step - loss: 0.2143 - accuracy: 0.9176 - val_loss: 0.5128 - val_accuracy: 0.8356\n",
      "Epoch 80/100\n",
      "40/40 [==============================] - 3s 59ms/step - loss: 0.2261 - accuracy: 0.9129 - val_loss: 0.4622 - val_accuracy: 0.8533\n",
      "Epoch 81/100\n",
      "40/40 [==============================] - 3s 60ms/step - loss: 0.1877 - accuracy: 0.9286 - val_loss: 0.4376 - val_accuracy: 0.8667\n",
      "Epoch 82/100\n",
      "40/40 [==============================] - 3s 57ms/step - loss: 0.1877 - accuracy: 0.9255 - val_loss: 0.4805 - val_accuracy: 0.8489\n",
      "Epoch 83/100\n",
      "40/40 [==============================] - 3s 58ms/step - loss: 0.1933 - accuracy: 0.9271 - val_loss: 0.4579 - val_accuracy: 0.8489\n",
      "Epoch 84/100\n",
      "40/40 [==============================] - 3s 57ms/step - loss: 0.1953 - accuracy: 0.9349 - val_loss: 0.4868 - val_accuracy: 0.8444\n",
      "Epoch 85/100\n",
      "40/40 [==============================] - 3s 57ms/step - loss: 0.2010 - accuracy: 0.9192 - val_loss: 0.4390 - val_accuracy: 0.8667\n",
      "Epoch 86/100\n",
      "40/40 [==============================] - 3s 57ms/step - loss: 0.2017 - accuracy: 0.9255 - val_loss: 0.4756 - val_accuracy: 0.8400\n",
      "Epoch 87/100\n",
      "40/40 [==============================] - 3s 58ms/step - loss: 0.1771 - accuracy: 0.9349 - val_loss: 0.4616 - val_accuracy: 0.8533\n",
      "Epoch 88/100\n",
      "40/40 [==============================] - 3s 58ms/step - loss: 0.1735 - accuracy: 0.9357 - val_loss: 0.4648 - val_accuracy: 0.8444\n",
      "Epoch 89/100\n",
      "40/40 [==============================] - 3s 56ms/step - loss: 0.1824 - accuracy: 0.9333 - val_loss: 0.5121 - val_accuracy: 0.8533\n",
      "Epoch 90/100\n",
      "40/40 [==============================] - 3s 57ms/step - loss: 0.1979 - accuracy: 0.9184 - val_loss: 0.4329 - val_accuracy: 0.8711\n",
      "Epoch 91/100\n",
      "40/40 [==============================] - 3s 57ms/step - loss: 0.1927 - accuracy: 0.9302 - val_loss: 0.4373 - val_accuracy: 0.8756\n",
      "Epoch 92/100\n",
      "40/40 [==============================] - 3s 57ms/step - loss: 0.1960 - accuracy: 0.9231 - val_loss: 0.5139 - val_accuracy: 0.8533\n",
      "Epoch 93/100\n",
      "40/40 [==============================] - 3s 56ms/step - loss: 0.1868 - accuracy: 0.9310 - val_loss: 0.4642 - val_accuracy: 0.8533\n",
      "Epoch 94/100\n",
      "40/40 [==============================] - 3s 56ms/step - loss: 0.1675 - accuracy: 0.9412 - val_loss: 0.4692 - val_accuracy: 0.8667\n",
      "Epoch 95/100\n",
      "40/40 [==============================] - 3s 57ms/step - loss: 0.1957 - accuracy: 0.9224 - val_loss: 0.5359 - val_accuracy: 0.8489\n",
      "Epoch 96/100\n",
      "40/40 [==============================] - 3s 56ms/step - loss: 0.1900 - accuracy: 0.9239 - val_loss: 0.5374 - val_accuracy: 0.8400\n",
      "Epoch 97/100\n",
      "40/40 [==============================] - 3s 57ms/step - loss: 0.1733 - accuracy: 0.9373 - val_loss: 0.4370 - val_accuracy: 0.8622\n",
      "Epoch 98/100\n",
      "40/40 [==============================] - 3s 58ms/step - loss: 0.1671 - accuracy: 0.9302 - val_loss: 0.4567 - val_accuracy: 0.8756\n",
      "Epoch 99/100\n",
      "40/40 [==============================] - 3s 58ms/step - loss: 0.1761 - accuracy: 0.9365 - val_loss: 0.4399 - val_accuracy: 0.8578\n",
      "Epoch 100/100\n",
      "40/40 [==============================] - 3s 57ms/step - loss: 0.1849 - accuracy: 0.9278 - val_loss: 0.4854 - val_accuracy: 0.8889\n"
     ]
    }
   ],
   "source": [
    "hist = model1.fit(train_ds_augmen,\n",
    "          epochs=100,\n",
    "          steps_per_epoch=len(train_ds_augmen),\n",
    "          validation_data=valid_ds_new,\n",
    "          validation_steps=len(valid_ds_new)\n",
    "          )"
   ]
  },
  {
   "cell_type": "code",
   "execution_count": 11,
   "id": "576e0980",
   "metadata": {},
   "outputs": [
    {
     "data": {
      "image/png": "[encoded data removed]",
      "text/plain": [
       "<Figure size 640x480 with 1 Axes>"
      ]
     },
     "metadata": {},
     "output_type": "display_data"
    },
    {
     "data": {
      "image/png": "[encoded data removed]",
      "text/plain": [
       "<Figure size 640x480 with 1 Axes>"
      ]
     },
     "metadata": {},
     "output_type": "display_data"
    }
   ],
   "source": [
    "import matplotlib.pyplot as plt\n",
    "\n",
    "plt.figure()\n",
    "plt.plot(hist.history[\"loss\"],label=\"Training Loss\")\n",
    "plt.plot(hist.history[\"val_loss\"],label=\"Validation Loss\")\n",
    "plt.legend()\n",
    "plt.show()\n",
    "\n",
    "plt.figure()\n",
    "plt.plot(hist.history[\"accuracy\"],label=\"Training Accuracy\")\n",
    "plt.plot(hist.history[\"val_accuracy\"],label=\"Validation Accuracy\")\n",
    "plt.legend()\n",
    "plt.show()"
   ]
  },
  {
   "cell_type": "code",
   "execution_count": 14,
   "id": "c9f10088",
   "metadata": {},
   "outputs": [
    {
     "name": "stdout",
     "output_type": "stream",
     "text": [
      "16/16 [==============================] - 2s 36ms/step - loss: 0.2839 - accuracy: 0.8960\n"
     ]
    },
    {
     "data": {
      "text/plain": [
       "[0.2838970124721527, 0.8960000276565552]"
      ]
     },
     "execution_count": 14,
     "metadata": {},
     "output_type": "execute_result"
    }
   ],
   "source": [
    "model1.evaluate(test_ds_mn)"
   ]
  },
  {
   "cell_type": "code",
   "execution_count": null,
   "id": "6caf6a56",
   "metadata": {},
   "outputs": [],
   "source": []
  }
 ],
 "metadata": {
  "kernelspec": {
   "display_name": "Python 3 (ipykernel)",
   "language": "python",
   "name": "python3"
  },
  "language_info": {
   "codemirror_mode": {
    "name": "ipython",
    "version": 3
   },
   "file_extension": ".py",
   "mimetype": "text/x-python",
   "name": "python",
   "nbconvert_exporter": "python",
   "pygments_lexer": "ipython3",
   "version": "3.10.0"
  }
 },
 "nbformat": 4,
 "nbformat_minor": 5
}
