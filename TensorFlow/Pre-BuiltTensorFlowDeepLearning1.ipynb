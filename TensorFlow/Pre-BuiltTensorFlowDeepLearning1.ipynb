{
 "cells": [
  {
   "cell_type": "code",
   "execution_count": 1,
   "id": "93d0dfce",
   "metadata": {},
   "outputs": [],
   "source": [
    "import tensorflow as tf\n",
    "import numpy as np\n",
    "import sys"
   ]
  },
  {
   "cell_type": "code",
   "execution_count": 4,
   "id": "af363673",
   "metadata": {},
   "outputs": [
    {
     "name": "stdout",
     "output_type": "stream",
     "text": [
      "2.10.0\n",
      "3.10.0 | packaged by conda-forge | (default, Nov 10 2021, 13:20:59) [MSC v.1916 64 bit (AMD64)]\n"
     ]
    }
   ],
   "source": [
    "print(tf.__version__)\n",
    "print(sys.version)"
   ]
  },
  {
   "cell_type": "code",
   "execution_count": null,
   "id": "9715b05c",
   "metadata": {},
   "outputs": [],
   "source": []
  },
  {
   "cell_type": "code",
   "execution_count": 9,
   "id": "c55fef8a",
   "metadata": {},
   "outputs": [],
   "source": [
    "(X_train,Y_train),(X_test,Y_test) = tf.keras.datasets.cifar10.load_data()"
   ]
  },
  {
   "cell_type": "code",
   "execution_count": 10,
   "id": "59cc7d33",
   "metadata": {},
   "outputs": [
    {
     "data": {
      "text/plain": [
       "(50000, 32, 32, 3)"
      ]
     },
     "execution_count": 10,
     "metadata": {},
     "output_type": "execute_result"
    }
   ],
   "source": [
    "X_train.shape"
   ]
  },
  {
   "cell_type": "code",
   "execution_count": 11,
   "id": "95f2ca52",
   "metadata": {},
   "outputs": [
    {
     "data": {
      "text/plain": [
       "(50000, 1)"
      ]
     },
     "execution_count": 11,
     "metadata": {},
     "output_type": "execute_result"
    }
   ],
   "source": [
    "Y_train.shape"
   ]
  },
  {
   "cell_type": "code",
   "execution_count": 12,
   "id": "2f670fee",
   "metadata": {},
   "outputs": [
    {
     "data": {
      "text/plain": [
       "(10000, 32, 32, 3)"
      ]
     },
     "execution_count": 12,
     "metadata": {},
     "output_type": "execute_result"
    }
   ],
   "source": [
    "X_test.shape"
   ]
  },
  {
   "cell_type": "code",
   "execution_count": 13,
   "id": "64cf265e",
   "metadata": {},
   "outputs": [
    {
     "data": {
      "text/plain": [
       "(10000, 1)"
      ]
     },
     "execution_count": 13,
     "metadata": {},
     "output_type": "execute_result"
    }
   ],
   "source": [
    "Y_test.shape"
   ]
  },
  {
   "cell_type": "code",
   "execution_count": 21,
   "id": "97e9c150",
   "metadata": {},
   "outputs": [],
   "source": [
    "from sklearn.preprocessing import OneHotEncoder\n",
    "from sklearn.compose import ColumnTransformer\n",
    "\n",
    "OHE = OneHotEncoder(sparse_output=False)\n",
    "\n",
    "Y_main_train = OHE.fit_transform(Y_train)\n",
    "Y_main_test = OHE.transform(Y_test)"
   ]
  },
  {
   "cell_type": "code",
   "execution_count": 20,
   "id": "2cf03766",
   "metadata": {},
   "outputs": [
    {
     "data": {
      "text/plain": [
       "array([[0., 0., 0., ..., 0., 0., 0.],\n",
       "       [0., 0., 0., ..., 0., 0., 1.],\n",
       "       [0., 0., 0., ..., 0., 0., 1.],\n",
       "       ...,\n",
       "       [0., 0., 0., ..., 0., 0., 1.],\n",
       "       [0., 1., 0., ..., 0., 0., 0.],\n",
       "       [0., 1., 0., ..., 0., 0., 0.]])"
      ]
     },
     "execution_count": 20,
     "metadata": {},
     "output_type": "execute_result"
    }
   ],
   "source": [
    "Y_main_train"
   ]
  },
  {
   "cell_type": "code",
   "execution_count": 22,
   "id": "d1d50263",
   "metadata": {},
   "outputs": [
    {
     "data": {
      "text/plain": [
       "array([[0., 0., 0., ..., 0., 0., 0.],\n",
       "       [0., 0., 0., ..., 0., 1., 0.],\n",
       "       [0., 0., 0., ..., 0., 1., 0.],\n",
       "       ...,\n",
       "       [0., 0., 0., ..., 0., 0., 0.],\n",
       "       [0., 1., 0., ..., 0., 0., 0.],\n",
       "       [0., 0., 0., ..., 1., 0., 0.]])"
      ]
     },
     "execution_count": 22,
     "metadata": {},
     "output_type": "execute_result"
    }
   ],
   "source": [
    "Y_main_test"
   ]
  },
  {
   "cell_type": "code",
   "execution_count": 23,
   "id": "7b66e9b8",
   "metadata": {},
   "outputs": [
    {
     "data": {
      "text/plain": [
       "(50000, 10)"
      ]
     },
     "execution_count": 23,
     "metadata": {},
     "output_type": "execute_result"
    }
   ],
   "source": [
    "Y_main_train.shape"
   ]
  },
  {
   "cell_type": "code",
   "execution_count": 25,
   "id": "62f75b62",
   "metadata": {},
   "outputs": [
    {
     "data": {
      "text/plain": [
       "(10000, 10)"
      ]
     },
     "execution_count": 25,
     "metadata": {},
     "output_type": "execute_result"
    }
   ],
   "source": [
    "Y_main_test.shape"
   ]
  },
  {
   "cell_type": "code",
   "execution_count": 15,
   "id": "e8223814",
   "metadata": {},
   "outputs": [],
   "source": [
    "class_labels = {0:\"airplane\",1:\"automobile\",2:\"bird\",3:\"cat\",4:\"deer\",5:\"dog\",6:\"frog\",7:\"horse\",8:\"ship\",9:\"truck\"}"
   ]
  },
  {
   "cell_type": "code",
   "execution_count": null,
   "id": "4e801980",
   "metadata": {},
   "outputs": [],
   "source": []
  },
  {
   "cell_type": "code",
   "execution_count": 16,
   "id": "bca28177",
   "metadata": {},
   "outputs": [],
   "source": [
    "model = tf.keras.Sequential([\n",
    "                                tf.keras.layers.InputLayer(input_shape=(32,32,3)),\n",
    "                                tf.keras.layers.Rescaling(1/255.0),\n",
    "                                tf.keras.layers.Conv2D(10,kernel_size=(3,3),activation=\"relu\"),\n",
    "                                tf.keras.layers.Conv2D(10,kernel_size=(3,3),activation=\"relu\"),\n",
    "                                tf.keras.layers.MaxPooling2D(pool_size=2),\n",
    "                                tf.keras.layers.Conv2D(10,kernel_size=(3,3),activation=\"relu\"),\n",
    "                                tf.keras.layers.Conv2D(10,kernel_size=(3,3),activation=\"relu\"),\n",
    "                                tf.keras.layers.MaxPooling2D(pool_size=2),\n",
    "                                tf.keras.layers.Flatten(),\n",
    "                                tf.keras.layers.Dense(10,activation=\"softmax\") \n",
    "])"
   ]
  },
  {
   "cell_type": "code",
   "execution_count": 18,
   "id": "ef6d7531",
   "metadata": {},
   "outputs": [
    {
     "name": "stdout",
     "output_type": "stream",
     "text": [
      "Model: \"sequential\"\n",
      "_________________________________________________________________\n",
      " Layer (type)                Output Shape              Param #   \n",
      "=================================================================\n",
      " rescaling (Rescaling)       (None, 32, 32, 3)         0         \n",
      "                                                                 \n",
      " conv2d (Conv2D)             (None, 30, 30, 10)        280       \n",
      "                                                                 \n",
      " conv2d_1 (Conv2D)           (None, 28, 28, 10)        910       \n",
      "                                                                 \n",
      " max_pooling2d (MaxPooling2D  (None, 14, 14, 10)       0         \n",
      " )                                                               \n",
      "                                                                 \n",
      " conv2d_2 (Conv2D)           (None, 12, 12, 10)        910       \n",
      "                                                                 \n",
      " conv2d_3 (Conv2D)           (None, 10, 10, 10)        910       \n",
      "                                                                 \n",
      " max_pooling2d_1 (MaxPooling  (None, 5, 5, 10)         0         \n",
      " 2D)                                                             \n",
      "                                                                 \n",
      " flatten (Flatten)           (None, 250)               0         \n",
      "                                                                 \n",
      " dense (Dense)               (None, 10)                2510      \n",
      "                                                                 \n",
      "=================================================================\n",
      "Total params: 5,520\n",
      "Trainable params: 5,520\n",
      "Non-trainable params: 0\n",
      "_________________________________________________________________\n"
     ]
    }
   ],
   "source": [
    "model.summary()"
   ]
  },
  {
   "cell_type": "code",
   "execution_count": 26,
   "id": "1b74c20a",
   "metadata": {},
   "outputs": [],
   "source": [
    "model.compile(loss=\"categorical_crossentropy\",\n",
    "              optimizer=\"adam\",\n",
    "              metrics=[\"accuracy\"])"
   ]
  },
  {
   "cell_type": "code",
   "execution_count": 27,
   "id": "3d0236db",
   "metadata": {},
   "outputs": [
    {
     "name": "stdout",
     "output_type": "stream",
     "text": [
      "Epoch 1/100\n",
      "1563/1563 [==============================] - 23s 5ms/step - loss: 1.6771 - accuracy: 0.3851 - val_loss: 1.4685 - val_accuracy: 0.4668\n",
      "Epoch 2/100\n",
      "1563/1563 [==============================] - 7s 5ms/step - loss: 1.3740 - accuracy: 0.5088 - val_loss: 1.3362 - val_accuracy: 0.5201\n",
      "Epoch 3/100\n",
      "1563/1563 [==============================] - 8s 5ms/step - loss: 1.2874 - accuracy: 0.5438 - val_loss: 1.2903 - val_accuracy: 0.5408\n",
      "Epoch 4/100\n",
      "1563/1563 [==============================] - 7s 5ms/step - loss: 1.2326 - accuracy: 0.5642 - val_loss: 1.2430 - val_accuracy: 0.5579\n",
      "Epoch 5/100\n",
      "1563/1563 [==============================] - 7s 5ms/step - loss: 1.1960 - accuracy: 0.5772 - val_loss: 1.2020 - val_accuracy: 0.5787\n",
      "Epoch 6/100\n",
      "1563/1563 [==============================] - 7s 5ms/step - loss: 1.1611 - accuracy: 0.5905 - val_loss: 1.1465 - val_accuracy: 0.5977\n",
      "Epoch 7/100\n",
      "1563/1563 [==============================] - 7s 5ms/step - loss: 1.1322 - accuracy: 0.5999 - val_loss: 1.1267 - val_accuracy: 0.6010\n",
      "Epoch 8/100\n",
      "1563/1563 [==============================] - 7s 5ms/step - loss: 1.1120 - accuracy: 0.6081 - val_loss: 1.1385 - val_accuracy: 0.5994\n",
      "Epoch 9/100\n",
      "1563/1563 [==============================] - 8s 5ms/step - loss: 1.0934 - accuracy: 0.6123 - val_loss: 1.1318 - val_accuracy: 0.5982\n",
      "Epoch 10/100\n",
      "1563/1563 [==============================] - 8s 5ms/step - loss: 1.0711 - accuracy: 0.6221 - val_loss: 1.1015 - val_accuracy: 0.6104\n",
      "Epoch 11/100\n",
      "1563/1563 [==============================] - 8s 5ms/step - loss: 1.0535 - accuracy: 0.6290 - val_loss: 1.0888 - val_accuracy: 0.6136\n",
      "Epoch 12/100\n",
      "1563/1563 [==============================] - 8s 5ms/step - loss: 1.0406 - accuracy: 0.6332 - val_loss: 1.0540 - val_accuracy: 0.6300\n",
      "Epoch 13/100\n",
      "1563/1563 [==============================] - 7s 5ms/step - loss: 1.0248 - accuracy: 0.6407 - val_loss: 1.0512 - val_accuracy: 0.6317\n",
      "Epoch 14/100\n",
      "1563/1563 [==============================] - 7s 5ms/step - loss: 1.0123 - accuracy: 0.6443 - val_loss: 1.0486 - val_accuracy: 0.6326\n",
      "Epoch 15/100\n",
      "1563/1563 [==============================] - 7s 5ms/step - loss: 1.0031 - accuracy: 0.6473 - val_loss: 1.0517 - val_accuracy: 0.6306\n",
      "Epoch 16/100\n",
      "1563/1563 [==============================] - 7s 5ms/step - loss: 0.9916 - accuracy: 0.6525 - val_loss: 1.0402 - val_accuracy: 0.6342\n",
      "Epoch 17/100\n",
      "1563/1563 [==============================] - 7s 5ms/step - loss: 0.9849 - accuracy: 0.6556 - val_loss: 1.0454 - val_accuracy: 0.6324\n",
      "Epoch 18/100\n",
      "1563/1563 [==============================] - 7s 5ms/step - loss: 0.9768 - accuracy: 0.6577 - val_loss: 1.0598 - val_accuracy: 0.6259\n",
      "Epoch 19/100\n",
      "1563/1563 [==============================] - 7s 5ms/step - loss: 0.9692 - accuracy: 0.6621 - val_loss: 1.0388 - val_accuracy: 0.6321\n",
      "Epoch 20/100\n",
      "1563/1563 [==============================] - 7s 5ms/step - loss: 0.9635 - accuracy: 0.6626 - val_loss: 1.0301 - val_accuracy: 0.6365\n",
      "Epoch 21/100\n",
      "1563/1563 [==============================] - 7s 5ms/step - loss: 0.9588 - accuracy: 0.6646 - val_loss: 1.0433 - val_accuracy: 0.6270\n",
      "Epoch 22/100\n",
      "1563/1563 [==============================] - 7s 5ms/step - loss: 0.9544 - accuracy: 0.6635 - val_loss: 1.0292 - val_accuracy: 0.6405\n",
      "Epoch 23/100\n",
      "1563/1563 [==============================] - 7s 5ms/step - loss: 0.9480 - accuracy: 0.6676 - val_loss: 1.0662 - val_accuracy: 0.6258\n",
      "Epoch 24/100\n",
      "1563/1563 [==============================] - 7s 5ms/step - loss: 0.9419 - accuracy: 0.6704 - val_loss: 1.0168 - val_accuracy: 0.6485\n",
      "Epoch 25/100\n",
      "1563/1563 [==============================] - 7s 5ms/step - loss: 0.9377 - accuracy: 0.6709 - val_loss: 1.0074 - val_accuracy: 0.6449\n",
      "Epoch 26/100\n",
      "1563/1563 [==============================] - 7s 5ms/step - loss: 0.9341 - accuracy: 0.6719 - val_loss: 1.0324 - val_accuracy: 0.6415\n",
      "Epoch 27/100\n",
      "1563/1563 [==============================] - 7s 5ms/step - loss: 0.9322 - accuracy: 0.6726 - val_loss: 1.0245 - val_accuracy: 0.6344\n",
      "Epoch 28/100\n",
      "1563/1563 [==============================] - 7s 5ms/step - loss: 0.9251 - accuracy: 0.6749 - val_loss: 1.0106 - val_accuracy: 0.6447\n",
      "Epoch 29/100\n",
      "1563/1563 [==============================] - 7s 5ms/step - loss: 0.9248 - accuracy: 0.6755 - val_loss: 0.9967 - val_accuracy: 0.6491\n",
      "Epoch 30/100\n",
      "1563/1563 [==============================] - 7s 5ms/step - loss: 0.9229 - accuracy: 0.6745 - val_loss: 0.9977 - val_accuracy: 0.6553\n",
      "Epoch 31/100\n",
      "1563/1563 [==============================] - 7s 5ms/step - loss: 0.9175 - accuracy: 0.6769 - val_loss: 0.9922 - val_accuracy: 0.6519\n",
      "Epoch 32/100\n",
      "1563/1563 [==============================] - 7s 4ms/step - loss: 0.9183 - accuracy: 0.6788 - val_loss: 1.0070 - val_accuracy: 0.6456\n",
      "Epoch 33/100\n",
      "1563/1563 [==============================] - 7s 5ms/step - loss: 0.9149 - accuracy: 0.6772 - val_loss: 1.0281 - val_accuracy: 0.6427\n",
      "Epoch 34/100\n",
      "1563/1563 [==============================] - 7s 5ms/step - loss: 0.9122 - accuracy: 0.6818 - val_loss: 1.0200 - val_accuracy: 0.6451\n",
      "Epoch 35/100\n",
      "1563/1563 [==============================] - 7s 5ms/step - loss: 0.9108 - accuracy: 0.6788 - val_loss: 0.9961 - val_accuracy: 0.6514\n",
      "Epoch 36/100\n",
      "1563/1563 [==============================] - 7s 4ms/step - loss: 0.9076 - accuracy: 0.6809 - val_loss: 0.9959 - val_accuracy: 0.6541\n",
      "Epoch 37/100\n",
      "1563/1563 [==============================] - 7s 5ms/step - loss: 0.9044 - accuracy: 0.6828 - val_loss: 1.0103 - val_accuracy: 0.6530\n",
      "Epoch 38/100\n",
      "1563/1563 [==============================] - 7s 5ms/step - loss: 0.9039 - accuracy: 0.6806 - val_loss: 1.0172 - val_accuracy: 0.6466\n",
      "Epoch 39/100\n",
      "1563/1563 [==============================] - 7s 5ms/step - loss: 0.9003 - accuracy: 0.6829 - val_loss: 1.0348 - val_accuracy: 0.6460\n",
      "Epoch 40/100\n",
      "1563/1563 [==============================] - 7s 5ms/step - loss: 0.8983 - accuracy: 0.6833 - val_loss: 0.9905 - val_accuracy: 0.6562\n",
      "Epoch 41/100\n",
      "1563/1563 [==============================] - 7s 5ms/step - loss: 0.8950 - accuracy: 0.6845 - val_loss: 1.0286 - val_accuracy: 0.6436\n",
      "Epoch 42/100\n",
      "1563/1563 [==============================] - 7s 5ms/step - loss: 0.8943 - accuracy: 0.6840 - val_loss: 0.9994 - val_accuracy: 0.6538\n",
      "Epoch 43/100\n",
      "1563/1563 [==============================] - 7s 5ms/step - loss: 0.8915 - accuracy: 0.6864 - val_loss: 1.0178 - val_accuracy: 0.6459\n",
      "Epoch 44/100\n",
      "1563/1563 [==============================] - 7s 5ms/step - loss: 0.8923 - accuracy: 0.6862 - val_loss: 1.0271 - val_accuracy: 0.6434\n",
      "Epoch 45/100\n",
      "1563/1563 [==============================] - 7s 4ms/step - loss: 0.8916 - accuracy: 0.6860 - val_loss: 1.0034 - val_accuracy: 0.6489\n",
      "Epoch 46/100\n",
      "1563/1563 [==============================] - 7s 4ms/step - loss: 0.8910 - accuracy: 0.6862 - val_loss: 1.0070 - val_accuracy: 0.6491\n",
      "Epoch 47/100\n",
      "1563/1563 [==============================] - 7s 5ms/step - loss: 0.8857 - accuracy: 0.6879 - val_loss: 1.0150 - val_accuracy: 0.6451\n",
      "Epoch 48/100\n",
      "1563/1563 [==============================] - 7s 4ms/step - loss: 0.8857 - accuracy: 0.6876 - val_loss: 1.0247 - val_accuracy: 0.6424\n",
      "Epoch 49/100\n",
      "1563/1563 [==============================] - 7s 5ms/step - loss: 0.8819 - accuracy: 0.6892 - val_loss: 0.9990 - val_accuracy: 0.6547\n",
      "Epoch 50/100\n",
      "1563/1563 [==============================] - 7s 4ms/step - loss: 0.8784 - accuracy: 0.6902 - val_loss: 1.0088 - val_accuracy: 0.6471\n",
      "Epoch 51/100\n",
      "1563/1563 [==============================] - 7s 5ms/step - loss: 0.8792 - accuracy: 0.6896 - val_loss: 1.0301 - val_accuracy: 0.6456\n",
      "Epoch 52/100\n",
      "1563/1563 [==============================] - 7s 5ms/step - loss: 0.8770 - accuracy: 0.6900 - val_loss: 1.0001 - val_accuracy: 0.6517\n",
      "Epoch 53/100\n",
      "1563/1563 [==============================] - 7s 5ms/step - loss: 0.8771 - accuracy: 0.6911 - val_loss: 0.9860 - val_accuracy: 0.6605\n",
      "Epoch 54/100\n",
      "1563/1563 [==============================] - 7s 4ms/step - loss: 0.8757 - accuracy: 0.6921 - val_loss: 0.9970 - val_accuracy: 0.6562\n",
      "Epoch 55/100\n",
      "1563/1563 [==============================] - 7s 5ms/step - loss: 0.8746 - accuracy: 0.6927 - val_loss: 1.0099 - val_accuracy: 0.6444\n",
      "Epoch 56/100\n",
      "1563/1563 [==============================] - 7s 5ms/step - loss: 0.8735 - accuracy: 0.6913 - val_loss: 0.9954 - val_accuracy: 0.6554\n",
      "Epoch 57/100\n"
     ]
    },
    {
     "name": "stdout",
     "output_type": "stream",
     "text": [
      "1563/1563 [==============================] - 7s 5ms/step - loss: 0.8680 - accuracy: 0.6922 - val_loss: 0.9840 - val_accuracy: 0.6593\n",
      "Epoch 58/100\n",
      "1563/1563 [==============================] - 7s 4ms/step - loss: 0.8685 - accuracy: 0.6936 - val_loss: 1.0173 - val_accuracy: 0.6486\n",
      "Epoch 59/100\n",
      "1563/1563 [==============================] - 7s 5ms/step - loss: 0.8680 - accuracy: 0.6930 - val_loss: 0.9893 - val_accuracy: 0.6577\n",
      "Epoch 60/100\n",
      "1563/1563 [==============================] - 7s 5ms/step - loss: 0.8688 - accuracy: 0.6916 - val_loss: 1.0320 - val_accuracy: 0.6396\n",
      "Epoch 61/100\n",
      "1563/1563 [==============================] - 7s 5ms/step - loss: 0.8639 - accuracy: 0.6946 - val_loss: 0.9907 - val_accuracy: 0.6550\n",
      "Epoch 62/100\n",
      "1563/1563 [==============================] - 7s 5ms/step - loss: 0.8649 - accuracy: 0.6949 - val_loss: 0.9976 - val_accuracy: 0.6532\n",
      "Epoch 63/100\n",
      "1563/1563 [==============================] - 7s 4ms/step - loss: 0.8636 - accuracy: 0.6960 - val_loss: 0.9952 - val_accuracy: 0.6546\n",
      "Epoch 64/100\n",
      "1563/1563 [==============================] - 7s 5ms/step - loss: 0.8639 - accuracy: 0.6965 - val_loss: 0.9901 - val_accuracy: 0.6545\n",
      "Epoch 65/100\n",
      "1563/1563 [==============================] - 7s 5ms/step - loss: 0.8586 - accuracy: 0.6975 - val_loss: 0.9879 - val_accuracy: 0.6592\n",
      "Epoch 66/100\n",
      "1563/1563 [==============================] - 7s 5ms/step - loss: 0.8606 - accuracy: 0.6955 - val_loss: 0.9868 - val_accuracy: 0.6590\n",
      "Epoch 67/100\n",
      "1563/1563 [==============================] - 9s 6ms/step - loss: 0.8600 - accuracy: 0.6969 - val_loss: 0.9905 - val_accuracy: 0.6558\n",
      "Epoch 68/100\n",
      "1563/1563 [==============================] - 7s 5ms/step - loss: 0.8574 - accuracy: 0.6979 - val_loss: 0.9903 - val_accuracy: 0.6592\n",
      "Epoch 69/100\n",
      "1563/1563 [==============================] - 7s 5ms/step - loss: 0.8588 - accuracy: 0.6990 - val_loss: 0.9834 - val_accuracy: 0.6614\n",
      "Epoch 70/100\n",
      "1563/1563 [==============================] - 7s 5ms/step - loss: 0.8570 - accuracy: 0.6969 - val_loss: 1.0276 - val_accuracy: 0.6498\n",
      "Epoch 71/100\n",
      "1563/1563 [==============================] - 7s 5ms/step - loss: 0.8577 - accuracy: 0.6994 - val_loss: 1.0264 - val_accuracy: 0.6496\n",
      "Epoch 72/100\n",
      "1563/1563 [==============================] - 7s 5ms/step - loss: 0.8575 - accuracy: 0.6961 - val_loss: 0.9818 - val_accuracy: 0.6577\n",
      "Epoch 73/100\n",
      "1563/1563 [==============================] - 7s 5ms/step - loss: 0.8543 - accuracy: 0.6987 - val_loss: 1.0285 - val_accuracy: 0.6486\n",
      "Epoch 74/100\n",
      "1563/1563 [==============================] - 7s 5ms/step - loss: 0.8546 - accuracy: 0.6987 - val_loss: 1.0285 - val_accuracy: 0.6493\n",
      "Epoch 75/100\n",
      "1563/1563 [==============================] - 7s 5ms/step - loss: 0.8544 - accuracy: 0.6981 - val_loss: 1.0016 - val_accuracy: 0.6529\n",
      "Epoch 76/100\n",
      "1563/1563 [==============================] - 7s 5ms/step - loss: 0.8531 - accuracy: 0.6986 - val_loss: 1.0000 - val_accuracy: 0.6596\n",
      "Epoch 77/100\n",
      "1563/1563 [==============================] - 7s 5ms/step - loss: 0.8519 - accuracy: 0.6997 - val_loss: 1.0247 - val_accuracy: 0.6460\n",
      "Epoch 78/100\n",
      "1563/1563 [==============================] - 7s 4ms/step - loss: 0.8522 - accuracy: 0.6978 - val_loss: 1.0044 - val_accuracy: 0.6558\n",
      "Epoch 79/100\n",
      "1563/1563 [==============================] - 7s 5ms/step - loss: 0.8493 - accuracy: 0.6997 - val_loss: 0.9947 - val_accuracy: 0.6584\n",
      "Epoch 80/100\n",
      "1563/1563 [==============================] - 7s 5ms/step - loss: 0.8496 - accuracy: 0.6999 - val_loss: 0.9801 - val_accuracy: 0.6610\n",
      "Epoch 81/100\n",
      "1563/1563 [==============================] - 7s 5ms/step - loss: 0.8478 - accuracy: 0.7015 - val_loss: 0.9877 - val_accuracy: 0.6589\n",
      "Epoch 82/100\n",
      "1563/1563 [==============================] - 7s 5ms/step - loss: 0.8489 - accuracy: 0.6992 - val_loss: 0.9868 - val_accuracy: 0.6588\n",
      "Epoch 83/100\n",
      "1563/1563 [==============================] - 7s 5ms/step - loss: 0.8480 - accuracy: 0.6990 - val_loss: 0.9866 - val_accuracy: 0.6611\n",
      "Epoch 84/100\n",
      "1563/1563 [==============================] - 7s 4ms/step - loss: 0.8472 - accuracy: 0.7020 - val_loss: 1.0561 - val_accuracy: 0.6432\n",
      "Epoch 85/100\n",
      "1563/1563 [==============================] - 7s 5ms/step - loss: 0.8475 - accuracy: 0.7016 - val_loss: 0.9840 - val_accuracy: 0.6643\n",
      "Epoch 86/100\n",
      "1563/1563 [==============================] - 7s 5ms/step - loss: 0.8452 - accuracy: 0.6994 - val_loss: 0.9889 - val_accuracy: 0.6589\n",
      "Epoch 87/100\n",
      "1563/1563 [==============================] - 7s 5ms/step - loss: 0.8480 - accuracy: 0.7004 - val_loss: 1.0006 - val_accuracy: 0.6578\n",
      "Epoch 88/100\n",
      "1563/1563 [==============================] - 7s 5ms/step - loss: 0.8458 - accuracy: 0.7010 - val_loss: 1.0224 - val_accuracy: 0.6533\n",
      "Epoch 89/100\n",
      "1563/1563 [==============================] - 7s 4ms/step - loss: 0.8445 - accuracy: 0.7027 - val_loss: 1.0110 - val_accuracy: 0.6519\n",
      "Epoch 90/100\n",
      "1563/1563 [==============================] - 7s 5ms/step - loss: 0.8430 - accuracy: 0.7015 - val_loss: 0.9937 - val_accuracy: 0.6559\n",
      "Epoch 91/100\n",
      "1563/1563 [==============================] - 7s 5ms/step - loss: 0.8424 - accuracy: 0.7022 - val_loss: 0.9850 - val_accuracy: 0.6591\n",
      "Epoch 92/100\n",
      "1563/1563 [==============================] - 7s 5ms/step - loss: 0.8430 - accuracy: 0.7009 - val_loss: 0.9902 - val_accuracy: 0.6589\n",
      "Epoch 93/100\n",
      "1563/1563 [==============================] - 7s 4ms/step - loss: 0.8405 - accuracy: 0.7043 - val_loss: 0.9920 - val_accuracy: 0.6630\n",
      "Epoch 94/100\n",
      "1563/1563 [==============================] - 7s 5ms/step - loss: 0.8414 - accuracy: 0.7026 - val_loss: 0.9999 - val_accuracy: 0.6556\n",
      "Epoch 95/100\n",
      "1563/1563 [==============================] - 7s 5ms/step - loss: 0.8412 - accuracy: 0.7036 - val_loss: 0.9895 - val_accuracy: 0.6580\n",
      "Epoch 96/100\n",
      "1563/1563 [==============================] - 7s 5ms/step - loss: 0.8416 - accuracy: 0.7020 - val_loss: 1.0023 - val_accuracy: 0.6602\n",
      "Epoch 97/100\n",
      "1563/1563 [==============================] - 7s 4ms/step - loss: 0.8412 - accuracy: 0.7032 - val_loss: 1.0023 - val_accuracy: 0.6595\n",
      "Epoch 98/100\n",
      "1563/1563 [==============================] - 7s 4ms/step - loss: 0.8403 - accuracy: 0.7014 - val_loss: 1.0516 - val_accuracy: 0.6486\n",
      "Epoch 99/100\n",
      "1563/1563 [==============================] - 7s 5ms/step - loss: 0.8375 - accuracy: 0.7021 - val_loss: 1.0085 - val_accuracy: 0.6531\n",
      "Epoch 100/100\n",
      "1563/1563 [==============================] - 7s 5ms/step - loss: 0.8401 - accuracy: 0.7025 - val_loss: 1.0038 - val_accuracy: 0.6611\n"
     ]
    },
    {
     "data": {
      "text/plain": [
       "<keras.callbacks.History at 0x20feb025ab0>"
      ]
     },
     "execution_count": 27,
     "metadata": {},
     "output_type": "execute_result"
    }
   ],
   "source": [
    "model.fit(X_train,Y_main_train,\n",
    "          validation_data=(X_test,Y_main_test),\n",
    "          batch_size=32,\n",
    "          validation_batch_size=32,\n",
    "          epochs=100)"
   ]
  },
  {
   "cell_type": "code",
   "execution_count": null,
   "id": "2405e1c0",
   "metadata": {},
   "outputs": [],
   "source": []
  }
 ],
 "metadata": {
  "kernelspec": {
   "display_name": "Python 3 (ipykernel)",
   "language": "python",
   "name": "python3"
  },
  "language_info": {
   "codemirror_mode": {
    "name": "ipython",
    "version": 3
   },
   "file_extension": ".py",
   "mimetype": "text/x-python",
   "name": "python",
   "nbconvert_exporter": "python",
   "pygments_lexer": "ipython3",
   "version": "3.10.0"
  }
 },
 "nbformat": 4,
 "nbformat_minor": 5
}
