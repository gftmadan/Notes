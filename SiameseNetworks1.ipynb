{
 "cells": [
  {
   "cell_type": "code",
   "execution_count": 1,
   "id": "44162026",
   "metadata": {},
   "outputs": [],
   "source": [
    "import os\n",
    "import numpy as np\n",
    "import random\n",
    "import cv2\n",
    "import tensorflow as tf\n",
    "import tensorflow.keras.backend as K"
   ]
  },
  {
   "cell_type": "code",
   "execution_count": 2,
   "id": "877b78e0",
   "metadata": {},
   "outputs": [],
   "source": [
    "train_data_loc = r\"E:\\PyImage_ComputerVision\\SiameseNetworks\\WorkingData\\InputData\\10_food_classes_all_data\\train\"\n",
    "test_data_loc = r\"E:\\PyImage_ComputerVision\\SiameseNetworks\\WorkingData\\InputData\\10_food_classes_all_data\\test\""
   ]
  },
  {
   "cell_type": "code",
   "execution_count": 3,
   "id": "52307e63",
   "metadata": {},
   "outputs": [],
   "source": [
    "def count_total_number_of_files(data_loc):\n",
    "    total_num = 0\n",
    "    for label in os.listdir(data_loc):\n",
    "        label_folder_loc = os.path.join(train_data_loc,label)\n",
    "        tree=os.walk(label_folder_loc,topdown=True)\n",
    "        top_branch=next(tree)\n",
    "        total_num += len(top_branch[2])\n",
    "    return total_num"
   ]
  },
  {
   "cell_type": "code",
   "execution_count": 4,
   "id": "a0c90ca4",
   "metadata": {},
   "outputs": [],
   "source": [
    "def return_image(image_loc):\n",
    "    img = cv2.imread(image_loc)\n",
    "    img = cv2.cvtColor(img,cv2.COLOR_BGR2RGB)\n",
    "    img = cv2.resize(img,(128,128),interpolation=cv2.INTER_AREA)\n",
    "    img = tf.cast(img,dtype=tf.float32)\n",
    "    img = img/255.0\n",
    "    return img"
   ]
  },
  {
   "cell_type": "code",
   "execution_count": 5,
   "id": "23d999e2",
   "metadata": {},
   "outputs": [],
   "source": [
    "def create_pairs(data_loc):\n",
    "    pairs_images = []\n",
    "    pairs_labels = []\n",
    "    \n",
    "    count = 0\n",
    "    labels = np.array(os.listdir(data_loc))\n",
    "    for folder in labels:\n",
    "        folder_loc = os.path.join(data_loc,folder)\n",
    "        files = os.listdir(folder_loc)\n",
    "        for file in files:\n",
    "            file_loc = os.path.join(folder_loc,file)\n",
    "            file_img = return_image(file_loc)\n",
    "            \n",
    "            pos_img_file = random.choice(files)\n",
    "            pos_img_loc = os.path.join(folder_loc,pos_img_file)\n",
    "            pos_img = return_image(pos_img_loc)\n",
    "            pairs_images.append([file_img,pos_img])\n",
    "            pairs_labels.append([1])\n",
    "            \n",
    "            neg_img_folder = random.choice(np.where(labels != folder)[0])\n",
    "            neg_img_file = random.choice(os.listdir(os.path.join(data_loc,labels[neg_img_folder])))\n",
    "            neg_img_loc = os.path.join(data_loc,labels[neg_img_folder],neg_img_file)\n",
    "            neg_img = return_image(neg_img_loc)\n",
    "            pairs_images.append([file_img,neg_img])\n",
    "            pairs_labels.append([0])\n",
    "    return np.array(pairs_images),np.array(pairs_labels)"
   ]
  },
  {
   "cell_type": "code",
   "execution_count": 6,
   "id": "9dc6a081",
   "metadata": {},
   "outputs": [],
   "source": [
    "def show_pairs(images,labels):\n",
    "    for i in range(len(images)):\n",
    "        pair = images[i]\n",
    "        label = labels[i][0]\n",
    "        image_combined = np.hstack((pair[0],pair[1]))\n",
    "        image_combined = cv2.cvtColor(image_combined,cv2.COLOR_RGB2BGR)\n",
    "        cv2.imshow(f\"{label}\",image_combined)\n",
    "        cv2.waitKey(0)\n",
    "        cv2.destroyAllWindows()"
   ]
  },
  {
   "cell_type": "code",
   "execution_count": null,
   "id": "90a0278a",
   "metadata": {},
   "outputs": [],
   "source": [
    "a,b = create_pairs(train_data_loc)"
   ]
  },
  {
   "cell_type": "code",
   "execution_count": 25,
   "id": "62fa4e65",
   "metadata": {},
   "outputs": [],
   "source": [
    "show_pairs(a,b)"
   ]
  },
  {
   "cell_type": "code",
   "execution_count": 35,
   "id": "ee009d8d",
   "metadata": {},
   "outputs": [],
   "source": [
    "fg = np.array(os.listdir(train_data_loc))"
   ]
  },
  {
   "cell_type": "code",
   "execution_count": 36,
   "id": "36f86d4e",
   "metadata": {},
   "outputs": [
    {
     "data": {
      "text/plain": [
       "array(['chicken_curry', 'chicken_wings', 'fried_rice', 'grilled_salmon',\n",
       "       'hamburger', 'ice_cream', 'pizza', 'ramen', 'steak', 'sushi'],\n",
       "      dtype='<U14')"
      ]
     },
     "execution_count": 36,
     "metadata": {},
     "output_type": "execute_result"
    }
   ],
   "source": [
    "fg"
   ]
  },
  {
   "cell_type": "code",
   "execution_count": 37,
   "id": "dec2f555",
   "metadata": {},
   "outputs": [
    {
     "data": {
      "text/plain": [
       "(array([1, 2, 3, 4, 5, 6, 7, 8, 9], dtype=int64),)"
      ]
     },
     "execution_count": 37,
     "metadata": {},
     "output_type": "execute_result"
    }
   ],
   "source": [
    "np.where(fg!='chicken_curry')"
   ]
  },
  {
   "cell_type": "code",
   "execution_count": 44,
   "id": "f2b308d9",
   "metadata": {},
   "outputs": [
    {
     "data": {
      "text/plain": [
       "7"
      ]
     },
     "execution_count": 44,
     "metadata": {},
     "output_type": "execute_result"
    }
   ],
   "source": [
    "random.choice(np.where(fg!='chicken_curry')[0])"
   ]
  },
  {
   "cell_type": "code",
   "execution_count": null,
   "id": "7270aa4b",
   "metadata": {},
   "outputs": [],
   "source": []
  },
  {
   "cell_type": "code",
   "execution_count": null,
   "id": "d4f50e5c",
   "metadata": {},
   "outputs": [],
   "source": []
  },
  {
   "cell_type": "code",
   "execution_count": 19,
   "id": "dbe348e5",
   "metadata": {},
   "outputs": [
    {
     "data": {
      "text/plain": [
       "['1004867.jpg',\n",
       " '1014843.jpg',\n",
       " '1022681.jpg',\n",
       " '1027623.jpg',\n",
       " '102896.jpg',\n",
       " '1040283.jpg',\n",
       " '104874.jpg',\n",
       " '1051025.jpg',\n",
       " '105113.jpg',\n",
       " '1052361.jpg',\n",
       " '1065322.jpg',\n",
       " '1067426.jpg',\n",
       " '1068592.jpg',\n",
       " '1071242.jpg',\n",
       " '1085387.jpg',\n",
       " '1110023.jpg',\n",
       " '1116408.jpg',\n",
       " '11207.jpg',\n",
       " '1131377.jpg',\n",
       " '1133357.jpg',\n",
       " '1140085.jpg',\n",
       " '1147844.jpg',\n",
       " '1149623.jpg',\n",
       " '116147.jpg',\n",
       " '1165360.jpg',\n",
       " '1166612.jpg',\n",
       " '1170533.jpg',\n",
       " '1173563.jpg',\n",
       " '1176086.jpg',\n",
       " '1179201.jpg',\n",
       " '118163.jpg',\n",
       " '1190829.jpg',\n",
       " '1199426.jpg',\n",
       " '1199781.jpg',\n",
       " '1202337.jpg',\n",
       " '1206473.jpg',\n",
       " '1211378.jpg',\n",
       " '1218811.jpg',\n",
       " '1238337.jpg',\n",
       " '1243503.jpg',\n",
       " '124904.jpg',\n",
       " '1251235.jpg',\n",
       " '1251752.jpg',\n",
       " '1254768.jpg',\n",
       " '1270258.jpg',\n",
       " '127152.jpg',\n",
       " '1274390.jpg',\n",
       " '1283845.jpg',\n",
       " '1285185.jpg',\n",
       " '1285249.jpg',\n",
       " '128873.jpg',\n",
       " '1291001.jpg',\n",
       " '129543.jpg',\n",
       " '1299746.jpg',\n",
       " '1303435.jpg',\n",
       " '1308976.jpg',\n",
       " '1330735.jpg',\n",
       " '1331774.jpg',\n",
       " '1336513.jpg',\n",
       " '1342294.jpg',\n",
       " '1344942.jpg',\n",
       " '1345866.jpg',\n",
       " '1349027.jpg',\n",
       " '1352016.jpg',\n",
       " '1357352.jpg',\n",
       " '1371322.jpg',\n",
       " '1372178.jpg',\n",
       " '1372737.jpg',\n",
       " '138001.jpg',\n",
       " '1387405.jpg',\n",
       " '1400766.jpg',\n",
       " '1402222.jpg',\n",
       " '1413701.jpg',\n",
       " '1414524.jpg',\n",
       " '1415667.jpg',\n",
       " '1415908.jpg',\n",
       " '1417268.jpg',\n",
       " '1417756.jpg',\n",
       " '1418433.jpg',\n",
       " '1422268.jpg',\n",
       " '1428217.jpg',\n",
       " '1437757.jpg',\n",
       " '1442176.jpg',\n",
       " '1442449.jpg',\n",
       " '1445935.jpg',\n",
       " '1451183.jpg',\n",
       " '1455313.jpg',\n",
       " '145571.jpg',\n",
       " '1459303.jpg',\n",
       " '1467698.jpg',\n",
       " '1473774.jpg',\n",
       " '1473873.jpg',\n",
       " '1476754.jpg',\n",
       " '1477067.jpg',\n",
       " '1477473.jpg',\n",
       " '1477747.jpg',\n",
       " '1480314.jpg',\n",
       " '1482382.jpg',\n",
       " '148528.jpg',\n",
       " '1485751.jpg',\n",
       " '1485898.jpg',\n",
       " '1486922.jpg',\n",
       " '1498416.jpg',\n",
       " '1499694.jpg',\n",
       " '1509775.jpg',\n",
       " '1512277.jpg',\n",
       " '1515472.jpg',\n",
       " '1520248.jpg',\n",
       " '1539495.jpg',\n",
       " '1545889.jpg',\n",
       " '1546011.jpg',\n",
       " '1560953.jpg',\n",
       " '1561845.jpg',\n",
       " '1561903.jpg',\n",
       " '1565684.jpg',\n",
       " '1569521.jpg',\n",
       " '1583885.jpg',\n",
       " '1584640.jpg',\n",
       " '1588422.jpg',\n",
       " '1608420.jpg',\n",
       " '161004.jpg',\n",
       " '16107.jpg',\n",
       " '161767.jpg',\n",
       " '1621613.jpg',\n",
       " '1623603.jpg',\n",
       " '1637054.jpg',\n",
       " '1638863.jpg',\n",
       " '1643369.jpg',\n",
       " '1646416.jpg',\n",
       " '1651201.jpg',\n",
       " '1656470.jpg',\n",
       " '1667708.jpg',\n",
       " '1670453.jpg',\n",
       " '1676206.jpg',\n",
       " '1677650.jpg',\n",
       " '1683965.jpg',\n",
       " '1685950.jpg',\n",
       " '1686313.jpg',\n",
       " '1695658.jpg',\n",
       " '1696809.jpg',\n",
       " '1696840.jpg',\n",
       " '1700927.jpg',\n",
       " '171055.jpg',\n",
       " '171599.jpg',\n",
       " '1726587.jpg',\n",
       " '1731037.jpg',\n",
       " '1731668.jpg',\n",
       " '1747438.jpg',\n",
       " '1750242.jpg',\n",
       " '1753210.jpg',\n",
       " '1757433.jpg',\n",
       " '1757545.jpg',\n",
       " '1763079.jpg',\n",
       " '177212.jpg',\n",
       " '1775677.jpg',\n",
       " '1776072.jpg',\n",
       " '178100.jpg',\n",
       " '1782739.jpg',\n",
       " '1784510.jpg',\n",
       " '1788770.jpg',\n",
       " '18042.jpg',\n",
       " '1809747.jpg',\n",
       " '1810087.jpg',\n",
       " '181401.jpg',\n",
       " '181852.jpg',\n",
       " '1823351.jpg',\n",
       " '1823500.jpg',\n",
       " '1829512.jpg',\n",
       " '1831159.jpg',\n",
       " '1833374.jpg',\n",
       " '1838864.jpg',\n",
       " '1839246.jpg',\n",
       " '1842322.jpg',\n",
       " '1843784.jpg',\n",
       " '1845375.jpg',\n",
       " '1855072.jpg',\n",
       " '1856555.jpg',\n",
       " '1857870.jpg',\n",
       " '1866247.jpg',\n",
       " '1873303.jpg',\n",
       " '1878636.jpg',\n",
       " '1890645.jpg',\n",
       " '1900953.jpg',\n",
       " '1903091.jpg',\n",
       " '1905628.jpg',\n",
       " '1906787.jpg',\n",
       " '191582.jpg',\n",
       " '1918456.jpg',\n",
       " '1918883.jpg',\n",
       " '1920878.jpg',\n",
       " '1921121.jpg',\n",
       " '1935940.jpg',\n",
       " '1944183.jpg',\n",
       " '1948868.jpg',\n",
       " '1953012.jpg',\n",
       " '1955202.jpg',\n",
       " '1961706.jpg',\n",
       " '1969063.jpg',\n",
       " '1972582.jpg',\n",
       " '1975439.jpg',\n",
       " '1976013.jpg',\n",
       " '1982878.jpg',\n",
       " '1989811.jpg',\n",
       " '1995151.jpg',\n",
       " '2000064.jpg',\n",
       " '2000919.jpg',\n",
       " '200121.jpg',\n",
       " '2006607.jpg',\n",
       " '2007330.jpg',\n",
       " '2011230.jpg',\n",
       " '202169.jpg',\n",
       " '2032349.jpg',\n",
       " '2038187.jpg',\n",
       " '2040827.jpg',\n",
       " '2041317.jpg',\n",
       " '2044445.jpg',\n",
       " '2048960.jpg',\n",
       " '2049524.jpg',\n",
       " '2049685.jpg',\n",
       " '2051444.jpg',\n",
       " '2055366.jpg',\n",
       " '2062313.jpg',\n",
       " '2066198.jpg',\n",
       " '2068250.jpg',\n",
       " '2071457.jpg',\n",
       " '2086421.jpg',\n",
       " '2087169.jpg',\n",
       " '2087902.jpg',\n",
       " '2089125.jpg',\n",
       " '2093029.jpg',\n",
       " '2094760.jpg',\n",
       " '2094778.jpg',\n",
       " '2098073.jpg',\n",
       " '2100.jpg',\n",
       " '210587.jpg',\n",
       " '2108934.jpg',\n",
       " '2110170.jpg',\n",
       " '2123860.jpg',\n",
       " '2124335.jpg',\n",
       " '2127509.jpg',\n",
       " '2129466.jpg',\n",
       " '2132006.jpg',\n",
       " '213673.jpg',\n",
       " '2137828.jpg',\n",
       " '214993.jpg',\n",
       " '2154940.jpg',\n",
       " '2157823.jpg',\n",
       " '215830.jpg',\n",
       " '2163810.jpg',\n",
       " '216506.jpg',\n",
       " '2178253.jpg',\n",
       " '217926.jpg',\n",
       " '2179606.jpg',\n",
       " '2191925.jpg',\n",
       " '2196716.jpg',\n",
       " '2199261.jpg',\n",
       " '220003.jpg',\n",
       " '2200462.jpg',\n",
       " '2202573.jpg',\n",
       " '2208444.jpg',\n",
       " '221895.jpg',\n",
       " '2233325.jpg',\n",
       " '2234972.jpg',\n",
       " '2236531.jpg',\n",
       " '2241984.jpg',\n",
       " '2248177.jpg',\n",
       " '2251567.jpg',\n",
       " '2260185.jpg',\n",
       " '2264390.jpg',\n",
       " '2267403.jpg',\n",
       " '2268517.jpg',\n",
       " '2271905.jpg',\n",
       " '2274802.jpg',\n",
       " '2282195.jpg',\n",
       " '2283627.jpg',\n",
       " '228438.jpg',\n",
       " '2286338.jpg',\n",
       " '2291234.jpg',\n",
       " '2291280.jpg',\n",
       " '230110.jpg',\n",
       " '2302100.jpg',\n",
       " '2307753.jpg',\n",
       " '2315810.jpg',\n",
       " '2322720.jpg',\n",
       " '2339105.jpg',\n",
       " '2342039.jpg',\n",
       " '2342516.jpg',\n",
       " '2343873.jpg',\n",
       " '2350467.jpg',\n",
       " '2369153.jpg',\n",
       " '2369216.jpg',\n",
       " '237125.jpg',\n",
       " '2379649.jpg',\n",
       " '2383896.jpg',\n",
       " '2388809.jpg',\n",
       " '2394967.jpg',\n",
       " '2396860.jpg',\n",
       " '2398119.jpg',\n",
       " '2400634.jpg',\n",
       " '2407851.jpg',\n",
       " '2410638.jpg',\n",
       " '2431933.jpg',\n",
       " '2437232.jpg',\n",
       " '2451199.jpg',\n",
       " '2459336.jpg',\n",
       " '2460096.jpg',\n",
       " '246145.jpg',\n",
       " '2461932.jpg',\n",
       " '2468780.jpg',\n",
       " '2473062.jpg',\n",
       " '2474978.jpg',\n",
       " '2478167.jpg',\n",
       " '2479102.jpg',\n",
       " '2482687.jpg',\n",
       " '2516314.jpg',\n",
       " '2516795.jpg',\n",
       " '2520265.jpg',\n",
       " '2522094.jpg',\n",
       " '2523126.jpg',\n",
       " '2530625.jpg',\n",
       " '253336.jpg',\n",
       " '2538260.jpg',\n",
       " '254063.jpg',\n",
       " '2541599.jpg',\n",
       " '2545080.jpg',\n",
       " '2551913.jpg',\n",
       " '2553422.jpg',\n",
       " '2560078.jpg',\n",
       " '2571997.jpg',\n",
       " '2576077.jpg',\n",
       " '2589984.jpg',\n",
       " '2590404.jpg',\n",
       " '2591392.jpg',\n",
       " '2595273.jpg',\n",
       " '2603819.jpg',\n",
       " '2605406.jpg',\n",
       " '2610290.jpg',\n",
       " '2610952.jpg',\n",
       " '2615489.jpg',\n",
       " '261723.jpg',\n",
       " '2619231.jpg',\n",
       " '2621177.jpg',\n",
       " '2628746.jpg',\n",
       " '263262.jpg',\n",
       " '2641642.jpg',\n",
       " '2644667.jpg',\n",
       " '2647310.jpg',\n",
       " '2653549.jpg',\n",
       " '2657838.jpg',\n",
       " '2658451.jpg',\n",
       " '26605.jpg',\n",
       " '2665266.jpg',\n",
       " '2669371.jpg',\n",
       " '2670008.jpg',\n",
       " '2673467.jpg',\n",
       " '2679477.jpg',\n",
       " '2679600.jpg',\n",
       " '2681181.jpg',\n",
       " '2683232.jpg',\n",
       " '2683308.jpg',\n",
       " '2687098.jpg',\n",
       " '2690794.jpg',\n",
       " '2695217.jpg',\n",
       " '269964.jpg',\n",
       " '2701143.jpg',\n",
       " '2711377.jpg',\n",
       " '2711768.jpg',\n",
       " '2712201.jpg',\n",
       " '272188.jpg',\n",
       " '2728934.jpg',\n",
       " '2729445.jpg',\n",
       " '2731515.jpg',\n",
       " '2735181.jpg',\n",
       " '274101.jpg',\n",
       " '2753085.jpg',\n",
       " '2758467.jpg',\n",
       " '2763485.jpg',\n",
       " '2770545.jpg',\n",
       " '2775937.jpg',\n",
       " '2777542.jpg',\n",
       " '2781370.jpg',\n",
       " '2786996.jpg',\n",
       " '2790493.jpg',\n",
       " '2798660.jpg',\n",
       " '280714.jpg',\n",
       " '2807390.jpg',\n",
       " '2810053.jpg',\n",
       " '2811494.jpg',\n",
       " '2811509.jpg',\n",
       " '281471.jpg',\n",
       " '2820201.jpg',\n",
       " '2832448.jpg',\n",
       " '2836715.jpg',\n",
       " '2837370.jpg',\n",
       " '2839297.jpg',\n",
       " '2840183.jpg',\n",
       " '2850167.jpg',\n",
       " '2856149.jpg',\n",
       " '2857726.jpg',\n",
       " '2858269.jpg',\n",
       " '2864100.jpg',\n",
       " '2869518.jpg',\n",
       " '2875950.jpg',\n",
       " '2879308.jpg',\n",
       " '2883422.jpg',\n",
       " '2890083.jpg',\n",
       " '289269.jpg',\n",
       " '2893890.jpg',\n",
       " '2899927.jpg',\n",
       " '2911972.jpg',\n",
       " '2914285.jpg',\n",
       " '2929044.jpg',\n",
       " '2930252.jpg',\n",
       " '2930745.jpg',\n",
       " '2936384.jpg',\n",
       " '2949599.jpg',\n",
       " '2954372.jpg',\n",
       " '2956788.jpg',\n",
       " '2960843.jpg',\n",
       " '296213.jpg',\n",
       " '2973786.jpg',\n",
       " '2986794.jpg',\n",
       " '299238.jpg',\n",
       " '3009988.jpg',\n",
       " '3014233.jpg',\n",
       " '302095.jpg',\n",
       " '302482.jpg',\n",
       " '3030248.jpg',\n",
       " '3037201.jpg',\n",
       " '3039459.jpg',\n",
       " '3041402.jpg',\n",
       " '3047106.jpg',\n",
       " '3047995.jpg',\n",
       " '3048655.jpg',\n",
       " '3051263.jpg',\n",
       " '305487.jpg',\n",
       " '3058216.jpg',\n",
       " '3058581.jpg',\n",
       " '3059214.jpg',\n",
       " '3061568.jpg',\n",
       " '3064522.jpg',\n",
       " '3066535.jpg',\n",
       " '3071510.jpg',\n",
       " '3071734.jpg',\n",
       " '3076427.jpg',\n",
       " '3087168.jpg',\n",
       " '3093235.jpg',\n",
       " '3095487.jpg',\n",
       " '3099730.jpg',\n",
       " '3100922.jpg',\n",
       " '3104424.jpg',\n",
       " '3104984.jpg',\n",
       " '310779.jpg',\n",
       " '3112583.jpg',\n",
       " '3116085.jpg',\n",
       " '3121657.jpg',\n",
       " '3132208.jpg',\n",
       " '314160.jpg',\n",
       " '3163998.jpg',\n",
       " '3166575.jpg',\n",
       " '3181412.jpg',\n",
       " '3182740.jpg',\n",
       " '3182838.jpg',\n",
       " '3184252.jpg',\n",
       " '3193826.jpg',\n",
       " '3194027.jpg',\n",
       " '3195451.jpg',\n",
       " '3198121.jpg',\n",
       " '3201006.jpg',\n",
       " '3202468.jpg',\n",
       " '3203794.jpg',\n",
       " '321428.jpg',\n",
       " '3219281.jpg',\n",
       " '3233857.jpg',\n",
       " '3239486.jpg',\n",
       " '3243183.jpg',\n",
       " '3244485.jpg',\n",
       " '324575.jpg',\n",
       " '3260949.jpg',\n",
       " '327062.jpg',\n",
       " '3274130.jpg',\n",
       " '3275256.jpg',\n",
       " '3276800.jpg',\n",
       " '3277426.jpg',\n",
       " '3286533.jpg',\n",
       " '3287111.jpg',\n",
       " '3293958.jpg',\n",
       " '3295257.jpg',\n",
       " '3295401.jpg',\n",
       " '3297709.jpg',\n",
       " '329921.jpg',\n",
       " '3307194.jpg',\n",
       " '3309446.jpg',\n",
       " '3310931.jpg',\n",
       " '332024.jpg',\n",
       " '3336740.jpg',\n",
       " '3344165.jpg',\n",
       " '3366614.jpg',\n",
       " '3368078.jpg',\n",
       " '3370105.jpg',\n",
       " '3379335.jpg',\n",
       " '3381419.jpg',\n",
       " '3391056.jpg',\n",
       " '3395013.jpg',\n",
       " '3395518.jpg',\n",
       " '340050.jpg',\n",
       " '340232.jpg',\n",
       " '3402952.jpg',\n",
       " '3405370.jpg',\n",
       " '3408176.jpg',\n",
       " '341407.jpg',\n",
       " '3419930.jpg',\n",
       " '3421060.jpg',\n",
       " '3428108.jpg',\n",
       " '3433072.jpg',\n",
       " '344199.jpg',\n",
       " '3451884.jpg',\n",
       " '3455016.jpg',\n",
       " '34599.jpg',\n",
       " '3465042.jpg',\n",
       " '3477328.jpg',\n",
       " '347990.jpg',\n",
       " '3481007.jpg',\n",
       " '34889.jpg',\n",
       " '3490871.jpg',\n",
       " '3494614.jpg',\n",
       " '3495119.jpg',\n",
       " '3498493.jpg',\n",
       " '3500420.jpg',\n",
       " '3501325.jpg',\n",
       " '3503151.jpg',\n",
       " '3516788.jpg',\n",
       " '352284.jpg',\n",
       " '3534480.jpg',\n",
       " '353838.jpg',\n",
       " '353914.jpg',\n",
       " '35409.jpg',\n",
       " '3542597.jpg',\n",
       " '3544460.jpg',\n",
       " '354677.jpg',\n",
       " '3550161.jpg',\n",
       " '3564264.jpg',\n",
       " '3570420.jpg',\n",
       " '357137.jpg',\n",
       " '3572749.jpg',\n",
       " '3577347.jpg',\n",
       " '3580088.jpg',\n",
       " '3585988.jpg',\n",
       " '3587389.jpg',\n",
       " '3595024.jpg',\n",
       " '3596218.jpg',\n",
       " '3600369.jpg',\n",
       " '3601368.jpg',\n",
       " '360207.jpg',\n",
       " '3602337.jpg',\n",
       " '3605423.jpg',\n",
       " '3617120.jpg',\n",
       " '3620273.jpg',\n",
       " '3621461.jpg',\n",
       " '362814.jpg',\n",
       " '3628366.jpg',\n",
       " '3633664.jpg',\n",
       " '36340.jpg',\n",
       " '3638377.jpg',\n",
       " '364411.jpg',\n",
       " '3654669.jpg',\n",
       " '3661156.jpg',\n",
       " '3662207.jpg',\n",
       " '3678829.jpg',\n",
       " '3679216.jpg',\n",
       " '3679792.jpg',\n",
       " '3700392.jpg',\n",
       " '371995.jpg',\n",
       " '372865.jpg',\n",
       " '373542.jpg',\n",
       " '3738138.jpg',\n",
       " '374064.jpg',\n",
       " '3757107.jpg',\n",
       " '3759339.jpg',\n",
       " '3779111.jpg',\n",
       " '3799616.jpg',\n",
       " '3800551.jpg',\n",
       " '3808493.jpg',\n",
       " '3820173.jpg',\n",
       " '3830277.jpg',\n",
       " '3831847.jpg',\n",
       " '3845130.jpg',\n",
       " '3880355.jpg',\n",
       " '3882696.jpg',\n",
       " '3890089.jpg',\n",
       " '389273.jpg',\n",
       " '3901671.jpg',\n",
       " '3904395.jpg',\n",
       " '3909329.jpg',\n",
       " '3909335.jpg',\n",
       " '3918855.jpg',\n",
       " '3919521.jpg',\n",
       " '401602.jpg',\n",
       " '403121.jpg',\n",
       " '404095.jpg',\n",
       " '404391.jpg',\n",
       " '412840.jpg',\n",
       " '415039.jpg',\n",
       " '417001.jpg',\n",
       " '417542.jpg',\n",
       " '421705.jpg',\n",
       " '43038.jpg',\n",
       " '43115.jpg',\n",
       " '438591.jpg',\n",
       " '441325.jpg',\n",
       " '441786.jpg',\n",
       " '444123.jpg',\n",
       " '45012.jpg',\n",
       " '45105.jpg',\n",
       " '458109.jpg',\n",
       " '459875.jpg',\n",
       " '460508.jpg',\n",
       " '464298.jpg',\n",
       " '464807.jpg',\n",
       " '464925.jpg',\n",
       " '465620.jpg',\n",
       " '466571.jpg',\n",
       " '474188.jpg',\n",
       " '475137.jpg',\n",
       " '476099.jpg',\n",
       " '476423.jpg',\n",
       " '476425.jpg',\n",
       " '480452.jpg',\n",
       " '483457.jpg',\n",
       " '49399.jpg',\n",
       " '504931.jpg',\n",
       " '505405.jpg',\n",
       " '508075.jpg',\n",
       " '50866.jpg',\n",
       " '514844.jpg',\n",
       " '517965.jpg',\n",
       " '522474.jpg',\n",
       " '523331.jpg',\n",
       " '523891.jpg',\n",
       " '524826.jpg',\n",
       " '528149.jpg',\n",
       " '528799.jpg',\n",
       " '529288.jpg',\n",
       " '531941.jpg',\n",
       " '532359.jpg',\n",
       " '532366.jpg',\n",
       " '536220.jpg',\n",
       " '54168.jpg',\n",
       " '554849.jpg',\n",
       " '56745.jpg',\n",
       " '57672.jpg',\n",
       " '579101.jpg',\n",
       " '587189.jpg',\n",
       " '587633.jpg',\n",
       " '603223.jpg',\n",
       " '606311.jpg',\n",
       " '606312.jpg',\n",
       " '608834.jpg',\n",
       " '609133.jpg',\n",
       " '609136.jpg',\n",
       " '61310.jpg',\n",
       " '61838.jpg',\n",
       " '621014.jpg',\n",
       " '621377.jpg',\n",
       " '627128.jpg',\n",
       " '636631.jpg',\n",
       " '659615.jpg',\n",
       " '66223.jpg',\n",
       " '664427.jpg',\n",
       " '666726.jpg',\n",
       " '666991.jpg',\n",
       " '667414.jpg',\n",
       " '668474.jpg',\n",
       " '668711.jpg',\n",
       " '673582.jpg',\n",
       " '675539.jpg',\n",
       " '677868.jpg',\n",
       " '681329.jpg',\n",
       " '68606.jpg',\n",
       " '69362.jpg',\n",
       " '70091.jpg',\n",
       " '707211.jpg',\n",
       " '708253.jpg',\n",
       " '709398.jpg',\n",
       " '71211.jpg',\n",
       " '713552.jpg',\n",
       " '718906.jpg',\n",
       " '728518.jpg',\n",
       " '737216.jpg',\n",
       " '739513.jpg',\n",
       " '740455.jpg',\n",
       " '742147.jpg',\n",
       " '743077.jpg',\n",
       " '744896.jpg',\n",
       " '745486.jpg',\n",
       " '752379.jpg',\n",
       " '752586.jpg',\n",
       " '76073.jpg',\n",
       " '762359.jpg',\n",
       " '775349.jpg',\n",
       " '78541.jpg',\n",
       " '789540.jpg',\n",
       " '793806.jpg',\n",
       " '796961.jpg',\n",
       " '797270.jpg',\n",
       " '799892.jpg',\n",
       " '805402.jpg',\n",
       " '807341.jpg',\n",
       " '811255.jpg',\n",
       " '811637.jpg',\n",
       " '81425.jpg',\n",
       " '825390.jpg',\n",
       " '828808.jpg',\n",
       " '833088.jpg',\n",
       " '844686.jpg',\n",
       " '847536.jpg',\n",
       " '854070.jpg',\n",
       " '854335.jpg',\n",
       " '876.jpg',\n",
       " '882723.jpg',\n",
       " '88381.jpg',\n",
       " '887588.jpg',\n",
       " '889805.jpg',\n",
       " '89166.jpg',\n",
       " '893728.jpg',\n",
       " '895845.jpg',\n",
       " '897279.jpg',\n",
       " '90002.jpg',\n",
       " '909733.jpg',\n",
       " '915818.jpg',\n",
       " '921382.jpg',\n",
       " '925431.jpg',\n",
       " '92747.jpg',\n",
       " '931003.jpg',\n",
       " '935046.jpg',\n",
       " '937459.jpg',\n",
       " '93771.jpg',\n",
       " '94766.jpg',\n",
       " '949975.jpg',\n",
       " '95561.jpg',\n",
       " '961396.jpg',\n",
       " '962899.jpg',\n",
       " '990080.jpg',\n",
       " '991222.jpg',\n",
       " '993103.jpg',\n",
       " '994930.jpg',\n",
       " '99528.jpg',\n",
       " '99631.jpg',\n",
       " '998232.jpg',\n",
       " '999550.jpg']"
      ]
     },
     "execution_count": 19,
     "metadata": {},
     "output_type": "execute_result"
    }
   ],
   "source": [
    "os.listdir(r\"E:\\PyImage_ComputerVision\\SiameseNetworks\\WorkingData\\InputData\\10_food_classes_all_data\\train\\chicken_curry\")"
   ]
  },
  {
   "cell_type": "code",
   "execution_count": null,
   "id": "e90ad65f",
   "metadata": {},
   "outputs": [],
   "source": []
  },
  {
   "cell_type": "code",
   "execution_count": 23,
   "id": "e1c5867f",
   "metadata": {},
   "outputs": [
    {
     "name": "stdout",
     "output_type": "stream",
     "text": [
      "750\n"
     ]
    }
   ],
   "source": [
    "tree=os.walk(r\"E:\\PyImage_ComputerVision\\SiameseNetworks\\WorkingData\\InputData\\10_food_classes_all_data\\train\\chicken_curry\",topdown=True)\n",
    "top_branch=next(tree)\n",
    "print(len(top_branch[2]))"
   ]
  },
  {
   "cell_type": "code",
   "execution_count": 25,
   "id": "4b14b4b5",
   "metadata": {},
   "outputs": [
    {
     "data": {
      "text/plain": [
       "7500"
      ]
     },
     "execution_count": 25,
     "metadata": {},
     "output_type": "execute_result"
    }
   ],
   "source": [
    "count_total_number_of_files(train_data_loc)"
   ]
  },
  {
   "cell_type": "code",
   "execution_count": 3,
   "id": "e0302a59",
   "metadata": {},
   "outputs": [
    {
     "name": "stdout",
     "output_type": "stream",
     "text": [
      "Downloading data from https://storage.googleapis.com/tensorflow/tf-keras-datasets/mnist.npz\n",
      "11490434/11490434 [==============================] - 2s 0us/step\n"
     ]
    }
   ],
   "source": [
    "fg = mnist.load_data()"
   ]
  },
  {
   "cell_type": "code",
   "execution_count": 8,
   "id": "74578655",
   "metadata": {},
   "outputs": [],
   "source": [
    "a = fg[0]\n",
    "b = fg[1]"
   ]
  },
  {
   "cell_type": "code",
   "execution_count": 11,
   "id": "a5e3a93e",
   "metadata": {},
   "outputs": [],
   "source": [
    "a1 = a[0]\n",
    "a2 = a[1]"
   ]
  },
  {
   "cell_type": "code",
   "execution_count": 13,
   "id": "6138985b",
   "metadata": {},
   "outputs": [
    {
     "data": {
      "text/plain": [
       "numpy.ndarray"
      ]
     },
     "execution_count": 13,
     "metadata": {},
     "output_type": "execute_result"
    }
   ],
   "source": [
    "type(a1)"
   ]
  },
  {
   "cell_type": "code",
   "execution_count": 14,
   "id": "268273ca",
   "metadata": {},
   "outputs": [
    {
     "data": {
      "text/plain": [
       "(60000, 28, 28)"
      ]
     },
     "execution_count": 14,
     "metadata": {},
     "output_type": "execute_result"
    }
   ],
   "source": [
    "a1.shape"
   ]
  },
  {
   "cell_type": "code",
   "execution_count": 15,
   "id": "9cb9f3ad",
   "metadata": {},
   "outputs": [
    {
     "data": {
      "text/plain": [
       "(60000,)"
      ]
     },
     "execution_count": 15,
     "metadata": {},
     "output_type": "execute_result"
    }
   ],
   "source": [
    "a2.shape"
   ]
  },
  {
   "cell_type": "code",
   "execution_count": 16,
   "id": "e1a9409a",
   "metadata": {},
   "outputs": [
    {
     "data": {
      "text/plain": [
       "numpy.ndarray"
      ]
     },
     "execution_count": 16,
     "metadata": {},
     "output_type": "execute_result"
    }
   ],
   "source": [
    "type(a2)"
   ]
  },
  {
   "cell_type": "code",
   "execution_count": 26,
   "id": "b55037eb",
   "metadata": {},
   "outputs": [],
   "source": [
    "(trainX,trainY),(testX,testY) = fg"
   ]
  },
  {
   "cell_type": "code",
   "execution_count": 27,
   "id": "2f558640",
   "metadata": {},
   "outputs": [],
   "source": [
    "ul = np.unique(trainY)"
   ]
  },
  {
   "cell_type": "code",
   "execution_count": 28,
   "id": "5428d06e",
   "metadata": {},
   "outputs": [
    {
     "data": {
      "text/plain": [
       "array([0, 1, 2, 3, 4, 5, 6, 7, 8, 9], dtype=uint8)"
      ]
     },
     "execution_count": 28,
     "metadata": {},
     "output_type": "execute_result"
    }
   ],
   "source": [
    "ul"
   ]
  },
  {
   "cell_type": "code",
   "execution_count": 31,
   "id": "ef221cd9",
   "metadata": {},
   "outputs": [],
   "source": [
    "idx = [np.where(trainY == i)[0] for i in range(0, len(ul))]"
   ]
  },
  {
   "cell_type": "code",
   "execution_count": 32,
   "id": "616882e9",
   "metadata": {},
   "outputs": [
    {
     "data": {
      "text/plain": [
       "[array([    1,    21,    34, ..., 59952, 59972, 59987], dtype=int64),\n",
       " array([    3,     6,     8, ..., 59979, 59984, 59994], dtype=int64),\n",
       " array([    5,    16,    25, ..., 59983, 59985, 59991], dtype=int64),\n",
       " array([    7,    10,    12, ..., 59978, 59980, 59996], dtype=int64),\n",
       " array([    2,     9,    20, ..., 59943, 59951, 59975], dtype=int64),\n",
       " array([    0,    11,    35, ..., 59968, 59993, 59997], dtype=int64),\n",
       " array([   13,    18,    32, ..., 59982, 59986, 59998], dtype=int64),\n",
       " array([   15,    29,    38, ..., 59963, 59977, 59988], dtype=int64),\n",
       " array([   17,    31,    41, ..., 59989, 59995, 59999], dtype=int64),\n",
       " array([    4,    19,    22, ..., 59973, 59990, 59992], dtype=int64)]"
      ]
     },
     "execution_count": 32,
     "metadata": {},
     "output_type": "execute_result"
    }
   ],
   "source": [
    "idx"
   ]
  },
  {
   "cell_type": "code",
   "execution_count": 34,
   "id": "5894c74b",
   "metadata": {},
   "outputs": [
    {
     "data": {
      "text/plain": [
       "array([    1,    21,    34, ..., 59952, 59972, 59987], dtype=int64)"
      ]
     },
     "execution_count": 34,
     "metadata": {},
     "output_type": "execute_result"
    }
   ],
   "source": [
    "np.where(trainY == 0)[0]"
   ]
  },
  {
   "cell_type": "code",
   "execution_count": null,
   "id": "1ec8a6c6",
   "metadata": {},
   "outputs": [],
   "source": []
  },
  {
   "cell_type": "code",
   "execution_count": null,
   "id": "a059a6b6",
   "metadata": {},
   "outputs": [],
   "source": []
  },
  {
   "cell_type": "code",
   "execution_count": null,
   "id": "d092a3ef",
   "metadata": {},
   "outputs": [],
   "source": []
  },
  {
   "cell_type": "code",
   "execution_count": null,
   "id": "c0b85627",
   "metadata": {},
   "outputs": [],
   "source": []
  },
  {
   "cell_type": "markdown",
   "id": "6e3d89f9",
   "metadata": {},
   "source": [
    "# Siamese Network\n",
    "\n",
    "## Siamese Network is a Special Class of Neural Network which have the following Characterstics:-\n",
    "\n",
    "### -->They contain two Identical Two or More Identical Sub Nueral Networks.\n",
    "### -->These Sub Nueral Networks have the same `Architecture` , `Parameters` , `Weights`.\n",
    "### -->All Update of Wieghts are Mirrored Across both the Sub-Networks , Meaning If Wieghts are Updated on One Network , Then the Wieghts are Updated in The Other Networks as well and in the Same Way too.\n",
    "\n",
    "## We use Siamese Networks mainly when Performing `Verification` , `Identification` , \n",
    "\n",
    "## `Recognition` Tasks.Example:- `Facial Recogntion` and `Signature Verification`."
   ]
  },
  {
   "cell_type": "markdown",
   "id": "e5658993",
   "metadata": {},
   "source": [
    "#### ---------------------------------------------------------------------------------------------------------------------------------------------------"
   ]
  },
  {
   "cell_type": "markdown",
   "id": "d9d47028",
   "metadata": {},
   "source": [
    "## Using Siamese Network Considering Signature Verification Tasks \n",
    "\n",
    "### -->Normally We would try to Train a Classification Model to Correctly Classify Signature for each Individual,Which would Require a Bigger Training Dataset.\n",
    "\n",
    "### -->Hence if we use Siamese Network , We will take a Set of Two Signature Images and Ask whether they are Same or Not\n",
    "### ----->If the Two Signature Images are Same , then Siamese Network will Predict Result Equavalent to `YES`.\n",
    "### ----->If the Two Signature Images are Not Same , then Siamese Network will Predict Result Equavalent to `NO`.\n",
    "\n",
    "### Using Siamese Networks requires `Far Less Training Data` and Produce `Far More Accurate Results`."
   ]
  },
  {
   "attachments": {
    "siamese_image_pairs_signet.webp": {
     "image/webp": "[encoded data removed]"
    }
   },
   "cell_type": "markdown",
   "id": "0a4aad66",
   "metadata": {},
   "source": [
    "![siamese_image_pairs_signet.webp](attachment:siamese_image_pairs_signet.webp)"
   ]
  },
  {
   "cell_type": "markdown",
   "id": "11f214dd",
   "metadata": {},
   "source": [
    "## The Above Image is an Example of Siamese Network(SignNet) used for Signature Verification\n",
    "\n",
    "### -->In the Middle are the Two `Sister Network` that have Same Architecture , Parameters and Mirror each other.\n",
    "### -->The Final Layer in these `Sister Networks` are Embeddings Layer which we Use to Calculate the `Euclidean Distance` Between the Two Outputs , This Distance is Further Used to Produce the Resul Required.\n",
    "### -->At last we have the `Loss Function` which help us to Train our Siamese Network."
   ]
  },
  {
   "cell_type": "markdown",
   "id": "43a54dac",
   "metadata": {},
   "source": [
    "#### ---------------------------------------------------------------------------------------------------------------------------------------------------"
   ]
  },
  {
   "cell_type": "markdown",
   "id": "124bd5f0",
   "metadata": {},
   "source": [
    "## Popular Used Loss Function when Training Siamese Network are:-\n",
    "\n",
    "### -->Binary Cross-Entropy\n",
    "### -->Contrastive Loss\n",
    "### -->Triplet Loss\n",
    "\n",
    "## **Note:-There are Many Implementation of Siamese Network in this Notebook we will use Image Pair Siamese Network"
   ]
  },
  {
   "cell_type": "markdown",
   "id": "137c4f13",
   "metadata": {},
   "source": [
    "### -----------------------------------------------------------------------------------------------------------------------------------------------------------"
   ]
  },
  {
   "cell_type": "markdown",
   "id": "3f7149bd",
   "metadata": {},
   "source": [
    "# Implementing Image Pair Siamese Network \n",
    "\n",
    "### In Image Pair Siamese Network we have a Two Sister Network , who receive Two Inputs(One for Each Sister Network).\n",
    "\n",
    "### When Training Siamese Network we nedd to have Two Types of Image Pairs in our Training Data:-\n",
    "\n",
    "### < `Positive Pair` >:-The Two Images that Belong to Same Class.Example:-Two Example Image of Same Signature,Two Images of Same Person.\n",
    "\n",
    "### < `Negetive Pair` >:-The Two Images that belong to Different Class.Example:-Two Example Images of Different Signature,Two Images of Different Person."
   ]
  },
  {
   "cell_type": "markdown",
   "id": "2346b2de",
   "metadata": {},
   "source": [
    "#### ---------------------------------------------------------------------------------------------------------------------------------------------------"
   ]
  },
  {
   "cell_type": "markdown",
   "id": "47103d4f",
   "metadata": {},
   "source": [
    "## -->In the Following Code we will Generate Image Pairs from the Data which will be Further Used to Train our Saimese Network "
   ]
  },
  {
   "cell_type": "code",
   "execution_count": 7,
   "id": "7aea9a00",
   "metadata": {},
   "outputs": [],
   "source": [
    "trainX,trainY = create_pairs(train_data_loc)"
   ]
  },
  {
   "cell_type": "code",
   "execution_count": 8,
   "id": "f01e0196",
   "metadata": {},
   "outputs": [],
   "source": [
    "testX,testY = create_pairs(test_data_loc)"
   ]
  },
  {
   "cell_type": "code",
   "execution_count": 8,
   "id": "5cb85c4a",
   "metadata": {},
   "outputs": [
    {
     "data": {
      "text/plain": [
       "(15000, 2, 128, 128, 3)"
      ]
     },
     "execution_count": 8,
     "metadata": {},
     "output_type": "execute_result"
    }
   ],
   "source": [
    "trainX.shape"
   ]
  },
  {
   "cell_type": "code",
   "execution_count": null,
   "id": "9e3cfa62",
   "metadata": {},
   "outputs": [],
   "source": []
  },
  {
   "cell_type": "code",
   "execution_count": 9,
   "id": "856ef5b3",
   "metadata": {},
   "outputs": [],
   "source": [
    "def build_sister_networks(input_shape):\n",
    "    \n",
    "    inputs = tf.keras.layers.Input(input_shape)\n",
    "    \n",
    "    x = tf.keras.layers.Conv2D(64,2,activation=\"relu\")(inputs)\n",
    "    x = tf.keras.layers.MaxPooling2D(2)(x)\n",
    "    x = tf.keras.layers.Dropout(0.2)(x)\n",
    "    \n",
    "    x = tf.keras.layers.Conv2D(64,2,activation=\"relu\")(x)\n",
    "    x = tf.keras.layers.MaxPooling2D(2)(x)\n",
    "    x = tf.keras.layers.Dropout(0.2)(x)\n",
    "    \n",
    "    x = tf.keras.layers.GlobalAveragePooling2D()(x)\n",
    "    output = tf.keras.layers.Dense(48)(x)\n",
    "    \n",
    "    model = tf.keras.Model(inputs,output)\n",
    "    return model"
   ]
  },
  {
   "cell_type": "code",
   "execution_count": 10,
   "id": "cb604a7c",
   "metadata": {},
   "outputs": [],
   "source": [
    "def calculate_euclidean_distance(vec):\n",
    "    vec1,vec2 = vec\n",
    "    sq_sum = tf.keras.backend.sum(tf.keras.backend.square(vec1 - vec2),axis=1,keepdims=True)\n",
    "    return tf.keras.backend.sqrt(tf.keras.backend.maximum(sq_sum,tf.keras.backend.epsilon()))"
   ]
  },
  {
   "cell_type": "code",
   "execution_count": 11,
   "id": "d1c1bc98",
   "metadata": {},
   "outputs": [],
   "source": [
    "def euclidean_distance(vectors):\n",
    "    # unpack the vectors into separate lists\n",
    "    (featsA, featsB) = vectors\n",
    "\n",
    "    # compute the sum of squared distances between the vectors\n",
    "    sumSquared = K.sum(K.square(featsA - featsB), axis=1,\n",
    "        keepdims=True)\n",
    "\n",
    "    # return the euclidean distance between the vectors\n",
    "    return K.sqrt(K.maximum(sumSquared, K.epsilon()))"
   ]
  },
  {
   "cell_type": "code",
   "execution_count": 12,
   "id": "a1b1ebb7",
   "metadata": {},
   "outputs": [],
   "source": [
    "imgA = tf.keras.layers.Input(shape=(128,128,3))\n",
    "imgB = tf.keras.layers.Input(shape=(128,128,3))\n",
    "Feature_Model = build_sister_networks((128,128,3))\n",
    "embA = Feature_Model(imgA)\n",
    "embB = Feature_Model(imgB)\n",
    "distance = tf.keras.layers.Lambda(euclidean_distance)([embA,embB])\n",
    "output = tf.keras.layers.Dense(1,activation=\"sigmoid\")(distance)\n",
    "\n",
    "model = tf.keras.Model(inputs=[imgA,imgB],outputs=output)"
   ]
  },
  {
   "cell_type": "code",
   "execution_count": 13,
   "id": "3991e9ac",
   "metadata": {},
   "outputs": [],
   "source": [
    "model.compile(loss=\"binary_crossentropy\",optimizer=\"adam\",metrics=[\"accuracy\"])"
   ]
  },
  {
   "cell_type": "code",
   "execution_count": 1,
   "id": "795820fb",
   "metadata": {},
   "outputs": [
    {
     "ename": "NameError",
     "evalue": "name 'np' is not defined",
     "output_type": "error",
     "traceback": [
      "\u001b[1;31m---------------------------------------------------------------------------\u001b[0m",
      "\u001b[1;31mNameError\u001b[0m                                 Traceback (most recent call last)",
      "Cell \u001b[1;32mIn[1], line 1\u001b[0m\n\u001b[1;32m----> 1\u001b[0m trainX \u001b[38;5;241m=\u001b[39m \u001b[43mnp\u001b[49m\u001b[38;5;241m.\u001b[39mexpand_dims(trainX, axis\u001b[38;5;241m=\u001b[39m\u001b[38;5;241m-\u001b[39m\u001b[38;5;241m1\u001b[39m)\n\u001b[0;32m      2\u001b[0m testX \u001b[38;5;241m=\u001b[39m np\u001b[38;5;241m.\u001b[39mexpand_dims(testX, axis\u001b[38;5;241m=\u001b[39m\u001b[38;5;241m-\u001b[39m\u001b[38;5;241m1\u001b[39m)\n",
      "\u001b[1;31mNameError\u001b[0m: name 'np' is not defined"
     ]
    }
   ],
   "source": []
  },
  {
   "cell_type": "code",
   "execution_count": 14,
   "id": "1a5e1512",
   "metadata": {},
   "outputs": [
    {
     "name": "stdout",
     "output_type": "stream",
     "text": [
      "Epoch 1/100\n",
      "1875/1875 [==============================] - 40s 12ms/step - loss: 0.6930 - accuracy: 0.5131\n",
      "Epoch 2/100\n",
      "1875/1875 [==============================] - 23s 12ms/step - loss: 0.6919 - accuracy: 0.5171\n",
      "Epoch 3/100\n",
      "1875/1875 [==============================] - 24s 13ms/step - loss: 0.6913 - accuracy: 0.5231\n",
      "Epoch 4/100\n",
      "1875/1875 [==============================] - 23s 12ms/step - loss: 0.6914 - accuracy: 0.5256\n",
      "Epoch 5/100\n",
      "1875/1875 [==============================] - 23s 12ms/step - loss: 0.6908 - accuracy: 0.5284\n",
      "Epoch 6/100\n",
      "1875/1875 [==============================] - 23s 12ms/step - loss: 0.6906 - accuracy: 0.5251\n",
      "Epoch 7/100\n",
      "1875/1875 [==============================] - 23s 12ms/step - loss: 0.6905 - accuracy: 0.5247\n",
      "Epoch 8/100\n",
      "1875/1875 [==============================] - 23s 12ms/step - loss: 0.6906 - accuracy: 0.5255\n",
      "Epoch 9/100\n",
      "1875/1875 [==============================] - 23s 12ms/step - loss: 0.6900 - accuracy: 0.5333\n",
      "Epoch 10/100\n",
      "1875/1875 [==============================] - 24s 13ms/step - loss: 0.6898 - accuracy: 0.5300\n",
      "Epoch 11/100\n",
      "1875/1875 [==============================] - 24s 13ms/step - loss: 0.6895 - accuracy: 0.5331\n",
      "Epoch 12/100\n",
      "1875/1875 [==============================] - 24s 13ms/step - loss: 0.6897 - accuracy: 0.5292\n",
      "Epoch 13/100\n",
      "1875/1875 [==============================] - 24s 13ms/step - loss: 0.6895 - accuracy: 0.5328\n",
      "Epoch 14/100\n",
      "1875/1875 [==============================] - 24s 13ms/step - loss: 0.6897 - accuracy: 0.5319\n",
      "Epoch 15/100\n",
      "1875/1875 [==============================] - 24s 13ms/step - loss: 0.6889 - accuracy: 0.5363\n",
      "Epoch 16/100\n",
      "1875/1875 [==============================] - 24s 13ms/step - loss: 0.6886 - accuracy: 0.5381\n",
      "Epoch 17/100\n",
      "1875/1875 [==============================] - 24s 13ms/step - loss: 0.6888 - accuracy: 0.5407\n",
      "Epoch 18/100\n",
      "1875/1875 [==============================] - 24s 13ms/step - loss: 0.6880 - accuracy: 0.5456\n",
      "Epoch 19/100\n",
      "1875/1875 [==============================] - 24s 13ms/step - loss: 0.6879 - accuracy: 0.5406\n",
      "Epoch 20/100\n",
      "1875/1875 [==============================] - 24s 13ms/step - loss: 0.6876 - accuracy: 0.5393\n",
      "Epoch 21/100\n",
      "1875/1875 [==============================] - 24s 13ms/step - loss: 0.6869 - accuracy: 0.5454\n",
      "Epoch 22/100\n",
      "1875/1875 [==============================] - 24s 13ms/step - loss: 0.6867 - accuracy: 0.5445\n",
      "Epoch 23/100\n",
      "1875/1875 [==============================] - 24s 13ms/step - loss: 0.6868 - accuracy: 0.5451\n",
      "Epoch 24/100\n",
      "1875/1875 [==============================] - 24s 13ms/step - loss: 0.6862 - accuracy: 0.5521\n",
      "Epoch 25/100\n",
      "1875/1875 [==============================] - 23s 13ms/step - loss: 0.6855 - accuracy: 0.5501\n",
      "Epoch 26/100\n",
      "1875/1875 [==============================] - 24s 13ms/step - loss: 0.6853 - accuracy: 0.5505\n",
      "Epoch 27/100\n",
      "1875/1875 [==============================] - 24s 13ms/step - loss: 0.6845 - accuracy: 0.5529\n",
      "Epoch 28/100\n",
      "1875/1875 [==============================] - 24s 13ms/step - loss: 0.6841 - accuracy: 0.5547\n",
      "Epoch 29/100\n",
      "1875/1875 [==============================] - 24s 13ms/step - loss: 0.6838 - accuracy: 0.5564\n",
      "Epoch 30/100\n",
      "1875/1875 [==============================] - 25s 13ms/step - loss: 0.6837 - accuracy: 0.5592\n",
      "Epoch 31/100\n",
      "1875/1875 [==============================] - 24s 13ms/step - loss: 0.6842 - accuracy: 0.5559\n",
      "Epoch 32/100\n",
      "1875/1875 [==============================] - 24s 13ms/step - loss: 0.6831 - accuracy: 0.5603\n",
      "Epoch 33/100\n",
      "1875/1875 [==============================] - 25s 13ms/step - loss: 0.6829 - accuracy: 0.5567\n",
      "Epoch 34/100\n",
      "1875/1875 [==============================] - 24s 13ms/step - loss: 0.6821 - accuracy: 0.5642\n",
      "Epoch 35/100\n",
      "1875/1875 [==============================] - 24s 13ms/step - loss: 0.6817 - accuracy: 0.5596\n",
      "Epoch 36/100\n",
      "1875/1875 [==============================] - 25s 13ms/step - loss: 0.6809 - accuracy: 0.5638\n",
      "Epoch 37/100\n",
      "1875/1875 [==============================] - 24s 13ms/step - loss: 0.6814 - accuracy: 0.5611\n",
      "Epoch 38/100\n",
      "1875/1875 [==============================] - 24s 13ms/step - loss: 0.6810 - accuracy: 0.5675\n",
      "Epoch 39/100\n",
      "1875/1875 [==============================] - 23s 12ms/step - loss: 0.6800 - accuracy: 0.5648\n",
      "Epoch 40/100\n",
      "1875/1875 [==============================] - 23s 12ms/step - loss: 0.6802 - accuracy: 0.5633\n",
      "Epoch 41/100\n",
      "1875/1875 [==============================] - 24s 13ms/step - loss: 0.6798 - accuracy: 0.5716\n",
      "Epoch 42/100\n",
      "1875/1875 [==============================] - 24s 13ms/step - loss: 0.6798 - accuracy: 0.5669\n",
      "Epoch 43/100\n",
      "1875/1875 [==============================] - 23s 12ms/step - loss: 0.6788 - accuracy: 0.5663\n",
      "Epoch 44/100\n",
      "1875/1875 [==============================] - 24s 13ms/step - loss: 0.6789 - accuracy: 0.5707\n",
      "Epoch 45/100\n",
      "1875/1875 [==============================] - 23s 13ms/step - loss: 0.6793 - accuracy: 0.5659\n",
      "Epoch 46/100\n",
      "1875/1875 [==============================] - 24s 13ms/step - loss: 0.6788 - accuracy: 0.5692\n",
      "Epoch 47/100\n",
      "1875/1875 [==============================] - 23s 13ms/step - loss: 0.6778 - accuracy: 0.5699\n",
      "Epoch 48/100\n",
      "1875/1875 [==============================] - 24s 13ms/step - loss: 0.6771 - accuracy: 0.5711\n",
      "Epoch 49/100\n",
      "1875/1875 [==============================] - 24s 13ms/step - loss: 0.6773 - accuracy: 0.5739\n",
      "Epoch 50/100\n",
      "1875/1875 [==============================] - 24s 13ms/step - loss: 0.6776 - accuracy: 0.5753\n",
      "Epoch 51/100\n",
      "1875/1875 [==============================] - 23s 13ms/step - loss: 0.6764 - accuracy: 0.5749\n",
      "Epoch 52/100\n",
      "1875/1875 [==============================] - 24s 13ms/step - loss: 0.6768 - accuracy: 0.5747\n",
      "Epoch 53/100\n",
      "1875/1875 [==============================] - 24s 13ms/step - loss: 0.6763 - accuracy: 0.5789\n",
      "Epoch 54/100\n",
      "1875/1875 [==============================] - 24s 13ms/step - loss: 0.6770 - accuracy: 0.5717\n",
      "Epoch 55/100\n",
      "1875/1875 [==============================] - 24s 13ms/step - loss: 0.6759 - accuracy: 0.5780\n",
      "Epoch 56/100\n",
      "1875/1875 [==============================] - 24s 13ms/step - loss: 0.6749 - accuracy: 0.5751\n",
      "Epoch 57/100\n",
      "1875/1875 [==============================] - 24s 13ms/step - loss: 0.6757 - accuracy: 0.5763\n",
      "Epoch 58/100\n",
      "1875/1875 [==============================] - 24s 13ms/step - loss: 0.6757 - accuracy: 0.5767\n",
      "Epoch 59/100\n",
      "1875/1875 [==============================] - 24s 13ms/step - loss: 0.6741 - accuracy: 0.5788\n",
      "Epoch 60/100\n",
      "1875/1875 [==============================] - 24s 13ms/step - loss: 0.6746 - accuracy: 0.5770\n",
      "Epoch 61/100\n",
      "1875/1875 [==============================] - 24s 13ms/step - loss: 0.6740 - accuracy: 0.5808\n",
      "Epoch 62/100\n",
      "1875/1875 [==============================] - 24s 13ms/step - loss: 0.6738 - accuracy: 0.5781\n",
      "Epoch 63/100\n",
      "1875/1875 [==============================] - 24s 13ms/step - loss: 0.6735 - accuracy: 0.5799\n",
      "Epoch 64/100\n",
      "1875/1875 [==============================] - 24s 13ms/step - loss: 0.6734 - accuracy: 0.5787\n",
      "Epoch 65/100\n",
      "1875/1875 [==============================] - 24s 13ms/step - loss: 0.6735 - accuracy: 0.5817\n",
      "Epoch 66/100\n",
      "1875/1875 [==============================] - 24s 13ms/step - loss: 0.6719 - accuracy: 0.5848\n",
      "Epoch 67/100\n",
      "1875/1875 [==============================] - 24s 13ms/step - loss: 0.6728 - accuracy: 0.5813\n",
      "Epoch 68/100\n",
      "1875/1875 [==============================] - 24s 13ms/step - loss: 0.6725 - accuracy: 0.5829\n",
      "Epoch 69/100\n",
      "1875/1875 [==============================] - 57s 30ms/step - loss: 0.6719 - accuracy: 0.5833\n",
      "Epoch 70/100\n",
      "1875/1875 [==============================] - 157s 84ms/step - loss: 0.6716 - accuracy: 0.5850\n",
      "Epoch 71/100\n",
      "1875/1875 [==============================] - 157s 84ms/step - loss: 0.6705 - accuracy: 0.5891\n",
      "Epoch 72/100\n",
      "1875/1875 [==============================] - 156s 83ms/step - loss: 0.6708 - accuracy: 0.5864\n",
      "Epoch 73/100\n",
      " 141/1875 [=>............................] - ETA: 2:24 - loss: 0.6638 - accuracy: 0.5984"
     ]
    },
    {
     "ename": "KeyboardInterrupt",
     "evalue": "",
     "output_type": "error",
     "traceback": [
      "\u001b[1;31m---------------------------------------------------------------------------\u001b[0m",
      "\u001b[1;31mKeyboardInterrupt\u001b[0m                         Traceback (most recent call last)",
      "Cell \u001b[1;32mIn[14], line 1\u001b[0m\n\u001b[1;32m----> 1\u001b[0m \u001b[43mmodel\u001b[49m\u001b[38;5;241;43m.\u001b[39;49m\u001b[43mfit\u001b[49m\u001b[43m(\u001b[49m\u001b[43m[\u001b[49m\u001b[43mtrainX\u001b[49m\u001b[43m[\u001b[49m\u001b[43m:\u001b[49m\u001b[43m,\u001b[49m\u001b[38;5;241;43m0\u001b[39;49m\u001b[43m]\u001b[49m\u001b[43m,\u001b[49m\u001b[43mtrainX\u001b[49m\u001b[43m[\u001b[49m\u001b[43m:\u001b[49m\u001b[43m,\u001b[49m\u001b[38;5;241;43m1\u001b[39;49m\u001b[43m]\u001b[49m\u001b[43m]\u001b[49m\u001b[43m,\u001b[49m\u001b[43mtrainY\u001b[49m\u001b[43m,\u001b[49m\n\u001b[0;32m      2\u001b[0m \u001b[43m          \u001b[49m\u001b[43mepochs\u001b[49m\u001b[38;5;241;43m=\u001b[39;49m\u001b[38;5;241;43m100\u001b[39;49m\u001b[43m,\u001b[49m\n\u001b[0;32m      3\u001b[0m \u001b[43m          \u001b[49m\u001b[43mbatch_size\u001b[49m\u001b[38;5;241;43m=\u001b[39;49m\u001b[38;5;241;43m8\u001b[39;49m\u001b[43m)\u001b[49m\n",
      "File \u001b[1;32mE:\\PyImage_ComputerVision\\SiameseNetworks\\env\\lib\\site-packages\\keras\\utils\\traceback_utils.py:65\u001b[0m, in \u001b[0;36mfilter_traceback.<locals>.error_handler\u001b[1;34m(*args, **kwargs)\u001b[0m\n\u001b[0;32m     63\u001b[0m filtered_tb \u001b[38;5;241m=\u001b[39m \u001b[38;5;28;01mNone\u001b[39;00m\n\u001b[0;32m     64\u001b[0m \u001b[38;5;28;01mtry\u001b[39;00m:\n\u001b[1;32m---> 65\u001b[0m     \u001b[38;5;28;01mreturn\u001b[39;00m fn(\u001b[38;5;241m*\u001b[39margs, \u001b[38;5;241m*\u001b[39m\u001b[38;5;241m*\u001b[39mkwargs)\n\u001b[0;32m     66\u001b[0m \u001b[38;5;28;01mexcept\u001b[39;00m \u001b[38;5;167;01mException\u001b[39;00m \u001b[38;5;28;01mas\u001b[39;00m e:\n\u001b[0;32m     67\u001b[0m     filtered_tb \u001b[38;5;241m=\u001b[39m _process_traceback_frames(e\u001b[38;5;241m.\u001b[39m__traceback__)\n",
      "File \u001b[1;32mE:\\PyImage_ComputerVision\\SiameseNetworks\\env\\lib\\site-packages\\keras\\engine\\training.py:1570\u001b[0m, in \u001b[0;36mModel.fit\u001b[1;34m(self, x, y, batch_size, epochs, verbose, callbacks, validation_split, validation_data, shuffle, class_weight, sample_weight, initial_epoch, steps_per_epoch, validation_steps, validation_batch_size, validation_freq, max_queue_size, workers, use_multiprocessing)\u001b[0m\n\u001b[0;32m   1568\u001b[0m logs \u001b[38;5;241m=\u001b[39m tmp_logs\n\u001b[0;32m   1569\u001b[0m end_step \u001b[38;5;241m=\u001b[39m step \u001b[38;5;241m+\u001b[39m data_handler\u001b[38;5;241m.\u001b[39mstep_increment\n\u001b[1;32m-> 1570\u001b[0m \u001b[43mcallbacks\u001b[49m\u001b[38;5;241;43m.\u001b[39;49m\u001b[43mon_train_batch_end\u001b[49m\u001b[43m(\u001b[49m\u001b[43mend_step\u001b[49m\u001b[43m,\u001b[49m\u001b[43m \u001b[49m\u001b[43mlogs\u001b[49m\u001b[43m)\u001b[49m\n\u001b[0;32m   1571\u001b[0m \u001b[38;5;28;01mif\u001b[39;00m \u001b[38;5;28mself\u001b[39m\u001b[38;5;241m.\u001b[39mstop_training:\n\u001b[0;32m   1572\u001b[0m     \u001b[38;5;28;01mbreak\u001b[39;00m\n",
      "File \u001b[1;32mE:\\PyImage_ComputerVision\\SiameseNetworks\\env\\lib\\site-packages\\keras\\callbacks.py:470\u001b[0m, in \u001b[0;36mCallbackList.on_train_batch_end\u001b[1;34m(self, batch, logs)\u001b[0m\n\u001b[0;32m    463\u001b[0m \u001b[38;5;250m\u001b[39m\u001b[38;5;124;03m\"\"\"Calls the `on_train_batch_end` methods of its callbacks.\u001b[39;00m\n\u001b[0;32m    464\u001b[0m \n\u001b[0;32m    465\u001b[0m \u001b[38;5;124;03mArgs:\u001b[39;00m\n\u001b[0;32m    466\u001b[0m \u001b[38;5;124;03m    batch: Integer, index of batch within the current epoch.\u001b[39;00m\n\u001b[0;32m    467\u001b[0m \u001b[38;5;124;03m    logs: Dict. Aggregated metric results up until this batch.\u001b[39;00m\n\u001b[0;32m    468\u001b[0m \u001b[38;5;124;03m\"\"\"\u001b[39;00m\n\u001b[0;32m    469\u001b[0m \u001b[38;5;28;01mif\u001b[39;00m \u001b[38;5;28mself\u001b[39m\u001b[38;5;241m.\u001b[39m_should_call_train_batch_hooks:\n\u001b[1;32m--> 470\u001b[0m     \u001b[38;5;28;43mself\u001b[39;49m\u001b[38;5;241;43m.\u001b[39;49m\u001b[43m_call_batch_hook\u001b[49m\u001b[43m(\u001b[49m\u001b[43mModeKeys\u001b[49m\u001b[38;5;241;43m.\u001b[39;49m\u001b[43mTRAIN\u001b[49m\u001b[43m,\u001b[49m\u001b[43m \u001b[49m\u001b[38;5;124;43m\"\u001b[39;49m\u001b[38;5;124;43mend\u001b[39;49m\u001b[38;5;124;43m\"\u001b[39;49m\u001b[43m,\u001b[49m\u001b[43m \u001b[49m\u001b[43mbatch\u001b[49m\u001b[43m,\u001b[49m\u001b[43m \u001b[49m\u001b[43mlogs\u001b[49m\u001b[38;5;241;43m=\u001b[39;49m\u001b[43mlogs\u001b[49m\u001b[43m)\u001b[49m\n",
      "File \u001b[1;32mE:\\PyImage_ComputerVision\\SiameseNetworks\\env\\lib\\site-packages\\keras\\callbacks.py:317\u001b[0m, in \u001b[0;36mCallbackList._call_batch_hook\u001b[1;34m(self, mode, hook, batch, logs)\u001b[0m\n\u001b[0;32m    315\u001b[0m     \u001b[38;5;28mself\u001b[39m\u001b[38;5;241m.\u001b[39m_call_batch_begin_hook(mode, batch, logs)\n\u001b[0;32m    316\u001b[0m \u001b[38;5;28;01melif\u001b[39;00m hook \u001b[38;5;241m==\u001b[39m \u001b[38;5;124m\"\u001b[39m\u001b[38;5;124mend\u001b[39m\u001b[38;5;124m\"\u001b[39m:\n\u001b[1;32m--> 317\u001b[0m     \u001b[38;5;28;43mself\u001b[39;49m\u001b[38;5;241;43m.\u001b[39;49m\u001b[43m_call_batch_end_hook\u001b[49m\u001b[43m(\u001b[49m\u001b[43mmode\u001b[49m\u001b[43m,\u001b[49m\u001b[43m \u001b[49m\u001b[43mbatch\u001b[49m\u001b[43m,\u001b[49m\u001b[43m \u001b[49m\u001b[43mlogs\u001b[49m\u001b[43m)\u001b[49m\n\u001b[0;32m    318\u001b[0m \u001b[38;5;28;01melse\u001b[39;00m:\n\u001b[0;32m    319\u001b[0m     \u001b[38;5;28;01mraise\u001b[39;00m \u001b[38;5;167;01mValueError\u001b[39;00m(\n\u001b[0;32m    320\u001b[0m         \u001b[38;5;124mf\u001b[39m\u001b[38;5;124m\"\u001b[39m\u001b[38;5;124mUnrecognized hook: \u001b[39m\u001b[38;5;132;01m{\u001b[39;00mhook\u001b[38;5;132;01m}\u001b[39;00m\u001b[38;5;124m. \u001b[39m\u001b[38;5;124m\"\u001b[39m\n\u001b[0;32m    321\u001b[0m         \u001b[38;5;124m'\u001b[39m\u001b[38;5;124mExpected values are [\u001b[39m\u001b[38;5;124m\"\u001b[39m\u001b[38;5;124mbegin\u001b[39m\u001b[38;5;124m\"\u001b[39m\u001b[38;5;124m, \u001b[39m\u001b[38;5;124m\"\u001b[39m\u001b[38;5;124mend\u001b[39m\u001b[38;5;124m\"\u001b[39m\u001b[38;5;124m]\u001b[39m\u001b[38;5;124m'\u001b[39m\n\u001b[0;32m    322\u001b[0m     )\n",
      "File \u001b[1;32mE:\\PyImage_ComputerVision\\SiameseNetworks\\env\\lib\\site-packages\\keras\\callbacks.py:340\u001b[0m, in \u001b[0;36mCallbackList._call_batch_end_hook\u001b[1;34m(self, mode, batch, logs)\u001b[0m\n\u001b[0;32m    337\u001b[0m     batch_time \u001b[38;5;241m=\u001b[39m time\u001b[38;5;241m.\u001b[39mtime() \u001b[38;5;241m-\u001b[39m \u001b[38;5;28mself\u001b[39m\u001b[38;5;241m.\u001b[39m_batch_start_time\n\u001b[0;32m    338\u001b[0m     \u001b[38;5;28mself\u001b[39m\u001b[38;5;241m.\u001b[39m_batch_times\u001b[38;5;241m.\u001b[39mappend(batch_time)\n\u001b[1;32m--> 340\u001b[0m \u001b[38;5;28;43mself\u001b[39;49m\u001b[38;5;241;43m.\u001b[39;49m\u001b[43m_call_batch_hook_helper\u001b[49m\u001b[43m(\u001b[49m\u001b[43mhook_name\u001b[49m\u001b[43m,\u001b[49m\u001b[43m \u001b[49m\u001b[43mbatch\u001b[49m\u001b[43m,\u001b[49m\u001b[43m \u001b[49m\u001b[43mlogs\u001b[49m\u001b[43m)\u001b[49m\n\u001b[0;32m    342\u001b[0m \u001b[38;5;28;01mif\u001b[39;00m \u001b[38;5;28mlen\u001b[39m(\u001b[38;5;28mself\u001b[39m\u001b[38;5;241m.\u001b[39m_batch_times) \u001b[38;5;241m>\u001b[39m\u001b[38;5;241m=\u001b[39m \u001b[38;5;28mself\u001b[39m\u001b[38;5;241m.\u001b[39m_num_batches_for_timing_check:\n\u001b[0;32m    343\u001b[0m     end_hook_name \u001b[38;5;241m=\u001b[39m hook_name\n",
      "File \u001b[1;32mE:\\PyImage_ComputerVision\\SiameseNetworks\\env\\lib\\site-packages\\keras\\callbacks.py:388\u001b[0m, in \u001b[0;36mCallbackList._call_batch_hook_helper\u001b[1;34m(self, hook_name, batch, logs)\u001b[0m\n\u001b[0;32m    386\u001b[0m \u001b[38;5;28;01mfor\u001b[39;00m callback \u001b[38;5;129;01min\u001b[39;00m \u001b[38;5;28mself\u001b[39m\u001b[38;5;241m.\u001b[39mcallbacks:\n\u001b[0;32m    387\u001b[0m     hook \u001b[38;5;241m=\u001b[39m \u001b[38;5;28mgetattr\u001b[39m(callback, hook_name)\n\u001b[1;32m--> 388\u001b[0m     \u001b[43mhook\u001b[49m\u001b[43m(\u001b[49m\u001b[43mbatch\u001b[49m\u001b[43m,\u001b[49m\u001b[43m \u001b[49m\u001b[43mlogs\u001b[49m\u001b[43m)\u001b[49m\n\u001b[0;32m    390\u001b[0m \u001b[38;5;28;01mif\u001b[39;00m \u001b[38;5;28mself\u001b[39m\u001b[38;5;241m.\u001b[39m_check_timing:\n\u001b[0;32m    391\u001b[0m     \u001b[38;5;28;01mif\u001b[39;00m hook_name \u001b[38;5;129;01mnot\u001b[39;00m \u001b[38;5;129;01min\u001b[39;00m \u001b[38;5;28mself\u001b[39m\u001b[38;5;241m.\u001b[39m_hook_times:\n",
      "File \u001b[1;32mE:\\PyImage_ComputerVision\\SiameseNetworks\\env\\lib\\site-packages\\keras\\callbacks.py:1081\u001b[0m, in \u001b[0;36mProgbarLogger.on_train_batch_end\u001b[1;34m(self, batch, logs)\u001b[0m\n\u001b[0;32m   1080\u001b[0m \u001b[38;5;28;01mdef\u001b[39;00m \u001b[38;5;21mon_train_batch_end\u001b[39m(\u001b[38;5;28mself\u001b[39m, batch, logs\u001b[38;5;241m=\u001b[39m\u001b[38;5;28;01mNone\u001b[39;00m):\n\u001b[1;32m-> 1081\u001b[0m     \u001b[38;5;28;43mself\u001b[39;49m\u001b[38;5;241;43m.\u001b[39;49m\u001b[43m_batch_update_progbar\u001b[49m\u001b[43m(\u001b[49m\u001b[43mbatch\u001b[49m\u001b[43m,\u001b[49m\u001b[43m \u001b[49m\u001b[43mlogs\u001b[49m\u001b[43m)\u001b[49m\n",
      "File \u001b[1;32mE:\\PyImage_ComputerVision\\SiameseNetworks\\env\\lib\\site-packages\\keras\\callbacks.py:1157\u001b[0m, in \u001b[0;36mProgbarLogger._batch_update_progbar\u001b[1;34m(self, batch, logs)\u001b[0m\n\u001b[0;32m   1153\u001b[0m     \u001b[38;5;28mself\u001b[39m\u001b[38;5;241m.\u001b[39mseen \u001b[38;5;241m+\u001b[39m\u001b[38;5;241m=\u001b[39m add_seen\n\u001b[0;32m   1155\u001b[0m \u001b[38;5;28;01mif\u001b[39;00m \u001b[38;5;28mself\u001b[39m\u001b[38;5;241m.\u001b[39mverbose \u001b[38;5;241m==\u001b[39m \u001b[38;5;241m1\u001b[39m:\n\u001b[0;32m   1156\u001b[0m     \u001b[38;5;66;03m# Only block async when verbose = 1.\u001b[39;00m\n\u001b[1;32m-> 1157\u001b[0m     logs \u001b[38;5;241m=\u001b[39m \u001b[43mtf_utils\u001b[49m\u001b[38;5;241;43m.\u001b[39;49m\u001b[43msync_to_numpy_or_python_type\u001b[49m\u001b[43m(\u001b[49m\u001b[43mlogs\u001b[49m\u001b[43m)\u001b[49m\n\u001b[0;32m   1158\u001b[0m     \u001b[38;5;28mself\u001b[39m\u001b[38;5;241m.\u001b[39mprogbar\u001b[38;5;241m.\u001b[39mupdate(\u001b[38;5;28mself\u001b[39m\u001b[38;5;241m.\u001b[39mseen, \u001b[38;5;28mlist\u001b[39m(logs\u001b[38;5;241m.\u001b[39mitems()), finalize\u001b[38;5;241m=\u001b[39m\u001b[38;5;28;01mFalse\u001b[39;00m)\n",
      "File \u001b[1;32mE:\\PyImage_ComputerVision\\SiameseNetworks\\env\\lib\\site-packages\\keras\\utils\\tf_utils.py:635\u001b[0m, in \u001b[0;36msync_to_numpy_or_python_type\u001b[1;34m(tensors)\u001b[0m\n\u001b[0;32m    632\u001b[0m         \u001b[38;5;28;01mreturn\u001b[39;00m t\n\u001b[0;32m    633\u001b[0m     \u001b[38;5;28;01mreturn\u001b[39;00m t\u001b[38;5;241m.\u001b[39mitem() \u001b[38;5;28;01mif\u001b[39;00m np\u001b[38;5;241m.\u001b[39mndim(t) \u001b[38;5;241m==\u001b[39m \u001b[38;5;241m0\u001b[39m \u001b[38;5;28;01melse\u001b[39;00m t\n\u001b[1;32m--> 635\u001b[0m \u001b[38;5;28;01mreturn\u001b[39;00m \u001b[43mtf\u001b[49m\u001b[38;5;241;43m.\u001b[39;49m\u001b[43mnest\u001b[49m\u001b[38;5;241;43m.\u001b[39;49m\u001b[43mmap_structure\u001b[49m\u001b[43m(\u001b[49m\u001b[43m_to_single_numpy_or_python_type\u001b[49m\u001b[43m,\u001b[49m\u001b[43m \u001b[49m\u001b[43mtensors\u001b[49m\u001b[43m)\u001b[49m\n",
      "File \u001b[1;32mE:\\PyImage_ComputerVision\\SiameseNetworks\\env\\lib\\site-packages\\tensorflow\\python\\util\\nest.py:917\u001b[0m, in \u001b[0;36mmap_structure\u001b[1;34m(func, *structure, **kwargs)\u001b[0m\n\u001b[0;32m    913\u001b[0m flat_structure \u001b[38;5;241m=\u001b[39m (flatten(s, expand_composites) \u001b[38;5;28;01mfor\u001b[39;00m s \u001b[38;5;129;01min\u001b[39;00m structure)\n\u001b[0;32m    914\u001b[0m entries \u001b[38;5;241m=\u001b[39m \u001b[38;5;28mzip\u001b[39m(\u001b[38;5;241m*\u001b[39mflat_structure)\n\u001b[0;32m    916\u001b[0m \u001b[38;5;28;01mreturn\u001b[39;00m pack_sequence_as(\n\u001b[1;32m--> 917\u001b[0m     structure[\u001b[38;5;241m0\u001b[39m], [func(\u001b[38;5;241m*\u001b[39mx) \u001b[38;5;28;01mfor\u001b[39;00m x \u001b[38;5;129;01min\u001b[39;00m entries],\n\u001b[0;32m    918\u001b[0m     expand_composites\u001b[38;5;241m=\u001b[39mexpand_composites)\n",
      "File \u001b[1;32mE:\\PyImage_ComputerVision\\SiameseNetworks\\env\\lib\\site-packages\\tensorflow\\python\\util\\nest.py:917\u001b[0m, in \u001b[0;36m<listcomp>\u001b[1;34m(.0)\u001b[0m\n\u001b[0;32m    913\u001b[0m flat_structure \u001b[38;5;241m=\u001b[39m (flatten(s, expand_composites) \u001b[38;5;28;01mfor\u001b[39;00m s \u001b[38;5;129;01min\u001b[39;00m structure)\n\u001b[0;32m    914\u001b[0m entries \u001b[38;5;241m=\u001b[39m \u001b[38;5;28mzip\u001b[39m(\u001b[38;5;241m*\u001b[39mflat_structure)\n\u001b[0;32m    916\u001b[0m \u001b[38;5;28;01mreturn\u001b[39;00m pack_sequence_as(\n\u001b[1;32m--> 917\u001b[0m     structure[\u001b[38;5;241m0\u001b[39m], [\u001b[43mfunc\u001b[49m\u001b[43m(\u001b[49m\u001b[38;5;241;43m*\u001b[39;49m\u001b[43mx\u001b[49m\u001b[43m)\u001b[49m \u001b[38;5;28;01mfor\u001b[39;00m x \u001b[38;5;129;01min\u001b[39;00m entries],\n\u001b[0;32m    918\u001b[0m     expand_composites\u001b[38;5;241m=\u001b[39mexpand_composites)\n",
      "File \u001b[1;32mE:\\PyImage_ComputerVision\\SiameseNetworks\\env\\lib\\site-packages\\keras\\utils\\tf_utils.py:628\u001b[0m, in \u001b[0;36msync_to_numpy_or_python_type.<locals>._to_single_numpy_or_python_type\u001b[1;34m(t)\u001b[0m\n\u001b[0;32m    625\u001b[0m \u001b[38;5;28;01mdef\u001b[39;00m \u001b[38;5;21m_to_single_numpy_or_python_type\u001b[39m(t):\n\u001b[0;32m    626\u001b[0m     \u001b[38;5;66;03m# Don't turn ragged or sparse tensors to NumPy.\u001b[39;00m\n\u001b[0;32m    627\u001b[0m     \u001b[38;5;28;01mif\u001b[39;00m \u001b[38;5;28misinstance\u001b[39m(t, tf\u001b[38;5;241m.\u001b[39mTensor):\n\u001b[1;32m--> 628\u001b[0m         t \u001b[38;5;241m=\u001b[39m \u001b[43mt\u001b[49m\u001b[38;5;241;43m.\u001b[39;49m\u001b[43mnumpy\u001b[49m\u001b[43m(\u001b[49m\u001b[43m)\u001b[49m\n\u001b[0;32m    629\u001b[0m     \u001b[38;5;66;03m# Strings, ragged and sparse tensors don't have .item(). Return them\u001b[39;00m\n\u001b[0;32m    630\u001b[0m     \u001b[38;5;66;03m# as-is.\u001b[39;00m\n\u001b[0;32m    631\u001b[0m     \u001b[38;5;28;01mif\u001b[39;00m \u001b[38;5;129;01mnot\u001b[39;00m \u001b[38;5;28misinstance\u001b[39m(t, (np\u001b[38;5;241m.\u001b[39mndarray, np\u001b[38;5;241m.\u001b[39mgeneric)):\n",
      "File \u001b[1;32mE:\\PyImage_ComputerVision\\SiameseNetworks\\env\\lib\\site-packages\\tensorflow\\python\\framework\\ops.py:1157\u001b[0m, in \u001b[0;36m_EagerTensorBase.numpy\u001b[1;34m(self)\u001b[0m\n\u001b[0;32m   1134\u001b[0m \u001b[38;5;250m\u001b[39m\u001b[38;5;124;03m\"\"\"Copy of the contents of this Tensor into a NumPy array or scalar.\u001b[39;00m\n\u001b[0;32m   1135\u001b[0m \n\u001b[0;32m   1136\u001b[0m \u001b[38;5;124;03mUnlike NumPy arrays, Tensors are immutable, so this method has to copy\u001b[39;00m\n\u001b[1;32m   (...)\u001b[0m\n\u001b[0;32m   1154\u001b[0m \u001b[38;5;124;03m    NumPy dtype.\u001b[39;00m\n\u001b[0;32m   1155\u001b[0m \u001b[38;5;124;03m\"\"\"\u001b[39;00m\n\u001b[0;32m   1156\u001b[0m \u001b[38;5;66;03m# TODO(slebedev): Consider avoiding a copy for non-CPU or remote tensors.\u001b[39;00m\n\u001b[1;32m-> 1157\u001b[0m maybe_arr \u001b[38;5;241m=\u001b[39m \u001b[38;5;28;43mself\u001b[39;49m\u001b[38;5;241;43m.\u001b[39;49m\u001b[43m_numpy\u001b[49m\u001b[43m(\u001b[49m\u001b[43m)\u001b[49m  \u001b[38;5;66;03m# pylint: disable=protected-access\u001b[39;00m\n\u001b[0;32m   1158\u001b[0m \u001b[38;5;28;01mreturn\u001b[39;00m maybe_arr\u001b[38;5;241m.\u001b[39mcopy() \u001b[38;5;28;01mif\u001b[39;00m \u001b[38;5;28misinstance\u001b[39m(maybe_arr, np\u001b[38;5;241m.\u001b[39mndarray) \u001b[38;5;28;01melse\u001b[39;00m maybe_arr\n",
      "File \u001b[1;32mE:\\PyImage_ComputerVision\\SiameseNetworks\\env\\lib\\site-packages\\tensorflow\\python\\framework\\ops.py:1123\u001b[0m, in \u001b[0;36m_EagerTensorBase._numpy\u001b[1;34m(self)\u001b[0m\n\u001b[0;32m   1121\u001b[0m \u001b[38;5;28;01mdef\u001b[39;00m \u001b[38;5;21m_numpy\u001b[39m(\u001b[38;5;28mself\u001b[39m):\n\u001b[0;32m   1122\u001b[0m   \u001b[38;5;28;01mtry\u001b[39;00m:\n\u001b[1;32m-> 1123\u001b[0m     \u001b[38;5;28;01mreturn\u001b[39;00m \u001b[38;5;28;43mself\u001b[39;49m\u001b[38;5;241;43m.\u001b[39;49m\u001b[43m_numpy_internal\u001b[49m\u001b[43m(\u001b[49m\u001b[43m)\u001b[49m\n\u001b[0;32m   1124\u001b[0m   \u001b[38;5;28;01mexcept\u001b[39;00m core\u001b[38;5;241m.\u001b[39m_NotOkStatusException \u001b[38;5;28;01mas\u001b[39;00m e:  \u001b[38;5;66;03m# pylint: disable=protected-access\u001b[39;00m\n\u001b[0;32m   1125\u001b[0m     \u001b[38;5;28;01mraise\u001b[39;00m core\u001b[38;5;241m.\u001b[39m_status_to_exception(e) \u001b[38;5;28;01mfrom\u001b[39;00m \u001b[38;5;28;01mNone\u001b[39;00m\n",
      "\u001b[1;31mKeyboardInterrupt\u001b[0m: "
     ]
    }
   ],
   "source": [
    "model.fit([trainX[:,0],trainX[:,1]],trainY,\n",
    "          epochs=100,\n",
    "          batch_size=8)"
   ]
  },
  {
   "cell_type": "code",
   "execution_count": 44,
   "id": "6211ec6d",
   "metadata": {},
   "outputs": [
    {
     "data": {
      "text/plain": [
       "2"
      ]
     },
     "execution_count": 44,
     "metadata": {},
     "output_type": "execute_result"
    }
   ],
   "source": []
  },
  {
   "cell_type": "code",
   "execution_count": 34,
   "id": "f88dd9ce",
   "metadata": {},
   "outputs": [
    {
     "ename": "AttributeError",
     "evalue": "'list' object has no attribute 'shape'",
     "output_type": "error",
     "traceback": [
      "\u001b[1;31m---------------------------------------------------------------------------\u001b[0m",
      "\u001b[1;31mAttributeError\u001b[0m                            Traceback (most recent call last)",
      "Cell \u001b[1;32mIn[34], line 1\u001b[0m\n\u001b[1;32m----> 1\u001b[0m \u001b[43mtrainX\u001b[49m\u001b[38;5;241;43m.\u001b[39;49m\u001b[43mshape\u001b[49m\n",
      "\u001b[1;31mAttributeError\u001b[0m: 'list' object has no attribute 'shape'"
     ]
    }
   ],
   "source": [
    "trainX.shape"
   ]
  },
  {
   "cell_type": "code",
   "execution_count": 45,
   "id": "35b7a204",
   "metadata": {},
   "outputs": [],
   "source": [
    "fg = [[1,2],[3,4],[5,6],[7,8],[9,10]]"
   ]
  },
  {
   "cell_type": "code",
   "execution_count": 50,
   "id": "fd1007b6",
   "metadata": {},
   "outputs": [
    {
     "data": {
      "text/plain": [
       "[1, 2]"
      ]
     },
     "execution_count": 50,
     "metadata": {},
     "output_type": "execute_result"
    }
   ],
   "source": [
    "fg["
   ]
  },
  {
   "cell_type": "code",
   "execution_count": 53,
   "id": "cdef9a81",
   "metadata": {},
   "outputs": [
    {
     "data": {
      "text/plain": [
       "(15000, 2, 224, 224, 3)"
      ]
     },
     "execution_count": 53,
     "metadata": {},
     "output_type": "execute_result"
    }
   ],
   "source": [
    "trainX1.shape"
   ]
  },
  {
   "cell_type": "code",
   "execution_count": 55,
   "id": "75631583",
   "metadata": {},
   "outputs": [
    {
     "data": {
      "text/plain": [
       "(15000, 224, 224, 3)"
      ]
     },
     "execution_count": 55,
     "metadata": {},
     "output_type": "execute_result"
    }
   ],
   "source": [
    "trainX1[:,0].shape"
   ]
  },
  {
   "cell_type": "code",
   "execution_count": 56,
   "id": "1d115ef8",
   "metadata": {},
   "outputs": [],
   "source": [
    "fg1 = np.array(fg)"
   ]
  },
  {
   "cell_type": "code",
   "execution_count": 58,
   "id": "48828682",
   "metadata": {},
   "outputs": [
    {
     "data": {
      "text/plain": [
       "array([1, 3, 5, 7, 9])"
      ]
     },
     "execution_count": 58,
     "metadata": {},
     "output_type": "execute_result"
    }
   ],
   "source": [
    "fg1[:,0]"
   ]
  },
  {
   "cell_type": "code",
   "execution_count": 59,
   "id": "63f62868",
   "metadata": {},
   "outputs": [
    {
     "data": {
      "text/plain": [
       "array([ 2,  4,  6,  8, 10])"
      ]
     },
     "execution_count": 59,
     "metadata": {},
     "output_type": "execute_result"
    }
   ],
   "source": [
    "fg1[:,1]"
   ]
  },
  {
   "cell_type": "code",
   "execution_count": 65,
   "id": "c5337d34",
   "metadata": {},
   "outputs": [
    {
     "data": {
      "text/plain": [
       "(15000, 1)"
      ]
     },
     "execution_count": 65,
     "metadata": {},
     "output_type": "execute_result"
    }
   ],
   "source": [
    "trainY1.shape"
   ]
  },
  {
   "cell_type": "code",
   "execution_count": 66,
   "id": "9c0a7b31",
   "metadata": {},
   "outputs": [
    {
     "data": {
      "text/plain": [
       "(15000, 1)"
      ]
     },
     "execution_count": 66,
     "metadata": {},
     "output_type": "execute_result"
    }
   ],
   "source": [
    "trainY1[:].shape"
   ]
  },
  {
   "cell_type": "code",
   "execution_count": null,
   "id": "750992a9",
   "metadata": {},
   "outputs": [],
   "source": []
  }
 ],
 "metadata": {
  "kernelspec": {
   "display_name": "Python 3 (ipykernel)",
   "language": "python",
   "name": "python3"
  },
  "language_info": {
   "codemirror_mode": {
    "name": "ipython",
    "version": 3
   },
   "file_extension": ".py",
   "mimetype": "text/x-python",
   "name": "python",
   "nbconvert_exporter": "python",
   "pygments_lexer": "ipython3",
   "version": "3.10.0"
  }
 },
 "nbformat": 4,
 "nbformat_minor": 5
}
