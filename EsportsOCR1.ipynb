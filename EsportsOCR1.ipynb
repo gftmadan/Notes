{
 "cells": [
  {
   "cell_type": "code",
   "execution_count": 15,
   "id": "10f767b6",
   "metadata": {},
   "outputs": [],
   "source": [
    "import pytesseract as pyt\n",
    "import cv2"
   ]
  },
  {
   "cell_type": "code",
   "execution_count": 16,
   "id": "5eef2519",
   "metadata": {},
   "outputs": [],
   "source": [
    "pyt.pytesseract.tesseract_cmd = \"C:\\\\Program Files\\\\Tesseract-OCR\\\\tesseract.exe\""
   ]
  },
  {
   "cell_type": "code",
   "execution_count": 17,
   "id": "39e86234",
   "metadata": {},
   "outputs": [],
   "source": [
    "img1 = cv2.imread(r\"E:\\PyImage_ComputerVision\\OCR\\Working Data\\InputData\\image1.png\")\n",
    "img1 = cv2.cvtColor(img1,cv2.COLOR_BGR2RGB)"
   ]
  },
  {
   "cell_type": "code",
   "execution_count": 4,
   "id": "2ee1a2ec",
   "metadata": {},
   "outputs": [
    {
     "name": "stdout",
     "output_type": "stream",
     "text": [
      "technical details are too complex to cover in the book itself.\n",
      "\n",
      "In teaching our courses, we have found it useful for the students to attempt a number of\n",
      "small implementation projects, which often build on one another, in order to get them used to\n",
      "working with real-world images and the challenges that these present. The students are then\n",
      "asked to choose an individual topic for each of their small-group, final projects. (Sometimes\n",
      "these projects even turn into conference papers!) The exercises at the end of each chapter\n",
      "contain numerous suggestions for smaller mid-term projects, as well as more open-ended\n",
      "problems whose solutions are still active research topics. Wherever possible, I encourage\n",
      "students to try their algorithms on their own personal photographs, since this better motivates\n",
      "them, often leads to creative variants on the problems, and better acquaints them with the\n",
      "variety and complexity of real-world imagery.\n",
      "\n",
      "In formulating and solving computer vision problems, I have often found it useful to draw\n",
      "inspiration from three high-level approaches:\n",
      "\n"
     ]
    }
   ],
   "source": [
    "print(pyt.image_to_string(img1))"
   ]
  },
  {
   "cell_type": "code",
   "execution_count": 5,
   "id": "ddf12a8c",
   "metadata": {},
   "outputs": [],
   "source": [
    "img2 = cv2.imread(r\"E:\\PyImage_ComputerVision\\OCR\\Working Data\\InputData\\image2.png\")\n",
    "img2 = cv2.cvtColor(img2,cv2.COLOR_BGR2RGB)"
   ]
  },
  {
   "cell_type": "code",
   "execution_count": 6,
   "id": "72cb3aac",
   "metadata": {},
   "outputs": [
    {
     "name": "stdout",
     "output_type": "stream",
     "text": [
      "\n"
     ]
    }
   ],
   "source": [
    "print(pyt.image_to_string(img2))"
   ]
  },
  {
   "cell_type": "code",
   "execution_count": 7,
   "id": "319a9903",
   "metadata": {},
   "outputs": [],
   "source": [
    "img3 = cv2.imread(r\"E:\\PyImage_ComputerVision\\OCR\\Working Data\\InputData\\Notes1.png\")\n",
    "img3 = cv2.cvtColor(img3,cv2.COLOR_BGR2RGB)"
   ]
  },
  {
   "cell_type": "code",
   "execution_count": 8,
   "id": "9a8599d3",
   "metadata": {},
   "outputs": [
    {
     "name": "stdout",
     "output_type": "stream",
     "text": [
      "PetamanceOveta\n",
      "\n",
      "A Brief FRSRSRFof OCR\n",
      "\n",
      "¢ In 1974, Ray Kurzweil and Kurzweil Computer Products, Inc. continued\n",
      "developing OCR systems, mainly focusing on creating a “reading machine\n",
      "for the blind”\n",
      "\n",
      "¢ Kurzweil’s work caught Xerox’s attention, who wished to commercialize\n",
      "the software further and develop OCR applications for document\n",
      "understanding\n",
      "\n"
     ]
    }
   ],
   "source": [
    "print(pyt.image_to_string(img3))"
   ]
  },
  {
   "cell_type": "code",
   "execution_count": 9,
   "id": "94a54c10",
   "metadata": {},
   "outputs": [],
   "source": [
    "img4 = cv2.imread(r\"E:\\PyImage_ComputerVision\\OCR\\Working Data\\InputData\\vlr.png\")\n",
    "img4 = cv2.cvtColor(img4,cv2.COLOR_BGR2RGB)"
   ]
  },
  {
   "cell_type": "code",
   "execution_count": 10,
   "id": "1d773a59",
   "metadata": {},
   "outputs": [
    {
     "name": "stdout",
     "output_type": "stream",
     "text": [
      "FNS, sOm to step down from NRG active roster\n",
      "& aoe\n",
      "\n",
      "With a vast offseason ahead of the Valorant esports world before the 2024 VCT circuit, NRG Esports\n",
      "players Sam \"sOm\" Oh and Pujan \"FINESSE\" Mehta have elected to focus on their personal brands on\n",
      "Twitch.\n",
      "\n",
      "The notes from FiNESSE and sOm respectively about why they will not be returning to competition can\n",
      "be found below:\n",
      "\n",
      "\"FNS will not be on the NRG starting roster. He will play for another org if the opportunity presents itself\n",
      "\n",
      "but if not he will focus on streaming this year\"\n",
      "\n",
      "“[sOm] and FNS will not be on the starting NRG roster. They will focus on streaming for now until an ideal\n",
      "opportunity to compete presents itself ok\"\n",
      "\n",
      "The news marks the first time FINESSE will have broken off of playing on a roster with\n",
      "\n"
     ]
    }
   ],
   "source": [
    "print(pyt.image_to_string(img4))"
   ]
  },
  {
   "cell_type": "code",
   "execution_count": 11,
   "id": "a3cfa065",
   "metadata": {},
   "outputs": [],
   "source": [
    "img5 = cv2.imread(r\"E:\\PyImage_ComputerVision\\OCR\\Working Data\\InputData\\4.png\")\n",
    "img5 = cv2.cvtColor(img5,cv2.COLOR_BGR2RGB)"
   ]
  },
  {
   "cell_type": "code",
   "execution_count": 12,
   "id": "7b65b2dd",
   "metadata": {},
   "outputs": [
    {
     "name": "stdout",
     "output_type": "stream",
     "text": [
      "Client FPS: 267 Network RTT Avg (Max): 34ms (35ms) PacketLoss:0% Packets Lost (Total): 6\n",
      "\n",
      "Mid Top\n",
      "* ‘ 7 5\n",
      "—\n",
      "\n",
      "KILLED BY\n",
      "\n",
      "INCOMING\n",
      "\n",
      "ft: 150,\n",
      "\n",
      " Viver\n",
      "3} eliminated - Team\n",
      "PORT [=] TOGGLE MOUSE CURSOR\n",
      "\n",
      "©\n",
      "\n",
      "Chamber\n",
      "< @> switcy player\n",
      "\n",
      "a _ T_T\n",
      "aS Fi 5 x ctlent version: 0600.00.72\n",
      "\n",
      "\n"
     ]
    }
   ],
   "source": [
    "print(pyt.image_to_string(img5))"
   ]
  },
  {
   "cell_type": "code",
   "execution_count": 13,
   "id": "2b0938af",
   "metadata": {},
   "outputs": [],
   "source": [
    "img6 = cv2.imread(r\"E:\\PyImage_ComputerVision\\OCR\\Working Data\\InputData\\csgo.png\")\n",
    "img6 = cv2.cvtColor(img6,cv2.COLOR_BGR2RGB)"
   ]
  },
  {
   "cell_type": "code",
   "execution_count": 14,
   "id": "2267bf35",
   "metadata": {},
   "outputs": [
    {
     "name": "stdout",
     "output_type": "stream",
     "text": [
      "BCRLESESELE\n",
      "\n",
      "PaPolmgesoma - ok\n",
      "9 =| — —_ i as\n",
      "\n",
      "a\n",
      "pe a Ne\n",
      "m it 1)\n",
      "$25000 uip. Value $31050\n",
      "ii Equip. iii L | —\n",
      "\n",
      "Group A\n",
      "ORKS 9\n",
      "\n",
      "$2400 $f LossBonus $2400 |\n",
      "~ ~~ /\n",
      "\n",
      "In ie)\n",
      "\n",
      "~S\n",
      "\n",
      "Utility\n",
      "\n",
      "#red\n",
      "\n",
      "#66\n",
      "=. abe y 7\n",
      "ey #resd\n",
      "\n",
      "O3 OW ARB / ett\n",
      "8 S50 $4800\n",
      "\n",
      "iS\n",
      "\n",
      "Great @ ¥\n",
      "X5 X4 X5 XS\n",
      "\n",
      "ARB O5 O40 EF\n",
      "$5900 $3000 ©\n",
      "ARE OW O2 +\n",
      "$1200 $8850 ©\n",
      "ADRTI O14 © 4\n",
      "-$5500 $3850 ©\n",
      "ARB O4 3 f\n",
      "$5500 $3400 ©\n",
      "\n",
      "ARB OB OS C pe\n",
      "$900 $6750 8\n",
      "\n"
     ]
    }
   ],
   "source": [
    "print(pyt.image_to_string(img6))"
   ]
  },
  {
   "cell_type": "code",
   "execution_count": null,
   "id": "e214b010",
   "metadata": {},
   "outputs": [],
   "source": []
  },
  {
   "cell_type": "code",
   "execution_count": null,
   "id": "462adab2",
   "metadata": {},
   "outputs": [],
   "source": []
  },
  {
   "cell_type": "code",
   "execution_count": null,
   "id": "fe17d75e",
   "metadata": {},
   "outputs": [],
   "source": []
  },
  {
   "cell_type": "code",
   "execution_count": null,
   "id": "9b725c36",
   "metadata": {},
   "outputs": [],
   "source": []
  },
  {
   "cell_type": "code",
   "execution_count": null,
   "id": "72261de7",
   "metadata": {},
   "outputs": [],
   "source": []
  },
  {
   "cell_type": "code",
   "execution_count": null,
   "id": "369c71f4",
   "metadata": {},
   "outputs": [],
   "source": []
  },
  {
   "cell_type": "code",
   "execution_count": null,
   "id": "8d13e625",
   "metadata": {},
   "outputs": [],
   "source": []
  },
  {
   "cell_type": "code",
   "execution_count": null,
   "id": "ea9d4892",
   "metadata": {},
   "outputs": [],
   "source": []
  },
  {
   "cell_type": "code",
   "execution_count": null,
   "id": "e1ca020d",
   "metadata": {},
   "outputs": [],
   "source": []
  }
 ],
 "metadata": {
  "kernelspec": {
   "display_name": "Python 3 (ipykernel)",
   "language": "python",
   "name": "python3"
  },
  "language_info": {
   "codemirror_mode": {
    "name": "ipython",
    "version": 3
   },
   "file_extension": ".py",
   "mimetype": "text/x-python",
   "name": "python",
   "nbconvert_exporter": "python",
   "pygments_lexer": "ipython3",
   "version": "3.11.5"
  }
 },
 "nbformat": 4,
 "nbformat_minor": 5
}
