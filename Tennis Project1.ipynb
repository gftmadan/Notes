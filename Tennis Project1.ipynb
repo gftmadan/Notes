{
 "cells": [
  {
   "cell_type": "code",
   "execution_count": 12,
   "id": "34312e44-6990-40d5-b083-50ea1b6f99ff",
   "metadata": {},
   "outputs": [],
   "source": [
    "import cv2\n",
    "import numpy as np\n",
    "import os "
   ]
  },
  {
   "cell_type": "code",
   "execution_count": 2,
   "id": "0c1d1d21-ddf0-49f6-b7ec-e158b0aed340",
   "metadata": {},
   "outputs": [],
   "source": [
    "INPUT_VIDEO_DIR = r\"E:\\TennisProject\\WorkingData\\InputData\\MainMatchVideo.mp4\"\n",
    "INPUT_TEXT_DIR = r\"E:\\TennisProject\\WorkingData\\InputData\\TennisRally.txt\"\n",
    "OUTPUT_DATA_DIR = r\"E:\\TennisProject\\WorkingData\\InputData\\RallyData\""
   ]
  },
  {
   "cell_type": "code",
   "execution_count": 3,
   "id": "83ffe998-7e46-4f68-b7f7-bce006fc0def",
   "metadata": {},
   "outputs": [],
   "source": [
    "def get_time_stamps():\n",
    "    time_stamps = []\n",
    "    file = open(INPUT_TEXT_DIR,\"r\")\n",
    "    count= 0 \n",
    "    for line in file.readlines():\n",
    "        idx = line.find(\"-\")\n",
    "        line = line[idx+1:]\n",
    "        idx = line.find(\",\")\n",
    "        t1 = line[:idx]\n",
    "        t2 = line[idx+1:]\n",
    "        st1 = t1.split(\":\")\n",
    "        st2 = t2.split(\":\")\n",
    "        m1 = int(st1[0])\n",
    "        s1 = int(st1[1].strip(\"\\n\"))\n",
    "        m2 = int(st2[0])\n",
    "        s2 = int(st2[1].strip(\"\\n\"))\n",
    "        tmS = m1*60 + s1\n",
    "        tmE = m2*60 + s2\n",
    "        time_stamps.append((tmS,tmE))\n",
    "    file.close()\n",
    "    return time_stamps"
   ]
  },
  {
   "cell_type": "code",
   "execution_count": 4,
   "id": "36109e05-7ce7-4db6-8971-6b5e9408deab",
   "metadata": {},
   "outputs": [],
   "source": [
    "def create_timestamps_video():\n",
    "    timestamps = get_time_stamps()\n",
    "    video = cv2.VideoCapture(INPUT_VIDEO_DIR)\n",
    "    FPS = video.get(cv2.CAP_PROP_FPS)\n",
    "    FRAME_WIDTH = video.get(cv2.CAP_PROP_FRAME_WIDTH)\n",
    "    FRAME_HEIGHT = video.get(cv2.CAP_PROP_FRAME_HEIGHT)\n",
    "    for idx,tts in enumerate(timestamps):\n",
    "        start_frame = int(FPS * tts[0])\n",
    "        end_frame = int(FPS * tts[1])\n",
    "        VIDEO_LOC = os.path.join(OUTPUT_DATA_DIR,f\"Rally{idx}.avi\")\n",
    "        VIDEO_FOLDER_LOC = os.path.join(OUTPUT_DATA_DIR,f\"Rally{idx}\")\n",
    "        videowriter = cv2.VideoWriter(VIDEO_LOC,cv2.VideoWriter_fourcc('M','P','4','S'),FPS,[int(FRAME_WIDTH),int(FRAME_HEIGHT)],isColor=True)\n",
    "        if os.path.isdir(VIDEO_LOC) == False:\n",
    "            os.mkdir(VIDEO_FOLDER_LOC)\n",
    "        video.set(cv2.CAP_PROP_POS_FRAMES,start_frame-1)\n",
    "        count = 0  \n",
    "        for _ in range(start_frame,end_frame):\n",
    "            ret,frame = video.read()\n",
    "            if ret == False:\n",
    "                break\n",
    "            videowriter.write(frame)\n",
    "            IMAGE_LOC = os.path.join(VIDEO_FOLDER_LOC,f\"FRAME{count}.png\")\n",
    "            count += 1\n",
    "            cv2.imwrite(IMAGE_LOC,frame)\n",
    "        videowriter.release()\n",
    "    video.release()"
   ]
  },
  {
   "cell_type": "code",
   "execution_count": 5,
   "id": "31cc7489-039e-4024-91d9-0844ff262de7",
   "metadata": {},
   "outputs": [],
   "source": [
    "create_timestamps_video()"
   ]
  },
  {
   "cell_type": "code",
   "execution_count": null,
   "id": "10fad524-1d93-4e97-831f-510be46d21de",
   "metadata": {},
   "outputs": [],
   "source": []
  },
  {
   "cell_type": "code",
   "execution_count": 26,
   "id": "f85239cf-f266-46df-b105-f4396c287bec",
   "metadata": {},
   "outputs": [],
   "source": [
    "frame30 = cv2.imread(r\"E:\\TennisProject\\WorkingData\\InputData\\RallyData\\Rally2\\FRAME30.png\")\n",
    "frame35 = cv2.imread(r\"E:\\TennisProject\\WorkingData\\InputData\\RallyData\\Rally2\\FRAME35.png\")\n",
    "frame40 = cv2.imread(r\"E:\\TennisProject\\WorkingData\\InputData\\RallyData\\Rally2\\FRAME40.png\")\n",
    "frame46 = cv2.imread(r\"E:\\TennisProject\\WorkingData\\InputData\\RallyData\\Rally2\\FRAME46.png\")\n",
    "frame56 = cv2.imread(r\"E:\\TennisProject\\WorkingData\\InputData\\RallyData\\Rally2\\FRAME56.png\")\n",
    "frame61 = cv2.imread(r\"E:\\TennisProject\\WorkingData\\InputData\\RallyData\\Rally2\\FRAME61.png\")\n",
    "frame66 = cv2.imread(r\"E:\\TennisProject\\WorkingData\\InputData\\RallyData\\Rally2\\FRAME66.png\")\n",
    "frame71 = cv2.imread(r\"E:\\TennisProject\\WorkingData\\InputData\\RallyData\\Rally2\\FRAME71.png\")\n",
    "frame80 = cv2.imread(r\"E:\\TennisProject\\WorkingData\\InputData\\RallyData\\Rally2\\FRAME80.png\")\n",
    "frame90 = cv2.imread(r\"E:\\TennisProject\\WorkingData\\InputData\\RallyData\\Rally2\\FRAME90.png\")\n",
    "frame94 = cv2.imread(r\"E:\\TennisProject\\WorkingData\\InputData\\RallyData\\Rally2\\FRAME94.png\")\n",
    "frame101 = cv2.imread(r\"E:\\TennisProject\\WorkingData\\InputData\\RallyData\\Rally2\\FRAME101.png\")\n",
    "frame114 = cv2.imread(r\"E:\\TennisProject\\WorkingData\\InputData\\RallyData\\Rally2\\FRAME114.png\")\n",
    "frame118 = cv2.imread(r\"E:\\TennisProject\\WorkingData\\InputData\\RallyData\\Rally2\\FRAME118.png\")\n",
    "frame122 = cv2.imread(r\"E:\\TennisProject\\WorkingData\\InputData\\RallyData\\Rally2\\FRAME122.png\")\n",
    "frame123 = cv2.imread(r\"E:\\TennisProject\\WorkingData\\InputData\\RallyData\\Rally2\\FRAME123.png\")\n",
    "frame133 = cv2.imread(r\"E:\\TennisProject\\WorkingData\\InputData\\RallyData\\Rally2\\FRAME133.png\")\n",
    "frame134 = cv2.imread(r\"E:\\TennisProject\\WorkingData\\InputData\\RallyData\\Rally2\\FRAME134.png\")"
   ]
  },
  {
   "cell_type": "code",
   "execution_count": 76,
   "id": "be2010d4-06ea-4320-b553-03f3748f500e",
   "metadata": {},
   "outputs": [],
   "source": [
    "cv2.imshow(\"FRAME30\",frame30)\n",
    "cv2.imshow(\"FRAME35\",frame35)\n",
    "cv2.imshow(\"FRAME40\",frame40)\n",
    "cv2.imshow(\"FRAME46\",frame46)\n",
    "cv2.imshow(\"FRAME56\",frame56)\n",
    "cv2.imshow(\"FRAME61\",frame61)\n",
    "cv2.imshow(\"FRAME66\",frame66)\n",
    "cv2.imshow(\"FRAME71\",frame71)\n",
    "cv2.imshow(\"FRAME80\",frame80)\n",
    "cv2.imshow(\"FRAME90\",frame90)\n",
    "cv2.imshow(\"FRAME94\",frame94)\n",
    "cv2.imshow(\"FRAME101\",frame101)\n",
    "cv2.imshow(\"FRAME114\",frame114)\n",
    "cv2.imshow(\"FRAME118\",frame118)\n",
    "cv2.imshow(\"FRAME122\",frame122)\n",
    "cv2.imshow(\"FRAME123\",frame123)\n",
    "cv2.imshow(\"FRAME133\",frame133)\n",
    "cv2.imshow(\"FRAME134\",frame134)\n",
    "cv2.waitKey(0)\n",
    "cv2.destroyAllWindows()"
   ]
  },
  {
   "cell_type": "code",
   "execution_count": null,
   "id": "65bef8a7-a0a5-4173-9296-d5f7193dd991",
   "metadata": {},
   "outputs": [],
   "source": [
    "frame66,frame71,frame80,frame101,frame133"
   ]
  },
  {
   "cell_type": "code",
   "execution_count": 67,
   "id": "42edc8f2-f51d-4860-bec3-e472e2107080",
   "metadata": {},
   "outputs": [],
   "source": []
  },
  {
   "cell_type": "code",
   "execution_count": 50,
   "id": "8a0c69a0-06fe-434c-bc92-ed36bff1d6aa",
   "metadata": {},
   "outputs": [
    {
     "name": "stdout",
     "output_type": "stream",
     "text": [
      "655\n"
     ]
    }
   ],
   "source": [
    "working(frame133)"
   ]
  },
  {
   "cell_type": "code",
   "execution_count": 38,
   "id": "3e65b825-9e01-489b-8680-e2c142ac509f",
   "metadata": {},
   "outputs": [],
   "source": [
    "POINTS = []\n",
    "frame = frame133.copy()"
   ]
  },
  {
   "cell_type": "code",
   "execution_count": 39,
   "id": "d0a021be-4c15-4bcc-8e95-95161505a797",
   "metadata": {},
   "outputs": [],
   "source": [
    "def mouse_callback(event,x,y,flags,params):\n",
    "    if event == cv2.EVENT_RBUTTONDOWN:\n",
    "        POINTS.append((x,y))\n",
    "        print(POINTS)"
   ]
  },
  {
   "cell_type": "code",
   "execution_count": 40,
   "id": "aab17cda-9c8b-410c-ae3f-2e0aeb7e727e",
   "metadata": {},
   "outputs": [
    {
     "name": "stdout",
     "output_type": "stream",
     "text": [
      "[(845, 11)]\n",
      "[(845, 11), (869, 173)]\n",
      "[(845, 11), (869, 173), (930, 308)]\n",
      "[(845, 11), (869, 173), (930, 308), (1046, 563)]\n",
      "[(845, 11), (869, 173), (930, 308), (1046, 563), (1063, 645)]\n"
     ]
    }
   ],
   "source": [
    "cv2.imshow(\"Frame\",frame)\n",
    "cv2.setMouseCallback(\"Frame\",mouse_callback)\n",
    "key = cv2.waitKey(0)\n",
    "if key == ord('q'):\n",
    "    cv2.destroyAllWindows()"
   ]
  },
  {
   "cell_type": "code",
   "execution_count": 41,
   "id": "e81c1786-f691-47ea-ab13-9d66fc77830d",
   "metadata": {},
   "outputs": [],
   "source": [
    "out = frame.copy()\n",
    "if len(POINTS) > 0:\n",
    "    for point in POINTS:\n",
    "        cv2.circle(out,point,3,(0,0,255),-1)\n",
    "if len(POINTS) > 1:\n",
    "    for i in range(1,len(POINTS)):\n",
    "        cv2.line(out,POINTS[i-1],POINTS[i],(0,0,0),2)\n",
    "cv2.imshow(\"Frame\",out)\n",
    "cv2.waitKey(0)\n",
    "cv2.destroyAllWindows()"
   ]
  },
  {
   "cell_type": "code",
   "execution_count": 53,
   "id": "eb7562fa-f31c-4be7-b615-476f4b662bbb",
   "metadata": {},
   "outputs": [],
   "source": [
    "frame = frame133[:,430:1080]"
   ]
  },
  {
   "cell_type": "code",
   "execution_count": 152,
   "id": "12ecd79f-8542-4b8b-9410-888d9910b938",
   "metadata": {},
   "outputs": [],
   "source": [
    "cv2.imshow(\"Frame\",frame133)\n",
    "cv2.waitKey(0)\n",
    "cv2.destroyAllWindows()"
   ]
  },
  {
   "cell_type": "code",
   "execution_count": 28,
   "id": "f721717a-eae4-479e-a432-bc9a2c872ddd",
   "metadata": {},
   "outputs": [
    {
     "data": {
      "text/plain": [
       "(720, 1280)"
      ]
     },
     "execution_count": 28,
     "metadata": {},
     "output_type": "execute_result"
    }
   ],
   "source": [
    "h,w,_ = frame133.shape\n",
    "h,w"
   ]
  },
  {
   "cell_type": "code",
   "execution_count": 43,
   "id": "534f0631-f27b-46e3-ab97-7e7350941358",
   "metadata": {},
   "outputs": [],
   "source": [
    "POINTS1 = [(447, 0), (415, 172), (353, 311), (237, 565), (199, 720)]\n",
    "POINTS2 = [(845, 0), (869, 172), (930, 311), (1046, 565), (1063, 720)]"
   ]
  },
  {
   "cell_type": "code",
   "execution_count": 48,
   "id": "03001243-1535-46ac-b179-c152cb99605e",
   "metadata": {},
   "outputs": [],
   "source": [
    "def generate_line_equation(P1,P2):\n",
    "    x1,y1 = P1\n",
    "    x2,y2 = P2\n",
    "    M = (y2-y1)/(x2-x1)\n",
    "    b = y1-(M*x1)\n",
    "    return M,b"
   ]
  },
  {
   "cell_type": "code",
   "execution_count": 50,
   "id": "28dbc437-e755-42dc-bac6-9c8dafac878d",
   "metadata": {},
   "outputs": [],
   "source": [
    "out1 = np.zeros((h,w,3),dtype=np.uint8)\n",
    "for i in range(1,len(POINTS1)):\n",
    "    mL,bL = generate_line_equation(POINTS1[i-1],POINTS1[i])\n",
    "    mR,bR = generate_line_equation(POINTS2[i-1],POINTS2[i])\n",
    "    for y in range(POINTS1[i-1][1],POINTS1[i][1]):\n",
    "        xL = int((y-bL)/mL)\n",
    "        xR = int((y-bR)/mR)\n",
    "        out1[y,xL:xR+2] = frame133[y,xL:xR+2]\n",
    "cv2.imshow(\"Out\",out)\n",
    "cv2.imshow(\"out1\",out1)\n",
    "cv2.waitKey(0)\n",
    "cv2.destroyAllWindows()"
   ]
  },
  {
   "cell_type": "code",
   "execution_count": 58,
   "id": "0cd74e88-3699-41c5-995e-f6031b5afe3d",
   "metadata": {},
   "outputs": [],
   "source": [
    "cv2.imshow(\"out1\",out1)\n",
    "cv2.waitKey(0)\n",
    "cv2.destroyAllWindows()"
   ]
  },
  {
   "cell_type": "code",
   "execution_count": 66,
   "id": "75497c97-47ab-4bf9-966c-9bd952ce0996",
   "metadata": {},
   "outputs": [],
   "source": [
    "working(out1)"
   ]
  },
  {
   "cell_type": "code",
   "execution_count": 190,
   "id": "82907b8a-53fb-46a5-a258-a8966e93c6a3",
   "metadata": {},
   "outputs": [],
   "source": [
    "def auto_canny(image, sigma=0.33):\n",
    "    # compute the median of the single channel pixel intensities\n",
    "    v = np.median(image)\n",
    "\n",
    "    # apply automatic Canny edge detection using the computed median\n",
    "    lower = int(max(0, (1.0 - sigma) * v))\n",
    "    upper = int(min(255, (1.0 + sigma) * v))\n",
    "    return (lower,upper)"
   ]
  },
  {
   "cell_type": "code",
   "execution_count": 195,
   "id": "8f86c589-3347-441b-a268-b297c0bcf578",
   "metadata": {},
   "outputs": [
    {
     "data": {
      "text/plain": [
       "(65, 130)"
      ]
     },
     "execution_count": 195,
     "metadata": {},
     "output_type": "execute_result"
    }
   ],
   "source": [
    "auto_canny(frame133)"
   ]
  },
  {
   "cell_type": "code",
   "execution_count": 217,
   "id": "b927c2c8-7599-4397-a55d-fff6f1235d75",
   "metadata": {},
   "outputs": [],
   "source": [
    "def working(frame):\n",
    "    out = frame.copy()\n",
    "    frame1 = cv2.cvtColor(frame,cv2.COLOR_BGR2GRAY)\n",
    "    edge = cv2.Canny(frame1,65,130)\n",
    "    edge = cv2.morphologyEx(edge,cv2.MORPH_CLOSE,None,iterations=1)\n",
    "    cv2.imshow(\"Edge\",edge)\n",
    "    cv2.waitKey(0)\n",
    "    cv2.destroyAllWindows()\n",
    "    cnts = cv2.findContours(edge,cv2.RETR_EXTERNAL,cv2.CHAIN_APPROX_)[0]\n",
    "    for cnt in cnts:\n",
    "        out = frame.copy()\n",
    "        if cv2.contourArea(cnt) > 100:\n",
    "           continue\n",
    "        per = cv2.arcLength(cnt,True)\n",
    "        apx = cv2.approxPolyDP(cnt,0.01*per,True)\n",
    "        vertices = apx.shape[0]\n",
    "        if vertices > 4:\n",
    "            cv2.drawContours(out,[cnt],-1,(0,255,0),2)\n",
    "            cv2.imshow(\"Out\",out)\n",
    "            key = cv2.waitKey(0)\n",
    "            if key == ord('q'):\n",
    "                cv2.destroyAllWindows()\n",
    "                break\n",
    "            else:\n",
    "                cv2.destroyAllWindows()"
   ]
  },
  {
   "cell_type": "code",
   "execution_count": 218,
   "id": "c7844b2c-567f-4644-8c8b-1659bd5fc2e5",
   "metadata": {},
   "outputs": [],
   "source": [
    "working(out1)"
   ]
  },
  {
   "cell_type": "code",
   "execution_count": null,
   "id": "bfbe8bea-57bf-4371-b2b2-dd34ad5df145",
   "metadata": {},
   "outputs": [],
   "source": []
  },
  {
   "cell_type": "code",
   "execution_count": 102,
   "id": "f5a2792d-8177-4989-829b-e9c9cced669c",
   "metadata": {},
   "outputs": [],
   "source": [
    "def mouse_callback(event,x,y,flags,params):\n",
    "    if event == cv2.EVENT_RBUTTONDOWN:\n",
    "        print(x,y)"
   ]
  },
  {
   "cell_type": "code",
   "execution_count": 103,
   "id": "737fe58e-aa47-44dc-ab33-c1e142fa0e99",
   "metadata": {},
   "outputs": [
    {
     "name": "stdout",
     "output_type": "stream",
     "text": [
      "428 179\n",
      "855 177\n",
      "1029 556\n",
      "258 558\n"
     ]
    }
   ],
   "source": [
    "cv2.imshow(\"out\",out1)\n",
    "cv2.setMouseCallback(\"out\",mouse_callback)\n",
    "key = cv2.waitKey(0)\n",
    "if key == ord('q'):\n",
    "    cv2.destroyAllWindows()"
   ]
  },
  {
   "cell_type": "code",
   "execution_count": 151,
   "id": "16b7856d-4f27-4905-a9f2-bb88ce913c24",
   "metadata": {},
   "outputs": [],
   "source": [
    "TL,TR,BR,BL = [(428,177),(855,177),(1029,558),(258,558)]\n",
    "out2 = out1.copy()\n",
    "mL,bL = generate_line_equation(TL,BL)\n",
    "mR,bR = generate_line_equation(TR,BR)\n",
    "for y in range(TL[1],BL[1]):\n",
    "    xL = int((y-bL)/mL)\n",
    "    xR = int((y-bR)/mR)\n",
    "    out2[y,xL:xR] = (0,0,0)\n",
    "cv2.imshow(\"Out\",out2)\n",
    "cv2.waitKey(0)\n",
    "cv2.destroyAllWindows()"
   ]
  },
  {
   "cell_type": "code",
   "execution_count": 148,
   "id": "bcce008d-eaad-4584-89bf-c9020f15ccb0",
   "metadata": {},
   "outputs": [],
   "source": [
    "working(out2)"
   ]
  },
  {
   "cell_type": "code",
   "execution_count": 159,
   "id": "3b80d3a5-fcf1-4cbc-ab83-8264d0e73fb1",
   "metadata": {},
   "outputs": [],
   "source": [
    "def working(frame):\n",
    "    out = frame.copy()\n",
    "    frame1 = cv2.cvtColor(frame,cv2.COLOR_BGR2GRAY)\n",
    "    edge = cv2.Canny(frame1,70,120)\n",
    "    cnts = cv2.findContours(edge,cv2.RETR_EXTERNAL,cv2.CHAIN_APPROX_SIMPLE)[0]\n",
    "    for cnt in cnts:\n",
    "        cv2.drawContours(out,[cnt],-1,(0,255,0),2)\n",
    "        cv2.imshow(\"Out\",out)\n",
    "        key = cv2.waitKey(0)\n",
    "        if key == ord('q'):\n",
    "            cv2.destroyAllWindows()\n",
    "            break\n",
    "        else:\n",
    "            cv2.destroyAllWindows()"
   ]
  },
  {
   "cell_type": "code",
   "execution_count": 168,
   "id": "7a63b276-cdf5-4f45-8924-0955bf29db4c",
   "metadata": {},
   "outputs": [],
   "source": [
    "working(out1)"
   ]
  },
  {
   "cell_type": "code",
   "execution_count": null,
   "id": "be9e1bfe-6a51-4e2c-9a30-61fcb32722c0",
   "metadata": {},
   "outputs": [],
   "source": []
  }
 ],
 "metadata": {
  "kernelspec": {
   "display_name": "Python 3 (ipykernel)",
   "language": "python",
   "name": "python3"
  },
  "language_info": {
   "codemirror_mode": {
    "name": "ipython",
    "version": 3
   },
   "file_extension": ".py",
   "mimetype": "text/x-python",
   "name": "python",
   "nbconvert_exporter": "python",
   "pygments_lexer": "ipython3",
   "version": "3.11.5"
  }
 },
 "nbformat": 4,
 "nbformat_minor": 5
}
