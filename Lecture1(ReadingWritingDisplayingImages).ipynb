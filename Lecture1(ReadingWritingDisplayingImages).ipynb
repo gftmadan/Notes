{
 "cells": [
  {
   "cell_type": "code",
   "execution_count": 1,
   "id": "2e8e5491",
   "metadata": {},
   "outputs": [],
   "source": [
    "import cv2\n",
    "import numpy as np"
   ]
  },
  {
   "cell_type": "markdown",
   "id": "1ebbb4cc",
   "metadata": {},
   "source": [
    "# --------------------------------------------------------------------------------------------------------------"
   ]
  },
  {
   "cell_type": "markdown",
   "id": "dd8bcb04",
   "metadata": {},
   "source": [
    "# Reading the Images:-\n",
    "\n",
    "###    To read images in OpenCV we use `cv2.imread()` Method \n",
    "#### cv2.imread:-[LINK](https://docs.opencv.org/4.x/d4/da8/group__imgcodecs.html#ga288b8b3da0892bd651fce07b3bbd3a56)\n",
    "#### IMREAD FLAGS:[LINK](https://docs.opencv.org/4.x/d8/d6a/group__imgcodecs__flags.html#ga61d9b0126a3e57d9277ac48327799c80)\n"
   ]
  },
  {
   "cell_type": "code",
   "execution_count": 2,
   "id": "e2a806c8",
   "metadata": {},
   "outputs": [
    {
     "name": "stdout",
     "output_type": "stream",
     "text": [
      "[[[215 209 219]\n",
      "  [215 206 216]\n",
      "  [207 196 206]\n",
      "  ...\n",
      "  [ 27  29  20]\n",
      "  [ 28  29  31]\n",
      "  [ 18  17  30]]\n",
      "\n",
      " [[211 206 217]\n",
      "  [217 210 221]\n",
      "  [219 209 220]\n",
      "  ...\n",
      "  [ 42  33  29]\n",
      "  [ 35  24  28]\n",
      "  [ 32  17  32]]\n",
      "\n",
      " [[213 210 222]\n",
      "  [215 209 222]\n",
      "  [215 206 219]\n",
      "  ...\n",
      "  [ 39  29  30]\n",
      "  [ 39  27  32]\n",
      "  [ 35  22  35]]\n",
      "\n",
      " ...\n",
      "\n",
      " [[ 29  23 178]\n",
      "  [ 22  20 174]\n",
      "  [ 22  25 176]\n",
      "  ...\n",
      "  [ 47  37  39]\n",
      "  [ 46  36  37]\n",
      "  [ 51  40  40]]\n",
      "\n",
      " [[ 17  23 178]\n",
      "  [ 24  29 186]\n",
      "  [ 28  32 189]\n",
      "  ...\n",
      "  [ 47  41  41]\n",
      "  [ 47  39  41]\n",
      "  [ 47  40  41]]\n",
      "\n",
      " [[ 23  33 185]\n",
      "  [ 26  31 186]\n",
      "  [ 30  29 188]\n",
      "  ...\n",
      "  [ 43  44  42]\n",
      "  [ 40  43  43]\n",
      "  [ 35  37  41]]]\n"
     ]
    }
   ],
   "source": [
    "img3 = cv2.imread(r\"E:\\PyImage_ComputerVision\\OpenCVBasic\\WorkingData\\InputData\\graf1.png\")\n",
    "print(img3)"
   ]
  },
  {
   "cell_type": "code",
   "execution_count": 3,
   "id": "4dd7e348",
   "metadata": {},
   "outputs": [
    {
     "name": "stdout",
     "output_type": "stream",
     "text": [
      "None\n"
     ]
    }
   ],
   "source": [
    "img2 = cv2.imread(r\"dssdas.png\")\n",
    "print(img2)"
   ]
  },
  {
   "cell_type": "markdown",
   "id": "8307f2d8",
   "metadata": {},
   "source": [
    "### We can see in the above cells that Images are represented using NUMPY Arrays with a dtype of `unit8`(return    of `imread` Function)\n",
    "\n",
    "#### 1)Each cell in the Array represents a pixel having values ranging from `0-255`\n",
    "#### 2)If we provide a Non-exsisting file to `imread` method then it will not throw an error but will return None Object"
   ]
  },
  {
   "cell_type": "code",
   "execution_count": 4,
   "id": "e75ab736",
   "metadata": {},
   "outputs": [
    {
     "data": {
      "text/plain": [
       "(640, 800, 3)"
      ]
     },
     "execution_count": 4,
     "metadata": {},
     "output_type": "execute_result"
    }
   ],
   "source": [
    "img3.shape"
   ]
  },
  {
   "cell_type": "markdown",
   "id": "ddb8787d",
   "metadata": {},
   "source": [
    "### Width:-800 and Height:-640 of the image\n",
    "\n",
    "## But as we can see above that in The NUMPY Array its represented as (Height,width,Channels)\n",
    "\n",
    "### This above phenomena is bcoz  of how the numpy arrays as represented as (Rows,Columns,...)\n",
    "### Number of Rows = Height of the Image\n",
    "### Number of Columns = Width of the Image"
   ]
  },
  {
   "cell_type": "code",
   "execution_count": 5,
   "id": "835c0812",
   "metadata": {},
   "outputs": [
    {
     "name": "stdout",
     "output_type": "stream",
     "text": [
      "[[212 210 200 ...  26  29  21]\n",
      " [209 214 213 ...  32  26  23]\n",
      " [213 213 210 ...  30  29  27]\n",
      " ...\n",
      " [ 70  66  69 ...  38  37  41]\n",
      " [ 68  75  78 ...  41  40  41]\n",
      " [ 77  76  76 ...  43  42  37]]\n"
     ]
    }
   ],
   "source": [
    "img4 = cv2.imread(r\"E:\\PyImage_ComputerVision\\OpenCVBasic\\WorkingData\\InputData\\graf1.png\",cv2.IMREAD_GRAYSCALE)\n",
    "print(img4)"
   ]
  },
  {
   "cell_type": "code",
   "execution_count": 6,
   "id": "8ef5401a",
   "metadata": {},
   "outputs": [
    {
     "data": {
      "text/plain": [
       "(640, 800)"
      ]
     },
     "execution_count": 6,
     "metadata": {},
     "output_type": "execute_result"
    }
   ],
   "source": [
    "img4.shape"
   ]
  },
  {
   "cell_type": "markdown",
   "id": "43aed794",
   "metadata": {},
   "source": [
    "### As we can in above cells that we read the image as GRAYSCALE image which only have one channel so the equalvalent NUMPY array is represented as (Hieght,Width)"
   ]
  },
  {
   "cell_type": "markdown",
   "id": "32e9fd6d",
   "metadata": {},
   "source": [
    "# --------------------------------------------------------------------------------------------------------------"
   ]
  },
  {
   "cell_type": "markdown",
   "id": "eb30c7a2",
   "metadata": {},
   "source": [
    "# Displaying The Images:-\n",
    "\n",
    "## To display the Image represented by an NUMPY Array we use:-\n",
    "### 1)`cv2.imshow()` Method :-It recieves < Window Name > , < Numpy Array > as main arguments  and it displays  the Image represented by array on the window of the same name,If the Window doesnot exsists it creates it(Default Settings Window Created)\n",
    "### 2)`cv2.waitKey()` Method :-It recieves < Integer(n) > as main arguments and it pauses the script for n seconds.  If n was not passed or equal to 0 then it hold for infinite time.It only continues the script(for both cases) If it recives a input from keyboard or the Image Window was closed.     \n",
    "\n",
    "### 3)`cv2.destroyAllWindows()` Method:-It destroys all the Window Images that were openned"
   ]
  },
  {
   "cell_type": "markdown",
   "id": "eaf27e3f",
   "metadata": {},
   "source": [
    "#### cv2.imread():-[LINK](https://docs.opencv.org/4.x/d7/dfc/group__highgui.html#ga453d42fe4cb60e5723281a89973ee563)\n",
    "#### cv2.waitKey():-[LINK](https://docs.opencv.org/4.x/d7/dfc/group__highgui.html#ga453d42fe4cb60e5723281a89973ee563)"
   ]
  },
  {
   "cell_type": "code",
   "execution_count": 7,
   "id": "9e4531ab",
   "metadata": {},
   "outputs": [],
   "source": [
    "cv2.imshow(\"Image\",img3)\n",
    "cv2.waitKey(0)\n",
    "cv2.destroyAllWindows()"
   ]
  },
  {
   "cell_type": "markdown",
   "id": "5d1c0b5c",
   "metadata": {},
   "source": [
    "### As Running in the Cell Above we can see that imshow open an Window(with default settings) to show the image and all the respective features described in description"
   ]
  },
  {
   "cell_type": "code",
   "execution_count": 8,
   "id": "2567a63e",
   "metadata": {},
   "outputs": [],
   "source": [
    "cv2.namedWindow(\"Image1Window\",cv2.WINDOW_NORMAL)\n",
    "cv2.imshow(\"Image1Window\",img3)\n",
    "cv2.waitKey()\n",
    "cv2.destroyAllWindows()"
   ]
  },
  {
   "cell_type": "markdown",
   "id": "25d69459",
   "metadata": {},
   "source": [
    "### The `cv2.namedWindow()` Method is used to create a WIndow by the User with specfic fetures which can be decided by the Flags send in the agruments\n",
    "\n",
    "#### cv2.namedWindow():- [LINK](https://docs.opencv.org/4.x/d7/dfc/group__highgui.html#ga5afdf8410934fd099df85c75b2e0888b)\n",
    "#### NAMEDWINDOW Flags():- [LINK](https://docs.opencv.org/4.x/d0/d90/group__highgui__window__flags.html#ggabf7d2c5625bc59ac130287f925557ac3acf621ace7a54954cbac01df27e47228f)"
   ]
  },
  {
   "cell_type": "markdown",
   "id": "46b50367",
   "metadata": {},
   "source": [
    "# -------------------------------------------------------------------------------------------------------------"
   ]
  },
  {
   "cell_type": "markdown",
   "id": "4851deb8",
   "metadata": {},
   "source": [
    "# Writing The Image:-\n",
    "\n",
    "## To write an Image represented in NUMPY Array form to the disk we use `cv2.imwrite()` Method\n",
    "\n",
    "#### cv2.imwrite():- [LINK](https://docs.opencv.org/4.x/d4/da8/group__imgcodecs.html#gabbc7ef1aa2edfaa87772f1202d67e0ce)"
   ]
  },
  {
   "cell_type": "code",
   "execution_count": 9,
   "id": "b81ab1c7",
   "metadata": {},
   "outputs": [
    {
     "data": {
      "text/plain": [
       "True"
      ]
     },
     "execution_count": 9,
     "metadata": {},
     "output_type": "execute_result"
    }
   ],
   "source": [
    "cv2.imwrite(\"E:\\PyImage_ComputerVision\\OpenCVBasic\\WorkingData\\OutputData\\OpenCV101\\\\abc.jpg\",img3)"
   ]
  },
  {
   "cell_type": "markdown",
   "id": "f737af4f",
   "metadata": {},
   "source": [
    "### As we can see in the above cell we passed < Absolute Image Location with the filename and extension to be saved as > as first agrument and < NUMPY Array respresenting the Image\" as second argument\n",
    "\n",
    "### NOTE:-It will automactically use Defualt Flag while writing the image according to its extension."
   ]
  },
  {
   "cell_type": "code",
   "execution_count": 10,
   "id": "eba51509",
   "metadata": {},
   "outputs": [
    {
     "data": {
      "text/plain": [
       "True"
      ]
     },
     "execution_count": 10,
     "metadata": {},
     "output_type": "execute_result"
    }
   ],
   "source": [
    "cv2.imwrite(\"E:\\PyImage_ComputerVision\\OpenCVBasic\\WorkingData\\OutputData\\OpenCV101\\\\abc1.jpeg\",img3,[cv2.IMWRITE_JPEG_QUALITY,10])\n",
    "cv2.imwrite(\"E:\\PyImage_ComputerVision\\OpenCVBasic\\WorkingData\\OutputData\\OpenCV101\\\\abc2.jpeg\",img3,[cv2.IMWRITE_JPEG_QUALITY,100])\n",
    "cv2.imwrite(\"E:\\PyImage_ComputerVision\\OpenCVBasic\\WorkingData\\OutputData\\OpenCV101\\\\abc3.jpeg\",img3,[cv2.IMWRITE_JPEG_LUMA_QUALITY,100])\n",
    "cv2.imwrite(\"E:\\PyImage_ComputerVision\\OpenCVBasic\\WorkingData\\OutputData\\OpenCV101\\\\abc4.png\",img3,[cv2.IMWRITE_PNG_BILEVEL,0])\n",
    "cv2.imwrite(\"E:\\PyImage_ComputerVision\\OpenCVBasic\\WorkingData\\OutputData\\OpenCV101\\\\abc5.ppm\",img3,[cv2.IMWRITE_PXM_BINARY,0])\n",
    "cv2.imwrite(\"E:\\PyImage_ComputerVision\\OpenCVBasic\\WorkingData\\OutputData\\OpenCV101\\\\abc6.ppm\",img3,[cv2.IMWRITE_PXM_BINARY,1])"
   ]
  },
  {
   "cell_type": "markdown",
   "id": "560ba23c",
   "metadata": {},
   "source": [
    "### In the Above Cell we can see we have used different flags to store the Image with different set of features etc.\n",
    "# ***BeCareful to use same flags with same Extensions\n",
    "\n",
    "## We can CONVERT IMAGE from one extension to another by reading the Image in the original extension and then writing in the extension we want"
   ]
  },
  {
   "cell_type": "markdown",
   "id": "6a1df671",
   "metadata": {},
   "source": [
    "# ---------------------------------------------------------------------------------------------------------------"
   ]
  }
 ],
 "metadata": {
  "kernelspec": {
   "display_name": "Python 3 (ipykernel)",
   "language": "python",
   "name": "python3"
  },
  "language_info": {
   "codemirror_mode": {
    "name": "ipython",
    "version": 3
   },
   "file_extension": ".py",
   "mimetype": "text/x-python",
   "name": "python",
   "nbconvert_exporter": "python",
   "pygments_lexer": "ipython3",
   "version": "3.11.5"
  }
 },
 "nbformat": 4,
 "nbformat_minor": 5
}
