{
 "cells": [
  {
   "cell_type": "code",
   "execution_count": 21,
   "id": "3a1096df",
   "metadata": {},
   "outputs": [],
   "source": [
    "import skimage as ski\n",
    "import cv2\n",
    "import numpy as np"
   ]
  },
  {
   "cell_type": "code",
   "execution_count": 2,
   "id": "d6e5c32f",
   "metadata": {},
   "outputs": [],
   "source": [
    "tw1 = cv2.imread(r\"E:\\PyImage_ComputerVision\\OpenCVBasic\\WorkingData\\InputData\\tower.png\")\n",
    "ref = cv2.imread(r\"E:\\PyImage_ComputerVision\\OpenCVBasic\\WorkingData\\InputData\\tower_sunset.png\")"
   ]
  },
  {
   "cell_type": "code",
   "execution_count": 3,
   "id": "b5c0f8e2",
   "metadata": {},
   "outputs": [],
   "source": [
    "cv2.imshow(\"Tower\",tw1)\n",
    "cv2.imshow(\"Refrence Image\",ref)\n",
    "cv2.waitKey(0)\n",
    "cv2.destroyAllWindows()"
   ]
  },
  {
   "cell_type": "code",
   "execution_count": 6,
   "id": "092ada0d",
   "metadata": {},
   "outputs": [],
   "source": [
    "twmtch = ski.exposure.match_histograms(tw1,ref,channel_axis=2)"
   ]
  },
  {
   "cell_type": "code",
   "execution_count": 7,
   "id": "d12899de",
   "metadata": {},
   "outputs": [],
   "source": [
    "cv2.imshow(\"Tower\",tw1)\n",
    "cv2.imshow(\"Refrence Image\",ref)\n",
    "cv2.imshow(\"matched Image\",twmtch)\n",
    "cv2.waitKey(0)\n",
    "cv2.destroyAllWindows()"
   ]
  },
  {
   "cell_type": "code",
   "execution_count": 8,
   "id": "33788c76",
   "metadata": {},
   "outputs": [
    {
     "data": {
      "text/plain": [
       "(500, 375, 3)"
      ]
     },
     "execution_count": 8,
     "metadata": {},
     "output_type": "execute_result"
    }
   ],
   "source": [
    "tw1.shape"
   ]
  },
  {
   "cell_type": "code",
   "execution_count": 9,
   "id": "bd690e29",
   "metadata": {},
   "outputs": [
    {
     "data": {
      "text/plain": [
       "(500, 308, 3)"
      ]
     },
     "execution_count": 9,
     "metadata": {},
     "output_type": "execute_result"
    }
   ],
   "source": [
    "ref.shape"
   ]
  },
  {
   "cell_type": "code",
   "execution_count": null,
   "id": "b56f338d",
   "metadata": {},
   "outputs": [],
   "source": []
  },
  {
   "cell_type": "code",
   "execution_count": 10,
   "id": "5b1e14ab",
   "metadata": {},
   "outputs": [],
   "source": [
    "car = cv2.imread(r\"E:\\PyImage_ComputerVision\\OpenCVBasic\\WorkingData\\InputData\\car.png\")"
   ]
  },
  {
   "cell_type": "code",
   "execution_count": 11,
   "id": "64f1c9f3",
   "metadata": {},
   "outputs": [],
   "source": [
    "carmtch= ski.exposure.match_histograms(car,ref,channel_axis=-1)"
   ]
  },
  {
   "cell_type": "code",
   "execution_count": 12,
   "id": "3c9968ac",
   "metadata": {},
   "outputs": [],
   "source": [
    "cv2.imshow(\"Car Image\",car)\n",
    "cv2.imshow(\"Refrence Image\",ref)\n",
    "cv2.imshow(\"Car Matched\",carmtch)\n",
    "cv2.waitKey(0)\n",
    "cv2.destroyAllWindows()"
   ]
  },
  {
   "cell_type": "code",
   "execution_count": 13,
   "id": "5fcc41c9",
   "metadata": {},
   "outputs": [],
   "source": [
    "blk = cv2.imread(r\"E:\\PyImage_ComputerVision\\OpenCVBasic\\WorkingData\\InputData\\BigBin.png\")"
   ]
  },
  {
   "cell_type": "code",
   "execution_count": 17,
   "id": "7e1e56da",
   "metadata": {},
   "outputs": [],
   "source": [
    "twblk = ski.exposure.match_histograms(tw1,blk,channel_axis=-1)"
   ]
  },
  {
   "cell_type": "code",
   "execution_count": 15,
   "id": "8cd55a7b",
   "metadata": {},
   "outputs": [],
   "source": [
    "cv2.imshow(\"Tower\",tw1)\n",
    "cv2.imshow(\"refrence\",blk)\n",
    "cv2.imshow(\"Car Matched\",carblk)\n",
    "cv2.waitKey(0)\n",
    "cv2.destroyAllWindows()"
   ]
  },
  {
   "cell_type": "code",
   "execution_count": 16,
   "id": "7a6f7348",
   "metadata": {},
   "outputs": [],
   "source": [
    "bklres = cv2.resize(blk,(300,300))"
   ]
  },
  {
   "cell_type": "code",
   "execution_count": 19,
   "id": "6f914860",
   "metadata": {},
   "outputs": [],
   "source": [
    "tw1blkres = ski.exposure.match_histograms(tw1,bklres,channel_axis=-1)"
   ]
  },
  {
   "cell_type": "code",
   "execution_count": 20,
   "id": "b39cf025",
   "metadata": {},
   "outputs": [],
   "source": [
    "cv2.imshow(\"Tower\",tw1)\n",
    "cv2.imshow(\"refrence\",blk)\n",
    "cv2.imshow(\"Tower Matched\",carblk)\n",
    "cv2.imshow(\"Tower matched Resized\",tw1blkres)\n",
    "cv2.waitKey(0)\n",
    "cv2.destroyAllWindows()"
   ]
  },
  {
   "cell_type": "code",
   "execution_count": null,
   "id": "752369c0",
   "metadata": {},
   "outputs": [],
   "source": []
  },
  {
   "cell_type": "code",
   "execution_count": 71,
   "id": "db2fa6d2",
   "metadata": {},
   "outputs": [],
   "source": [
    "wht = np.zeros((200,200,3),dtype=np.uint8)"
   ]
  },
  {
   "cell_type": "code",
   "execution_count": 72,
   "id": "eec1a00a",
   "metadata": {},
   "outputs": [],
   "source": [
    "wht[110:,:] = (255,255,255)"
   ]
  },
  {
   "cell_type": "code",
   "execution_count": 73,
   "id": "dff9e6cc",
   "metadata": {},
   "outputs": [],
   "source": [
    "cv2.imshow(\"White\",wht)\n",
    "cv2.waitKey(0)\n",
    "cv2.destroyAllWindows()"
   ]
  },
  {
   "cell_type": "code",
   "execution_count": 74,
   "id": "e0455150",
   "metadata": {},
   "outputs": [],
   "source": [
    "bost = cv2.imread(r\"E:\\PyImage_ComputerVision\\OpenCVBasic\\WorkingData\\InputData\\boston.png\")"
   ]
  },
  {
   "cell_type": "code",
   "execution_count": 75,
   "id": "2813b5c8",
   "metadata": {},
   "outputs": [],
   "source": [
    "bostmtch = ski.exposure.match_histograms(bost,wht,channel_axis=-1)"
   ]
  },
  {
   "cell_type": "code",
   "execution_count": 76,
   "id": "6768a71c",
   "metadata": {},
   "outputs": [],
   "source": [
    "cv2.imshow(\"Boston\",bost)\n",
    "cv2.imshow(\"Boston Matched\",bostmtch)\n",
    "cv2.waitKey(0)\n",
    "cv2.destroyAllWindows()"
   ]
  },
  {
   "cell_type": "code",
   "execution_count": null,
   "id": "ccdb7e78",
   "metadata": {},
   "outputs": [],
   "source": []
  },
  {
   "cell_type": "code",
   "execution_count": null,
   "id": "e5bb6c99",
   "metadata": {},
   "outputs": [],
   "source": []
  },
  {
   "cell_type": "code",
   "execution_count": 79,
   "id": "8d906b3c",
   "metadata": {},
   "outputs": [],
   "source": [
    "apple = cv2.imread(r\"E:\\PyImage_ComputerVision\\OpenCVBasic\\WorkingData\\InputData\\dog.png\")\n",
    "dog = cv2.imread(r\"E:\\PyImage_ComputerVision\\OpenCVBasic\\WorkingData\\InputData\\apple.jpg\")"
   ]
  },
  {
   "cell_type": "code",
   "execution_count": 80,
   "id": "960bbb33",
   "metadata": {},
   "outputs": [],
   "source": [
    "cv2.imshow(\"Apple\",apple)\n",
    "cv2.imshow(\"Dog\",dog)\n",
    "cv2.waitKey(0)\n",
    "cv2.destroyAllWindows()"
   ]
  },
  {
   "cell_type": "code",
   "execution_count": 81,
   "id": "d00d3fcd",
   "metadata": {},
   "outputs": [],
   "source": [
    "dogmtch = ski.exposure.match_histograms(apple,dog,channel_axis=-1)"
   ]
  },
  {
   "cell_type": "code",
   "execution_count": 82,
   "id": "6727b626",
   "metadata": {},
   "outputs": [],
   "source": [
    "cv2.imshow(\"Apple\",apple)\n",
    "cv2.imshow(\"Dog\",dog)\n",
    "cv2.imshow(\"DogMtch\",dogmtch)\n",
    "cv2.waitKey(0)\n",
    "cv2.destroyAllWindows()"
   ]
  },
  {
   "cell_type": "code",
   "execution_count": null,
   "id": "c117c1b3",
   "metadata": {},
   "outputs": [],
   "source": []
  },
  {
   "cell_type": "code",
   "execution_count": 83,
   "id": "45093d8c",
   "metadata": {},
   "outputs": [],
   "source": [
    "wht = np.zeros((300,300,3))"
   ]
  },
  {
   "cell_type": "code",
   "execution_count": 84,
   "id": "ba66ea1d",
   "metadata": {},
   "outputs": [],
   "source": [
    "wht[:,:] = (255,255,255)"
   ]
  },
  {
   "cell_type": "code",
   "execution_count": 85,
   "id": "7910274e",
   "metadata": {},
   "outputs": [],
   "source": [
    "extapl = ski.exposure.match_histograms(wht,apple,channel_axis=-1)"
   ]
  },
  {
   "cell_type": "code",
   "execution_count": 87,
   "id": "95c05f7f",
   "metadata": {},
   "outputs": [],
   "source": [
    "cv2.imshow(\"Apple\",apple)\n",
    "cv2.imshow(\"White\",wht)\n",
    "cv2.imshow(\"Extract\",extapl)\n",
    "cv2.waitKey(0)\n",
    "cv2.destroyAllWindows()"
   ]
  },
  {
   "cell_type": "code",
   "execution_count": null,
   "id": "2583cf6e",
   "metadata": {},
   "outputs": [],
   "source": []
  }
 ],
 "metadata": {
  "kernelspec": {
   "display_name": "Python 3 (ipykernel)",
   "language": "python",
   "name": "python3"
  },
  "language_info": {
   "codemirror_mode": {
    "name": "ipython",
    "version": 3
   },
   "file_extension": ".py",
   "mimetype": "text/x-python",
   "name": "python",
   "nbconvert_exporter": "python",
   "pygments_lexer": "ipython3",
   "version": "3.11.4"
  }
 },
 "nbformat": 4,
 "nbformat_minor": 5
}
