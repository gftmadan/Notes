{
 "cells": [
  {
   "cell_type": "code",
   "execution_count": 1,
   "id": "723113d9-272e-4e6a-8447-76fbafb0742b",
   "metadata": {},
   "outputs": [],
   "source": [
    "import cv2\n",
    "import numpy as np\n",
    "from scipy.spatial import distance as dist"
   ]
  },
  {
   "cell_type": "code",
   "execution_count": 45,
   "id": "fdcee6ba-1a12-4c34-80b8-06e6e130c7ea",
   "metadata": {},
   "outputs": [],
   "source": [
    "size1 = cv2.imread(r\"E:\\PyImage_ComputerVision\\OpenCVBasic\\WorkingData\\InputData\\Size1.png\")\n",
    "size2 = cv2.imread(r\"E:\\PyImage_ComputerVision\\OpenCVBasic\\WorkingData\\InputData\\Size2.png\")\n",
    "size3 = cv2.imread(r\"E:\\PyImage_ComputerVision\\OpenCVBasic\\WorkingData\\InputData\\Size3.png\")"
   ]
  },
  {
   "cell_type": "code",
   "execution_count": 3,
   "id": "cad74f00-91e5-4106-a974-4a9eb6c7ad9b",
   "metadata": {},
   "outputs": [
    {
     "data": {
      "text/plain": [
       "(415, 600, 3)"
      ]
     },
     "execution_count": 3,
     "metadata": {},
     "output_type": "execute_result"
    }
   ],
   "source": [
    "size1.shape"
   ]
  },
  {
   "cell_type": "code",
   "execution_count": 4,
   "id": "4ea17ea0-cc53-45aa-aef7-9df0b682f1fe",
   "metadata": {},
   "outputs": [
    {
     "data": {
      "text/plain": [
       "(600, 800, 3)"
      ]
     },
     "execution_count": 4,
     "metadata": {},
     "output_type": "execute_result"
    }
   ],
   "source": [
    "size2.shape"
   ]
  },
  {
   "cell_type": "code",
   "execution_count": 5,
   "id": "a10ffe65-bcfd-4063-ad35-9a355af3965e",
   "metadata": {},
   "outputs": [
    {
     "data": {
      "text/plain": [
       "(450, 600, 3)"
      ]
     },
     "execution_count": 5,
     "metadata": {},
     "output_type": "execute_result"
    }
   ],
   "source": [
    "size3.shape"
   ]
  },
  {
   "cell_type": "code",
   "execution_count": 6,
   "id": "5973d66d-09af-4b76-bdff-4afaa3a05cb9",
   "metadata": {},
   "outputs": [],
   "source": [
    "cv2.imshow(\"Size1\",size1)\n",
    "cv2.imshow(\"Size2\",size2)\n",
    "cv2.imshow(\"Size3\",size3)\n",
    "cv2.waitKey(0)\n",
    "cv2.destroyAllWindows()"
   ]
  },
  {
   "cell_type": "code",
   "execution_count": null,
   "id": "e7330e8e-6c72-422b-b0ea-7c2c6ebb0b8e",
   "metadata": {},
   "outputs": [],
   "source": []
  },
  {
   "cell_type": "code",
   "execution_count": null,
   "id": "44414a16-5f66-4cb4-a070-4e343d6ca5ff",
   "metadata": {},
   "outputs": [],
   "source": []
  },
  {
   "cell_type": "code",
   "execution_count": 11,
   "id": "53296158-9963-4610-b861-c1445da6ef4d",
   "metadata": {},
   "outputs": [],
   "source": [
    "def sort_contours(cnts, method=\"left-to-right\"):\n",
    "    # initialize the reverse flag and sort index\n",
    "    reverse = False\n",
    "    i = 0\n",
    "\n",
    "    # handle if we need to sort in reverse\n",
    "    if method == \"right-to-left\" or method == \"bottom-to-top\":\n",
    "        reverse = True\n",
    "\n",
    "    # handle if we are sorting against the y-coordinate rather than\n",
    "    # the x-coordinate of the bounding box\n",
    "    if method == \"top-to-bottom\" or method == \"bottom-to-top\":\n",
    "        i = 1\n",
    "\n",
    "    # construct the list of bounding boxes and sort them from top to\n",
    "    # bottom\n",
    "    boundingBoxes = [cv2.boundingRect(c) for c in cnts]\n",
    "    (cnts, boundingBoxes) = zip(*sorted(zip(cnts, boundingBoxes),\n",
    "                                        key=lambda b: b[1][i], reverse=reverse))\n",
    "\n",
    "    # return the list of sorted contours and bounding boxes\n",
    "    return cnts, boundingBoxes"
   ]
  },
  {
   "cell_type": "code",
   "execution_count": 13,
   "id": "cc8dbe2a-66e3-482c-8288-9e7dbc0c00e2",
   "metadata": {},
   "outputs": [],
   "source": [
    "def order_points(pts):\n",
    "    # sort the points based on their x-coordinates\n",
    "    xSorted = pts[np.argsort(pts[:, 0]), :]\n",
    "\n",
    "    # grab the left-most and right-most points from the sorted\n",
    "    # x-roodinate points\n",
    "    leftMost = xSorted[:2, :]\n",
    "    rightMost = xSorted[2:, :]\n",
    "\n",
    "    # now, sort the left-most coordinates according to their\n",
    "    # y-coordinates so we can grab the top-left and bottom-left\n",
    "    # points, respectively\n",
    "    leftMost = leftMost[np.argsort(leftMost[:, 1]), :]\n",
    "    (tl, bl) = leftMost\n",
    "\n",
    "    # now that we have the top-left coordinate, use it as an\n",
    "    # anchor to calculate the Euclidean distance between the\n",
    "    # top-left and right-most points; by the Pythagorean\n",
    "    # theorem, the point with the largest distance will be\n",
    "    # our bottom-right point\n",
    "    D = dist.cdist(tl[np.newaxis], rightMost, \"euclidean\")[0]\n",
    "    (br, tr) = rightMost[np.argsort(D)[::-1], :]\n",
    "\n",
    "    # return the coordinates in top-left, top-right,\n",
    "    # bottom-right, and bottom-left order\n",
    "    return np.array([tl, tr, br, bl], dtype=np.int32)"
   ]
  },
  {
   "cell_type": "code",
   "execution_count": 21,
   "id": "949de1dc-7ba8-40a5-b6d9-67c2622ba4f0",
   "metadata": {},
   "outputs": [],
   "source": [
    "def midpoint(pt1,pt2):\n",
    "    return int((pt1[0]+pt2[0])//2),int((pt1[1]+pt2[1])//2)"
   ]
  },
  {
   "cell_type": "code",
   "execution_count": 46,
   "id": "18fe2d1b-8a13-4da4-bc3b-48c237f4e292",
   "metadata": {},
   "outputs": [
    {
     "name": "stdout",
     "output_type": "stream",
     "text": [
      "[ 42 190]\n",
      "[ 90 190]\n",
      "[ 90 236]\n",
      "[ 42 236]\n",
      "[171  94]\n",
      "[342  59]\n",
      "[362 157]\n",
      "[192 192]\n",
      "[348 183]\n",
      "[395 183]\n",
      "[395 229]\n",
      "[348 229]\n",
      "[377 258]\n",
      "[489 237]\n",
      "[512 363]\n",
      "[400 383]\n",
      "[450  42]\n",
      "[553  92]\n",
      "[495 211]\n",
      "[392 161]\n",
      "[520 197]\n",
      "[549 226]\n",
      "[520 255]\n",
      "[491 226]\n"
     ]
    }
   ],
   "source": [
    "img = size1.copy()\n",
    "img = cv2.cvtColor(img,cv2.COLOR_BGR2GRAY)\n",
    "img = cv2.GaussianBlur(img,(7,7),0)\n",
    "img = cv2.Canny(img,50,100)\n",
    "img = cv2.dilate(img,None,iterations=1)\n",
    "img = cv2.erode(img,None,iterations=1)\n",
    "cnts = cv2.findContours(img,cv2.RETR_EXTERNAL,cv2.CHAIN_APPROX_SIMPLE)[0]\n",
    "cnts,_ = sort_contours(cnts)\n",
    "out_cn = size1.copy()\n",
    "out_rc = size1.copy()\n",
    "for c in cnts:\n",
    "    if cv2.contourArea(c) < 100:\n",
    "        continue\n",
    "    box = cv2.minAreaRect(c)\n",
    "    box = cv2.boxPoints(box)\n",
    "    box = np.array(box,dtype=np.int16)\n",
    "    box = order_points(box)\n",
    "    for pt in box:\n",
    "        print(pt)\n",
    "        cv2.circle(out_cn,pt,2,(0,255,0),-1)\n",
    "        cv2.circle(out_rc,pt,2,(0,255,0),-1)\n",
    "        cv2.imshow(\"Out CN\",out_cn)\n",
    "        cv2.imshow(\"Out RC\",out_rc)\n",
    "        cv2.waitKey(0)\n",
    "        cv2.destroyAllWindows()\n",
    "    cv2.drawContours(out_cn,[box],-1,(255,0,0),2)\n",
    "    cv2.rectangle(out_rc,box[0],box[2],(255,0,0),2)\n",
    "    cv2.imshow(\"Out CN\",out_cn)\n",
    "    cv2.imshow(\"OUT RC\",out_rc)\n",
    "    cv2.waitKey(0)\n",
    "    cv2.destroyAllWindows()"
   ]
  },
  {
   "cell_type": "code",
   "execution_count": 70,
   "id": "b7c6c6cb-5331-4572-8eaa-7baf0c52fde1",
   "metadata": {},
   "outputs": [
    {
     "name": "stdout",
     "output_type": "stream",
     "text": [
      "50.261780104712045\n",
      "0.955 0.9152083333333333\n",
      "3.462975384863071 1.9919942423964108\n",
      "0.9351041666666666 0.9152083333333333\n",
      "2.265352723701569 2.538512641850381\n",
      "2.277964312367544 2.6338506649175852\n",
      "0.8159717627067263 0.8159717627067263\n"
     ]
    }
   ],
   "source": [
    "img = size1.copy()\n",
    "img = cv2.cvtColor(img,cv2.COLOR_BGR2GRAY)\n",
    "img = cv2.GaussianBlur(img,(7,7),0)\n",
    "img = cv2.Canny(img,50,100)\n",
    "img = cv2.dilate(img,None,iterations=1)\n",
    "img = cv2.erode(img,None,iterations=1)\n",
    "cnts = cv2.findContours(img,cv2.RETR_EXTERNAL,cv2.CHAIN_APPROX_SIMPLE)[0]\n",
    "cnts,_ = sort_contours(cnts)\n",
    "out = size1.copy()\n",
    "PMMI = None\n",
    "for c in cnts:\n",
    "    if cv2.contourArea(c) < 100:\n",
    "        continue\n",
    "    box = cv2.minAreaRect(c)\n",
    "    box = cv2.boxPoints(box)\n",
    "    box = np.array(box,dtype=\"int\")\n",
    "    box = order_points(box)\n",
    "    tl,tr,br,bl = box\n",
    "    \n",
    "    h1 = midpoint(tl,tr) #h1\n",
    "    h2 = midpoint(bl,br) #h2\n",
    "\n",
    "    w1 = midpoint(tl,bl) #w1\n",
    "    w2 = midpoint(tr,br) #w2\n",
    "\n",
    "    width = dist.euclidean(w1,w2)\n",
    "    height = dist.euclidean(h1,h2)\n",
    "\n",
    "    if PMMI is None:\n",
    "        PMMI = width/0.955\n",
    "        print(PMMI)\n",
    "    \n",
    "    width = width/PMMI\n",
    "    height = height / PMMI\n",
    "    print(width,height)\n",
    "    '''cv2.putText(out,f\"{round(width,2)}\",(mdwt[0],mdwt[1]-10),0,1,(0,0,255))\n",
    "    cv2.imshow(\"out\",out)\n",
    "    cv2.waitKey(0)\n",
    "    cv2.destroyAllWindows()\n",
    "    cv2.putText(out,f\"{round(height,2)}\",(mdhr[0]+10,mdhr[1]),0,1,(0,0,255))\n",
    "    cv2.imshow(\"out\",out)\n",
    "    cv2.waitKey(0)\n",
    "    cv2.destroyAllWindows()'''"
   ]
  },
  {
   "cell_type": "code",
   "execution_count": 69,
   "id": "860632e1-edbf-4dab-abf7-26951ecbad24",
   "metadata": {},
   "outputs": [
    {
     "name": "stdout",
     "output_type": "stream",
     "text": [
      "50.261780104712045\n",
      "0.955 0.9152083333333333\n",
      "3.462975384863071 1.9919942423964108\n",
      "0.9351041666666666 0.9152083333333333\n",
      "2.265352723701569 2.538512641850381\n",
      "2.277964312367544 2.6338506649175852\n",
      "0.8159717627067263 0.8159717627067263\n"
     ]
    },
    {
     "data": {
      "text/plain": [
       "'cv2.putText(orig, \"{:.1f}in\".format(dimA),\\n\\t\\t(int(tltrX - 15), int(tltrY - 10)), cv2.FONT_HERSHEY_SIMPLEX,\\n\\t\\t0.65, (255, 255, 255), 2)\\n\\tcv2.putText(orig, \"{:.1f}in\".format(dimB),\\n\\t\\t(int(trbrX + 10), int(trbrY)), cv2.FONT_HERSHEY_SIMPLEX,\\n\\t\\t0.65, (255, 255, 255), 2)\\n\\n\\t# show the output image\\n\\tcv2.imshow(\"Image\", orig)\\n\\tcv2.waitKey(0)'"
      ]
     },
     "execution_count": 69,
     "metadata": {},
     "output_type": "execute_result"
    }
   ],
   "source": [
    "# USAGE\n",
    "# python object_size.py --image images/example_01.png --width 0.955\n",
    "# python object_size.py --image images/example_02.png --width 0.955\n",
    "# python object_size.py --image images/example_03.png --width 3.5\n",
    "\n",
    "# import the necessary packages\n",
    "from scipy.spatial import distance as dist\n",
    "\n",
    "import numpy as np\n",
    "import argparse\n",
    "import cv2\n",
    "\n",
    "def midpoint(ptA, ptB):\n",
    "    return ((ptA[0] + ptB[0]) * 0.5, (ptA[1] + ptB[1]) * 0.5)\n",
    "\n",
    "image = size1.copy()\n",
    "gray = cv2.cvtColor(image, cv2.COLOR_BGR2GRAY)\n",
    "gray = cv2.GaussianBlur(gray, (7, 7), 0)\n",
    "\n",
    "# perform edge detection, then perform a dilation + erosion to\n",
    "# close gaps in between object edges\n",
    "edged = cv2.Canny(gray, 50, 100)\n",
    "edged = cv2.dilate(edged, None, iterations=1)\n",
    "edged = cv2.erode(edged, None, iterations=1)\n",
    "\n",
    "# find contours in the edge map\n",
    "cnts = cv2.findContours(edged.copy(), cv2.RETR_EXTERNAL,cv2.CHAIN_APPROX_SIMPLE)\n",
    "cnts = cnts[0]\n",
    "\n",
    "# sort the contours from left-to-right and initialize the\n",
    "# 'pixels per metric' calibration variable\n",
    "(cnts, _) = sort_contours(cnts)\n",
    "pixelsPerMetric = None\n",
    "\n",
    "# loop over the contours individually\n",
    "for c in cnts:\n",
    "\t# if the contour is not sufficiently large, ignore it\n",
    "    if cv2.contourArea(c) < 100:\n",
    "        continue\n",
    "\n",
    "\t# compute the rotated bounding box of the contour\n",
    "    orig = image.copy()\n",
    "    box = cv2.minAreaRect(c)\n",
    "    box = cv2.boxPoints(box)\n",
    "    box = np.array(box, dtype=\"int\")\n",
    "\n",
    "\t# order the points in the contour such that they appear\n",
    "\t# in top-left, top-right, bottom-right, and bottom-left\n",
    "\t# order, then draw the outline of the rotated bounding\n",
    "\t# box\n",
    "    box = order_points(box)\n",
    "\t# unpack the ordered bounding box, then compute the midpoint\n",
    "\t# between the top-left and top-right coordinates, followed by\n",
    "\t# the midpoint between bottom-left and bottom-right coordinates\n",
    "    (tl, tr, br, bl) = box\n",
    "    (tltrX, tltrY) = midpoint(tl, tr) #h1\n",
    "    (blbrX, blbrY) = midpoint(bl, br) #h2\n",
    "\n",
    "\t# compute the midpoint between the top-left and top-right points,\n",
    "\t# followed by the midpoint between the top-righ and bottom-right\n",
    "    (tlblX, tlblY) = midpoint(tl, bl) #w1\n",
    "    (trbrX, trbrY) = midpoint(tr, br) #w2\n",
    "\n",
    "\n",
    "\t# compute the Euclidean distance between the midpoints\n",
    "    dA = dist.euclidean((tltrX, tltrY), (blbrX, blbrY)) ##Hieght\n",
    "    dB = dist.euclidean((tlblX, tlblY), (trbrX, trbrY)) ##Width\n",
    "\t# if the pixels per metric has not been initialized, then\n",
    "\t# compute it as the ratio of pixels to supplied metric\n",
    "\t# (in this case, inches)\n",
    "    if pixelsPerMetric is None:\n",
    "        pixelsPerMetric = dB / 0.955\n",
    "        print(pixelsPerMetric)\n",
    "\t# compute the size of the object\n",
    "    dimA = dA / pixelsPerMetric\n",
    "    dimB = dB / pixelsPerMetric\n",
    "    print(dimB,dimA)\n",
    "# draw the object sizes on the image\n",
    "'''cv2.putText(orig, \"{:.1f}in\".format(dimA),\n",
    "\t\t(int(tltrX - 15), int(tltrY - 10)), cv2.FONT_HERSHEY_SIMPLEX,\n",
    "\t\t0.65, (255, 255, 255), 2)\n",
    "\tcv2.putText(orig, \"{:.1f}in\".format(dimB),\n",
    "\t\t(int(trbrX + 10), int(trbrY)), cv2.FONT_HERSHEY_SIMPLEX,\n",
    "\t\t0.65, (255, 255, 255), 2)\n",
    "\n",
    "\t# show the output image\n",
    "\tcv2.imshow(\"Image\", orig)\n",
    "\tcv2.waitKey(0)'''"
   ]
  },
  {
   "cell_type": "code",
   "execution_count": null,
   "id": "4a6e3162-39d7-4177-b72a-3c418c8b253c",
   "metadata": {},
   "outputs": [],
   "source": []
  }
 ],
 "metadata": {
  "kernelspec": {
   "display_name": "Python 3 (ipykernel)",
   "language": "python",
   "name": "python3"
  },
  "language_info": {
   "codemirror_mode": {
    "name": "ipython",
    "version": 3
   },
   "file_extension": ".py",
   "mimetype": "text/x-python",
   "name": "python",
   "nbconvert_exporter": "python",
   "pygments_lexer": "ipython3",
   "version": "3.11.5"
  }
 },
 "nbformat": 4,
 "nbformat_minor": 5
}
