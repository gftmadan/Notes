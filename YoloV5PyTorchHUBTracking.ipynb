{
 "cells": [
  {
   "cell_type": "code",
   "execution_count": 22,
   "id": "9d481728-de72-453f-bcd5-c446c18befa8",
   "metadata": {},
   "outputs": [],
   "source": [
    "import torch as th\n",
    "import numpy as np\n",
    "import torchvision\n",
    "import cv2\n",
    "import math"
   ]
  },
  {
   "cell_type": "code",
   "execution_count": 2,
   "id": "584421c1-be1a-4473-b712-e3cac4ba5b71",
   "metadata": {},
   "outputs": [
    {
     "data": {
      "text/plain": [
       "True"
      ]
     },
     "execution_count": 2,
     "metadata": {},
     "output_type": "execute_result"
    }
   ],
   "source": [
    "th.cuda.is_available()"
   ]
  },
  {
   "cell_type": "code",
   "execution_count": 3,
   "id": "65b7f871-75d3-4b80-886c-1ba65c61ffe2",
   "metadata": {},
   "outputs": [
    {
     "data": {
      "text/plain": [
       "'0.16.2+cu121'"
      ]
     },
     "execution_count": 3,
     "metadata": {},
     "output_type": "execute_result"
    }
   ],
   "source": [
    "torchvision.__version__"
   ]
  },
  {
   "cell_type": "code",
   "execution_count": 4,
   "id": "28e811c0-14aa-499f-9671-9310eb8d5b70",
   "metadata": {},
   "outputs": [],
   "source": [
    "dev = th.device(0)"
   ]
  },
  {
   "cell_type": "code",
   "execution_count": 5,
   "id": "f2762ab5-cdf9-4689-b7f1-6166cb0a0cfd",
   "metadata": {},
   "outputs": [
    {
     "data": {
      "text/plain": [
       "device(type='cuda', index=0)"
      ]
     },
     "execution_count": 5,
     "metadata": {},
     "output_type": "execute_result"
    }
   ],
   "source": [
    "dev"
   ]
  },
  {
   "cell_type": "code",
   "execution_count": 6,
   "id": "ae8156a1-0311-48a7-9540-3c16c2d1d029",
   "metadata": {},
   "outputs": [
    {
     "name": "stdout",
     "output_type": "stream",
     "text": [
      "tensor([0], device='cuda:0')\n"
     ]
    }
   ],
   "source": [
    "import torch\n",
    "import torchvision\n",
    "\n",
    "device = 'cuda'\n",
    "boxes = torch.tensor([[0., 1., 2., 3.]]).to(device)\n",
    "scores = torch.randn(1).to(device)\n",
    "iou_thresholds = 0.5\n",
    "\n",
    "print(torchvision.ops.nms(boxes, scores, iou_thresholds))"
   ]
  },
  {
   "cell_type": "code",
   "execution_count": 7,
   "id": "7b24cf38-e712-473b-b42e-559445de594f",
   "metadata": {},
   "outputs": [
    {
     "name": "stderr",
     "output_type": "stream",
     "text": [
      "Using cache found in C:\\Users\\pc/.cache\\torch\\hub\\ultralytics_yolov5_master\n",
      "YOLOv5  2023-12-30 Python-3.11.5 torch-2.1.2+cu121 CUDA:0 (NVIDIA GeForce RTX 2060 SUPER, 8192MiB)\n",
      "\n",
      "Fusing layers... \n",
      "YOLOv5s summary: 213 layers, 7225885 parameters, 0 gradients, 16.4 GFLOPs\n",
      "Adding AutoShape... \n"
     ]
    }
   ],
   "source": [
    "yolov5s = th.hub.load(\"ultralytics/yolov5\",\"yolov5s\",pretrained=True)"
   ]
  },
  {
   "cell_type": "code",
   "execution_count": 8,
   "id": "492fb28b-e964-4a39-9b18-f2a333ab8041",
   "metadata": {},
   "outputs": [
    {
     "data": {
      "text/plain": [
       "True"
      ]
     },
     "execution_count": 8,
     "metadata": {},
     "output_type": "execute_result"
    }
   ],
   "source": [
    "next(yolov5s.parameters()).is_cuda"
   ]
  },
  {
   "cell_type": "code",
   "execution_count": 9,
   "id": "1ccb8c49-cb51-4725-b93b-922367509934",
   "metadata": {},
   "outputs": [
    {
     "data": {
      "text/plain": [
       "AutoShape(\n",
       "  (model): DetectMultiBackend(\n",
       "    (model): DetectionModel(\n",
       "      (model): Sequential(\n",
       "        (0): Conv(\n",
       "          (conv): Conv2d(3, 32, kernel_size=(6, 6), stride=(2, 2), padding=(2, 2))\n",
       "          (act): SiLU(inplace=True)\n",
       "        )\n",
       "        (1): Conv(\n",
       "          (conv): Conv2d(32, 64, kernel_size=(3, 3), stride=(2, 2), padding=(1, 1))\n",
       "          (act): SiLU(inplace=True)\n",
       "        )\n",
       "        (2): C3(\n",
       "          (cv1): Conv(\n",
       "            (conv): Conv2d(64, 32, kernel_size=(1, 1), stride=(1, 1))\n",
       "            (act): SiLU(inplace=True)\n",
       "          )\n",
       "          (cv2): Conv(\n",
       "            (conv): Conv2d(64, 32, kernel_size=(1, 1), stride=(1, 1))\n",
       "            (act): SiLU(inplace=True)\n",
       "          )\n",
       "          (cv3): Conv(\n",
       "            (conv): Conv2d(64, 64, kernel_size=(1, 1), stride=(1, 1))\n",
       "            (act): SiLU(inplace=True)\n",
       "          )\n",
       "          (m): Sequential(\n",
       "            (0): Bottleneck(\n",
       "              (cv1): Conv(\n",
       "                (conv): Conv2d(32, 32, kernel_size=(1, 1), stride=(1, 1))\n",
       "                (act): SiLU(inplace=True)\n",
       "              )\n",
       "              (cv2): Conv(\n",
       "                (conv): Conv2d(32, 32, kernel_size=(3, 3), stride=(1, 1), padding=(1, 1))\n",
       "                (act): SiLU(inplace=True)\n",
       "              )\n",
       "            )\n",
       "          )\n",
       "        )\n",
       "        (3): Conv(\n",
       "          (conv): Conv2d(64, 128, kernel_size=(3, 3), stride=(2, 2), padding=(1, 1))\n",
       "          (act): SiLU(inplace=True)\n",
       "        )\n",
       "        (4): C3(\n",
       "          (cv1): Conv(\n",
       "            (conv): Conv2d(128, 64, kernel_size=(1, 1), stride=(1, 1))\n",
       "            (act): SiLU(inplace=True)\n",
       "          )\n",
       "          (cv2): Conv(\n",
       "            (conv): Conv2d(128, 64, kernel_size=(1, 1), stride=(1, 1))\n",
       "            (act): SiLU(inplace=True)\n",
       "          )\n",
       "          (cv3): Conv(\n",
       "            (conv): Conv2d(128, 128, kernel_size=(1, 1), stride=(1, 1))\n",
       "            (act): SiLU(inplace=True)\n",
       "          )\n",
       "          (m): Sequential(\n",
       "            (0): Bottleneck(\n",
       "              (cv1): Conv(\n",
       "                (conv): Conv2d(64, 64, kernel_size=(1, 1), stride=(1, 1))\n",
       "                (act): SiLU(inplace=True)\n",
       "              )\n",
       "              (cv2): Conv(\n",
       "                (conv): Conv2d(64, 64, kernel_size=(3, 3), stride=(1, 1), padding=(1, 1))\n",
       "                (act): SiLU(inplace=True)\n",
       "              )\n",
       "            )\n",
       "            (1): Bottleneck(\n",
       "              (cv1): Conv(\n",
       "                (conv): Conv2d(64, 64, kernel_size=(1, 1), stride=(1, 1))\n",
       "                (act): SiLU(inplace=True)\n",
       "              )\n",
       "              (cv2): Conv(\n",
       "                (conv): Conv2d(64, 64, kernel_size=(3, 3), stride=(1, 1), padding=(1, 1))\n",
       "                (act): SiLU(inplace=True)\n",
       "              )\n",
       "            )\n",
       "          )\n",
       "        )\n",
       "        (5): Conv(\n",
       "          (conv): Conv2d(128, 256, kernel_size=(3, 3), stride=(2, 2), padding=(1, 1))\n",
       "          (act): SiLU(inplace=True)\n",
       "        )\n",
       "        (6): C3(\n",
       "          (cv1): Conv(\n",
       "            (conv): Conv2d(256, 128, kernel_size=(1, 1), stride=(1, 1))\n",
       "            (act): SiLU(inplace=True)\n",
       "          )\n",
       "          (cv2): Conv(\n",
       "            (conv): Conv2d(256, 128, kernel_size=(1, 1), stride=(1, 1))\n",
       "            (act): SiLU(inplace=True)\n",
       "          )\n",
       "          (cv3): Conv(\n",
       "            (conv): Conv2d(256, 256, kernel_size=(1, 1), stride=(1, 1))\n",
       "            (act): SiLU(inplace=True)\n",
       "          )\n",
       "          (m): Sequential(\n",
       "            (0): Bottleneck(\n",
       "              (cv1): Conv(\n",
       "                (conv): Conv2d(128, 128, kernel_size=(1, 1), stride=(1, 1))\n",
       "                (act): SiLU(inplace=True)\n",
       "              )\n",
       "              (cv2): Conv(\n",
       "                (conv): Conv2d(128, 128, kernel_size=(3, 3), stride=(1, 1), padding=(1, 1))\n",
       "                (act): SiLU(inplace=True)\n",
       "              )\n",
       "            )\n",
       "            (1): Bottleneck(\n",
       "              (cv1): Conv(\n",
       "                (conv): Conv2d(128, 128, kernel_size=(1, 1), stride=(1, 1))\n",
       "                (act): SiLU(inplace=True)\n",
       "              )\n",
       "              (cv2): Conv(\n",
       "                (conv): Conv2d(128, 128, kernel_size=(3, 3), stride=(1, 1), padding=(1, 1))\n",
       "                (act): SiLU(inplace=True)\n",
       "              )\n",
       "            )\n",
       "            (2): Bottleneck(\n",
       "              (cv1): Conv(\n",
       "                (conv): Conv2d(128, 128, kernel_size=(1, 1), stride=(1, 1))\n",
       "                (act): SiLU(inplace=True)\n",
       "              )\n",
       "              (cv2): Conv(\n",
       "                (conv): Conv2d(128, 128, kernel_size=(3, 3), stride=(1, 1), padding=(1, 1))\n",
       "                (act): SiLU(inplace=True)\n",
       "              )\n",
       "            )\n",
       "          )\n",
       "        )\n",
       "        (7): Conv(\n",
       "          (conv): Conv2d(256, 512, kernel_size=(3, 3), stride=(2, 2), padding=(1, 1))\n",
       "          (act): SiLU(inplace=True)\n",
       "        )\n",
       "        (8): C3(\n",
       "          (cv1): Conv(\n",
       "            (conv): Conv2d(512, 256, kernel_size=(1, 1), stride=(1, 1))\n",
       "            (act): SiLU(inplace=True)\n",
       "          )\n",
       "          (cv2): Conv(\n",
       "            (conv): Conv2d(512, 256, kernel_size=(1, 1), stride=(1, 1))\n",
       "            (act): SiLU(inplace=True)\n",
       "          )\n",
       "          (cv3): Conv(\n",
       "            (conv): Conv2d(512, 512, kernel_size=(1, 1), stride=(1, 1))\n",
       "            (act): SiLU(inplace=True)\n",
       "          )\n",
       "          (m): Sequential(\n",
       "            (0): Bottleneck(\n",
       "              (cv1): Conv(\n",
       "                (conv): Conv2d(256, 256, kernel_size=(1, 1), stride=(1, 1))\n",
       "                (act): SiLU(inplace=True)\n",
       "              )\n",
       "              (cv2): Conv(\n",
       "                (conv): Conv2d(256, 256, kernel_size=(3, 3), stride=(1, 1), padding=(1, 1))\n",
       "                (act): SiLU(inplace=True)\n",
       "              )\n",
       "            )\n",
       "          )\n",
       "        )\n",
       "        (9): SPPF(\n",
       "          (cv1): Conv(\n",
       "            (conv): Conv2d(512, 256, kernel_size=(1, 1), stride=(1, 1))\n",
       "            (act): SiLU(inplace=True)\n",
       "          )\n",
       "          (cv2): Conv(\n",
       "            (conv): Conv2d(1024, 512, kernel_size=(1, 1), stride=(1, 1))\n",
       "            (act): SiLU(inplace=True)\n",
       "          )\n",
       "          (m): MaxPool2d(kernel_size=5, stride=1, padding=2, dilation=1, ceil_mode=False)\n",
       "        )\n",
       "        (10): Conv(\n",
       "          (conv): Conv2d(512, 256, kernel_size=(1, 1), stride=(1, 1))\n",
       "          (act): SiLU(inplace=True)\n",
       "        )\n",
       "        (11): Upsample(scale_factor=2.0, mode='nearest')\n",
       "        (12): Concat()\n",
       "        (13): C3(\n",
       "          (cv1): Conv(\n",
       "            (conv): Conv2d(512, 128, kernel_size=(1, 1), stride=(1, 1))\n",
       "            (act): SiLU(inplace=True)\n",
       "          )\n",
       "          (cv2): Conv(\n",
       "            (conv): Conv2d(512, 128, kernel_size=(1, 1), stride=(1, 1))\n",
       "            (act): SiLU(inplace=True)\n",
       "          )\n",
       "          (cv3): Conv(\n",
       "            (conv): Conv2d(256, 256, kernel_size=(1, 1), stride=(1, 1))\n",
       "            (act): SiLU(inplace=True)\n",
       "          )\n",
       "          (m): Sequential(\n",
       "            (0): Bottleneck(\n",
       "              (cv1): Conv(\n",
       "                (conv): Conv2d(128, 128, kernel_size=(1, 1), stride=(1, 1))\n",
       "                (act): SiLU(inplace=True)\n",
       "              )\n",
       "              (cv2): Conv(\n",
       "                (conv): Conv2d(128, 128, kernel_size=(3, 3), stride=(1, 1), padding=(1, 1))\n",
       "                (act): SiLU(inplace=True)\n",
       "              )\n",
       "            )\n",
       "          )\n",
       "        )\n",
       "        (14): Conv(\n",
       "          (conv): Conv2d(256, 128, kernel_size=(1, 1), stride=(1, 1))\n",
       "          (act): SiLU(inplace=True)\n",
       "        )\n",
       "        (15): Upsample(scale_factor=2.0, mode='nearest')\n",
       "        (16): Concat()\n",
       "        (17): C3(\n",
       "          (cv1): Conv(\n",
       "            (conv): Conv2d(256, 64, kernel_size=(1, 1), stride=(1, 1))\n",
       "            (act): SiLU(inplace=True)\n",
       "          )\n",
       "          (cv2): Conv(\n",
       "            (conv): Conv2d(256, 64, kernel_size=(1, 1), stride=(1, 1))\n",
       "            (act): SiLU(inplace=True)\n",
       "          )\n",
       "          (cv3): Conv(\n",
       "            (conv): Conv2d(128, 128, kernel_size=(1, 1), stride=(1, 1))\n",
       "            (act): SiLU(inplace=True)\n",
       "          )\n",
       "          (m): Sequential(\n",
       "            (0): Bottleneck(\n",
       "              (cv1): Conv(\n",
       "                (conv): Conv2d(64, 64, kernel_size=(1, 1), stride=(1, 1))\n",
       "                (act): SiLU(inplace=True)\n",
       "              )\n",
       "              (cv2): Conv(\n",
       "                (conv): Conv2d(64, 64, kernel_size=(3, 3), stride=(1, 1), padding=(1, 1))\n",
       "                (act): SiLU(inplace=True)\n",
       "              )\n",
       "            )\n",
       "          )\n",
       "        )\n",
       "        (18): Conv(\n",
       "          (conv): Conv2d(128, 128, kernel_size=(3, 3), stride=(2, 2), padding=(1, 1))\n",
       "          (act): SiLU(inplace=True)\n",
       "        )\n",
       "        (19): Concat()\n",
       "        (20): C3(\n",
       "          (cv1): Conv(\n",
       "            (conv): Conv2d(256, 128, kernel_size=(1, 1), stride=(1, 1))\n",
       "            (act): SiLU(inplace=True)\n",
       "          )\n",
       "          (cv2): Conv(\n",
       "            (conv): Conv2d(256, 128, kernel_size=(1, 1), stride=(1, 1))\n",
       "            (act): SiLU(inplace=True)\n",
       "          )\n",
       "          (cv3): Conv(\n",
       "            (conv): Conv2d(256, 256, kernel_size=(1, 1), stride=(1, 1))\n",
       "            (act): SiLU(inplace=True)\n",
       "          )\n",
       "          (m): Sequential(\n",
       "            (0): Bottleneck(\n",
       "              (cv1): Conv(\n",
       "                (conv): Conv2d(128, 128, kernel_size=(1, 1), stride=(1, 1))\n",
       "                (act): SiLU(inplace=True)\n",
       "              )\n",
       "              (cv2): Conv(\n",
       "                (conv): Conv2d(128, 128, kernel_size=(3, 3), stride=(1, 1), padding=(1, 1))\n",
       "                (act): SiLU(inplace=True)\n",
       "              )\n",
       "            )\n",
       "          )\n",
       "        )\n",
       "        (21): Conv(\n",
       "          (conv): Conv2d(256, 256, kernel_size=(3, 3), stride=(2, 2), padding=(1, 1))\n",
       "          (act): SiLU(inplace=True)\n",
       "        )\n",
       "        (22): Concat()\n",
       "        (23): C3(\n",
       "          (cv1): Conv(\n",
       "            (conv): Conv2d(512, 256, kernel_size=(1, 1), stride=(1, 1))\n",
       "            (act): SiLU(inplace=True)\n",
       "          )\n",
       "          (cv2): Conv(\n",
       "            (conv): Conv2d(512, 256, kernel_size=(1, 1), stride=(1, 1))\n",
       "            (act): SiLU(inplace=True)\n",
       "          )\n",
       "          (cv3): Conv(\n",
       "            (conv): Conv2d(512, 512, kernel_size=(1, 1), stride=(1, 1))\n",
       "            (act): SiLU(inplace=True)\n",
       "          )\n",
       "          (m): Sequential(\n",
       "            (0): Bottleneck(\n",
       "              (cv1): Conv(\n",
       "                (conv): Conv2d(256, 256, kernel_size=(1, 1), stride=(1, 1))\n",
       "                (act): SiLU(inplace=True)\n",
       "              )\n",
       "              (cv2): Conv(\n",
       "                (conv): Conv2d(256, 256, kernel_size=(3, 3), stride=(1, 1), padding=(1, 1))\n",
       "                (act): SiLU(inplace=True)\n",
       "              )\n",
       "            )\n",
       "          )\n",
       "        )\n",
       "        (24): Detect(\n",
       "          (m): ModuleList(\n",
       "            (0): Conv2d(128, 255, kernel_size=(1, 1), stride=(1, 1))\n",
       "            (1): Conv2d(256, 255, kernel_size=(1, 1), stride=(1, 1))\n",
       "            (2): Conv2d(512, 255, kernel_size=(1, 1), stride=(1, 1))\n",
       "          )\n",
       "        )\n",
       "      )\n",
       "    )\n",
       "  )\n",
       ")"
      ]
     },
     "execution_count": 9,
     "metadata": {},
     "output_type": "execute_result"
    }
   ],
   "source": [
    "yolov5s.cuda()"
   ]
  },
  {
   "cell_type": "code",
   "execution_count": 10,
   "id": "83c5a780-9e07-4791-9fad-a4162a3dcdf2",
   "metadata": {},
   "outputs": [
    {
     "data": {
      "text/plain": [
       "True"
      ]
     },
     "execution_count": 10,
     "metadata": {},
     "output_type": "execute_result"
    }
   ],
   "source": [
    "next(yolov5s.parameters()).is_cuda"
   ]
  },
  {
   "cell_type": "code",
   "execution_count": 11,
   "id": "5dc99ffb-5172-4773-b7c6-4b2d733ae76d",
   "metadata": {},
   "outputs": [],
   "source": [
    "idx_to_class ={0: 'person',\n",
    " 1: 'bicycle',\n",
    " 2: 'car',\n",
    " 3: 'motorcycle',\n",
    " 4: 'airplane',\n",
    " 5: 'bus',\n",
    " 6: 'train',\n",
    " 7: 'truck',\n",
    " 8: 'boat',\n",
    " 9: 'traffic light',\n",
    " 10: 'fire hydrant',\n",
    " 11: 'stop sign',\n",
    " 12: 'parking meter',\n",
    " 13: 'bench',\n",
    " 14: 'bird',\n",
    " 15: 'cat',\n",
    " 16: 'dog',\n",
    " 17: 'horse',\n",
    " 18: 'sheep',\n",
    " 19: 'cow',\n",
    " 20: 'elephant',\n",
    " 21: 'bear',\n",
    " 22: 'zebra',\n",
    " 23: 'giraffe',\n",
    " 24: 'backpack',\n",
    " 25: 'umbrella',\n",
    " 26: 'handbag',\n",
    " 27: 'tie',\n",
    " 28: 'suitcase',\n",
    " 29: 'frisbee',\n",
    " 30: 'skis',\n",
    " 31: 'snowboard',\n",
    " 32: 'sports ball',\n",
    " 33: 'kite',\n",
    " 34: 'baseball bat',\n",
    " 35: 'baseball glove',\n",
    " 36: 'skateboard',\n",
    " 37: 'surfboard',\n",
    " 38: 'tennis racket',\n",
    " 39: 'bottle',\n",
    " 40: 'wine glass',\n",
    " 41: 'cup',\n",
    " 42: 'fork',\n",
    " 43: 'knife',\n",
    " 44: 'spoon',\n",
    " 45: 'bowl',\n",
    " 46: 'banana',\n",
    " 47: 'apple',\n",
    " 48: 'sandwich',\n",
    " 49: 'orange',\n",
    " 50: 'broccoli',\n",
    " 51: 'carrot',\n",
    " 52: 'hot dog',\n",
    " 53: 'pizza',\n",
    " 54: 'donut',\n",
    " 55: 'cake',\n",
    " 56: 'chair',\n",
    " 57: 'couch',\n",
    " 58: 'potted plant',\n",
    " 59: 'bed',\n",
    " 60: 'dining table',\n",
    " 61: 'toilet',\n",
    " 62: 'tv',\n",
    " 63: 'laptop',\n",
    " 64: 'mouse',\n",
    " 65: 'remote',\n",
    " 66: 'keyboard',\n",
    " 67: 'cell phone',\n",
    " 68: 'microwave',\n",
    " 69: 'oven',\n",
    " 70: 'toaster',\n",
    " 71: 'sink',\n",
    " 72: 'refrigerator',\n",
    " 73: 'book',\n",
    " 74: 'clock',\n",
    " 75: 'vase',\n",
    " 76: 'scissors',\n",
    " 77: 'teddy bear',\n",
    " 78: 'hair drier',\n",
    " 79: 'toothbrush'}"
   ]
  },
  {
   "cell_type": "code",
   "execution_count": 24,
   "id": "918c4b04-39fe-4d58-bcd1-50a2d9c778d2",
   "metadata": {},
   "outputs": [],
   "source": [
    "def convert_xy_to_centerpts(x1,y1,x2,y2):\n",
    "    return (x1+x2)/2,(y1+y2)/2"
   ]
  },
  {
   "cell_type": "code",
   "execution_count": 33,
   "id": "842a6c0b-4259-43fc-b44b-4856aa14c1eb",
   "metadata": {},
   "outputs": [],
   "source": [
    "class Tracker:\n",
    "    def __init__(self):\n",
    "        self.tracking_points = dict()\n",
    "        self.ID_NUM = 0\n",
    "\n",
    "    def update(self,detections):\n",
    "        new_tracked_items = dict()\n",
    "        for detection in detections:\n",
    "            cx,cy = convert_xy_to_centerpts(*detection)\n",
    "            is_matched = False\n",
    "            for id,tp in self.tracking_points.items():\n",
    "                ocx,ocy = convert_xy_to_centerpts(*tp)\n",
    "                dst = math.hypot(cx-ocx,cy-ocy)\n",
    "                if dst <= 30:\n",
    "                    new_tracked_items[id] = detection\n",
    "                    self.tracking_points.pop(id)\n",
    "                    is_matched = True\n",
    "                    break\n",
    "\n",
    "            if is_matched == False:\n",
    "                new_tracked_items[self.ID_NUM] = detection\n",
    "                self.ID_NUM += 1\n",
    "\n",
    "        self.tracking_points = new_tracked_items.copy()"
   ]
  },
  {
   "cell_type": "code",
   "execution_count": 12,
   "id": "96c29e24-baf2-4086-858d-21a9ba5a347c",
   "metadata": {},
   "outputs": [],
   "source": [
    "VIDEO_LOC = r\"E:\\PyImage_ComputerVision\\ObjectDetectionYolo\\WorkingData\\InputData\\TrafficVideo1.mp4\""
   ]
  },
  {
   "cell_type": "code",
   "execution_count": 13,
   "id": "84413567-e576-410c-ab36-5baff61c1cae",
   "metadata": {},
   "outputs": [],
   "source": [
    "video1 = cv2.VideoCapture(VIDEO_LOC)"
   ]
  },
  {
   "cell_type": "code",
   "execution_count": 14,
   "id": "bf8393b7-c2cc-4756-843b-34e781500f0a",
   "metadata": {},
   "outputs": [
    {
     "data": {
      "text/plain": [
       "True"
      ]
     },
     "execution_count": 14,
     "metadata": {},
     "output_type": "execute_result"
    }
   ],
   "source": [
    "video1.isOpened()"
   ]
  },
  {
   "cell_type": "code",
   "execution_count": 16,
   "id": "1d60a76a-23dd-492d-95ed-2e7640b91cf2",
   "metadata": {},
   "outputs": [],
   "source": [
    "FPS = video1.get(cv2.CAP_PROP_FPS)\n",
    "FW = video1.get(cv2.CAP_PROP_FRAME_WIDTH)\n",
    "FH = video1.get(cv2.CAP_PROP_FRAME_HEIGHT)"
   ]
  },
  {
   "cell_type": "code",
   "execution_count": 18,
   "id": "9b5486f6-88a2-428b-b643-dce0f2ab3ab7",
   "metadata": {},
   "outputs": [
    {
     "data": {
      "text/plain": [
       "(29.97, 1920.0, 1080.0)"
      ]
     },
     "execution_count": 18,
     "metadata": {},
     "output_type": "execute_result"
    }
   ],
   "source": [
    "FPS,FW,FH"
   ]
  },
  {
   "cell_type": "code",
   "execution_count": 20,
   "id": "65609ff6-4574-4442-9466-af26634a54c1",
   "metadata": {},
   "outputs": [],
   "source": [
    "video2 = cv2.VideoWriter(\"E:\\PyImage_ComputerVision\\ObjectDetectionYolo\\WorkingData\\OutputData\\TF1.avi\",cv2.VideoWriter_fourcc('M','P','4','S'),FPS,[int(FW),int(FH)])"
   ]
  },
  {
   "cell_type": "code",
   "execution_count": 36,
   "id": "bc25fac1-215b-4b0e-b992-050b156e87a3",
   "metadata": {},
   "outputs": [],
   "source": [
    "video1 = cv2.VideoCapture(VIDEO_LOC)\n",
    "FPS = video1.get(cv2.CAP_PROP_FPS)\n",
    "FW = video1.get(cv2.CAP_PROP_FRAME_WIDTH)\n",
    "FH = video1.get(cv2.CAP_PROP_FRAME_HEIGHT)\n",
    "\n",
    "video2 = cv2.VideoWriter(\"E:\\PyImage_ComputerVision\\ObjectDetectionYolo\\WorkingData\\OutputData\\TF1.avi\",cv2.VideoWriter_fourcc('M','P','4','S'),FPS,[int(FW),int(FH)])\n",
    "tracker = Tracker()\n",
    "\n",
    "while video1.isOpened():\n",
    "    ret,frame = video1.read()\n",
    "    yolov5s\n",
    "    if ret == False:\n",
    "        break\n",
    "    else:\n",
    "        preds = yolov5s(frame).pred[0]\n",
    "        detections = []\n",
    "        for pred in preds:\n",
    "            cls = int(pred[5])\n",
    "            if cls in [2,5,7]:\n",
    "                x1 = pred[0]\n",
    "                y1 = pred[1]\n",
    "                x2 = pred[2]\n",
    "                y2 = pred[3]\n",
    "                conf = float(pred[4])\n",
    "                detections.append((x1,y1,x2,y2))\n",
    "        tracker.update(detections)\n",
    "        for id,bbox in tracker.tracking_points.items():\n",
    "            x1,y1,x2,y2 = bbox\n",
    "            cv2.rectangle(frame,(int(x1),int(y1)),(int(x2),int(y2)),(0,0,0),2)\n",
    "            cx,cy = convert_xy_to_centerpts(x1,y1,x2,y2)\n",
    "            cv2.circle(frame,(int(cx),int(cy)),2,(0,255,0),-1)\n",
    "            cv2.putText(frame,f\"{id}\",(int(x1),int(y1)),cv2.FONT_HERSHEY_SIMPLEX,0.75,(0,0,255))\n",
    "        video2.write(frame)\n",
    "video2.release()\n",
    "video1.release()"
   ]
  },
  {
   "cell_type": "code",
   "execution_count": 25,
   "id": "787f2f41-5d5f-4382-86d9-2fdbb385b286",
   "metadata": {},
   "outputs": [],
   "source": [
    "fg = (2,2,4)"
   ]
  },
  {
   "cell_type": "code",
   "execution_count": 28,
   "id": "287522c2-0fb4-47f9-85a6-9a44179e4e43",
   "metadata": {},
   "outputs": [],
   "source": [
    "fg1 = (*fg,3)"
   ]
  },
  {
   "cell_type": "code",
   "execution_count": 29,
   "id": "2ceda586-b206-411c-989e-c5460f54c92f",
   "metadata": {},
   "outputs": [
    {
     "data": {
      "text/plain": [
       "(2, 2, 4, 3)"
      ]
     },
     "execution_count": 29,
     "metadata": {},
     "output_type": "execute_result"
    }
   ],
   "source": [
    "fg1"
   ]
  },
  {
   "cell_type": "code",
   "execution_count": null,
   "id": "a50191eb-3aef-4b14-86c2-42d68df6dfb6",
   "metadata": {},
   "outputs": [],
   "source": []
  }
 ],
 "metadata": {
  "kernelspec": {
   "display_name": "Python 3 (ipykernel)",
   "language": "python",
   "name": "python3"
  },
  "language_info": {
   "codemirror_mode": {
    "name": "ipython",
    "version": 3
   },
   "file_extension": ".py",
   "mimetype": "text/x-python",
   "name": "python",
   "nbconvert_exporter": "python",
   "pygments_lexer": "ipython3",
   "version": "3.11.5"
  }
 },
 "nbformat": 4,
 "nbformat_minor": 5
}
