{
 "cells": [
  {
   "cell_type": "code",
   "execution_count": 1,
   "id": "bf6fcb51",
   "metadata": {},
   "outputs": [],
   "source": [
    "import numpy as np"
   ]
  },
  {
   "cell_type": "markdown",
   "id": "4297e886",
   "metadata": {},
   "source": [
    "# Creating Numpy Array's"
   ]
  },
  {
   "cell_type": "markdown",
   "id": "bd3745ba",
   "metadata": {},
   "source": [
    "## 1)Creating using `np.array()`"
   ]
  },
  {
   "cell_type": "code",
   "execution_count": 2,
   "id": "487d05f1",
   "metadata": {},
   "outputs": [
    {
     "data": {
      "text/plain": [
       "array([1, 2, 3, 4, 5])"
      ]
     },
     "execution_count": 2,
     "metadata": {},
     "output_type": "execute_result"
    }
   ],
   "source": [
    "a = np.array([1,2,3,4,5])\n",
    "a"
   ]
  },
  {
   "cell_type": "code",
   "execution_count": 3,
   "id": "4a7f5e92",
   "metadata": {},
   "outputs": [
    {
     "data": {
      "text/plain": [
       "numpy.ndarray"
      ]
     },
     "execution_count": 3,
     "metadata": {},
     "output_type": "execute_result"
    }
   ],
   "source": [
    "type(a)"
   ]
  },
  {
   "cell_type": "code",
   "execution_count": 4,
   "id": "f1417570",
   "metadata": {},
   "outputs": [
    {
     "data": {
      "text/plain": [
       "array([[ 1,  2,  3,  4],\n",
       "       [ 5,  6,  7,  8],\n",
       "       [ 9, 10, 11, 12]])"
      ]
     },
     "execution_count": 4,
     "metadata": {},
     "output_type": "execute_result"
    }
   ],
   "source": [
    "b = np.array([[1,2,3,4],\n",
    "              [5,6,7,8],\n",
    "              [9,10,11,12]])\n",
    "\n",
    "b"
   ]
  },
  {
   "cell_type": "code",
   "execution_count": 5,
   "id": "a70ef10d",
   "metadata": {},
   "outputs": [
    {
     "data": {
      "text/plain": [
       "numpy.ndarray"
      ]
     },
     "execution_count": 5,
     "metadata": {},
     "output_type": "execute_result"
    }
   ],
   "source": [
    "type(b)"
   ]
  },
  {
   "cell_type": "code",
   "execution_count": 6,
   "id": "7578953f",
   "metadata": {},
   "outputs": [
    {
     "data": {
      "text/plain": [
       "array([[[   1,    2,    3,    4],\n",
       "        [   5,    6,    7,    8],\n",
       "        [   9,   10,   11,   12]],\n",
       "\n",
       "       [[   2,    4,    6,    8],\n",
       "        [  10,   12,   14,   16],\n",
       "        [   3,    5,    7,    9]],\n",
       "\n",
       "       [[  11,   22,   33,   44],\n",
       "        [ 111,  222,  333,  444],\n",
       "        [1111, 2222, 3333, 4444]]])"
      ]
     },
     "execution_count": 6,
     "metadata": {},
     "output_type": "execute_result"
    }
   ],
   "source": [
    "c = np.array([[[1,2,3,4],\n",
    "               [5,6,7,8],\n",
    "               [9,10,11,12]],\n",
    "              \n",
    "              [[2,4,6,8],\n",
    "               [10,12,14,16],\n",
    "               [3,5,7,9]],\n",
    "              \n",
    "              [[11,22,33,44],\n",
    "               [111,222,333,444],\n",
    "               [1111,2222,3333,4444]]])\n",
    "\n",
    "c"
   ]
  },
  {
   "cell_type": "code",
   "execution_count": 7,
   "id": "b9a06214",
   "metadata": {},
   "outputs": [
    {
     "data": {
      "text/plain": [
       "numpy.ndarray"
      ]
     },
     "execution_count": 7,
     "metadata": {},
     "output_type": "execute_result"
    }
   ],
   "source": [
    "type(c)"
   ]
  },
  {
   "cell_type": "code",
   "execution_count": 8,
   "id": "78b53be8",
   "metadata": {},
   "outputs": [
    {
     "ename": "ValueError",
     "evalue": "setting an array element with a sequence. The requested array has an inhomogeneous shape after 1 dimensions. The detected shape was (3,) + inhomogeneous part.",
     "output_type": "error",
     "traceback": [
      "\u001b[1;31m---------------------------------------------------------------------------\u001b[0m",
      "\u001b[1;31mValueError\u001b[0m                                Traceback (most recent call last)",
      "Cell \u001b[1;32mIn[8], line 1\u001b[0m\n\u001b[1;32m----> 1\u001b[0m d \u001b[38;5;241m=\u001b[39m np\u001b[38;5;241m.\u001b[39marray([[[\u001b[38;5;241m1\u001b[39m,\u001b[38;5;241m2\u001b[39m,\u001b[38;5;241m3\u001b[39m,\u001b[38;5;241m4\u001b[39m],\n\u001b[0;32m      2\u001b[0m                [\u001b[38;5;241m5\u001b[39m,\u001b[38;5;241m6\u001b[39m,\u001b[38;5;241m7\u001b[39m,\u001b[38;5;241m8\u001b[39m]],\n\u001b[0;32m      3\u001b[0m               \n\u001b[0;32m      4\u001b[0m               [[\u001b[38;5;241m2\u001b[39m,\u001b[38;5;241m4\u001b[39m,\u001b[38;5;241m6\u001b[39m,\u001b[38;5;241m8\u001b[39m],\n\u001b[0;32m      5\u001b[0m                [\u001b[38;5;241m10\u001b[39m,\u001b[38;5;241m12\u001b[39m,\u001b[38;5;241m14\u001b[39m,\u001b[38;5;241m16\u001b[39m],\n\u001b[0;32m      6\u001b[0m                [\u001b[38;5;241m3\u001b[39m,\u001b[38;5;241m5\u001b[39m,\u001b[38;5;241m7\u001b[39m,\u001b[38;5;241m9\u001b[39m]],\n\u001b[0;32m      7\u001b[0m               \n\u001b[0;32m      8\u001b[0m               [[\u001b[38;5;241m11\u001b[39m,\u001b[38;5;241m22\u001b[39m,\u001b[38;5;241m33\u001b[39m],\n\u001b[0;32m      9\u001b[0m                [\u001b[38;5;241m111\u001b[39m,\u001b[38;5;241m222\u001b[39m,\u001b[38;5;241m333\u001b[39m],\n\u001b[0;32m     10\u001b[0m                [\u001b[38;5;241m1111\u001b[39m,\u001b[38;5;241m2222\u001b[39m,\u001b[38;5;241m3333\u001b[39m]]])\n",
      "\u001b[1;31mValueError\u001b[0m: setting an array element with a sequence. The requested array has an inhomogeneous shape after 1 dimensions. The detected shape was (3,) + inhomogeneous part."
     ]
    }
   ],
   "source": [
    "d = np.array([[[1,2,3,4],\n",
    "               [5,6,7,8]],\n",
    "              \n",
    "              [[2,4,6,8],\n",
    "               [10,12,14,16],\n",
    "               [3,5,7,9]],\n",
    "              \n",
    "              [[11,22,33],\n",
    "               [111,222,333],\n",
    "               [1111,2222,3333]]])"
   ]
  },
  {
   "cell_type": "code",
   "execution_count": 9,
   "id": "cba66b3e",
   "metadata": {},
   "outputs": [
    {
     "data": {
      "text/plain": [
       "dtype('int32')"
      ]
     },
     "execution_count": 9,
     "metadata": {},
     "output_type": "execute_result"
    }
   ],
   "source": [
    "a.dtype"
   ]
  },
  {
   "cell_type": "code",
   "execution_count": 10,
   "id": "e9a1670a",
   "metadata": {},
   "outputs": [
    {
     "data": {
      "text/plain": [
       "dtype('int32')"
      ]
     },
     "execution_count": 10,
     "metadata": {},
     "output_type": "execute_result"
    }
   ],
   "source": [
    "b.dtype"
   ]
  },
  {
   "cell_type": "code",
   "execution_count": 11,
   "id": "993f4fed",
   "metadata": {},
   "outputs": [
    {
     "data": {
      "text/plain": [
       "dtype('int32')"
      ]
     },
     "execution_count": 11,
     "metadata": {},
     "output_type": "execute_result"
    }
   ],
   "source": [
    "c.dtype"
   ]
  },
  {
   "cell_type": "code",
   "execution_count": 12,
   "id": "26a45cdb",
   "metadata": {},
   "outputs": [
    {
     "data": {
      "text/plain": [
       "array(['1', '2', '3.0', 'True', 'abc'], dtype='<U32')"
      ]
     },
     "execution_count": 12,
     "metadata": {},
     "output_type": "execute_result"
    }
   ],
   "source": [
    "e = np.array([1,2,3.0,True,\"abc\"])\n",
    "e"
   ]
  },
  {
   "cell_type": "code",
   "execution_count": 13,
   "id": "f982f52e",
   "metadata": {},
   "outputs": [
    {
     "data": {
      "text/plain": [
       "array([ 1.,  2.,  3.,  4.,  5.,  6.,  7.,  8.,  9., 10.], dtype=float32)"
      ]
     },
     "execution_count": 13,
     "metadata": {},
     "output_type": "execute_result"
    }
   ],
   "source": [
    "f = np.array([1,2,3,4,5,6,7,8,9,10],dtype = np.float32 )\n",
    "f"
   ]
  },
  {
   "cell_type": "code",
   "execution_count": 14,
   "id": "07474af2",
   "metadata": {},
   "outputs": [
    {
     "data": {
      "text/plain": [
       "array([[1, 2, 3, 4, 5, 6]])"
      ]
     },
     "execution_count": 14,
     "metadata": {},
     "output_type": "execute_result"
    }
   ],
   "source": [
    "g = np.array((1,2,3,4,5,6),ndmin=2)\n",
    "g"
   ]
  },
  {
   "cell_type": "code",
   "execution_count": 15,
   "id": "62abeabd",
   "metadata": {},
   "outputs": [
    {
     "data": {
      "text/plain": [
       "array({1, 2, 3, 4, 5, 6, 7, 8}, dtype=object)"
      ]
     },
     "execution_count": 15,
     "metadata": {},
     "output_type": "execute_result"
    }
   ],
   "source": [
    "h = np.array({1,2,3,4,5,6,6,7,8})\n",
    "h"
   ]
  },
  {
   "cell_type": "code",
   "execution_count": 16,
   "id": "2f5ece19",
   "metadata": {},
   "outputs": [
    {
     "ename": "IndexError",
     "evalue": "too many indices for array: array is 0-dimensional, but 1 were indexed",
     "output_type": "error",
     "traceback": [
      "\u001b[1;31m---------------------------------------------------------------------------\u001b[0m",
      "\u001b[1;31mIndexError\u001b[0m                                Traceback (most recent call last)",
      "Cell \u001b[1;32mIn[16], line 1\u001b[0m\n\u001b[1;32m----> 1\u001b[0m h[\u001b[38;5;241m0\u001b[39m]\n",
      "\u001b[1;31mIndexError\u001b[0m: too many indices for array: array is 0-dimensional, but 1 were indexed"
     ]
    }
   ],
   "source": [
    "h[0]"
   ]
  },
  {
   "cell_type": "code",
   "execution_count": 17,
   "id": "5de994e5",
   "metadata": {},
   "outputs": [
    {
     "data": {
      "text/plain": [
       "array({'a': 1, 'b': 2, 'c': 3, 'd': 4}, dtype=object)"
      ]
     },
     "execution_count": 17,
     "metadata": {},
     "output_type": "execute_result"
    }
   ],
   "source": [
    "i = np.array({'a':1,'b':2,'c':3,'d':4})\n",
    "i"
   ]
  },
  {
   "cell_type": "code",
   "execution_count": 18,
   "id": "42c0ba66",
   "metadata": {},
   "outputs": [
    {
     "ename": "IndexError",
     "evalue": "too many indices for array: array is 0-dimensional, but 1 were indexed",
     "output_type": "error",
     "traceback": [
      "\u001b[1;31m---------------------------------------------------------------------------\u001b[0m",
      "\u001b[1;31mIndexError\u001b[0m                                Traceback (most recent call last)",
      "Cell \u001b[1;32mIn[18], line 1\u001b[0m\n\u001b[1;32m----> 1\u001b[0m i[\u001b[38;5;241m0\u001b[39m]\n",
      "\u001b[1;31mIndexError\u001b[0m: too many indices for array: array is 0-dimensional, but 1 were indexed"
     ]
    }
   ],
   "source": [
    "i[0]"
   ]
  },
  {
   "cell_type": "code",
   "execution_count": 19,
   "id": "3ff2c963",
   "metadata": {},
   "outputs": [
    {
     "data": {
      "text/plain": [
       "array([{'a': 1, 'b': 2, 'c': 3, 'd': 4}], dtype=object)"
      ]
     },
     "execution_count": 19,
     "metadata": {},
     "output_type": "execute_result"
    }
   ],
   "source": [
    "j = np.array({'a':1,'b':2,'c':3,'d':4},ndmin=1)\n",
    "j"
   ]
  },
  {
   "cell_type": "code",
   "execution_count": 20,
   "id": "21f57764",
   "metadata": {},
   "outputs": [
    {
     "data": {
      "text/plain": [
       "{'a': 1, 'b': 2, 'c': 3, 'd': 4}"
      ]
     },
     "execution_count": 20,
     "metadata": {},
     "output_type": "execute_result"
    }
   ],
   "source": [
    "j[0]"
   ]
  },
  {
   "cell_type": "markdown",
   "id": "8b488bd9",
   "metadata": {},
   "source": [
    "## 2)Creating using `np.ones()`"
   ]
  },
  {
   "cell_type": "code",
   "execution_count": 21,
   "id": "34443164",
   "metadata": {},
   "outputs": [
    {
     "data": {
      "text/plain": [
       "array([1., 1., 1.])"
      ]
     },
     "execution_count": 21,
     "metadata": {},
     "output_type": "execute_result"
    }
   ],
   "source": [
    "on1 = np.ones(3)\n",
    "on1"
   ]
  },
  {
   "cell_type": "code",
   "execution_count": 22,
   "id": "0c89bbc4",
   "metadata": {},
   "outputs": [
    {
     "data": {
      "text/plain": [
       "array([[1., 1., 1., 1.],\n",
       "       [1., 1., 1., 1.],\n",
       "       [1., 1., 1., 1.]])"
      ]
     },
     "execution_count": 22,
     "metadata": {},
     "output_type": "execute_result"
    }
   ],
   "source": [
    "on2 = np.ones((3,4))\n",
    "on2"
   ]
  },
  {
   "cell_type": "code",
   "execution_count": 23,
   "id": "b1639d3d",
   "metadata": {},
   "outputs": [
    {
     "data": {
      "text/plain": [
       "array([[[1., 1., 1., 1.],\n",
       "        [1., 1., 1., 1.],\n",
       "        [1., 1., 1., 1.],\n",
       "        [1., 1., 1., 1.]],\n",
       "\n",
       "       [[1., 1., 1., 1.],\n",
       "        [1., 1., 1., 1.],\n",
       "        [1., 1., 1., 1.],\n",
       "        [1., 1., 1., 1.]]])"
      ]
     },
     "execution_count": 23,
     "metadata": {},
     "output_type": "execute_result"
    }
   ],
   "source": [
    "on3 = np.ones([2,4,4])\n",
    "on3"
   ]
  },
  {
   "cell_type": "code",
   "execution_count": 24,
   "id": "538b5957",
   "metadata": {},
   "outputs": [
    {
     "ename": "TypeError",
     "evalue": "expected a sequence of integers or a single integer, got '{4, 5}'",
     "output_type": "error",
     "traceback": [
      "\u001b[1;31m---------------------------------------------------------------------------\u001b[0m",
      "\u001b[1;31mTypeError\u001b[0m                                 Traceback (most recent call last)",
      "Cell \u001b[1;32mIn[24], line 1\u001b[0m\n\u001b[1;32m----> 1\u001b[0m on4 \u001b[38;5;241m=\u001b[39m np\u001b[38;5;241m.\u001b[39mones({\u001b[38;5;241m4\u001b[39m,\u001b[38;5;241m5\u001b[39m})\n\u001b[0;32m      2\u001b[0m on4\n",
      "File \u001b[1;32mD:\\Notes_Notebooks\\env\\Lib\\site-packages\\numpy\\core\\numeric.py:205\u001b[0m, in \u001b[0;36mones\u001b[1;34m(shape, dtype, order, like)\u001b[0m\n\u001b[0;32m    202\u001b[0m \u001b[38;5;28;01mif\u001b[39;00m like \u001b[38;5;129;01mis\u001b[39;00m \u001b[38;5;129;01mnot\u001b[39;00m \u001b[38;5;28;01mNone\u001b[39;00m:\n\u001b[0;32m    203\u001b[0m     \u001b[38;5;28;01mreturn\u001b[39;00m _ones_with_like(shape, dtype\u001b[38;5;241m=\u001b[39mdtype, order\u001b[38;5;241m=\u001b[39morder, like\u001b[38;5;241m=\u001b[39mlike)\n\u001b[1;32m--> 205\u001b[0m a \u001b[38;5;241m=\u001b[39m empty(shape, dtype, order)\n\u001b[0;32m    206\u001b[0m multiarray\u001b[38;5;241m.\u001b[39mcopyto(a, \u001b[38;5;241m1\u001b[39m, casting\u001b[38;5;241m=\u001b[39m\u001b[38;5;124m'\u001b[39m\u001b[38;5;124munsafe\u001b[39m\u001b[38;5;124m'\u001b[39m)\n\u001b[0;32m    207\u001b[0m \u001b[38;5;28;01mreturn\u001b[39;00m a\n",
      "\u001b[1;31mTypeError\u001b[0m: expected a sequence of integers or a single integer, got '{4, 5}'"
     ]
    }
   ],
   "source": [
    "on4 = np.ones({4,5})\n",
    "on4"
   ]
  },
  {
   "cell_type": "code",
   "execution_count": 25,
   "id": "884d91b7",
   "metadata": {},
   "outputs": [
    {
     "data": {
      "text/plain": [
       "array([[1, 1, 1, 1, 1],\n",
       "       [1, 1, 1, 1, 1]])"
      ]
     },
     "execution_count": 25,
     "metadata": {},
     "output_type": "execute_result"
    }
   ],
   "source": [
    "on5 = np.ones([2,5],dtype=np.int32)\n",
    "on5"
   ]
  },
  {
   "cell_type": "code",
   "execution_count": 26,
   "id": "16378792",
   "metadata": {},
   "outputs": [
    {
     "data": {
      "text/plain": [
       "array([[[ True,  True,  True,  True],\n",
       "        [ True,  True,  True,  True],\n",
       "        [ True,  True,  True,  True]],\n",
       "\n",
       "       [[ True,  True,  True,  True],\n",
       "        [ True,  True,  True,  True],\n",
       "        [ True,  True,  True,  True]]])"
      ]
     },
     "execution_count": 26,
     "metadata": {},
     "output_type": "execute_result"
    }
   ],
   "source": [
    "on6 = np.ones([2,3,4],dtype=bool)\n",
    "on6"
   ]
  },
  {
   "cell_type": "markdown",
   "id": "c8adc10f",
   "metadata": {},
   "source": [
    "## 3)Creating Array using `np.zeros()`"
   ]
  },
  {
   "cell_type": "code",
   "execution_count": 27,
   "id": "7707c8c0",
   "metadata": {},
   "outputs": [
    {
     "data": {
      "text/plain": [
       "array([0., 0., 0., 0.])"
      ]
     },
     "execution_count": 27,
     "metadata": {},
     "output_type": "execute_result"
    }
   ],
   "source": [
    "ze1 = np.zeros(4)\n",
    "ze1"
   ]
  },
  {
   "cell_type": "code",
   "execution_count": 28,
   "id": "1cf0ae66",
   "metadata": {},
   "outputs": [
    {
     "data": {
      "text/plain": [
       "array([[0., 0., 0., 0., 0.],\n",
       "       [0., 0., 0., 0., 0.],\n",
       "       [0., 0., 0., 0., 0.]])"
      ]
     },
     "execution_count": 28,
     "metadata": {},
     "output_type": "execute_result"
    }
   ],
   "source": [
    "ze2 = np.zeros((3,5))\n",
    "ze2"
   ]
  },
  {
   "cell_type": "code",
   "execution_count": 29,
   "id": "96ac1942",
   "metadata": {},
   "outputs": [
    {
     "data": {
      "text/plain": [
       "array([[[0., 0., 0.],\n",
       "        [0., 0., 0.],\n",
       "        [0., 0., 0.],\n",
       "        [0., 0., 0.],\n",
       "        [0., 0., 0.]],\n",
       "\n",
       "       [[0., 0., 0.],\n",
       "        [0., 0., 0.],\n",
       "        [0., 0., 0.],\n",
       "        [0., 0., 0.],\n",
       "        [0., 0., 0.]],\n",
       "\n",
       "       [[0., 0., 0.],\n",
       "        [0., 0., 0.],\n",
       "        [0., 0., 0.],\n",
       "        [0., 0., 0.],\n",
       "        [0., 0., 0.]]])"
      ]
     },
     "execution_count": 29,
     "metadata": {},
     "output_type": "execute_result"
    }
   ],
   "source": [
    "ze3 = np.zeros([3,5,3])\n",
    "ze3"
   ]
  },
  {
   "cell_type": "code",
   "execution_count": 30,
   "id": "881f19bd",
   "metadata": {},
   "outputs": [
    {
     "ename": "TypeError",
     "evalue": "expected a sequence of integers or a single integer, got '{2, 4}'",
     "output_type": "error",
     "traceback": [
      "\u001b[1;31m---------------------------------------------------------------------------\u001b[0m",
      "\u001b[1;31mTypeError\u001b[0m                                 Traceback (most recent call last)",
      "Cell \u001b[1;32mIn[30], line 1\u001b[0m\n\u001b[1;32m----> 1\u001b[0m ze4 \u001b[38;5;241m=\u001b[39m np\u001b[38;5;241m.\u001b[39mzeros({\u001b[38;5;241m2\u001b[39m,\u001b[38;5;241m4\u001b[39m})\n\u001b[0;32m      2\u001b[0m ze4\n",
      "\u001b[1;31mTypeError\u001b[0m: expected a sequence of integers or a single integer, got '{2, 4}'"
     ]
    }
   ],
   "source": [
    "ze4 = np.zeros({2,4})\n",
    "ze4"
   ]
  },
  {
   "cell_type": "code",
   "execution_count": 31,
   "id": "3514bfaa",
   "metadata": {},
   "outputs": [
    {
     "data": {
      "text/plain": [
       "array([[0, 0, 0, 0],\n",
       "       [0, 0, 0, 0]])"
      ]
     },
     "execution_count": 31,
     "metadata": {},
     "output_type": "execute_result"
    }
   ],
   "source": [
    "ze5 = np.zeros((2,4),dtype=np.int32)\n",
    "ze5"
   ]
  },
  {
   "cell_type": "markdown",
   "id": "9bb8bcc2",
   "metadata": {},
   "source": [
    "## 4)Creating Using `np.arange()`"
   ]
  },
  {
   "cell_type": "code",
   "execution_count": 32,
   "id": "864fbf5c",
   "metadata": {},
   "outputs": [
    {
     "data": {
      "text/plain": [
       "array([0, 1, 2, 3, 4, 5, 6, 7, 8, 9])"
      ]
     },
     "execution_count": 32,
     "metadata": {},
     "output_type": "execute_result"
    }
   ],
   "source": [
    "ar1 = np.arange(10)\n",
    "ar1"
   ]
  },
  {
   "cell_type": "code",
   "execution_count": 33,
   "id": "e0df6698",
   "metadata": {},
   "outputs": [
    {
     "data": {
      "text/plain": [
       "array([0., 1., 2., 3., 4., 5., 6., 7., 8., 9.])"
      ]
     },
     "execution_count": 33,
     "metadata": {},
     "output_type": "execute_result"
    }
   ],
   "source": [
    "ar2 = np.arange(10.0)\n",
    "ar2"
   ]
  },
  {
   "cell_type": "code",
   "execution_count": 34,
   "id": "ecd3ccf0",
   "metadata": {},
   "outputs": [
    {
     "data": {
      "text/plain": [
       "array([ 3,  4,  5,  6,  7,  8,  9, 10, 11, 12, 13, 14])"
      ]
     },
     "execution_count": 34,
     "metadata": {},
     "output_type": "execute_result"
    }
   ],
   "source": [
    "ar3 = np.arange(start=3,stop=15)\n",
    "ar3"
   ]
  },
  {
   "cell_type": "code",
   "execution_count": 35,
   "id": "f0e8a537",
   "metadata": {},
   "outputs": [
    {
     "data": {
      "text/plain": [
       "array([ 4,  7, 10, 13])"
      ]
     },
     "execution_count": 35,
     "metadata": {},
     "output_type": "execute_result"
    }
   ],
   "source": [
    "ar4 = np.arange(start=4,stop=14,step=3)\n",
    "ar4"
   ]
  },
  {
   "cell_type": "code",
   "execution_count": 36,
   "id": "54434416",
   "metadata": {},
   "outputs": [
    {
     "data": {
      "text/plain": [
       "array([-1, -2, -3, -4, -5, -6, -7, -8, -9])"
      ]
     },
     "execution_count": 36,
     "metadata": {},
     "output_type": "execute_result"
    }
   ],
   "source": [
    "ar5 = np.arange(start=-1,stop=-10,step=-1)\n",
    "ar5"
   ]
  },
  {
   "cell_type": "code",
   "execution_count": 37,
   "id": "8cd6aa02",
   "metadata": {},
   "outputs": [
    {
     "data": {
      "text/plain": [
       "array([0.5, 1. , 1.5, 2. , 2.5, 3. ])"
      ]
     },
     "execution_count": 37,
     "metadata": {},
     "output_type": "execute_result"
    }
   ],
   "source": [
    "ar6 = np.arange(start=0.5,stop=3.5,step=0.5)\n",
    "ar6"
   ]
  },
  {
   "cell_type": "code",
   "execution_count": 38,
   "id": "318c8913",
   "metadata": {},
   "outputs": [
    {
     "data": {
      "text/plain": [
       "array([10., 20., 30., 40., 50., 60., 70., 80., 90.], dtype=float32)"
      ]
     },
     "execution_count": 38,
     "metadata": {},
     "output_type": "execute_result"
    }
   ],
   "source": [
    "ar7 = np.arange(start=10,stop=100,step=10,dtype=np.float32)\n",
    "ar7"
   ]
  },
  {
   "cell_type": "code",
   "execution_count": 39,
   "id": "c7deab61",
   "metadata": {},
   "outputs": [
    {
     "data": {
      "text/plain": [
       "array([1])"
      ]
     },
     "execution_count": 39,
     "metadata": {},
     "output_type": "execute_result"
    }
   ],
   "source": [
    "ar8 = np.arange(start=1,stop=10,step=10)\n",
    "ar8"
   ]
  },
  {
   "cell_type": "code",
   "execution_count": 40,
   "id": "c86e42e0",
   "metadata": {},
   "outputs": [
    {
     "data": {
      "text/plain": [
       "array([0.4 , 0.65, 0.9 , 1.15, 1.4 , 1.65, 1.9 , 2.15, 2.4 , 2.65, 2.9 ,\n",
       "       3.15, 3.4 , 3.65, 3.9 , 4.15, 4.4 , 4.65, 4.9 ])"
      ]
     },
     "execution_count": 40,
     "metadata": {},
     "output_type": "execute_result"
    }
   ],
   "source": [
    "ar9 = np.arange(0.4,5,0.25)\n",
    "ar9"
   ]
  },
  {
   "cell_type": "code",
   "execution_count": 41,
   "id": "7eea59c0",
   "metadata": {},
   "outputs": [
    {
     "data": {
      "text/plain": [
       "array([], dtype=int32)"
      ]
     },
     "execution_count": 41,
     "metadata": {},
     "output_type": "execute_result"
    }
   ],
   "source": [
    "ar10 = np.arange(4,1)\n",
    "ar10"
   ]
  },
  {
   "cell_type": "code",
   "execution_count": 42,
   "id": "82ffa348",
   "metadata": {},
   "outputs": [
    {
     "data": {
      "text/plain": [
       "array([0, 0, 0, 0, 0, 0, 0, 0, 0, 0])"
      ]
     },
     "execution_count": 42,
     "metadata": {},
     "output_type": "execute_result"
    }
   ],
   "source": [
    "ar11 = np.arange(start=0,stop=5,step=0.5, dtype=int)\n",
    "ar11"
   ]
  },
  {
   "cell_type": "code",
   "execution_count": 43,
   "id": "b81ba9f8",
   "metadata": {},
   "outputs": [
    {
     "data": {
      "text/plain": [
       "array([-3, -2, -1,  0,  1,  2,  3,  4,  5,  6,  7,  8])"
      ]
     },
     "execution_count": 43,
     "metadata": {},
     "output_type": "execute_result"
    }
   ],
   "source": [
    "ar12 = np.arange(start=-3,stop=3,step=0.5, dtype=int)\n",
    "ar12"
   ]
  },
  {
   "cell_type": "code",
   "execution_count": 44,
   "id": "a3314804",
   "metadata": {},
   "outputs": [
    {
     "data": {
      "text/plain": [
       "array([], dtype=int32)"
      ]
     },
     "execution_count": 44,
     "metadata": {},
     "output_type": "execute_result"
    }
   ],
   "source": [
    "ar13 = np.arange(start=10,stop=1)\n",
    "ar13"
   ]
  },
  {
   "cell_type": "markdown",
   "id": "ca7ca49f",
   "metadata": {},
   "source": [
    "## 5)Creating Using `np.linespace()`"
   ]
  },
  {
   "cell_type": "code",
   "execution_count": 45,
   "id": "757e24c0",
   "metadata": {},
   "outputs": [
    {
     "data": {
      "text/plain": [
       "array([ 1.,  2.,  3.,  4.,  5.,  6.,  7.,  8.,  9., 10., 11., 12., 13.,\n",
       "       14., 15., 16., 17., 18., 19., 20.])"
      ]
     },
     "execution_count": 45,
     "metadata": {},
     "output_type": "execute_result"
    }
   ],
   "source": [
    "ln1 = np.linspace(start=1,stop=20,num=20)\n",
    "ln1"
   ]
  },
  {
   "cell_type": "code",
   "execution_count": 46,
   "id": "8bd57a68",
   "metadata": {},
   "outputs": [
    {
     "data": {
      "text/plain": [
       "array([ 1.  ,  1.95,  2.9 ,  3.85,  4.8 ,  5.75,  6.7 ,  7.65,  8.6 ,\n",
       "        9.55, 10.5 , 11.45, 12.4 , 13.35, 14.3 , 15.25, 16.2 , 17.15,\n",
       "       18.1 , 19.05])"
      ]
     },
     "execution_count": 46,
     "metadata": {},
     "output_type": "execute_result"
    }
   ],
   "source": [
    "ln2 = np.linspace(start=1,stop=20,num=20,endpoint=False)\n",
    "ln2"
   ]
  },
  {
   "cell_type": "code",
   "execution_count": 47,
   "id": "5947d531",
   "metadata": {},
   "outputs": [
    {
     "data": {
      "text/plain": [
       "array([ 1,  2,  3,  4,  5,  6,  7,  8,  9, 10, 11, 12, 13, 14, 15, 16, 17,\n",
       "       18, 19, 20])"
      ]
     },
     "execution_count": 47,
     "metadata": {},
     "output_type": "execute_result"
    }
   ],
   "source": [
    "ln3 = np.linspace(start=1,stop=20,num=20,dtype=np.int32)\n",
    "ln3"
   ]
  },
  {
   "cell_type": "code",
   "execution_count": 48,
   "id": "82e7418b",
   "metadata": {},
   "outputs": [
    {
     "data": {
      "text/plain": [
       "array([67.        , 66.22222222, 65.44444444, 64.66666667, 63.88888889,\n",
       "       63.11111111, 62.33333333, 61.55555556, 60.77777778, 60.        ])"
      ]
     },
     "execution_count": 48,
     "metadata": {},
     "output_type": "execute_result"
    }
   ],
   "source": [
    "ln4 = np.linspace(start=67,stop=60,num=10)\n",
    "ln4"
   ]
  },
  {
   "cell_type": "code",
   "execution_count": 49,
   "id": "d06510c0",
   "metadata": {},
   "outputs": [
    {
     "data": {
      "text/plain": [
       "array([ -1.  ,  -3.25,  -5.5 ,  -7.75, -10.  ])"
      ]
     },
     "execution_count": 49,
     "metadata": {},
     "output_type": "execute_result"
    }
   ],
   "source": [
    "ln5 = np.linspace(start=-1,stop=-10,num=5)\n",
    "ln5"
   ]
  },
  {
   "cell_type": "code",
   "execution_count": 50,
   "id": "c88f4f2c",
   "metadata": {},
   "outputs": [
    {
     "data": {
      "text/plain": [
       "array([ 0.5       ,  1.88181818,  3.26363636,  4.64545455,  6.02727273,\n",
       "        7.40909091,  8.79090909, 10.17272727, 11.55454545, 12.93636364,\n",
       "       14.31818182, 15.7       ])"
      ]
     },
     "execution_count": 50,
     "metadata": {},
     "output_type": "execute_result"
    }
   ],
   "source": [
    "ln6 = np.linspace(start=0.5,stop=15.7,num=12)\n",
    "ln6"
   ]
  },
  {
   "cell_type": "code",
   "execution_count": 51,
   "id": "9ce1a295",
   "metadata": {},
   "outputs": [
    {
     "data": {
      "text/plain": [
       "array([ 1.  ,  5.75, 10.5 , 15.25, 20.  ])"
      ]
     },
     "execution_count": 51,
     "metadata": {},
     "output_type": "execute_result"
    }
   ],
   "source": [
    "ln7 = np.linspace(1,20,5)\n",
    "ln7"
   ]
  },
  {
   "cell_type": "code",
   "execution_count": 52,
   "id": "9341037e",
   "metadata": {},
   "outputs": [
    {
     "data": {
      "text/plain": [
       "array([[ 10.        ,  20.        ,  30.        ,  40.        ],\n",
       "       [ 20.        ,  28.88888889,  37.77777778,  46.66666667],\n",
       "       [ 30.        ,  37.77777778,  45.55555556,  53.33333333],\n",
       "       [ 40.        ,  46.66666667,  53.33333333,  60.        ],\n",
       "       [ 50.        ,  55.55555556,  61.11111111,  66.66666667],\n",
       "       [ 60.        ,  64.44444444,  68.88888889,  73.33333333],\n",
       "       [ 70.        ,  73.33333333,  76.66666667,  80.        ],\n",
       "       [ 80.        ,  82.22222222,  84.44444444,  86.66666667],\n",
       "       [ 90.        ,  91.11111111,  92.22222222,  93.33333333],\n",
       "       [100.        , 100.        , 100.        , 100.        ]])"
      ]
     },
     "execution_count": 52,
     "metadata": {},
     "output_type": "execute_result"
    }
   ],
   "source": [
    "ln8 = np.linspace(start=[10,20,30,40],stop=100,num=10)\n",
    "ln8"
   ]
  },
  {
   "cell_type": "code",
   "execution_count": 53,
   "id": "fee9bb76",
   "metadata": {},
   "outputs": [
    {
     "data": {
      "text/plain": [
       "array([[ 10.        ,  20.        ,  30.        ,  40.        ,\n",
       "         50.        ,  60.        ,  70.        ,  80.        ,\n",
       "         90.        , 100.        ],\n",
       "       [ 20.        ,  28.88888889,  37.77777778,  46.66666667,\n",
       "         55.55555556,  64.44444444,  73.33333333,  82.22222222,\n",
       "         91.11111111, 100.        ],\n",
       "       [ 30.        ,  37.77777778,  45.55555556,  53.33333333,\n",
       "         61.11111111,  68.88888889,  76.66666667,  84.44444444,\n",
       "         92.22222222, 100.        ],\n",
       "       [ 40.        ,  46.66666667,  53.33333333,  60.        ,\n",
       "         66.66666667,  73.33333333,  80.        ,  86.66666667,\n",
       "         93.33333333, 100.        ]])"
      ]
     },
     "execution_count": 53,
     "metadata": {},
     "output_type": "execute_result"
    }
   ],
   "source": [
    "ln9 = np.linspace(start=[10,20,30,40],stop=100,num=10,axis=1)\n",
    "ln9"
   ]
  },
  {
   "cell_type": "code",
   "execution_count": 54,
   "id": "299ae055",
   "metadata": {},
   "outputs": [
    {
     "data": {
      "text/plain": [
       "array([[ 10.,  20.,  30.,  40.],\n",
       "       [ 20.,  30.,  40.,  50.],\n",
       "       [ 30.,  40.,  50.,  60.],\n",
       "       [ 40.,  50.,  60.,  70.],\n",
       "       [ 50.,  60.,  70.,  80.],\n",
       "       [ 60.,  70.,  80.,  90.],\n",
       "       [ 70.,  80.,  90., 100.],\n",
       "       [ 80.,  90., 100., 110.],\n",
       "       [ 90., 100., 110., 120.],\n",
       "       [100., 110., 120., 130.]])"
      ]
     },
     "execution_count": 54,
     "metadata": {},
     "output_type": "execute_result"
    }
   ],
   "source": [
    "ln10 = np.linspace(start=[10,20,30,40],stop=[100,110,120,130],num=10)\n",
    "ln10"
   ]
  },
  {
   "cell_type": "code",
   "execution_count": 55,
   "id": "447a4e89",
   "metadata": {},
   "outputs": [
    {
     "data": {
      "text/plain": [
       "array([[ 10,  20,  30,  40,  50,  60,  70,  80,  90, 100],\n",
       "       [ 20,  30,  40,  50,  60,  70,  80,  90, 100, 110],\n",
       "       [ 30,  40,  50,  60,  70,  80,  90, 100, 110, 120],\n",
       "       [ 40,  50,  60,  70,  80,  90, 100, 110, 120, 130]])"
      ]
     },
     "execution_count": 55,
     "metadata": {},
     "output_type": "execute_result"
    }
   ],
   "source": [
    "ln11 = np.linspace(start=[10,20,30,40],stop=[100,110,120,130],num=10,axis=1,dtype=np.int32)\n",
    "ln11"
   ]
  },
  {
   "cell_type": "code",
   "execution_count": 56,
   "id": "a4273f91",
   "metadata": {},
   "outputs": [
    {
     "data": {
      "text/plain": [
       "(array([[ 10.        ,  20.        ,  30.        ,  40.        ],\n",
       "        [ 20.        ,  28.88888889,  37.77777778,  46.66666667],\n",
       "        [ 30.        ,  37.77777778,  45.55555556,  53.33333333],\n",
       "        [ 40.        ,  46.66666667,  53.33333333,  60.        ],\n",
       "        [ 50.        ,  55.55555556,  61.11111111,  66.66666667],\n",
       "        [ 60.        ,  64.44444444,  68.88888889,  73.33333333],\n",
       "        [ 70.        ,  73.33333333,  76.66666667,  80.        ],\n",
       "        [ 80.        ,  82.22222222,  84.44444444,  86.66666667],\n",
       "        [ 90.        ,  91.11111111,  92.22222222,  93.33333333],\n",
       "        [100.        , 100.        , 100.        , 100.        ]]),\n",
       " array([10.        ,  8.88888889,  7.77777778,  6.66666667]))"
      ]
     },
     "execution_count": 56,
     "metadata": {},
     "output_type": "execute_result"
    }
   ],
   "source": [
    "ln12 = np.linspace(start=[10,20,30,40],stop=100,num=10,retstep=True)\n",
    "ln12"
   ]
  },
  {
   "cell_type": "code",
   "execution_count": 57,
   "id": "79908ca7",
   "metadata": {},
   "outputs": [
    {
     "data": {
      "text/plain": [
       "array([[[ 1.,  2.,  3.],\n",
       "        [ 4.,  5.,  6.]],\n",
       "\n",
       "       [[ 2.,  4.,  6.],\n",
       "        [ 8., 10., 12.]],\n",
       "\n",
       "       [[ 3.,  6.,  9.],\n",
       "        [12., 15., 18.]],\n",
       "\n",
       "       [[ 4.,  8., 12.],\n",
       "        [16., 20., 24.]],\n",
       "\n",
       "       [[ 5., 10., 15.],\n",
       "        [20., 25., 30.]],\n",
       "\n",
       "       [[ 6., 12., 18.],\n",
       "        [24., 30., 36.]],\n",
       "\n",
       "       [[ 7., 14., 21.],\n",
       "        [28., 35., 42.]],\n",
       "\n",
       "       [[ 8., 16., 24.],\n",
       "        [32., 40., 48.]],\n",
       "\n",
       "       [[ 9., 18., 27.],\n",
       "        [36., 45., 54.]],\n",
       "\n",
       "       [[10., 20., 30.],\n",
       "        [40., 50., 60.]]])"
      ]
     },
     "execution_count": 57,
     "metadata": {},
     "output_type": "execute_result"
    }
   ],
   "source": [
    "ln13 = np.linspace(start=[[1,2,3],[4,5,6]],stop=[[10,20,30],[40,50,60]],num=10)\n",
    "ln13"
   ]
  },
  {
   "cell_type": "code",
   "execution_count": 58,
   "id": "f1cf149e",
   "metadata": {},
   "outputs": [
    {
     "data": {
      "text/plain": [
       "array([[[ 1.,  2.,  3.],\n",
       "        [ 2.,  4.,  6.],\n",
       "        [ 3.,  6.,  9.],\n",
       "        [ 4.,  8., 12.],\n",
       "        [ 5., 10., 15.],\n",
       "        [ 6., 12., 18.],\n",
       "        [ 7., 14., 21.],\n",
       "        [ 8., 16., 24.],\n",
       "        [ 9., 18., 27.],\n",
       "        [10., 20., 30.]],\n",
       "\n",
       "       [[ 4.,  5.,  6.],\n",
       "        [ 8., 10., 12.],\n",
       "        [12., 15., 18.],\n",
       "        [16., 20., 24.],\n",
       "        [20., 25., 30.],\n",
       "        [24., 30., 36.],\n",
       "        [28., 35., 42.],\n",
       "        [32., 40., 48.],\n",
       "        [36., 45., 54.],\n",
       "        [40., 50., 60.]]])"
      ]
     },
     "execution_count": 58,
     "metadata": {},
     "output_type": "execute_result"
    }
   ],
   "source": [
    "ln14 = np.linspace(start=[[1,2,3],[4,5,6]],stop=[[10,20,30],[40,50,60]],num=10,axis=1)\n",
    "ln14"
   ]
  },
  {
   "cell_type": "code",
   "execution_count": 59,
   "id": "1ce33a1e",
   "metadata": {},
   "outputs": [
    {
     "data": {
      "text/plain": [
       "array([[[ 1.,  2.,  3.,  4.,  5.,  6.,  7.,  8.,  9., 10.],\n",
       "        [ 2.,  4.,  6.,  8., 10., 12., 14., 16., 18., 20.],\n",
       "        [ 3.,  6.,  9., 12., 15., 18., 21., 24., 27., 30.]],\n",
       "\n",
       "       [[ 4.,  8., 12., 16., 20., 24., 28., 32., 36., 40.],\n",
       "        [ 5., 10., 15., 20., 25., 30., 35., 40., 45., 50.],\n",
       "        [ 6., 12., 18., 24., 30., 36., 42., 48., 54., 60.]]])"
      ]
     },
     "execution_count": 59,
     "metadata": {},
     "output_type": "execute_result"
    }
   ],
   "source": [
    "ln15 = np.linspace(start=[[1,2,3],[4,5,6]],stop=[[10,20,30],[40,50,60]],num=10,axis=2)\n",
    "ln15"
   ]
  },
  {
   "cell_type": "markdown",
   "id": "d5e23747",
   "metadata": {},
   "source": [
    "## 6)Creating using `np.random.randint()`"
   ]
  },
  {
   "cell_type": "code",
   "execution_count": 60,
   "id": "7e89ba35",
   "metadata": {},
   "outputs": [
    {
     "data": {
      "text/plain": [
       "array([6, 9, 6, 1, 1, 2, 8])"
      ]
     },
     "execution_count": 60,
     "metadata": {},
     "output_type": "execute_result"
    }
   ],
   "source": [
    "np.random.seed(1)\n",
    "rin1 = np.random.randint(1,10,size=7)\n",
    "rin1"
   ]
  },
  {
   "cell_type": "code",
   "execution_count": 61,
   "id": "7692c696",
   "metadata": {},
   "outputs": [
    {
     "data": {
      "text/plain": [
       "array([[13, 16, 16, 10],\n",
       "       [19, 18, 14, 17]])"
      ]
     },
     "execution_count": 61,
     "metadata": {},
     "output_type": "execute_result"
    }
   ],
   "source": [
    "np.random.seed(5)\n",
    "rin2 = np.random.randint(low=10,high=20,size=(2,4))\n",
    "rin2"
   ]
  },
  {
   "cell_type": "code",
   "execution_count": 62,
   "id": "5ef66871",
   "metadata": {},
   "outputs": [
    {
     "data": {
      "text/plain": [
       "array([[[25, 28, 29, 25],\n",
       "        [20, 20, 21, 27],\n",
       "        [26, 29, 22, 24]],\n",
       "\n",
       "       [[25, 22, 24, 22],\n",
       "        [24, 27, 27, 29],\n",
       "        [21, 27, 20, 26]],\n",
       "\n",
       "       [[29, 29, 27, 26],\n",
       "        [29, 21, 20, 21],\n",
       "        [28, 28, 23, 29]]])"
      ]
     },
     "execution_count": 62,
     "metadata": {},
     "output_type": "execute_result"
    }
   ],
   "source": [
    "np.random.seed(1)\n",
    "rin3 = np.random.randint(low=20,high=30,size=(3,3,4))\n",
    "rin3"
   ]
  },
  {
   "cell_type": "code",
   "execution_count": 63,
   "id": "47e31c23",
   "metadata": {},
   "outputs": [
    {
     "data": {
      "text/plain": [
       "array([[1, 2, 1, 3],\n",
       "       [3, 1, 3, 2]])"
      ]
     },
     "execution_count": 63,
     "metadata": {},
     "output_type": "execute_result"
    }
   ],
   "source": [
    "np.random.seed(2)\n",
    "rin4 = np.random.randint(1,4,(2,4))\n",
    "rin4"
   ]
  },
  {
   "cell_type": "code",
   "execution_count": 64,
   "id": "7608f11c",
   "metadata": {},
   "outputs": [
    {
     "data": {
      "text/plain": [
       "5"
      ]
     },
     "execution_count": 64,
     "metadata": {},
     "output_type": "execute_result"
    }
   ],
   "source": [
    "np.random.seed(4)\n",
    "rin5 = np.random.randint(0,40)\n",
    "rin5"
   ]
  },
  {
   "cell_type": "code",
   "execution_count": 65,
   "id": "06121f9c",
   "metadata": {},
   "outputs": [
    {
     "data": {
      "text/plain": [
       "array([[3, 4, 0, 1, 3],\n",
       "       [0, 0, 1, 4, 4],\n",
       "       [1, 2, 4, 2, 4],\n",
       "       [3, 4, 2, 4, 2]])"
      ]
     },
     "execution_count": 65,
     "metadata": {},
     "output_type": "execute_result"
    }
   ],
   "source": [
    "np.random.seed(1)\n",
    "rin6 = np.random.randint(5,size=(4,5))\n",
    "rin6"
   ]
  },
  {
   "cell_type": "code",
   "execution_count": 66,
   "id": "3f344390",
   "metadata": {},
   "outputs": [
    {
     "data": {
      "text/plain": [
       "array([[5, 8, 9, 5, 0, 0, 1],\n",
       "       [7, 6, 9, 2, 4, 5, 2],\n",
       "       [4, 2, 4, 7, 7, 9, 1]])"
      ]
     },
     "execution_count": 66,
     "metadata": {},
     "output_type": "execute_result"
    }
   ],
   "source": [
    "np.random.seed(1)\n",
    "rin7 = np.random.randint(low=10,size=[3,7])\n",
    "rin7"
   ]
  },
  {
   "cell_type": "code",
   "execution_count": 67,
   "id": "fc57df5a",
   "metadata": {},
   "outputs": [
    {
     "ename": "ValueError",
     "evalue": "high <= 0",
     "output_type": "error",
     "traceback": [
      "\u001b[1;31m---------------------------------------------------------------------------\u001b[0m",
      "\u001b[1;31mValueError\u001b[0m                                Traceback (most recent call last)",
      "Cell \u001b[1;32mIn[67], line 1\u001b[0m\n\u001b[1;32m----> 1\u001b[0m rin8 \u001b[38;5;241m=\u001b[39m np\u001b[38;5;241m.\u001b[39mrandom\u001b[38;5;241m.\u001b[39mrandint(\u001b[38;5;241m0\u001b[39m,size\u001b[38;5;241m=\u001b[39m\u001b[38;5;241m7\u001b[39m)\n",
      "File \u001b[1;32mmtrand.pyx:763\u001b[0m, in \u001b[0;36mnumpy.random.mtrand.RandomState.randint\u001b[1;34m()\u001b[0m\n",
      "File \u001b[1;32m_bounded_integers.pyx:1338\u001b[0m, in \u001b[0;36mnumpy.random._bounded_integers._rand_int32\u001b[1;34m()\u001b[0m\n",
      "\u001b[1;31mValueError\u001b[0m: high <= 0"
     ]
    }
   ],
   "source": [
    "rin8 = np.random.randint(0,size=7)"
   ]
  },
  {
   "cell_type": "code",
   "execution_count": 68,
   "id": "522d47a9",
   "metadata": {},
   "outputs": [
    {
     "ename": "ValueError",
     "evalue": "low >= high",
     "output_type": "error",
     "traceback": [
      "\u001b[1;31m---------------------------------------------------------------------------\u001b[0m",
      "\u001b[1;31mValueError\u001b[0m                                Traceback (most recent call last)",
      "Cell \u001b[1;32mIn[68], line 1\u001b[0m\n\u001b[1;32m----> 1\u001b[0m rin9 \u001b[38;5;241m=\u001b[39m np\u001b[38;5;241m.\u001b[39mrandom\u001b[38;5;241m.\u001b[39mrandint(low\u001b[38;5;241m=\u001b[39m\u001b[38;5;241m5\u001b[39m,high\u001b[38;5;241m=\u001b[39m\u001b[38;5;241m1\u001b[39m,size\u001b[38;5;241m=\u001b[39m(\u001b[38;5;241m2\u001b[39m,\u001b[38;5;241m3\u001b[39m))\n",
      "File \u001b[1;32mmtrand.pyx:763\u001b[0m, in \u001b[0;36mnumpy.random.mtrand.RandomState.randint\u001b[1;34m()\u001b[0m\n",
      "File \u001b[1;32m_bounded_integers.pyx:1338\u001b[0m, in \u001b[0;36mnumpy.random._bounded_integers._rand_int32\u001b[1;34m()\u001b[0m\n",
      "\u001b[1;31mValueError\u001b[0m: low >= high"
     ]
    }
   ],
   "source": [
    "rin9 = np.random.randint(low=5,high=1,size=(2,3))"
   ]
  },
  {
   "cell_type": "code",
   "execution_count": 69,
   "id": "048fb41a",
   "metadata": {},
   "outputs": [
    {
     "data": {
      "text/plain": [
       "array([[6, 4, 5, 1],\n",
       "       [2, 4, 6, 1]])"
      ]
     },
     "execution_count": 69,
     "metadata": {},
     "output_type": "execute_result"
    }
   ],
   "source": [
    "np.random.seed(1)\n",
    "rin10 = np.random.randint(low=1.5,high=7.9,size=(2,4))\n",
    "rin10"
   ]
  },
  {
   "cell_type": "code",
   "execution_count": 70,
   "id": "d258629b",
   "metadata": {},
   "outputs": [
    {
     "data": {
      "text/plain": [
       "array([[[-5, -3, -6, -6, -3, -5, -3, -5],\n",
       "        [-3, -6, -6, -5, -6, -3, -5, -6],\n",
       "        [-4, -5, -4, -6, -4, -5, -4, -6]]])"
      ]
     },
     "execution_count": 70,
     "metadata": {},
     "output_type": "execute_result"
    }
   ],
   "source": [
    "np.random.seed(1)\n",
    "rin11 = np.random.randint(low=-6,high=-2,size=(1,3,8))\n",
    "rin11"
   ]
  },
  {
   "cell_type": "code",
   "execution_count": 71,
   "id": "fc60d6b3",
   "metadata": {},
   "outputs": [
    {
     "data": {
      "text/plain": [
       "array([3, 6, 4, 5, 5])"
      ]
     },
     "execution_count": 71,
     "metadata": {},
     "output_type": "execute_result"
    }
   ],
   "source": [
    "rin12 = np.random.randint(low=[1,2,3,4,5],high=10)\n",
    "rin12"
   ]
  },
  {
   "cell_type": "code",
   "execution_count": 72,
   "id": "ce871c42",
   "metadata": {},
   "outputs": [
    {
     "data": {
      "text/plain": [
       "array([3, 3, 4, 4, 4, 8, 9])"
      ]
     },
     "execution_count": 72,
     "metadata": {},
     "output_type": "execute_result"
    }
   ],
   "source": [
    "rin13 = np.random.randint(low=3,high=[4,5,6,7,8,9,10])\n",
    "rin13"
   ]
  },
  {
   "cell_type": "code",
   "execution_count": 73,
   "id": "f7e470f7",
   "metadata": {},
   "outputs": [
    {
     "ename": "ValueError",
     "evalue": "shape mismatch: objects cannot be broadcast to a single shape.  Mismatch is between arg 1 with shape (7,) and arg 2 with shape (2, 4).",
     "output_type": "error",
     "traceback": [
      "\u001b[1;31m---------------------------------------------------------------------------\u001b[0m",
      "\u001b[1;31mValueError\u001b[0m                                Traceback (most recent call last)",
      "Cell \u001b[1;32mIn[73], line 1\u001b[0m\n\u001b[1;32m----> 1\u001b[0m rin14 \u001b[38;5;241m=\u001b[39m np\u001b[38;5;241m.\u001b[39mrandom\u001b[38;5;241m.\u001b[39mrandint(low\u001b[38;5;241m=\u001b[39m\u001b[38;5;241m3\u001b[39m,high\u001b[38;5;241m=\u001b[39m[\u001b[38;5;241m4\u001b[39m,\u001b[38;5;241m5\u001b[39m,\u001b[38;5;241m6\u001b[39m,\u001b[38;5;241m7\u001b[39m,\u001b[38;5;241m8\u001b[39m,\u001b[38;5;241m9\u001b[39m,\u001b[38;5;241m10\u001b[39m],size\u001b[38;5;241m=\u001b[39m(\u001b[38;5;241m2\u001b[39m,\u001b[38;5;241m4\u001b[39m))\n",
      "File \u001b[1;32mmtrand.pyx:763\u001b[0m, in \u001b[0;36mnumpy.random.mtrand.RandomState.randint\u001b[1;34m()\u001b[0m\n",
      "File \u001b[1;32m_bounded_integers.pyx:1353\u001b[0m, in \u001b[0;36mnumpy.random._bounded_integers._rand_int32\u001b[1;34m()\u001b[0m\n",
      "File \u001b[1;32m_bounded_integers.pyx:387\u001b[0m, in \u001b[0;36mnumpy.random._bounded_integers._rand_int32_broadcast\u001b[1;34m()\u001b[0m\n",
      "File \u001b[1;32m__init__.pxd:741\u001b[0m, in \u001b[0;36mnumpy.PyArray_MultiIterNew3\u001b[1;34m()\u001b[0m\n",
      "\u001b[1;31mValueError\u001b[0m: shape mismatch: objects cannot be broadcast to a single shape.  Mismatch is between arg 1 with shape (7,) and arg 2 with shape (2, 4)."
     ]
    }
   ],
   "source": [
    "rin14 = np.random.randint(low=3,high=[4,5,6,7,8,9,10],size=(2,4))"
   ]
  },
  {
   "cell_type": "code",
   "execution_count": 74,
   "id": "74258430",
   "metadata": {},
   "outputs": [
    {
     "data": {
      "text/plain": [
       "array([2, 3, 3, 8, 6])"
      ]
     },
     "execution_count": 74,
     "metadata": {},
     "output_type": "execute_result"
    }
   ],
   "source": [
    "rin15 = np.random.randint(low=[1,2,3,4,5],high=[7,8,9,10,11])\n",
    "rin15"
   ]
  },
  {
   "cell_type": "code",
   "execution_count": 75,
   "id": "b37e5e16",
   "metadata": {},
   "outputs": [
    {
     "ename": "ValueError",
     "evalue": "operands could not be broadcast together with shapes (4,) (2,) ",
     "output_type": "error",
     "traceback": [
      "\u001b[1;31m---------------------------------------------------------------------------\u001b[0m",
      "\u001b[1;31mValueError\u001b[0m                                Traceback (most recent call last)",
      "Cell \u001b[1;32mIn[75], line 1\u001b[0m\n\u001b[1;32m----> 1\u001b[0m rin16 \u001b[38;5;241m=\u001b[39m np\u001b[38;5;241m.\u001b[39mrandom\u001b[38;5;241m.\u001b[39mrandint(low\u001b[38;5;241m=\u001b[39m[\u001b[38;5;241m1\u001b[39m,\u001b[38;5;241m2\u001b[39m,\u001b[38;5;241m3\u001b[39m,\u001b[38;5;241m4\u001b[39m],high\u001b[38;5;241m=\u001b[39m[\u001b[38;5;241m11\u001b[39m,\u001b[38;5;241m12\u001b[39m])\n",
      "File \u001b[1;32mmtrand.pyx:763\u001b[0m, in \u001b[0;36mnumpy.random.mtrand.RandomState.randint\u001b[1;34m()\u001b[0m\n",
      "File \u001b[1;32m_bounded_integers.pyx:1353\u001b[0m, in \u001b[0;36mnumpy.random._bounded_integers._rand_int32\u001b[1;34m()\u001b[0m\n",
      "File \u001b[1;32m_bounded_integers.pyx:375\u001b[0m, in \u001b[0;36mnumpy.random._bounded_integers._rand_int32_broadcast\u001b[1;34m()\u001b[0m\n",
      "\u001b[1;31mValueError\u001b[0m: operands could not be broadcast together with shapes (4,) (2,) "
     ]
    }
   ],
   "source": [
    "rin16 = np.random.randint(low=[1,2,3,4],high=[11,12])"
   ]
  },
  {
   "cell_type": "markdown",
   "id": "84e1c9b4",
   "metadata": {},
   "source": [
    "## 7)Creating using `np.random.random()`"
   ]
  },
  {
   "cell_type": "code",
   "execution_count": 76,
   "id": "c0e81fe8",
   "metadata": {},
   "outputs": [
    {
     "data": {
      "text/plain": [
       "array([0.54340494, 0.27836939, 0.42451759, 0.84477613, 0.00471886,\n",
       "       0.12156912, 0.67074908])"
      ]
     },
     "execution_count": 76,
     "metadata": {},
     "output_type": "execute_result"
    }
   ],
   "source": [
    "np.random.seed(100)\n",
    "rrn1 = np.random.random(7)\n",
    "rrn1"
   ]
  },
  {
   "cell_type": "code",
   "execution_count": 77,
   "id": "64dc9654",
   "metadata": {},
   "outputs": [
    {
     "data": {
      "text/plain": [
       "array([[0.11605886, 0.65845538, 0.37558898, 0.61278258],\n",
       "       [0.67949055, 0.68246313, 0.95501   , 0.63722294],\n",
       "       [0.51294361, 0.08617633, 0.38746845, 0.29044365]])"
      ]
     },
     "execution_count": 77,
     "metadata": {},
     "output_type": "execute_result"
    }
   ],
   "source": [
    "np.random.seed(110)\n",
    "rrn2 = np.random.random([3,4])\n",
    "rrn2"
   ]
  },
  {
   "cell_type": "code",
   "execution_count": 78,
   "id": "832a6707",
   "metadata": {},
   "outputs": [
    {
     "data": {
      "text/plain": [
       "array([[[0.78562563, 0.72298581, 0.92110921, 0.24929446, 0.53187711],\n",
       "        [0.0770701 , 0.86865633, 0.9451499 , 0.29593616, 0.00190572],\n",
       "        [0.90469584, 0.3191481 , 0.02951962, 0.18681647, 0.45073758]],\n",
       "\n",
       "       [[0.30582518, 0.01979762, 0.88265423, 0.14936613, 0.78989321],\n",
       "        [0.98599239, 0.75689422, 0.60701891, 0.89809489, 0.0706648 ],\n",
       "        [0.94690936, 0.87341823, 0.31277174, 0.04470116, 0.20160189]]])"
      ]
     },
     "execution_count": 78,
     "metadata": {},
     "output_type": "execute_result"
    }
   ],
   "source": [
    "np.random.random(120)\n",
    "rrn3 = np.random.random((2,3,5))\n",
    "rrn3"
   ]
  },
  {
   "cell_type": "code",
   "execution_count": 79,
   "id": "e5925513",
   "metadata": {},
   "outputs": [
    {
     "ename": "TypeError",
     "evalue": "expected a sequence of integers or a single integer, got '{2, 3}'",
     "output_type": "error",
     "traceback": [
      "\u001b[1;31m---------------------------------------------------------------------------\u001b[0m",
      "\u001b[1;31mTypeError\u001b[0m                                 Traceback (most recent call last)",
      "Cell \u001b[1;32mIn[79], line 1\u001b[0m\n\u001b[1;32m----> 1\u001b[0m rrn4 \u001b[38;5;241m=\u001b[39m np\u001b[38;5;241m.\u001b[39mrandom\u001b[38;5;241m.\u001b[39mrandom({\u001b[38;5;241m2\u001b[39m,\u001b[38;5;241m3\u001b[39m,\u001b[38;5;241m3\u001b[39m})\n\u001b[0;32m      2\u001b[0m rrn4\n",
      "File \u001b[1;32mmtrand.pyx:445\u001b[0m, in \u001b[0;36mnumpy.random.mtrand.RandomState.random\u001b[1;34m()\u001b[0m\n",
      "File \u001b[1;32mmtrand.pyx:436\u001b[0m, in \u001b[0;36mnumpy.random.mtrand.RandomState.random_sample\u001b[1;34m()\u001b[0m\n",
      "File \u001b[1;32m_common.pyx:307\u001b[0m, in \u001b[0;36mnumpy.random._common.double_fill\u001b[1;34m()\u001b[0m\n",
      "\u001b[1;31mTypeError\u001b[0m: expected a sequence of integers or a single integer, got '{2, 3}'"
     ]
    }
   ],
   "source": [
    "rrn4 = np.random.random({2,3,3})\n",
    "rrn4"
   ]
  },
  {
   "cell_type": "code",
   "execution_count": 80,
   "id": "13133abe",
   "metadata": {},
   "outputs": [
    {
     "data": {
      "text/plain": [
       "array([[[0.54340494, 0.27836939, 0.42451759, 0.84477613],\n",
       "        [0.00471886, 0.12156912, 0.67074908, 0.82585276],\n",
       "        [0.13670659, 0.57509333, 0.89132195, 0.20920212]],\n",
       "\n",
       "       [[0.18532822, 0.10837689, 0.21969749, 0.97862378],\n",
       "        [0.81168315, 0.17194101, 0.81622475, 0.27407375],\n",
       "        [0.43170418, 0.94002982, 0.81764938, 0.33611195]]])"
      ]
     },
     "execution_count": 80,
     "metadata": {},
     "output_type": "execute_result"
    }
   ],
   "source": [
    "np.random.seed(100)\n",
    "tup1 = (2,3,4)\n",
    "rrn5 = np.random.random(tup1)\n",
    "rrn5"
   ]
  },
  {
   "cell_type": "markdown",
   "id": "a0ed44db",
   "metadata": {},
   "source": [
    "## 8)Creating using `np.random.rand()`"
   ]
  },
  {
   "cell_type": "code",
   "execution_count": 81,
   "id": "3b1aadf5",
   "metadata": {},
   "outputs": [
    {
     "data": {
      "text/plain": [
       "array([0.54340494, 0.27836939, 0.42451759, 0.84477613, 0.00471886,\n",
       "       0.12156912, 0.67074908, 0.82585276])"
      ]
     },
     "execution_count": 81,
     "metadata": {},
     "output_type": "execute_result"
    }
   ],
   "source": [
    "np.random.seed(100)\n",
    "rrd1 = np.random.rand(8)\n",
    "rrd1"
   ]
  },
  {
   "cell_type": "code",
   "execution_count": 82,
   "id": "6a51e5f3",
   "metadata": {},
   "outputs": [
    {
     "data": {
      "text/plain": [
       "array([[0.11605886, 0.65845538, 0.37558898, 0.61278258, 0.67949055],\n",
       "       [0.68246313, 0.95501   , 0.63722294, 0.51294361, 0.08617633],\n",
       "       [0.38746845, 0.29044365, 0.13540107, 0.01010558, 0.41283188],\n",
       "       [0.4925909 , 0.02139758, 0.55951007, 0.07761669, 0.40766636]])"
      ]
     },
     "execution_count": 82,
     "metadata": {},
     "output_type": "execute_result"
    }
   ],
   "source": [
    "np.random.seed(110)\n",
    "rrd2 = np.random.rand(4,5)\n",
    "rrd2"
   ]
  },
  {
   "cell_type": "code",
   "execution_count": 83,
   "id": "c2c39600",
   "metadata": {},
   "outputs": [
    {
     "data": {
      "text/plain": [
       "array([[[0.54340494, 0.27836939, 0.42451759, 0.84477613, 0.00471886],\n",
       "        [0.12156912, 0.67074908, 0.82585276, 0.13670659, 0.57509333]],\n",
       "\n",
       "       [[0.89132195, 0.20920212, 0.18532822, 0.10837689, 0.21969749],\n",
       "        [0.97862378, 0.81168315, 0.17194101, 0.81622475, 0.27407375]],\n",
       "\n",
       "       [[0.43170418, 0.94002982, 0.81764938, 0.33611195, 0.17541045],\n",
       "        [0.37283205, 0.00568851, 0.25242635, 0.79566251, 0.01525497]]])"
      ]
     },
     "execution_count": 83,
     "metadata": {},
     "output_type": "execute_result"
    }
   ],
   "source": [
    "np.random.seed(100)\n",
    "rrd3 = np.random.rand(3,2,5)\n",
    "rrd3"
   ]
  },
  {
   "cell_type": "code",
   "execution_count": 84,
   "id": "ddcef521",
   "metadata": {},
   "outputs": [
    {
     "ename": "TypeError",
     "evalue": "'tuple' object cannot be interpreted as an integer",
     "output_type": "error",
     "traceback": [
      "\u001b[1;31m---------------------------------------------------------------------------\u001b[0m",
      "\u001b[1;31mTypeError\u001b[0m                                 Traceback (most recent call last)",
      "Cell \u001b[1;32mIn[84], line 2\u001b[0m\n\u001b[0;32m      1\u001b[0m tup1 \u001b[38;5;241m=\u001b[39m (\u001b[38;5;241m2\u001b[39m,\u001b[38;5;241m4\u001b[39m,\u001b[38;5;241m5\u001b[39m)\n\u001b[1;32m----> 2\u001b[0m rrd4 \u001b[38;5;241m=\u001b[39m np\u001b[38;5;241m.\u001b[39mrandom\u001b[38;5;241m.\u001b[39mrand(tup1)\n",
      "File \u001b[1;32mmtrand.pyx:1202\u001b[0m, in \u001b[0;36mnumpy.random.mtrand.RandomState.rand\u001b[1;34m()\u001b[0m\n",
      "File \u001b[1;32mmtrand.pyx:436\u001b[0m, in \u001b[0;36mnumpy.random.mtrand.RandomState.random_sample\u001b[1;34m()\u001b[0m\n",
      "File \u001b[1;32m_common.pyx:307\u001b[0m, in \u001b[0;36mnumpy.random._common.double_fill\u001b[1;34m()\u001b[0m\n",
      "\u001b[1;31mTypeError\u001b[0m: 'tuple' object cannot be interpreted as an integer"
     ]
    }
   ],
   "source": [
    "tup1 = (2,4,5)\n",
    "rrd4 = np.random.rand(tup1)"
   ]
  },
  {
   "cell_type": "code",
   "execution_count": 85,
   "id": "9403e870",
   "metadata": {},
   "outputs": [
    {
     "data": {
      "text/plain": [
       "array([[[0.54340494, 0.27836939, 0.42451759, 0.84477613, 0.00471886],\n",
       "        [0.12156912, 0.67074908, 0.82585276, 0.13670659, 0.57509333],\n",
       "        [0.89132195, 0.20920212, 0.18532822, 0.10837689, 0.21969749],\n",
       "        [0.97862378, 0.81168315, 0.17194101, 0.81622475, 0.27407375]],\n",
       "\n",
       "       [[0.43170418, 0.94002982, 0.81764938, 0.33611195, 0.17541045],\n",
       "        [0.37283205, 0.00568851, 0.25242635, 0.79566251, 0.01525497],\n",
       "        [0.59884338, 0.60380454, 0.10514769, 0.38194344, 0.03647606],\n",
       "        [0.89041156, 0.98092086, 0.05994199, 0.89054594, 0.5769015 ]]])"
      ]
     },
     "execution_count": 85,
     "metadata": {},
     "output_type": "execute_result"
    }
   ],
   "source": [
    "np.random.seed(100)\n",
    "rrd5 = np.random.rand(*tup1)\n",
    "rrd5"
   ]
  }
 ],
 "metadata": {
  "kernelspec": {
   "display_name": "Python 3 (ipykernel)",
   "language": "python",
   "name": "python3"
  },
  "language_info": {
   "codemirror_mode": {
    "name": "ipython",
    "version": 3
   },
   "file_extension": ".py",
   "mimetype": "text/x-python",
   "name": "python",
   "nbconvert_exporter": "python",
   "pygments_lexer": "ipython3",
   "version": "3.11.3"
  }
 },
 "nbformat": 4,
 "nbformat_minor": 5
}
