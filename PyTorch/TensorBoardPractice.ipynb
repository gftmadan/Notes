{
 "cells": [
  {
   "cell_type": "code",
   "execution_count": 1,
   "id": "0f5e2435",
   "metadata": {},
   "outputs": [],
   "source": [
    "import torch as th\n",
    "from torch import nn\n",
    "import numpy as np\n",
    "import torchvision as thv\n",
    "import time"
   ]
  },
  {
   "cell_type": "code",
   "execution_count": 2,
   "id": "9f83ea0f",
   "metadata": {},
   "outputs": [
    {
     "data": {
      "text/plain": [
       "'cuda'"
      ]
     },
     "execution_count": 2,
     "metadata": {},
     "output_type": "execute_result"
    }
   ],
   "source": [
    "DEVICE = \"cuda\" if th.cuda.is_available() else \"cpu\"\n",
    "DEVICE"
   ]
  },
  {
   "cell_type": "code",
   "execution_count": 3,
   "id": "faa46974",
   "metadata": {},
   "outputs": [
    {
     "data": {
      "text/plain": [
       "'0.16.0'"
      ]
     },
     "execution_count": 3,
     "metadata": {},
     "output_type": "execute_result"
    }
   ],
   "source": [
    "thv.__version__"
   ]
  },
  {
   "cell_type": "code",
   "execution_count": 4,
   "id": "e531a291",
   "metadata": {},
   "outputs": [
    {
     "data": {
      "text/plain": [
       "'2.1.0'"
      ]
     },
     "execution_count": 4,
     "metadata": {},
     "output_type": "execute_result"
    }
   ],
   "source": [
    "th.__version__"
   ]
  },
  {
   "cell_type": "code",
   "execution_count": 5,
   "id": "752456e1",
   "metadata": {},
   "outputs": [
    {
     "name": "stdout",
     "output_type": "stream",
     "text": [
      "Files already downloaded and verified\n"
     ]
    }
   ],
   "source": [
    "train_dataset = thv.datasets.CIFAR10(root=\"E:\\PyTorch\\Working Data\\Input Data\",\n",
    "                                     train=True,\n",
    "                                     download=True,\n",
    "                                     transform=thv.transforms.ToTensor())"
   ]
  },
  {
   "cell_type": "code",
   "execution_count": 6,
   "id": "d4ef8c65",
   "metadata": {},
   "outputs": [
    {
     "name": "stdout",
     "output_type": "stream",
     "text": [
      "Files already downloaded and verified\n"
     ]
    }
   ],
   "source": [
    "test_dataset = thv.datasets.CIFAR10(root=\"E:\\PyTorch\\Working Data\\Input Data\",\n",
    "                                    train=False,\n",
    "                                    download=True,\n",
    "                                    transform=thv.transforms.ToTensor())"
   ]
  },
  {
   "cell_type": "code",
   "execution_count": 7,
   "id": "2a6bda33",
   "metadata": {},
   "outputs": [
    {
     "data": {
      "text/plain": [
       "50000"
      ]
     },
     "execution_count": 7,
     "metadata": {},
     "output_type": "execute_result"
    }
   ],
   "source": [
    "len(train_dataset)"
   ]
  },
  {
   "cell_type": "code",
   "execution_count": 8,
   "id": "be045463",
   "metadata": {},
   "outputs": [
    {
     "data": {
      "text/plain": [
       "(tensor([[[0.2314, 0.1686, 0.1961,  ..., 0.6196, 0.5961, 0.5804],\n",
       "          [0.0627, 0.0000, 0.0706,  ..., 0.4824, 0.4667, 0.4784],\n",
       "          [0.0980, 0.0627, 0.1922,  ..., 0.4627, 0.4706, 0.4275],\n",
       "          ...,\n",
       "          [0.8157, 0.7882, 0.7765,  ..., 0.6275, 0.2196, 0.2078],\n",
       "          [0.7059, 0.6784, 0.7294,  ..., 0.7216, 0.3804, 0.3255],\n",
       "          [0.6941, 0.6588, 0.7020,  ..., 0.8471, 0.5922, 0.4824]],\n",
       " \n",
       "         [[0.2431, 0.1804, 0.1882,  ..., 0.5176, 0.4902, 0.4863],\n",
       "          [0.0784, 0.0000, 0.0314,  ..., 0.3451, 0.3255, 0.3412],\n",
       "          [0.0941, 0.0275, 0.1059,  ..., 0.3294, 0.3294, 0.2863],\n",
       "          ...,\n",
       "          [0.6667, 0.6000, 0.6314,  ..., 0.5216, 0.1216, 0.1333],\n",
       "          [0.5451, 0.4824, 0.5647,  ..., 0.5804, 0.2431, 0.2078],\n",
       "          [0.5647, 0.5059, 0.5569,  ..., 0.7216, 0.4627, 0.3608]],\n",
       " \n",
       "         [[0.2471, 0.1765, 0.1686,  ..., 0.4235, 0.4000, 0.4039],\n",
       "          [0.0784, 0.0000, 0.0000,  ..., 0.2157, 0.1961, 0.2235],\n",
       "          [0.0824, 0.0000, 0.0314,  ..., 0.1961, 0.1961, 0.1647],\n",
       "          ...,\n",
       "          [0.3765, 0.1333, 0.1020,  ..., 0.2745, 0.0275, 0.0784],\n",
       "          [0.3765, 0.1647, 0.1176,  ..., 0.3686, 0.1333, 0.1333],\n",
       "          [0.4549, 0.3686, 0.3412,  ..., 0.5490, 0.3294, 0.2824]]]),\n",
       " 6)"
      ]
     },
     "execution_count": 8,
     "metadata": {},
     "output_type": "execute_result"
    }
   ],
   "source": [
    "train_dataset[0]"
   ]
  },
  {
   "cell_type": "code",
   "execution_count": 9,
   "id": "c0755224",
   "metadata": {},
   "outputs": [
    {
     "data": {
      "text/plain": [
       "10000"
      ]
     },
     "execution_count": 9,
     "metadata": {},
     "output_type": "execute_result"
    }
   ],
   "source": [
    "len(test_dataset)"
   ]
  },
  {
   "cell_type": "code",
   "execution_count": 10,
   "id": "94e32afd",
   "metadata": {},
   "outputs": [
    {
     "data": {
      "text/plain": [
       "(tensor([[[0.6196, 0.6235, 0.6471,  ..., 0.5373, 0.4941, 0.4549],\n",
       "          [0.5961, 0.5922, 0.6235,  ..., 0.5333, 0.4902, 0.4667],\n",
       "          [0.5922, 0.5922, 0.6196,  ..., 0.5451, 0.5098, 0.4706],\n",
       "          ...,\n",
       "          [0.2667, 0.1647, 0.1216,  ..., 0.1490, 0.0510, 0.1569],\n",
       "          [0.2392, 0.1922, 0.1373,  ..., 0.1020, 0.1137, 0.0784],\n",
       "          [0.2118, 0.2196, 0.1765,  ..., 0.0941, 0.1333, 0.0824]],\n",
       " \n",
       "         [[0.4392, 0.4353, 0.4549,  ..., 0.3725, 0.3569, 0.3333],\n",
       "          [0.4392, 0.4314, 0.4471,  ..., 0.3725, 0.3569, 0.3451],\n",
       "          [0.4314, 0.4275, 0.4353,  ..., 0.3843, 0.3725, 0.3490],\n",
       "          ...,\n",
       "          [0.4863, 0.3922, 0.3451,  ..., 0.3804, 0.2510, 0.3333],\n",
       "          [0.4549, 0.4000, 0.3333,  ..., 0.3216, 0.3216, 0.2510],\n",
       "          [0.4196, 0.4118, 0.3490,  ..., 0.3020, 0.3294, 0.2627]],\n",
       " \n",
       "         [[0.1922, 0.1843, 0.2000,  ..., 0.1412, 0.1412, 0.1294],\n",
       "          [0.2000, 0.1569, 0.1765,  ..., 0.1216, 0.1255, 0.1333],\n",
       "          [0.1843, 0.1294, 0.1412,  ..., 0.1333, 0.1333, 0.1294],\n",
       "          ...,\n",
       "          [0.6941, 0.5804, 0.5373,  ..., 0.5725, 0.4235, 0.4980],\n",
       "          [0.6588, 0.5804, 0.5176,  ..., 0.5098, 0.4941, 0.4196],\n",
       "          [0.6275, 0.5843, 0.5176,  ..., 0.4863, 0.5059, 0.4314]]]),\n",
       " 3)"
      ]
     },
     "execution_count": 10,
     "metadata": {},
     "output_type": "execute_result"
    }
   ],
   "source": [
    "test_dataset[0]"
   ]
  },
  {
   "cell_type": "code",
   "execution_count": 11,
   "id": "66477dbc",
   "metadata": {},
   "outputs": [],
   "source": [
    "X_train = [x for x,y in train_dataset]"
   ]
  },
  {
   "cell_type": "code",
   "execution_count": 12,
   "id": "f13d6aa0",
   "metadata": {},
   "outputs": [],
   "source": [
    "Y_train = [[y] for x,y in train_dataset]"
   ]
  },
  {
   "cell_type": "code",
   "execution_count": 13,
   "id": "21d44124",
   "metadata": {},
   "outputs": [],
   "source": [
    "X_test = [x for x,y in test_dataset]"
   ]
  },
  {
   "cell_type": "code",
   "execution_count": 14,
   "id": "a0af45b0",
   "metadata": {},
   "outputs": [],
   "source": [
    "Y_test = [[y] for x,y in test_dataset]"
   ]
  },
  {
   "cell_type": "code",
   "execution_count": null,
   "id": "881abb99",
   "metadata": {},
   "outputs": [],
   "source": []
  },
  {
   "cell_type": "code",
   "execution_count": null,
   "id": "94816512",
   "metadata": {},
   "outputs": [],
   "source": []
  },
  {
   "cell_type": "code",
   "execution_count": 15,
   "id": "f5f542ed",
   "metadata": {},
   "outputs": [],
   "source": [
    "from sklearn.preprocessing import OneHotEncoder\n",
    "\n",
    "OHE = OneHotEncoder(sparse_output=False)\n",
    "\n",
    "Y_main_train = OHE.fit_transform(Y_train)\n",
    "Y_main_test = OHE.transform(Y_test)"
   ]
  },
  {
   "cell_type": "code",
   "execution_count": 16,
   "id": "08e5d9f3",
   "metadata": {},
   "outputs": [
    {
     "data": {
      "text/plain": [
       "array([[0., 0., 0., ..., 0., 0., 0.],\n",
       "       [0., 0., 0., ..., 0., 0., 1.],\n",
       "       [0., 0., 0., ..., 0., 0., 1.],\n",
       "       ...,\n",
       "       [0., 0., 0., ..., 0., 0., 1.],\n",
       "       [0., 1., 0., ..., 0., 0., 0.],\n",
       "       [0., 1., 0., ..., 0., 0., 0.]])"
      ]
     },
     "execution_count": 16,
     "metadata": {},
     "output_type": "execute_result"
    }
   ],
   "source": [
    "Y_main_train"
   ]
  },
  {
   "cell_type": "code",
   "execution_count": 17,
   "id": "2ea729a3",
   "metadata": {},
   "outputs": [
    {
     "data": {
      "text/plain": [
       "array([[0., 0., 0., ..., 0., 0., 0.],\n",
       "       [0., 0., 0., ..., 0., 1., 0.],\n",
       "       [0., 0., 0., ..., 0., 1., 0.],\n",
       "       ...,\n",
       "       [0., 0., 0., ..., 0., 0., 0.],\n",
       "       [0., 1., 0., ..., 0., 0., 0.],\n",
       "       [0., 0., 0., ..., 1., 0., 0.]])"
      ]
     },
     "execution_count": 17,
     "metadata": {},
     "output_type": "execute_result"
    }
   ],
   "source": [
    "Y_main_test"
   ]
  },
  {
   "cell_type": "code",
   "execution_count": 18,
   "id": "cbc15d04",
   "metadata": {},
   "outputs": [
    {
     "data": {
      "text/plain": [
       "(50000, 10)"
      ]
     },
     "execution_count": 18,
     "metadata": {},
     "output_type": "execute_result"
    }
   ],
   "source": [
    "Y_main_train.shape"
   ]
  },
  {
   "cell_type": "code",
   "execution_count": 19,
   "id": "5552f55a",
   "metadata": {},
   "outputs": [
    {
     "data": {
      "text/plain": [
       "(10000, 10)"
      ]
     },
     "execution_count": 19,
     "metadata": {},
     "output_type": "execute_result"
    }
   ],
   "source": [
    "Y_main_test.shape"
   ]
  },
  {
   "cell_type": "code",
   "execution_count": null,
   "id": "77445a29",
   "metadata": {},
   "outputs": [],
   "source": []
  },
  {
   "cell_type": "code",
   "execution_count": 20,
   "id": "69df41fb",
   "metadata": {},
   "outputs": [],
   "source": [
    "X_train_tensor = th.Tensor(np.array(X_train))\n",
    "Y_train_tensor = th.Tensor(Y_main_train)\n",
    "X_test_tensor = th.Tensor(np.array(X_test))\n",
    "Y_test_tensor = th.Tensor(Y_main_test)"
   ]
  },
  {
   "cell_type": "code",
   "execution_count": 21,
   "id": "02057448",
   "metadata": {},
   "outputs": [
    {
     "data": {
      "text/plain": [
       "torch.Size([50000, 3, 32, 32])"
      ]
     },
     "execution_count": 21,
     "metadata": {},
     "output_type": "execute_result"
    }
   ],
   "source": [
    "X_train_tensor.shape"
   ]
  },
  {
   "cell_type": "code",
   "execution_count": 22,
   "id": "79fed6f9",
   "metadata": {},
   "outputs": [
    {
     "data": {
      "text/plain": [
       "torch.float32"
      ]
     },
     "execution_count": 22,
     "metadata": {},
     "output_type": "execute_result"
    }
   ],
   "source": [
    "X_train_tensor.dtype"
   ]
  },
  {
   "cell_type": "code",
   "execution_count": 23,
   "id": "3a63aeb1",
   "metadata": {},
   "outputs": [
    {
     "data": {
      "text/plain": [
       "torch.Size([50000, 10])"
      ]
     },
     "execution_count": 23,
     "metadata": {},
     "output_type": "execute_result"
    }
   ],
   "source": [
    "Y_train_tensor.shape"
   ]
  },
  {
   "cell_type": "code",
   "execution_count": 24,
   "id": "d95b80de",
   "metadata": {},
   "outputs": [
    {
     "data": {
      "text/plain": [
       "torch.float32"
      ]
     },
     "execution_count": 24,
     "metadata": {},
     "output_type": "execute_result"
    }
   ],
   "source": [
    "Y_train_tensor.dtype"
   ]
  },
  {
   "cell_type": "code",
   "execution_count": 25,
   "id": "f16f0665",
   "metadata": {},
   "outputs": [
    {
     "data": {
      "text/plain": [
       "torch.Size([10000, 3, 32, 32])"
      ]
     },
     "execution_count": 25,
     "metadata": {},
     "output_type": "execute_result"
    }
   ],
   "source": [
    "X_test_tensor.shape"
   ]
  },
  {
   "cell_type": "code",
   "execution_count": 26,
   "id": "07066927",
   "metadata": {},
   "outputs": [
    {
     "data": {
      "text/plain": [
       "torch.float32"
      ]
     },
     "execution_count": 26,
     "metadata": {},
     "output_type": "execute_result"
    }
   ],
   "source": [
    "X_test_tensor.dtype"
   ]
  },
  {
   "cell_type": "code",
   "execution_count": 27,
   "id": "83f06c6f",
   "metadata": {},
   "outputs": [
    {
     "data": {
      "text/plain": [
       "torch.Size([10000, 10])"
      ]
     },
     "execution_count": 27,
     "metadata": {},
     "output_type": "execute_result"
    }
   ],
   "source": [
    "Y_test_tensor.shape"
   ]
  },
  {
   "cell_type": "code",
   "execution_count": 28,
   "id": "5f978d1e",
   "metadata": {},
   "outputs": [
    {
     "data": {
      "text/plain": [
       "torch.float32"
      ]
     },
     "execution_count": 28,
     "metadata": {},
     "output_type": "execute_result"
    }
   ],
   "source": [
    "Y_test_tensor.dtype"
   ]
  },
  {
   "cell_type": "code",
   "execution_count": 29,
   "id": "78fbae85",
   "metadata": {},
   "outputs": [],
   "source": [
    "train_main_dataset = th.utils.data.TensorDataset(X_train_tensor,Y_train_tensor)"
   ]
  },
  {
   "cell_type": "code",
   "execution_count": 30,
   "id": "51ee72bb",
   "metadata": {},
   "outputs": [
    {
     "data": {
      "text/plain": [
       "50000"
      ]
     },
     "execution_count": 30,
     "metadata": {},
     "output_type": "execute_result"
    }
   ],
   "source": [
    "len(train_main_dataset)"
   ]
  },
  {
   "cell_type": "code",
   "execution_count": 31,
   "id": "359999fb",
   "metadata": {},
   "outputs": [
    {
     "data": {
      "text/plain": [
       "(tensor([[[0.2314, 0.1686, 0.1961,  ..., 0.6196, 0.5961, 0.5804],\n",
       "          [0.0627, 0.0000, 0.0706,  ..., 0.4824, 0.4667, 0.4784],\n",
       "          [0.0980, 0.0627, 0.1922,  ..., 0.4627, 0.4706, 0.4275],\n",
       "          ...,\n",
       "          [0.8157, 0.7882, 0.7765,  ..., 0.6275, 0.2196, 0.2078],\n",
       "          [0.7059, 0.6784, 0.7294,  ..., 0.7216, 0.3804, 0.3255],\n",
       "          [0.6941, 0.6588, 0.7020,  ..., 0.8471, 0.5922, 0.4824]],\n",
       " \n",
       "         [[0.2431, 0.1804, 0.1882,  ..., 0.5176, 0.4902, 0.4863],\n",
       "          [0.0784, 0.0000, 0.0314,  ..., 0.3451, 0.3255, 0.3412],\n",
       "          [0.0941, 0.0275, 0.1059,  ..., 0.3294, 0.3294, 0.2863],\n",
       "          ...,\n",
       "          [0.6667, 0.6000, 0.6314,  ..., 0.5216, 0.1216, 0.1333],\n",
       "          [0.5451, 0.4824, 0.5647,  ..., 0.5804, 0.2431, 0.2078],\n",
       "          [0.5647, 0.5059, 0.5569,  ..., 0.7216, 0.4627, 0.3608]],\n",
       " \n",
       "         [[0.2471, 0.1765, 0.1686,  ..., 0.4235, 0.4000, 0.4039],\n",
       "          [0.0784, 0.0000, 0.0000,  ..., 0.2157, 0.1961, 0.2235],\n",
       "          [0.0824, 0.0000, 0.0314,  ..., 0.1961, 0.1961, 0.1647],\n",
       "          ...,\n",
       "          [0.3765, 0.1333, 0.1020,  ..., 0.2745, 0.0275, 0.0784],\n",
       "          [0.3765, 0.1647, 0.1176,  ..., 0.3686, 0.1333, 0.1333],\n",
       "          [0.4549, 0.3686, 0.3412,  ..., 0.5490, 0.3294, 0.2824]]]),\n",
       " tensor([0., 0., 0., 0., 0., 0., 1., 0., 0., 0.]))"
      ]
     },
     "execution_count": 31,
     "metadata": {},
     "output_type": "execute_result"
    }
   ],
   "source": [
    "train_main_dataset[0]"
   ]
  },
  {
   "cell_type": "code",
   "execution_count": 32,
   "id": "3a6ffc4e",
   "metadata": {},
   "outputs": [],
   "source": [
    "test_main_dataset = th.utils.data.TensorDataset(X_test_tensor,Y_test_tensor)"
   ]
  },
  {
   "cell_type": "code",
   "execution_count": 33,
   "id": "a73d8d1b",
   "metadata": {},
   "outputs": [
    {
     "data": {
      "text/plain": [
       "10000"
      ]
     },
     "execution_count": 33,
     "metadata": {},
     "output_type": "execute_result"
    }
   ],
   "source": [
    "len(test_main_dataset)"
   ]
  },
  {
   "cell_type": "code",
   "execution_count": 34,
   "id": "04580bd9",
   "metadata": {},
   "outputs": [
    {
     "data": {
      "text/plain": [
       "(tensor([[[0.6196, 0.6235, 0.6471,  ..., 0.5373, 0.4941, 0.4549],\n",
       "          [0.5961, 0.5922, 0.6235,  ..., 0.5333, 0.4902, 0.4667],\n",
       "          [0.5922, 0.5922, 0.6196,  ..., 0.5451, 0.5098, 0.4706],\n",
       "          ...,\n",
       "          [0.2667, 0.1647, 0.1216,  ..., 0.1490, 0.0510, 0.1569],\n",
       "          [0.2392, 0.1922, 0.1373,  ..., 0.1020, 0.1137, 0.0784],\n",
       "          [0.2118, 0.2196, 0.1765,  ..., 0.0941, 0.1333, 0.0824]],\n",
       " \n",
       "         [[0.4392, 0.4353, 0.4549,  ..., 0.3725, 0.3569, 0.3333],\n",
       "          [0.4392, 0.4314, 0.4471,  ..., 0.3725, 0.3569, 0.3451],\n",
       "          [0.4314, 0.4275, 0.4353,  ..., 0.3843, 0.3725, 0.3490],\n",
       "          ...,\n",
       "          [0.4863, 0.3922, 0.3451,  ..., 0.3804, 0.2510, 0.3333],\n",
       "          [0.4549, 0.4000, 0.3333,  ..., 0.3216, 0.3216, 0.2510],\n",
       "          [0.4196, 0.4118, 0.3490,  ..., 0.3020, 0.3294, 0.2627]],\n",
       " \n",
       "         [[0.1922, 0.1843, 0.2000,  ..., 0.1412, 0.1412, 0.1294],\n",
       "          [0.2000, 0.1569, 0.1765,  ..., 0.1216, 0.1255, 0.1333],\n",
       "          [0.1843, 0.1294, 0.1412,  ..., 0.1333, 0.1333, 0.1294],\n",
       "          ...,\n",
       "          [0.6941, 0.5804, 0.5373,  ..., 0.5725, 0.4235, 0.4980],\n",
       "          [0.6588, 0.5804, 0.5176,  ..., 0.5098, 0.4941, 0.4196],\n",
       "          [0.6275, 0.5843, 0.5176,  ..., 0.4863, 0.5059, 0.4314]]]),\n",
       " tensor([0., 0., 0., 1., 0., 0., 0., 0., 0., 0.]))"
      ]
     },
     "execution_count": 34,
     "metadata": {},
     "output_type": "execute_result"
    }
   ],
   "source": [
    "test_main_dataset[0]"
   ]
  },
  {
   "cell_type": "code",
   "execution_count": 35,
   "id": "889f570e",
   "metadata": {},
   "outputs": [],
   "source": [
    "train_dataloader = th.utils.data.DataLoader(train_main_dataset,\n",
    "                                            batch_size=32,\n",
    "                                            shuffle=True)"
   ]
  },
  {
   "cell_type": "code",
   "execution_count": 36,
   "id": "e9e46145",
   "metadata": {},
   "outputs": [],
   "source": [
    "test_dataloader = th.utils.data.DataLoader(test_main_dataset,\n",
    "                                           batch_size=32, \n",
    "                                           shuffle=False)"
   ]
  },
  {
   "cell_type": "code",
   "execution_count": 37,
   "id": "f20a4e79",
   "metadata": {},
   "outputs": [
    {
     "data": {
      "text/plain": [
       "1563"
      ]
     },
     "execution_count": 37,
     "metadata": {},
     "output_type": "execute_result"
    }
   ],
   "source": [
    "len(train_dataloader)"
   ]
  },
  {
   "cell_type": "code",
   "execution_count": 38,
   "id": "341b55eb",
   "metadata": {},
   "outputs": [
    {
     "data": {
      "text/plain": [
       "50016"
      ]
     },
     "execution_count": 38,
     "metadata": {},
     "output_type": "execute_result"
    }
   ],
   "source": [
    "1563*32"
   ]
  },
  {
   "cell_type": "code",
   "execution_count": 39,
   "id": "86906ce2",
   "metadata": {},
   "outputs": [
    {
     "data": {
      "text/plain": [
       "313"
      ]
     },
     "execution_count": 39,
     "metadata": {},
     "output_type": "execute_result"
    }
   ],
   "source": [
    "len(test_dataloader)"
   ]
  },
  {
   "cell_type": "code",
   "execution_count": 40,
   "id": "cffeecda",
   "metadata": {},
   "outputs": [
    {
     "data": {
      "text/plain": [
       "10016"
      ]
     },
     "execution_count": 40,
     "metadata": {},
     "output_type": "execute_result"
    }
   ],
   "source": [
    "313*32"
   ]
  },
  {
   "cell_type": "code",
   "execution_count": 63,
   "id": "9373d4ca",
   "metadata": {},
   "outputs": [],
   "source": [
    "model = nn.Sequential(\n",
    "                        nn.Conv2d(in_channels=3,out_channels=10,kernel_size=3,stride=1,padding=\"valid\"),\n",
    "                        nn.ReLU(),\n",
    "                        nn.Conv2d(in_channels=10,out_channels=10,kernel_size=3,stride=1,padding=\"valid\"),\n",
    "                        nn.ReLU(),\n",
    "                        nn.MaxPool2d(kernel_size=2),\n",
    "                        nn.Conv2d(in_channels=10,out_channels=10,kernel_size=3,stride=1,padding=\"valid\"),\n",
    "                        nn.ReLU(),\n",
    "                        nn.Conv2d(in_channels=10,out_channels=10,kernel_size=3,stride=1,padding=\"valid\"),\n",
    "                        nn.ReLU(),\n",
    "                        nn.MaxPool2d(kernel_size=2),\n",
    "                        nn.Flatten(),\n",
    "                        nn.Linear(in_features=250,out_features=10)\n",
    ")"
   ]
  },
  {
   "cell_type": "code",
   "execution_count": 64,
   "id": "2a1dcacc",
   "metadata": {},
   "outputs": [
    {
     "data": {
      "text/plain": [
       "Sequential(\n",
       "  (0): Conv2d(3, 10, kernel_size=(3, 3), stride=(1, 1), padding=valid)\n",
       "  (1): ReLU()\n",
       "  (2): Conv2d(10, 10, kernel_size=(3, 3), stride=(1, 1), padding=valid)\n",
       "  (3): ReLU()\n",
       "  (4): MaxPool2d(kernel_size=2, stride=2, padding=0, dilation=1, ceil_mode=False)\n",
       "  (5): Conv2d(10, 10, kernel_size=(3, 3), stride=(1, 1), padding=valid)\n",
       "  (6): ReLU()\n",
       "  (7): Conv2d(10, 10, kernel_size=(3, 3), stride=(1, 1), padding=valid)\n",
       "  (8): ReLU()\n",
       "  (9): MaxPool2d(kernel_size=2, stride=2, padding=0, dilation=1, ceil_mode=False)\n",
       "  (10): Flatten(start_dim=1, end_dim=-1)\n",
       "  (11): Linear(in_features=250, out_features=10, bias=True)\n",
       ")"
      ]
     },
     "execution_count": 64,
     "metadata": {},
     "output_type": "execute_result"
    }
   ],
   "source": [
    "model"
   ]
  },
  {
   "cell_type": "code",
   "execution_count": 65,
   "id": "125fe609",
   "metadata": {},
   "outputs": [
    {
     "data": {
      "text/plain": [
       "5520"
      ]
     },
     "execution_count": 65,
     "metadata": {},
     "output_type": "execute_result"
    }
   ],
   "source": [
    "trainable_params = sum(\n",
    "    p.numel() for p in model.parameters()\n",
    ")\n",
    "trainable_params"
   ]
  },
  {
   "cell_type": "code",
   "execution_count": 66,
   "id": "e67e8dc3",
   "metadata": {},
   "outputs": [],
   "source": [
    "loss_fn = nn.CrossEntropyLoss()\n",
    "\n",
    "optimizer = th.optim.Adam(model.parameters(),\n",
    "                          lr=0.001)"
   ]
  },
  {
   "cell_type": "code",
   "execution_count": 67,
   "id": "0a75c752",
   "metadata": {},
   "outputs": [],
   "source": [
    "def accuracy(Y_pred,Y_true):\n",
    "    correct = th.eq(Y_pred,Y_true).sum().item()\n",
    "    acc = (correct/len(Y_pred))*100\n",
    "    return acc"
   ]
  },
  {
   "cell_type": "code",
   "execution_count": 68,
   "id": "9791ce26",
   "metadata": {},
   "outputs": [],
   "source": [
    "from torch.utils.tensorboard import SummaryWriter\n",
    "\n",
    "writer = SummaryWriter()"
   ]
  },
  {
   "cell_type": "code",
   "execution_count": 69,
   "id": "8a3d7be0",
   "metadata": {},
   "outputs": [],
   "source": [
    "from torch.utils.tensorboard import SummaryWriter\n",
    "\n",
    "writer1 = SummaryWriter(log_dir=\"abc\")"
   ]
  },
  {
   "cell_type": "code",
   "execution_count": 70,
   "id": "574bc08c",
   "metadata": {},
   "outputs": [],
   "source": [
    "writer2 = SummaryWriter(log_dir=\"abcdefg\\\\ab\\\\bcd\")"
   ]
  },
  {
   "cell_type": "code",
   "execution_count": 61,
   "id": "1bcb2794",
   "metadata": {},
   "outputs": [
    {
     "name": "stdout",
     "output_type": "stream",
     "text": [
      "Epoch 0[4.7] :- |Train Loss:- 1.74 <--------> Train Accuracy:- 36.68|++++++++|Test Loss:- 1.54 <--------> Test Accuracy :- 44.64|\n",
      "Epoch 1[4.5] :- |Train Loss:- 1.48 <--------> Train Accuracy:- 46.82|++++++++|Test Loss:- 1.42 <--------> Test Accuracy :- 49.06|\n",
      "Epoch 2[4.95] :- |Train Loss:- 1.40 <--------> Train Accuracy:- 49.87|++++++++|Test Loss:- 1.35 <--------> Test Accuracy :- 51.14|\n",
      "Epoch 3[4.63] :- |Train Loss:- 1.34 <--------> Train Accuracy:- 52.01|++++++++|Test Loss:- 1.34 <--------> Test Accuracy :- 51.92|\n",
      "Epoch 4[4.54] :- |Train Loss:- 1.30 <--------> Train Accuracy:- 53.80|++++++++|Test Loss:- 1.26 <--------> Test Accuracy :- 55.47|\n",
      "Epoch 5[4.54] :- |Train Loss:- 1.25 <--------> Train Accuracy:- 55.93|++++++++|Test Loss:- 1.27 <--------> Test Accuracy :- 54.66|\n",
      "Epoch 6[4.55] :- |Train Loss:- 1.21 <--------> Train Accuracy:- 57.22|++++++++|Test Loss:- 1.19 <--------> Test Accuracy :- 57.43|\n",
      "Epoch 7[4.55] :- |Train Loss:- 1.18 <--------> Train Accuracy:- 58.67|++++++++|Test Loss:- 1.16 <--------> Test Accuracy :- 59.01|\n",
      "Epoch 8[4.57] :- |Train Loss:- 1.14 <--------> Train Accuracy:- 59.56|++++++++|Test Loss:- 1.15 <--------> Test Accuracy :- 59.32|\n",
      "Epoch 9[4.55] :- |Train Loss:- 1.12 <--------> Train Accuracy:- 60.48|++++++++|Test Loss:- 1.10 <--------> Test Accuracy :- 61.21|\n",
      "Epoch 10[4.54] :- |Train Loss:- 1.10 <--------> Train Accuracy:- 61.33|++++++++|Test Loss:- 1.10 <--------> Test Accuracy :- 60.91|\n",
      "Epoch 11[4.61] :- |Train Loss:- 1.08 <--------> Train Accuracy:- 62.02|++++++++|Test Loss:- 1.17 <--------> Test Accuracy :- 59.93|\n",
      "Epoch 12[4.55] :- |Train Loss:- 1.06 <--------> Train Accuracy:- 62.47|++++++++|Test Loss:- 1.08 <--------> Test Accuracy :- 62.12|\n",
      "Epoch 13[4.38] :- |Train Loss:- 1.05 <--------> Train Accuracy:- 63.03|++++++++|Test Loss:- 1.08 <--------> Test Accuracy :- 62.11|\n",
      "Epoch 14[4.33] :- |Train Loss:- 1.04 <--------> Train Accuracy:- 63.19|++++++++|Test Loss:- 1.06 <--------> Test Accuracy :- 62.36|\n",
      "Epoch 15[4.32] :- |Train Loss:- 1.03 <--------> Train Accuracy:- 63.86|++++++++|Test Loss:- 1.12 <--------> Test Accuracy :- 60.58|\n",
      "Epoch 16[4.3] :- |Train Loss:- 1.02 <--------> Train Accuracy:- 64.07|++++++++|Test Loss:- 1.08 <--------> Test Accuracy :- 62.39|\n",
      "Epoch 17[4.33] :- |Train Loss:- 1.01 <--------> Train Accuracy:- 64.37|++++++++|Test Loss:- 1.13 <--------> Test Accuracy :- 61.35|\n",
      "Epoch 18[4.34] :- |Train Loss:- 1.00 <--------> Train Accuracy:- 64.79|++++++++|Test Loss:- 1.09 <--------> Test Accuracy :- 61.44|\n",
      "Epoch 19[4.39] :- |Train Loss:- 1.00 <--------> Train Accuracy:- 65.13|++++++++|Test Loss:- 1.02 <--------> Test Accuracy :- 64.33|\n"
     ]
    }
   ],
   "source": [
    "TRAIN_DL_LEN = len(train_dataloader)\n",
    "TEST_DL_LEN = len(test_dataloader)\n",
    "EPOCHS = 20\n",
    "\n",
    "model.to(DEVICE)\n",
    "for epoch in range(EPOCHS):\n",
    "    start = time.time()\n",
    "    model.train()\n",
    "    epoch_train_loss = 0.0\n",
    "    epoch_train_accuracy = 0.0\n",
    "    for X,Y in train_dataloader:\n",
    "        X = X.to(DEVICE)\n",
    "        Y = Y.to(DEVICE)\n",
    "        \n",
    "        Y_logits = model(X).squeeze()\n",
    "        Y_true = th.argmax(Y,1)\n",
    "        Y_pred = th.argmax(th.softmax(Y_logits,1),1)\n",
    "        \n",
    "        loss = loss_fn(Y_logits,Y)\n",
    "        acc = accuracy(Y_pred,Y_true)\n",
    "        \n",
    "        epoch_train_loss += loss\n",
    "        epoch_train_accuracy += acc\n",
    "        \n",
    "        optimizer.zero_grad()\n",
    "        loss.backward()\n",
    "        optimizer.step()\n",
    "        \n",
    "    model.eval()\n",
    "    epoch_test_loss = 0.0\n",
    "    epoch_test_accuracy = 0.0\n",
    "    with th.no_grad():\n",
    "        for X,Y in test_dataloader:\n",
    "            X = X.to(DEVICE)\n",
    "            Y = Y.to(DEVICE)\n",
    "            \n",
    "            Y_logits = model(X).squeeze()\n",
    "            Y_true = th.argmax(Y,1)\n",
    "            Y_pred = th.argmax(th.softmax(Y_logits,1),1)\n",
    "            \n",
    "            loss = loss_fn(Y_logits,Y)\n",
    "            acc = accuracy(Y_pred,Y_true)\n",
    "            \n",
    "            epoch_test_accuracy += acc\n",
    "            epoch_test_loss += loss\n",
    "            \n",
    "    \n",
    "    epoch_train_accuracy /= TRAIN_DL_LEN\n",
    "    epoch_train_loss /= TRAIN_DL_LEN\n",
    "    epoch_test_accuracy /= TEST_DL_LEN\n",
    "    epoch_test_loss /= TEST_DL_LEN\n",
    "    end=time.time()\n",
    "    \n",
    "    \n",
    "    writer.add_scalars(main_tag=\"Loss\",tag_scalar_dict={\"Train Loss\":epoch_train_loss,\"Test Loss\":epoch_test_loss},global_step=epoch)\n",
    "    writer.add_scalars(main_tag=\"Accuracy\",tag_scalar_dict={\"Train Accuracy\":epoch_train_accuracy,\"Test Accuracy\":epoch_test_accuracy},global_step=epoch)\n",
    "    print(f\"Epoch {epoch}[{round(end-start,2)}] :- |Train Loss:- {epoch_train_loss:.2f} <--------> Train Accuracy:- {epoch_train_accuracy:.2f}|++++++++|Test Loss:- {epoch_test_loss:.2f} <--------> Test Accuracy :- {epoch_test_accuracy:.2f}|\")"
   ]
  },
  {
   "cell_type": "code",
   "execution_count": 71,
   "id": "2f7d7f85",
   "metadata": {},
   "outputs": [
    {
     "name": "stdout",
     "output_type": "stream",
     "text": [
      "Epoch 0[4.49] :- |Train Loss:- 1.78 <--------> Train Accuracy:- 35.40|++++++++|Test Loss:- 1.60 <--------> Test Accuracy :- 41.85|\n",
      "Epoch 1[4.37] :- |Train Loss:- 1.53 <--------> Train Accuracy:- 45.23|++++++++|Test Loss:- 1.48 <--------> Test Accuracy :- 46.52|\n",
      "Epoch 2[4.32] :- |Train Loss:- 1.42 <--------> Train Accuracy:- 49.53|++++++++|Test Loss:- 1.38 <--------> Test Accuracy :- 50.34|\n",
      "Epoch 3[4.33] :- |Train Loss:- 1.35 <--------> Train Accuracy:- 52.06|++++++++|Test Loss:- 1.35 <--------> Test Accuracy :- 50.56|\n",
      "Epoch 4[4.34] :- |Train Loss:- 1.29 <--------> Train Accuracy:- 54.10|++++++++|Test Loss:- 1.30 <--------> Test Accuracy :- 54.07|\n",
      "Epoch 5[4.33] :- |Train Loss:- 1.26 <--------> Train Accuracy:- 55.53|++++++++|Test Loss:- 1.26 <--------> Test Accuracy :- 54.99|\n",
      "Epoch 6[4.32] :- |Train Loss:- 1.23 <--------> Train Accuracy:- 56.61|++++++++|Test Loss:- 1.24 <--------> Test Accuracy :- 55.28|\n",
      "Epoch 7[4.32] :- |Train Loss:- 1.20 <--------> Train Accuracy:- 57.75|++++++++|Test Loss:- 1.19 <--------> Test Accuracy :- 57.31|\n",
      "Epoch 8[4.32] :- |Train Loss:- 1.17 <--------> Train Accuracy:- 58.70|++++++++|Test Loss:- 1.17 <--------> Test Accuracy :- 58.17|\n",
      "Epoch 9[4.33] :- |Train Loss:- 1.15 <--------> Train Accuracy:- 59.55|++++++++|Test Loss:- 1.16 <--------> Test Accuracy :- 58.82|\n",
      "Epoch 10[4.3] :- |Train Loss:- 1.14 <--------> Train Accuracy:- 60.16|++++++++|Test Loss:- 1.15 <--------> Test Accuracy :- 59.32|\n",
      "Epoch 11[4.32] :- |Train Loss:- 1.12 <--------> Train Accuracy:- 60.67|++++++++|Test Loss:- 1.16 <--------> Test Accuracy :- 59.25|\n",
      "Epoch 12[4.31] :- |Train Loss:- 1.11 <--------> Train Accuracy:- 61.15|++++++++|Test Loss:- 1.16 <--------> Test Accuracy :- 59.00|\n",
      "Epoch 13[4.32] :- |Train Loss:- 1.10 <--------> Train Accuracy:- 61.52|++++++++|Test Loss:- 1.16 <--------> Test Accuracy :- 59.22|\n",
      "Epoch 14[4.41] :- |Train Loss:- 1.09 <--------> Train Accuracy:- 61.78|++++++++|Test Loss:- 1.15 <--------> Test Accuracy :- 58.85|\n",
      "Epoch 15[4.37] :- |Train Loss:- 1.08 <--------> Train Accuracy:- 62.01|++++++++|Test Loss:- 1.11 <--------> Test Accuracy :- 60.55|\n",
      "Epoch 16[4.3] :- |Train Loss:- 1.08 <--------> Train Accuracy:- 62.43|++++++++|Test Loss:- 1.12 <--------> Test Accuracy :- 60.30|\n",
      "Epoch 17[4.3] :- |Train Loss:- 1.07 <--------> Train Accuracy:- 62.54|++++++++|Test Loss:- 1.11 <--------> Test Accuracy :- 61.08|\n",
      "Epoch 18[4.32] :- |Train Loss:- 1.06 <--------> Train Accuracy:- 62.87|++++++++|Test Loss:- 1.15 <--------> Test Accuracy :- 59.98|\n",
      "Epoch 19[4.38] :- |Train Loss:- 1.06 <--------> Train Accuracy:- 63.06|++++++++|Test Loss:- 1.09 <--------> Test Accuracy :- 61.28|\n"
     ]
    }
   ],
   "source": [
    "TRAIN_DL_LEN = len(train_dataloader)\n",
    "TEST_DL_LEN = len(test_dataloader)\n",
    "EPOCHS = 20\n",
    "\n",
    "model.to(DEVICE)\n",
    "for epoch in range(EPOCHS):\n",
    "    start = time.time()\n",
    "    model.train()\n",
    "    epoch_train_loss = 0.0\n",
    "    epoch_train_accuracy = 0.0\n",
    "    for X,Y in train_dataloader:\n",
    "        X = X.to(DEVICE)\n",
    "        Y = Y.to(DEVICE)\n",
    "        \n",
    "        Y_logits = model(X).squeeze()\n",
    "        Y_true = th.argmax(Y,1)\n",
    "        Y_pred = th.argmax(th.softmax(Y_logits,1),1)\n",
    "        \n",
    "        loss = loss_fn(Y_logits,Y)\n",
    "        acc = accuracy(Y_pred,Y_true)\n",
    "        \n",
    "        epoch_train_loss += loss\n",
    "        epoch_train_accuracy += acc\n",
    "        \n",
    "        optimizer.zero_grad()\n",
    "        loss.backward()\n",
    "        optimizer.step()\n",
    "        \n",
    "    model.eval()\n",
    "    epoch_test_loss = 0.0\n",
    "    epoch_test_accuracy = 0.0\n",
    "    with th.no_grad():\n",
    "        for X,Y in test_dataloader:\n",
    "            X = X.to(DEVICE)\n",
    "            Y = Y.to(DEVICE)\n",
    "            \n",
    "            Y_logits = model(X).squeeze()\n",
    "            Y_true = th.argmax(Y,1)\n",
    "            Y_pred = th.argmax(th.softmax(Y_logits,1),1)\n",
    "            \n",
    "            loss = loss_fn(Y_logits,Y)\n",
    "            acc = accuracy(Y_pred,Y_true)\n",
    "            \n",
    "            epoch_test_accuracy += acc\n",
    "            epoch_test_loss += loss\n",
    "            \n",
    "    \n",
    "    epoch_train_accuracy /= TRAIN_DL_LEN\n",
    "    epoch_train_loss /= TRAIN_DL_LEN\n",
    "    epoch_test_accuracy /= TEST_DL_LEN\n",
    "    epoch_test_loss /= TEST_DL_LEN\n",
    "    end=time.time()\n",
    "    \n",
    "    \n",
    "    writer1.add_scalar(tag=\"Train Loss\",scalar_value=epoch_train_loss,global_step=epoch)\n",
    "    writer1.add_scalar(tag=\"Test Loss\",scalar_value=epoch_test_loss,global_step=epoch)\n",
    "    writer1.add_scalar(tag=\"Train Accuracy\",scalar_value=epoch_train_accuracy,global_step=epoch)\n",
    "    writer1.add_scalar(tag=\"Test Accuracy\",scalar_value=epoch_test_accuracy,global_step=epoch)\n",
    "    print(f\"Epoch {epoch}[{round(end-start,2)}] :- |Train Loss:- {epoch_train_loss:.2f} <--------> Train Accuracy:- {epoch_train_accuracy:.2f}|++++++++|Test Loss:- {epoch_test_loss:.2f} <--------> Test Accuracy :- {epoch_test_accuracy:.2f}|\")"
   ]
  },
  {
   "cell_type": "code",
   "execution_count": 72,
   "id": "d6c7f74e",
   "metadata": {},
   "outputs": [
    {
     "data": {
      "text/html": [
       "\n",
       "      <iframe id=\"tensorboard-frame-357b174b09895d7f\" width=\"100%\" height=\"800\" frameborder=\"0\">\n",
       "      </iframe>\n",
       "      <script>\n",
       "        (function() {\n",
       "          const frame = document.getElementById(\"tensorboard-frame-357b174b09895d7f\");\n",
       "          const url = new URL(\"/\", window.location);\n",
       "          const port = 6007;\n",
       "          if (port) {\n",
       "            url.port = port;\n",
       "          }\n",
       "          frame.src = url;\n",
       "        })();\n",
       "      </script>\n",
       "    "
      ],
      "text/plain": [
       "<IPython.core.display.HTML object>"
      ]
     },
     "metadata": {},
     "output_type": "display_data"
    }
   ],
   "source": [
    "%tensorboard --logdir abc"
   ]
  },
  {
   "cell_type": "code",
   "execution_count": null,
   "id": "500e17ee",
   "metadata": {},
   "outputs": [],
   "source": []
  }
 ],
 "metadata": {
  "kernelspec": {
   "display_name": "Python 3 (ipykernel)",
   "language": "python",
   "name": "python3"
  },
  "language_info": {
   "codemirror_mode": {
    "name": "ipython",
    "version": 3
   },
   "file_extension": ".py",
   "mimetype": "text/x-python",
   "name": "python",
   "nbconvert_exporter": "python",
   "pygments_lexer": "ipython3",
   "version": "3.11.5"
  }
 },
 "nbformat": 4,
 "nbformat_minor": 5
}
