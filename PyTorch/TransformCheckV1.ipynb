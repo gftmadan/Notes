{
 "cells": [
  {
   "cell_type": "code",
   "execution_count": 1,
   "id": "3462e092",
   "metadata": {},
   "outputs": [],
   "source": [
    "import torchvision as thv\n",
    "import torch as th\n",
    "import time\n",
    "from torchinfo import summary\n",
    "th.manual_seed(32)\n",
    "th.cuda.manual_seed(32)\n",
    "th.cuda.manual_seed_all(32)"
   ]
  },
  {
   "cell_type": "code",
   "execution_count": 2,
   "id": "2419c535",
   "metadata": {},
   "outputs": [
    {
     "data": {
      "text/plain": [
       "'cuda'"
      ]
     },
     "execution_count": 2,
     "metadata": {},
     "output_type": "execute_result"
    }
   ],
   "source": [
    "DEVICE = \"cuda\" if th.cuda.is_available() else \"cpu\"\n",
    "DEVICE"
   ]
  },
  {
   "cell_type": "code",
   "execution_count": 3,
   "id": "da835e2d",
   "metadata": {},
   "outputs": [],
   "source": [
    "TRAIN_DATASET_LOC = r\"E:\\PyTorch\\Working Data\\Input Data\\Elephants\\dataset\\train\"\n",
    "TEST_DATASET_LOC = r\"E:\\PyTorch\\Working Data\\Input Data\\Elephants\\dataset\\test\""
   ]
  },
  {
   "cell_type": "code",
   "execution_count": 4,
   "id": "a5370aa4",
   "metadata": {},
   "outputs": [],
   "source": [
    "train_dataset = thv.datasets.ImageFolder(TRAIN_DATASET_LOC,\n",
    "                                         transform=thv.transforms.Compose([thv.transforms.Resize(size=(224,224)),thv.transforms.ToTensor()]),\n",
    "                                         target_transform=None)\n",
    "\n",
    "test_dataset = thv.datasets.ImageFolder(TEST_DATASET_LOC,\n",
    "                                        transform=thv.transforms.Compose([thv.transforms.Resize(size=(224,224)),thv.transforms.ToTensor()]),\n",
    "                                        target_transform=None)"
   ]
  },
  {
   "cell_type": "code",
   "execution_count": 5,
   "id": "271b1290",
   "metadata": {},
   "outputs": [],
   "source": [
    "train_data_loader = th.utils.data.DataLoader(train_dataset,\n",
    "                                             shuffle=True,\n",
    "                                             batch_size=32)\n",
    "\n",
    "test_data_loader = th.utils.data.DataLoader(test_dataset,\n",
    "                                            shuffle=True,\n",
    "                                            batch_size=32)"
   ]
  },
  {
   "cell_type": "code",
   "execution_count": 4,
   "id": "00771b76",
   "metadata": {},
   "outputs": [],
   "source": [
    "from torch import nn\n",
    "\n",
    "model = nn.Sequential(\n",
    "                            nn.Conv2d(in_channels=3,out_channels=10,kernel_size=3,stride=1,padding=\"valid\"),\n",
    "                            nn.ReLU(),\n",
    "                            nn.Conv2d(in_channels=10,out_channels=10,kernel_size=3,stride=1,padding=\"valid\"),\n",
    "                            nn.ReLU(),\n",
    "                            nn.MaxPool2d(kernel_size=2),\n",
    "                            nn.Conv2d(in_channels=10,out_channels=10,kernel_size=3,stride=1,padding=\"valid\"),\n",
    "                            nn.ReLU(),\n",
    "                            nn.Conv2d(in_channels=10,out_channels=10,kernel_size=3,stride=1,padding=\"valid\"),\n",
    "                            nn.ReLU(),\n",
    "                            nn.MaxPool2d(kernel_size=2),\n",
    "                            nn.Flatten(),\n",
    "                            nn.Linear(in_features=28090,out_features=1) \n",
    ")"
   ]
  },
  {
   "cell_type": "code",
   "execution_count": 7,
   "id": "d2010899",
   "metadata": {},
   "outputs": [
    {
     "data": {
      "text/plain": [
       "Sequential(\n",
       "  (0): Conv2d(3, 10, kernel_size=(3, 3), stride=(1, 1), padding=valid)\n",
       "  (1): ReLU()\n",
       "  (2): Conv2d(10, 10, kernel_size=(3, 3), stride=(1, 1), padding=valid)\n",
       "  (3): ReLU()\n",
       "  (4): MaxPool2d(kernel_size=2, stride=2, padding=0, dilation=1, ceil_mode=False)\n",
       "  (5): Conv2d(10, 10, kernel_size=(3, 3), stride=(1, 1), padding=valid)\n",
       "  (6): ReLU()\n",
       "  (7): Conv2d(10, 10, kernel_size=(3, 3), stride=(1, 1), padding=valid)\n",
       "  (8): ReLU()\n",
       "  (9): MaxPool2d(kernel_size=2, stride=2, padding=0, dilation=1, ceil_mode=False)\n",
       "  (10): Flatten(start_dim=1, end_dim=-1)\n",
       "  (11): Linear(in_features=28090, out_features=1, bias=True)\n",
       ")"
      ]
     },
     "execution_count": 7,
     "metadata": {},
     "output_type": "execute_result"
    }
   ],
   "source": [
    "model"
   ]
  },
  {
   "cell_type": "code",
   "execution_count": 8,
   "id": "e31ae2ee",
   "metadata": {},
   "outputs": [
    {
     "name": "stdout",
     "output_type": "stream",
     "text": [
      "================================================================================================================\n",
      "Layer (type (var_name))                  Input Shape        Output Shape       Param #            Trainable\n",
      "================================================================================================================\n",
      "Sequential (Sequential)                  [1, 3, 224, 224]   [1, 1]             --                 True\n",
      "├─Conv2d (0)                             [1, 3, 224, 224]   [1, 10, 222, 222]  280                True\n",
      "├─ReLU (1)                               [1, 10, 222, 222]  [1, 10, 222, 222]  --                 --\n",
      "├─Conv2d (2)                             [1, 10, 222, 222]  [1, 10, 220, 220]  910                True\n",
      "├─ReLU (3)                               [1, 10, 220, 220]  [1, 10, 220, 220]  --                 --\n",
      "├─MaxPool2d (4)                          [1, 10, 220, 220]  [1, 10, 110, 110]  --                 --\n",
      "├─Conv2d (5)                             [1, 10, 110, 110]  [1, 10, 108, 108]  910                True\n",
      "├─ReLU (6)                               [1, 10, 108, 108]  [1, 10, 108, 108]  --                 --\n",
      "├─Conv2d (7)                             [1, 10, 108, 108]  [1, 10, 106, 106]  910                True\n",
      "├─ReLU (8)                               [1, 10, 106, 106]  [1, 10, 106, 106]  --                 --\n",
      "├─MaxPool2d (9)                          [1, 10, 106, 106]  [1, 10, 53, 53]    --                 --\n",
      "├─Flatten (10)                           [1, 10, 53, 53]    [1, 28090]         --                 --\n",
      "├─Linear (11)                            [1, 28090]         [1, 1]             28,091             True\n",
      "================================================================================================================\n",
      "Total params: 31,101\n",
      "Trainable params: 31,101\n",
      "Non-trainable params: 0\n",
      "Total mult-adds (Units.MEGABYTES): 78.71\n",
      "================================================================================================================\n",
      "Input size (MB): 0.60\n",
      "Forward/backward pass size (MB): 9.65\n",
      "Params size (MB): 0.12\n",
      "Estimated Total Size (MB): 10.37\n",
      "================================================================================================================\n"
     ]
    }
   ],
   "source": [
    "from torchinfo import summary\n",
    "\n",
    "summary(model,\n",
    "        input_size=(1,3,224,224),\n",
    "        verbose=1,\n",
    "        col_names=[\"input_size\",\"output_size\",\"num_params\",\"trainable\"],\n",
    "        row_settings=[\"var_names\"],\n",
    "        col_width=18);"
   ]
  },
  {
   "cell_type": "code",
   "execution_count": 5,
   "id": "c7edde76",
   "metadata": {},
   "outputs": [],
   "source": [
    "loss_fn = th.nn.BCEWithLogitsLoss()\n",
    "\n",
    "optimizer = th.optim.Adam(model.parameters(),\n",
    "                          lr=0.001)"
   ]
  },
  {
   "cell_type": "code",
   "execution_count": 6,
   "id": "433fe770",
   "metadata": {},
   "outputs": [],
   "source": [
    "def accuracy(y_preds,y_true):\n",
    "    correct = th.eq(y_preds,y_true).sum().item()\n",
    "    acc = (correct/len(y_preds)) * 100\n",
    "    return acc"
   ]
  },
  {
   "cell_type": "code",
   "execution_count": null,
   "id": "a76a0c45",
   "metadata": {},
   "outputs": [
    {
     "name": "stdout",
     "output_type": "stream",
     "text": [
      "Epoch 0[6.033707618713379] :- |Train Loss:- 0.70 <--------> Train Accuracy:- 51.27|++++++++|Test Loss:- 0.70 <--------> Test Accuracy :- 48.29|\n",
      "Epoch 1[5.779543399810791] :- |Train Loss:- 0.69 <--------> Train Accuracy:- 54.17|++++++++|Test Loss:- 0.66 <--------> Test Accuracy :- 62.80|\n",
      "Epoch 2[5.9641807079315186] :- |Train Loss:- 0.68 <--------> Train Accuracy:- 58.80|++++++++|Test Loss:- 0.66 <--------> Test Accuracy :- 59.00|\n",
      "Epoch 3[5.849159240722656] :- |Train Loss:- 0.68 <--------> Train Accuracy:- 57.75|++++++++|Test Loss:- 0.67 <--------> Test Accuracy :- 57.74|\n",
      "Epoch 4[5.746140241622925] :- |Train Loss:- 0.66 <--------> Train Accuracy:- 59.49|++++++++|Test Loss:- 0.63 <--------> Test Accuracy :- 61.61|\n",
      "Epoch 5[5.819441795349121] :- |Train Loss:- 0.66 <--------> Train Accuracy:- 61.11|++++++++|Test Loss:- 0.64 <--------> Test Accuracy :- 61.98|\n",
      "Epoch 6[5.7381627559661865] :- |Train Loss:- 0.65 <--------> Train Accuracy:- 62.96|++++++++|Test Loss:- 0.63 <--------> Test Accuracy :- 60.79|\n",
      "Epoch 7[5.836394548416138] :- |Train Loss:- 0.64 <--------> Train Accuracy:- 64.70|++++++++|Test Loss:- 0.62 <--------> Test Accuracy :- 63.91|\n",
      "Epoch 8[5.943113327026367] :- |Train Loss:- 0.64 <--------> Train Accuracy:- 63.77|++++++++|Test Loss:- 0.61 <--------> Test Accuracy :- 62.65|\n",
      "Epoch 9[6.036890268325806] :- |Train Loss:- 0.60 <--------> Train Accuracy:- 67.01|++++++++|Test Loss:- 0.63 <--------> Test Accuracy :- 61.83|\n",
      "Epoch 10[5.868337631225586] :- |Train Loss:- 0.60 <--------> Train Accuracy:- 68.17|++++++++|Test Loss:- 0.59 <--------> Test Accuracy :- 65.18|\n",
      "Epoch 11[5.7656145095825195] :- |Train Loss:- 0.57 <--------> Train Accuracy:- 70.14|++++++++|Test Loss:- 0.64 <--------> Test Accuracy :- 63.17|\n",
      "Epoch 12[5.711263179779053] :- |Train Loss:- 0.54 <--------> Train Accuracy:- 72.92|++++++++|Test Loss:- 0.64 <--------> Test Accuracy :- 61.38|\n",
      "Epoch 13[5.825933218002319] :- |Train Loss:- 0.47 <--------> Train Accuracy:- 77.89|++++++++|Test Loss:- 0.59 <--------> Test Accuracy :- 67.86|\n",
      "Epoch 14[5.807467937469482] :- |Train Loss:- 0.43 <--------> Train Accuracy:- 79.40|++++++++|Test Loss:- 0.59 <--------> Test Accuracy :- 67.04|\n",
      "Epoch 15[5.685344219207764] :- |Train Loss:- 0.40 <--------> Train Accuracy:- 80.67|++++++++|Test Loss:- 0.66 <--------> Test Accuracy :- 68.30|\n",
      "Epoch 16[5.8199143409729] :- |Train Loss:- 0.34 <--------> Train Accuracy:- 84.72|++++++++|Test Loss:- 0.70 <--------> Test Accuracy :- 65.77|\n",
      "Epoch 17[5.7617692947387695] :- |Train Loss:- 0.28 <--------> Train Accuracy:- 87.38|++++++++|Test Loss:- 0.64 <--------> Test Accuracy :- 71.65|\n",
      "Epoch 18[5.809983015060425] :- |Train Loss:- 0.24 <--------> Train Accuracy:- 90.97|++++++++|Test Loss:- 0.79 <--------> Test Accuracy :- 72.10|\n",
      "Epoch 19[5.8408873081207275] :- |Train Loss:- 0.22 <--------> Train Accuracy:- 91.20|++++++++|Test Loss:- 0.83 <--------> Test Accuracy :- 68.97|\n",
      "Epoch 20[5.615996837615967] :- |Train Loss:- 0.21 <--------> Train Accuracy:- 91.55|++++++++|Test Loss:- 0.76 <--------> Test Accuracy :- 68.38|\n",
      "Epoch 21[5.5932533740997314] :- |Train Loss:- 0.18 <--------> Train Accuracy:- 93.17|++++++++|Test Loss:- 0.87 <--------> Test Accuracy :- 69.94|\n",
      "Epoch 22[5.717849493026733] :- |Train Loss:- 0.18 <--------> Train Accuracy:- 93.17|++++++++|Test Loss:- 0.81 <--------> Test Accuracy :- 71.80|\n",
      "Epoch 23[5.639689683914185] :- |Train Loss:- 0.18 <--------> Train Accuracy:- 93.06|++++++++|Test Loss:- 0.82 <--------> Test Accuracy :- 70.83|\n",
      "Epoch 24[5.6828014850616455] :- |Train Loss:- 0.17 <--------> Train Accuracy:- 93.87|++++++++|Test Loss:- 0.62 <--------> Test Accuracy :- 71.50|\n",
      "Epoch 25[5.799556255340576] :- |Train Loss:- 0.20 <--------> Train Accuracy:- 92.82|++++++++|Test Loss:- 0.78 <--------> Test Accuracy :- 72.69|\n",
      "Epoch 26[5.981008529663086] :- |Train Loss:- 0.20 <--------> Train Accuracy:- 92.36|++++++++|Test Loss:- 0.81 <--------> Test Accuracy :- 71.35|\n",
      "Epoch 27[5.894654273986816] :- |Train Loss:- 0.18 <--------> Train Accuracy:- 91.44|++++++++|Test Loss:- 0.75 <--------> Test Accuracy :- 70.24|\n"
     ]
    }
   ],
   "source": [
    "EPOCHS = 30\n",
    "TRAIN_DL_LEN = len(train_data_loader)\n",
    "TEST_DL_LEN = len(test_data_loader)\n",
    "\n",
    "model.to(DEVICE)\n",
    "for epoch in range(EPOCHS):\n",
    "    start = time.time() \n",
    "    model.train()\n",
    "    epoch_train_loss = 0.0\n",
    "    epoch_train_accuracy = 0.0\n",
    "    for X,Y in train_data_loader:\n",
    "        X = X.to(DEVICE)\n",
    "        Y = Y.type(th.float32).to(DEVICE)\n",
    "        \n",
    "        y_logits = model(X).squeeze()\n",
    "        y_preds = th.round(th.sigmoid(y_logits))\n",
    "        \n",
    "        loss = loss_fn(y_logits,Y)\n",
    "        acc = accuracy(y_preds,Y)\n",
    "        \n",
    "        epoch_train_loss += loss\n",
    "        epoch_train_accuracy += acc\n",
    "        \n",
    "        optimizer.zero_grad()\n",
    "        loss.backward()\n",
    "        optimizer.step()\n",
    "        \n",
    "    model.eval()\n",
    "    epoch_test_loss = 0.0\n",
    "    epoch_test_accuracy = 0.0\n",
    "    with th.no_grad():\n",
    "        for X,Y in test_data_loader:\n",
    "            X = X.to(DEVICE)\n",
    "            Y = Y.type(th.float32).to(DEVICE)\n",
    "            \n",
    "            y_logits = model(X).squeeze()\n",
    "            y_preds = th.round(th.sigmoid(y_logits))\n",
    "            \n",
    "            loss = loss_fn(y_logits,Y)\n",
    "            acc = accuracy(y_preds,Y)\n",
    "            \n",
    "            epoch_test_loss += loss\n",
    "            epoch_test_accuracy += acc\n",
    "    \n",
    "    epoch_train_loss /= TRAIN_DL_LEN\n",
    "    epoch_train_accuracy /= TRAIN_DL_LEN\n",
    "    epoch_test_loss /= TEST_DL_LEN\n",
    "    epoch_test_accuracy /= TEST_DL_LEN\n",
    "    end = time.time()\n",
    "    print(f\"Epoch {epoch}[{end-start}] :- |Train Loss:- {epoch_train_loss:.2f} <--------> Train Accuracy:- {epoch_train_accuracy:.2f}|++++++++|Test Loss:- {epoch_test_loss:.2f} <--------> Test Accuracy :- {epoch_test_accuracy:.2f}|\")"
   ]
  },
  {
   "cell_type": "code",
   "execution_count": 7,
   "id": "08779602",
   "metadata": {},
   "outputs": [],
   "source": [
    "from torchvision.transforms import v2\n",
    "\n",
    "train_dataset1 = thv.datasets.ImageFolder(root=TRAIN_DATASET_LOC,\n",
    "                                        transform=v2.Compose([v2.ToImage(),\n",
    "                                                              v2.Resize(size=[224,224],antialias=True),\n",
    "                                                              v2.ToDtype(th.float32,scale=True)]))\n",
    "\n",
    "test_dataset1 = thv.datasets.ImageFolder(root=TEST_DATASET_LOC,\n",
    "                                        transform=v2.Compose([v2.ToImage(),\n",
    "                                                              v2.Resize(size=[224,224],antialias=True),\n",
    "                                                              v2.ToDtype(th.float32,scale=True)]))"
   ]
  },
  {
   "cell_type": "code",
   "execution_count": 8,
   "id": "412dd36f",
   "metadata": {},
   "outputs": [],
   "source": [
    "train_data_loader1 = th.utils.data.DataLoader(train_dataset1,\n",
    "                                             shuffle=True,\n",
    "                                             batch_size=32)\n",
    "\n",
    "test_data_loader1 = th.utils.data.DataLoader(test_dataset1,\n",
    "                                            shuffle=True,\n",
    "                                            batch_size=32)"
   ]
  },
  {
   "cell_type": "code",
   "execution_count": 9,
   "id": "c3774458",
   "metadata": {},
   "outputs": [
    {
     "name": "stdout",
     "output_type": "stream",
     "text": [
      "Epoch 0[5.818410634994507] :- |Train Loss:- 0.70 <--------> Train Accuracy:- 50.23|++++++++|Test Loss:- 0.69 <--------> Test Accuracy :- 51.64|\n",
      "Epoch 1[5.507781267166138] :- |Train Loss:- 0.69 <--------> Train Accuracy:- 55.21|++++++++|Test Loss:- 0.67 <--------> Test Accuracy :- 59.08|\n",
      "Epoch 2[5.728950500488281] :- |Train Loss:- 0.68 <--------> Train Accuracy:- 59.72|++++++++|Test Loss:- 0.65 <--------> Test Accuracy :- 61.68|\n",
      "Epoch 3[5.999970197677612] :- |Train Loss:- 0.68 <--------> Train Accuracy:- 56.94|++++++++|Test Loss:- 0.65 <--------> Test Accuracy :- 65.03|\n",
      "Epoch 4[5.8573899269104] :- |Train Loss:- 0.67 <--------> Train Accuracy:- 59.03|++++++++|Test Loss:- 0.64 <--------> Test Accuracy :- 64.14|\n",
      "Epoch 5[5.799300670623779] :- |Train Loss:- 0.66 <--------> Train Accuracy:- 60.53|++++++++|Test Loss:- 0.63 <--------> Test Accuracy :- 63.84|\n",
      "Epoch 6[5.577592134475708] :- |Train Loss:- 0.65 <--------> Train Accuracy:- 62.15|++++++++|Test Loss:- 0.63 <--------> Test Accuracy :- 63.32|\n",
      "Epoch 7[5.78553032875061] :- |Train Loss:- 0.64 <--------> Train Accuracy:- 62.73|++++++++|Test Loss:- 0.61 <--------> Test Accuracy :- 62.35|\n",
      "Epoch 8[5.814956903457642] :- |Train Loss:- 0.60 <--------> Train Accuracy:- 68.63|++++++++|Test Loss:- 0.63 <--------> Test Accuracy :- 62.50|\n",
      "Epoch 9[5.749814510345459] :- |Train Loss:- 0.60 <--------> Train Accuracy:- 68.87|++++++++|Test Loss:- 0.59 <--------> Test Accuracy :- 69.20|\n",
      "Epoch 10[5.630014657974243] :- |Train Loss:- 0.52 <--------> Train Accuracy:- 73.38|++++++++|Test Loss:- 0.57 <--------> Test Accuracy :- 65.03|\n",
      "Epoch 11[5.5601348876953125] :- |Train Loss:- 0.47 <--------> Train Accuracy:- 79.05|++++++++|Test Loss:- 0.56 <--------> Test Accuracy :- 71.80|\n",
      "Epoch 12[5.526342391967773] :- |Train Loss:- 0.40 <--------> Train Accuracy:- 81.60|++++++++|Test Loss:- 0.62 <--------> Test Accuracy :- 70.01|\n",
      "Epoch 13[5.701165437698364] :- |Train Loss:- 0.36 <--------> Train Accuracy:- 84.14|++++++++|Test Loss:- 0.59 <--------> Test Accuracy :- 71.21|\n",
      "Epoch 14[5.557699680328369] :- |Train Loss:- 0.29 <--------> Train Accuracy:- 87.62|++++++++|Test Loss:- 0.71 <--------> Test Accuracy :- 68.01|\n",
      "Epoch 15[5.624464988708496] :- |Train Loss:- 0.26 <--------> Train Accuracy:- 88.19|++++++++|Test Loss:- 0.76 <--------> Test Accuracy :- 68.23|\n",
      "Epoch 16[5.7247114181518555] :- |Train Loss:- 0.23 <--------> Train Accuracy:- 90.62|++++++++|Test Loss:- 0.66 <--------> Test Accuracy :- 73.36|\n",
      "Epoch 17[5.688786268234253] :- |Train Loss:- 0.20 <--------> Train Accuracy:- 91.44|++++++++|Test Loss:- 1.04 <--------> Test Accuracy :- 64.14|\n",
      "Epoch 18[5.785532236099243] :- |Train Loss:- 0.19 <--------> Train Accuracy:- 92.71|++++++++|Test Loss:- 0.65 <--------> Test Accuracy :- 75.37|\n",
      "Epoch 19[5.749130487442017] :- |Train Loss:- 0.18 <--------> Train Accuracy:- 91.67|++++++++|Test Loss:- 0.64 <--------> Test Accuracy :- 76.12|\n",
      "Epoch 20[5.649925231933594] :- |Train Loss:- 0.17 <--------> Train Accuracy:- 91.90|++++++++|Test Loss:- 0.79 <--------> Test Accuracy :- 67.04|\n",
      "Epoch 21[5.746140480041504] :- |Train Loss:- 0.16 <--------> Train Accuracy:- 93.17|++++++++|Test Loss:- 0.75 <--------> Test Accuracy :- 68.23|\n",
      "Epoch 22[5.843418836593628] :- |Train Loss:- 0.17 <--------> Train Accuracy:- 93.75|++++++++|Test Loss:- 0.88 <--------> Test Accuracy :- 68.45|\n",
      "Epoch 23[5.719311714172363] :- |Train Loss:- 0.16 <--------> Train Accuracy:- 93.29|++++++++|Test Loss:- 0.79 <--------> Test Accuracy :- 67.78|\n",
      "Epoch 24[5.685794830322266] :- |Train Loss:- 0.15 <--------> Train Accuracy:- 93.87|++++++++|Test Loss:- 0.67 <--------> Test Accuracy :- 76.71|\n",
      "Epoch 25[5.7496232986450195] :- |Train Loss:- 0.15 <--------> Train Accuracy:- 94.10|++++++++|Test Loss:- 0.72 <--------> Test Accuracy :- 74.63|\n",
      "Epoch 26[5.682626724243164] :- |Train Loss:- 0.16 <--------> Train Accuracy:- 92.01|++++++++|Test Loss:- 0.75 <--------> Test Accuracy :- 70.54|\n",
      "Epoch 27[5.811978816986084] :- |Train Loss:- 0.13 <--------> Train Accuracy:- 92.71|++++++++|Test Loss:- 1.03 <--------> Test Accuracy :- 67.11|\n",
      "Epoch 28[5.769582033157349] :- |Train Loss:- 0.15 <--------> Train Accuracy:- 93.52|++++++++|Test Loss:- 0.76 <--------> Test Accuracy :- 68.90|\n",
      "Epoch 29[5.863318920135498] :- |Train Loss:- 0.15 <--------> Train Accuracy:- 93.52|++++++++|Test Loss:- 0.82 <--------> Test Accuracy :- 74.03|\n"
     ]
    }
   ],
   "source": [
    "EPOCHS = 30\n",
    "TRAIN_DL_LEN = len(train_data_loader1)\n",
    "TEST_DL_LEN = len(test_data_loader1)\n",
    "\n",
    "model.to(DEVICE)\n",
    "for epoch in range(EPOCHS):\n",
    "    start = time.time() \n",
    "    model.train()\n",
    "    epoch_train_loss = 0.0\n",
    "    epoch_train_accuracy = 0.0\n",
    "    for X,Y in train_data_loader1:\n",
    "        X = X.to(DEVICE)\n",
    "        Y = Y.type(th.float32).to(DEVICE)\n",
    "        \n",
    "        y_logits = model(X).squeeze()\n",
    "        y_preds = th.round(th.sigmoid(y_logits))\n",
    "        \n",
    "        loss = loss_fn(y_logits,Y)\n",
    "        acc = accuracy(y_preds,Y)\n",
    "        \n",
    "        epoch_train_loss += loss\n",
    "        epoch_train_accuracy += acc\n",
    "        \n",
    "        optimizer.zero_grad()\n",
    "        loss.backward()\n",
    "        optimizer.step()\n",
    "        \n",
    "    model.eval()\n",
    "    epoch_test_loss = 0.0\n",
    "    epoch_test_accuracy = 0.0\n",
    "    with th.no_grad():\n",
    "        for X,Y in test_data_loader1:\n",
    "            X = X.to(DEVICE)\n",
    "            Y = Y.type(th.float32).to(DEVICE)\n",
    "            \n",
    "            y_logits = model(X).squeeze()\n",
    "            y_preds = th.round(th.sigmoid(y_logits))\n",
    "            \n",
    "            loss = loss_fn(y_logits,Y)\n",
    "            acc = accuracy(y_preds,Y)\n",
    "            \n",
    "            epoch_test_loss += loss\n",
    "            epoch_test_accuracy += acc\n",
    "    \n",
    "    epoch_train_loss /= TRAIN_DL_LEN\n",
    "    epoch_train_accuracy /= TRAIN_DL_LEN\n",
    "    epoch_test_loss /= TEST_DL_LEN\n",
    "    epoch_test_accuracy /= TEST_DL_LEN\n",
    "    end = time.time()\n",
    "    print(f\"Epoch {epoch}[{end-start}] :- |Train Loss:- {epoch_train_loss:.2f} <--------> Train Accuracy:- {epoch_train_accuracy:.2f}|++++++++|Test Loss:- {epoch_test_loss:.2f} <--------> Test Accuracy :- {epoch_test_accuracy:.2f}|\")"
   ]
  },
  {
   "cell_type": "code",
   "execution_count": null,
   "id": "5be53252",
   "metadata": {},
   "outputs": [],
   "source": []
  }
 ],
 "metadata": {
  "kernelspec": {
   "display_name": "Python 3 (ipykernel)",
   "language": "python",
   "name": "python3"
  },
  "language_info": {
   "codemirror_mode": {
    "name": "ipython",
    "version": 3
   },
   "file_extension": ".py",
   "mimetype": "text/x-python",
   "name": "python",
   "nbconvert_exporter": "python",
   "pygments_lexer": "ipython3",
   "version": "3.11.5"
  }
 },
 "nbformat": 4,
 "nbformat_minor": 5
}
