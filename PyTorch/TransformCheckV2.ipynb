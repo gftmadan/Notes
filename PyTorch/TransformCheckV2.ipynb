{
 "cells": [
  {
   "cell_type": "code",
   "execution_count": 1,
   "id": "b16e6dd1",
   "metadata": {},
   "outputs": [],
   "source": [
    "import torchvision as thv\n",
    "import torch as th\n",
    "import time\n",
    "from torchinfo import summary\n",
    "th.manual_seed(32)\n",
    "th.cuda.manual_seed(32)\n",
    "th.cuda.manual_seed_all(32)"
   ]
  },
  {
   "cell_type": "code",
   "execution_count": 2,
   "id": "cafa6178",
   "metadata": {},
   "outputs": [
    {
     "data": {
      "text/plain": [
       "'cuda'"
      ]
     },
     "execution_count": 2,
     "metadata": {},
     "output_type": "execute_result"
    }
   ],
   "source": [
    "DEVICE = \"cuda\" if th.cuda.is_available() else \"cpu\"\n",
    "DEVICE"
   ]
  },
  {
   "cell_type": "code",
   "execution_count": 3,
   "id": "08eceef1",
   "metadata": {},
   "outputs": [],
   "source": [
    "TRAIN_DATASET_LOC = r\"E:\\PyTorch\\Working Data\\Input Data\\Elephants\\dataset\\train\"\n",
    "TEST_DATASET_LOC = r\"E:\\PyTorch\\Working Data\\Input Data\\Elephants\\dataset\\test\""
   ]
  },
  {
   "cell_type": "code",
   "execution_count": 4,
   "id": "7691cfb3",
   "metadata": {},
   "outputs": [],
   "source": [
    "from torchvision.transforms import v2\n",
    "\n",
    "train_dataset = thv.datasets.ImageFolder(root=TRAIN_DATASET_LOC,\n",
    "                                        transform=v2.Compose([v2.ToImage(),\n",
    "                                                              v2.Resize(size=[224,224],antialias=True),\n",
    "                                                              v2.ToDtype(th.float32,scale=True)]))\n",
    "\n",
    "test_dataset = thv.datasets.ImageFolder(root=TEST_DATASET_LOC,\n",
    "                                        transform=v2.Compose([v2.ToImage(),\n",
    "                                                              v2.Resize(size=[224,224],antialias=True),\n",
    "                                                              v2.ToDtype(th.float32,scale=True)]))"
   ]
  },
  {
   "cell_type": "code",
   "execution_count": 5,
   "id": "cd44e118",
   "metadata": {},
   "outputs": [],
   "source": [
    "train_data_loader = th.utils.data.DataLoader(train_dataset,\n",
    "                                             shuffle=True,\n",
    "                                             batch_size=32)\n",
    "\n",
    "test_data_loader = th.utils.data.DataLoader(test_dataset,\n",
    "                                            shuffle=True,\n",
    "                                            batch_size=32)"
   ]
  },
  {
   "cell_type": "code",
   "execution_count": 6,
   "id": "a0a12f7e",
   "metadata": {},
   "outputs": [
    {
     "data": {
      "text/plain": [
       "Image([[[0.3098, 0.2314, 0.2902,  ..., 0.4980, 0.4784, 0.4784],\n",
       "        [0.3490, 0.3137, 0.3765,  ..., 0.5176, 0.5137, 0.4980],\n",
       "        [0.4196, 0.3451, 0.4314,  ..., 0.5333, 0.5373, 0.5059],\n",
       "        ...,\n",
       "        [0.6000, 0.4196, 0.2431,  ..., 0.1686, 0.1725, 0.1882],\n",
       "        [0.6275, 0.3451, 0.2392,  ..., 0.1529, 0.1686, 0.2078],\n",
       "        [0.6275, 0.3451, 0.2392,  ..., 0.1569, 0.1686, 0.2078]],\n",
       "\n",
       "       [[0.3451, 0.2745, 0.3333,  ..., 0.4745, 0.4588, 0.4588],\n",
       "        [0.3882, 0.3529, 0.4196,  ..., 0.4941, 0.4941, 0.4784],\n",
       "        [0.4549, 0.3804, 0.4745,  ..., 0.5098, 0.5176, 0.4863],\n",
       "        ...,\n",
       "        [0.5412, 0.3686, 0.1922,  ..., 0.1373, 0.1451, 0.1569],\n",
       "        [0.5765, 0.2941, 0.1882,  ..., 0.1216, 0.1412, 0.1804],\n",
       "        [0.5765, 0.2941, 0.1882,  ..., 0.1294, 0.1412, 0.1804]],\n",
       "\n",
       "       [[0.2392, 0.1569, 0.2039,  ..., 0.4627, 0.4471, 0.4471],\n",
       "        [0.2627, 0.2235, 0.2745,  ..., 0.4824, 0.4824, 0.4667],\n",
       "        [0.3020, 0.2275, 0.3098,  ..., 0.4980, 0.5059, 0.4745],\n",
       "        ...,\n",
       "        [0.4549, 0.2824, 0.1137,  ..., 0.0902, 0.1059, 0.1176],\n",
       "        [0.4941, 0.2196, 0.1176,  ..., 0.0863, 0.1098, 0.1490],\n",
       "        [0.4941, 0.2196, 0.1176,  ..., 0.0902, 0.1098, 0.1490]]], )"
      ]
     },
     "execution_count": 6,
     "metadata": {},
     "output_type": "execute_result"
    }
   ],
   "source": [
    "train_dataset[0][0]"
   ]
  },
  {
   "cell_type": "code",
   "execution_count": 6,
   "id": "d2c3fa23",
   "metadata": {},
   "outputs": [],
   "source": [
    "from torch import nn\n",
    "\n",
    "model = nn.Sequential(\n",
    "                            nn.Conv2d(in_channels=3,out_channels=10,kernel_size=3,stride=1,padding=\"valid\"),\n",
    "                            nn.ReLU(),\n",
    "                            nn.Conv2d(in_channels=10,out_channels=10,kernel_size=3,stride=1,padding=\"valid\"),\n",
    "                            nn.ReLU(),\n",
    "                            nn.MaxPool2d(kernel_size=2),\n",
    "                            nn.Conv2d(in_channels=10,out_channels=10,kernel_size=3,stride=1,padding=\"valid\"),\n",
    "                            nn.ReLU(),\n",
    "                            nn.Conv2d(in_channels=10,out_channels=10,kernel_size=3,stride=1,padding=\"valid\"),\n",
    "                            nn.ReLU(),\n",
    "                            nn.MaxPool2d(kernel_size=2),\n",
    "                            nn.Flatten(),\n",
    "                            nn.Linear(in_features=28090,out_features=1) \n",
    ")"
   ]
  },
  {
   "cell_type": "code",
   "execution_count": 7,
   "id": "79046c37",
   "metadata": {},
   "outputs": [
    {
     "data": {
      "text/plain": [
       "Sequential(\n",
       "  (0): Conv2d(3, 10, kernel_size=(3, 3), stride=(1, 1), padding=valid)\n",
       "  (1): ReLU()\n",
       "  (2): Conv2d(10, 10, kernel_size=(3, 3), stride=(1, 1), padding=valid)\n",
       "  (3): ReLU()\n",
       "  (4): MaxPool2d(kernel_size=2, stride=2, padding=0, dilation=1, ceil_mode=False)\n",
       "  (5): Conv2d(10, 10, kernel_size=(3, 3), stride=(1, 1), padding=valid)\n",
       "  (6): ReLU()\n",
       "  (7): Conv2d(10, 10, kernel_size=(3, 3), stride=(1, 1), padding=valid)\n",
       "  (8): ReLU()\n",
       "  (9): MaxPool2d(kernel_size=2, stride=2, padding=0, dilation=1, ceil_mode=False)\n",
       "  (10): Flatten(start_dim=1, end_dim=-1)\n",
       "  (11): Linear(in_features=28090, out_features=1, bias=True)\n",
       ")"
      ]
     },
     "execution_count": 7,
     "metadata": {},
     "output_type": "execute_result"
    }
   ],
   "source": [
    "model"
   ]
  },
  {
   "cell_type": "code",
   "execution_count": 8,
   "id": "52da8171",
   "metadata": {},
   "outputs": [
    {
     "name": "stdout",
     "output_type": "stream",
     "text": [
      "================================================================================================================\n",
      "Layer (type (var_name))                  Input Shape        Output Shape       Param #            Trainable\n",
      "================================================================================================================\n",
      "Sequential (Sequential)                  [1, 3, 224, 224]   [1, 1]             --                 True\n",
      "├─Conv2d (0)                             [1, 3, 224, 224]   [1, 10, 222, 222]  280                True\n",
      "├─ReLU (1)                               [1, 10, 222, 222]  [1, 10, 222, 222]  --                 --\n",
      "├─Conv2d (2)                             [1, 10, 222, 222]  [1, 10, 220, 220]  910                True\n",
      "├─ReLU (3)                               [1, 10, 220, 220]  [1, 10, 220, 220]  --                 --\n",
      "├─MaxPool2d (4)                          [1, 10, 220, 220]  [1, 10, 110, 110]  --                 --\n",
      "├─Conv2d (5)                             [1, 10, 110, 110]  [1, 10, 108, 108]  910                True\n",
      "├─ReLU (6)                               [1, 10, 108, 108]  [1, 10, 108, 108]  --                 --\n",
      "├─Conv2d (7)                             [1, 10, 108, 108]  [1, 10, 106, 106]  910                True\n",
      "├─ReLU (8)                               [1, 10, 106, 106]  [1, 10, 106, 106]  --                 --\n",
      "├─MaxPool2d (9)                          [1, 10, 106, 106]  [1, 10, 53, 53]    --                 --\n",
      "├─Flatten (10)                           [1, 10, 53, 53]    [1, 28090]         --                 --\n",
      "├─Linear (11)                            [1, 28090]         [1, 1]             28,091             True\n",
      "================================================================================================================\n",
      "Total params: 31,101\n",
      "Trainable params: 31,101\n",
      "Non-trainable params: 0\n",
      "Total mult-adds (Units.MEGABYTES): 78.71\n",
      "================================================================================================================\n",
      "Input size (MB): 0.60\n",
      "Forward/backward pass size (MB): 9.65\n",
      "Params size (MB): 0.12\n",
      "Estimated Total Size (MB): 10.37\n",
      "================================================================================================================\n"
     ]
    }
   ],
   "source": [
    "from torchinfo import summary\n",
    "\n",
    "summary(model,\n",
    "        input_size=(1,3,224,224),\n",
    "        verbose=1,\n",
    "        col_names=[\"input_size\",\"output_size\",\"num_params\",\"trainable\"],\n",
    "        row_settings=[\"var_names\"],\n",
    "        col_width=18);"
   ]
  },
  {
   "cell_type": "code",
   "execution_count": 9,
   "id": "f234b728",
   "metadata": {},
   "outputs": [],
   "source": [
    "loss_fn = th.nn.BCEWithLogitsLoss()\n",
    "\n",
    "optimizer = th.optim.Adam(model.parameters(),\n",
    "                          lr=0.001)"
   ]
  },
  {
   "cell_type": "code",
   "execution_count": 10,
   "id": "3fdfda24",
   "metadata": {},
   "outputs": [],
   "source": [
    "def accuracy(y_preds,y_true):\n",
    "    correct = th.eq(y_preds,y_true).sum().item()\n",
    "    acc = (correct/len(y_preds)) * 100\n",
    "    return acc"
   ]
  },
  {
   "cell_type": "code",
   "execution_count": 11,
   "id": "96621252",
   "metadata": {},
   "outputs": [
    {
     "name": "stdout",
     "output_type": "stream",
     "text": [
      "Epoch 0[5.885272979736328] :- |Train Loss:- 0.70 <--------> Train Accuracy:- 51.27|++++++++|Test Loss:- 0.70 <--------> Test Accuracy :- 48.29|\n",
      "Epoch 1[5.657883405685425] :- |Train Loss:- 0.69 <--------> Train Accuracy:- 54.05|++++++++|Test Loss:- 0.66 <--------> Test Accuracy :- 61.68|\n",
      "Epoch 2[5.598556756973267] :- |Train Loss:- 0.68 <--------> Train Accuracy:- 59.26|++++++++|Test Loss:- 0.65 <--------> Test Accuracy :- 60.04|\n",
      "Epoch 3[5.5212342739105225] :- |Train Loss:- 0.68 <--------> Train Accuracy:- 58.10|++++++++|Test Loss:- 0.69 <--------> Test Accuracy :- 55.65|\n",
      "Epoch 4[5.5367302894592285] :- |Train Loss:- 0.67 <--------> Train Accuracy:- 58.91|++++++++|Test Loss:- 0.63 <--------> Test Accuracy :- 62.13|\n",
      "Epoch 5[5.565121173858643] :- |Train Loss:- 0.66 <--------> Train Accuracy:- 59.95|++++++++|Test Loss:- 0.65 <--------> Test Accuracy :- 63.10|\n",
      "Epoch 6[5.705610752105713] :- |Train Loss:- 0.65 <--------> Train Accuracy:- 63.89|++++++++|Test Loss:- 0.62 <--------> Test Accuracy :- 63.39|\n",
      "Epoch 7[5.485460042953491] :- |Train Loss:- 0.63 <--------> Train Accuracy:- 64.81|++++++++|Test Loss:- 0.62 <--------> Test Accuracy :- 64.96|\n",
      "Epoch 8[5.622082471847534] :- |Train Loss:- 0.63 <--------> Train Accuracy:- 65.51|++++++++|Test Loss:- 0.62 <--------> Test Accuracy :- 61.53|\n",
      "Epoch 9[5.574615001678467] :- |Train Loss:- 0.60 <--------> Train Accuracy:- 67.59|++++++++|Test Loss:- 0.64 <--------> Test Accuracy :- 60.27|\n",
      "Epoch 10[5.552151203155518] :- |Train Loss:- 0.58 <--------> Train Accuracy:- 70.37|++++++++|Test Loss:- 0.62 <--------> Test Accuracy :- 64.06|\n",
      "Epoch 11[5.537191867828369] :- |Train Loss:- 0.56 <--------> Train Accuracy:- 71.41|++++++++|Test Loss:- 0.70 <--------> Test Accuracy :- 60.94|\n",
      "Epoch 12[5.57013463973999] :- |Train Loss:- 0.51 <--------> Train Accuracy:- 74.42|++++++++|Test Loss:- 0.64 <--------> Test Accuracy :- 66.07|\n",
      "Epoch 13[5.549251556396484] :- |Train Loss:- 0.43 <--------> Train Accuracy:- 78.82|++++++++|Test Loss:- 0.63 <--------> Test Accuracy :- 68.38|\n",
      "Epoch 14[5.554666996002197] :- |Train Loss:- 0.39 <--------> Train Accuracy:- 81.60|++++++++|Test Loss:- 0.65 <--------> Test Accuracy :- 69.64|\n",
      "Epoch 15[5.6898040771484375] :- |Train Loss:- 0.35 <--------> Train Accuracy:- 85.53|++++++++|Test Loss:- 0.68 <--------> Test Accuracy :- 70.31|\n",
      "Epoch 16[5.5980284214019775] :- |Train Loss:- 0.32 <--------> Train Accuracy:- 86.11|++++++++|Test Loss:- 0.72 <--------> Test Accuracy :- 70.54|\n",
      "Epoch 17[5.551170825958252] :- |Train Loss:- 0.27 <--------> Train Accuracy:- 87.96|++++++++|Test Loss:- 0.68 <--------> Test Accuracy :- 70.76|\n",
      "Epoch 18[5.4858362674713135] :- |Train Loss:- 0.23 <--------> Train Accuracy:- 90.16|++++++++|Test Loss:- 0.89 <--------> Test Accuracy :- 71.06|\n",
      "Epoch 19[5.719703674316406] :- |Train Loss:- 0.22 <--------> Train Accuracy:- 91.09|++++++++|Test Loss:- 0.85 <--------> Test Accuracy :- 70.54|\n",
      "Epoch 20[5.565120697021484] :- |Train Loss:- 0.20 <--------> Train Accuracy:- 91.44|++++++++|Test Loss:- 0.95 <--------> Test Accuracy :- 66.29|\n",
      "Epoch 21[5.566259145736694] :- |Train Loss:- 0.18 <--------> Train Accuracy:- 93.06|++++++++|Test Loss:- 0.97 <--------> Test Accuracy :- 69.79|\n",
      "Epoch 22[5.728715181350708] :- |Train Loss:- 0.18 <--------> Train Accuracy:- 92.59|++++++++|Test Loss:- 0.83 <--------> Test Accuracy :- 71.73|\n",
      "Epoch 23[5.536194324493408] :- |Train Loss:- 0.17 <--------> Train Accuracy:- 92.82|++++++++|Test Loss:- 0.91 <--------> Test Accuracy :- 71.80|\n",
      "Epoch 24[5.507347822189331] :- |Train Loss:- 0.16 <--------> Train Accuracy:- 93.29|++++++++|Test Loss:- 0.72 <--------> Test Accuracy :- 73.66|\n",
      "Epoch 25[5.443949460983276] :- |Train Loss:- 0.18 <--------> Train Accuracy:- 92.25|++++++++|Test Loss:- 0.83 <--------> Test Accuracy :- 71.58|\n",
      "Epoch 26[5.658893346786499] :- |Train Loss:- 0.19 <--------> Train Accuracy:- 91.90|++++++++|Test Loss:- 0.88 <--------> Test Accuracy :- 70.76|\n",
      "Epoch 27[5.691302061080933] :- |Train Loss:- 0.18 <--------> Train Accuracy:- 92.25|++++++++|Test Loss:- 0.87 <--------> Test Accuracy :- 73.21|\n",
      "Epoch 28[5.7078588008880615] :- |Train Loss:- 0.17 <--------> Train Accuracy:- 93.40|++++++++|Test Loss:- 0.87 <--------> Test Accuracy :- 73.81|\n",
      "Epoch 29[5.592108488082886] :- |Train Loss:- 0.17 <--------> Train Accuracy:- 92.94|++++++++|Test Loss:- 0.80 <--------> Test Accuracy :- 73.44|\n"
     ]
    }
   ],
   "source": [
    "EPOCHS = 30\n",
    "TRAIN_DL_LEN = len(train_data_loader)\n",
    "TEST_DL_LEN = len(test_data_loader)\n",
    "\n",
    "model.to(DEVICE)\n",
    "for epoch in range(EPOCHS):\n",
    "    start = time.time() \n",
    "    model.train()\n",
    "    epoch_train_loss = 0.0\n",
    "    epoch_train_accuracy = 0.0\n",
    "    for X,Y in train_data_loader:\n",
    "        X = X.to(DEVICE)\n",
    "        Y = Y.type(th.float32).to(DEVICE)\n",
    "        \n",
    "        y_logits = model(X).squeeze()\n",
    "        y_preds = th.round(th.sigmoid(y_logits))\n",
    "        \n",
    "        loss = loss_fn(y_logits,Y)\n",
    "        acc = accuracy(y_preds,Y)\n",
    "        \n",
    "        epoch_train_loss += loss\n",
    "        epoch_train_accuracy += acc\n",
    "        \n",
    "        optimizer.zero_grad()\n",
    "        loss.backward()\n",
    "        optimizer.step()\n",
    "        \n",
    "    model.eval()\n",
    "    epoch_test_loss = 0.0\n",
    "    epoch_test_accuracy = 0.0\n",
    "    with th.no_grad():\n",
    "        for X,Y in test_data_loader:\n",
    "            X = X.to(DEVICE)\n",
    "            Y = Y.type(th.float32).to(DEVICE)\n",
    "            \n",
    "            y_logits = model(X).squeeze()\n",
    "            y_preds = th.round(th.sigmoid(y_logits))\n",
    "            \n",
    "            loss = loss_fn(y_logits,Y)\n",
    "            acc = accuracy(y_preds,Y)\n",
    "            \n",
    "            epoch_test_loss += loss\n",
    "            epoch_test_accuracy += acc\n",
    "    \n",
    "    epoch_train_loss /= TRAIN_DL_LEN\n",
    "    epoch_train_accuracy /= TRAIN_DL_LEN\n",
    "    epoch_test_loss /= TEST_DL_LEN\n",
    "    epoch_test_accuracy /= TEST_DL_LEN\n",
    "    end = time.time()\n",
    "    print(f\"Epoch {epoch}[{end-start}] :- |Train Loss:- {epoch_train_loss:.2f} <--------> Train Accuracy:- {epoch_train_accuracy:.2f}|++++++++|Test Loss:- {epoch_test_loss:.2f} <--------> Test Accuracy :- {epoch_test_accuracy:.2f}|\")"
   ]
  },
  {
   "cell_type": "code",
   "execution_count": null,
   "id": "3f9554c6",
   "metadata": {},
   "outputs": [],
   "source": []
  }
 ],
 "metadata": {
  "kernelspec": {
   "display_name": "Python 3 (ipykernel)",
   "language": "python",
   "name": "python3"
  },
  "language_info": {
   "codemirror_mode": {
    "name": "ipython",
    "version": 3
   },
   "file_extension": ".py",
   "mimetype": "text/x-python",
   "name": "python",
   "nbconvert_exporter": "python",
   "pygments_lexer": "ipython3",
   "version": "3.11.5"
  }
 },
 "nbformat": 4,
 "nbformat_minor": 5
}
