{
 "cells": [
  {
   "cell_type": "code",
   "execution_count": 1,
   "id": "c65a2c44",
   "metadata": {},
   "outputs": [],
   "source": [
    "import pytesseract as pyt\n",
    "import cv2"
   ]
  },
  {
   "cell_type": "code",
   "execution_count": 2,
   "id": "6a74d32c",
   "metadata": {},
   "outputs": [],
   "source": [
    "pyt.pytesseract.tesseract_cmd = \"C:\\\\Program Files\\\\Tesseract-OCR\\\\tesseract.exe\""
   ]
  },
  {
   "cell_type": "code",
   "execution_count": 3,
   "id": "dc26e6f7",
   "metadata": {},
   "outputs": [],
   "source": [
    "cnf = \"outputbase digits\""
   ]
  },
  {
   "cell_type": "code",
   "execution_count": 4,
   "id": "0ea0d81e",
   "metadata": {},
   "outputs": [],
   "source": [
    "img1 = cv2.imread(r\"E:\\PyImage_ComputerVision\\OCR\\Working Data\\InputData\\apple.png\")"
   ]
  },
  {
   "cell_type": "code",
   "execution_count": 5,
   "id": "e59032cc",
   "metadata": {},
   "outputs": [
    {
     "data": {
      "text/plain": [
       "(256, 644, 3)"
      ]
     },
     "execution_count": 5,
     "metadata": {},
     "output_type": "execute_result"
    }
   ],
   "source": [
    "img1.shape"
   ]
  },
  {
   "cell_type": "code",
   "execution_count": 9,
   "id": "31f4be8c",
   "metadata": {},
   "outputs": [],
   "source": [
    "img1 = cv2.cvtColor(img1,cv2.COLOR_BGR2RGB)\n",
    "cv2.imshow(\"Apple Image\",img1)\n",
    "cv2.waitKey(0)\n",
    "cv2.destroyAllWindows()"
   ]
  },
  {
   "cell_type": "code",
   "execution_count": 7,
   "id": "c08dc32e",
   "metadata": {},
   "outputs": [
    {
     "name": "stdout",
     "output_type": "stream",
     "text": [
      ")\n",
      "Apple Support\n",
      "1-800-275-2273\n",
      "\n"
     ]
    }
   ],
   "source": [
    "print(pyt.image_to_string(img1))"
   ]
  },
  {
   "cell_type": "code",
   "execution_count": 8,
   "id": "841fa1ae",
   "metadata": {},
   "outputs": [
    {
     "name": "stdout",
     "output_type": "stream",
     "text": [
      "1-800-275-2273\n",
      "\n"
     ]
    }
   ],
   "source": [
    "print(pyt.image_to_string(img1,config=cnf))"
   ]
  },
  {
   "cell_type": "code",
   "execution_count": 9,
   "id": "8078032e",
   "metadata": {},
   "outputs": [],
   "source": [
    "cnf1 = \"-c tessedit_char_whitelist={0123456789-}\""
   ]
  },
  {
   "cell_type": "code",
   "execution_count": 10,
   "id": "45163c94",
   "metadata": {},
   "outputs": [
    {
     "name": "stdout",
     "output_type": "stream",
     "text": [
      "1-800-275-2273\n",
      "\n"
     ]
    }
   ],
   "source": [
    "print(pyt.image_to_string(img1,config=cnf1))"
   ]
  },
  {
   "cell_type": "code",
   "execution_count": null,
   "id": "637150ad",
   "metadata": {},
   "outputs": [],
   "source": []
  },
  {
   "cell_type": "code",
   "execution_count": 11,
   "id": "061b03fa",
   "metadata": {},
   "outputs": [
    {
     "name": "stdout",
     "output_type": "stream",
     "text": [
      "(375, 600, 3)\n"
     ]
    }
   ],
   "source": [
    "img2 = cv2.imread(r\"E:\\PyImage_ComputerVision\\OCR\\Working Data\\InputData\\invoice.png\")\n",
    "print(img2.shape)\n",
    "img2 = cv2.cvtColor(img2,cv2.COLOR_BGR2RGB)"
   ]
  },
  {
   "cell_type": "code",
   "execution_count": 12,
   "id": "236dc4d5",
   "metadata": {},
   "outputs": [
    {
     "name": "stdout",
     "output_type": "stream",
     "text": [
      "Invoice Number 1785439\n",
      "Issue Date 2020-04-08\n",
      "Due Date 2020-05-08\n",
      "\n",
      "| DUE | $210.07\n",
      "\n",
      "\n"
     ]
    }
   ],
   "source": [
    "print(pyt.image_to_string(img2))"
   ]
  },
  {
   "cell_type": "code",
   "execution_count": 13,
   "id": "3bdcc02e",
   "metadata": {},
   "outputs": [
    {
     "name": "stdout",
     "output_type": "stream",
     "text": [
      "1785439\n",
      "2020-04-08\n",
      "2020-05-08\n",
      "\n",
      "210.07\n",
      "\n",
      "\n"
     ]
    }
   ],
   "source": [
    "print(pyt.image_to_string(img2,config=cnf))"
   ]
  },
  {
   "cell_type": "code",
   "execution_count": 14,
   "id": "9b7540af",
   "metadata": {},
   "outputs": [
    {
     "name": "stdout",
     "output_type": "stream",
     "text": [
      "1785439\n",
      "2020-04-08\n",
      "2020-05-08\n",
      "\n",
      "21007\n",
      "\n",
      "\n"
     ]
    }
   ],
   "source": [
    "cnf2 = \"-c tessedit_char_whitelist=0123456789-\"\n",
    "print(pyt.image_to_string(img2,config=cnf2))"
   ]
  },
  {
   "cell_type": "code",
   "execution_count": 15,
   "id": "93b4d544",
   "metadata": {},
   "outputs": [
    {
     "name": "stdout",
     "output_type": "stream",
     "text": [
      "Invoice Number\n",
      "Issue Date\n",
      "Due Date SO\n",
      "\n",
      "| DUE | $\n",
      "\n",
      "\n"
     ]
    }
   ],
   "source": [
    "cnf3 = \"-c tessedit_char_blacklist=0123456789-.,\"\n",
    "print(pyt.image_to_string(img2,config=cnf3))"
   ]
  },
  {
   "cell_type": "code",
   "execution_count": 16,
   "id": "33c9fb08",
   "metadata": {},
   "outputs": [
    {
     "name": "stdout",
     "output_type": "stream",
     "text": [
      "nvoice Number 1785439\n",
      "lssue ate 2020-04-08\n",
      "Pue ate 2020-05-08\n",
      "\n",
      "| BUE | $210.07\n",
      "\n",
      "\n"
     ]
    }
   ],
   "source": [
    "cnf4 = \"-c tessedit_char_blacklist=ID\"\n",
    "print(pyt.image_to_string(img2,config=cnf4))"
   ]
  },
  {
   "cell_type": "code",
   "execution_count": 17,
   "id": "f5f5a6d6",
   "metadata": {},
   "outputs": [
    {
     "name": "stdout",
     "output_type": "stream",
     "text": [
      "1785439\n",
      "2020-04-08\n",
      "2020-05-08\n",
      "\n",
      "| | $210.07\n",
      "\n",
      "\n"
     ]
    }
   ],
   "source": [
    "cnf5 = \"-c tessdit_char_whitelist=0123456789 -c tessedit_char_blacklist=ABCDEFGHIJKLMNOPQRSTUVWXYZabcdefghijklmnopqrstuvwxyz\"\n",
    "print(pyt.image_to_string(img2,config=cnf5))"
   ]
  },
  {
   "cell_type": "code",
   "execution_count": 18,
   "id": "031bf1b7",
   "metadata": {},
   "outputs": [
    {
     "name": "stdout",
     "output_type": "stream",
     "text": [
      "1785439\n",
      "2248\n",
      "2258\n",
      "\n",
      "2197\n",
      "\n",
      "\n"
     ]
    }
   ],
   "source": [
    "cnf6 = \"-c tessedit_char_whitelist=0123456789 -c tessedit_char_blacklist=0\"\n",
    "print(pyt.image_to_string(img2,config=cnf6))"
   ]
  },
  {
   "cell_type": "code",
   "execution_count": 19,
   "id": "69b15855",
   "metadata": {},
   "outputs": [
    {
     "name": "stdout",
     "output_type": "stream",
     "text": [
      "1785439\n",
      "2248\n",
      "2258\n",
      "\n",
      "2197\n",
      "\n",
      "\n"
     ]
    }
   ],
   "source": [
    "cnf7 = \"-c tessedit_char_blacklist=0 -c tessedit_char_whitelist=0123456789\"\n",
    "print(pyt.image_to_string(img2,config=cnf7))"
   ]
  },
  {
   "cell_type": "code",
   "execution_count": 20,
   "id": "aef623a4",
   "metadata": {},
   "outputs": [
    {
     "name": "stdout",
     "output_type": "stream",
     "text": [
      "(580, 1074, 3)\n"
     ]
    }
   ],
   "source": [
    "img3 = cv2.imread(r\"E:\\PyImage_ComputerVision\\OCR\\Working Data\\InputData\\plate.png\")\n",
    "print(img3.shape)\n",
    "img3 = cv2.cvtColor(img3,cv2.COLOR_BGR2RGB)"
   ]
  },
  {
   "cell_type": "code",
   "execution_count": 21,
   "id": "1eec0460",
   "metadata": {},
   "outputs": [
    {
     "name": "stdout",
     "output_type": "stream",
     "text": [
      "PENNSYLVANIA\n",
      "\n",
      "ZIW*4681\n",
      "\n",
      "visitPA.com\n",
      "\n",
      "\n"
     ]
    }
   ],
   "source": [
    "print(pyt.image_to_string(img3))"
   ]
  },
  {
   "cell_type": "code",
   "execution_count": 22,
   "id": "f6b5371d",
   "metadata": {},
   "outputs": [
    {
     "name": "stdout",
     "output_type": "stream",
     "text": [
      "24681\n",
      "\n",
      ".\n",
      "\n",
      "\n"
     ]
    }
   ],
   "source": [
    "print(pyt.image_to_string(img3,config=cnf))"
   ]
  },
  {
   "cell_type": "code",
   "execution_count": 10,
   "id": "d35556a7",
   "metadata": {},
   "outputs": [
    {
     "name": "stdout",
     "output_type": "stream",
     "text": [
      "(1080, 1920, 3)\n"
     ]
    }
   ],
   "source": [
    "img4 = cv2.imread(r\"E:\\PyImage_ComputerVision\\OCR\\Working Data\\InputData\\csgo.png\")\n",
    "print(img4.shape)\n",
    "img4 = cv2.cvtColor(img4,cv2.COLOR_BGR2RGB)"
   ]
  },
  {
   "cell_type": "code",
   "execution_count": 24,
   "id": "ec329590",
   "metadata": {},
   "outputs": [
    {
     "name": "stdout",
     "output_type": "stream",
     "text": [
      "$24500 ji\n",
      "$2400\n",
      "NN\n",
      "\n",
      "Good\n",
      "Utility\n",
      "\n",
      "as *6\n",
      "X4 X3 X6_X2\n",
      "\n",
      "O2 OM ARB/ 8 tt\n",
      "& $200 $4800\n",
      "\n",
      "O4 O00 ARO / At\n",
      "© $500 $4900\n",
      "\n",
      "O4 09 ARB\n",
      "\n",
      "© S500 $5400\n",
      "HO4O8 ARB at é\n",
      "\n",
      "Ss “$3600\n",
      "\n",
      "O3 OM ARI / at t\n",
      "8 Sid $4800\n",
      "\n",
      "Gar Group A\n",
      "Round 12/30\n",
      "rm)\n",
      "\n",
      "Equip. Value jj $31050\n",
      "LossBonus $2400\n",
      "\n",
      "Great @ # O BD\n",
      "Utility =X5 X4 X5 X5\n",
      "\n",
      "ST ta 109\n",
      "\n",
      "#85 ARBOS O40\n",
      "} $5900 $3900 ©\n",
      "\n",
      "@#res\n",
      "\n",
      "ARE OW 2 v\n",
      "$200 $8850 ©\n",
      "Y\n",
      "\n",
      "#8 o ARMOUSS\n",
      "-$5500__ $3850 ©\n",
      "\n",
      "+ 8 5 ARBOA 93\n",
      "\n",
      "“$5500 $3400 ©\n",
      "#+es\n",
      "\n",
      "if\n",
      "\n",
      "AR OB OS T\n",
      "\n",
      "$300 $6750 ay\n",
      "\n",
      "Ne\n",
      "\n",
      "ING MALTA &\n",
      "\n"
     ]
    }
   ],
   "source": [
    "print(pyt.image_to_string(img4))"
   ]
  },
  {
   "cell_type": "code",
   "execution_count": 25,
   "id": "862966d1",
   "metadata": {},
   "outputs": [
    {
     "name": "stdout",
     "output_type": "stream",
     "text": [
      "24500\n",
      "2400\n",
      "\n",
      "76\n",
      "4362\n",
      "\n",
      "0248\n",
      "200 -4800\n",
      "\n",
      "4002\n",
      "500 -4900\n",
      "0409\n",
      "\n",
      "500 -35400\n",
      "48\n",
      "\n",
      "0 -33600\n",
      "03\n",
      "80 -4800\n",
      "\n",
      "1230\n",
      "2\n",
      "\n",
      ".31050\n",
      "2400\n",
      "\n",
      "2\n",
      "5455\n",
      "\n",
      "109\n",
      "\n",
      "850440\n",
      "-59003900\n",
      "\n",
      "02\n",
      "\n",
      "-2008850\n",
      "8\n",
      "\n",
      "-55003850\n",
      "\n",
      "8593\n",
      "\n",
      "-55003400\n",
      "\n",
      "5\n",
      "\n",
      "-300 6750\n",
      "\n"
     ]
    }
   ],
   "source": [
    "print(pyt.image_to_string(img4,config=cnf))"
   ]
  },
  {
   "cell_type": "code",
   "execution_count": 26,
   "id": "15139afe",
   "metadata": {},
   "outputs": [
    {
     "name": "stdout",
     "output_type": "stream",
     "text": [
      "§24500 {\n",
      "2400\n",
      "\n",
      "/7*6\n",
      "4 3 6_2\n",
      "\n",
      "02 © / 8\n",
      "& 200 §4800\n",
      "\n",
      "4 00 /2\n",
      "© 500 ~§4900\n",
      "\n",
      "04 09\n",
      "\n",
      "© 500 °35400\n",
      "48 ’ é\n",
      "\n",
      "0 “33600\n",
      "\n",
      "03 @ /\n",
      "8 0 §4800\n",
      "\n",
      " é\n",
      "12/30\n",
      "2)\n",
      "\n",
      ". || §31050\n",
      "§2400\n",
      "\n",
      " @ # 2\n",
      " =¥5 4 5 5\n",
      "\n",
      "109\n",
      "\n",
      "#85 04%\n",
      "} ~5900_ §3900 ©\n",
      "\n",
      "@#\n",
      "\n",
      " 0 2\n",
      "~2008850 ©\n",
      "\n",
      "#8\n",
      "~5500__§3850 ©\n",
      "\n",
      "+ 8 5 93\n",
      "\n",
      "“§5500 © §3400 ©\n",
      "#+\n",
      "\n",
      "//\n",
      "\n",
      " 5 &\n",
      "\n",
      "~§300 §6750 ,\n",
      "\n",
      "\\\n",
      "\n",
      "&\n",
      "\n"
     ]
    }
   ],
   "source": [
    "cnf10 = \"-c tessedit_char_blacklist=ABCDEFGHIJKLMNOPQRSTUVWXYZabcdefghijklmnopqrstuvwxyz-$\"\n",
    "print(pyt.image_to_string(img4,config=cnf10))"
   ]
  },
  {
   "cell_type": "code",
   "execution_count": 27,
   "id": "b66305bf",
   "metadata": {},
   "outputs": [
    {
     "ename": "TesseractError",
     "evalue": "(1, 'Missing = in configvar assignment')",
     "output_type": "error",
     "traceback": [
      "\u001b[1;31m---------------------------------------------------------------------------\u001b[0m",
      "\u001b[1;31mTesseractError\u001b[0m                            Traceback (most recent call last)",
      "Cell \u001b[1;32mIn[27], line 2\u001b[0m\n\u001b[0;32m      1\u001b[0m cnf9 \u001b[38;5;241m=\u001b[39m \u001b[38;5;124m\"\u001b[39m\u001b[38;5;124m-c tessedit_char_whitelist\u001b[39m\u001b[38;5;124m\"\u001b[39m\n\u001b[1;32m----> 2\u001b[0m \u001b[38;5;28mprint\u001b[39m(pyt\u001b[38;5;241m.\u001b[39mimage_to_string(img4,config\u001b[38;5;241m=\u001b[39mcnf9))\n",
      "File \u001b[1;32mE:\\PyImage_ComputerVision\\OCR\\env\\Lib\\site-packages\\pytesseract\\pytesseract.py:423\u001b[0m, in \u001b[0;36mimage_to_string\u001b[1;34m(image, lang, config, nice, output_type, timeout)\u001b[0m\n\u001b[0;32m    418\u001b[0m \u001b[38;5;250m\u001b[39m\u001b[38;5;124;03m\"\"\"\u001b[39;00m\n\u001b[0;32m    419\u001b[0m \u001b[38;5;124;03mReturns the result of a Tesseract OCR run on the provided image to string\u001b[39;00m\n\u001b[0;32m    420\u001b[0m \u001b[38;5;124;03m\"\"\"\u001b[39;00m\n\u001b[0;32m    421\u001b[0m args \u001b[38;5;241m=\u001b[39m [image, \u001b[38;5;124m'\u001b[39m\u001b[38;5;124mtxt\u001b[39m\u001b[38;5;124m'\u001b[39m, lang, config, nice, timeout]\n\u001b[1;32m--> 423\u001b[0m \u001b[38;5;28;01mreturn\u001b[39;00m {\n\u001b[0;32m    424\u001b[0m     Output\u001b[38;5;241m.\u001b[39mBYTES: \u001b[38;5;28;01mlambda\u001b[39;00m: run_and_get_output(\u001b[38;5;241m*\u001b[39m(args \u001b[38;5;241m+\u001b[39m [\u001b[38;5;28;01mTrue\u001b[39;00m])),\n\u001b[0;32m    425\u001b[0m     Output\u001b[38;5;241m.\u001b[39mDICT: \u001b[38;5;28;01mlambda\u001b[39;00m: {\u001b[38;5;124m'\u001b[39m\u001b[38;5;124mtext\u001b[39m\u001b[38;5;124m'\u001b[39m: run_and_get_output(\u001b[38;5;241m*\u001b[39margs)},\n\u001b[0;32m    426\u001b[0m     Output\u001b[38;5;241m.\u001b[39mSTRING: \u001b[38;5;28;01mlambda\u001b[39;00m: run_and_get_output(\u001b[38;5;241m*\u001b[39margs),\n\u001b[0;32m    427\u001b[0m }[output_type]()\n",
      "File \u001b[1;32mE:\\PyImage_ComputerVision\\OCR\\env\\Lib\\site-packages\\pytesseract\\pytesseract.py:426\u001b[0m, in \u001b[0;36mimage_to_string.<locals>.<lambda>\u001b[1;34m()\u001b[0m\n\u001b[0;32m    418\u001b[0m \u001b[38;5;250m\u001b[39m\u001b[38;5;124;03m\"\"\"\u001b[39;00m\n\u001b[0;32m    419\u001b[0m \u001b[38;5;124;03mReturns the result of a Tesseract OCR run on the provided image to string\u001b[39;00m\n\u001b[0;32m    420\u001b[0m \u001b[38;5;124;03m\"\"\"\u001b[39;00m\n\u001b[0;32m    421\u001b[0m args \u001b[38;5;241m=\u001b[39m [image, \u001b[38;5;124m'\u001b[39m\u001b[38;5;124mtxt\u001b[39m\u001b[38;5;124m'\u001b[39m, lang, config, nice, timeout]\n\u001b[0;32m    423\u001b[0m \u001b[38;5;28;01mreturn\u001b[39;00m {\n\u001b[0;32m    424\u001b[0m     Output\u001b[38;5;241m.\u001b[39mBYTES: \u001b[38;5;28;01mlambda\u001b[39;00m: run_and_get_output(\u001b[38;5;241m*\u001b[39m(args \u001b[38;5;241m+\u001b[39m [\u001b[38;5;28;01mTrue\u001b[39;00m])),\n\u001b[0;32m    425\u001b[0m     Output\u001b[38;5;241m.\u001b[39mDICT: \u001b[38;5;28;01mlambda\u001b[39;00m: {\u001b[38;5;124m'\u001b[39m\u001b[38;5;124mtext\u001b[39m\u001b[38;5;124m'\u001b[39m: run_and_get_output(\u001b[38;5;241m*\u001b[39margs)},\n\u001b[1;32m--> 426\u001b[0m     Output\u001b[38;5;241m.\u001b[39mSTRING: \u001b[38;5;28;01mlambda\u001b[39;00m: run_and_get_output(\u001b[38;5;241m*\u001b[39margs),\n\u001b[0;32m    427\u001b[0m }[output_type]()\n",
      "File \u001b[1;32mE:\\PyImage_ComputerVision\\OCR\\env\\Lib\\site-packages\\pytesseract\\pytesseract.py:288\u001b[0m, in \u001b[0;36mrun_and_get_output\u001b[1;34m(image, extension, lang, config, nice, timeout, return_bytes)\u001b[0m\n\u001b[0;32m    277\u001b[0m \u001b[38;5;28;01mwith\u001b[39;00m save(image) \u001b[38;5;28;01mas\u001b[39;00m (temp_name, input_filename):\n\u001b[0;32m    278\u001b[0m     kwargs \u001b[38;5;241m=\u001b[39m {\n\u001b[0;32m    279\u001b[0m         \u001b[38;5;124m'\u001b[39m\u001b[38;5;124minput_filename\u001b[39m\u001b[38;5;124m'\u001b[39m: input_filename,\n\u001b[0;32m    280\u001b[0m         \u001b[38;5;124m'\u001b[39m\u001b[38;5;124moutput_filename_base\u001b[39m\u001b[38;5;124m'\u001b[39m: temp_name,\n\u001b[1;32m   (...)\u001b[0m\n\u001b[0;32m    285\u001b[0m         \u001b[38;5;124m'\u001b[39m\u001b[38;5;124mtimeout\u001b[39m\u001b[38;5;124m'\u001b[39m: timeout,\n\u001b[0;32m    286\u001b[0m     }\n\u001b[1;32m--> 288\u001b[0m     run_tesseract(\u001b[38;5;241m*\u001b[39m\u001b[38;5;241m*\u001b[39mkwargs)\n\u001b[0;32m    289\u001b[0m     filename \u001b[38;5;241m=\u001b[39m \u001b[38;5;124mf\u001b[39m\u001b[38;5;124m\"\u001b[39m\u001b[38;5;132;01m{\u001b[39;00mkwargs[\u001b[38;5;124m'\u001b[39m\u001b[38;5;124moutput_filename_base\u001b[39m\u001b[38;5;124m'\u001b[39m]\u001b[38;5;132;01m}\u001b[39;00m\u001b[38;5;132;01m{\u001b[39;00mextsep\u001b[38;5;132;01m}\u001b[39;00m\u001b[38;5;132;01m{\u001b[39;00mextension\u001b[38;5;132;01m}\u001b[39;00m\u001b[38;5;124m\"\u001b[39m\n\u001b[0;32m    290\u001b[0m     \u001b[38;5;28;01mwith\u001b[39;00m \u001b[38;5;28mopen\u001b[39m(filename, \u001b[38;5;124m'\u001b[39m\u001b[38;5;124mrb\u001b[39m\u001b[38;5;124m'\u001b[39m) \u001b[38;5;28;01mas\u001b[39;00m output_file:\n",
      "File \u001b[1;32mE:\\PyImage_ComputerVision\\OCR\\env\\Lib\\site-packages\\pytesseract\\pytesseract.py:264\u001b[0m, in \u001b[0;36mrun_tesseract\u001b[1;34m(input_filename, output_filename_base, extension, lang, config, nice, timeout)\u001b[0m\n\u001b[0;32m    262\u001b[0m \u001b[38;5;28;01mwith\u001b[39;00m timeout_manager(proc, timeout) \u001b[38;5;28;01mas\u001b[39;00m error_string:\n\u001b[0;32m    263\u001b[0m     \u001b[38;5;28;01mif\u001b[39;00m proc\u001b[38;5;241m.\u001b[39mreturncode:\n\u001b[1;32m--> 264\u001b[0m         \u001b[38;5;28;01mraise\u001b[39;00m TesseractError(proc\u001b[38;5;241m.\u001b[39mreturncode, get_errors(error_string))\n",
      "\u001b[1;31mTesseractError\u001b[0m: (1, 'Missing = in configvar assignment')"
     ]
    }
   ],
   "source": [
    "cnf9 = \"-c tessedit_char_whitelist\"\n",
    "print(pyt.image_to_string(img4,config=cnf9))"
   ]
  },
  {
   "cell_type": "code",
   "execution_count": 28,
   "id": "24a9adaf",
   "metadata": {},
   "outputs": [
    {
     "name": "stdout",
     "output_type": "stream",
     "text": [
      "(1080, 1920, 3)\n"
     ]
    }
   ],
   "source": [
    "img5 = cv2.imread(r\"E:\\PyImage_ComputerVision\\OCR\\Working Data\\InputData\\4.png\")\n",
    "print(img5.shape)\n",
    "img5 = cv2.cvtColor(img5,cv2.COLOR_BGR2RGB)"
   ]
  },
  {
   "cell_type": "code",
   "execution_count": 29,
   "id": "1b91c5a2",
   "metadata": {},
   "outputs": [
    {
     "name": "stdout",
     "output_type": "stream",
     "text": [
      "Client FPS: 267 Network RTT Avg (Max): 34ms (35ms) PacketLoss:0% Packets Lost (Total): 6\n",
      "\n",
      "Mid Top\n",
      "* ‘ 7 5\n",
      "—\n",
      "\n",
      "KILLED BY\n",
      "\n",
      "INCOMING\n",
      "\n",
      "ft: 150,\n",
      "\n",
      " Viver\n",
      "3} eliminated - Team\n",
      "PORT [=] TOGGLE MOUSE CURSOR\n",
      "\n",
      "©\n",
      "\n",
      "Chamber\n",
      "< @> switcy player\n",
      "\n",
      "a _ T_T\n",
      "aS Fi 5 x ctlent version: 0600.00.72\n",
      "\n",
      "\n"
     ]
    }
   ],
   "source": [
    "print(pyt.image_to_string(img5))"
   ]
  },
  {
   "cell_type": "code",
   "execution_count": 30,
   "id": "658f05e6",
   "metadata": {},
   "outputs": [
    {
     "name": "stdout",
     "output_type": "stream",
     "text": [
      "267343506\n",
      "\n",
      "7 5\n",
      "\n",
      "8\n",
      "\n",
      "150.\n",
      "\n",
      "3-\n",
      "-0\n",
      "\n",
      "7\n",
      "5 0600.00.72\n",
      "\n",
      "\n"
     ]
    }
   ],
   "source": [
    "print(pyt.image_to_string(img5,config=cnf))"
   ]
  },
  {
   "cell_type": "code",
   "execution_count": 20,
   "id": "c1317e98",
   "metadata": {},
   "outputs": [],
   "source": [
    "imgfg = img4[40:100,535:1380]\n",
    "imgfg = cv2.cvtColor(imgfg,cv2.COLOR_RGB2GRAY)\n",
    "cv2.imshow(\"image\",imgfg)\n",
    "cv2.waitKey(0)\n",
    "cv2.destroyAllWindows()"
   ]
  },
  {
   "cell_type": "code",
   "execution_count": 21,
   "id": "d505b086",
   "metadata": {},
   "outputs": [
    {
     "data": {
      "text/plain": [
       "array([[94, 91, 92, ..., 71, 64, 55],\n",
       "       [93, 93, 93, ..., 65, 59, 53],\n",
       "       [93, 94, 93, ..., 63, 57, 53],\n",
       "       ...,\n",
       "       [88, 88, 88, ..., 70, 75, 80],\n",
       "       [88, 88, 88, ..., 71, 75, 77],\n",
       "       [88, 88, 88, ..., 71, 75, 77]], dtype=uint8)"
      ]
     },
     "execution_count": 21,
     "metadata": {},
     "output_type": "execute_result"
    }
   ],
   "source": [
    "imgfg"
   ]
  },
  {
   "cell_type": "code",
   "execution_count": 22,
   "id": "abd1f29a",
   "metadata": {},
   "outputs": [
    {
     "data": {
      "text/plain": [
       "(60, 845)"
      ]
     },
     "execution_count": 22,
     "metadata": {},
     "output_type": "execute_result"
    }
   ],
   "source": [
    "imgfg.shape"
   ]
  },
  {
   "cell_type": "code",
   "execution_count": 23,
   "id": "19f144d3",
   "metadata": {},
   "outputs": [
    {
     "name": "stdout",
     "output_type": "stream",
     "text": [
      "\n"
     ]
    }
   ],
   "source": [
    "print(pyt.image_to_string(imgfg))"
   ]
  },
  {
   "cell_type": "code",
   "execution_count": 24,
   "id": "fdb58892",
   "metadata": {},
   "outputs": [],
   "source": [
    "imgfg_th = cv2.threshold(imgfg,0,255,cv2.THRESH_BINARY | cv2.THRESH_OTSU)"
   ]
  },
  {
   "cell_type": "code",
   "execution_count": 29,
   "id": "6c30344d",
   "metadata": {},
   "outputs": [
    {
     "data": {
      "text/plain": [
       "(60, 845)"
      ]
     },
     "execution_count": 29,
     "metadata": {},
     "output_type": "execute_result"
    }
   ],
   "source": [
    "imgfg_th[1].shape"
   ]
  },
  {
   "cell_type": "code",
   "execution_count": 26,
   "id": "2f80d8bd",
   "metadata": {},
   "outputs": [],
   "source": [
    "cv2.imshow(\"THRESHOLDING\",imgfg_th[1])\n",
    "cv2.waitKey(0)\n",
    "cv2.destroyAllWindows()"
   ]
  },
  {
   "cell_type": "code",
   "execution_count": 31,
   "id": "5edb2a86",
   "metadata": {},
   "outputs": [
    {
     "name": "stdout",
     "output_type": "stream",
     "text": [
      "\n"
     ]
    }
   ],
   "source": [
    "print(pyt.image_to_string(imgfg_th[1],config=cnf))"
   ]
  },
  {
   "cell_type": "code",
   "execution_count": 33,
   "id": "09b83afe",
   "metadata": {},
   "outputs": [
    {
     "name": "stdout",
     "output_type": "stream",
     "text": [
      "\n"
     ]
    }
   ],
   "source": [
    "imgfg1 = cv2.resize(imgfg,(512,512))\n",
    "print(pyt.image_to_string(imgfg1))"
   ]
  },
  {
   "cell_type": "code",
   "execution_count": 34,
   "id": "9ff98d2f",
   "metadata": {},
   "outputs": [
    {
     "name": "stdout",
     "output_type": "stream",
     "text": [
      "\n"
     ]
    }
   ],
   "source": [
    "print(pyt.image_to_string(imgfg1,config=cnf))"
   ]
  },
  {
   "cell_type": "code",
   "execution_count": 35,
   "id": "3af0ba58",
   "metadata": {},
   "outputs": [
    {
     "name": "stdout",
     "output_type": "stream",
     "text": [
      "\n",
      "\n"
     ]
    }
   ],
   "source": [
    "cnf11 = \"-c tessedit_char_whitelist=0123456789\"\n",
    "print(pyt.image_to_string(imgfg,config=cnf11))\n",
    "print(pyt.image_to_string(imgfg1,config=cnf11))"
   ]
  },
  {
   "cell_type": "code",
   "execution_count": null,
   "id": "149357a5",
   "metadata": {},
   "outputs": [],
   "source": []
  },
  {
   "cell_type": "code",
   "execution_count": 43,
   "id": "c169825a",
   "metadata": {},
   "outputs": [],
   "source": [
    "cv2.imshow(\"Image\",cv2.cvtColor(img2,cv2.COLOR_RGB2BGR))\n",
    "cv2.waitKey(0)\n",
    "cv2.destroyAllWindows()"
   ]
  },
  {
   "cell_type": "code",
   "execution_count": 41,
   "id": "48418fc8",
   "metadata": {},
   "outputs": [],
   "source": [
    "fg2 = pyt.image_to_osd(img2,output_type=pyt.Output.DICT)"
   ]
  },
  {
   "cell_type": "code",
   "execution_count": 42,
   "id": "e25bbd22",
   "metadata": {},
   "outputs": [
    {
     "data": {
      "text/plain": [
       "{'page_num': 0,\n",
       " 'orientation': 0,\n",
       " 'rotate': 0,\n",
       " 'orientation_conf': 3.09,\n",
       " 'script': 'Latin',\n",
       " 'script_conf': 0.48}"
      ]
     },
     "execution_count": 42,
     "metadata": {},
     "output_type": "execute_result"
    }
   ],
   "source": [
    "fg2"
   ]
  },
  {
   "cell_type": "code",
   "execution_count": 44,
   "id": "e23948fc",
   "metadata": {},
   "outputs": [],
   "source": [
    "cv2.imshow(\"Image\",cv2.cvtColor(img1,cv2.COLOR_RGB2BGR))\n",
    "cv2.waitKey(0)\n",
    "cv2.destroyAllWindows()"
   ]
  },
  {
   "cell_type": "code",
   "execution_count": 78,
   "id": "da9e739e",
   "metadata": {},
   "outputs": [],
   "source": [
    "fg1 = pyt.image_to_osd(img1,output_type=pyt.Output.DICT,config=\"-c min_characters_to_try=40\")"
   ]
  },
  {
   "cell_type": "code",
   "execution_count": 79,
   "id": "95bb374e",
   "metadata": {},
   "outputs": [
    {
     "data": {
      "text/plain": [
       "{'page_num': 0,\n",
       " 'orientation': 0,\n",
       " 'rotate': 0,\n",
       " 'orientation_conf': 1.22,\n",
       " 'script': 'Latin',\n",
       " 'script_conf': 2.22}"
      ]
     },
     "execution_count": 79,
     "metadata": {},
     "output_type": "execute_result"
    }
   ],
   "source": [
    "fg1"
   ]
  },
  {
   "cell_type": "code",
   "execution_count": 80,
   "id": "e3e8e691",
   "metadata": {},
   "outputs": [],
   "source": [
    "cv2.imshow(\"Image\",cv2.cvtColor(img3,cv2.COLOR_RGB2BGR))\n",
    "cv2.waitKey(0)\n",
    "cv2.destroyAllWindows()"
   ]
  },
  {
   "cell_type": "code",
   "execution_count": 91,
   "id": "67ee34a1",
   "metadata": {},
   "outputs": [],
   "source": [
    "fg3 = pyt.image_to_osd(img3,output_type=pyt.Output.DICT,config=\"-c min_characters_to_try=15\")"
   ]
  },
  {
   "cell_type": "code",
   "execution_count": 92,
   "id": "a69aa0d6",
   "metadata": {},
   "outputs": [
    {
     "data": {
      "text/plain": [
       "{'page_num': 0,\n",
       " 'orientation': 0,\n",
       " 'rotate': 0,\n",
       " 'orientation_conf': 0.16,\n",
       " 'script': 'Arabic',\n",
       " 'script_conf': 6.67}"
      ]
     },
     "execution_count": 92,
     "metadata": {},
     "output_type": "execute_result"
    }
   ],
   "source": [
    "fg3"
   ]
  },
  {
   "cell_type": "code",
   "execution_count": 93,
   "id": "d3c49997",
   "metadata": {},
   "outputs": [],
   "source": [
    "cv2.imshow(\"Image\",cv2.cvtColor(img4,cv2.COLOR_RGB2BGR))\n",
    "cv2.waitKey(0)\n",
    "cv2.destroyAllWindows()"
   ]
  },
  {
   "cell_type": "code",
   "execution_count": 103,
   "id": "2c314dbe",
   "metadata": {},
   "outputs": [],
   "source": [
    "fg4 = pyt.image_to_osd(img4,output_type=pyt.Output.DICT)"
   ]
  },
  {
   "cell_type": "code",
   "execution_count": 104,
   "id": "2b15e59e",
   "metadata": {},
   "outputs": [
    {
     "data": {
      "text/plain": [
       "{'page_num': 0,\n",
       " 'orientation': 0,\n",
       " 'rotate': 0,\n",
       " 'orientation_conf': 1.67,\n",
       " 'script': 'Cyrillic',\n",
       " 'script_conf': 0.2}"
      ]
     },
     "execution_count": 104,
     "metadata": {},
     "output_type": "execute_result"
    }
   ],
   "source": [
    "fg4"
   ]
  },
  {
   "cell_type": "code",
   "execution_count": 121,
   "id": "2e518c2d",
   "metadata": {},
   "outputs": [],
   "source": [
    "fg41 = pyt.image_to_osd(img4,output_type=pyt.Output.DICT,config=\"outputbase digits\")"
   ]
  },
  {
   "cell_type": "code",
   "execution_count": 122,
   "id": "f1038e16",
   "metadata": {},
   "outputs": [
    {
     "data": {
      "text/plain": [
       "{'page_num': 0,\n",
       " 'orientation': 0,\n",
       " 'rotate': 0,\n",
       " 'orientation_conf': 1.67,\n",
       " 'script': 'Cyrillic',\n",
       " 'script_conf': 0.2}"
      ]
     },
     "execution_count": 122,
     "metadata": {},
     "output_type": "execute_result"
    }
   ],
   "source": [
    "fg41"
   ]
  },
  {
   "cell_type": "code",
   "execution_count": 101,
   "id": "c77a48cb",
   "metadata": {},
   "outputs": [],
   "source": [
    "cv2.imshow(\"Image\",cv2.cvtColor(img5,cv2.COLOR_RGB2BGR))\n",
    "cv2.waitKey(0)\n",
    "cv2.destroyAllWindows()"
   ]
  },
  {
   "cell_type": "code",
   "execution_count": 107,
   "id": "921acea3",
   "metadata": {},
   "outputs": [],
   "source": [
    "fg5 = pyt.image_to_osd(img5,output_type=pyt.Output.DICT)"
   ]
  },
  {
   "cell_type": "code",
   "execution_count": 108,
   "id": "a23f2d1d",
   "metadata": {},
   "outputs": [
    {
     "data": {
      "text/plain": [
       "{'page_num': 0,\n",
       " 'orientation': 0,\n",
       " 'rotate': 0,\n",
       " 'orientation_conf': 1.88,\n",
       " 'script': 'Cyrillic',\n",
       " 'script_conf': 1.67}"
      ]
     },
     "execution_count": 108,
     "metadata": {},
     "output_type": "execute_result"
    }
   ],
   "source": [
    "fg5"
   ]
  },
  {
   "cell_type": "code",
   "execution_count": 123,
   "id": "1e26cafc",
   "metadata": {},
   "outputs": [],
   "source": [
    "fg51 = pyt.image_to_osd(img5,output_type=pyt.Output.DICT,config=\"outputbase digits\")"
   ]
  },
  {
   "cell_type": "code",
   "execution_count": 124,
   "id": "37cd3b00",
   "metadata": {},
   "outputs": [
    {
     "data": {
      "text/plain": [
       "{'page_num': 0,\n",
       " 'orientation': 0,\n",
       " 'rotate': 0,\n",
       " 'orientation_conf': 1.88,\n",
       " 'script': 'Cyrillic',\n",
       " 'script_conf': 1.67}"
      ]
     },
     "execution_count": 124,
     "metadata": {},
     "output_type": "execute_result"
    }
   ],
   "source": [
    "fg51"
   ]
  },
  {
   "cell_type": "code",
   "execution_count": 129,
   "id": "cb316b4b",
   "metadata": {},
   "outputs": [],
   "source": [
    "cv2.imshow(\"Image\",cv2.cvtColor(imgfg,cv2.COLOR_RGB2BGR))\n",
    "cv2.waitKey(0)\n",
    "cv2.destroyAllWindows()"
   ]
  },
  {
   "cell_type": "code",
   "execution_count": 117,
   "id": "fd0559ab",
   "metadata": {},
   "outputs": [],
   "source": [
    "fg6 = pyt.image_to_osd(imgfg,output_type=pyt.Output.DICT,config=\"-c min_characters_to_try=3\")"
   ]
  },
  {
   "cell_type": "code",
   "execution_count": 118,
   "id": "4663a1d0",
   "metadata": {},
   "outputs": [
    {
     "data": {
      "text/plain": [
       "{'page_num': 0,\n",
       " 'orientation': 270,\n",
       " 'rotate': 90,\n",
       " 'orientation_conf': 0.01,\n",
       " 'script': 'Arabic',\n",
       " 'script_conf': 2.0}"
      ]
     },
     "execution_count": 118,
     "metadata": {},
     "output_type": "execute_result"
    }
   ],
   "source": [
    "fg6"
   ]
  },
  {
   "cell_type": "code",
   "execution_count": 120,
   "id": "cec38734",
   "metadata": {},
   "outputs": [
    {
     "name": "stdout",
     "output_type": "stream",
     "text": [
      "\n"
     ]
    }
   ],
   "source": [
    "print(pyt.image_to_string(imgfg))"
   ]
  },
  {
   "cell_type": "code",
   "execution_count": 128,
   "id": "4ebca44c",
   "metadata": {},
   "outputs": [
    {
     "name": "stdout",
     "output_type": "stream",
     "text": [
      "2 BS ie\n",
      "\n"
     ]
    }
   ],
   "source": [
    "print(pyt.image_to_string(imgfg,config=\"--psm 7\"))"
   ]
  },
  {
   "cell_type": "code",
   "execution_count": 39,
   "id": "0d46a5b6",
   "metadata": {},
   "outputs": [],
   "source": [
    "imgfg1 = img4[40:100,535:1380]\n",
    "cv2.imshow(\"img\",imgfg1)\n",
    "cv2.waitKey(0)\n",
    "cv2.destroyAllWindows()"
   ]
  },
  {
   "cell_type": "code",
   "execution_count": 40,
   "id": "90dcb083",
   "metadata": {},
   "outputs": [],
   "source": [
    "fg = cv2.cvtColor(imgfg1,cv2.COLOR_BGR2GRAY)\n",
    "thresh = cv2.threshold(fg, 0, 255,cv2.THRESH_OTSU)[1]"
   ]
  },
  {
   "cell_type": "code",
   "execution_count": 41,
   "id": "87c0cf07",
   "metadata": {},
   "outputs": [],
   "source": [
    "kernel = cv2.getStructuringElement(cv2.MORPH_ELLIPSE, (1, 1))"
   ]
  },
  {
   "cell_type": "code",
   "execution_count": 42,
   "id": "bd00efff",
   "metadata": {},
   "outputs": [],
   "source": [
    "opening = cv2.morphologyEx(thresh, cv2.MORPH_OPEN, kernel)"
   ]
  },
  {
   "cell_type": "code",
   "execution_count": 58,
   "id": "715c0221",
   "metadata": {},
   "outputs": [],
   "source": [
    "cv2.imshow(\"img\",opening)\n",
    "cv2.waitKey(0)\n",
    "cv2.destroyAllWindows()"
   ]
  },
  {
   "cell_type": "code",
   "execution_count": 57,
   "id": "84648088",
   "metadata": {},
   "outputs": [
    {
     "name": "stdout",
     "output_type": "stream",
     "text": [
      "2a\" as\n",
      "\n"
     ]
    }
   ],
   "source": [
    "print(pyt.image_to_string(opening,config=\"--psm 10\"))"
   ]
  },
  {
   "cell_type": "code",
   "execution_count": null,
   "id": "74838b54",
   "metadata": {},
   "outputs": [],
   "source": []
  },
  {
   "cell_type": "code",
   "execution_count": null,
   "id": "6d08d85b",
   "metadata": {},
   "outputs": [],
   "source": []
  },
  {
   "cell_type": "code",
   "execution_count": null,
   "id": "5e4b01dd",
   "metadata": {},
   "outputs": [],
   "source": []
  },
  {
   "cell_type": "code",
   "execution_count": null,
   "id": "648cef83",
   "metadata": {},
   "outputs": [],
   "source": []
  },
  {
   "cell_type": "code",
   "execution_count": null,
   "id": "6ad48993",
   "metadata": {},
   "outputs": [],
   "source": []
  },
  {
   "cell_type": "code",
   "execution_count": null,
   "id": "f0b22e84",
   "metadata": {},
   "outputs": [],
   "source": []
  },
  {
   "cell_type": "code",
   "execution_count": 63,
   "id": "86c744dc",
   "metadata": {},
   "outputs": [],
   "source": [
    "def callback(event,x,y,flags,params):\n",
    "    if event ==  cv2.EVENT_LBUTTONDOWN:\n",
    "        print(f\"X:-{x}    Y:-{y}\")"
   ]
  },
  {
   "cell_type": "code",
   "execution_count": 64,
   "id": "decbb529",
   "metadata": {},
   "outputs": [],
   "source": [
    "def mouse_position(image):\n",
    "    cv2.imshow(\"Image\",image)\n",
    "    cv2.setMouseCallback(\"Image\",callback)\n",
    "    cv2.waitKey(0)\n",
    "    cv2.destroyAllWindows()"
   ]
  },
  {
   "cell_type": "code",
   "execution_count": 61,
   "id": "c9d5b9ea",
   "metadata": {},
   "outputs": [],
   "source": [
    "csgo_org = cv2.imread(r\"E:\\PyImage_ComputerVision\\OCR\\Working Data\\InputData\\csgo.png\")\n",
    "csgo_gray = cv2.cvtColor(csgo_org,cv2.COLOR_BGR2GRAY)"
   ]
  },
  {
   "cell_type": "code",
   "execution_count": 60,
   "id": "506f1012",
   "metadata": {},
   "outputs": [
    {
     "data": {
      "text/plain": [
       "(1080, 1920, 3)"
      ]
     },
     "execution_count": 60,
     "metadata": {},
     "output_type": "execute_result"
    }
   ],
   "source": [
    "csgo_org.shape"
   ]
  },
  {
   "cell_type": "code",
   "execution_count": 62,
   "id": "a95bbf42",
   "metadata": {},
   "outputs": [
    {
     "data": {
      "text/plain": [
       "(1080, 1920)"
      ]
     },
     "execution_count": 62,
     "metadata": {},
     "output_type": "execute_result"
    }
   ],
   "source": [
    "csgo_gray.shape"
   ]
  },
  {
   "cell_type": "code",
   "execution_count": 65,
   "id": "39f7b8b0",
   "metadata": {},
   "outputs": [],
   "source": [
    "csgo_gray_256 = cv2.resize(csgo_gray,(256,256))"
   ]
  },
  {
   "cell_type": "code",
   "execution_count": 66,
   "id": "d0a6314b",
   "metadata": {},
   "outputs": [
    {
     "data": {
      "text/plain": [
       "(256, 256)"
      ]
     },
     "execution_count": 66,
     "metadata": {},
     "output_type": "execute_result"
    }
   ],
   "source": [
    "csgo_gray_256.shape"
   ]
  },
  {
   "cell_type": "code",
   "execution_count": 68,
   "id": "ea34fb84",
   "metadata": {},
   "outputs": [
    {
     "name": "stdout",
     "output_type": "stream",
     "text": [
      "X:-61    Y:-10\n",
      "X:-61    Y:-22\n",
      "X:-191    Y:-9\n"
     ]
    }
   ],
   "source": [
    "mouse_position(csgo_gray_256)"
   ]
  },
  {
   "cell_type": "code",
   "execution_count": 70,
   "id": "33384124",
   "metadata": {},
   "outputs": [],
   "source": [
    "csgo_logo_256 = csgo_gray_256[10:22,60:192]"
   ]
  },
  {
   "cell_type": "code",
   "execution_count": 71,
   "id": "e7809b83",
   "metadata": {},
   "outputs": [],
   "source": [
    "cv2.imshow(\"Logo\",csgo_logo_256)\n",
    "cv2.waitKey(0)\n",
    "cv2.destroyAllWindows()"
   ]
  },
  {
   "cell_type": "code",
   "execution_count": 73,
   "id": "6020cf36",
   "metadata": {},
   "outputs": [],
   "source": [
    "csgo_logo_256_th = cv2.threshold(csgo_logo_256,0,255,cv2.THRESH_BINARY | cv2.THRESH_OTSU)[1]"
   ]
  },
  {
   "cell_type": "code",
   "execution_count": 77,
   "id": "2b49cf95",
   "metadata": {},
   "outputs": [
    {
     "name": "stdout",
     "output_type": "stream",
     "text": [
      "6 bmi: if\n",
      "\n"
     ]
    }
   ],
   "source": [
    "print(pyt.image_to_string(csgo_logo_256_th,config=\"--psm 6\"))"
   ]
  },
  {
   "cell_type": "code",
   "execution_count": null,
   "id": "b0823c2c",
   "metadata": {},
   "outputs": [],
   "source": []
  },
  {
   "cell_type": "code",
   "execution_count": null,
   "id": "b5c807a6",
   "metadata": {},
   "outputs": [],
   "source": []
  },
  {
   "cell_type": "code",
   "execution_count": 143,
   "id": "46af00e9",
   "metadata": {},
   "outputs": [],
   "source": [
    "csgo_logo = imgfg"
   ]
  },
  {
   "cell_type": "code",
   "execution_count": 144,
   "id": "7d219b35",
   "metadata": {},
   "outputs": [
    {
     "data": {
      "text/plain": [
       "(60, 845)"
      ]
     },
     "execution_count": 144,
     "metadata": {},
     "output_type": "execute_result"
    }
   ],
   "source": [
    "csgo_logo.shape"
   ]
  },
  {
   "cell_type": "code",
   "execution_count": 145,
   "id": "1a5f9739",
   "metadata": {},
   "outputs": [],
   "source": [
    "cv2.imshow(\"Logo\",csgo_logo)\n",
    "cv2.waitKey(0)\n",
    "cv2.destroyAllWindows()"
   ]
  },
  {
   "cell_type": "code",
   "execution_count": 146,
   "id": "0641c309",
   "metadata": {},
   "outputs": [],
   "source": [
    "csgo_logo_th = cv2.threshold(csgo_logo,0,255,cv2.THRESH_BINARY | cv2.THRESH_OTSU)[1]"
   ]
  },
  {
   "cell_type": "code",
   "execution_count": 149,
   "id": "d6b83be3",
   "metadata": {},
   "outputs": [],
   "source": [
    "csgo_logo_dilate = cv2.dilate(csgo_logo_th,None,iterations=1)"
   ]
  },
  {
   "cell_type": "code",
   "execution_count": 166,
   "id": "640dfc45",
   "metadata": {},
   "outputs": [],
   "source": [
    "csgo_logo_morph = cv2.morphologyEx(csgo_logo,cv2.MORPH_GRADIENT,None,iterations=1)"
   ]
  },
  {
   "cell_type": "code",
   "execution_count": 167,
   "id": "ecfe6a68",
   "metadata": {},
   "outputs": [],
   "source": [
    "cv2.imshow(\"Logo\",csgo_logo_morph)\n",
    "cv2.waitKey(0)\n",
    "cv2.destroyAllWindows()"
   ]
  },
  {
   "cell_type": "code",
   "execution_count": 169,
   "id": "ae8b3b12",
   "metadata": {},
   "outputs": [
    {
     "name": "stdout",
     "output_type": "stream",
     "text": [
      "28 BS ee\n",
      "\n"
     ]
    }
   ],
   "source": [
    "print(pyt.image_to_string(csgo_logo,config=\"--psm 10\"))"
   ]
  },
  {
   "cell_type": "code",
   "execution_count": 170,
   "id": "c779cbce",
   "metadata": {},
   "outputs": [
    {
     "data": {
      "text/plain": [
       "(60, 845)"
      ]
     },
     "execution_count": 170,
     "metadata": {},
     "output_type": "execute_result"
    }
   ],
   "source": [
    "csgo_logo_th.shape"
   ]
  },
  {
   "cell_type": "code",
   "execution_count": 257,
   "id": "6a4d12dd",
   "metadata": {},
   "outputs": [],
   "source": [
    "csgo_logo_border = cv2.copyMakeBorder(csgo_logo,330,330,117,117,cv2.BORDER_CONSTANT,value=[255,255,255])"
   ]
  },
  {
   "cell_type": "code",
   "execution_count": 258,
   "id": "c3d259cb",
   "metadata": {},
   "outputs": [
    {
     "data": {
      "text/plain": [
       "(720, 1079)"
      ]
     },
     "execution_count": 258,
     "metadata": {},
     "output_type": "execute_result"
    }
   ],
   "source": [
    "csgo_logo_border.shape"
   ]
  },
  {
   "cell_type": "code",
   "execution_count": 259,
   "id": "8ff83a2f",
   "metadata": {},
   "outputs": [],
   "source": [
    "cv2.imshow(\"Logo\",csgo_logo_border)\n",
    "cv2.waitKey(0)\n",
    "cv2.destroyAllWindows()"
   ]
  },
  {
   "cell_type": "code",
   "execution_count": 248,
   "id": "31fd7083",
   "metadata": {},
   "outputs": [
    {
     "name": "stdout",
     "output_type": "stream",
     "text": [
      "ORO 2 Sw\" 3 | Astras\n",
      "\n"
     ]
    }
   ],
   "source": [
    "print(pyt.image_to_string(csgo_logo_border,config=\"--psm 10\"))"
   ]
  },
  {
   "cell_type": "code",
   "execution_count": 255,
   "id": "934f241c",
   "metadata": {},
   "outputs": [],
   "source": [
    "csgo_logo_border_th = cv2.threshold(csgo_logo_border,0,255,cv2.THRESH_BINARY | cv2.THRESH_OTSU)[1]"
   ]
  },
  {
   "cell_type": "code",
   "execution_count": 256,
   "id": "eb5c408b",
   "metadata": {},
   "outputs": [],
   "source": [
    "cv2.imshow(\"Logo\",csgo_logo_border_th)\n",
    "cv2.waitKey(0)\n",
    "cv2.destroyAllWindows()"
   ]
  },
  {
   "cell_type": "code",
   "execution_count": 254,
   "id": "888834ea",
   "metadata": {},
   "outputs": [
    {
     "name": "stdout",
     "output_type": "stream",
     "text": [
      "2\n",
      "\n"
     ]
    }
   ],
   "source": [
    "print(pyt.image_to_string(csgo_logo_border_th,config=cnf))"
   ]
  },
  {
   "cell_type": "code",
   "execution_count": 227,
   "id": "25258e2c",
   "metadata": {},
   "outputs": [],
   "source": [
    "csgo_logo_border_ad_th = cv2.adaptiveThreshold(csgo_logo_border,255,cv2.ADAPTIVE_THRESH_GAUSSIAN_C,cv2.THRESH_BINARY_INV,5,3)"
   ]
  },
  {
   "cell_type": "code",
   "execution_count": 228,
   "id": "8b55ce56",
   "metadata": {},
   "outputs": [],
   "source": [
    "cv2.imshow(\"Logo\",csgo_logo_border_ad_th)\n",
    "cv2.waitKey(0)\n",
    "cv2.destroyAllWindows()"
   ]
  },
  {
   "cell_type": "code",
   "execution_count": 226,
   "id": "301e4886",
   "metadata": {},
   "outputs": [
    {
     "name": "stdout",
     "output_type": "stream",
     "text": [
      "8\n",
      "\n",
      "\n"
     ]
    }
   ],
   "source": [
    "print(pyt.image_to_string(csgo_logo_border_ad_th,config=cnf))"
   ]
  },
  {
   "cell_type": "code",
   "execution_count": null,
   "id": "c3372a6d",
   "metadata": {},
   "outputs": [],
   "source": []
  },
  {
   "cell_type": "code",
   "execution_count": 118,
   "id": "a458f042",
   "metadata": {},
   "outputs": [],
   "source": [
    "cv2.imshow(\"Logo\",csgo_logo)\n",
    "cv2.waitKey(0)\n",
    "cv2.destroyAllWindows()"
   ]
  },
  {
   "cell_type": "code",
   "execution_count": 115,
   "id": "4d7676ab",
   "metadata": {},
   "outputs": [
    {
     "name": "stdout",
     "output_type": "stream",
     "text": [
      "X:-268    Y:-4\n",
      "X:-267    Y:-55\n",
      "X:-338    Y:-54\n"
     ]
    }
   ],
   "source": [
    "mouse_position(csgo_logo)"
   ]
  },
  {
   "cell_type": "code",
   "execution_count": 116,
   "id": "47c5bbf5",
   "metadata": {},
   "outputs": [],
   "source": [
    "csgo_first_score = csgo_logo[4:55,268:338]"
   ]
  },
  {
   "cell_type": "code",
   "execution_count": 124,
   "id": "ca392edd",
   "metadata": {},
   "outputs": [],
   "source": [
    "cv2.imshow(\"Logo\",cv2.resize(csgo_first_score,(600,600)))\n",
    "cv2.waitKey(0)\n",
    "cv2.destroyAllWindows()"
   ]
  },
  {
   "cell_type": "code",
   "execution_count": 128,
   "id": "fbb5ec12",
   "metadata": {},
   "outputs": [
    {
     "name": "stdout",
     "output_type": "stream",
     "text": [
      "my\n",
      "\n"
     ]
    }
   ],
   "source": [
    "print(pyt.image_to_string(cv2.resize(csgo_first_score,(600,600)),config=\"--psm 10\"))"
   ]
  },
  {
   "cell_type": "code",
   "execution_count": null,
   "id": "c12a13b0",
   "metadata": {},
   "outputs": [],
   "source": []
  },
  {
   "cell_type": "code",
   "execution_count": null,
   "id": "24d8cf5b",
   "metadata": {},
   "outputs": [],
   "source": []
  },
  {
   "cell_type": "code",
   "execution_count": 129,
   "id": "91691b69",
   "metadata": {},
   "outputs": [
    {
     "data": {
      "text/plain": [
       "(1080, 1920)"
      ]
     },
     "execution_count": 129,
     "metadata": {},
     "output_type": "execute_result"
    }
   ],
   "source": [
    "csgo_gray.shape"
   ]
  },
  {
   "cell_type": "code",
   "execution_count": 130,
   "id": "84cb3797",
   "metadata": {},
   "outputs": [],
   "source": [
    "cv2.imshow(\"Logo\",csgo_gray)\n",
    "cv2.waitKey(0)\n",
    "cv2.destroyAllWindows()"
   ]
  },
  {
   "cell_type": "code",
   "execution_count": 135,
   "id": "f7137958",
   "metadata": {},
   "outputs": [],
   "source": [
    "csgo_th = cv2.threshold(csgo_gray,0,255,cv2.THRESH_BINARY | cv2.THRESH_OTSU)[1]"
   ]
  },
  {
   "cell_type": "code",
   "execution_count": 137,
   "id": "e57e7fcf",
   "metadata": {},
   "outputs": [],
   "source": [
    "cv2.imshow(\"Logo\",csgo_th)\n",
    "cv2.waitKey(0)\n",
    "cv2.destroyAllWindows()"
   ]
  },
  {
   "cell_type": "code",
   "execution_count": 138,
   "id": "ebfa0c83",
   "metadata": {},
   "outputs": [
    {
     "name": "stdout",
     "output_type": "stream",
     "text": [
      "£54 Pro Logue Secson 18 Group A\n",
      "\n",
      "oRKs ORKS\n",
      "\n",
      "ii Equip. Veluwe,\n",
      "\n",
      "God £ f t &\n",
      "Utility x4 X3 XG X2\n",
      "\n",
      "o™ Vegi oe\n",
      "O2 0 ARB sr Fre\n",
      "& S200\n",
      "\n",
      "WS a\n",
      "\n",
      "O4 0M ARO, ts\n",
      "\n",
      "Boats ARR: sé\n",
      "\n",
      "a0\n",
      "\n",
      "ea\n",
      "O3 9M MB et\n",
      "3 S160\n",
      "\n",
      "ING MALTA @\n",
      "\n",
      "& Fa\n",
      "\n",
      "= >, Sa 7\n",
      "NIKE = ggiORKS, “| PLAN - -\n",
      "7 = 3a\n",
      "OVERPASS\n",
      "ANCIENT [DCm]\n",
      "\n",
      "Greet @ ¢ &% @\n",
      "\n",
      "Utility ¥5 ¥4 5 x5\n",
      "—K bORUP Lao)\n",
      "ey bt ABB t4\n",
      "; $3900\n",
      "ge device Lavo)\n",
      "9° M052 0\n",
      "$8850 &\n",
      "\n",
      "aso Oo Stash 100)\n",
      "ate utd g\n",
      "\n",
      "83850 8\n",
      "kK Buz Me’\n",
      "ert kB 4 73\n",
      "$3400 @\n",
      "=r blomeF Me\n",
      "er bt AN OB TE OY\n",
      "36750 ©\n",
      "\n",
      "6A\n",
      "\n",
      "\n"
     ]
    }
   ],
   "source": [
    "print(pyt.image_to_string(csgo_th))"
   ]
  },
  {
   "cell_type": "code",
   "execution_count": null,
   "id": "1ecc8bd2",
   "metadata": {},
   "outputs": [],
   "source": []
  },
  {
   "cell_type": "code",
   "execution_count": null,
   "id": "018db1b4",
   "metadata": {},
   "outputs": [],
   "source": []
  },
  {
   "cell_type": "code",
   "execution_count": null,
   "id": "aa9f0bfe",
   "metadata": {},
   "outputs": [],
   "source": []
  },
  {
   "cell_type": "code",
   "execution_count": null,
   "id": "a5c3da3d",
   "metadata": {},
   "outputs": [],
   "source": []
  },
  {
   "cell_type": "code",
   "execution_count": null,
   "id": "31ca2090",
   "metadata": {},
   "outputs": [],
   "source": []
  },
  {
   "cell_type": "code",
   "execution_count": 260,
   "id": "aeda51ed",
   "metadata": {},
   "outputs": [],
   "source": [
    "csgo_logo_white_border = cv2.copyMakeBorder(csgo_logo,330,330,117,117,cv2.BORDER_CONSTANT,value=[255,255,255])"
   ]
  },
  {
   "cell_type": "code",
   "execution_count": 261,
   "id": "5151716e",
   "metadata": {},
   "outputs": [
    {
     "data": {
      "text/plain": [
       "(720, 1079)"
      ]
     },
     "execution_count": 261,
     "metadata": {},
     "output_type": "execute_result"
    }
   ],
   "source": [
    "csgo_logo_white_border.shape"
   ]
  },
  {
   "cell_type": "code",
   "execution_count": 269,
   "id": "9e84ba8b",
   "metadata": {},
   "outputs": [],
   "source": [
    "cv2.imshow(\"Logo\",csgo_logo_white_border)\n",
    "cv2.waitKey(0)\n",
    "cv2.destroyAllWindows()"
   ]
  },
  {
   "cell_type": "code",
   "execution_count": 290,
   "id": "ffd0fea5",
   "metadata": {},
   "outputs": [
    {
     "name": "stdout",
     "output_type": "stream",
     "text": [
      "ORO 2 Sw\" 3 | Astras\n",
      "\n"
     ]
    }
   ],
   "source": [
    "print(pyt.image_to_string(csgo_logo_white_border,config=\"--psm 10\"))"
   ]
  },
  {
   "cell_type": "code",
   "execution_count": 264,
   "id": "7c8168f1",
   "metadata": {},
   "outputs": [
    {
     "name": "stdout",
     "output_type": "stream",
     "text": [
      "2\n",
      "\n"
     ]
    }
   ],
   "source": [
    "print(pyt.image_to_string(csgo_logo_white_border,config=cnf))"
   ]
  },
  {
   "cell_type": "code",
   "execution_count": null,
   "id": "7c91023c",
   "metadata": {},
   "outputs": [],
   "source": []
  },
  {
   "cell_type": "code",
   "execution_count": null,
   "id": "d3cbefb8",
   "metadata": {},
   "outputs": [],
   "source": []
  },
  {
   "cell_type": "code",
   "execution_count": null,
   "id": "4cd0ae24",
   "metadata": {},
   "outputs": [],
   "source": []
  },
  {
   "cell_type": "code",
   "execution_count": null,
   "id": "27222bfc",
   "metadata": {},
   "outputs": [],
   "source": []
  },
  {
   "cell_type": "code",
   "execution_count": null,
   "id": "8b7c2bf2",
   "metadata": {},
   "outputs": [],
   "source": []
  },
  {
   "cell_type": "code",
   "execution_count": 265,
   "id": "6caa1e4d",
   "metadata": {},
   "outputs": [],
   "source": [
    "csgo_logo_black_border = cv2.copyMakeBorder(csgo_logo,330,330,117,117,cv2.BORDER_CONSTANT,value=[0,0,0])"
   ]
  },
  {
   "cell_type": "code",
   "execution_count": 266,
   "id": "6c8be52b",
   "metadata": {},
   "outputs": [
    {
     "data": {
      "text/plain": [
       "(720, 1079)"
      ]
     },
     "execution_count": 266,
     "metadata": {},
     "output_type": "execute_result"
    }
   ],
   "source": [
    "csgo_logo_black_border.shape"
   ]
  },
  {
   "cell_type": "code",
   "execution_count": 270,
   "id": "421d752e",
   "metadata": {},
   "outputs": [],
   "source": [
    "cv2.imshow(\"Logo\",csgo_logo_black_border)\n",
    "cv2.waitKey(0)\n",
    "cv2.destroyAllWindows()"
   ]
  },
  {
   "cell_type": "code",
   "execution_count": 280,
   "id": "ba2bf652",
   "metadata": {},
   "outputs": [
    {
     "name": "stdout",
     "output_type": "stream",
     "text": [
      "ne ES 9 ass\n",
      "\n"
     ]
    }
   ],
   "source": [
    "print(pyt.image_to_string(csgo_logo_black_border,config=\"--psm 10\"))"
   ]
  },
  {
   "cell_type": "code",
   "execution_count": 268,
   "id": "fb6d85d3",
   "metadata": {},
   "outputs": [
    {
     "name": "stdout",
     "output_type": "stream",
     "text": [
      "259\n",
      "\n",
      "\n"
     ]
    }
   ],
   "source": [
    "print(pyt.image_to_string(csgo_logo_black_border,config=cnf))"
   ]
  },
  {
   "cell_type": "code",
   "execution_count": 309,
   "id": "9d2cc21c",
   "metadata": {},
   "outputs": [],
   "source": [
    "csgo_logo_bb_th = cv2.threshold(csgo_logo_black_border,140,255,cv2.THRESH_BINARY)"
   ]
  },
  {
   "cell_type": "code",
   "execution_count": 310,
   "id": "a4b63e53",
   "metadata": {},
   "outputs": [
    {
     "data": {
      "text/plain": [
       "(140.0,\n",
       " array([[0, 0, 0, ..., 0, 0, 0],\n",
       "        [0, 0, 0, ..., 0, 0, 0],\n",
       "        [0, 0, 0, ..., 0, 0, 0],\n",
       "        ...,\n",
       "        [0, 0, 0, ..., 0, 0, 0],\n",
       "        [0, 0, 0, ..., 0, 0, 0],\n",
       "        [0, 0, 0, ..., 0, 0, 0]], dtype=uint8))"
      ]
     },
     "execution_count": 310,
     "metadata": {},
     "output_type": "execute_result"
    }
   ],
   "source": [
    "csgo_logo_bb_th"
   ]
  },
  {
   "cell_type": "code",
   "execution_count": 340,
   "id": "7c86d208",
   "metadata": {},
   "outputs": [],
   "source": [
    "cv2.imshow(\"Logo\",csgo_logo_bb_th[1])\n",
    "cv2.waitKey(0)\n",
    "cv2.destroyAllWindows()"
   ]
  },
  {
   "cell_type": "code",
   "execution_count": 339,
   "id": "a494e289",
   "metadata": {},
   "outputs": [
    {
     "name": "stdout",
     "output_type": "stream",
     "text": [
      "ound 12/30\n",
      "\n",
      "ORKS\n",
      "\n",
      "2\n",
      "\n",
      "9\n",
      "\n",
      "ASTRALIS\n",
      "\n"
     ]
    }
   ],
   "source": [
    "print(pyt.image_to_string(csgo_logo_bb_th[1],config=\"--psm 11\"))"
   ]
  },
  {
   "cell_type": "code",
   "execution_count": null,
   "id": "0fd9e20c",
   "metadata": {},
   "outputs": [],
   "source": []
  }
 ],
 "metadata": {
  "kernelspec": {
   "display_name": "Python 3 (ipykernel)",
   "language": "python",
   "name": "python3"
  },
  "language_info": {
   "codemirror_mode": {
    "name": "ipython",
    "version": 3
   },
   "file_extension": ".py",
   "mimetype": "text/x-python",
   "name": "python",
   "nbconvert_exporter": "python",
   "pygments_lexer": "ipython3",
   "version": "3.11.4"
  }
 },
 "nbformat": 4,
 "nbformat_minor": 5
}
