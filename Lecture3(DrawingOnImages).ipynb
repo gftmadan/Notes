{
 "cells": [
  {
   "cell_type": "code",
   "execution_count": 1,
   "id": "e5e33f4a",
   "metadata": {},
   "outputs": [],
   "source": [
    "import cv2\n",
    "import numpy as np"
   ]
  },
  {
   "cell_type": "code",
   "execution_count": 2,
   "id": "e0e12db5",
   "metadata": {},
   "outputs": [],
   "source": [
    "img = cv2.imread(r\"E:\\PyImage_ComputerVision\\OpenCVBasic\\WorkingData\\InputData\\adrian.png\")"
   ]
  },
  {
   "cell_type": "code",
   "execution_count": 3,
   "id": "2774921d",
   "metadata": {},
   "outputs": [
    {
     "name": "stdout",
     "output_type": "stream",
     "text": [
      "Width of the Image:-600\n",
      "Height of the Image:-450\n"
     ]
    }
   ],
   "source": [
    "h,w,_ = img.shape\n",
    "print(f\"Width of the Image:-{w}\\nHeight of the Image:-{h}\")"
   ]
  },
  {
   "cell_type": "markdown",
   "id": "1823f9b7",
   "metadata": {},
   "source": [
    "# Drawing On Images:-\n",
    "\n",
    "## OpenCV has a number of drawing functions you can use to draw various shapes, including polygons of irregular shapes On the Images.We will learn the most useful ones:-"
   ]
  },
  {
   "cell_type": "markdown",
   "id": "2996ad80",
   "metadata": {},
   "source": [
    "## --------------------------------------------------------------------------------------------------------------------------"
   ]
  },
  {
   "cell_type": "markdown",
   "id": "09940500",
   "metadata": {},
   "source": [
    "## 1)Drawing Line on Image:-\n",
    "\n",
    "### To Draw line on an image in OpenCV we use `cv2.line()` Method \n",
    "\n",
    "#### cv2.line():-[LINK](https://docs.opencv.org/4.x/d6/d6e/group__imgproc__draw.html#ga7078a9fae8c7e7d13d24dac2520ae4a2)\n",
    "\n",
    "#### LINETYPE Flags:-[LINK](https://docs.opencv.org/4.x/d6/d6e/group__imgproc__draw.html#gaf076ef45de481ac96e0ab3dc2c29a777)"
   ]
  },
  {
   "cell_type": "code",
   "execution_count": 4,
   "id": "e2a74cac",
   "metadata": {},
   "outputs": [],
   "source": [
    "imgcp = img.copy()\n",
    "cv2.line(imgcp,(0,0),(600,450),(0,0,0),2)\n",
    "cv2.imshow(\"Original Image\",img)\n",
    "cv2.imshow(\"Drawn Image\",imgcp)\n",
    "cv2.waitKey(0)\n",
    "cv2.destroyAllWindows()"
   ]
  },
  {
   "cell_type": "code",
   "execution_count": 5,
   "id": "3e913769",
   "metadata": {},
   "outputs": [],
   "source": [
    "imgcp = img.copy()\n",
    "cv2.line(imgcp,(0,0),(600,450),(0,0,255),6)\n",
    "cv2.imshow(\"Original Image\",img)\n",
    "cv2.imshow(\"Drawn Image\",imgcp)\n",
    "cv2.waitKey(0)\n",
    "cv2.destroyAllWindows()"
   ]
  },
  {
   "cell_type": "code",
   "execution_count": 6,
   "id": "6585755b",
   "metadata": {},
   "outputs": [],
   "source": [
    "imgcp = img.copy()\n",
    "cv2.line(imgcp,(0,0),(600,450),(0,255,0),100)\n",
    "cv2.imshow(\"Original Image\",img)\n",
    "cv2.imshow(\"Drawn Image\",imgcp)\n",
    "cv2.waitKey(0)\n",
    "cv2.destroyAllWindows()"
   ]
  },
  {
   "cell_type": "markdown",
   "id": "9186893d",
   "metadata": {},
   "source": [
    "### In the above cells we can see that we drawn a LINE from the Origin to the End Point of the Image and played with its colors and thickness\n",
    "\n",
    "### ::) < Fourth Argumnet > takes the Color we want for the drawn Line.\n",
    "### ::) < Fifth Argument > takes the thickness of the drawn Line.\n",
    "### ::) < Second Argument > takes the starting coordinate of the drwan Line.\n",
    "### ::) < Third Argument > takes the end coordinate of the drawn Line.\n",
    "\n",
    "## **NOTE:-The coordinates for the Start and End Point should be in `(x,y)` form."
   ]
  },
  {
   "cell_type": "code",
   "execution_count": 15,
   "id": "39584843",
   "metadata": {},
   "outputs": [],
   "source": [
    "imgcp = img.copy()\n",
    "cv2.line(imgcp,(200,300),(1200,1450),(0,255,0),5)\n",
    "cv2.imshow(\"Original Image\",img)\n",
    "cv2.imshow(\"Drawn Image\",imgcp)\n",
    "cv2.waitKey(0)\n",
    "cv2.destroyAllWindows()"
   ]
  },
  {
   "cell_type": "markdown",
   "id": "00beaec1",
   "metadata": {},
   "source": [
    "### As we can see in the above cell we have provided an EXTERIOR Pointfor the End Point of the Drawn Line But it still doesnot throws an ERROR and draws the line in the way shown above"
   ]
  },
  {
   "cell_type": "markdown",
   "id": "595cee9d",
   "metadata": {},
   "source": [
    "## --------------------------------------------------------------------------------------------------------------------------------"
   ]
  },
  {
   "cell_type": "markdown",
   "id": "15dba9a3",
   "metadata": {},
   "source": [
    "## 2)Drawing Rectangle on Image:-\n",
    "\n",
    "### To Draw a Rectangle on a Image we use `cv2.rectangle()` Method\n",
    "\n",
    "#### cv2.rectangle():-[LINK](https://docs.opencv.org/4.x/d6/d6e/group__imgproc__draw.html#ga07d2f74cadcf8e305e810ce8eed13bc9)"
   ]
  },
  {
   "cell_type": "code",
   "execution_count": 16,
   "id": "5592f6d5",
   "metadata": {},
   "outputs": [],
   "source": [
    "imgcp = img.copy()\n",
    "cv2.rectangle(imgcp,(50,50),(200,200),(0,255,0),1)\n",
    "cv2.imshow(\"Original Image\",img)\n",
    "cv2.imshow(\"Drawn Image\",imgcp)\n",
    "cv2.waitKey(0)\n",
    "cv2.destroyAllWindows()"
   ]
  },
  {
   "cell_type": "markdown",
   "id": "6fd51350",
   "metadata": {},
   "source": [
    "### In the Above Cells we can see we are drawing a rectangle whose Upper-Left Corner is at (50,50) and Bottom-Right Corner is at (200,200)\n",
    "\n",
    "### ::)< First Argument > Takes the NUMPY Array of the Image at which we want to Draw the Rectangle\n",
    "### ::)< Second Argument > Takes the Upper-Left Corner Coordinate of the drawn Rectangle.\n",
    "### ::)< Third Argument > Takes the Bottom Right Corner Coordinate of the drawn Rectangle.\n",
    "### ::)< Fourth Argument > Takes the Color of the Rectangle we want to draw.\n",
    "### ::)< Fifth Argument > Takes the Thickness of the Rectangle we want to draw.\n",
    "\n",
    "\n",
    "## **NOTE:-The coordinates for the Second and Third Argument should be in `(x,y)` form."
   ]
  },
  {
   "cell_type": "code",
   "execution_count": 17,
   "id": "7e98b4bb",
   "metadata": {},
   "outputs": [],
   "source": [
    "imgcp = img.copy()\n",
    "cv2.rectangle(imgcp,(50,50),(200,200),(255,0,0),3)\n",
    "cv2.imshow(\"Original Image\",img)\n",
    "cv2.imshow(\"Drawn Image\",imgcp)\n",
    "cv2.waitKey(0)\n",
    "cv2.destroyAllWindows()"
   ]
  },
  {
   "cell_type": "code",
   "execution_count": 18,
   "id": "e1a826d4",
   "metadata": {},
   "outputs": [],
   "source": [
    "imgcp = img.copy()\n",
    "cv2.rectangle(imgcp,(50,50),(1100,2200),(255,255,255),2)\n",
    "cv2.imshow(\"Original Image\",img)\n",
    "cv2.imshow(\"Drawn Image\",imgcp)\n",
    "cv2.waitKey(0)\n",
    "cv2.destroyAllWindows()"
   ]
  },
  {
   "cell_type": "markdown",
   "id": "da79ffc7",
   "metadata": {},
   "source": [
    "### We can play with the Different Colors,Thickness  for the Drawing Rectangle as seen in the Above Cells.\n",
    "\n",
    "### As we can see in the above cell we have provided an EXTERIOR Point for the Bottom-Right Corner of the Drawn Rectangle But it still doesnot throws an ERROR and draws the Incomplete Rectangle in the way shown above"
   ]
  },
  {
   "cell_type": "code",
   "execution_count": 19,
   "id": "2195b99e",
   "metadata": {},
   "outputs": [],
   "source": [
    "imgcp = img.copy()\n",
    "cv2.rectangle(imgcp,(50,50),(200,200),(255,0,0),-1)\n",
    "cv2.imshow(\"Original Image\",img)\n",
    "cv2.imshow(\"Drawn Image\",imgcp)\n",
    "cv2.waitKey(0)\n",
    "cv2.destroyAllWindows()"
   ]
  },
  {
   "cell_type": "markdown",
   "id": "4bbb1ac2",
   "metadata": {},
   "source": [
    "### Now we can see that if we provide -1 Thickness for the Drawing Rectangle then it will draw the Specified Filled Color Rectangle shown in above Cell"
   ]
  },
  {
   "cell_type": "markdown",
   "id": "9bd828bb",
   "metadata": {},
   "source": [
    "## ------------------------------------------------------------------------------------------------------------------------------"
   ]
  },
  {
   "cell_type": "markdown",
   "id": "d8e77c48",
   "metadata": {},
   "source": [
    "## 3)Drawing Circle on Image:-\n",
    "\n",
    "### To Draw a Circle on an Image we use `cv2.circle()` Method\n",
    "\n",
    "#### cv2.circle():-[LINK](https://docs.opencv.org/4.x/d6/d6e/group__imgproc__draw.html#gaf10604b069374903dbd0f0488cb43670)"
   ]
  },
  {
   "cell_type": "code",
   "execution_count": 22,
   "id": "3a4eb360",
   "metadata": {},
   "outputs": [],
   "source": [
    "imgcp = img.copy()\n",
    "cv2.circle(imgcp,(200,200),50,(255,0,0),2)\n",
    "cv2.imshow(\"Original Image\",img)\n",
    "cv2.imshow(\"Drawn Image\",imgcp)\n",
    "cv2.waitKey(0)\n",
    "cv2.destroyAllWindows()"
   ]
  },
  {
   "cell_type": "markdown",
   "id": "df231ca3",
   "metadata": {},
   "source": [
    "### In the Above Cells we can see we are drawing a Circle whose Center is at (50,50) and of Radius of 50\n",
    "\n",
    "### ::)< First Argument > Takes the NUMPY Array of the Image at which we want to Draw the Rectangle\n",
    "### ::)< Second Argument > Takes the Circle Coordinate of the drawn Circle.\n",
    "### ::)< Third Argument > Takes the Radius of the drawn Circle.\n",
    "### ::)< Fourth Argument > Takes the Color of the Circle we want to draw.\n",
    "### ::)< Fifth Argument > Takes the Thickness of the Circle we want to draw.\n",
    "\n",
    "\n",
    "## **NOTE:-The coordinates for the Circle's Center should be in `(x,y)` form."
   ]
  },
  {
   "cell_type": "code",
   "execution_count": 23,
   "id": "85b74605",
   "metadata": {},
   "outputs": [],
   "source": [
    "imgcp = img.copy()\n",
    "cv2.circle(imgcp,(200,200),50,(0,255,0),7)\n",
    "cv2.imshow(\"Original Image\",img)\n",
    "cv2.imshow(\"Drawn Image\",imgcp)\n",
    "cv2.waitKey(0)\n",
    "cv2.destroyAllWindows()"
   ]
  },
  {
   "cell_type": "code",
   "execution_count": 25,
   "id": "9fcefe00",
   "metadata": {},
   "outputs": [],
   "source": [
    "imgcp = img.copy()\n",
    "cv2.circle(imgcp,(20,20),100,(255,255,255),2)\n",
    "cv2.imshow(\"Original Image\",img)\n",
    "cv2.imshow(\"Drawn Image\",imgcp)\n",
    "cv2.waitKey(0)\n",
    "cv2.destroyAllWindows()"
   ]
  },
  {
   "cell_type": "markdown",
   "id": "64a7b73c",
   "metadata": {},
   "source": [
    "### We can play with the Different Colors,Radius,Thickness for the Drawing Circle as seen in the Above Cells.\n",
    "\n",
    "### As we can see in the above cell we have provided an EXTERIOR Radius for the Drawn Cirlce But it still doesnot throws an ERROR and draws the Incomplete Circle in the way shown above."
   ]
  },
  {
   "cell_type": "code",
   "execution_count": 26,
   "id": "4628cfc6",
   "metadata": {},
   "outputs": [],
   "source": [
    "imgcp = img.copy()\n",
    "cv2.circle(imgcp,(200,200),50,(0,255,0),-1)\n",
    "cv2.imshow(\"Original Image\",img)\n",
    "cv2.imshow(\"Drawn Image\",imgcp)\n",
    "cv2.waitKey(0)\n",
    "cv2.destroyAllWindows()"
   ]
  },
  {
   "cell_type": "markdown",
   "id": "402b2e0c",
   "metadata": {},
   "source": [
    "### Now we can see that if we provide -1 Thickness for the Drawing Circle then it will draw the Specified Filled Color Circle shown in above Cell"
   ]
  },
  {
   "cell_type": "markdown",
   "id": "84e12cfc",
   "metadata": {},
   "source": [
    "## ----------------------------------------------------------------------------------------------------------------------------"
   ]
  },
  {
   "cell_type": "markdown",
   "id": "e66903f9",
   "metadata": {},
   "source": [
    "## 4)Drawing Arrowed Lines on Image:-\n",
    "\n",
    "### To draw an Arrowed Line on an Image we use `cv2.arrowedLine()` Method\n",
    "\n",
    "#### cv2.arrowedLine():-[LINK](https://docs.opencv.org/4.x/d6/d6e/group__imgproc__draw.html#ga0a165a3ca093fd488ac709fdf10c05b2)"
   ]
  },
  {
   "cell_type": "code",
   "execution_count": 28,
   "id": "63dd6604",
   "metadata": {},
   "outputs": [],
   "source": [
    "imgcp = img.copy()\n",
    "h,w,_ = imgcp.shape\n",
    "cv2.arrowedLine(imgcp,(0,40),(w//2,h//2),(0,0,255),3)\n",
    "cv2.imshow(\"Original Image\",img)\n",
    "cv2.imshow(\"Drawing Image\",imgcp)\n",
    "cv2.waitKey(0)\n",
    "cv2.destroyAllWindows()"
   ]
  },
  {
   "cell_type": "markdown",
   "id": "e0c93f23",
   "metadata": {},
   "source": [
    "### In the Above Cells we can see we are drawing a ArrowedLine which starts at (0,40) and Ends with ArrowHead  pointed at the center of the Image.\n",
    "\n",
    "### ::)< First Argument > Takes the NUMPY Array of the Image at which we want to Draw the Rectangle\n",
    "### ::)< Second Argument > Takes the Starting Coordinates of the ArrowedLine to be Drawn.\n",
    "### ::)< Third Argument > Takes the Ending ArrowHead Coordinates of the ArrowedLine to be Drawn.\n",
    "### ::)< Fourth Argument > Takes the Color of the Arrowed Line we want to draw.\n",
    "### ::)< Fifth Argument > Takes the Thickness of the Arrowed Line we want to draw.\n",
    "### ::)< tipLength > The length of the arrow tip in relation to the arrow length\n",
    "\n",
    "\n",
    "## **NOTE:-The coordinates for the First,Second Argument should be in `(x,y)` form."
   ]
  },
  {
   "cell_type": "markdown",
   "id": "f016fcea",
   "metadata": {},
   "source": [
    "### We can play with the Different Colors,Thickness,Coordinates for the Drawing Circle as seen in the Above Cells.\n",
    "\n",
    "### Same as above Drawing Techniques If we provided an EXTERIOR Coordinates for the Drawn ArrowedLine it will not throw an ERROR and draws the Incomplete Arrowed Line."
   ]
  },
  {
   "cell_type": "code",
   "execution_count": 38,
   "id": "c84988cc",
   "metadata": {},
   "outputs": [],
   "source": [
    "imgcp = img.copy()\n",
    "cv2.arrowedLine(imgcp,(40,0),(400,400),(0,255,0),3,tipLength=0.3)\n",
    "cv2.imshow(\"Original Image\",img)\n",
    "cv2.imshow(\"Drawing Image\",imgcp)\n",
    "cv2.waitKey(0)\n",
    "cv2.destroyAllWindows()"
   ]
  },
  {
   "cell_type": "code",
   "execution_count": 39,
   "id": "c8a0f606",
   "metadata": {},
   "outputs": [],
   "source": [
    "imgcp = img.copy()\n",
    "cv2.arrowedLine(imgcp,(40,0),(400,400),(0,255,0),5,tipLength=1)\n",
    "cv2.imshow(\"Original Image\",img)\n",
    "cv2.imshow(\"Drawing Image\",imgcp)\n",
    "cv2.waitKey(0)\n",
    "cv2.destroyAllWindows()"
   ]
  },
  {
   "cell_type": "code",
   "execution_count": 42,
   "id": "a8b71496",
   "metadata": {},
   "outputs": [],
   "source": [
    "imgcp = img.copy()\n",
    "cv2.arrowedLine(imgcp,(40,0),(300,300),(0,255,0),5,tipLength=-0.1)\n",
    "cv2.imshow(\"Original Image\",img)\n",
    "cv2.imshow(\"Drawing Image\",imgcp)\n",
    "cv2.waitKey(0)\n",
    "cv2.destroyAllWindows()"
   ]
  },
  {
   "cell_type": "markdown",
   "id": "8738993b",
   "metadata": {},
   "source": [
    "### -->In the Above Cells we have played with Different Tip Length to change the ArroweHead of the Line.We can explain as :-\n",
    "\n",
    "### -->As we increase value from 0.1 to 1 the size of the Arrow head Increases which is relative to Line Length.\n",
    "### -->(-)sign of Tip Length rotates the arrowhead opposite side."
   ]
  },
  {
   "cell_type": "markdown",
   "id": "370d01fd",
   "metadata": {},
   "source": [
    "## ----------------------------------------------------------------------------------------------------------------------------------"
   ]
  },
  {
   "cell_type": "markdown",
   "id": "20c0c507",
   "metadata": {},
   "source": [
    "## 5)Drawing or Writing Text On Image\n",
    "\n",
    "### To Wrtie a Text on a Image we use `cv2.putText()` Method.\n",
    "\n",
    "#### cv2.putText():-[LINK](https://docs.opencv.org/4.x/d6/d6e/group__imgproc__draw.html#ga5126f47f883d730f633d74f07456c576)\n",
    "#### FontStyle Flags:-[LINK](https://docs.opencv.org/4.x/d6/d6e/group__imgproc__draw.html#ga0f9314ea6e35f99bb23f29567fc16e11)"
   ]
  },
  {
   "cell_type": "code",
   "execution_count": 6,
   "id": "1f82cb66",
   "metadata": {},
   "outputs": [],
   "source": [
    "imgcp = img.copy()\n",
    "cv2.putText(imgcp,\"GFT Great Gamer\",(50,h//2),cv2.FONT_HERSHEY_SCRIPT_COMPLEX,2,(0,0,0),3)\n",
    "cv2.imshow(\"Original Image\",img)\n",
    "cv2.imshow(\"Drawn Image\",imgcp)\n",
    "cv2.waitKey(0)\n",
    "cv2.destroyAllWindows()"
   ]
  },
  {
   "cell_type": "markdown",
   "id": "aeda8e2a",
   "metadata": {},
   "source": [
    "### As we can see we Wrote Text on the Center of the Height of the Image with some Font and its Scale and Thickness.\n",
    "\n",
    "### ::)< First Argument >:-Take the Numpy Array of Image on which we want to Write or Draw the Text.\n",
    "### ::)< Second Argument >:-Take the String or Text which we want to write on the Image.\n",
    "### ::)< Third Argument >:-Takes the Point Co-ordinate at which we want to write the Text.\n",
    "### ::)< Fourth Arghument >:-Take the Font Style Flag we want to use for the Text(to be written).\n",
    "### ::)< Fifth Argument >:-Font scale factor that is multiplied by the font-specific base size.(It increases the size of the Text to be Written).\n",
    "### ::)< Sixth Argument >:-Takes the Color of the Text to be written.\n",
    "### ::)< Seventh Argument >:-Takes the Thickness of the Text to be written.\n",
    "\n",
    "## **NOTE:-The coordinates for the First,Second Argument should be in `(x,y)` form."
   ]
  },
  {
   "cell_type": "code",
   "execution_count": 18,
   "id": "822db770",
   "metadata": {},
   "outputs": [],
   "source": [
    "imgcp = img.copy()\n",
    "cv2.putText(imgcp,\"GFT\",(50,h//2),cv2.FONT_HERSHEY_SCRIPT_COMPLEX,5,(0,0,0),1)\n",
    "cv2.imshow(\"Original Image\",img)\n",
    "cv2.imshow(\"Drawn Image\",imgcp)\n",
    "cv2.waitKey(0)\n",
    "cv2.destroyAllWindows()"
   ]
  },
  {
   "cell_type": "markdown",
   "id": "84a6e096",
   "metadata": {},
   "source": [
    "### In the Above Cell we can see that Font Scale > Thickness ,and whenever this happens Inner Part of each Characters becomes Hollow.\n",
    "\n",
    "### Hence we can play with Different Variations of Font Scale and Font Style and Thickness to obtain Different types of Results."
   ]
  },
  {
   "cell_type": "markdown",
   "id": "1854edba",
   "metadata": {},
   "source": [
    "## ------------------------------------------------------------------------------------------------------------------------------"
   ]
  }
 ],
 "metadata": {
  "kernelspec": {
   "display_name": "Python 3 (ipykernel)",
   "language": "python",
   "name": "python3"
  },
  "language_info": {
   "codemirror_mode": {
    "name": "ipython",
    "version": 3
   },
   "file_extension": ".py",
   "mimetype": "text/x-python",
   "name": "python",
   "nbconvert_exporter": "python",
   "pygments_lexer": "ipython3",
   "version": "3.11.5"
  }
 },
 "nbformat": 4,
 "nbformat_minor": 5
}
