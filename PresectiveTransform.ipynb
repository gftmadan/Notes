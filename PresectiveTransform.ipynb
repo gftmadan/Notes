{
 "cells": [
  {
   "cell_type": "code",
   "execution_count": 1,
   "id": "1d259874-9657-4217-8c79-75709b3f856f",
   "metadata": {},
   "outputs": [],
   "source": [
    "import cv2\n",
    "import numpy as np\n",
    "from scipy.spatial import distance as dist"
   ]
  },
  {
   "cell_type": "code",
   "execution_count": 2,
   "id": "54efe6f5-4075-481b-95d1-87e565a2e75b",
   "metadata": {},
   "outputs": [],
   "source": [
    "hello1 = cv2.imread(r\"E:\\PyImage_ComputerVision\\OpenCVBasic\\WorkingData\\InputData\\Hello1.png\")\n",
    "hello2 = cv2.imread(r\"E:\\PyImage_ComputerVision\\OpenCVBasic\\WorkingData\\InputData\\Hello2.png\")\n",
    "hello3 = cv2.imread(r\"E:\\PyImage_ComputerVision\\OpenCVBasic\\WorkingData\\InputData\\Hello3.png\")"
   ]
  },
  {
   "cell_type": "code",
   "execution_count": 3,
   "id": "e11126c2-b2c7-4df9-a5c1-0eb62b93d523",
   "metadata": {},
   "outputs": [
    {
     "data": {
      "text/plain": [
       "(561, 500, 3)"
      ]
     },
     "execution_count": 3,
     "metadata": {},
     "output_type": "execute_result"
    }
   ],
   "source": [
    "hello1.shape"
   ]
  },
  {
   "cell_type": "code",
   "execution_count": 4,
   "id": "4456a810-43c4-4030-9b0e-f19fcafec757",
   "metadata": {},
   "outputs": [
    {
     "data": {
      "text/plain": [
       "(549, 500, 3)"
      ]
     },
     "execution_count": 4,
     "metadata": {},
     "output_type": "execute_result"
    }
   ],
   "source": [
    "hello2.shape"
   ]
  },
  {
   "cell_type": "code",
   "execution_count": 5,
   "id": "988bffbc-6e5f-4622-9e83-04f89ed92ca9",
   "metadata": {},
   "outputs": [
    {
     "data": {
      "text/plain": [
       "(458, 500, 3)"
      ]
     },
     "execution_count": 5,
     "metadata": {},
     "output_type": "execute_result"
    }
   ],
   "source": [
    "hello3.shape"
   ]
  },
  {
   "cell_type": "code",
   "execution_count": 6,
   "id": "3f220331-2e70-4b1c-abf7-01a88ef19362",
   "metadata": {},
   "outputs": [],
   "source": [
    "cv2.imshow(\"Hello1\",hello1)\n",
    "cv2.waitKey(0)\n",
    "cv2.destroyAllWindows()"
   ]
  },
  {
   "cell_type": "code",
   "execution_count": 7,
   "id": "2ca9d609-912c-46f6-bfd9-b1b6b9a959b4",
   "metadata": {},
   "outputs": [],
   "source": [
    "points = [(73, 239), (356, 117), (475, 265), (187, 443)]"
   ]
  },
  {
   "cell_type": "code",
   "execution_count": 8,
   "id": "94b710f8-3773-4103-a363-00093f266404",
   "metadata": {},
   "outputs": [],
   "source": [
    "out = hello1.copy()\n",
    "for pts in points:\n",
    "    cv2.circle(out,pts,2,(255,0,0),-1)\n",
    "\n",
    "cv2.imshow(\"Out\",out)\n",
    "cv2.waitKey(0)\n",
    "cv2.destroyAllWindows()"
   ]
  },
  {
   "cell_type": "code",
   "execution_count": 9,
   "id": "b8d85821-9544-4493-abdc-6d9a6e8cb2c5",
   "metadata": {},
   "outputs": [],
   "source": [
    "rect = [1,2,3,4]"
   ]
  },
  {
   "cell_type": "code",
   "execution_count": 14,
   "id": "a92e6c2a-7eb7-4460-99ae-e3ecb07159a9",
   "metadata": {},
   "outputs": [
    {
     "ename": "TypeError",
     "evalue": "tuple indices must be integers or slices, not tuple",
     "output_type": "error",
     "traceback": [
      "\u001b[1;31m---------------------------------------------------------------------------\u001b[0m",
      "\u001b[1;31mTypeError\u001b[0m                                 Traceback (most recent call last)",
      "Cell \u001b[1;32mIn[14], line 1\u001b[0m\n\u001b[1;32m----> 1\u001b[0m np\u001b[38;5;241m.\u001b[39margsort(pts[:, \u001b[38;5;241m0\u001b[39m])\n",
      "\u001b[1;31mTypeError\u001b[0m: tuple indices must be integers or slices, not tuple"
     ]
    }
   ],
   "source": [
    "np.argsort(pts[:, 0])"
   ]
  },
  {
   "cell_type": "code",
   "execution_count": 65,
   "id": "062bef1e-6998-405a-8c05-c0a141aff47d",
   "metadata": {},
   "outputs": [],
   "source": [
    "pts = np.array(points)"
   ]
  },
  {
   "cell_type": "code",
   "execution_count": 16,
   "id": "4d9131d7-63b5-43d9-a72f-197107551116",
   "metadata": {},
   "outputs": [
    {
     "data": {
      "text/plain": [
       "array([[ 73, 239],\n",
       "       [356, 117],\n",
       "       [475, 265],\n",
       "       [187, 443]])"
      ]
     },
     "execution_count": 16,
     "metadata": {},
     "output_type": "execute_result"
    }
   ],
   "source": [
    "pts"
   ]
  },
  {
   "cell_type": "code",
   "execution_count": 17,
   "id": "9b6cb951-f26b-49e2-924f-307488a18435",
   "metadata": {},
   "outputs": [
    {
     "data": {
      "text/plain": [
       "array([ 73, 356, 475, 187])"
      ]
     },
     "execution_count": 17,
     "metadata": {},
     "output_type": "execute_result"
    }
   ],
   "source": [
    "pts[:,0]"
   ]
  },
  {
   "cell_type": "code",
   "execution_count": 18,
   "id": "7a3802a7-82c9-4af3-a55d-4670948acdd2",
   "metadata": {},
   "outputs": [
    {
     "data": {
      "text/plain": [
       "array([0, 3, 1, 2], dtype=int64)"
      ]
     },
     "execution_count": 18,
     "metadata": {},
     "output_type": "execute_result"
    }
   ],
   "source": [
    "np.argsort(pts[:,0])"
   ]
  },
  {
   "cell_type": "code",
   "execution_count": 19,
   "id": "1f734120-7652-462e-8f68-8d2d1e6d599d",
   "metadata": {},
   "outputs": [],
   "source": [
    "fg = pts[np.argsort(pts[:,0])]"
   ]
  },
  {
   "cell_type": "code",
   "execution_count": 20,
   "id": "fe917601-81f3-4c1e-bb4b-0470ddc975e6",
   "metadata": {},
   "outputs": [
    {
     "data": {
      "text/plain": [
       "array([[ 73, 239],\n",
       "       [187, 443],\n",
       "       [356, 117],\n",
       "       [475, 265]])"
      ]
     },
     "execution_count": 20,
     "metadata": {},
     "output_type": "execute_result"
    }
   ],
   "source": [
    "fg"
   ]
  },
  {
   "cell_type": "code",
   "execution_count": 21,
   "id": "ad112ca5-8c5f-427c-bd76-c8f75d27bdb6",
   "metadata": {},
   "outputs": [],
   "source": [
    "left = fg[:2]\n",
    "right = fg[2:]"
   ]
  },
  {
   "cell_type": "code",
   "execution_count": 22,
   "id": "3190ab4b-1c90-4ec5-a3ac-3808864d0648",
   "metadata": {},
   "outputs": [
    {
     "data": {
      "text/plain": [
       "array([[ 73, 239],\n",
       "       [187, 443]])"
      ]
     },
     "execution_count": 22,
     "metadata": {},
     "output_type": "execute_result"
    }
   ],
   "source": [
    "left"
   ]
  },
  {
   "cell_type": "code",
   "execution_count": 23,
   "id": "9c670be5-9f7f-4287-8fe4-3f59f0dad461",
   "metadata": {},
   "outputs": [
    {
     "data": {
      "text/plain": [
       "array([[356, 117],\n",
       "       [475, 265]])"
      ]
     },
     "execution_count": 23,
     "metadata": {},
     "output_type": "execute_result"
    }
   ],
   "source": [
    "right"
   ]
  },
  {
   "cell_type": "code",
   "execution_count": 24,
   "id": "fd78263a-6a22-4980-8a72-67a335e7e98f",
   "metadata": {},
   "outputs": [],
   "source": [
    "left = left[np.argsort(left[:,1])]"
   ]
  },
  {
   "cell_type": "code",
   "execution_count": 25,
   "id": "8855fc52-9dce-4cd1-92fa-af441f531e6b",
   "metadata": {},
   "outputs": [
    {
     "data": {
      "text/plain": [
       "array([[ 73, 239],\n",
       "       [187, 443]])"
      ]
     },
     "execution_count": 25,
     "metadata": {},
     "output_type": "execute_result"
    }
   ],
   "source": [
    "left"
   ]
  },
  {
   "cell_type": "code",
   "execution_count": 26,
   "id": "6ec35b55-17b8-4559-8327-95755046fea5",
   "metadata": {},
   "outputs": [],
   "source": [
    "tl = left[0]\n",
    "bl = left[1]"
   ]
  },
  {
   "cell_type": "code",
   "execution_count": 27,
   "id": "78729273-0925-41de-b067-2cab55c78530",
   "metadata": {},
   "outputs": [
    {
     "data": {
      "text/plain": [
       "array([ 73, 239])"
      ]
     },
     "execution_count": 27,
     "metadata": {},
     "output_type": "execute_result"
    }
   ],
   "source": [
    "tl"
   ]
  },
  {
   "cell_type": "code",
   "execution_count": 28,
   "id": "cd866e1c-a427-4e6c-b795-d004a82e5ab2",
   "metadata": {},
   "outputs": [],
   "source": [
    "D = dist.cdist(tl[np.newaxis], right, \"euclidean\")[0]"
   ]
  },
  {
   "cell_type": "code",
   "execution_count": 29,
   "id": "9dc52851-1388-450e-804f-c418da03f61b",
   "metadata": {},
   "outputs": [
    {
     "data": {
      "text/plain": [
       "array([308.17689725, 402.83991858])"
      ]
     },
     "execution_count": 29,
     "metadata": {},
     "output_type": "execute_result"
    }
   ],
   "source": [
    "D"
   ]
  },
  {
   "cell_type": "code",
   "execution_count": 30,
   "id": "8427fec5-3d65-4fbe-b044-03feb7ce1555",
   "metadata": {},
   "outputs": [],
   "source": [
    "tr,br = right[np.argsort(D)]"
   ]
  },
  {
   "cell_type": "code",
   "execution_count": 31,
   "id": "6ca18bcf-ca4f-43d6-b3f7-c234bdc574f7",
   "metadata": {},
   "outputs": [
    {
     "data": {
      "text/plain": [
       "array([356, 117])"
      ]
     },
     "execution_count": 31,
     "metadata": {},
     "output_type": "execute_result"
    }
   ],
   "source": [
    "tr"
   ]
  },
  {
   "cell_type": "code",
   "execution_count": 32,
   "id": "bf7c16a9-550e-45bf-8fa9-1d044cdebaed",
   "metadata": {},
   "outputs": [
    {
     "data": {
      "text/plain": [
       "array([475, 265])"
      ]
     },
     "execution_count": 32,
     "metadata": {},
     "output_type": "execute_result"
    }
   ],
   "source": [
    "br"
   ]
  },
  {
   "cell_type": "code",
   "execution_count": null,
   "id": "e88c3898-e8e4-4104-a659-f6b2f5df1046",
   "metadata": {},
   "outputs": [],
   "source": []
  },
  {
   "cell_type": "code",
   "execution_count": null,
   "id": "5de3495c-7673-44d0-b49e-5d8d79c8c90c",
   "metadata": {},
   "outputs": [],
   "source": []
  },
  {
   "cell_type": "code",
   "execution_count": 33,
   "id": "3b634e34-565c-4aba-a269-692c2da4af5f",
   "metadata": {},
   "outputs": [],
   "source": [
    "def order_points(pts):\n",
    "    # sort the points based on their x-coordinates\n",
    "    xSorted = pts[np.argsort(pts[:, 0]), :]\n",
    "\n",
    "    # grab the left-most and right-most points from the sorted\n",
    "    # x-roodinate points\n",
    "    leftMost = xSorted[:2, :]\n",
    "    rightMost = xSorted[2:, :]\n",
    "\n",
    "    # now, sort the left-most coordinates according to their\n",
    "    # y-coordinates so we can grab the top-left and bottom-left\n",
    "    # points, respectively\n",
    "    leftMost = leftMost[np.argsort(leftMost[:, 1]), :]\n",
    "    (tl, bl) = leftMost\n",
    "\n",
    "    # now that we have the top-left coordinate, use it as an\n",
    "    # anchor to calculate the Euclidean distance between the\n",
    "    # top-left and right-most points; by the Pythagorean\n",
    "    # theorem, the point with the largest distance will be\n",
    "    # our bottom-right point\n",
    "    D = dist.cdist(tl[np.newaxis], rightMost, \"euclidean\")[0]\n",
    "    (br, tr) = rightMost[np.argsort(D)[::-1], :]\n",
    "\n",
    "    # return the coordinates in top-left, top-right,\n",
    "    # bottom-right, and bottom-left order\n",
    "    return np.array([tl, tr, br, bl], dtype=\"int32\")"
   ]
  },
  {
   "cell_type": "code",
   "execution_count": 34,
   "id": "66842c56-d220-4e07-871f-5531ccbe0502",
   "metadata": {},
   "outputs": [
    {
     "data": {
      "text/plain": [
       "[1, 2, 3, 4]"
      ]
     },
     "execution_count": 34,
     "metadata": {},
     "output_type": "execute_result"
    }
   ],
   "source": [
    "rect"
   ]
  },
  {
   "cell_type": "code",
   "execution_count": 35,
   "id": "2ae6c980-9773-40bc-afef-ddf461e2c9a0",
   "metadata": {},
   "outputs": [
    {
     "data": {
      "text/plain": [
       "array([[ 73, 239],\n",
       "       [356, 117],\n",
       "       [475, 265],\n",
       "       [187, 443]])"
      ]
     },
     "execution_count": 35,
     "metadata": {},
     "output_type": "execute_result"
    }
   ],
   "source": [
    "pts"
   ]
  },
  {
   "cell_type": "code",
   "execution_count": 36,
   "id": "c50f038e-c44c-496e-bd56-ebedfd05156f",
   "metadata": {},
   "outputs": [],
   "source": [
    "ord = order_points(pts)"
   ]
  },
  {
   "cell_type": "code",
   "execution_count": 37,
   "id": "29415720-38ea-481b-b67e-93033ea678b9",
   "metadata": {},
   "outputs": [
    {
     "data": {
      "text/plain": [
       "array([[ 73, 239],\n",
       "       [356, 117],\n",
       "       [475, 265],\n",
       "       [187, 443]])"
      ]
     },
     "execution_count": 37,
     "metadata": {},
     "output_type": "execute_result"
    }
   ],
   "source": [
    "ord"
   ]
  },
  {
   "cell_type": "code",
   "execution_count": 38,
   "id": "d8904472-6109-4f23-9fcd-3497710c1bc4",
   "metadata": {},
   "outputs": [
    {
     "data": {
      "text/plain": [
       "(array([ 73, 239]), array([356, 117]), array([475, 265]), array([187, 443]))"
      ]
     },
     "execution_count": 38,
     "metadata": {},
     "output_type": "execute_result"
    }
   ],
   "source": [
    "tl, tr, br, bl"
   ]
  },
  {
   "cell_type": "code",
   "execution_count": 39,
   "id": "f50f1358-68be-47a0-b436-ca214dd7c004",
   "metadata": {},
   "outputs": [],
   "source": [
    "out = hello1.copy()\n",
    "for pts in ord:\n",
    "    cv2.circle(out,pts,2,(255,0,0),-1)\n",
    "    cv2.imshow(\"OUT\",out)\n",
    "    cv2.waitKey(0)\n",
    "    cv2.destroyAllWindows()"
   ]
  },
  {
   "cell_type": "code",
   "execution_count": 89,
   "id": "f3fe70d6-ee90-4a81-bee6-ccdb8fe24e5a",
   "metadata": {},
   "outputs": [],
   "source": [
    "def mouse_callback(event,x,y,flags,params):\n",
    "    if event == cv2.EVENT_LBUTTONDOWN:\n",
    "        print(f\"({x},{y})\")"
   ]
  },
  {
   "cell_type": "code",
   "execution_count": 92,
   "id": "106abe8d-7e21-48f2-8e0a-8c0e7bab4f13",
   "metadata": {},
   "outputs": [
    {
     "name": "stdout",
     "output_type": "stream",
     "text": [
      "(64,71)\n",
      "(273,62)\n",
      "(10,342)\n",
      "(344,329)\n"
     ]
    }
   ],
   "source": [
    "cv2.imshow(\"out\",image)\n",
    "cv2.setMouseCallback(\"out\",mouse_callback)\n",
    "cv2.waitKey(0)\n",
    "cv2.destroyAllWindows()"
   ]
  },
  {
   "cell_type": "code",
   "execution_count": 42,
   "id": "eea2c108-6233-40cd-9a19-29a395478305",
   "metadata": {},
   "outputs": [],
   "source": [
    "pts1 = np.array([(72,238),(355,115),(123,233),(115,315)])"
   ]
  },
  {
   "cell_type": "code",
   "execution_count": 43,
   "id": "d67a2562-82ba-41e5-a579-c9938577225a",
   "metadata": {},
   "outputs": [],
   "source": [
    "ord1 = order_points(pts1)"
   ]
  },
  {
   "cell_type": "code",
   "execution_count": 48,
   "id": "02ca5aaf-db5a-43aa-b1d0-7c37d9072cd6",
   "metadata": {},
   "outputs": [],
   "source": [
    "out = hello1.copy()\n",
    "for pts in ord1:\n",
    "    cv2.circle(out,pts,2,(255,0,0),-1)\n",
    "    cv2.imshow(\"OUT\",out)\n",
    "    cv2.waitKey(0)\n",
    "    cv2.destroyAllWindows()"
   ]
  },
  {
   "cell_type": "code",
   "execution_count": 49,
   "id": "e65678cb-d7c7-4955-bd6a-9a165ad71c8a",
   "metadata": {},
   "outputs": [
    {
     "data": {
      "text/plain": [
       "array([0, 3, 2, 1], dtype=int64)"
      ]
     },
     "execution_count": 49,
     "metadata": {},
     "output_type": "execute_result"
    }
   ],
   "source": [
    "np.argsort(pts1[:,0])"
   ]
  },
  {
   "cell_type": "code",
   "execution_count": 50,
   "id": "39b466a3-9a10-4a76-900c-48620bd9780b",
   "metadata": {},
   "outputs": [
    {
     "data": {
      "text/plain": [
       "(array([ 73, 239]), array([356, 117]), array([475, 265]), array([187, 443]))"
      ]
     },
     "execution_count": 50,
     "metadata": {},
     "output_type": "execute_result"
    }
   ],
   "source": [
    "tl, tr, br, bl"
   ]
  },
  {
   "cell_type": "code",
   "execution_count": 51,
   "id": "6e4e492d-0208-47ef-98c5-bcbcdd27e0a1",
   "metadata": {},
   "outputs": [
    {
     "data": {
      "text/plain": [
       "array([[ 73, 239],\n",
       "       [356, 117],\n",
       "       [475, 265],\n",
       "       [187, 443]])"
      ]
     },
     "execution_count": 51,
     "metadata": {},
     "output_type": "execute_result"
    }
   ],
   "source": [
    "ord"
   ]
  },
  {
   "cell_type": "code",
   "execution_count": 52,
   "id": "cbf23543-22e1-4780-abad-e0c24d4809b5",
   "metadata": {},
   "outputs": [],
   "source": [
    "w1 = np.sqrt(((ord[0][0] - ord[1][0])**2) + ((ord[0][1] - ord[1][1])**2))\n",
    "w2 = np.sqrt(((ord[2][0] - ord[3][0])**2) + ((ord[2][1] - ord[3][1])**2))"
   ]
  },
  {
   "cell_type": "code",
   "execution_count": 53,
   "id": "04ab8b56-dcc6-4b30-b832-c1e3631204d3",
   "metadata": {},
   "outputs": [
    {
     "data": {
      "text/plain": [
       "308.1768972522113"
      ]
     },
     "execution_count": 53,
     "metadata": {},
     "output_type": "execute_result"
    }
   ],
   "source": [
    "w1"
   ]
  },
  {
   "cell_type": "code",
   "execution_count": 54,
   "id": "c10291e2-142b-490b-8e7c-77394bf50c3a",
   "metadata": {},
   "outputs": [
    {
     "data": {
      "text/plain": [
       "338.5675708038205"
      ]
     },
     "execution_count": 54,
     "metadata": {},
     "output_type": "execute_result"
    }
   ],
   "source": [
    "w2"
   ]
  },
  {
   "cell_type": "code",
   "execution_count": 55,
   "id": "0c9e441a-99cc-4e21-a718-c9582b808796",
   "metadata": {},
   "outputs": [],
   "source": [
    "mxw = max(int(w1),int(w2))"
   ]
  },
  {
   "cell_type": "code",
   "execution_count": 56,
   "id": "f7edcbb1-2088-4b5b-8fcf-34e78308e9ca",
   "metadata": {},
   "outputs": [
    {
     "data": {
      "text/plain": [
       "338"
      ]
     },
     "execution_count": 56,
     "metadata": {},
     "output_type": "execute_result"
    }
   ],
   "source": [
    "mxw"
   ]
  },
  {
   "cell_type": "code",
   "execution_count": 57,
   "id": "11f9865b-5221-41d6-92fd-90253af13c29",
   "metadata": {},
   "outputs": [
    {
     "data": {
      "text/plain": [
       "(array([ 73, 239]), array([356, 117]), array([475, 265]), array([187, 443]))"
      ]
     },
     "execution_count": 57,
     "metadata": {},
     "output_type": "execute_result"
    }
   ],
   "source": [
    "tl, tr, br, bl"
   ]
  },
  {
   "cell_type": "code",
   "execution_count": 58,
   "id": "c162bc89-df7c-4d59-9c98-e8d65223a227",
   "metadata": {},
   "outputs": [],
   "source": [
    "h1 = np.sqrt(((ord[1][0] - ord[2][0])**2) + ((ord[1][1] - ord[2][1])**2))\n",
    "h2 = np.sqrt(((ord[0][0] - ord[3][0])**2) + ((ord[0][1] - ord[3][1])**2))"
   ]
  },
  {
   "cell_type": "code",
   "execution_count": 59,
   "id": "de2a5f3c-2d47-4dd5-a58e-d0b015aaf21d",
   "metadata": {},
   "outputs": [
    {
     "data": {
      "text/plain": [
       "189.90787240133042"
      ]
     },
     "execution_count": 59,
     "metadata": {},
     "output_type": "execute_result"
    }
   ],
   "source": [
    "h1"
   ]
  },
  {
   "cell_type": "code",
   "execution_count": 60,
   "id": "9cc7dc2f-d60a-4d4e-a7e6-dabaf406fa04",
   "metadata": {},
   "outputs": [
    {
     "data": {
      "text/plain": [
       "233.69210512980536"
      ]
     },
     "execution_count": 60,
     "metadata": {},
     "output_type": "execute_result"
    }
   ],
   "source": [
    "h2"
   ]
  },
  {
   "cell_type": "code",
   "execution_count": 61,
   "id": "f95fd9b9-1796-4084-b755-36a22ab36d1d",
   "metadata": {},
   "outputs": [],
   "source": [
    "mxh = max(int(h1),int(h2))"
   ]
  },
  {
   "cell_type": "code",
   "execution_count": 62,
   "id": "ef0c85b8-e546-401f-9320-8293377fb680",
   "metadata": {},
   "outputs": [
    {
     "data": {
      "text/plain": [
       "233"
      ]
     },
     "execution_count": 62,
     "metadata": {},
     "output_type": "execute_result"
    }
   ],
   "source": [
    "mxh"
   ]
  },
  {
   "cell_type": "code",
   "execution_count": 63,
   "id": "8d661b6d-d56b-44a0-98fe-49600513ee79",
   "metadata": {},
   "outputs": [],
   "source": [
    "def four_point_transform(pts):\n",
    "    # obtain a consistent order of the points and unpack them\n",
    "    # individually\n",
    "    rect = order_points(pts)\n",
    "    (tl, tr, br, bl) = rect\n",
    "\n",
    "    # compute the width of the new image, which will be the\n",
    "    # maximum distance between bottom-right and bottom-left\n",
    "    # x-coordiates or the top-right and top-left x-coordinates\n",
    "    widthA = np.sqrt(((br[0] - bl[0]) ** 2) + ((br[1] - bl[1]) ** 2))\n",
    "    widthB = np.sqrt(((tr[0] - tl[0]) ** 2) + ((tr[1] - tl[1]) ** 2))\n",
    "    maxWidth = max(int(widthA), int(widthB))\n",
    "\n",
    "    # compute the height of the new image, which will be the\n",
    "    # maximum distance between the top-right and bottom-right\n",
    "    # y-coordinates or the top-left and bottom-left y-coordinates\n",
    "    heightA = np.sqrt(((tr[0] - br[0]) ** 2) + ((tr[1] - br[1]) ** 2))\n",
    "    heightB = np.sqrt(((tl[0] - bl[0]) ** 2) + ((tl[1] - bl[1]) ** 2))\n",
    "    maxHeight = max(int(heightA), int(heightB))\n",
    "\n",
    "    print(maxWidth,maxHeight)\n",
    "    # now that we have the dimensions of the new image, construct\n",
    "    # the set of destination points to obtain a \"birds eye view\",\n",
    "    # (i.e. top-down view) of the image, again specifying points\n",
    "    # in the top-left, top-right, bottom-right, and bottom-left\n",
    "    # order\n",
    "    dst = np.array([\n",
    "        [0, 0],\n",
    "        [maxWidth - 1, 0],\n",
    "        [maxWidth - 1, maxHeight - 1],\n",
    "        [0, maxHeight - 1]], dtype=\"float32\")\n",
    "\n",
    "    # compute the perspective transform matrix and then apply it\n",
    "    M = cv2.getPerspectiveTransform(rect, dst)\n",
    "    warped = cv2.warpPerspective(image, M, (maxWidth, maxHeight))\n",
    "\n",
    "    # return the warped image\n",
    "    return warped"
   ]
  },
  {
   "cell_type": "code",
   "execution_count": 66,
   "id": "f64eaea9-aac3-4c34-b386-5f1596109290",
   "metadata": {},
   "outputs": [
    {
     "name": "stdout",
     "output_type": "stream",
     "text": [
      "338 233\n"
     ]
    }
   ],
   "source": [
    "four_point_transform(pts)"
   ]
  },
  {
   "cell_type": "code",
   "execution_count": 67,
   "id": "b13d2677-3c96-4b88-b8ae-459f620abc5f",
   "metadata": {},
   "outputs": [
    {
     "data": {
      "text/plain": [
       "array([[ 73, 239],\n",
       "       [356, 117],\n",
       "       [475, 265],\n",
       "       [187, 443]])"
      ]
     },
     "execution_count": 67,
     "metadata": {},
     "output_type": "execute_result"
    }
   ],
   "source": [
    "pts"
   ]
  },
  {
   "cell_type": "code",
   "execution_count": null,
   "id": "5ac75774-1ec8-465b-9d1c-30af22ba9d14",
   "metadata": {},
   "outputs": [],
   "source": []
  },
  {
   "cell_type": "code",
   "execution_count": null,
   "id": "4ea22e64-ccf5-454e-9504-547e80396942",
   "metadata": {},
   "outputs": [],
   "source": []
  },
  {
   "cell_type": "code",
   "execution_count": 68,
   "id": "b04d78a2-e7c3-416c-a759-1c64d3947287",
   "metadata": {},
   "outputs": [],
   "source": [
    "ord = np.array(ord,dtype=np.float32)"
   ]
  },
  {
   "cell_type": "code",
   "execution_count": 69,
   "id": "04d7cb7e-b807-40f2-8c0b-dd66ebd267c3",
   "metadata": {},
   "outputs": [
    {
     "data": {
      "text/plain": [
       "array([[ 73., 239.],\n",
       "       [356., 117.],\n",
       "       [475., 265.],\n",
       "       [187., 443.]], dtype=float32)"
      ]
     },
     "execution_count": 69,
     "metadata": {},
     "output_type": "execute_result"
    }
   ],
   "source": [
    "ord"
   ]
  },
  {
   "cell_type": "code",
   "execution_count": 70,
   "id": "f66dc373-bdaf-490b-a4e7-0e42955bb113",
   "metadata": {},
   "outputs": [],
   "source": [
    "dst = np.array([[0,0],\n",
    "       [mxw-1,0],\n",
    "       [mxw-1,mxh-1],\n",
    "       [0,mxh-1]],dtype=np.float32)"
   ]
  },
  {
   "cell_type": "code",
   "execution_count": 71,
   "id": "2b0b4efd-19d3-4ea6-adfd-965bae236cbe",
   "metadata": {},
   "outputs": [
    {
     "data": {
      "text/plain": [
       "array([[  0.,   0.],\n",
       "       [337.,   0.],\n",
       "       [337., 232.],\n",
       "       [  0., 232.]], dtype=float32)"
      ]
     },
     "execution_count": 71,
     "metadata": {},
     "output_type": "execute_result"
    }
   ],
   "source": [
    "dst"
   ]
  },
  {
   "cell_type": "code",
   "execution_count": 72,
   "id": "fd0626fb-af79-44f0-b365-78f69aa75bf6",
   "metadata": {},
   "outputs": [],
   "source": [
    "M = cv2.getPerspectiveTransform(ord,dst)"
   ]
  },
  {
   "cell_type": "code",
   "execution_count": 73,
   "id": "ba424848-69cc-4eb7-bae3-305dba080002",
   "metadata": {},
   "outputs": [],
   "source": [
    "wrap = cv2.warpPerspective(hello1,M,(mxw,mxh))"
   ]
  },
  {
   "cell_type": "code",
   "execution_count": 74,
   "id": "921e85cd-2654-4a8f-b86c-65bdf53660c9",
   "metadata": {},
   "outputs": [
    {
     "data": {
      "text/plain": [
       "(233, 338, 3)"
      ]
     },
     "execution_count": 74,
     "metadata": {},
     "output_type": "execute_result"
    }
   ],
   "source": [
    "wrap.shape"
   ]
  },
  {
   "cell_type": "code",
   "execution_count": 75,
   "id": "e372fdba-7011-4c5b-847a-6a977a670272",
   "metadata": {},
   "outputs": [],
   "source": [
    "cv2.imshow(\"Hello\",hello1)\n",
    "cv2.imshow(\"Wrapeed\",wrap)\n",
    "cv2.waitKey(0)\n",
    "cv2.destroyAllWindows()"
   ]
  },
  {
   "cell_type": "code",
   "execution_count": 76,
   "id": "98ab574f-12d2-4b42-98b9-5ea2f2ba9f56",
   "metadata": {},
   "outputs": [],
   "source": [
    "wrap = cv2.warpPerspective(hello1,M,(600,600))"
   ]
  },
  {
   "cell_type": "code",
   "execution_count": 77,
   "id": "70ef1025-9a7c-4a45-aa80-1dd1c9853e59",
   "metadata": {},
   "outputs": [
    {
     "data": {
      "text/plain": [
       "(600, 600, 3)"
      ]
     },
     "execution_count": 77,
     "metadata": {},
     "output_type": "execute_result"
    }
   ],
   "source": [
    "wrap.shape"
   ]
  },
  {
   "cell_type": "code",
   "execution_count": 78,
   "id": "e3098fbc-4e7d-408d-a9d5-1e60d5a39df3",
   "metadata": {},
   "outputs": [],
   "source": [
    "cv2.imshow(\"Hello\",hello1)\n",
    "cv2.imshow(\"Wrapeed\",wrap)\n",
    "cv2.waitKey(0)\n",
    "cv2.destroyAllWindows()"
   ]
  },
  {
   "cell_type": "code",
   "execution_count": 81,
   "id": "87d330a9-f39f-4bbe-85a5-d739f400de40",
   "metadata": {},
   "outputs": [
    {
     "name": "stdout",
     "output_type": "stream",
     "text": [
      "338.5675708038205 233.69210512980536\n"
     ]
    },
    {
     "data": {
      "text/plain": [
       "\"\\n#calculate the focal disrance\\nk2 = np.dot(np.cross(m1,m4),m3) / np.dot(np.cross(m2,m4),m3)\\nk3 = np.dot(np.cross(m1,m4),m2) / np.dot(np.cross(m3,m4),m2)\\n\\nn2 = k2 * m2 - m1\\nn3 = k3 * m3 - m1\\n\\nn21 = n2[0]\\nn22 = n2[1]\\nn23 = n2[2]\\n\\nn31 = n3[0]\\nn32 = n3[1]\\nn33 = n3[2]\\n\\nf = math.sqrt(np.abs( (1.0/(n23*n33)) * ((n21*n31 - (n21*n33 + n23*n31)*u0 + n23*n33*u0*u0) + (n22*n32 - (n22*n33+n23*n32)*v0 + n23*n33*v0*v0))))\\n\\nA = np.array([[f,0,u0],[0,f,v0],[0,0,1]]).astype('float32')\\n\\nAt = np.transpose(A)\\nAti = np.linalg.inv(At)\\nAi = np.linalg.inv(A)\\n\\n#calculate the real aspect ratio\\nar_real = math.sqrt(np.dot(np.dot(np.dot(n2,Ati),Ai),n2)/np.dot(np.dot(np.dot(n3,Ati),Ai),n3))\\n\\nif ar_real < ar_vis:\\n    W = int(w)\\n    H = int(W / ar_real)\\nelse:\\n    H = int(h)\\n    W = int(ar_real * H)\\n\\npts1 = np.array(p).astype('float32')\\npts2 = np.float32([[0,0],[W,0],[0,H],[W,H]])\\n\\n#project the image with the new w/h\\nM = cv2.getPerspectiveTransform(pts1,pts2)\\n\\ndst = cv2.warpPerspective(img,M,(W,H))\\n\\ncv2.imshow('img',img)\\ncv2.imshow('dst',dst)\\ncv2.imwrite('orig.png',img)\\ncv2.imwrite('proj.png',dst)\\n\\ncv2.waitKey(0)\""
      ]
     },
     "execution_count": 81,
     "metadata": {},
     "output_type": "execute_result"
    }
   ],
   "source": [
    "import math\n",
    "import cv2\n",
    "import scipy.spatial.distance\n",
    "import numpy as np\n",
    "\n",
    "img = cv2.imread(r\"E:\\PyImage_ComputerVision\\OpenCVBasic\\WorkingData\\InputData\\Hello1.png\")\n",
    "(rows,cols,_) = img.shape\n",
    "\n",
    "#image center\n",
    "u0 = (cols)/2.0\n",
    "v0 = (rows)/2.0\n",
    "\n",
    "#detected corners on the original image\n",
    "p = [[73, 239],[356, 117],[475, 265],[187, 443]]\n",
    "\n",
    "#widths and heights of the projected image\n",
    "w1 = scipy.spatial.distance.euclidean(p[0],p[1])\n",
    "w2 = scipy.spatial.distance.euclidean(p[2],p[3])\n",
    "\n",
    "h1 = scipy.spatial.distance.euclidean(p[0],p[3])\n",
    "h2 = scipy.spatial.distance.euclidean(p[1],p[2])\n",
    "\n",
    "w = max(w1,w2)\n",
    "h = max(h1,h2)\n",
    "print(w,h)\n",
    "\n",
    "#visible aspect ratio\n",
    "ar_vis = float(w)/float(h)\n",
    "\n",
    "#make numpy arrays and append 1 for linear algebra\n",
    "m1 = np.array((p[0][0],p[0][1],1)).astype('float32')\n",
    "m2 = np.array((p[1][0],p[1][1],1)).astype('float32')\n",
    "m3 = np.array((p[2][0],p[2][1],1)).astype('float32')\n",
    "m4 = np.array((p[3][0],p[3][1],1)).astype('float32')\n",
    "\n",
    "#calculate the focal disrance\n",
    "k2 = np.dot(np.cross(m1,m4),m3) / np.dot(np.cross(m2,m4),m3)\n",
    "k3 = np.dot(np.cross(m1,m4),m2) / np.dot(np.cross(m3,m4),m2)\n",
    "\n",
    "n2 = k2 * m2 - m1\n",
    "n3 = k3 * m3 - m1\n",
    "\n",
    "n21 = n2[0]\n",
    "n22 = n2[1]\n",
    "n23 = n2[2]\n",
    "\n",
    "n31 = n3[0]\n",
    "n32 = n3[1]\n",
    "n33 = n3[2]\n",
    "\n",
    "f = math.sqrt(np.abs( (1.0/(n23*n33)) * ((n21*n31 - (n21*n33 + n23*n31)*u0 + n23*n33*u0*u0) + (n22*n32 - (n22*n33+n23*n32)*v0 + n23*n33*v0*v0))))\n",
    "\n",
    "A = np.array([[f,0,u0],[0,f,v0],[0,0,1]]).astype('float32')\n",
    "\n",
    "At = np.transpose(A)\n",
    "Ati = np.linalg.inv(At)\n",
    "Ai = np.linalg.inv(A)\n",
    "\n",
    "#calculate the real aspect ratio\n",
    "ar_real = math.sqrt(np.dot(np.dot(np.dot(n2,Ati),Ai),n2)/np.dot(np.dot(np.dot(n3,Ati),Ai),n3))\n",
    "\n",
    "if ar_real < ar_vis:\n",
    "    W = int(w)\n",
    "    H = int(W / ar_real)\n",
    "else:\n",
    "    H = int(h)\n",
    "    W = int(ar_real * H)\n",
    "\n",
    "pts1 = np.array(p).astype('float32')\n",
    "pts2 = np.float32([[0,0],[W,0],[0,H],[W,H]])\n",
    "\n",
    "#project the image with the new w/h\n",
    "M = cv2.getPerspectiveTransform(pts1,pts2)\n",
    "\n",
    "dst = cv2.warpPerspective(img,M,(W,H))\n",
    "\n",
    "cv2.imshow('img',img)\n",
    "cv2.imshow('dst',dst)\n",
    "cv2.waitKey(0)\n",
    "cv2.destroyAllWindows()"
   ]
  },
  {
   "cell_type": "code",
   "execution_count": 82,
   "id": "38994f85-0d4e-4459-a457-651075d39f62",
   "metadata": {},
   "outputs": [
    {
     "data": {
      "text/plain": [
       "array([ 73., 239.,   1.], dtype=float32)"
      ]
     },
     "execution_count": 82,
     "metadata": {},
     "output_type": "execute_result"
    }
   ],
   "source": [
    "m1"
   ]
  },
  {
   "cell_type": "code",
   "execution_count": 83,
   "id": "358b30a9-0199-4bad-9dfb-e5c60333e716",
   "metadata": {},
   "outputs": [
    {
     "data": {
      "text/plain": [
       "array([356., 117.,   1.], dtype=float32)"
      ]
     },
     "execution_count": 83,
     "metadata": {},
     "output_type": "execute_result"
    }
   ],
   "source": [
    "m2"
   ]
  },
  {
   "cell_type": "code",
   "execution_count": 84,
   "id": "46d8779b-f3d4-4c57-aac9-a99edaaf6ceb",
   "metadata": {},
   "outputs": [
    {
     "data": {
      "text/plain": [
       "array([475., 265.,   1.], dtype=float32)"
      ]
     },
     "execution_count": 84,
     "metadata": {},
     "output_type": "execute_result"
    }
   ],
   "source": [
    "m3"
   ]
  },
  {
   "cell_type": "code",
   "execution_count": 85,
   "id": "f066e6df-4154-4939-a0c4-b8aeb82414c9",
   "metadata": {},
   "outputs": [
    {
     "data": {
      "text/plain": [
       "array([187., 443.,   1.], dtype=float32)"
      ]
     },
     "execution_count": 85,
     "metadata": {},
     "output_type": "execute_result"
    }
   ],
   "source": [
    "m4"
   ]
  },
  {
   "cell_type": "code",
   "execution_count": null,
   "id": "dc4b0a15-ef8b-4841-9c51-dd0bc89ed408",
   "metadata": {},
   "outputs": [],
   "source": []
  },
  {
   "cell_type": "code",
   "execution_count": null,
   "id": "82102914-5114-4df3-987c-39ebb54822b1",
   "metadata": {},
   "outputs": [],
   "source": []
  },
  {
   "cell_type": "code",
   "execution_count": null,
   "id": "559a3375-5399-4047-8078-bc269ee329ff",
   "metadata": {},
   "outputs": [],
   "source": []
  },
  {
   "cell_type": "code",
   "execution_count": 91,
   "id": "4dd61e1d-07fc-451d-b1a6-4274db0a39d2",
   "metadata": {},
   "outputs": [],
   "source": [
    "image = cv2.imread(r\"E:\\PyImage_ComputerVision\\OpenCVBasic\\WorkingData\\InputData\\book.png\")"
   ]
  },
  {
   "cell_type": "code",
   "execution_count": 93,
   "id": "0d3a3313-0d6a-4a88-8ead-c612c5b76776",
   "metadata": {},
   "outputs": [],
   "source": [
    "points = [(64,71),(273,62),(10,342),(344,329)]"
   ]
  },
  {
   "cell_type": "code",
   "execution_count": 102,
   "id": "9ddee704-ab58-47ff-93dd-05100d556b6c",
   "metadata": {},
   "outputs": [],
   "source": [
    "def order_points(pts):\n",
    "    # sort the points based on their x-coordinates\n",
    "    xSorted = pts[np.argsort(pts[:, 0]), :]\n",
    "\n",
    "    # grab the left-most and right-most points from the sorted\n",
    "    # x-roodinate points\n",
    "    leftMost = xSorted[:2, :]\n",
    "    rightMost = xSorted[2:, :]\n",
    "\n",
    "    # now, sort the left-most coordinates according to their\n",
    "    # y-coordinates so we can grab the top-left and bottom-left\n",
    "    # points, respectively\n",
    "    leftMost = leftMost[np.argsort(leftMost[:, 1]), :]\n",
    "    (tl, bl) = leftMost\n",
    "\n",
    "    # now that we have the top-left coordinate, use it as an\n",
    "    # anchor to calculate the Euclidean distance between the\n",
    "    # top-left and right-most points; by the Pythagorean\n",
    "    # theorem, the point with the largest distance will be\n",
    "    # our bottom-right point\n",
    "    D = dist.cdist(tl[np.newaxis], rightMost, \"euclidean\")[0]\n",
    "    (br, tr) = rightMost[np.argsort(D)[::-1], :]\n",
    "\n",
    "    # return the coordinates in top-left, top-right,\n",
    "    # bottom-right, and bottom-left order\n",
    "    return np.array([tl, tr, br, bl], dtype=\"float32\")"
   ]
  },
  {
   "cell_type": "code",
   "execution_count": 106,
   "id": "9416c287-3c85-4f55-a365-e590aa66c41c",
   "metadata": {},
   "outputs": [],
   "source": [
    "def four_point_transform(pts):\n",
    "    # obtain a consistent order of the points and unpack them\n",
    "    # individually\n",
    "    rect = order_points(pts)\n",
    "    (tl, tr, br, bl) = rect\n",
    "\n",
    "    # compute the width of the new image, which will be the\n",
    "    # maximum distance between bottom-right and bottom-left\n",
    "    # x-coordiates or the top-right and top-left x-coordinates\n",
    "    widthA = np.sqrt(((br[0] - bl[0]) ** 2) + ((br[1] - bl[1]) ** 2))\n",
    "    widthB = np.sqrt(((tr[0] - tl[0]) ** 2) + ((tr[1] - tl[1]) ** 2))\n",
    "    maxWidth = max(int(widthA), int(widthB))\n",
    "\n",
    "    # compute the height of the new image, which will be the\n",
    "    # maximum distance between the top-right and bottom-right\n",
    "    # y-coordinates or the top-left and bottom-left y-coordinates\n",
    "    heightA = np.sqrt(((tr[0] - br[0]) ** 2) + ((tr[1] - br[1]) ** 2))\n",
    "    heightB = np.sqrt(((tl[0] - bl[0]) ** 2) + ((tl[1] - bl[1]) ** 2))\n",
    "    maxHeight = max(int(heightA), int(heightB))\n",
    "    # now that we have the dimensions of the new image, construct\n",
    "    # the set of destination points to obtain a \"birds eye view\",\n",
    "    # (i.e. top-down view) of the image, again specifying points\n",
    "    # in the top-left, top-right, bottom-right, and bottom-left\n",
    "    # order\n",
    "    dst = np.array([\n",
    "        [0, 0],\n",
    "        [maxWidth - 1, 0],\n",
    "        [maxWidth - 1, maxHeight - 1],\n",
    "        [0, maxHeight - 1]], dtype=np.float32)\n",
    "    # compute the perspective transform matrix and then apply it\n",
    "    M = cv2.getPerspectiveTransform(rect,dst)\n",
    "    warped = cv2.warpPerspective(image, M, (maxWidth, maxHeight))\n",
    "\n",
    "    # return the warped image\n",
    "    return warped"
   ]
  },
  {
   "cell_type": "code",
   "execution_count": 115,
   "id": "95fc6773-2190-421e-a316-04b2de9d0bc0",
   "metadata": {},
   "outputs": [],
   "source": [
    "import math\n",
    "import cv2\n",
    "import scipy.spatial.distance\n",
    "import numpy as np\n",
    "\n",
    "img = cv2.imread(r\"E:\\PyImage_ComputerVision\\OpenCVBasic\\WorkingData\\InputData\\book.png\")\n",
    "(rows,cols,_) = img.shape\n",
    "\n",
    "#image center\n",
    "u0 = (cols)/2.0\n",
    "v0 = (rows)/2.0\n",
    "\n",
    "#detected corners on the original image\n",
    "p = []\n",
    "p.append((67,71))\n",
    "p.append((273,62))\n",
    "p.append((10,342))\n",
    "p.append((344,329))\n",
    "\n",
    "#widths and heights of the projected image\n",
    "w1 = scipy.spatial.distance.euclidean(p[0],p[1])\n",
    "w2 = scipy.spatial.distance.euclidean(p[2],p[3])\n",
    "\n",
    "h1 = scipy.spatial.distance.euclidean(p[0],p[2])\n",
    "h2 = scipy.spatial.distance.euclidean(p[1],p[3])\n",
    "\n",
    "w = max(w1,w2)\n",
    "h = max(h1,h2)\n",
    "\n",
    "#visible aspect ratio\n",
    "ar_vis = float(w)/float(h)\n",
    "\n",
    "#make numpy arrays and append 1 for linear algebra\n",
    "m1 = np.array((p[0][0],p[0][1],1)).astype('float32')\n",
    "m2 = np.array((p[1][0],p[1][1],1)).astype('float32')\n",
    "m3 = np.array((p[2][0],p[2][1],1)).astype('float32')\n",
    "m4 = np.array((p[3][0],p[3][1],1)).astype('float32')\n",
    "\n",
    "#calculate the focal disrance\n",
    "k2 = np.dot(np.cross(m1,m4),m3) / np.dot(np.cross(m2,m4),m3)\n",
    "k3 = np.dot(np.cross(m1,m4),m2) / np.dot(np.cross(m3,m4),m2)\n",
    "\n",
    "n2 = k2 * m2 - m1\n",
    "n3 = k3 * m3 - m1\n",
    "\n",
    "n21 = n2[0]\n",
    "n22 = n2[1]\n",
    "n23 = n2[2]\n",
    "\n",
    "n31 = n3[0]\n",
    "n32 = n3[1]\n",
    "n33 = n3[2]\n",
    "\n",
    "f = math.sqrt(np.abs( (1.0/(n23*n33)) * ((n21*n31 - (n21*n33 + n23*n31)*u0 + n23*n33*u0*u0) + (n22*n32 - (n22*n33+n23*n32)*v0 + n23*n33*v0*v0))))\n",
    "\n",
    "A = np.array([[f,0,u0],[0,f,v0],[0,0,1]]).astype('float32')\n",
    "\n",
    "At = np.transpose(A)\n",
    "Ati = np.linalg.inv(At)\n",
    "Ai = np.linalg.inv(A)\n",
    "\n",
    "#calculate the real aspect ratio\n",
    "ar_real = math.sqrt(np.dot(np.dot(np.dot(n2,Ati),Ai),n2)/np.dot(np.dot(np.dot(n3,Ati),Ai),n3))\n",
    "\n",
    "if ar_real < ar_vis:\n",
    "    W = int(w)\n",
    "    H = int(W / ar_real)\n",
    "else:\n",
    "    H = int(h)\n",
    "    W = int(ar_real * H)\n",
    "\n",
    "pts1 = np.array(p).astype('float32')\n",
    "pts2 = np.float32([[0,0],[W,0],[0,H],[W,H]])\n",
    "\n",
    "#project the image with the new w/h\n",
    "M = cv2.getPerspectiveTransform(pts1,pts2)\n",
    "\n",
    "dst = cv2.warpPerspective(img,M,(W,H))"
   ]
  },
  {
   "cell_type": "code",
   "execution_count": 107,
   "id": "bd671916-835c-4b36-a9cd-5d7756eb0c3c",
   "metadata": {},
   "outputs": [],
   "source": [
    "wrap = four_point_transform(np.array(points))"
   ]
  },
  {
   "cell_type": "code",
   "execution_count": 116,
   "id": "8dabbad2-de7f-41c3-a317-900579c6c6cd",
   "metadata": {},
   "outputs": [],
   "source": [
    "cv2.imshow(\"Normal Image\",image)\n",
    "cv2.imshow(\"Output1\",wrap)\n",
    "cv2.imshow(\"Output2\",dst)\n",
    "\n",
    "cv2.waitKey(0)\n",
    "cv2.destroyAllWindows()"
   ]
  },
  {
   "cell_type": "code",
   "execution_count": null,
   "id": "515f71fb-7777-4c3f-b33a-50fb4dbce5d2",
   "metadata": {},
   "outputs": [],
   "source": []
  }
 ],
 "metadata": {
  "kernelspec": {
   "display_name": "Python 3 (ipykernel)",
   "language": "python",
   "name": "python3"
  },
  "language_info": {
   "codemirror_mode": {
    "name": "ipython",
    "version": 3
   },
   "file_extension": ".py",
   "mimetype": "text/x-python",
   "name": "python",
   "nbconvert_exporter": "python",
   "pygments_lexer": "ipython3",
   "version": "3.11.5"
  }
 },
 "nbformat": 4,
 "nbformat_minor": 5
}
