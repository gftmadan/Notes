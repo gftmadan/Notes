{
 "cells": [
  {
   "cell_type": "code",
   "execution_count": 1,
   "id": "8397f0f0",
   "metadata": {},
   "outputs": [],
   "source": [
    "import cv2\n",
    "import numpy as np"
   ]
  },
  {
   "cell_type": "markdown",
   "id": "502d727b",
   "metadata": {},
   "source": [
    "## ---------------------------------------------------------------------------------------------------------------------------------"
   ]
  },
  {
   "cell_type": "markdown",
   "id": "a0e31d25",
   "metadata": {},
   "source": [
    "# Image Arithmetic\n",
    "\n",
    "## Images can be Added and Subtracted together.\n",
    "\n",
    "### We can also define Image Arithmetic as simple Matrix Addition(with extra caveats) as Image are just NUMPY Matrix.\n",
    "\n",
    "### There are mainly 2 ways to perform Image Arithmetic Operations :-\n",
    "\n",
    "### 1)First way is to use OpenCV Specfic Functions.\n",
    "### 2)Second way is using Numpy Basic Addition and Subtraction operators.\n",
    "\n",
    "## We will be using the OpenCV Functions as they will perform Clipping or Saturation which will ensure Pixel Intensity never falls outside of range [0,255]. "
   ]
  },
  {
   "cell_type": "markdown",
   "id": "c2eac6e0",
   "metadata": {},
   "source": [
    "#### ---------------------------------------------------------------------------------------------------------------"
   ]
  },
  {
   "cell_type": "markdown",
   "id": "2bb048b0",
   "metadata": {},
   "source": [
    "## --->Image Addition\n",
    "\n",
    "### We use `cv2.add()` Method to perform Image Addition in OpenCV.(It perform Clipping or Saturation under the hood)."
   ]
  },
  {
   "cell_type": "markdown",
   "id": "ba7cc226",
   "metadata": {},
   "source": [
    "\n"
   ]
  },
  {
   "cell_type": "markdown",
   "id": "df82b173",
   "metadata": {},
   "source": [
    "### For `cv2.add()` Method:-\n",
    "\n",
    "### < First Argument >:-It takes the Numpy Array of the First Image we want to Add.\n",
    "### < Second Argument >:-It takes the Numpy Array of the Second Image we want to Add.\n",
    "### < Third Argument >(mask) :- It is Optional Operation Mask we can use to alter the output Image.\n",
    "\n",
    "#### cv2.add():-[LINK](https://docs.opencv.org/4.x/d2/de8/group__core__array.html#ga10ac1bfb180e2cfda1701d06c24fdbd6)"
   ]
  },
  {
   "cell_type": "code",
   "execution_count": 2,
   "id": "c98a4bdc",
   "metadata": {},
   "outputs": [],
   "source": [
    "img1 = cv2.imread(r\"E:\\PyImage_ComputerVision\\OpenCVBasic\\WorkingData\\InputData\\adrian.png\")\n",
    "img2 = cv2.imread(r\"E:\\PyImage_ComputerVision\\OpenCVBasic\\WorkingData\\InputData\\opencv.png\")"
   ]
  },
  {
   "cell_type": "code",
   "execution_count": 3,
   "id": "c2ba6d61",
   "metadata": {},
   "outputs": [],
   "source": [
    "cv2.imshow(\"Image1\",img1)\n",
    "cv2.imshow(\"Image2\",img2)\n",
    "cv2.waitKey(0)\n",
    "cv2.destroyAllWindows()"
   ]
  },
  {
   "cell_type": "code",
   "execution_count": 4,
   "id": "ad55b08c",
   "metadata": {},
   "outputs": [
    {
     "data": {
      "text/plain": [
       "(450, 600, 3)"
      ]
     },
     "execution_count": 4,
     "metadata": {},
     "output_type": "execute_result"
    }
   ],
   "source": [
    "img1.shape"
   ]
  },
  {
   "cell_type": "code",
   "execution_count": 5,
   "id": "191da38e",
   "metadata": {},
   "outputs": [
    {
     "data": {
      "text/plain": [
       "(554, 450, 3)"
      ]
     },
     "execution_count": 5,
     "metadata": {},
     "output_type": "execute_result"
    }
   ],
   "source": [
    "img2.shape"
   ]
  },
  {
   "cell_type": "code",
   "execution_count": 6,
   "id": "6cb59f2b",
   "metadata": {},
   "outputs": [],
   "source": [
    "Rimg1 = cv2.resize(img1,(600,600),cv2.INTER_CUBIC)\n",
    "Rimg2 = cv2.resize(img2,(600,600),cv2.INTER_CUBIC)"
   ]
  },
  {
   "cell_type": "code",
   "execution_count": 7,
   "id": "acfca0e0",
   "metadata": {},
   "outputs": [],
   "source": [
    "add12 = cv2.add(Rimg1,Rimg2)"
   ]
  },
  {
   "cell_type": "code",
   "execution_count": 8,
   "id": "5358352c",
   "metadata": {},
   "outputs": [],
   "source": [
    "add21 = cv2.add(Rimg2,Rimg1)"
   ]
  },
  {
   "cell_type": "code",
   "execution_count": 9,
   "id": "d119395b",
   "metadata": {},
   "outputs": [],
   "source": [
    "cv2.imshow(\"Image1\",Rimg1)\n",
    "cv2.imshow(\"Image2\",Rimg2)\n",
    "cv2.imshow(\"Added12\",add12)\n",
    "cv2.imshow(\"Added21\",add21)\n",
    "cv2.waitKey(0)\n",
    "cv2.destroyAllWindows()"
   ]
  },
  {
   "cell_type": "markdown",
   "id": "bd5c809c",
   "metadata": {},
   "source": [
    "### We have Performed Image Addition of two Images to obtain an Final Output Image.\n",
    "\n",
    "### We can Notice that Clipping and Saturation were performed Under the Hood."
   ]
  },
  {
   "cell_type": "markdown",
   "id": "c65d9d5c",
   "metadata": {},
   "source": [
    "### -->We will Perform Basic Image Addition in below Cells.\n",
    "\n",
    "### -->Basic Image Addition is Adding some constant value to each Pixel ,Thus Increasing the Contrast ,Brightness of the Image."
   ]
  },
  {
   "cell_type": "code",
   "execution_count": 10,
   "id": "3773880b",
   "metadata": {},
   "outputs": [],
   "source": [
    "img3 = cv2.imread(r\"E:\\PyImage_ComputerVision\\OpenCVBasic\\WorkingData\\InputData\\grand_canyon.png\")"
   ]
  },
  {
   "cell_type": "code",
   "execution_count": 16,
   "id": "aa8c780a",
   "metadata": {},
   "outputs": [
    {
     "data": {
      "text/plain": [
       "array([[[115,  73,   4],\n",
       "        [115,  73,   3],\n",
       "        [116,  74,   3],\n",
       "        ...,\n",
       "        [112,  71,   7],\n",
       "        [118,  80,  20],\n",
       "        [121,  87,  35]],\n",
       "\n",
       "       [[113,  72,   2],\n",
       "        [115,  73,   1],\n",
       "        [118,  76,   6],\n",
       "        ...,\n",
       "        [116,  74,  10],\n",
       "        [119,  80,  22],\n",
       "        [121,  86,  33]],\n",
       "\n",
       "       [[114,  72,   2],\n",
       "        [116,  73,   3],\n",
       "        [119,  75,   4],\n",
       "        ...,\n",
       "        [112,  70,   4],\n",
       "        [114,  75,  13],\n",
       "        [119,  83,  28]],\n",
       "\n",
       "       ...,\n",
       "\n",
       "       [[  0,   7,   4],\n",
       "        [  5,   0,   0],\n",
       "        [ 11,  77, 105],\n",
       "        ...,\n",
       "        [ 51, 114, 183],\n",
       "        [ 48, 113, 181],\n",
       "        [ 51, 119, 188]],\n",
       "\n",
       "       [[  2,  24,  23],\n",
       "        [  3,  69,  81],\n",
       "        [  3, 108, 141],\n",
       "        ...,\n",
       "        [ 54, 127, 198],\n",
       "        [ 44, 110, 179],\n",
       "        [ 46, 110, 178]],\n",
       "\n",
       "       [[  3,  53,  65],\n",
       "        [  0, 117, 139],\n",
       "        [  3, 114, 146],\n",
       "        ...,\n",
       "        [ 53, 129, 203],\n",
       "        [ 54, 126, 198],\n",
       "        [ 53, 120, 188]]], dtype=uint8)"
      ]
     },
     "execution_count": 16,
     "metadata": {},
     "output_type": "execute_result"
    }
   ],
   "source": [
    "img3"
   ]
  },
  {
   "cell_type": "code",
   "execution_count": 11,
   "id": "85efc68f",
   "metadata": {},
   "outputs": [],
   "source": [
    "cv2.imshow(\"Normal Image\",img3)\n",
    "cv2.waitKey(0)\n",
    "cv2.destroyAllWindows()"
   ]
  },
  {
   "cell_type": "code",
   "execution_count": 14,
   "id": "32815eaa",
   "metadata": {},
   "outputs": [],
   "source": [
    "add100 = cv2.add(img3,100)"
   ]
  },
  {
   "cell_type": "code",
   "execution_count": 15,
   "id": "7855fbad",
   "metadata": {},
   "outputs": [
    {
     "data": {
      "text/plain": [
       "array([[[215,  73,   4],\n",
       "        [215,  73,   3],\n",
       "        [216,  74,   3],\n",
       "        ...,\n",
       "        [212,  71,   7],\n",
       "        [218,  80,  20],\n",
       "        [221,  87,  35]],\n",
       "\n",
       "       [[213,  72,   2],\n",
       "        [215,  73,   1],\n",
       "        [218,  76,   6],\n",
       "        ...,\n",
       "        [216,  74,  10],\n",
       "        [219,  80,  22],\n",
       "        [221,  86,  33]],\n",
       "\n",
       "       [[214,  72,   2],\n",
       "        [216,  73,   3],\n",
       "        [219,  75,   4],\n",
       "        ...,\n",
       "        [212,  70,   4],\n",
       "        [214,  75,  13],\n",
       "        [219,  83,  28]],\n",
       "\n",
       "       ...,\n",
       "\n",
       "       [[100,   7,   4],\n",
       "        [105,   0,   0],\n",
       "        [111,  77, 105],\n",
       "        ...,\n",
       "        [151, 114, 183],\n",
       "        [148, 113, 181],\n",
       "        [151, 119, 188]],\n",
       "\n",
       "       [[102,  24,  23],\n",
       "        [103,  69,  81],\n",
       "        [103, 108, 141],\n",
       "        ...,\n",
       "        [154, 127, 198],\n",
       "        [144, 110, 179],\n",
       "        [146, 110, 178]],\n",
       "\n",
       "       [[103,  53,  65],\n",
       "        [100, 117, 139],\n",
       "        [103, 114, 146],\n",
       "        ...,\n",
       "        [153, 129, 203],\n",
       "        [154, 126, 198],\n",
       "        [153, 120, 188]]], dtype=uint8)"
      ]
     },
     "execution_count": 15,
     "metadata": {},
     "output_type": "execute_result"
    }
   ],
   "source": [
    "add100"
   ]
  },
  {
   "cell_type": "code",
   "execution_count": 17,
   "id": "35207670",
   "metadata": {},
   "outputs": [],
   "source": [
    "addM100 = cv2.add(img3,np.ones(img3.shape,dtype=np.uint8)*100)"
   ]
  },
  {
   "cell_type": "code",
   "execution_count": 18,
   "id": "32c8db81",
   "metadata": {},
   "outputs": [
    {
     "data": {
      "text/plain": [
       "array([[[215, 173, 104],\n",
       "        [215, 173, 103],\n",
       "        [216, 174, 103],\n",
       "        ...,\n",
       "        [212, 171, 107],\n",
       "        [218, 180, 120],\n",
       "        [221, 187, 135]],\n",
       "\n",
       "       [[213, 172, 102],\n",
       "        [215, 173, 101],\n",
       "        [218, 176, 106],\n",
       "        ...,\n",
       "        [216, 174, 110],\n",
       "        [219, 180, 122],\n",
       "        [221, 186, 133]],\n",
       "\n",
       "       [[214, 172, 102],\n",
       "        [216, 173, 103],\n",
       "        [219, 175, 104],\n",
       "        ...,\n",
       "        [212, 170, 104],\n",
       "        [214, 175, 113],\n",
       "        [219, 183, 128]],\n",
       "\n",
       "       ...,\n",
       "\n",
       "       [[100, 107, 104],\n",
       "        [105, 100, 100],\n",
       "        [111, 177, 205],\n",
       "        ...,\n",
       "        [151, 214, 255],\n",
       "        [148, 213, 255],\n",
       "        [151, 219, 255]],\n",
       "\n",
       "       [[102, 124, 123],\n",
       "        [103, 169, 181],\n",
       "        [103, 208, 241],\n",
       "        ...,\n",
       "        [154, 227, 255],\n",
       "        [144, 210, 255],\n",
       "        [146, 210, 255]],\n",
       "\n",
       "       [[103, 153, 165],\n",
       "        [100, 217, 239],\n",
       "        [103, 214, 246],\n",
       "        ...,\n",
       "        [153, 229, 255],\n",
       "        [154, 226, 255],\n",
       "        [153, 220, 255]]], dtype=uint8)"
      ]
     },
     "execution_count": 18,
     "metadata": {},
     "output_type": "execute_result"
    }
   ],
   "source": [
    "addM100"
   ]
  },
  {
   "cell_type": "code",
   "execution_count": 19,
   "id": "259dbd91",
   "metadata": {},
   "outputs": [],
   "source": [
    "cv2.imshow(\"Normal Image\",img3)\n",
    "cv2.imshow(\"Add100\",add100)\n",
    "cv2.imshow(\"AddM100\",addM100)\n",
    "cv2.waitKey(0)\n",
    "cv2.destroyAllWindows()"
   ]
  },
  {
   "cell_type": "markdown",
   "id": "2b1a3582",
   "metadata": {},
   "source": [
    "### -->We can notice in the First Method when we Add with just a Constant Value ,It will only Add it to a Single Channel(First Channel(B Channel))  \n",
    "\n",
    "### -->We can notice in the Second Method when we Add with a Matrix containing each Element as a Constant Value and same shape as the image  ,It will work Properly and Add to all Channel thus Increasing the Brightness and Contrast."
   ]
  },
  {
   "cell_type": "code",
   "execution_count": 20,
   "id": "da0ddabe",
   "metadata": {},
   "outputs": [],
   "source": [
    "addM25 = cv2.add(img3,np.ones(img3.shape,dtype=np.uint8)*25)\n",
    "addM50 = cv2.add(img3,np.ones(img3.shape,dtype=np.uint8)*50)\n",
    "addM75 = cv2.add(img3,np.ones(img3.shape,dtype=np.uint8)*75)\n",
    "addM100 = cv2.add(img3,np.ones(img3.shape,dtype=np.uint8)*100)\n",
    "addM125 = cv2.add(img3,np.ones(img3.shape,dtype=np.uint8)*125)\n",
    "addM150 = cv2.add(img3,np.ones(img3.shape,dtype=np.uint8)*150)\n",
    "addM175 = cv2.add(img3,np.ones(img3.shape,dtype=np.uint8)*175)\n",
    "addM200 = cv2.add(img3,np.ones(img3.shape,dtype=np.uint8)*200)\n",
    "addM225 = cv2.add(img3,np.ones(img3.shape,dtype=np.uint8)*225)\n",
    "addM250 = cv2.add(img3,np.ones(img3.shape,dtype=np.uint8)*250)\n",
    "addM255 = cv2.add(img3,np.ones(img3.shape,dtype=np.uint8)*255)"
   ]
  },
  {
   "cell_type": "code",
   "execution_count": 21,
   "id": "5758b128",
   "metadata": {},
   "outputs": [],
   "source": [
    "cv2.imshow(\"Normal Image\",img3)\n",
    "cv2.imshow(\"AddM25\",addM25)\n",
    "cv2.imshow(\"AddM50\",addM50)\n",
    "cv2.imshow(\"AddM75\",addM75)\n",
    "cv2.imshow(\"AddM100\",addM100)\n",
    "cv2.imshow(\"AddM125\",addM125)\n",
    "cv2.imshow(\"AddM150\",addM150)\n",
    "cv2.imshow(\"AddM175\",addM175)\n",
    "cv2.imshow(\"AddM200\",addM200)\n",
    "cv2.imshow(\"AddM225\",addM225)\n",
    "cv2.imshow(\"AddM250\",addM250)\n",
    "cv2.imshow(\"AddM255\",addM255)\n",
    "cv2.waitKey(0)\n",
    "cv2.destroyAllWindows()"
   ]
  },
  {
   "cell_type": "markdown",
   "id": "aee6c5bf",
   "metadata": {},
   "source": [
    "### We can see in above cells ,that we used different Values to Add to the Image to increase Brightness."
   ]
  },
  {
   "cell_type": "code",
   "execution_count": 38,
   "id": "63888b02",
   "metadata": {},
   "outputs": [],
   "source": [
    "# Creating a Mask using cv2.threshold() method\n",
    "\n",
    "msk = cv2.threshold(cv2.cvtColor(img3,cv2.COLOR_BGR2GRAY),150,255,cv2.THRESH_BINARY)"
   ]
  },
  {
   "cell_type": "code",
   "execution_count": 39,
   "id": "e15c6110",
   "metadata": {},
   "outputs": [],
   "source": [
    "addimg = cv2.add(img3,np.ones(img3.shape,dtype=np.uint8)*50,mask=msk[1])"
   ]
  },
  {
   "cell_type": "code",
   "execution_count": 40,
   "id": "8d82c324",
   "metadata": {},
   "outputs": [],
   "source": [
    "cv2.imshow(\"Normal Image\",img3)\n",
    "cv2.imshow(\"Added mask Image\",addimg)\n",
    "cv2.waitKey(0)\n",
    "cv2.destroyAllWindows()"
   ]
  },
  {
   "cell_type": "markdown",
   "id": "3a5db93d",
   "metadata": {},
   "source": [
    "### We can see that we used the Mask Argument in Add Method in Above Cells.\n",
    "\n",
    "### In the Above Scenario:-\n",
    "\n",
    "### 1)The Image was Added the way we wanted.\n",
    "### 2)Then The Mask was applied on the Added Image,hence only displaying those pixels of Added Image that had 1(True) Corresponding  Pixel in the Mask.\n",
    "### 3)Hence the Final Output was Generated."
   ]
  },
  {
   "cell_type": "markdown",
   "id": "00bdc0c4",
   "metadata": {},
   "source": [
    "#### ---------------------------------------------------------------------------------------------------------------"
   ]
  },
  {
   "cell_type": "markdown",
   "id": "c01c1547",
   "metadata": {},
   "source": [
    "## -->Image Subtraction\n",
    "\n",
    "### To subtract the Images in OpenCV we use `cv2.subtract()` Method.\n",
    "\n",
    "#### cv2.subtract():-[LINK](https://docs.opencv.org/4.x/d2/de8/group__core__array.html#gaa0f00d98b4b5edeaeb7b8333b2de353b)"
   ]
  },
  {
   "cell_type": "code",
   "execution_count": 22,
   "id": "f883b79a",
   "metadata": {},
   "outputs": [],
   "source": [
    "subimg12 = cv2.subtract(Rimg1,Rimg2)\n",
    "subimg21 = cv2.subtract(Rimg2,Rimg1)"
   ]
  },
  {
   "cell_type": "code",
   "execution_count": 23,
   "id": "e5202d13",
   "metadata": {},
   "outputs": [],
   "source": [
    "cv2.imshow(\"Sub12\",subimg12)\n",
    "cv2.imshow(\"Sub21\",subimg21)\n",
    "cv2.waitKey(0)\n",
    "cv2.destroyAllWindows()"
   ]
  },
  {
   "cell_type": "markdown",
   "id": "13153baa",
   "metadata": {},
   "source": [
    "### -->We performed Subtraction Between 2 Images in above Cells.\n",
    "\n",
    "### -->We can observe that Subtraction is a Commutative Operation because of its Nature."
   ]
  },
  {
   "cell_type": "code",
   "execution_count": 24,
   "id": "5cd01356",
   "metadata": {},
   "outputs": [],
   "source": [
    "sub100 = cv2.subtract(img3,100)\n",
    "subM100 = cv2.subtract(img3,np.ones(img3.shape,dtype=np.uint8)*100)"
   ]
  },
  {
   "cell_type": "code",
   "execution_count": 25,
   "id": "640a8961",
   "metadata": {},
   "outputs": [
    {
     "data": {
      "text/plain": [
       "array([[[ 15,  73,   4],\n",
       "        [ 15,  73,   3],\n",
       "        [ 16,  74,   3],\n",
       "        ...,\n",
       "        [ 12,  71,   7],\n",
       "        [ 18,  80,  20],\n",
       "        [ 21,  87,  35]],\n",
       "\n",
       "       [[ 13,  72,   2],\n",
       "        [ 15,  73,   1],\n",
       "        [ 18,  76,   6],\n",
       "        ...,\n",
       "        [ 16,  74,  10],\n",
       "        [ 19,  80,  22],\n",
       "        [ 21,  86,  33]],\n",
       "\n",
       "       [[ 14,  72,   2],\n",
       "        [ 16,  73,   3],\n",
       "        [ 19,  75,   4],\n",
       "        ...,\n",
       "        [ 12,  70,   4],\n",
       "        [ 14,  75,  13],\n",
       "        [ 19,  83,  28]],\n",
       "\n",
       "       ...,\n",
       "\n",
       "       [[  0,   7,   4],\n",
       "        [  0,   0,   0],\n",
       "        [  0,  77, 105],\n",
       "        ...,\n",
       "        [  0, 114, 183],\n",
       "        [  0, 113, 181],\n",
       "        [  0, 119, 188]],\n",
       "\n",
       "       [[  0,  24,  23],\n",
       "        [  0,  69,  81],\n",
       "        [  0, 108, 141],\n",
       "        ...,\n",
       "        [  0, 127, 198],\n",
       "        [  0, 110, 179],\n",
       "        [  0, 110, 178]],\n",
       "\n",
       "       [[  0,  53,  65],\n",
       "        [  0, 117, 139],\n",
       "        [  0, 114, 146],\n",
       "        ...,\n",
       "        [  0, 129, 203],\n",
       "        [  0, 126, 198],\n",
       "        [  0, 120, 188]]], dtype=uint8)"
      ]
     },
     "execution_count": 25,
     "metadata": {},
     "output_type": "execute_result"
    }
   ],
   "source": [
    "sub100"
   ]
  },
  {
   "cell_type": "code",
   "execution_count": 26,
   "id": "8ae14ad4",
   "metadata": {},
   "outputs": [
    {
     "data": {
      "text/plain": [
       "array([[[ 15,   0,   0],\n",
       "        [ 15,   0,   0],\n",
       "        [ 16,   0,   0],\n",
       "        ...,\n",
       "        [ 12,   0,   0],\n",
       "        [ 18,   0,   0],\n",
       "        [ 21,   0,   0]],\n",
       "\n",
       "       [[ 13,   0,   0],\n",
       "        [ 15,   0,   0],\n",
       "        [ 18,   0,   0],\n",
       "        ...,\n",
       "        [ 16,   0,   0],\n",
       "        [ 19,   0,   0],\n",
       "        [ 21,   0,   0]],\n",
       "\n",
       "       [[ 14,   0,   0],\n",
       "        [ 16,   0,   0],\n",
       "        [ 19,   0,   0],\n",
       "        ...,\n",
       "        [ 12,   0,   0],\n",
       "        [ 14,   0,   0],\n",
       "        [ 19,   0,   0]],\n",
       "\n",
       "       ...,\n",
       "\n",
       "       [[  0,   0,   0],\n",
       "        [  0,   0,   0],\n",
       "        [  0,   0,   5],\n",
       "        ...,\n",
       "        [  0,  14,  83],\n",
       "        [  0,  13,  81],\n",
       "        [  0,  19,  88]],\n",
       "\n",
       "       [[  0,   0,   0],\n",
       "        [  0,   0,   0],\n",
       "        [  0,   8,  41],\n",
       "        ...,\n",
       "        [  0,  27,  98],\n",
       "        [  0,  10,  79],\n",
       "        [  0,  10,  78]],\n",
       "\n",
       "       [[  0,   0,   0],\n",
       "        [  0,  17,  39],\n",
       "        [  0,  14,  46],\n",
       "        ...,\n",
       "        [  0,  29, 103],\n",
       "        [  0,  26,  98],\n",
       "        [  0,  20,  88]]], dtype=uint8)"
      ]
     },
     "execution_count": 26,
     "metadata": {},
     "output_type": "execute_result"
    }
   ],
   "source": [
    "subM100"
   ]
  },
  {
   "cell_type": "markdown",
   "id": "71457e3a",
   "metadata": {},
   "source": [
    "### We can see that Like in Addition same happens in Subtraction.\n",
    "\n",
    "### Hence We can say that to Decrease Brightness we should Subtract from a Matrix of same size containing Same Elements as the Constant Value."
   ]
  },
  {
   "cell_type": "code",
   "execution_count": 27,
   "id": "f8043663",
   "metadata": {},
   "outputs": [],
   "source": [
    "sub255 =  cv2.subtract(img3,np.ones(img3.shape,dtype=np.uint8)*255)\n",
    "sub250 =  cv2.subtract(img3,np.ones(img3.shape,dtype=np.uint8)*250)\n",
    "sub225 =  cv2.subtract(img3,np.ones(img3.shape,dtype=np.uint8)*225)\n",
    "sub200 =  cv2.subtract(img3,np.ones(img3.shape,dtype=np.uint8)*200)\n",
    "sub175 =  cv2.subtract(img3,np.ones(img3.shape,dtype=np.uint8)*175)\n",
    "sub150 =  cv2.subtract(img3,np.ones(img3.shape,dtype=np.uint8)*150)\n",
    "sub125 =  cv2.subtract(img3,np.ones(img3.shape,dtype=np.uint8)*125)\n",
    "sub100 =  cv2.subtract(img3,np.ones(img3.shape,dtype=np.uint8)*100)\n",
    "sub75 =  cv2.subtract(img3,np.ones(img3.shape,dtype=np.uint8)*75)\n",
    "sub50 =  cv2.subtract(img3,np.ones(img3.shape,dtype=np.uint8)*50)\n",
    "sub25 =  cv2.subtract(img3,np.ones(img3.shape,dtype=np.uint8)*25)"
   ]
  },
  {
   "cell_type": "code",
   "execution_count": 29,
   "id": "e1c2915f",
   "metadata": {},
   "outputs": [],
   "source": [
    "cv2.imshow(\"Normal Image\",img3)\n",
    "cv2.imshow(\"Sub255\",sub255)\n",
    "cv2.imshow(\"Sub250\",sub250)\n",
    "cv2.imshow(\"Sub225\",sub225)\n",
    "cv2.imshow(\"Sub200\",sub200)\n",
    "cv2.imshow(\"Sub175\",sub175)\n",
    "cv2.imshow(\"Sub150\",sub150)\n",
    "cv2.imshow(\"Sub125\",sub125)\n",
    "cv2.imshow(\"Sub100\",sub100)\n",
    "cv2.imshow(\"Sub75\",sub75)\n",
    "cv2.imshow(\"Sub50\",sub50)\n",
    "cv2.imshow(\"Sub25\",sub25)\n",
    "cv2.waitKey(0)\n",
    "cv2.destroyAllWindows()"
   ]
  },
  {
   "cell_type": "markdown",
   "id": "d1504512",
   "metadata": {},
   "source": [
    "### In above Cells we can see that we used Different Values to Subtract From the Image and Obverse it."
   ]
  },
  {
   "cell_type": "code",
   "execution_count": 41,
   "id": "2abc207d",
   "metadata": {},
   "outputs": [],
   "source": [
    "msk = cv2.threshold(cv2.cvtColor(img3,cv2.COLOR_BGR2GRAY),150,255,cv2.THRESH_BINARY_INV)"
   ]
  },
  {
   "cell_type": "code",
   "execution_count": 43,
   "id": "66a0482f",
   "metadata": {},
   "outputs": [],
   "source": [
    "submsk = cv2.subtract(img3,np.ones(img3.shape,dtype=np.uint8)*40,mask=msk[1])"
   ]
  },
  {
   "cell_type": "code",
   "execution_count": 44,
   "id": "75b55919",
   "metadata": {},
   "outputs": [],
   "source": [
    "cv2.imshow(\"Normal Image\",img3)\n",
    "cv2.imshow(\"Subtracted Masked Images\",submsk)\n",
    "cv2.waitKey(0)\n",
    "cv2.destroyAllWindows()"
   ]
  },
  {
   "cell_type": "markdown",
   "id": "a89de50f",
   "metadata": {},
   "source": [
    "### We used the Mask Argument in cv2.subtract() Method and Observe the Output.\n",
    "\n",
    "### Its working was same the Addition Masking Operation(described Above)."
   ]
  },
  {
   "cell_type": "markdown",
   "id": "ce589430",
   "metadata": {},
   "source": [
    "#### ---------------------------------------------------------------------------------------------------------------"
   ]
  },
  {
   "cell_type": "markdown",
   "id": "a27aeb17",
   "metadata": {},
   "source": [
    "## Image Weighted Addition\n",
    "\n",
    "### To perform Weighted Addition of Images using `cv2.addWeighted()`.\n",
    "\n",
    "### For `cv2.addWeighted()` Method:-\n",
    "\n",
    "### < First Argument > :-It takes the NUMPY Array of the First Image we want to Add.\n",
    "### < Second Argument >:-It takes the Weight of the First Image.It defines the amount by which the First Image Pixels will be used to define the Output Image.\n",
    "### < Third Argument >:-It takes the NUMPY Array of the Second Image we want to Add.\n",
    "### < Fourth Argument >:-It takes the Weight of the Second Image.It defines the amount by which the Second Image Pixels will be used to define the Output Image.\n",
    "### < Fifth Argument >:-It the scalar that will be added to each Input Array."
   ]
  },
  {
   "cell_type": "code",
   "execution_count": 48,
   "id": "0e60b970",
   "metadata": {},
   "outputs": [],
   "source": [
    "wimg = cv2.addWeighted(Rimg1,0.5,Rimg2,0.5,0)"
   ]
  },
  {
   "cell_type": "code",
   "execution_count": 49,
   "id": "ed7f4427",
   "metadata": {},
   "outputs": [],
   "source": [
    "cv2.imshow(\"Added Weighted Image\",wimg)\n",
    "cv2.imshow(\"Added Image\",add21)\n",
    "cv2.waitKey(0)\n",
    "cv2.destroyAllWindows()"
   ]
  },
  {
   "cell_type": "markdown",
   "id": "c1452470",
   "metadata": {},
   "source": [
    "### We can see that we gave Half Weightage to both Input Images and Obtain an Result which can be observed. "
   ]
  },
  {
   "cell_type": "code",
   "execution_count": 50,
   "id": "6aa0c0a1",
   "metadata": {},
   "outputs": [],
   "source": [
    "wimg1 = cv2.addWeighted(Rimg1,1,Rimg2,1,0)"
   ]
  },
  {
   "cell_type": "code",
   "execution_count": 51,
   "id": "6626990e",
   "metadata": {},
   "outputs": [],
   "source": [
    "cv2.imshow(\"Added Weighted Image\",wimg1)\n",
    "cv2.imshow(\"Added Image\",add21)\n",
    "cv2.waitKey(0)\n",
    "cv2.destroyAllWindows()"
   ]
  },
  {
   "cell_type": "markdown",
   "id": "a616d848",
   "metadata": {},
   "source": [
    "### We can see that we gave full(1) Weightage to both Input Images and Obtain an Result which can be observed.\n",
    "\n",
    "### This Ouput Image is Same as Normal Addition Image."
   ]
  }
 ],
 "metadata": {
  "kernelspec": {
   "display_name": "Python 3 (ipykernel)",
   "language": "python",
   "name": "python3"
  },
  "language_info": {
   "codemirror_mode": {
    "name": "ipython",
    "version": 3
   },
   "file_extension": ".py",
   "mimetype": "text/x-python",
   "name": "python",
   "nbconvert_exporter": "python",
   "pygments_lexer": "ipython3",
   "version": "3.11.5"
  }
 },
 "nbformat": 4,
 "nbformat_minor": 5
}
