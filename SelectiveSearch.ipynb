{
 "cells": [
  {
   "cell_type": "code",
   "execution_count": 1,
   "id": "89a0d591-4e96-460a-8e50-5d38b3daa5e0",
   "metadata": {},
   "outputs": [],
   "source": [
    "import time\n",
    "import sys\n",
    "import tensorflow as tf\n",
    "import numpy as np\n",
    "import cv2"
   ]
  },
  {
   "cell_type": "markdown",
   "id": "8ec25369-0033-4ea5-b496-002ee32f0da5",
   "metadata": {},
   "source": [
    "### PyImage Blof For Selective Search:-https://pyimagesearch.com/2020/06/29/opencv-selective-search-for-object-detection/?_ga=2.9285301.1422367737.1701858621-1743169504.1688156425\n",
    "\n",
    "### Selective Search Algorithm Documentation:-https://docs.opencv.org/4.x/d6/d6d/classcv_1_1ximgproc_1_1segmentation_1_1SelectiveSearchSegmentation.html"
   ]
  },
  {
   "cell_type": "code",
   "execution_count": 8,
   "id": "6ce7b9a4-51ce-479e-8ce7-86519952570c",
   "metadata": {},
   "outputs": [],
   "source": [
    "SS1= cv2.ximgproc.segmentation.createSelectiveSearchSegmentation()\n",
    "SS2 = cv2.ximgproc.segmentation.createSelectiveSearchSegmentation()"
   ]
  },
  {
   "cell_type": "code",
   "execution_count": 9,
   "id": "293462f4-273b-419e-9d58-bd83ce74c359",
   "metadata": {},
   "outputs": [],
   "source": [
    "img1 = cv2.imread(r\"E:/PyImage_ComputerVision/ObjectDetection/WorkingData/InputData/example_04.jpg\")"
   ]
  },
  {
   "cell_type": "code",
   "execution_count": 15,
   "id": "08d95df0-d793-4ec2-981e-9ac06fb4c133",
   "metadata": {},
   "outputs": [],
   "source": [
    "SS1.setBaseImage(img1)\n",
    "SS2.setBaseImage(img1)"
   ]
  },
  {
   "cell_type": "code",
   "execution_count": 16,
   "id": "e9d19ee1-6fc2-46e1-af12-f74af0732871",
   "metadata": {},
   "outputs": [],
   "source": [
    "SS1.switchToSelectiveSearchFast()\n",
    "SS2.switchToSelectiveSearchQuality()"
   ]
  },
  {
   "cell_type": "code",
   "execution_count": 17,
   "id": "dde167a8-8e56-4b54-b0e3-e090497d4a9c",
   "metadata": {},
   "outputs": [],
   "source": [
    "start = time.time()\n",
    "rects = SS1.process()\n",
    "end = time.time()"
   ]
  },
  {
   "cell_type": "code",
   "execution_count": 18,
   "id": "f8e9f341-9b7c-4440-a6e5-2619d91f3a76",
   "metadata": {},
   "outputs": [
    {
     "data": {
      "text/plain": [
       "1651"
      ]
     },
     "execution_count": 18,
     "metadata": {},
     "output_type": "execute_result"
    }
   ],
   "source": [
    "len(rects)"
   ]
  },
  {
   "cell_type": "code",
   "execution_count": 19,
   "id": "2f97a346-4f58-458c-a835-f8fa6b3be0df",
   "metadata": {},
   "outputs": [
    {
     "data": {
      "text/plain": [
       "0.810833215713501"
      ]
     },
     "execution_count": 19,
     "metadata": {},
     "output_type": "execute_result"
    }
   ],
   "source": [
    "end - start"
   ]
  },
  {
   "cell_type": "code",
   "execution_count": 20,
   "id": "3b5a0f98-d033-4866-abc7-e5b9d9ae8831",
   "metadata": {},
   "outputs": [],
   "source": [
    "strat1 = time.time()\n",
    "rects1 = SS2.process()\n",
    "end1 = time.time()"
   ]
  },
  {
   "cell_type": "code",
   "execution_count": 21,
   "id": "40755189-d0d8-4e9c-9f9e-d84a44f118cb",
   "metadata": {},
   "outputs": [
    {
     "data": {
      "text/plain": [
       "5777"
      ]
     },
     "execution_count": 21,
     "metadata": {},
     "output_type": "execute_result"
    }
   ],
   "source": [
    "len(rects1)"
   ]
  },
  {
   "cell_type": "code",
   "execution_count": 23,
   "id": "6987182c-686d-4971-9663-6796a9f02f05",
   "metadata": {},
   "outputs": [
    {
     "data": {
      "text/plain": [
       "2.6392786502838135"
      ]
     },
     "execution_count": 23,
     "metadata": {},
     "output_type": "execute_result"
    }
   ],
   "source": [
    "end1 - strat1"
   ]
  },
  {
   "cell_type": "code",
   "execution_count": 31,
   "id": "8bfe215b-1c5b-4092-8b59-cb6a95a0c1e4",
   "metadata": {},
   "outputs": [],
   "source": [
    "for idx in range(0,len(rects1),100):\n",
    "    out = img1.copy()\n",
    "    for rect in rects1[idx:idx+100]:\n",
    "        (x,y,w,h) = rect\n",
    "        cv2.rectangle(out,(x,y),(x+w,y+h),(0,255,0),2)\n",
    "    cv2.imshow(\"Out\",out)\n",
    "    key = cv2.waitKey(0) & 0xFF\n",
    "\n",
    "    if key == ord('q'):\n",
    "        cv2.destroyAllWindows()\n",
    "        break"
   ]
  },
  {
   "cell_type": "code",
   "execution_count": null,
   "id": "01c5f690-721b-4876-8dfb-f5e919f9f530",
   "metadata": {},
   "outputs": [],
   "source": []
  },
  {
   "cell_type": "code",
   "execution_count": 32,
   "id": "c2f51ba6-8f4d-4fef-98bf-c52d28a7c371",
   "metadata": {},
   "outputs": [],
   "source": [
    "img2 = cv2.imread(r\"E:/PyImage_ComputerVision/ObjectDetection/WorkingData/InputData/example_02.jpg\")"
   ]
  },
  {
   "cell_type": "code",
   "execution_count": 33,
   "id": "e6763b35-8b68-4880-95f6-ee8a9e06a2d6",
   "metadata": {},
   "outputs": [],
   "source": [
    "SS1.setBaseImage(img2)\n",
    "SS1.switchToSelectiveSearchFast()"
   ]
  },
  {
   "cell_type": "code",
   "execution_count": 34,
   "id": "e3193435-bad1-4b16-b5ed-8f64ea0c2d73",
   "metadata": {},
   "outputs": [],
   "source": [
    "start = time.time()\n",
    "rects2 = SS1.process()\n",
    "end = time.time()"
   ]
  },
  {
   "cell_type": "code",
   "execution_count": 35,
   "id": "52ef3b20-c3ab-4230-b507-be679207c519",
   "metadata": {},
   "outputs": [
    {
     "data": {
      "text/plain": [
       "0.40811824798583984"
      ]
     },
     "execution_count": 35,
     "metadata": {},
     "output_type": "execute_result"
    }
   ],
   "source": [
    "end - start"
   ]
  },
  {
   "cell_type": "code",
   "execution_count": 36,
   "id": "03a7dd10-0c05-4f15-8af2-86fc2bea9779",
   "metadata": {},
   "outputs": [
    {
     "data": {
      "text/plain": [
       "214"
      ]
     },
     "execution_count": 36,
     "metadata": {},
     "output_type": "execute_result"
    }
   ],
   "source": [
    "len(rects2)"
   ]
  },
  {
   "cell_type": "code",
   "execution_count": 37,
   "id": "4edbbfcf-6de7-4837-932e-70a3933364aa",
   "metadata": {},
   "outputs": [],
   "source": [
    "for idx in range(0,len(rects2),100):\n",
    "    out = img2.copy()\n",
    "    for rect in rects2[idx:idx+100]:\n",
    "        (x,y,w,h) = rect\n",
    "        cv2.rectangle(out,(x,y),(x+w,y+h),(0,255,0),2)\n",
    "    cv2.imshow(\"Out\",out)\n",
    "    key = cv2.waitKey(0) & 0xFF\n",
    "\n",
    "    if key == ord('q'):\n",
    "        cv2.destroyAllWindows()\n",
    "        break"
   ]
  },
  {
   "cell_type": "code",
   "execution_count": 39,
   "id": "fd1bb3d7-bb26-43c8-8284-9b2d56b6c7b7",
   "metadata": {},
   "outputs": [
    {
     "data": {
      "text/plain": [
       "numpy.ndarray"
      ]
     },
     "execution_count": 39,
     "metadata": {},
     "output_type": "execute_result"
    }
   ],
   "source": [
    "type(rects2)"
   ]
  },
  {
   "cell_type": "code",
   "execution_count": 40,
   "id": "096c9fdc-a6aa-4887-9fb6-ad9f31508443",
   "metadata": {},
   "outputs": [
    {
     "data": {
      "text/plain": [
       "(214, 4)"
      ]
     },
     "execution_count": 40,
     "metadata": {},
     "output_type": "execute_result"
    }
   ],
   "source": [
    "rects2.shape"
   ]
  },
  {
   "cell_type": "code",
   "execution_count": 56,
   "id": "c645cf97-82b8-4f9c-bc4b-4de21fc88e54",
   "metadata": {},
   "outputs": [],
   "source": [
    "def equalize(rec1,rec2):\n",
    "    (x1,y1,w1,h1) = rec1\n",
    "    (x2,y2,w2,h2) = rec2\n",
    "    d1 = abs(x1-x2)\n",
    "    d2 = abs(y1-y2)\n",
    "    d3 = abs(h1-h2)\n",
    "    d4 = abs(w1-w2)\n",
    "    if d1<=1 and d2<=1 and d3<=1 and d4<=1:\n",
    "        return True\n",
    "    else:\n",
    "        return False"
   ]
  },
  {
   "cell_type": "code",
   "execution_count": 57,
   "id": "601a7879-dc2e-4fa8-8c3f-3231fdb9615d",
   "metadata": {},
   "outputs": [],
   "source": [
    "def filter_array(arr):\n",
    "    lst = [arr[0]]\n",
    "    for ele in arr[1:]:\n",
    "        fg = True\n",
    "        for ele2 in lst:\n",
    "            if equalize(ele,ele2):\n",
    "                fg = False\n",
    "                break\n",
    "        if fg:\n",
    "            lst.append(ele)\n",
    "    return lst"
   ]
  },
  {
   "cell_type": "code",
   "execution_count": 58,
   "id": "d29d5f49-0e64-4637-995a-943464d600f5",
   "metadata": {},
   "outputs": [],
   "source": [
    "fg = filter_array(rects)"
   ]
  },
  {
   "cell_type": "code",
   "execution_count": 59,
   "id": "f25304ab-3ae7-4623-9142-ffe551619c40",
   "metadata": {},
   "outputs": [
    {
     "data": {
      "text/plain": [
       "1651"
      ]
     },
     "execution_count": 59,
     "metadata": {},
     "output_type": "execute_result"
    }
   ],
   "source": [
    "len(rects)"
   ]
  },
  {
   "cell_type": "code",
   "execution_count": 60,
   "id": "649dfb86-a555-44eb-beab-a9ea19c50eb4",
   "metadata": {},
   "outputs": [
    {
     "data": {
      "text/plain": [
       "1473"
      ]
     },
     "execution_count": 60,
     "metadata": {},
     "output_type": "execute_result"
    }
   ],
   "source": [
    "len(fg)"
   ]
  },
  {
   "cell_type": "code",
   "execution_count": null,
   "id": "db79188e-6511-4862-9802-bbe309f9ad7b",
   "metadata": {},
   "outputs": [],
   "source": []
  }
 ],
 "metadata": {
  "kernelspec": {
   "display_name": "Python 3 (ipykernel)",
   "language": "python",
   "name": "python3"
  },
  "language_info": {
   "codemirror_mode": {
    "name": "ipython",
    "version": 3
   },
   "file_extension": ".py",
   "mimetype": "text/x-python",
   "name": "python",
   "nbconvert_exporter": "python",
   "pygments_lexer": "ipython3",
   "version": "3.10.0"
  }
 },
 "nbformat": 4,
 "nbformat_minor": 5
}
