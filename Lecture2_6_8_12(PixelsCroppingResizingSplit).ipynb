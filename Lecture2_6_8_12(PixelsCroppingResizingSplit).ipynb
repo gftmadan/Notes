{
 "cells": [
  {
   "cell_type": "code",
   "execution_count": 4,
   "id": "b3a3d857",
   "metadata": {},
   "outputs": [],
   "source": [
    "import cv2\n",
    "import numpy as np"
   ]
  },
  {
   "cell_type": "markdown",
   "id": "d5526729",
   "metadata": {},
   "source": [
    "# ------------------------------------------------------------------------------------------------------------"
   ]
  },
  {
   "cell_type": "markdown",
   "id": "d303ef3d",
   "metadata": {},
   "source": [
    "# Getting Pixel Values of an Image\n",
    "\n"
   ]
  },
  {
   "cell_type": "markdown",
   "id": "d83863db",
   "metadata": {},
   "source": [
    "### Reading an Image which is divided into even quaters of different Colors "
   ]
  },
  {
   "cell_type": "code",
   "execution_count": 5,
   "id": "b5e839e9",
   "metadata": {},
   "outputs": [],
   "source": [
    "img = cv2.imread(r\"E:\\PyImage_ComputerVision\\OpenCVBasic\\WorkingData\\InputData\\lc2.png\")"
   ]
  },
  {
   "cell_type": "code",
   "execution_count": 6,
   "id": "437a2bd4",
   "metadata": {},
   "outputs": [],
   "source": [
    "cv2.imshow(\"Image\",img)\n",
    "cv2.waitKey(0)\n",
    "cv2.destroyAllWindows()"
   ]
  },
  {
   "cell_type": "markdown",
   "id": "1fd31563",
   "metadata": {},
   "source": [
    "## Important Points About Image Co-ordinate System \n",
    "\n",
    "## 1)Now the origin of the image is the Top-Left Corner and X axis is the axis along the Width and Y axis is the axis along the Height\n",
    "## 2)If an Point is situated at (x,y) in The image space then we will locate it in The Numpy Array using `img[y,x]` bcoz we know in numpy images are (height,width,channels)"
   ]
  },
  {
   "cell_type": "code",
   "execution_count": 7,
   "id": "f21367f3",
   "metadata": {},
   "outputs": [],
   "source": [
    "pix = img[305,500]"
   ]
  },
  {
   "cell_type": "code",
   "execution_count": 8,
   "id": "4cc4a926",
   "metadata": {},
   "outputs": [
    {
     "name": "stdout",
     "output_type": "stream",
     "text": [
      "Blue Value:-0\n",
      "Green Value:-255\n",
      "Red Value:-255\n"
     ]
    }
   ],
   "source": [
    "b,g,r = pix\n",
    "print(f\"Blue Value:-{b}\\nGreen Value:-{g}\\nRed Value:-{r}\")"
   ]
  },
  {
   "cell_type": "markdown",
   "id": "b5833ab9",
   "metadata": {},
   "source": [
    "### In the Above  Cells we can see that the Color Channel Ordering in cv2 is in BGR Format(not in convenctionaly used RGB Format)"
   ]
  },
  {
   "cell_type": "markdown",
   "id": "7374102e",
   "metadata": {},
   "source": [
    "# -------------------------------------------------------------------------------------------------------------"
   ]
  },
  {
   "cell_type": "markdown",
   "id": "adb54423",
   "metadata": {},
   "source": [
    "# Extracting Region of Images(Colection of Pixels)\n",
    "\n",
    "## We can use NUMPY Array Slicing to extract Region Of Intreset from the image "
   ]
  },
  {
   "cell_type": "code",
   "execution_count": 9,
   "id": "73b7e4cf",
   "metadata": {},
   "outputs": [],
   "source": [
    "# Extracting Full Yellow Region\n",
    "img1 = img[300:600,400:600]\n",
    "\n",
    "# Extracting Parts of White and Red Region\n",
    "img2 = img[400:600,100:300]\n",
    "\n",
    "# Extracting Parts of Green And Blue Region\n",
    "img3 = img[100:250,350:500]\n",
    "\n",
    "cv2.imshow(\"Original Image\",img)\n",
    "cv2.imshow(\"Yellow\",img1)\n",
    "cv2.imshow(\"WhiteRed\",img2)\n",
    "cv2.imshow(\"GreenBlue\",img3)\n",
    "cv2.waitKey(0)\n",
    "cv2.destroyAllWindows()"
   ]
  },
  {
   "cell_type": "markdown",
   "id": "7405274c",
   "metadata": {},
   "source": [
    "## **NOTE:-While extracting the region from the image we should be knowing the cordinates of the boundary of the Region we want"
   ]
  },
  {
   "cell_type": "markdown",
   "id": "54044a0f",
   "metadata": {},
   "source": [
    "# ----------------------------------------------------------------------------------------------------------"
   ]
  },
  {
   "cell_type": "markdown",
   "id": "acb09506",
   "metadata": {},
   "source": [
    "# Setting Pixel Values of Some Regions of Image"
   ]
  },
  {
   "cell_type": "markdown",
   "id": "dbed19b4",
   "metadata": {},
   "source": [
    "## We can use NUMPY Array Slicing and Elements Assigning for Setting pixels of some regions of an Image"
   ]
  },
  {
   "cell_type": "code",
   "execution_count": 10,
   "id": "f4b20008",
   "metadata": {},
   "outputs": [],
   "source": [
    "#Setting some Regions\n",
    "img2 = img.copy()\n",
    "img2[200:400,:] = (0,0,0)"
   ]
  },
  {
   "cell_type": "code",
   "execution_count": 11,
   "id": "35b94d71",
   "metadata": {},
   "outputs": [],
   "source": [
    "cv2.imshow(\"Original Image\",img)\n",
    "cv2.imshow(\"New Image\",img2)\n",
    "cv2.waitKey(0)\n",
    "cv2.destroyAllWindows()"
   ]
  },
  {
   "cell_type": "markdown",
   "id": "e67f8c2e",
   "metadata": {},
   "source": [
    "### As we can see in above cell we setted a part of image to black color!\n",
    "\n",
    "## **NOTE:-Whenever we are setting an image remeber to enter pixels values in BGR Color Format"
   ]
  },
  {
   "cell_type": "markdown",
   "id": "4a01a1a6",
   "metadata": {},
   "source": [
    "# ---------------------------------------------------------------------------------------------------------"
   ]
  },
  {
   "cell_type": "markdown",
   "id": "be1af9d8",
   "metadata": {},
   "source": [
    "# Cropping Image:-\n",
    "\n",
    "## Croping an Image is the same as extracting a region of an image\n",
    "\n",
    "### For this example we will be using a Person Image and Cropping its face and body "
   ]
  },
  {
   "cell_type": "code",
   "execution_count": 12,
   "id": "5ce5c966",
   "metadata": {},
   "outputs": [],
   "source": [
    "pr1 = cv2.imread(r\"E:\\PyImage_ComputerVision\\OpenCVBasic\\WorkingData\\InputData\\adrian.png\")"
   ]
  },
  {
   "cell_type": "code",
   "execution_count": 13,
   "id": "3e74a6f3",
   "metadata": {},
   "outputs": [
    {
     "data": {
      "text/plain": [
       "(450, 600, 3)"
      ]
     },
     "execution_count": 13,
     "metadata": {},
     "output_type": "execute_result"
    }
   ],
   "source": [
    "pr1.shape"
   ]
  },
  {
   "cell_type": "markdown",
   "id": "ec61a184",
   "metadata": {},
   "source": [
    "## As we know to Extract a Region we should know its Region's Boundary Co-ordinates and we can get these Co-ordinates from Photoshop Tools and Even from using some concepts in OpenCV"
   ]
  },
  {
   "cell_type": "code",
   "execution_count": 14,
   "id": "6095bad5",
   "metadata": {},
   "outputs": [],
   "source": [
    "# Assuming That I know the Co-ordinates of the Face and Body\n",
    "\n",
    "face = pr1[85:250,85:228]\n",
    "body = pr1[260:450,:290]\n",
    "\n",
    "cv2.imshow(\"Person Image\",pr1)\n",
    "cv2.imshow(\"Face Image\",face)\n",
    "cv2.imshow(\"Body Image\",body)\n",
    "cv2.waitKey(0)\n",
    "cv2.destroyAllWindows()"
   ]
  },
  {
   "cell_type": "markdown",
   "id": "e80ceba5",
   "metadata": {},
   "source": [
    "# --------------------------------------------------------------------------------------------------------------"
   ]
  },
  {
   "cell_type": "markdown",
   "id": "4f34bf0e",
   "metadata": {},
   "source": [
    "# Splilting the Image Into Respective Color Channel\n",
    "\n",
    "## To split the Image into Respective Color Channel we use `cv2.split()`.\n",
    "#### cv2.spilt():-[LINK](https://docs.opencv.org/4.x/d2/de8/group__core__array.html#ga0547c7fed86152d7e9d0096029c8518a)"
   ]
  },
  {
   "cell_type": "code",
   "execution_count": 15,
   "id": "4701f4d8",
   "metadata": {},
   "outputs": [],
   "source": [
    "img = cv2.imread(r\"E:\\PyImage_ComputerVision\\OpenCVBasic\\WorkingData\\InputData\\opencv.png\")"
   ]
  },
  {
   "cell_type": "code",
   "execution_count": 16,
   "id": "119f062e",
   "metadata": {},
   "outputs": [
    {
     "data": {
      "text/plain": [
       "(554, 450, 3)"
      ]
     },
     "execution_count": 16,
     "metadata": {},
     "output_type": "execute_result"
    }
   ],
   "source": [
    "img.shape"
   ]
  },
  {
   "cell_type": "code",
   "execution_count": 17,
   "id": "1272f9d2",
   "metadata": {},
   "outputs": [],
   "source": [
    "B,G,R = cv2.split(img)"
   ]
  },
  {
   "cell_type": "code",
   "execution_count": 18,
   "id": "49a1146c",
   "metadata": {},
   "outputs": [
    {
     "data": {
      "text/plain": [
       "(554, 450)"
      ]
     },
     "execution_count": 18,
     "metadata": {},
     "output_type": "execute_result"
    }
   ],
   "source": [
    "B.shape"
   ]
  },
  {
   "cell_type": "code",
   "execution_count": 19,
   "id": "cafdf434",
   "metadata": {},
   "outputs": [
    {
     "data": {
      "text/plain": [
       "(554, 450)"
      ]
     },
     "execution_count": 19,
     "metadata": {},
     "output_type": "execute_result"
    }
   ],
   "source": [
    "G.shape"
   ]
  },
  {
   "cell_type": "code",
   "execution_count": 20,
   "id": "35286531",
   "metadata": {},
   "outputs": [
    {
     "data": {
      "text/plain": [
       "(554, 450)"
      ]
     },
     "execution_count": 20,
     "metadata": {},
     "output_type": "execute_result"
    }
   ],
   "source": [
    "R.shape"
   ]
  },
  {
   "cell_type": "code",
   "execution_count": 21,
   "id": "8678ed5b",
   "metadata": {},
   "outputs": [],
   "source": [
    "cv2.imshow(\"Normal Image\",img)\n",
    "cv2.imshow(\"Blue Channel\",B)\n",
    "cv2.imshow(\"Green Channel\",G)\n",
    "cv2.imshow(\"Red Channel\",R)\n",
    "cv2.waitKey(0)\n",
    "cv2.destroyAllWindows()"
   ]
  },
  {
   "cell_type": "markdown",
   "id": "d3c624c5",
   "metadata": {},
   "source": [
    "## As we can notice in the above cells and its Output that :-\n",
    "\n",
    "### 1)The `cv2.split()` function spilts the colored image into B,G,R Channels Respectively.\n",
    "### 2)If a part of an Image is Full RED then its Itensity in the Red Channel will be 255 so while viewing in cv2.imshow() Method it will be in white color.(If the Color of the BackGround is White then it will be MIxed with it).Same will be applicable for all colors and its Itensities."
   ]
  },
  {
   "cell_type": "code",
   "execution_count": 22,
   "id": "010bf715",
   "metadata": {},
   "outputs": [],
   "source": [
    "img1 = cv2.imread(r\"E:\\PyImage_ComputerVision\\OpenCVBasic\\WorkingData\\InputData\\lc2.png\")"
   ]
  },
  {
   "cell_type": "code",
   "execution_count": 23,
   "id": "6fa3aea4",
   "metadata": {},
   "outputs": [],
   "source": [
    "B,G,R = cv2.split(img1)"
   ]
  },
  {
   "cell_type": "code",
   "execution_count": 24,
   "id": "ed1048e7",
   "metadata": {},
   "outputs": [
    {
     "data": {
      "text/plain": [
       "(600, 600, 3)"
      ]
     },
     "execution_count": 24,
     "metadata": {},
     "output_type": "execute_result"
    }
   ],
   "source": [
    "img1.shape"
   ]
  },
  {
   "cell_type": "code",
   "execution_count": 25,
   "id": "99b7a4e1",
   "metadata": {},
   "outputs": [
    {
     "data": {
      "text/plain": [
       "(600, 600)"
      ]
     },
     "execution_count": 25,
     "metadata": {},
     "output_type": "execute_result"
    }
   ],
   "source": [
    "B.shape"
   ]
  },
  {
   "cell_type": "code",
   "execution_count": 26,
   "id": "f516eb80",
   "metadata": {},
   "outputs": [
    {
     "data": {
      "text/plain": [
       "(600, 600)"
      ]
     },
     "execution_count": 26,
     "metadata": {},
     "output_type": "execute_result"
    }
   ],
   "source": [
    "G.shape"
   ]
  },
  {
   "cell_type": "code",
   "execution_count": 27,
   "id": "b40b3c19",
   "metadata": {},
   "outputs": [
    {
     "data": {
      "text/plain": [
       "(600, 600)"
      ]
     },
     "execution_count": 27,
     "metadata": {},
     "output_type": "execute_result"
    }
   ],
   "source": [
    "R.shape"
   ]
  },
  {
   "cell_type": "code",
   "execution_count": 28,
   "id": "918c41f2",
   "metadata": {},
   "outputs": [],
   "source": [
    "cv2.imshow(\"Normal Image\",img1)\n",
    "cv2.imshow(\"Blue Channel\",B)\n",
    "cv2.imshow(\"Green Channel\",G)\n",
    "cv2.imshow(\"Red Channel\",R)\n",
    "cv2.waitKey(0)\n",
    "cv2.destroyAllWindows()"
   ]
  },
  {
   "cell_type": "markdown",
   "id": "4402ea2f",
   "metadata": {},
   "source": [
    "## Now explaining each Spliited Image imshow() output:-\n",
    "\n",
    "### 1) For Blue Splitted Image it has 255 for the the Blue Part and also for White part(because white means all three Channels are with Full intensities).\n",
    "### 2)For Green Splitted Image it has 255 for the Green and White Part and also for Yellow part(because yellow color is BGR (0,255,255).\n",
    "### 3)For Red Splitted Image it has 255 for the Red and White Part and also for Yellow Part(because yellow color is BGR (0,255,255)."
   ]
  },
  {
   "cell_type": "code",
   "execution_count": 29,
   "id": "29d71a0c",
   "metadata": {},
   "outputs": [],
   "source": [
    "img2 = cv2.cvtColor(img1,cv2.COLOR_BGR2GRAY)\n",
    "cv2.imshow(\"Normal Image\",img1)\n",
    "cv2.imshow(\"GrayScale Image\",img2)\n",
    "cv2.waitKey(0)\n",
    "cv2.destroyAllWindows()"
   ]
  },
  {
   "cell_type": "code",
   "execution_count": 6,
   "id": "0ad6dbca",
   "metadata": {},
   "outputs": [],
   "source": [
    "fg = cv2.split(img2)"
   ]
  },
  {
   "cell_type": "code",
   "execution_count": 7,
   "id": "90331896",
   "metadata": {},
   "outputs": [
    {
     "data": {
      "text/plain": [
       "tuple"
      ]
     },
     "execution_count": 7,
     "metadata": {},
     "output_type": "execute_result"
    }
   ],
   "source": [
    "type(fg)"
   ]
  },
  {
   "cell_type": "code",
   "execution_count": 8,
   "id": "e456696c",
   "metadata": {},
   "outputs": [
    {
     "data": {
      "text/plain": [
       "1"
      ]
     },
     "execution_count": 8,
     "metadata": {},
     "output_type": "execute_result"
    }
   ],
   "source": [
    "len(fg)"
   ]
  },
  {
   "cell_type": "code",
   "execution_count": 10,
   "id": "a683ba41",
   "metadata": {},
   "outputs": [],
   "source": [
    "img2 = cv2.cvtColor(img1,cv2.COLOR_BGR2GRAY)\n",
    "cv2.imshow(\"Normal Image\",img1)\n",
    "cv2.imshow(\"GrayScale Image\",img2)\n",
    "cv2.imshow(\"Splitted Image\",fg[0])\n",
    "cv2.waitKey(0)\n",
    "cv2.destroyAllWindows()"
   ]
  },
  {
   "cell_type": "markdown",
   "id": "65169abb",
   "metadata": {},
   "source": [
    "## Hence we can see that Its return only Splitted Channel which is More clear of the Intensities but should not used bcoz not clear what it represents."
   ]
  },
  {
   "cell_type": "code",
   "execution_count": 11,
   "id": "03c99769",
   "metadata": {},
   "outputs": [],
   "source": [
    "img4 = cv2.cvtColor(img1,cv2.COLOR_BGR2BGRA)"
   ]
  },
  {
   "cell_type": "code",
   "execution_count": 12,
   "id": "d8f0fcf8",
   "metadata": {},
   "outputs": [
    {
     "data": {
      "text/plain": [
       "(600, 600, 4)"
      ]
     },
     "execution_count": 12,
     "metadata": {},
     "output_type": "execute_result"
    }
   ],
   "source": [
    "img4.shape"
   ]
  },
  {
   "cell_type": "code",
   "execution_count": 13,
   "id": "7aa7eda4",
   "metadata": {},
   "outputs": [],
   "source": [
    "fg1 = cv2.split(img4)"
   ]
  },
  {
   "cell_type": "code",
   "execution_count": 14,
   "id": "4c45688a",
   "metadata": {},
   "outputs": [
    {
     "data": {
      "text/plain": [
       "4"
      ]
     },
     "execution_count": 14,
     "metadata": {},
     "output_type": "execute_result"
    }
   ],
   "source": [
    "len(fg1)"
   ]
  },
  {
   "cell_type": "code",
   "execution_count": 15,
   "id": "0c5e2a02",
   "metadata": {},
   "outputs": [],
   "source": [
    "B,G,R,A = fg1"
   ]
  },
  {
   "cell_type": "code",
   "execution_count": 16,
   "id": "8788dd49",
   "metadata": {},
   "outputs": [],
   "source": [
    "cv2.imshow(\"Normal Image\",img4)\n",
    "cv2.imshow(\"Blue Channel\",B)\n",
    "cv2.imshow(\"Green Channel\",G)\n",
    "cv2.imshow(\"Red Channel\",R)\n",
    "cv2.imshow(\"Aplha Channel\",A)\n",
    "cv2.waitKey(0)\n",
    "cv2.destroyAllWindows()"
   ]
  },
  {
   "cell_type": "markdown",
   "id": "0ee15f08",
   "metadata": {},
   "source": [
    "## We can see it can also Split Aplha channel if the Image has an alpha channel."
   ]
  },
  {
   "cell_type": "markdown",
   "id": "ea0fce56",
   "metadata": {},
   "source": [
    "# ---------------------------------------------------------------------------------------------------------------"
   ]
  },
  {
   "cell_type": "markdown",
   "id": "072a591f",
   "metadata": {},
   "source": [
    "# Resizing"
   ]
  },
  {
   "cell_type": "markdown",
   "id": "3366af95",
   "metadata": {},
   "source": [
    "### Simple Rescaling Or Resizing the Image is the simple process of Increasing or Decreasing the Size of an Image in respect to its Width or Height."
   ]
  },
  {
   "cell_type": "markdown",
   "id": "dd08579c",
   "metadata": {},
   "source": [
    "## Reasons for Resizing Images in Computer Vision Algorithms:-\n",
    "\n",
    "### 1)Mainly We Resize High Resolution Images because Larger the Image the more data it contains therefore it takes longer for the algorithm to process them.\n",
    "### 2)Even Though High Resolution Images have High Grained Details Still we are more intrested in the Structural Components of the Images for Computer Vision Images.\n",
    "\n",
    "## Hence we can say that Larger Resolution Images are DownSampled to help Computer Vision System to run Faster and more Accurate."
   ]
  },
  {
   "cell_type": "markdown",
   "id": "bcd384cd",
   "metadata": {},
   "source": [
    "### -->Whenever Resizing Images,its important to keep in mind ASPECT RATIO.Ignoring the ASPECT Ratio can cause Distorted and Compressed Images shown below:-"
   ]
  },
  {
   "attachments": {
    "opencv_resize_no_aspect_ratio.webp": {
     "image/webp": "[encoded data removed]"
    }
   },
   "cell_type": "markdown",
   "id": "ea3241d1",
   "metadata": {},
   "source": [
    "![opencv_resize_no_aspect_ratio.webp](attachment:opencv_resize_no_aspect_ratio.webp)"
   ]
  },
  {
   "cell_type": "markdown",
   "id": "1ff0e212",
   "metadata": {},
   "source": [
    "### -->While Resizing Images in OpenCv we should be carefull about INTERPOLATION METHOD we are using.The Goal of INTERPOLATION METHOD are to use the Neighbourhood Pixels to Increase or Decrease the Size of Images.\n",
    "\n",
    "### -->In General,Its better to Decrease the size of an Image,because the INTERPOLATION FUNCTION has to Remove Pixels for an Image which far more easier and Resulting Image are Far more Accurate.\n",
    "\n",
    "### -->While Increasing the size of an Image,the INTERPOLATION FUNCTION has to fill the gaps between the Pixels of the Images that previously didnot existed hence Resuling Images are Far less Accurate."
   ]
  },
  {
   "cell_type": "markdown",
   "id": "ec1dc599",
   "metadata": {},
   "source": [
    "## -->To Resize our Image in OpenCV we use `cv2.resize()` Method.\n",
    "\n",
    "#### cv2.resize():-[LINK](https://docs.opencv.org/4.x/da/d54/group__imgproc__transform.html#ga47a974309e9102f5f08231edc7e7529d)\n",
    "#### INTERPOLATION FLAGS:-[LINK](https://docs.opencv.org/4.x/da/d54/group__imgproc__transform.html#ga5bb5a1fea74ea38e1a5445ca803ff121)"
   ]
  },
  {
   "cell_type": "markdown",
   "id": "f40d6836",
   "metadata": {},
   "source": [
    "### Now for `cv2.resize()` Method:-\n",
    "\n",
    "### < First Argument >:- It takes the NUMPY Array of the Image we want to Resize.\n",
    "### < Second Argument >:- It takes a Tuple containing (New Width,New Height).\n",
    "### < Third Argument >(fx):- It takes the Scale Factor along the Horizontal Axis.\n",
    "### < Fourth Argument >(fy):- It takes the Scale Factor along the Vertical Axis.\n",
    "### < Fifth Argument >:-It takes the INTERPOLATION Flag."
   ]
  },
  {
   "cell_type": "code",
   "execution_count": 2,
   "id": "48a22cbf",
   "metadata": {},
   "outputs": [],
   "source": [
    "img = cv2.imread(r\"E:\\PyImage_ComputerVision\\OpenCVBasic\\WorkingData\\InputData\\adrian.png\")"
   ]
  },
  {
   "cell_type": "code",
   "execution_count": 7,
   "id": "0898270c",
   "metadata": {},
   "outputs": [],
   "source": [
    "cv2.imshow(\"Normal Image\",img)\n",
    "cv2.waitKey(0)\n",
    "cv2.destroyAllWindows()"
   ]
  },
  {
   "cell_type": "code",
   "execution_count": 4,
   "id": "e483dd06",
   "metadata": {},
   "outputs": [],
   "source": [
    "h,w,_ = img.shape"
   ]
  },
  {
   "cell_type": "code",
   "execution_count": 5,
   "id": "0c848e63",
   "metadata": {},
   "outputs": [
    {
     "data": {
      "text/plain": [
       "450"
      ]
     },
     "execution_count": 5,
     "metadata": {},
     "output_type": "execute_result"
    }
   ],
   "source": [
    "h"
   ]
  },
  {
   "cell_type": "code",
   "execution_count": 6,
   "id": "b3662d44",
   "metadata": {},
   "outputs": [
    {
     "data": {
      "text/plain": [
       "600"
      ]
     },
     "execution_count": 6,
     "metadata": {},
     "output_type": "execute_result"
    }
   ],
   "source": [
    "w"
   ]
  },
  {
   "cell_type": "markdown",
   "id": "8dc811c8",
   "metadata": {},
   "source": [
    "## DownSampling the Image while Maintaining the ASPECT RATIO\n",
    "\n",
    "### Considering we want the New Width to be 224."
   ]
  },
  {
   "cell_type": "code",
   "execution_count": 11,
   "id": "697322d8",
   "metadata": {},
   "outputs": [],
   "source": [
    "nw = 224"
   ]
  },
  {
   "cell_type": "code",
   "execution_count": 15,
   "id": "a46b018e",
   "metadata": {},
   "outputs": [],
   "source": [
    "ar = nw / w\n",
    "nh = int(ar * h)"
   ]
  },
  {
   "cell_type": "code",
   "execution_count": 16,
   "id": "44bfc390",
   "metadata": {},
   "outputs": [],
   "source": [
    "rsz1 = cv2.resize(img,(nw,nh),interpolation=cv2.INTER_AREA)"
   ]
  },
  {
   "cell_type": "code",
   "execution_count": 17,
   "id": "e661ddbf",
   "metadata": {},
   "outputs": [],
   "source": [
    "cv2.imshow(\"Normal Image\",img)\n",
    "cv2.imshow(\"Resize1\",rsz1)\n",
    "cv2.waitKey(0)\n",
    "cv2.destroyAllWindows()"
   ]
  },
  {
   "cell_type": "code",
   "execution_count": 18,
   "id": "05672adf",
   "metadata": {},
   "outputs": [
    {
     "data": {
      "text/plain": [
       "(168, 224, 3)"
      ]
     },
     "execution_count": 18,
     "metadata": {},
     "output_type": "execute_result"
    }
   ],
   "source": [
    "rsz1.shape"
   ]
  },
  {
   "cell_type": "markdown",
   "id": "61b126e9",
   "metadata": {},
   "source": [
    "### As we can see in the above cells we Maintained the Aspect Ratio by following the Methods shown below:-\n",
    "\n",
    "### 1)First we calculated the Ratio of New Width to Old Width.\n",
    "### 2)Then we calculated the New Height by Multiplying the Ratio with Old Height thus preserving the ASPECT RATIO."
   ]
  },
  {
   "cell_type": "markdown",
   "id": "e634cefc",
   "metadata": {},
   "source": [
    "## UpScaling the Image while Maintaining the ASPECT RATIO\n",
    "\n",
    "### Consider the New Height we want to be 700"
   ]
  },
  {
   "cell_type": "code",
   "execution_count": 19,
   "id": "eb5df6e9",
   "metadata": {},
   "outputs": [],
   "source": [
    "nh = 700"
   ]
  },
  {
   "cell_type": "code",
   "execution_count": 20,
   "id": "db10076e",
   "metadata": {},
   "outputs": [],
   "source": [
    "ar = nh / h\n",
    "nw = int(w * ar)"
   ]
  },
  {
   "cell_type": "code",
   "execution_count": 21,
   "id": "bfbff138",
   "metadata": {},
   "outputs": [],
   "source": [
    "rsz2 = cv2.resize(img,(nw,nh),interpolation=cv2.INTER_CUBIC)"
   ]
  },
  {
   "cell_type": "code",
   "execution_count": 22,
   "id": "b4bdcc3f",
   "metadata": {},
   "outputs": [],
   "source": [
    "cv2.imshow(\"Normal Image\",img)\n",
    "cv2.imshow(\"UpScalled Image\",rsz2)\n",
    "cv2.waitKey(0)\n",
    "cv2.destroyAllWindows()"
   ]
  },
  {
   "cell_type": "code",
   "execution_count": 24,
   "id": "6735cc93",
   "metadata": {},
   "outputs": [
    {
     "data": {
      "text/plain": [
       "(700, 933, 3)"
      ]
     },
     "execution_count": 24,
     "metadata": {},
     "output_type": "execute_result"
    }
   ],
   "source": [
    "rsz2.shape"
   ]
  },
  {
   "cell_type": "markdown",
   "id": "c78c85a0",
   "metadata": {},
   "source": [
    "### As we can see we UpScalled an Image while Maintaining the ASPECT RATIO.\n",
    "\n",
    "### And used the same methods has used in Above Example."
   ]
  },
  {
   "cell_type": "markdown",
   "id": "30598954",
   "metadata": {},
   "source": [
    "## -->Which INTERPOLATION Method to Use and When?"
   ]
  },
  {
   "cell_type": "markdown",
   "id": "3acd92a4",
   "metadata": {},
   "source": [
    "### Here are some Information of Usage of the Different InterPolation Methods:-\n",
    "\n",
    "### 1)`cv2.INTER_NEAREST` is the Fastest Interpolation Method but doesnot provide High Quality Results.So we should be using it in very Resource-Constrained Environment.\n",
    "\n",
    "### 2)While UpScalling an Image we should either use `cv2.INTER_LINEAR` or `cv2.INTER_CUBIC`.INTER_LINEAR is faster than INTER_CUBIC ,but INTER_CUBIC generally provide little better results than INTER_LINEAR.\n",
    "\n",
    "### 3)While DownSampling an Image we should use `cv2.INTER_AREA`.It yields more aesthetically pleasing results.\n",
    "\n",
    "## **Note:-`cv2.INTER_LINEAR` is recomended as Default for both DownSampling and UpScaling Images,because it provide High Quality Results at a Modest Computation Cost."
   ]
  },
  {
   "cell_type": "markdown",
   "id": "5d68a965",
   "metadata": {},
   "source": [
    "# --------------------------------------------------------------------------------------------------------------"
   ]
  }
 ],
 "metadata": {
  "kernelspec": {
   "display_name": "Python 3 (ipykernel)",
   "language": "python",
   "name": "python3"
  },
  "language_info": {
   "codemirror_mode": {
    "name": "ipython",
    "version": 3
   },
   "file_extension": ".py",
   "mimetype": "text/x-python",
   "name": "python",
   "nbconvert_exporter": "python",
   "pygments_lexer": "ipython3",
   "version": "3.11.5"
  }
 },
 "nbformat": 4,
 "nbformat_minor": 5
}
