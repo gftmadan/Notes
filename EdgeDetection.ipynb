{
 "cells": [
  {
   "cell_type": "code",
   "execution_count": 1,
   "id": "58c4db49",
   "metadata": {},
   "outputs": [],
   "source": [
    "import cv2\n",
    "import numpy as np"
   ]
  },
  {
   "cell_type": "code",
   "execution_count": null,
   "id": "0e840644",
   "metadata": {},
   "outputs": [],
   "source": []
  },
  {
   "cell_type": "code",
   "execution_count": 2,
   "id": "236cf400",
   "metadata": {},
   "outputs": [],
   "source": [
    "cn = cv2.imread(r\"E:\\PyImage_ComputerVision\\OpenCVBasic\\WorkingData\\InputData\\coins1.png\")\n",
    "cn_gray = cv2.cvtColor(cn,cv2.COLOR_BGR2GRAY)"
   ]
  },
  {
   "cell_type": "code",
   "execution_count": 3,
   "id": "5315aac8",
   "metadata": {},
   "outputs": [],
   "source": [
    "blur5 = cv2.GaussianBlur(cn_gray,(5,5),0)\n",
    "blur7 = cv2.GaussianBlur(cn_gray,(7,7),0)\n",
    "blur9 = cv2.GaussianBlur(cn_gray,(9,9),0)"
   ]
  },
  {
   "cell_type": "markdown",
   "id": "250ae878",
   "metadata": {},
   "source": [
    "# Edge Detection\n",
    "\n",
    "###"
   ]
  },
  {
   "cell_type": "code",
   "execution_count": 4,
   "id": "868d0ea4",
   "metadata": {},
   "outputs": [],
   "source": [
    "cv2.imshow(\"Gray Scale Image\",cn_gray)\n",
    "cv2.imshow(\"Blur5\",blur5)\n",
    "cv2.imshow(\"Blur7\",blur7)\n",
    "cv2.imshow(\"Blur9\",blur9)\n",
    "cv2.waitKey(0)\n",
    "cv2.destroyAllWindows()"
   ]
  },
  {
   "cell_type": "code",
   "execution_count": 6,
   "id": "f0a17709",
   "metadata": {},
   "outputs": [],
   "source": [
    "TE5_10_200 = cv2.Canny(blur5,10,200)\n",
    "ME5_30_150 = cv2.Canny(blur5,30,150)\n",
    "WE5_125_175 = cv2.Canny(blur5,125,175)"
   ]
  },
  {
   "cell_type": "code",
   "execution_count": 7,
   "id": "2c1d8977",
   "metadata": {},
   "outputs": [],
   "source": [
    "cv2.imshow(\"TE5 10 200\",TE5_10_200)\n",
    "cv2.imshow(\"ME5 30 150\",ME5_30_150)\n",
    "cv2.imshow(\"WE5 125 175\",WE5_125_175)\n",
    "cv2.waitKey(0)\n",
    "cv2.destroyAllWindows()"
   ]
  },
  {
   "cell_type": "code",
   "execution_count": 8,
   "id": "39a818a4",
   "metadata": {},
   "outputs": [],
   "source": [
    "TE5_55_250 = cv2.Canny(blur5,55,250)\n",
    "ME5_90_230 = cv2.Canny(blur5,90,230)\n",
    "WE5_205_255 = cv2.Canny(blur5,205,255)"
   ]
  },
  {
   "cell_type": "code",
   "execution_count": 10,
   "id": "5d4b987e",
   "metadata": {},
   "outputs": [],
   "source": [
    "cv2.imshow(\"TE5 55 250\",TE5_55_250)\n",
    "cv2.imshow(\"ME5 90 230\",ME5_90_230)\n",
    "cv2.imshow(\"WE5 205 255\",WE5_205_255)\n",
    "cv2.waitKey(0)\n",
    "cv2.destroyAllWindows()"
   ]
  },
  {
   "cell_type": "code",
   "execution_count": 11,
   "id": "9b66ab6d",
   "metadata": {},
   "outputs": [],
   "source": [
    "TE5_100_255 = cv2.Canny(blur5,100,255)\n",
    "ME5_150_255 = cv2.Canny(blur5,150,255)\n",
    "WE5_100_150 = cv2.Canny(blur5,100,150)"
   ]
  },
  {
   "cell_type": "code",
   "execution_count": 21,
   "id": "ae643030",
   "metadata": {},
   "outputs": [],
   "source": [
    "cv2.imshow(\"TE5 100 255\",TE5_100_255)\n",
    "cv2.imshow(\"ME5 150 255\",ME5_150_255)\n",
    "cv2.imshow(\"WE5 100 150\",WE5_100_150)\n",
    "cv2.waitKey(0)\n",
    "cv2.destroyAllWindows()"
   ]
  },
  {
   "cell_type": "code",
   "execution_count": 13,
   "id": "b1b426cc",
   "metadata": {},
   "outputs": [],
   "source": [
    "def auto_canny(image, sigma=0.33):\n",
    "    # compute the median of the single channel pixel intensities\n",
    "    v = np.median(image)\n",
    "\n",
    "    # apply automatic Canny edge detection using the computed median\n",
    "    lower = int(max(0, (1.0 - sigma) * v))\n",
    "    upper = int(min(255, (1.0 + sigma) * v))\n",
    "    print(lower,upper)"
   ]
  },
  {
   "cell_type": "code",
   "execution_count": 14,
   "id": "4b9cb4d4",
   "metadata": {},
   "outputs": [
    {
     "name": "stdout",
     "output_type": "stream",
     "text": [
      "170 255\n"
     ]
    }
   ],
   "source": [
    "auto_canny(blur5)"
   ]
  },
  {
   "cell_type": "code",
   "execution_count": 15,
   "id": "93222b04",
   "metadata": {},
   "outputs": [],
   "source": [
    "AEC = cv2.Canny(blur5,170,255)"
   ]
  },
  {
   "cell_type": "code",
   "execution_count": 16,
   "id": "95349add",
   "metadata": {},
   "outputs": [],
   "source": [
    "cv2.imshow(\"AEC\",AEC)\n",
    "cv2.waitKey(0)\n",
    "cv2.destroyAllWindows()"
   ]
  },
  {
   "cell_type": "code",
   "execution_count": 17,
   "id": "60eda316",
   "metadata": {},
   "outputs": [
    {
     "name": "stdout",
     "output_type": "stream",
     "text": [
      "170 255\n"
     ]
    }
   ],
   "source": [
    "auto_canny(blur7)"
   ]
  },
  {
   "cell_type": "code",
   "execution_count": 18,
   "id": "051a923b",
   "metadata": {},
   "outputs": [
    {
     "name": "stdout",
     "output_type": "stream",
     "text": [
      "168 255\n"
     ]
    }
   ],
   "source": [
    "auto_canny(blur9)"
   ]
  },
  {
   "cell_type": "code",
   "execution_count": 19,
   "id": "da8c5a8b",
   "metadata": {},
   "outputs": [],
   "source": [
    "AEC5 = cv2.Canny(blur5,170,255)\n",
    "AEC7 = cv2.Canny(blur7,170,255)\n",
    "AEC9 = cv2.Canny(blur9,168,255)"
   ]
  },
  {
   "cell_type": "code",
   "execution_count": 20,
   "id": "c920d6fb",
   "metadata": {},
   "outputs": [],
   "source": [
    "cv2.imshow(\"AEC5\",AEC5)\n",
    "cv2.imshow(\"AEC7\",AEC7)\n",
    "cv2.imshow(\"AEC9\",AEC9)\n",
    "cv2.waitKey(0)\n",
    "cv2.destroyAllWindows()"
   ]
  },
  {
   "cell_type": "code",
   "execution_count": null,
   "id": "be1d5dba",
   "metadata": {},
   "outputs": [],
   "source": []
  },
  {
   "cell_type": "code",
   "execution_count": null,
   "id": "f01bccd9",
   "metadata": {},
   "outputs": [],
   "source": []
  },
  {
   "cell_type": "code",
   "execution_count": 24,
   "id": "0f31e204",
   "metadata": {},
   "outputs": [],
   "source": [
    "adr = cv2.imread(r\"E:\\PyImage_ComputerVision\\OpenCVBasic\\WorkingData\\InputData\\adrian.png\")\n",
    "adr_gray = cv2.cvtColor(adr,cv2.COLOR_BGR2GRAY)\n",
    "adrblur5 = cv2.GaussianBlur(adr_gray,(5,5),0)\n",
    "adrblur7 = cv2.GaussianBlur(adr_gray,(7,7),0)\n",
    "adrblur9 = cv2.GaussianBlur(adr_gray,(9,9),0)"
   ]
  },
  {
   "cell_type": "code",
   "execution_count": 27,
   "id": "bbac9971",
   "metadata": {},
   "outputs": [],
   "source": [
    "cv2.imshow(\"adrblur5\",adrblur5)\n",
    "cv2.waitKey(0)\n",
    "cv2.destroyAllWindows()"
   ]
  },
  {
   "cell_type": "code",
   "execution_count": 25,
   "id": "a659e0fe",
   "metadata": {},
   "outputs": [],
   "source": [
    "adr_WE5_100_255 = cv2.Canny(adrblur5,100,255)\n",
    "adr_ME5_150_255 = cv2.Canny(adrblur5,150,255)\n",
    "adr_TE5_200_255 = cv2.Canny(adrblur5,200,255)"
   ]
  },
  {
   "cell_type": "code",
   "execution_count": 26,
   "id": "de1127ba",
   "metadata": {},
   "outputs": [],
   "source": [
    "cv2.imshow(\"WE5 100 255\",adr_WE5_100_255)\n",
    "cv2.imshow(\"ME5 150 255\",adr_ME5_150_255)\n",
    "cv2.imshow(\"TE5 200 250\",adr_TE5_200_255)\n",
    "cv2.waitKey(0)\n",
    "cv2.destroyAllWindows()"
   ]
  },
  {
   "cell_type": "code",
   "execution_count": 28,
   "id": "319a7ffb",
   "metadata": {},
   "outputs": [],
   "source": [
    "adr_WE5_10_200 = cv2.Canny(adrblur5,10,200)\n",
    "adr_ME5_50_200 = cv2.Canny(adrblur5,50,200)\n",
    "adr_TE5_50_100 = cv2.Canny(adrblur5,50,100)"
   ]
  },
  {
   "cell_type": "code",
   "execution_count": 29,
   "id": "d9d025fb",
   "metadata": {},
   "outputs": [],
   "source": [
    "cv2.imshow(\"WE5 10 200\",adr_WE5_10_200)\n",
    "cv2.imshow(\"ME5 50 200\",adr_ME5_50_200)\n",
    "cv2.imshow(\"TE5 50 100\",adr_TE5_50_100)\n",
    "cv2.waitKey(0)\n",
    "cv2.destroyAllWindows()"
   ]
  },
  {
   "cell_type": "code",
   "execution_count": 30,
   "id": "6389b4b7",
   "metadata": {},
   "outputs": [
    {
     "name": "stdout",
     "output_type": "stream",
     "text": [
      "91 180\n"
     ]
    }
   ],
   "source": [
    "auto_canny(adrblur5)"
   ]
  },
  {
   "cell_type": "code",
   "execution_count": 31,
   "id": "71e6e2a9",
   "metadata": {},
   "outputs": [],
   "source": [
    "AEC5 = cv2.Canny(adrblur5,91,180)"
   ]
  },
  {
   "cell_type": "code",
   "execution_count": 32,
   "id": "0c1455a3",
   "metadata": {},
   "outputs": [],
   "source": [
    "cv2.imshow(\"AEC5\",AEC5)\n",
    "cv2.waitKey(0)\n",
    "cv2.destroyAllWindows()"
   ]
  },
  {
   "cell_type": "code",
   "execution_count": 33,
   "id": "d06228f9",
   "metadata": {},
   "outputs": [
    {
     "name": "stdout",
     "output_type": "stream",
     "text": [
      "90 179\n"
     ]
    }
   ],
   "source": [
    "auto_canny(adr_gray)"
   ]
  },
  {
   "cell_type": "code",
   "execution_count": 34,
   "id": "c4634092",
   "metadata": {},
   "outputs": [],
   "source": [
    "AEC = cv2.Canny(adr_gray,90,179)"
   ]
  },
  {
   "cell_type": "code",
   "execution_count": 35,
   "id": "d712f560",
   "metadata": {},
   "outputs": [],
   "source": [
    "cv2.imshow(\"AEC\",AEC)\n",
    "cv2.waitKey(0)\n",
    "cv2.destroyAllWindows()"
   ]
  },
  {
   "cell_type": "code",
   "execution_count": null,
   "id": "b08fb8cd",
   "metadata": {},
   "outputs": [],
   "source": []
  },
  {
   "cell_type": "code",
   "execution_count": null,
   "id": "77c16ed2",
   "metadata": {},
   "outputs": [],
   "source": []
  },
  {
   "cell_type": "code",
   "execution_count": 37,
   "id": "e0e9f39d",
   "metadata": {},
   "outputs": [],
   "source": [
    "car = cv2.imread(r\"E:\\PyImage_ComputerVision\\OpenCVBasic\\WorkingData\\InputData\\car.png\")\n",
    "car_gray = cv2.cvtColor(car,cv2.COLOR_BGR2GRAY)\n",
    "car_blur5 = cv2.GaussianBlur(car_gray,(5,5),0)"
   ]
  },
  {
   "cell_type": "code",
   "execution_count": 38,
   "id": "b100e5fe",
   "metadata": {},
   "outputs": [
    {
     "name": "stdout",
     "output_type": "stream",
     "text": [
      "73 144\n"
     ]
    }
   ],
   "source": [
    "auto_canny(car_blur5)"
   ]
  },
  {
   "cell_type": "code",
   "execution_count": 39,
   "id": "db36be29",
   "metadata": {},
   "outputs": [],
   "source": [
    "AEC = cv2.Canny(car_blur5,73,144)"
   ]
  },
  {
   "cell_type": "code",
   "execution_count": 40,
   "id": "d1b8ad9e",
   "metadata": {},
   "outputs": [],
   "source": [
    "cv2.imshow(\"Car\",car_blur5)\n",
    "cv2.imshow(\"AEC\",AEC)\n",
    "cv2.waitKey(0)\n",
    "cv2.destroyAllWindows()"
   ]
  },
  {
   "cell_type": "code",
   "execution_count": 44,
   "id": "93089698",
   "metadata": {},
   "outputs": [],
   "source": [
    "car5_ed_10_144 = cv2.Canny(car_blur5,10,144)"
   ]
  },
  {
   "cell_type": "code",
   "execution_count": 42,
   "id": "58e1975f",
   "metadata": {},
   "outputs": [],
   "source": [
    "cv2.imshow(\"Car\",car_blur5)\n",
    "cv2.imshow(\"AEC\",AEC)\n",
    "cv2.imshow(\"ed 10 144\",car5_ed_10_144)\n",
    "cv2.waitKey(0)\n",
    "cv2.destroyAllWindows()"
   ]
  },
  {
   "cell_type": "code",
   "execution_count": 45,
   "id": "80ea7658",
   "metadata": {},
   "outputs": [],
   "source": [
    "car5_ed_30_144 = cv2.Canny(car_blur5,30,144)"
   ]
  },
  {
   "cell_type": "code",
   "execution_count": 46,
   "id": "9a42efd3",
   "metadata": {},
   "outputs": [],
   "source": [
    "cv2.imshow(\"Car\",car_blur5)\n",
    "cv2.imshow(\"AEC\",AEC)\n",
    "cv2.imshow(\"ed 10 144\",car5_ed_10_144)\n",
    "cv2.imshow(\"ed 30 144\",car5_ed_30_144)\n",
    "cv2.waitKey(0)\n",
    "cv2.destroyAllWindows()"
   ]
  },
  {
   "cell_type": "code",
   "execution_count": null,
   "id": "c722b6b9",
   "metadata": {},
   "outputs": [],
   "source": []
  }
 ],
 "metadata": {
  "kernelspec": {
   "display_name": "Python 3 (ipykernel)",
   "language": "python",
   "name": "python3"
  },
  "language_info": {
   "codemirror_mode": {
    "name": "ipython",
    "version": 3
   },
   "file_extension": ".py",
   "mimetype": "text/x-python",
   "name": "python",
   "nbconvert_exporter": "python",
   "pygments_lexer": "ipython3",
   "version": "3.11.5"
  }
 },
 "nbformat": 4,
 "nbformat_minor": 5
}
