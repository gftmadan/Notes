{
 "cells": [
  {
   "cell_type": "code",
   "execution_count": 1,
   "id": "33061e7b-507d-4d4e-a2d8-61452ca9b3f1",
   "metadata": {},
   "outputs": [],
   "source": [
    "import pandas as pd\n",
    "import torch as th\n",
    "import torchvision as thv\n",
    "import numpy as np\n",
    "import matplotlib.pyplot as plt\n",
    "from torchinfo import summary\n",
    "from sklearn.preprocessing import OneHotEncoder\n",
    "import os\n",
    "from utils import CustomTargetTransformation\n",
    "import time\n",
    "SAVE_PATH = r\"E:\\PyImage_ComputerVision\\DeepLearningFrameWorks\\Working Data\\OutputData\\PyTorch\\New folder\""
   ]
  },
  {
   "cell_type": "code",
   "execution_count": 2,
   "id": "8a90ce85-9567-4b29-b8c0-8ddd55202792",
   "metadata": {},
   "outputs": [
    {
     "data": {
      "text/plain": [
       "'cuda'"
      ]
     },
     "execution_count": 2,
     "metadata": {},
     "output_type": "execute_result"
    }
   ],
   "source": [
    "DEVICE = \"cuda\" if th.cuda.is_available() else \"cpu\"\n",
    "DEVICE"
   ]
  },
  {
   "cell_type": "code",
   "execution_count": 3,
   "id": "c6448360-ff27-4f90-a687-5e99f72cebb2",
   "metadata": {},
   "outputs": [
    {
     "name": "stdout",
     "output_type": "stream",
     "text": [
      "Files already downloaded and verified\n",
      "Files already downloaded and verified\n"
     ]
    }
   ],
   "source": [
    "train_dataset = thv.datasets.CIFAR10(root=\"E:\\PyImage_ComputerVision\\DeepLearningFrameWorks\\Working Data\\InputData\\Pre-BuiltIn Datasets\",\n",
    "                                      train=True,\n",
    "                                      download=True,\n",
    "                                      transform=thv.transforms.Compose([thv.transforms.ToTensor()]))\n",
    "\n",
    "test_dataset = thv.datasets.CIFAR10(root=\"E:\\PyImage_ComputerVision\\DeepLearningFrameWorks\\Working Data\\InputData\\Pre-BuiltIn Datasets\",\n",
    "                                    train=False,\n",
    "                                    download=True,\n",
    "                                    transform=thv.transforms.Compose([thv.transforms.ToTensor()]))"
   ]
  },
  {
   "cell_type": "code",
   "execution_count": 4,
   "id": "75cb2576-f44b-48d3-840a-69c81f19d897",
   "metadata": {},
   "outputs": [
    {
     "data": {
      "text/html": [
       "<style>#sk-container-id-1 {color: black;background-color: white;}#sk-container-id-1 pre{padding: 0;}#sk-container-id-1 div.sk-toggleable {background-color: white;}#sk-container-id-1 label.sk-toggleable__label {cursor: pointer;display: block;width: 100%;margin-bottom: 0;padding: 0.3em;box-sizing: border-box;text-align: center;}#sk-container-id-1 label.sk-toggleable__label-arrow:before {content: \"▸\";float: left;margin-right: 0.25em;color: #696969;}#sk-container-id-1 label.sk-toggleable__label-arrow:hover:before {color: black;}#sk-container-id-1 div.sk-estimator:hover label.sk-toggleable__label-arrow:before {color: black;}#sk-container-id-1 div.sk-toggleable__content {max-height: 0;max-width: 0;overflow: hidden;text-align: left;background-color: #f0f8ff;}#sk-container-id-1 div.sk-toggleable__content pre {margin: 0.2em;color: black;border-radius: 0.25em;background-color: #f0f8ff;}#sk-container-id-1 input.sk-toggleable__control:checked~div.sk-toggleable__content {max-height: 200px;max-width: 100%;overflow: auto;}#sk-container-id-1 input.sk-toggleable__control:checked~label.sk-toggleable__label-arrow:before {content: \"▾\";}#sk-container-id-1 div.sk-estimator input.sk-toggleable__control:checked~label.sk-toggleable__label {background-color: #d4ebff;}#sk-container-id-1 div.sk-label input.sk-toggleable__control:checked~label.sk-toggleable__label {background-color: #d4ebff;}#sk-container-id-1 input.sk-hidden--visually {border: 0;clip: rect(1px 1px 1px 1px);clip: rect(1px, 1px, 1px, 1px);height: 1px;margin: -1px;overflow: hidden;padding: 0;position: absolute;width: 1px;}#sk-container-id-1 div.sk-estimator {font-family: monospace;background-color: #f0f8ff;border: 1px dotted black;border-radius: 0.25em;box-sizing: border-box;margin-bottom: 0.5em;}#sk-container-id-1 div.sk-estimator:hover {background-color: #d4ebff;}#sk-container-id-1 div.sk-parallel-item::after {content: \"\";width: 100%;border-bottom: 1px solid gray;flex-grow: 1;}#sk-container-id-1 div.sk-label:hover label.sk-toggleable__label {background-color: #d4ebff;}#sk-container-id-1 div.sk-serial::before {content: \"\";position: absolute;border-left: 1px solid gray;box-sizing: border-box;top: 0;bottom: 0;left: 50%;z-index: 0;}#sk-container-id-1 div.sk-serial {display: flex;flex-direction: column;align-items: center;background-color: white;padding-right: 0.2em;padding-left: 0.2em;position: relative;}#sk-container-id-1 div.sk-item {position: relative;z-index: 1;}#sk-container-id-1 div.sk-parallel {display: flex;align-items: stretch;justify-content: center;background-color: white;position: relative;}#sk-container-id-1 div.sk-item::before, #sk-container-id-1 div.sk-parallel-item::before {content: \"\";position: absolute;border-left: 1px solid gray;box-sizing: border-box;top: 0;bottom: 0;left: 50%;z-index: -1;}#sk-container-id-1 div.sk-parallel-item {display: flex;flex-direction: column;z-index: 1;position: relative;background-color: white;}#sk-container-id-1 div.sk-parallel-item:first-child::after {align-self: flex-end;width: 50%;}#sk-container-id-1 div.sk-parallel-item:last-child::after {align-self: flex-start;width: 50%;}#sk-container-id-1 div.sk-parallel-item:only-child::after {width: 0;}#sk-container-id-1 div.sk-dashed-wrapped {border: 1px dashed gray;margin: 0 0.4em 0.5em 0.4em;box-sizing: border-box;padding-bottom: 0.4em;background-color: white;}#sk-container-id-1 div.sk-label label {font-family: monospace;font-weight: bold;display: inline-block;line-height: 1.2em;}#sk-container-id-1 div.sk-label-container {text-align: center;}#sk-container-id-1 div.sk-container {/* jupyter's `normalize.less` sets `[hidden] { display: none; }` but bootstrap.min.css set `[hidden] { display: none !important; }` so we also need the `!important` here to be able to override the default hidden behavior on the sphinx rendered scikit-learn.org. See: https://github.com/scikit-learn/scikit-learn/issues/21755 */display: inline-block !important;position: relative;}#sk-container-id-1 div.sk-text-repr-fallback {display: none;}</style><div id=\"sk-container-id-1\" class=\"sk-top-container\"><div class=\"sk-text-repr-fallback\"><pre>OneHotEncoder(sparse_output=False)</pre><b>In a Jupyter environment, please rerun this cell to show the HTML representation or trust the notebook. <br />On GitHub, the HTML representation is unable to render, please try loading this page with nbviewer.org.</b></div><div class=\"sk-container\" hidden><div class=\"sk-item\"><div class=\"sk-estimator sk-toggleable\"><input class=\"sk-toggleable__control sk-hidden--visually\" id=\"sk-estimator-id-1\" type=\"checkbox\" checked><label for=\"sk-estimator-id-1\" class=\"sk-toggleable__label sk-toggleable__label-arrow\">OneHotEncoder</label><div class=\"sk-toggleable__content\"><pre>OneHotEncoder(sparse_output=False)</pre></div></div></div></div></div>"
      ],
      "text/plain": [
       "OneHotEncoder(sparse_output=False)"
      ]
     },
     "execution_count": 4,
     "metadata": {},
     "output_type": "execute_result"
    }
   ],
   "source": [
    "## Training the One Hot Encoder on the Previous Downloaded Targets\n",
    "\n",
    "OHE = OneHotEncoder(sparse_output=False) \n",
    "\n",
    "OHE.fit(np.array(train_dataset.targets).reshape(-1,1))"
   ]
  },
  {
   "cell_type": "code",
   "execution_count": 5,
   "id": "ea9fdbb1-113b-44c1-9993-e30c7ef20552",
   "metadata": {},
   "outputs": [],
   "source": [
    "from torchvision.transforms import v2\n",
    "\n",
    "X_Transforms = v2.Compose([\n",
    "                            v2.ToImage(),\n",
    "                            v2.Resize(size=(32,32),antialias=True),\n",
    "                            v2.ToDtype(th.float32,scale=True)\n",
    "                          ])\n",
    "\n",
    "Y_Transforms = v2.Compose([\n",
    "                              CustomTargetTransformation()  \n",
    "                          ])"
   ]
  },
  {
   "cell_type": "code",
   "execution_count": 6,
   "id": "aefd8480-6897-4aba-8739-d22f4b9e3a9d",
   "metadata": {},
   "outputs": [
    {
     "name": "stdout",
     "output_type": "stream",
     "text": [
      "Files already downloaded and verified\n",
      "Files already downloaded and verified\n"
     ]
    }
   ],
   "source": [
    "OHE_train_dataset = thv.datasets.CIFAR10(root=\"E:\\PyImage_ComputerVision\\DeepLearningFrameWorks\\Working Data\\InputData\\Pre-BuiltIn Datasets\",\n",
    "                                         train=True,\n",
    "                                         download=True,\n",
    "                                         transform=X_Transforms,\n",
    "                                         target_transform=Y_Transforms)\n",
    "\n",
    "OHE_test_dataset = thv.datasets.CIFAR10(root=\"E:\\PyImage_ComputerVision\\DeepLearningFrameWorks\\Working Data\\InputData\\Pre-BuiltIn Datasets\",\n",
    "                                        train=False,\n",
    "                                        download=True,\n",
    "                                        transform=X_Transforms,\n",
    "                                        target_transform=Y_Transforms)"
   ]
  },
  {
   "cell_type": "code",
   "execution_count": 7,
   "id": "c8d7c325-7c67-4836-8352-00b57dc14063",
   "metadata": {},
   "outputs": [],
   "source": [
    "train_dataloader = th.utils.data.DataLoader(OHE_train_dataset,\n",
    "                                            batch_size=32,\n",
    "                                            num_workers=8,\n",
    "                                            shuffle=True)\n",
    "\n",
    "test_dataloader = th.utils.data.DataLoader(OHE_test_dataset,\n",
    "                                           shuffle=False,\n",
    "                                           num_workers=8,\n",
    "                                           batch_size=32)"
   ]
  },
  {
   "cell_type": "code",
   "execution_count": 8,
   "id": "f6843eb9-f50f-404b-a1b8-e9803814b18e",
   "metadata": {},
   "outputs": [
    {
     "ename": "NameError",
     "evalue": "name 'OHE' is not defined",
     "output_type": "error",
     "traceback": [
      "\u001b[1;31m---------------------------------------------------------------------------\u001b[0m",
      "\u001b[1;31mNameError\u001b[0m                                 Traceback (most recent call last)",
      "Cell \u001b[1;32mIn[8], line 1\u001b[0m\n\u001b[1;32m----> 1\u001b[0m OHE_train_dataset[\u001b[38;5;241m0\u001b[39m][\u001b[38;5;241m0\u001b[39m]\u001b[38;5;241m.\u001b[39mshape\n",
      "File \u001b[1;32mE:\\PyImage_ComputerVision\\DeepLearningFrameWorks\\PyTorch\\env\\Lib\\site-packages\\torchvision\\datasets\\cifar.py:121\u001b[0m, in \u001b[0;36mCIFAR10.__getitem__\u001b[1;34m(self, index)\u001b[0m\n\u001b[0;32m    118\u001b[0m     img \u001b[38;5;241m=\u001b[39m \u001b[38;5;28mself\u001b[39m\u001b[38;5;241m.\u001b[39mtransform(img)\n\u001b[0;32m    120\u001b[0m \u001b[38;5;28;01mif\u001b[39;00m \u001b[38;5;28mself\u001b[39m\u001b[38;5;241m.\u001b[39mtarget_transform \u001b[38;5;129;01mis\u001b[39;00m \u001b[38;5;129;01mnot\u001b[39;00m \u001b[38;5;28;01mNone\u001b[39;00m:\n\u001b[1;32m--> 121\u001b[0m     target \u001b[38;5;241m=\u001b[39m \u001b[38;5;28mself\u001b[39m\u001b[38;5;241m.\u001b[39mtarget_transform(target)\n\u001b[0;32m    123\u001b[0m \u001b[38;5;28;01mreturn\u001b[39;00m img, target\n",
      "File \u001b[1;32mE:\\PyImage_ComputerVision\\DeepLearningFrameWorks\\PyTorch\\env\\Lib\\site-packages\\torch\\nn\\modules\\module.py:1518\u001b[0m, in \u001b[0;36mModule._wrapped_call_impl\u001b[1;34m(self, *args, **kwargs)\u001b[0m\n\u001b[0;32m   1516\u001b[0m     \u001b[38;5;28;01mreturn\u001b[39;00m \u001b[38;5;28mself\u001b[39m\u001b[38;5;241m.\u001b[39m_compiled_call_impl(\u001b[38;5;241m*\u001b[39margs, \u001b[38;5;241m*\u001b[39m\u001b[38;5;241m*\u001b[39mkwargs)  \u001b[38;5;66;03m# type: ignore[misc]\u001b[39;00m\n\u001b[0;32m   1517\u001b[0m \u001b[38;5;28;01melse\u001b[39;00m:\n\u001b[1;32m-> 1518\u001b[0m     \u001b[38;5;28;01mreturn\u001b[39;00m \u001b[38;5;28mself\u001b[39m\u001b[38;5;241m.\u001b[39m_call_impl(\u001b[38;5;241m*\u001b[39margs, \u001b[38;5;241m*\u001b[39m\u001b[38;5;241m*\u001b[39mkwargs)\n",
      "File \u001b[1;32mE:\\PyImage_ComputerVision\\DeepLearningFrameWorks\\PyTorch\\env\\Lib\\site-packages\\torch\\nn\\modules\\module.py:1527\u001b[0m, in \u001b[0;36mModule._call_impl\u001b[1;34m(self, *args, **kwargs)\u001b[0m\n\u001b[0;32m   1522\u001b[0m \u001b[38;5;66;03m# If we don't have any hooks, we want to skip the rest of the logic in\u001b[39;00m\n\u001b[0;32m   1523\u001b[0m \u001b[38;5;66;03m# this function, and just call forward.\u001b[39;00m\n\u001b[0;32m   1524\u001b[0m \u001b[38;5;28;01mif\u001b[39;00m \u001b[38;5;129;01mnot\u001b[39;00m (\u001b[38;5;28mself\u001b[39m\u001b[38;5;241m.\u001b[39m_backward_hooks \u001b[38;5;129;01mor\u001b[39;00m \u001b[38;5;28mself\u001b[39m\u001b[38;5;241m.\u001b[39m_backward_pre_hooks \u001b[38;5;129;01mor\u001b[39;00m \u001b[38;5;28mself\u001b[39m\u001b[38;5;241m.\u001b[39m_forward_hooks \u001b[38;5;129;01mor\u001b[39;00m \u001b[38;5;28mself\u001b[39m\u001b[38;5;241m.\u001b[39m_forward_pre_hooks\n\u001b[0;32m   1525\u001b[0m         \u001b[38;5;129;01mor\u001b[39;00m _global_backward_pre_hooks \u001b[38;5;129;01mor\u001b[39;00m _global_backward_hooks\n\u001b[0;32m   1526\u001b[0m         \u001b[38;5;129;01mor\u001b[39;00m _global_forward_hooks \u001b[38;5;129;01mor\u001b[39;00m _global_forward_pre_hooks):\n\u001b[1;32m-> 1527\u001b[0m     \u001b[38;5;28;01mreturn\u001b[39;00m forward_call(\u001b[38;5;241m*\u001b[39margs, \u001b[38;5;241m*\u001b[39m\u001b[38;5;241m*\u001b[39mkwargs)\n\u001b[0;32m   1529\u001b[0m \u001b[38;5;28;01mtry\u001b[39;00m:\n\u001b[0;32m   1530\u001b[0m     result \u001b[38;5;241m=\u001b[39m \u001b[38;5;28;01mNone\u001b[39;00m\n",
      "File \u001b[1;32mE:\\PyImage_ComputerVision\\DeepLearningFrameWorks\\PyTorch\\env\\Lib\\site-packages\\torchvision\\transforms\\v2\\_container.py:53\u001b[0m, in \u001b[0;36mCompose.forward\u001b[1;34m(self, *inputs)\u001b[0m\n\u001b[0;32m     51\u001b[0m needs_unpacking \u001b[38;5;241m=\u001b[39m \u001b[38;5;28mlen\u001b[39m(inputs) \u001b[38;5;241m>\u001b[39m \u001b[38;5;241m1\u001b[39m\n\u001b[0;32m     52\u001b[0m \u001b[38;5;28;01mfor\u001b[39;00m transform \u001b[38;5;129;01min\u001b[39;00m \u001b[38;5;28mself\u001b[39m\u001b[38;5;241m.\u001b[39mtransforms:\n\u001b[1;32m---> 53\u001b[0m     outputs \u001b[38;5;241m=\u001b[39m transform(\u001b[38;5;241m*\u001b[39minputs)\n\u001b[0;32m     54\u001b[0m     inputs \u001b[38;5;241m=\u001b[39m outputs \u001b[38;5;28;01mif\u001b[39;00m needs_unpacking \u001b[38;5;28;01melse\u001b[39;00m (outputs,)\n\u001b[0;32m     55\u001b[0m \u001b[38;5;28;01mreturn\u001b[39;00m outputs\n",
      "File \u001b[1;32mE:\\PyImage_ComputerVision\\DeepLearningFrameWorks\\PyTorch\\env\\Lib\\site-packages\\torch\\nn\\modules\\module.py:1518\u001b[0m, in \u001b[0;36mModule._wrapped_call_impl\u001b[1;34m(self, *args, **kwargs)\u001b[0m\n\u001b[0;32m   1516\u001b[0m     \u001b[38;5;28;01mreturn\u001b[39;00m \u001b[38;5;28mself\u001b[39m\u001b[38;5;241m.\u001b[39m_compiled_call_impl(\u001b[38;5;241m*\u001b[39margs, \u001b[38;5;241m*\u001b[39m\u001b[38;5;241m*\u001b[39mkwargs)  \u001b[38;5;66;03m# type: ignore[misc]\u001b[39;00m\n\u001b[0;32m   1517\u001b[0m \u001b[38;5;28;01melse\u001b[39;00m:\n\u001b[1;32m-> 1518\u001b[0m     \u001b[38;5;28;01mreturn\u001b[39;00m \u001b[38;5;28mself\u001b[39m\u001b[38;5;241m.\u001b[39m_call_impl(\u001b[38;5;241m*\u001b[39margs, \u001b[38;5;241m*\u001b[39m\u001b[38;5;241m*\u001b[39mkwargs)\n",
      "File \u001b[1;32mE:\\PyImage_ComputerVision\\DeepLearningFrameWorks\\PyTorch\\env\\Lib\\site-packages\\torch\\nn\\modules\\module.py:1527\u001b[0m, in \u001b[0;36mModule._call_impl\u001b[1;34m(self, *args, **kwargs)\u001b[0m\n\u001b[0;32m   1522\u001b[0m \u001b[38;5;66;03m# If we don't have any hooks, we want to skip the rest of the logic in\u001b[39;00m\n\u001b[0;32m   1523\u001b[0m \u001b[38;5;66;03m# this function, and just call forward.\u001b[39;00m\n\u001b[0;32m   1524\u001b[0m \u001b[38;5;28;01mif\u001b[39;00m \u001b[38;5;129;01mnot\u001b[39;00m (\u001b[38;5;28mself\u001b[39m\u001b[38;5;241m.\u001b[39m_backward_hooks \u001b[38;5;129;01mor\u001b[39;00m \u001b[38;5;28mself\u001b[39m\u001b[38;5;241m.\u001b[39m_backward_pre_hooks \u001b[38;5;129;01mor\u001b[39;00m \u001b[38;5;28mself\u001b[39m\u001b[38;5;241m.\u001b[39m_forward_hooks \u001b[38;5;129;01mor\u001b[39;00m \u001b[38;5;28mself\u001b[39m\u001b[38;5;241m.\u001b[39m_forward_pre_hooks\n\u001b[0;32m   1525\u001b[0m         \u001b[38;5;129;01mor\u001b[39;00m _global_backward_pre_hooks \u001b[38;5;129;01mor\u001b[39;00m _global_backward_hooks\n\u001b[0;32m   1526\u001b[0m         \u001b[38;5;129;01mor\u001b[39;00m _global_forward_hooks \u001b[38;5;129;01mor\u001b[39;00m _global_forward_pre_hooks):\n\u001b[1;32m-> 1527\u001b[0m     \u001b[38;5;28;01mreturn\u001b[39;00m forward_call(\u001b[38;5;241m*\u001b[39margs, \u001b[38;5;241m*\u001b[39m\u001b[38;5;241m*\u001b[39mkwargs)\n\u001b[0;32m   1529\u001b[0m \u001b[38;5;28;01mtry\u001b[39;00m:\n\u001b[0;32m   1530\u001b[0m     result \u001b[38;5;241m=\u001b[39m \u001b[38;5;28;01mNone\u001b[39;00m\n",
      "File \u001b[1;32mE:\\PyImage_ComputerVision\\DeepLearningFrameWorks\\PyTorch\\Classificaton(Pre-Built)\\utils.py:5\u001b[0m, in \u001b[0;36mCustomTargetTransformation.forward\u001b[1;34m(self, x)\u001b[0m\n\u001b[0;32m      4\u001b[0m \u001b[38;5;28;01mdef\u001b[39;00m \u001b[38;5;21mforward\u001b[39m(\u001b[38;5;28mself\u001b[39m,x):\n\u001b[1;32m----> 5\u001b[0m     x1 \u001b[38;5;241m=\u001b[39m th\u001b[38;5;241m.\u001b[39mtensor(OHE\u001b[38;5;241m.\u001b[39mtransform([[x]])\u001b[38;5;241m.\u001b[39msqueeze(),dtype\u001b[38;5;241m=\u001b[39mth\u001b[38;5;241m.\u001b[39mfloat32)\n\u001b[0;32m      6\u001b[0m     \u001b[38;5;28;01mreturn\u001b[39;00m x1\n",
      "\u001b[1;31mNameError\u001b[0m: name 'OHE' is not defined"
     ]
    }
   ],
   "source": [
    "OHE_train_dataset[0][0].shape"
   ]
  },
  {
   "cell_type": "code",
   "execution_count": null,
   "id": "fae0374d-dc4b-4d5b-9596-911c8184566f",
   "metadata": {},
   "outputs": [],
   "source": [
    "OHE_train_dataset[0]"
   ]
  },
  {
   "cell_type": "code",
   "execution_count": null,
   "id": "5f2a9427-0e1c-49bb-aff3-a2d8d1feaf16",
   "metadata": {},
   "outputs": [],
   "source": [
    "model_V0 = th.nn.Sequential(\n",
    "                            th.nn.Conv2d(in_channels=3,out_channels=10,kernel_size=3,stride=1,padding=\"valid\"),\n",
    "                            th.nn.ReLU(),\n",
    "                            th.nn.Conv2d(in_channels=10,out_channels=10,kernel_size=3,stride=1,padding=\"valid\"),\n",
    "                            th.nn.ReLU(),\n",
    "                            th.nn.MaxPool2d(kernel_size=2),\n",
    "                            th.nn.Conv2d(in_channels=10,out_channels=10,kernel_size=3,stride=1,padding=\"valid\"),\n",
    "                            th.nn.ReLU(),\n",
    "                            th.nn.Conv2d(in_channels=10,out_channels=10,kernel_size=3,stride=1,padding=\"valid\"),\n",
    "                            th.nn.ReLU(),\n",
    "                            th.nn.MaxPool2d(kernel_size=2),\n",
    "                            th.nn.Flatten(),\n",
    "                            th.nn.Linear(in_features=250,out_features=10)\n",
    ")"
   ]
  },
  {
   "cell_type": "code",
   "execution_count": null,
   "id": "a8f23ea9-be78-470f-b913-00433703d7d4",
   "metadata": {},
   "outputs": [],
   "source": [
    "summary(model_V0,\n",
    "        input_size=(1,3,32,32),\n",
    "        verbose=1,\n",
    "        col_names=[\"input_size\",\"output_size\",\"num_params\",\"trainable\"],\n",
    "        row_settings=[\"var_names\"],\n",
    "        col_width=18);"
   ]
  },
  {
   "cell_type": "code",
   "execution_count": 9,
   "id": "1a57207c-1437-44f7-876b-94e07e10454a",
   "metadata": {},
   "outputs": [
    {
     "ename": "NameError",
     "evalue": "name 'model_V0' is not defined",
     "output_type": "error",
     "traceback": [
      "\u001b[1;31m---------------------------------------------------------------------------\u001b[0m",
      "\u001b[1;31mNameError\u001b[0m                                 Traceback (most recent call last)",
      "Cell \u001b[1;32mIn[9], line 3\u001b[0m\n\u001b[0;32m      1\u001b[0m loss_fn \u001b[38;5;241m=\u001b[39m th\u001b[38;5;241m.\u001b[39mnn\u001b[38;5;241m.\u001b[39mCrossEntropyLoss()\n\u001b[1;32m----> 3\u001b[0m optimizer \u001b[38;5;241m=\u001b[39m th\u001b[38;5;241m.\u001b[39moptim\u001b[38;5;241m.\u001b[39mAdam(model_V0\u001b[38;5;241m.\u001b[39mparameters(),\n\u001b[0;32m      4\u001b[0m                           lr\u001b[38;5;241m=\u001b[39m\u001b[38;5;241m0.001\u001b[39m)\n",
      "\u001b[1;31mNameError\u001b[0m: name 'model_V0' is not defined"
     ]
    }
   ],
   "source": [
    "loss_fn = th.nn.CrossEntropyLoss()\n",
    "\n",
    "optimizer = th.optim.Adam(model.parameters(),\n",
    "                          lr=0.001)"
   ]
  },
  {
   "cell_type": "code",
   "execution_count": 14,
   "id": "475cc4af-c9ce-4865-b494-08223907d3c7",
   "metadata": {},
   "outputs": [],
   "source": [
    "def accuracy(y_pred,Y):\n",
    "    correct = th.eq(y_pred,Y).sum().item()\n",
    "    acc = (correct/len(y_pred))*100.0\n",
    "    return acc"
   ]
  },
  {
   "cell_type": "code",
   "execution_count": null,
   "id": "cd36bece-04d9-43ba-808f-87526303771c",
   "metadata": {},
   "outputs": [],
   "source": [
    "EPOCHS = 20\n",
    "TRAIN_DL_LEN = len(train_dataloader)\n",
    "TEST_DL_LEN = len(test_dataloader)\n",
    "\n",
    "model_V0.to(DEVICE)\n",
    "for epoch in range(EPOCHS):\n",
    "    start = time.time()\n",
    "    model_V0.train()\n",
    "    epoch_train_loss = 0.0\n",
    "    epoch_train_accuracy = 0.0\n",
    "    for X,Y in train_dataloader:\n",
    "        X = X.to(DEVICE)\n",
    "        Y = Y.to(DEVICE)\n",
    "\n",
    "        Y_logits = model_V0(X).squeeze()\n",
    "        y_pred = th.argmax(th.softmax(Y_logits,1),1)\n",
    "        y_true = th.argmax(Y,1)\n",
    "        loss = loss_fn(Y_logits,Y)\n",
    "        acc = accuracy(y_pred,y_true)\n",
    "\n",
    "        epoch_train_accuracy += acc\n",
    "        epoch_train_loss += loss\n",
    "\n",
    "        optimizer.zero_grad()\n",
    "        loss.backward()\n",
    "        optimizer.step()\n",
    "\n",
    "    model_V0.eval()\n",
    "    epoch_test_loss = 0.0\n",
    "    epoch_test_accuracy = 0.0\n",
    "    \n",
    "    with th.no_grad():\n",
    "        for X,Y in test_dataloader:\n",
    "            X = X.to(DEVICE)\n",
    "            Y = Y.to(DEVICE)\n",
    "\n",
    "            Y_logits = model_V0(X).squeeze()\n",
    "\n",
    "            y_pred = th.argmax(th.softmax(Y_logits,1),1)\n",
    "            y_true = th.argmax(Y,1)\n",
    "            loss = loss_fn(Y_logits,Y)\n",
    "            acc = accuracy(y_pred,y_true)\n",
    "\n",
    "            epoch_test_accuracy += acc\n",
    "            epoch_test_loss += loss\n",
    "\n",
    "    epoch_test_accuracy /= TEST_DL_LEN\n",
    "    epoch_test_loss /= TEST_DL_LEN\n",
    "    epoch_train_accuracy /= TRAIN_DL_LEN\n",
    "    epoch_train_loss /= TRAIN_DL_LEN\n",
    "    end = time.time()    \n",
    "    print(f\"Epoch {epoch}[{round(end-start,2)}]:- |Train Loss:- {epoch_train_loss:.2f} <--------> Train Accuracy:- {epoch_train_accuracy:.2f}|++++++++|Test Loss:- {epoch_test_loss:.2f} <--------> Test Accuracy :- {epoch_test_accuracy:.2f}|\")\n",
    "    #save_model_weigths(MODEL=model_V0,epoch=epoch,extra_name=\"model_V0\")"
   ]
  },
  {
   "cell_type": "code",
   "execution_count": null,
   "id": "fc49f1a5-e35e-43fa-875e-509be6b765a9",
   "metadata": {},
   "outputs": [],
   "source": []
  }
 ],
 "metadata": {
  "kernelspec": {
   "display_name": "Python 3 (ipykernel)",
   "language": "python",
   "name": "python3"
  },
  "language_info": {
   "codemirror_mode": {
    "name": "ipython",
    "version": 3
   },
   "file_extension": ".py",
   "mimetype": "text/x-python",
   "name": "python",
   "nbconvert_exporter": "python",
   "pygments_lexer": "ipython3",
   "version": "3.11.5"
  }
 },
 "nbformat": 4,
 "nbformat_minor": 5
}
