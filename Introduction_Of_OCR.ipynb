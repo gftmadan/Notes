{
 "cells": [
  {
   "cell_type": "markdown",
   "id": "f1d73741",
   "metadata": {},
   "source": [
    "### --------------------------------------------------------------------------------------------------------------------------------------------------------------"
   ]
  },
  {
   "cell_type": "markdown",
   "id": "733c2985",
   "metadata": {},
   "source": [
    "# Optical Character Recognition(OCR)"
   ]
  },
  {
   "cell_type": "markdown",
   "id": "5737db34",
   "metadata": {},
   "source": [
    "### OCR is reffered to Algorithms or Technologies used to extract machine-encoded text from printed books,handwritten text or Images.\n",
    "\n",
    "### If we think of OCR as a Software,Then its process should be:-\n",
    "\n",
    "### 1)It reads an Image(scanned document,Photograph,etc).\n",
    "### 2)Automatically detects the Text and read it as a Human would.\n",
    "### 3)Converts the Text into Machine-Readable Format so that it can be searched,processed,indexed and used for other purposes."
   ]
  },
  {
   "cell_type": "markdown",
   "id": "8028cc9c",
   "metadata": {},
   "source": [
    "### --------------------------------------------------------------------------------------------------------------------------------------------------------------"
   ]
  },
  {
   "cell_type": "markdown",
   "id": "c0ae25e8",
   "metadata": {},
   "source": [
    "# History of OCR"
   ]
  },
  {
   "cell_type": "markdown",
   "id": "11a4523b",
   "metadata": {},
   "source": [
    "### -->Early OCR technologies were `purely mechanical` ,dating back to 1914 when a Emanuel Goldberg developed a machine that could read characters and then convert them into standard telephone code.\n",
    "\n",
    "### -->Then Emanuel Goldberg continued his research from 1920 to 1930 and developed another Technology that searched MICROFLIMS and OCR'd them. \n",
    "\n",
    "### -->Then a Major Break Through came in 1974 when Ray Kurzweil and his Company ,worked on Machine used to read documents for the Blind.And this work caught attention of XEROX's which them commercialized the software and thus THE XEROX Machine was developed.\n",
    "\n",
    "### -->Hewlett-Packard(HP) Labs started working on an OCR Engine Tesseract in 1980.Which was then Open-Sourced in 2005 and is know the MOST FAMOUS AND WIDELY USED OCR ENGINE!\n",
    "\n",
    "### -->Around 2010 Deep Learning revolutionized the Computer Vision,hence OCR Accuracy was given a tremendous boost from the using special architecture know as LSTM(Long Short Term Memory).\n",
    "\n",
    "## Now in 2020's the OCR has been commercialized by all the tech gaints,still even OCR is HARD and requires a deep knowledgeable Computer Vision Enginner to make OCR projects!"
   ]
  },
  {
   "cell_type": "markdown",
   "id": "14f40254",
   "metadata": {},
   "source": [
    "### ------------------------------------------------------------------------------------------------------------------------------------------------------------"
   ]
  },
  {
   "cell_type": "markdown",
   "id": "b9796696",
   "metadata": {},
   "source": [
    "# Why OCR is HARD?"
   ]
  },
  {
   "cell_type": "markdown",
   "id": "2b4a8e0c",
   "metadata": {},
   "source": [
    "## There is no OCR Tool that produces a 100% Accuracy level because:-\n",
    "\n",
    "### It has various errors including Misreading words,Skipping over unreadable words,Combining text from adjacent columns and captions etc.\n",
    "### There are various factors affecting the OCR Performance,mainly the number of Errors depend on the Image Quality,Still even with the Highly-Quality Documents it can make errors because of the Document Style,Fonts, Characters etc.\n",
    "\n",
    "## The Various Limitations of OCR that affect the ORC Performance are:-"
   ]
  },
  {
   "cell_type": "markdown",
   "id": "2236fb60",
   "metadata": {},
   "source": [
    "## 1)Document Based Limitations:-\n",
    "### Different Images have Different Backgrounds that affects the Text Recognition Process.\n",
    "### Blurred Images are very tough for both Human and Computers for OCR.\n",
    "### OCR have a hard time on Skewed Or Non-Oriented Images."
   ]
  },
  {
   "cell_type": "markdown",
   "id": "18311a3d",
   "metadata": {},
   "source": [
    "\n",
    "\n",
    "\n",
    "\n",
    "\n",
    "\n"
   ]
  },
  {
   "cell_type": "markdown",
   "id": "58bdb825",
   "metadata": {},
   "source": [
    "## 2)Text-Based Limitations:-\n",
    "### Variety of Letters in Different Languages make its very tuff for a Generalized OCR Engine to work,hence we have to Custom Train on specfic Languages.\n",
    "### Variety of Font Types and Sizes are tuff for OCR Engines to recognise them.\n",
    "### Some times OCR Engines find it hard to distinguish between some Look Alike Characters.\n",
    "### Its very tuff to read Handwritten Text as there ways different ways Humans Write and Communicate."
   ]
  },
  {
   "cell_type": "markdown",
   "id": "e8b23ffa",
   "metadata": {},
   "source": [
    "\n"
   ]
  },
  {
   "cell_type": "markdown",
   "id": "ced30da8",
   "metadata": {},
   "source": [
    "## 3)NLP Problems:-\n",
    "### We have to deal with NLP Problems,because NLP is vastly used in OCR Engines,Which in turn shows that we cannot achieve 100% Accuracy in OCR Computer Vision Tasks. "
   ]
  },
  {
   "cell_type": "markdown",
   "id": "8f229a01",
   "metadata": {},
   "source": [
    "### --------------------------------------------------------------------------------------------------------------------------------------------------------------"
   ]
  },
  {
   "cell_type": "markdown",
   "id": "56da09cb",
   "metadata": {},
   "source": [
    "# Orientation and Script Detection\n",
    "\n",
    "## We can describe OSD as the process of Analyzing the image for Text Meta Data specially the Orientation and Script/Writing Style.\n",
    "\n",
    "### -->The Text Orientation is the angle(degree) of the text in the Input Image.Hence we can apply OSD to find the Orientation of the Text in the Image and Correct it and then apply OCR and Obtain Higher Accuracy.\n",
    "### -->The Script/Writing Style refered as the characters and symbols used for Written and Typed Communications. \n",
    "### -->As we know Different Languages/Different Fonts uses Different Scipt/Writing Styles hence IF OCR Enigne makes any Rules,Hueristics,Assumptions regarding a Script or Writting System it will make that OCR Engine much more Accurate when applied on Image containing Text in that Particular Script/Writing Style.\n",
    "\n",
    "## Hence we can use OSD Information as a PRECURSOR to improve OCR Accuracy."
   ]
  },
  {
   "cell_type": "markdown",
   "id": "1afd4d41",
   "metadata": {},
   "source": [
    "### ----------------------------------------------------------------------------------------------------------------------------------------------------------"
   ]
  },
  {
   "cell_type": "markdown",
   "id": "09c74771",
   "metadata": {},
   "source": [
    "# Importance Of Pre-Processing Images In OCR\n",
    "\n",
    "### -->Many OCR Engines will be more Accurate if we apply some basic Computer vision,Image processing techniques to clean the images before passing them to OCR Engine.Example:-\n",
    "#### If we apply some basic Image Processing such as Image Thresholding,Distance Transform,Morphological Operations we would end cleaning up the image and get more accurate results after OCRing them.\n",
    "\n",
    "### -->`OCR Engines should be treated as a 4th grader who is capable of Reading Text and need a Nudge in Right Direction quite often.`\n",
    "\n",
    "### -->We should use our CV/DL Knowledge to assist the OCR Engine for our custom work.\n",
    "\n",
    "## **Note:-Its far easier for an OCR Engine to recognise a Text if its cleaned and Segmented First."
   ]
  },
  {
   "cell_type": "markdown",
   "id": "1871510f",
   "metadata": {},
   "source": [
    "### ------------------------------------------------------------------------------------------------------------------------------------------------------------"
   ]
  },
  {
   "cell_type": "markdown",
   "id": "348c08eb",
   "metadata": {},
   "source": [
    "# Importance Of Post-Processing in OCR\n",
    "\n",
    "## As we know that OCR is never 100% Accurate,so we can apply some Post-Processing Techniques that can help us improve the Accuracy.\n",
    "\n",
    "### -->We can apply some Automatic SpellChecking to correct some Misspelled words.\n",
    "### -->We can utilize the power of Regular Expression to determine the pattern in OCR output thus extracting only the data we need.\n",
    "### -->We can also leverage the Domain Knowledge to create Heuristics to correct the OCR Output Data."
   ]
  },
  {
   "cell_type": "markdown",
   "id": "c1fa34f5",
   "metadata": {},
   "source": [
    "### --------------------------------------------------------------------------------------------------------------------------------------------------------------"
   ]
  },
  {
   "cell_type": "markdown",
   "id": "5eaea9e2",
   "metadata": {},
   "source": [
    "# Applications Of OCR\n",
    "\n",
    "### -->Automatic License/Number Plate Recognition System.\n",
    "### -->Traffic Sign Recognition System for Automated Self Driving Cars.\n",
    "### -->Analyzing and Defeating Website CAPTCHAs.\n",
    "### -->Extracting Information from Documents,Bussiness Cards etc.\n",
    "\n",
    "## There are various Custom Applications of OCR in specfic Bussiness Domain."
   ]
  },
  {
   "cell_type": "markdown",
   "id": "683e192f",
   "metadata": {},
   "source": [
    "### ---------------------------------------------------------------------------------------------------------------------------------------------------------"
   ]
  }
 ],
 "metadata": {
  "kernelspec": {
   "display_name": "Python 3 (ipykernel)",
   "language": "python",
   "name": "python3"
  },
  "language_info": {
   "codemirror_mode": {
    "name": "ipython",
    "version": 3
   },
   "file_extension": ".py",
   "mimetype": "text/x-python",
   "name": "python",
   "nbconvert_exporter": "python",
   "pygments_lexer": "ipython3",
   "version": "3.11.4"
  }
 },
 "nbformat": 4,
 "nbformat_minor": 5
}
